{
 "cells": [
  {
   "cell_type": "code",
   "execution_count": 3,
   "metadata": {},
   "outputs": [],
   "source": [
    "import pandas as pd\n",
    "import numpy as np\n",
    "import pickle as pkl\n",
    "\n",
    "from sklearn import neighbors\n",
    "from sklearn.metrics import mean_squared_error\n",
    "from sklearn.model_selection import train_test_split\n",
    "from sklearn.model_selection import GridSearchCV"
   ]
  },
  {
   "cell_type": "code",
   "execution_count": 7,
   "metadata": {},
   "outputs": [],
   "source": [
    "filename = '../features_juli_with_support.pkl'\n",
    "with open(filename,'rb') as file:\n",
    "    train = pkl.load(file)\n",
    "    "
   ]
  },
  {
   "cell_type": "code",
   "execution_count": 8,
   "metadata": {},
   "outputs": [],
   "source": [
    "filename = '../test_features_juli_with_support.pkl'\n",
    "with open(filename,'rb') as file:\n",
    "    test = pkl.load(file)\n",
    "    "
   ]
  },
  {
   "cell_type": "code",
   "execution_count": 9,
   "metadata": {
    "scrolled": true
   },
   "outputs": [
    {
     "data": {
      "text/plain": [
       "Index(['visited site', 'generic listing', 'conversion', 'viewed product',\n",
       "       'person', 'tiempo_promedio_por_dia', 'label', 'modelo_mas_visto',\n",
       "       'condition_mode', 'storage_mode', 'campaing_mode', 'cant_model_vistos',\n",
       "       'event_support'],\n",
       "      dtype='object')"
      ]
     },
     "execution_count": 9,
     "metadata": {},
     "output_type": "execute_result"
    }
   ],
   "source": [
    "train.columns"
   ]
  },
  {
   "cell_type": "code",
   "execution_count": 10,
   "metadata": {},
   "outputs": [],
   "source": [
    "X_train = train[['visited site', 'generic listing', 'conversion', 'viewed product',\n",
    "        'tiempo_promedio_por_dia', 'modelo_mas_visto',\n",
    "       'condition_mode', 'storage_mode', 'campaing_mode', 'cant_model_vistos',\n",
    "       'event_support']]"
   ]
  },
  {
   "cell_type": "code",
   "execution_count": 11,
   "metadata": {},
   "outputs": [],
   "source": [
    "y_train = train.label"
   ]
  },
  {
   "cell_type": "markdown",
   "metadata": {},
   "source": [
    "# Separamos los datos"
   ]
  },
  {
   "cell_type": "code",
   "execution_count": 12,
   "metadata": {},
   "outputs": [],
   "source": [
    "Xtrn, Xtest, Ytrn, Ytest = train_test_split(X_train, y_train ,test_size=0.2)"
   ]
  },
  {
   "cell_type": "markdown",
   "metadata": {},
   "source": [
    "# Intentamos aproximar un poco los parametros"
   ]
  },
  {
   "cell_type": "code",
   "execution_count": 16,
   "metadata": {},
   "outputs": [],
   "source": [
    "param = {'n_neighbors': [1,5,10,15,20], 'algorithm':['auto', 'ball_tree', 'kd_tree']}"
   ]
  },
  {
   "cell_type": "code",
   "execution_count": 18,
   "metadata": {},
   "outputs": [],
   "source": [
    "knn = neighbors.KNeighborsRegressor()\n"
   ]
  },
  {
   "cell_type": "code",
   "execution_count": 24,
   "metadata": {},
   "outputs": [],
   "source": [
    "gs = GridSearchCV( estimator=knn, param_grid=param , cv=2, scoring='roc_auc', verbose=10)"
   ]
  },
  {
   "cell_type": "code",
   "execution_count": 25,
   "metadata": {},
   "outputs": [
    {
     "name": "stdout",
     "output_type": "stream",
     "text": [
      "Fitting 2 folds for each of 15 candidates, totalling 30 fits\n",
      "[CV] algorithm=auto, n_neighbors=1 ...................................\n"
     ]
    },
    {
     "name": "stderr",
     "output_type": "stream",
     "text": [
      "[Parallel(n_jobs=1)]: Using backend SequentialBackend with 1 concurrent workers.\n"
     ]
    },
    {
     "name": "stdout",
     "output_type": "stream",
     "text": [
      "[CV]  algorithm=auto, n_neighbors=1, score=0.5056029757760996, total=   0.8s\n",
      "[CV] algorithm=auto, n_neighbors=1 ...................................\n"
     ]
    },
    {
     "name": "stderr",
     "output_type": "stream",
     "text": [
      "[Parallel(n_jobs=1)]: Done   1 out of   1 | elapsed:    1.2s remaining:    0.0s\n"
     ]
    },
    {
     "name": "stdout",
     "output_type": "stream",
     "text": [
      "[CV]  algorithm=auto, n_neighbors=1, score=0.5094538495598567, total=   0.7s\n",
      "[CV] algorithm=auto, n_neighbors=5 ...................................\n"
     ]
    },
    {
     "name": "stderr",
     "output_type": "stream",
     "text": [
      "[Parallel(n_jobs=1)]: Done   2 out of   2 | elapsed:    2.4s remaining:    0.0s\n"
     ]
    },
    {
     "name": "stdout",
     "output_type": "stream",
     "text": [
      "[CV]  algorithm=auto, n_neighbors=5, score=0.5236425825444614, total=   0.8s\n",
      "[CV] algorithm=auto, n_neighbors=5 ...................................\n"
     ]
    },
    {
     "name": "stderr",
     "output_type": "stream",
     "text": [
      "[Parallel(n_jobs=1)]: Done   3 out of   3 | elapsed:    3.8s remaining:    0.0s\n"
     ]
    },
    {
     "name": "stdout",
     "output_type": "stream",
     "text": [
      "[CV]  algorithm=auto, n_neighbors=5, score=0.525944116050123, total=   0.8s\n",
      "[CV] algorithm=auto, n_neighbors=10 ..................................\n"
     ]
    },
    {
     "name": "stderr",
     "output_type": "stream",
     "text": [
      "[Parallel(n_jobs=1)]: Done   4 out of   4 | elapsed:    5.2s remaining:    0.0s\n"
     ]
    },
    {
     "name": "stdout",
     "output_type": "stream",
     "text": [
      "[CV]  algorithm=auto, n_neighbors=10, score=0.5399298418065253, total=   1.2s\n",
      "[CV] algorithm=auto, n_neighbors=10 ..................................\n"
     ]
    },
    {
     "name": "stderr",
     "output_type": "stream",
     "text": [
      "[Parallel(n_jobs=1)]: Done   5 out of   5 | elapsed:    7.3s remaining:    0.0s\n"
     ]
    },
    {
     "name": "stdout",
     "output_type": "stream",
     "text": [
      "[CV]  algorithm=auto, n_neighbors=10, score=0.5365343042021486, total=   1.1s\n",
      "[CV] algorithm=auto, n_neighbors=15 ..................................\n"
     ]
    },
    {
     "name": "stderr",
     "output_type": "stream",
     "text": [
      "[Parallel(n_jobs=1)]: Done   6 out of   6 | elapsed:    9.2s remaining:    0.0s\n"
     ]
    },
    {
     "name": "stdout",
     "output_type": "stream",
     "text": [
      "[CV]  algorithm=auto, n_neighbors=15, score=0.5415844993326007, total=   1.0s\n",
      "[CV] algorithm=auto, n_neighbors=15 ..................................\n"
     ]
    },
    {
     "name": "stderr",
     "output_type": "stream",
     "text": [
      "[Parallel(n_jobs=1)]: Done   7 out of   7 | elapsed:   10.9s remaining:    0.0s\n"
     ]
    },
    {
     "name": "stdout",
     "output_type": "stream",
     "text": [
      "[CV]  algorithm=auto, n_neighbors=15, score=0.5469291476358614, total=   1.2s\n",
      "[CV] algorithm=auto, n_neighbors=20 ..................................\n"
     ]
    },
    {
     "name": "stderr",
     "output_type": "stream",
     "text": [
      "[Parallel(n_jobs=1)]: Done   8 out of   8 | elapsed:   12.9s remaining:    0.0s\n"
     ]
    },
    {
     "name": "stdout",
     "output_type": "stream",
     "text": [
      "[CV]  algorithm=auto, n_neighbors=20, score=0.5466241950399207, total=   1.1s\n",
      "[CV] algorithm=auto, n_neighbors=20 ..................................\n"
     ]
    },
    {
     "name": "stderr",
     "output_type": "stream",
     "text": [
      "[Parallel(n_jobs=1)]: Done   9 out of   9 | elapsed:   14.9s remaining:    0.0s\n"
     ]
    },
    {
     "name": "stdout",
     "output_type": "stream",
     "text": [
      "[CV]  algorithm=auto, n_neighbors=20, score=0.5537795696806297, total=   1.0s\n",
      "[CV] algorithm=ball_tree, n_neighbors=1 ..............................\n",
      "[CV]  algorithm=ball_tree, n_neighbors=1, score=0.5056029757760996, total=   0.7s\n",
      "[CV] algorithm=ball_tree, n_neighbors=1 ..............................\n",
      "[CV]  algorithm=ball_tree, n_neighbors=1, score=0.5094538495598567, total=   0.7s\n",
      "[CV] algorithm=ball_tree, n_neighbors=5 ..............................\n",
      "[CV]  algorithm=ball_tree, n_neighbors=5, score=0.5236425825444614, total=   0.8s\n",
      "[CV] algorithm=ball_tree, n_neighbors=5 ..............................\n",
      "[CV]  algorithm=ball_tree, n_neighbors=5, score=0.5260275966989747, total=   0.7s\n",
      "[CV] algorithm=ball_tree, n_neighbors=10 .............................\n",
      "[CV]  algorithm=ball_tree, n_neighbors=10, score=0.5399298418065253, total=   1.0s\n",
      "[CV] algorithm=ball_tree, n_neighbors=10 .............................\n",
      "[CV]  algorithm=ball_tree, n_neighbors=10, score=0.5364726954832962, total=   0.9s\n",
      "[CV] algorithm=ball_tree, n_neighbors=15 .............................\n",
      "[CV]  algorithm=ball_tree, n_neighbors=15, score=0.5416902259656753, total=   1.2s\n",
      "[CV] algorithm=ball_tree, n_neighbors=15 .............................\n",
      "[CV]  algorithm=ball_tree, n_neighbors=15, score=0.5479026989627697, total=   0.9s\n",
      "[CV] algorithm=ball_tree, n_neighbors=20 .............................\n",
      "[CV]  algorithm=ball_tree, n_neighbors=20, score=0.5466059786267896, total=   1.1s\n",
      "[CV] algorithm=ball_tree, n_neighbors=20 .............................\n",
      "[CV]  algorithm=ball_tree, n_neighbors=20, score=0.5537411685821579, total=   1.0s\n",
      "[CV] algorithm=kd_tree, n_neighbors=1 ................................\n",
      "[CV]  algorithm=kd_tree, n_neighbors=1, score=0.5056029757760996, total=   0.8s\n",
      "[CV] algorithm=kd_tree, n_neighbors=1 ................................\n",
      "[CV]  algorithm=kd_tree, n_neighbors=1, score=0.5094538495598567, total=   0.7s\n",
      "[CV] algorithm=kd_tree, n_neighbors=5 ................................\n",
      "[CV]  algorithm=kd_tree, n_neighbors=5, score=0.5236425825444614, total=   0.8s\n",
      "[CV] algorithm=kd_tree, n_neighbors=5 ................................\n",
      "[CV]  algorithm=kd_tree, n_neighbors=5, score=0.525944116050123, total=   0.9s\n",
      "[CV] algorithm=kd_tree, n_neighbors=10 ...............................\n",
      "[CV]  algorithm=kd_tree, n_neighbors=10, score=0.5399298418065253, total=   1.0s\n",
      "[CV] algorithm=kd_tree, n_neighbors=10 ...............................\n",
      "[CV]  algorithm=kd_tree, n_neighbors=10, score=0.5365343042021486, total=   1.0s\n",
      "[CV] algorithm=kd_tree, n_neighbors=15 ...............................\n",
      "[CV]  algorithm=kd_tree, n_neighbors=15, score=0.5415844993326007, total=   1.1s\n",
      "[CV] algorithm=kd_tree, n_neighbors=15 ...............................\n",
      "[CV]  algorithm=kd_tree, n_neighbors=15, score=0.5469291476358614, total=   0.9s\n",
      "[CV] algorithm=kd_tree, n_neighbors=20 ...............................\n",
      "[CV]  algorithm=kd_tree, n_neighbors=20, score=0.5466241950399207, total=   1.1s\n",
      "[CV] algorithm=kd_tree, n_neighbors=20 ...............................\n",
      "[CV]  algorithm=kd_tree, n_neighbors=20, score=0.5537795696806297, total=   1.0s\n"
     ]
    },
    {
     "name": "stderr",
     "output_type": "stream",
     "text": [
      "[Parallel(n_jobs=1)]: Done  30 out of  30 | elapsed:   49.7s finished\n"
     ]
    },
    {
     "data": {
      "text/plain": [
       "GridSearchCV(cv=2, error_score='raise-deprecating',\n",
       "       estimator=KNeighborsRegressor(algorithm='auto', leaf_size=30, metric='minkowski',\n",
       "          metric_params=None, n_jobs=None, n_neighbors=5, p=2,\n",
       "          weights='uniform'),\n",
       "       fit_params=None, iid='warn', n_jobs=None,\n",
       "       param_grid={'n_neighbors': [1, 5, 10, 15, 20], 'algorithm': ['auto', 'ball_tree', 'kd_tree']},\n",
       "       pre_dispatch='2*n_jobs', refit=True, return_train_score='warn',\n",
       "       scoring='roc_auc', verbose=10)"
      ]
     },
     "execution_count": 25,
     "metadata": {},
     "output_type": "execute_result"
    }
   ],
   "source": [
    "gs.fit(Xtrn, Ytrn )"
   ]
  },
  {
   "cell_type": "code",
   "execution_count": 26,
   "metadata": {},
   "outputs": [
    {
     "data": {
      "text/plain": [
       "0.5502016520024541"
      ]
     },
     "execution_count": 26,
     "metadata": {},
     "output_type": "execute_result"
    }
   ],
   "source": [
    "gs.best_score_"
   ]
  },
  {
   "cell_type": "code",
   "execution_count": 32,
   "metadata": {},
   "outputs": [
    {
     "data": {
      "text/plain": [
       "{'algorithm': 'auto', 'n_neighbors': 20}"
      ]
     },
     "execution_count": 32,
     "metadata": {},
     "output_type": "execute_result"
    }
   ],
   "source": [
    "gs.best_params_"
   ]
  },
  {
   "cell_type": "code",
   "execution_count": 27,
   "metadata": {},
   "outputs": [],
   "source": [
    "param2 = {'n_neighbors': [20,30,40,50,60,70,80,90,100], 'algorithm':['auto', 'ball_tree', 'kd_tree']}"
   ]
  },
  {
   "cell_type": "code",
   "execution_count": 28,
   "metadata": {},
   "outputs": [],
   "source": [
    "gs2 = GridSearchCV( estimator=knn, param_grid=param2 , cv=2, scoring='roc_auc', verbose=10)"
   ]
  },
  {
   "cell_type": "code",
   "execution_count": 29,
   "metadata": {},
   "outputs": [
    {
     "name": "stdout",
     "output_type": "stream",
     "text": [
      "Fitting 2 folds for each of 27 candidates, totalling 54 fits\n",
      "[CV] algorithm=auto, n_neighbors=20 ..................................\n"
     ]
    },
    {
     "name": "stderr",
     "output_type": "stream",
     "text": [
      "[Parallel(n_jobs=1)]: Using backend SequentialBackend with 1 concurrent workers.\n"
     ]
    },
    {
     "name": "stdout",
     "output_type": "stream",
     "text": [
      "[CV]  algorithm=auto, n_neighbors=20, score=0.5466241950399207, total=   1.1s\n",
      "[CV] algorithm=auto, n_neighbors=20 ..................................\n"
     ]
    },
    {
     "name": "stderr",
     "output_type": "stream",
     "text": [
      "[Parallel(n_jobs=1)]: Done   1 out of   1 | elapsed:    2.0s remaining:    0.0s\n"
     ]
    },
    {
     "name": "stdout",
     "output_type": "stream",
     "text": [
      "[CV]  algorithm=auto, n_neighbors=20, score=0.5537795696806297, total=   1.0s\n",
      "[CV] algorithm=auto, n_neighbors=30 ..................................\n"
     ]
    },
    {
     "name": "stderr",
     "output_type": "stream",
     "text": [
      "[Parallel(n_jobs=1)]: Done   2 out of   2 | elapsed:    3.8s remaining:    0.0s\n"
     ]
    },
    {
     "name": "stdout",
     "output_type": "stream",
     "text": [
      "[CV]  algorithm=auto, n_neighbors=30, score=0.5613134105304441, total=   1.1s\n",
      "[CV] algorithm=auto, n_neighbors=30 ..................................\n"
     ]
    },
    {
     "name": "stderr",
     "output_type": "stream",
     "text": [
      "[Parallel(n_jobs=1)]: Done   3 out of   3 | elapsed:    5.9s remaining:    0.0s\n"
     ]
    },
    {
     "name": "stdout",
     "output_type": "stream",
     "text": [
      "[CV]  algorithm=auto, n_neighbors=30, score=0.5642208283551039, total=   1.1s\n",
      "[CV] algorithm=auto, n_neighbors=40 ..................................\n"
     ]
    },
    {
     "name": "stderr",
     "output_type": "stream",
     "text": [
      "[Parallel(n_jobs=1)]: Done   4 out of   4 | elapsed:    7.9s remaining:    0.0s\n"
     ]
    },
    {
     "name": "stdout",
     "output_type": "stream",
     "text": [
      "[CV]  algorithm=auto, n_neighbors=40, score=0.5699570985611534, total=   1.2s\n",
      "[CV] algorithm=auto, n_neighbors=40 ..................................\n"
     ]
    },
    {
     "name": "stderr",
     "output_type": "stream",
     "text": [
      "[Parallel(n_jobs=1)]: Done   5 out of   5 | elapsed:   10.3s remaining:    0.0s\n"
     ]
    },
    {
     "name": "stdout",
     "output_type": "stream",
     "text": [
      "[CV]  algorithm=auto, n_neighbors=40, score=0.5699107024195363, total=   1.2s\n",
      "[CV] algorithm=auto, n_neighbors=50 ..................................\n"
     ]
    },
    {
     "name": "stderr",
     "output_type": "stream",
     "text": [
      "[Parallel(n_jobs=1)]: Done   6 out of   6 | elapsed:   12.5s remaining:    0.0s\n"
     ]
    },
    {
     "name": "stdout",
     "output_type": "stream",
     "text": [
      "[CV]  algorithm=auto, n_neighbors=50, score=0.5827741311217417, total=   1.5s\n",
      "[CV] algorithm=auto, n_neighbors=50 ..................................\n"
     ]
    },
    {
     "name": "stderr",
     "output_type": "stream",
     "text": [
      "[Parallel(n_jobs=1)]: Done   7 out of   7 | elapsed:   15.3s remaining:    0.0s\n"
     ]
    },
    {
     "name": "stdout",
     "output_type": "stream",
     "text": [
      "[CV]  algorithm=auto, n_neighbors=50, score=0.5665364145929517, total=   1.5s\n",
      "[CV] algorithm=auto, n_neighbors=60 ..................................\n"
     ]
    },
    {
     "name": "stderr",
     "output_type": "stream",
     "text": [
      "[Parallel(n_jobs=1)]: Done   8 out of   8 | elapsed:   17.9s remaining:    0.0s\n"
     ]
    },
    {
     "name": "stdout",
     "output_type": "stream",
     "text": [
      "[CV]  algorithm=auto, n_neighbors=60, score=0.5748882101588293, total=   1.5s\n",
      "[CV] algorithm=auto, n_neighbors=60 ..................................\n"
     ]
    },
    {
     "name": "stderr",
     "output_type": "stream",
     "text": [
      "[Parallel(n_jobs=1)]: Done   9 out of   9 | elapsed:   20.8s remaining:    0.0s\n"
     ]
    },
    {
     "name": "stdout",
     "output_type": "stream",
     "text": [
      "[CV]  algorithm=auto, n_neighbors=60, score=0.5697285476437419, total=   1.4s\n",
      "[CV] algorithm=auto, n_neighbors=70 ..................................\n",
      "[CV]  algorithm=auto, n_neighbors=70, score=0.5781014425613277, total=   1.5s\n",
      "[CV] algorithm=auto, n_neighbors=70 ..................................\n",
      "[CV]  algorithm=auto, n_neighbors=70, score=0.5674855895703953, total=   1.5s\n",
      "[CV] algorithm=auto, n_neighbors=80 ..................................\n",
      "[CV]  algorithm=auto, n_neighbors=80, score=0.580384209155855, total=   1.7s\n",
      "[CV] algorithm=auto, n_neighbors=80 ..................................\n",
      "[CV]  algorithm=auto, n_neighbors=80, score=0.5585922290869287, total=   1.7s\n",
      "[CV] algorithm=auto, n_neighbors=90 ..................................\n",
      "[CV]  algorithm=auto, n_neighbors=90, score=0.5812718128152824, total=   1.8s\n",
      "[CV] algorithm=auto, n_neighbors=90 ..................................\n",
      "[CV]  algorithm=auto, n_neighbors=90, score=0.564471270301659, total=   1.7s\n",
      "[CV] algorithm=auto, n_neighbors=100 .................................\n",
      "[CV]  algorithm=auto, n_neighbors=100, score=0.5838074660862179, total=   1.8s\n",
      "[CV] algorithm=auto, n_neighbors=100 .................................\n",
      "[CV]  algorithm=auto, n_neighbors=100, score=0.5667123918007311, total=   1.8s\n",
      "[CV] algorithm=ball_tree, n_neighbors=20 .............................\n",
      "[CV]  algorithm=ball_tree, n_neighbors=20, score=0.5466059786267896, total=   0.9s\n",
      "[CV] algorithm=ball_tree, n_neighbors=20 .............................\n",
      "[CV]  algorithm=ball_tree, n_neighbors=20, score=0.5537411685821579, total=   0.9s\n",
      "[CV] algorithm=ball_tree, n_neighbors=30 .............................\n",
      "[CV]  algorithm=ball_tree, n_neighbors=30, score=0.5612805495498939, total=   1.1s\n",
      "[CV] algorithm=ball_tree, n_neighbors=30 .............................\n",
      "[CV]  algorithm=ball_tree, n_neighbors=30, score=0.5640605455093087, total=   1.0s\n",
      "[CV] algorithm=ball_tree, n_neighbors=40 .............................\n",
      "[CV]  algorithm=ball_tree, n_neighbors=40, score=0.5699570985611534, total=   1.2s\n",
      "[CV] algorithm=ball_tree, n_neighbors=40 .............................\n",
      "[CV]  algorithm=ball_tree, n_neighbors=40, score=0.5699107024195363, total=   1.1s\n",
      "[CV] algorithm=ball_tree, n_neighbors=50 .............................\n",
      "[CV]  algorithm=ball_tree, n_neighbors=50, score=0.5827741311217417, total=   1.3s\n",
      "[CV] algorithm=ball_tree, n_neighbors=50 .............................\n",
      "[CV]  algorithm=ball_tree, n_neighbors=50, score=0.5666304138035587, total=   1.2s\n",
      "[CV] algorithm=ball_tree, n_neighbors=60 .............................\n",
      "[CV]  algorithm=ball_tree, n_neighbors=60, score=0.5748882101588293, total=   1.4s\n",
      "[CV] algorithm=ball_tree, n_neighbors=60 .............................\n",
      "[CV]  algorithm=ball_tree, n_neighbors=60, score=0.5697021677587049, total=   1.4s\n",
      "[CV] algorithm=ball_tree, n_neighbors=70 .............................\n",
      "[CV]  algorithm=ball_tree, n_neighbors=70, score=0.5781014425613277, total=   1.6s\n",
      "[CV] algorithm=ball_tree, n_neighbors=70 .............................\n",
      "[CV]  algorithm=ball_tree, n_neighbors=70, score=0.5674398421748246, total=   1.5s\n",
      "[CV] algorithm=ball_tree, n_neighbors=80 .............................\n",
      "[CV]  algorithm=ball_tree, n_neighbors=80, score=0.580384209155855, total=   1.6s\n",
      "[CV] algorithm=ball_tree, n_neighbors=80 .............................\n",
      "[CV]  algorithm=ball_tree, n_neighbors=80, score=0.5585743642280745, total=   1.6s\n",
      "[CV] algorithm=ball_tree, n_neighbors=90 .............................\n",
      "[CV]  algorithm=ball_tree, n_neighbors=90, score=0.5813200327323941, total=   2.1s\n",
      "[CV] algorithm=ball_tree, n_neighbors=90 .............................\n",
      "[CV]  algorithm=ball_tree, n_neighbors=90, score=0.5645377208981449, total=   1.9s\n",
      "[CV] algorithm=ball_tree, n_neighbors=100 ............................\n",
      "[CV]  algorithm=ball_tree, n_neighbors=100, score=0.5838074660862179, total=   1.7s\n",
      "[CV] algorithm=ball_tree, n_neighbors=100 ............................\n",
      "[CV]  algorithm=ball_tree, n_neighbors=100, score=0.5666978661678308, total=   1.7s\n",
      "[CV] algorithm=kd_tree, n_neighbors=20 ...............................\n",
      "[CV]  algorithm=kd_tree, n_neighbors=20, score=0.5466241950399207, total=   1.0s\n",
      "[CV] algorithm=kd_tree, n_neighbors=20 ...............................\n",
      "[CV]  algorithm=kd_tree, n_neighbors=20, score=0.5537795696806297, total=   1.1s\n",
      "[CV] algorithm=kd_tree, n_neighbors=30 ...............................\n",
      "[CV]  algorithm=kd_tree, n_neighbors=30, score=0.5613134105304441, total=   1.1s\n",
      "[CV] algorithm=kd_tree, n_neighbors=30 ...............................\n",
      "[CV]  algorithm=kd_tree, n_neighbors=30, score=0.5642208283551039, total=   1.0s\n",
      "[CV] algorithm=kd_tree, n_neighbors=40 ...............................\n",
      "[CV]  algorithm=kd_tree, n_neighbors=40, score=0.5699570985611534, total=   1.2s\n",
      "[CV] algorithm=kd_tree, n_neighbors=40 ...............................\n",
      "[CV]  algorithm=kd_tree, n_neighbors=40, score=0.5699107024195363, total=   1.2s\n",
      "[CV] algorithm=kd_tree, n_neighbors=50 ...............................\n",
      "[CV]  algorithm=kd_tree, n_neighbors=50, score=0.5827741311217417, total=   1.3s\n",
      "[CV] algorithm=kd_tree, n_neighbors=50 ...............................\n",
      "[CV]  algorithm=kd_tree, n_neighbors=50, score=0.5665364145929517, total=   1.3s\n",
      "[CV] algorithm=kd_tree, n_neighbors=60 ...............................\n",
      "[CV]  algorithm=kd_tree, n_neighbors=60, score=0.5748882101588293, total=   1.5s\n",
      "[CV] algorithm=kd_tree, n_neighbors=60 ...............................\n",
      "[CV]  algorithm=kd_tree, n_neighbors=60, score=0.5697285476437419, total=   1.4s\n",
      "[CV] algorithm=kd_tree, n_neighbors=70 ...............................\n",
      "[CV]  algorithm=kd_tree, n_neighbors=70, score=0.5781014425613277, total=   1.5s\n",
      "[CV] algorithm=kd_tree, n_neighbors=70 ...............................\n",
      "[CV]  algorithm=kd_tree, n_neighbors=70, score=0.5674855895703953, total=   1.4s\n",
      "[CV] algorithm=kd_tree, n_neighbors=80 ...............................\n",
      "[CV]  algorithm=kd_tree, n_neighbors=80, score=0.580384209155855, total=   1.6s\n",
      "[CV] algorithm=kd_tree, n_neighbors=80 ...............................\n",
      "[CV]  algorithm=kd_tree, n_neighbors=80, score=0.5585922290869287, total=   1.6s\n",
      "[CV] algorithm=kd_tree, n_neighbors=90 ...............................\n",
      "[CV]  algorithm=kd_tree, n_neighbors=90, score=0.5812718128152824, total=   1.8s\n",
      "[CV] algorithm=kd_tree, n_neighbors=90 ...............................\n",
      "[CV]  algorithm=kd_tree, n_neighbors=90, score=0.564471270301659, total=   1.8s\n",
      "[CV] algorithm=kd_tree, n_neighbors=100 ..............................\n",
      "[CV]  algorithm=kd_tree, n_neighbors=100, score=0.5838074660862179, total=   1.9s\n",
      "[CV] algorithm=kd_tree, n_neighbors=100 ..............................\n",
      "[CV]  algorithm=kd_tree, n_neighbors=100, score=0.5667123918007311, total=   1.9s\n"
     ]
    },
    {
     "name": "stderr",
     "output_type": "stream",
     "text": [
      "[Parallel(n_jobs=1)]: Done  54 out of  54 | elapsed:  2.4min finished\n"
     ]
    },
    {
     "data": {
      "text/plain": [
       "GridSearchCV(cv=2, error_score='raise-deprecating',\n",
       "       estimator=KNeighborsRegressor(algorithm='auto', leaf_size=30, metric='minkowski',\n",
       "          metric_params=None, n_jobs=None, n_neighbors=5, p=2,\n",
       "          weights='uniform'),\n",
       "       fit_params=None, iid='warn', n_jobs=None,\n",
       "       param_grid={'n_neighbors': [20, 30, 40, 50, 60, 70, 80, 90, 100], 'algorithm': ['auto', 'ball_tree', 'kd_tree']},\n",
       "       pre_dispatch='2*n_jobs', refit=True, return_train_score='warn',\n",
       "       scoring='roc_auc', verbose=10)"
      ]
     },
     "execution_count": 29,
     "metadata": {},
     "output_type": "execute_result"
    }
   ],
   "source": [
    "gs2.fit(Xtrn,Ytrn)"
   ]
  },
  {
   "cell_type": "code",
   "execution_count": 30,
   "metadata": {},
   "outputs": [
    {
     "data": {
      "text/plain": [
       "0.5752604792967771"
      ]
     },
     "execution_count": 30,
     "metadata": {},
     "output_type": "execute_result"
    }
   ],
   "source": [
    "gs2.best_score_"
   ]
  },
  {
   "cell_type": "code",
   "execution_count": 36,
   "metadata": {},
   "outputs": [
    {
     "data": {
      "text/plain": [
       "{'algorithm': 'auto', 'n_neighbors': 100}"
      ]
     },
     "execution_count": 36,
     "metadata": {},
     "output_type": "execute_result"
    }
   ],
   "source": [
    "gs2.best_params_"
   ]
  },
  {
   "cell_type": "code",
   "execution_count": 31,
   "metadata": {},
   "outputs": [
    {
     "data": {
      "text/plain": [
       "{'algorithm': 'auto', 'n_neighbors': 20}"
      ]
     },
     "execution_count": 31,
     "metadata": {},
     "output_type": "execute_result"
    }
   ],
   "source": [
    "gs.best_params_"
   ]
  },
  {
   "cell_type": "code",
   "execution_count": 37,
   "metadata": {},
   "outputs": [],
   "source": [
    "param3 = {'n_neighbors': [15,16,17,18,19,20,21,22,23,24,35, 100], 'algorithm':['auto']}"
   ]
  },
  {
   "cell_type": "code",
   "execution_count": 38,
   "metadata": {},
   "outputs": [],
   "source": [
    "gs3 = GridSearchCV( estimator=knn, param_grid=param3 , cv=2, scoring='roc_auc', verbose=10)"
   ]
  },
  {
   "cell_type": "code",
   "execution_count": 39,
   "metadata": {},
   "outputs": [
    {
     "name": "stdout",
     "output_type": "stream",
     "text": [
      "Fitting 2 folds for each of 12 candidates, totalling 24 fits\n",
      "[CV] algorithm=auto, n_neighbors=15 ..................................\n"
     ]
    },
    {
     "name": "stderr",
     "output_type": "stream",
     "text": [
      "[Parallel(n_jobs=1)]: Using backend SequentialBackend with 1 concurrent workers.\n"
     ]
    },
    {
     "name": "stdout",
     "output_type": "stream",
     "text": [
      "[CV]  algorithm=auto, n_neighbors=15, score=0.5415844993326007, total=   1.0s\n",
      "[CV] algorithm=auto, n_neighbors=15 ..................................\n"
     ]
    },
    {
     "name": "stderr",
     "output_type": "stream",
     "text": [
      "[Parallel(n_jobs=1)]: Done   1 out of   1 | elapsed:    1.8s remaining:    0.0s\n"
     ]
    },
    {
     "name": "stdout",
     "output_type": "stream",
     "text": [
      "[CV]  algorithm=auto, n_neighbors=15, score=0.5469291476358614, total=   1.0s\n",
      "[CV] algorithm=auto, n_neighbors=16 ..................................\n"
     ]
    },
    {
     "name": "stderr",
     "output_type": "stream",
     "text": [
      "[Parallel(n_jobs=1)]: Done   2 out of   2 | elapsed:    3.5s remaining:    0.0s\n"
     ]
    },
    {
     "name": "stdout",
     "output_type": "stream",
     "text": [
      "[CV]  algorithm=auto, n_neighbors=16, score=0.5489710762649781, total=   0.9s\n",
      "[CV] algorithm=auto, n_neighbors=16 ..................................\n"
     ]
    },
    {
     "name": "stderr",
     "output_type": "stream",
     "text": [
      "[Parallel(n_jobs=1)]: Done   3 out of   3 | elapsed:    5.1s remaining:    0.0s\n"
     ]
    },
    {
     "name": "stdout",
     "output_type": "stream",
     "text": [
      "[CV]  algorithm=auto, n_neighbors=16, score=0.5468045945077746, total=   0.9s\n",
      "[CV] algorithm=auto, n_neighbors=17 ..................................\n"
     ]
    },
    {
     "name": "stderr",
     "output_type": "stream",
     "text": [
      "[Parallel(n_jobs=1)]: Done   4 out of   4 | elapsed:    6.7s remaining:    0.0s\n"
     ]
    },
    {
     "name": "stdout",
     "output_type": "stream",
     "text": [
      "[CV]  algorithm=auto, n_neighbors=17, score=0.5460332331668734, total=   0.9s\n",
      "[CV] algorithm=auto, n_neighbors=17 ..................................\n"
     ]
    },
    {
     "name": "stderr",
     "output_type": "stream",
     "text": [
      "[Parallel(n_jobs=1)]: Done   5 out of   5 | elapsed:    8.3s remaining:    0.0s\n"
     ]
    },
    {
     "name": "stdout",
     "output_type": "stream",
     "text": [
      "[CV]  algorithm=auto, n_neighbors=17, score=0.5518722038156667, total=   1.0s\n",
      "[CV] algorithm=auto, n_neighbors=18 ..................................\n"
     ]
    },
    {
     "name": "stderr",
     "output_type": "stream",
     "text": [
      "[Parallel(n_jobs=1)]: Done   6 out of   6 | elapsed:   10.3s remaining:    0.0s\n"
     ]
    },
    {
     "name": "stdout",
     "output_type": "stream",
     "text": [
      "[CV]  algorithm=auto, n_neighbors=18, score=0.5510500690616368, total=   1.3s\n",
      "[CV] algorithm=auto, n_neighbors=18 ..................................\n"
     ]
    },
    {
     "name": "stderr",
     "output_type": "stream",
     "text": [
      "[Parallel(n_jobs=1)]: Done   7 out of   7 | elapsed:   12.6s remaining:    0.0s\n"
     ]
    },
    {
     "name": "stdout",
     "output_type": "stream",
     "text": [
      "[CV]  algorithm=auto, n_neighbors=18, score=0.5478850010652131, total=   1.2s\n",
      "[CV] algorithm=auto, n_neighbors=19 ..................................\n"
     ]
    },
    {
     "name": "stderr",
     "output_type": "stream",
     "text": [
      "[Parallel(n_jobs=1)]: Done   8 out of   8 | elapsed:   15.0s remaining:    0.0s\n"
     ]
    },
    {
     "name": "stdout",
     "output_type": "stream",
     "text": [
      "[CV]  algorithm=auto, n_neighbors=19, score=0.5443889339933627, total=   1.1s\n",
      "[CV] algorithm=auto, n_neighbors=19 ..................................\n"
     ]
    },
    {
     "name": "stderr",
     "output_type": "stream",
     "text": [
      "[Parallel(n_jobs=1)]: Done   9 out of   9 | elapsed:   16.8s remaining:    0.0s\n"
     ]
    },
    {
     "name": "stdout",
     "output_type": "stream",
     "text": [
      "[CV]  algorithm=auto, n_neighbors=19, score=0.5497724985357494, total=   1.1s\n",
      "[CV] algorithm=auto, n_neighbors=20 ..................................\n",
      "[CV]  algorithm=auto, n_neighbors=20, score=0.5466241950399207, total=   0.9s\n",
      "[CV] algorithm=auto, n_neighbors=20 ..................................\n",
      "[CV]  algorithm=auto, n_neighbors=20, score=0.5537795696806297, total=   0.9s\n",
      "[CV] algorithm=auto, n_neighbors=21 ..................................\n",
      "[CV]  algorithm=auto, n_neighbors=21, score=0.5453270792696147, total=   0.9s\n",
      "[CV] algorithm=auto, n_neighbors=21 ..................................\n",
      "[CV]  algorithm=auto, n_neighbors=21, score=0.5548750027548613, total=   0.9s\n",
      "[CV] algorithm=auto, n_neighbors=22 ..................................\n",
      "[CV]  algorithm=auto, n_neighbors=22, score=0.5453219000933323, total=   0.9s\n",
      "[CV] algorithm=auto, n_neighbors=22 ..................................\n",
      "[CV]  algorithm=auto, n_neighbors=22, score=0.5510956668200484, total=   1.1s\n",
      "[CV] algorithm=auto, n_neighbors=23 ..................................\n",
      "[CV]  algorithm=auto, n_neighbors=23, score=0.5498159963681474, total=   1.0s\n",
      "[CV] algorithm=auto, n_neighbors=23 ..................................\n",
      "[CV]  algorithm=auto, n_neighbors=23, score=0.5534139244386594, total=   1.0s\n",
      "[CV] algorithm=auto, n_neighbors=24 ..................................\n",
      "[CV]  algorithm=auto, n_neighbors=24, score=0.5469636989748445, total=   1.8s\n",
      "[CV] algorithm=auto, n_neighbors=24 ..................................\n",
      "[CV]  algorithm=auto, n_neighbors=24, score=0.5566326043357845, total=   1.4s\n",
      "[CV] algorithm=auto, n_neighbors=35 ..................................\n",
      "[CV]  algorithm=auto, n_neighbors=35, score=0.5658759076506436, total=   1.6s\n",
      "[CV] algorithm=auto, n_neighbors=35 ..................................\n",
      "[CV]  algorithm=auto, n_neighbors=35, score=0.5631026885443847, total=   1.5s\n",
      "[CV] algorithm=auto, n_neighbors=100 .................................\n",
      "[CV]  algorithm=auto, n_neighbors=100, score=0.5838074660862179, total=   2.6s\n",
      "[CV] algorithm=auto, n_neighbors=100 .................................\n",
      "[CV]  algorithm=auto, n_neighbors=100, score=0.5667123918007311, total=   3.1s\n"
     ]
    },
    {
     "name": "stderr",
     "output_type": "stream",
     "text": [
      "[Parallel(n_jobs=1)]: Done  24 out of  24 | elapsed:   55.3s finished\n"
     ]
    },
    {
     "data": {
      "text/plain": [
       "GridSearchCV(cv=2, error_score='raise-deprecating',\n",
       "       estimator=KNeighborsRegressor(algorithm='auto', leaf_size=30, metric='minkowski',\n",
       "          metric_params=None, n_jobs=None, n_neighbors=5, p=2,\n",
       "          weights='uniform'),\n",
       "       fit_params=None, iid='warn', n_jobs=None,\n",
       "       param_grid={'n_neighbors': [15, 16, 17, 18, 19, 20, 21, 22, 23, 24, 35, 100], 'algorithm': ['auto']},\n",
       "       pre_dispatch='2*n_jobs', refit=True, return_train_score='warn',\n",
       "       scoring='roc_auc', verbose=10)"
      ]
     },
     "execution_count": 39,
     "metadata": {},
     "output_type": "execute_result"
    }
   ],
   "source": [
    "gs3.fit(Xtrn,Ytrn)"
   ]
  },
  {
   "cell_type": "code",
   "execution_count": 40,
   "metadata": {},
   "outputs": [],
   "source": [
    "filename = '../features_chicas.pkl'\n",
    "with open(filename,'rb') as file:\n",
    "    df_chicas = pkl.load(file)"
   ]
  },
  {
   "cell_type": "code",
   "execution_count": 41,
   "metadata": {},
   "outputs": [
    {
     "data": {
      "text/plain": [
       "(38829, 28)"
      ]
     },
     "execution_count": 41,
     "metadata": {},
     "output_type": "execute_result"
    }
   ],
   "source": [
    "df_chicas.shape"
   ]
  },
  {
   "cell_type": "code",
   "execution_count": 47,
   "metadata": {},
   "outputs": [],
   "source": [
    "person_train= pd.DataFrame()"
   ]
  },
  {
   "cell_type": "code",
   "execution_count": 48,
   "metadata": {},
   "outputs": [],
   "source": [
    "person_train['person'] = train.person.unique()"
   ]
  },
  {
   "cell_type": "code",
   "execution_count": 50,
   "metadata": {},
   "outputs": [],
   "source": [
    "train_chicas = pd.merge(df_chicas, person_train, on='person', how='right')"
   ]
  },
  {
   "cell_type": "code",
   "execution_count": 51,
   "metadata": {},
   "outputs": [
    {
     "data": {
      "text/plain": [
       "(19414, 28)"
      ]
     },
     "execution_count": 51,
     "metadata": {},
     "output_type": "execute_result"
    }
   ],
   "source": [
    "train_chicas.shape"
   ]
  },
  {
   "cell_type": "code",
   "execution_count": 52,
   "metadata": {},
   "outputs": [
    {
     "data": {
      "text/plain": [
       "Index(['person', 'cant_eventos_totales', 'cant_ach', 'cant_bl', 'cant_ch',\n",
       "       'cant_cv', 'cant_gl', 'cant_l', 'cant_seh', 'cant_s_p', 'cant_sp',\n",
       "       'cant_vp', 'cant_vs', 'Returning', 'tiempo_total',\n",
       "       'tiempo_new_returning', 'channel_frecuente', 'device_frecuente', 'q1',\n",
       "       'q2', 'q3', 'q4', 'q5', 'q6', 'q7', 'q8', 'q9', 'q10'],\n",
       "      dtype='object')"
      ]
     },
     "execution_count": 52,
     "metadata": {},
     "output_type": "execute_result"
    }
   ],
   "source": [
    "train_chicas.columns"
   ]
  },
  {
   "cell_type": "code",
   "execution_count": 68,
   "metadata": {},
   "outputs": [],
   "source": [
    "X_train_chicas = train_chicas[['cant_eventos_totales', 'cant_ach', 'cant_bl', 'cant_ch',\n",
    "       'cant_cv', 'cant_gl', 'cant_l', 'cant_seh', 'cant_s_p', 'cant_sp',\n",
    "       'cant_vp', 'cant_vs', 'Returning', 'tiempo_total',\n",
    "       'tiempo_new_returning', 'channel_frecuente', 'device_frecuente', 'q1',\n",
    "       'q2', 'q3', 'q4', 'q5', 'q6', 'q7', 'q8', 'q9', 'q10']]"
   ]
  },
  {
   "cell_type": "code",
   "execution_count": 108,
   "metadata": {},
   "outputs": [
    {
     "data": {
      "text/plain": [
       "0"
      ]
     },
     "execution_count": 108,
     "metadata": {},
     "output_type": "execute_result"
    }
   ],
   "source": [
    "sum(pd.isnull(X_train_chicas[ 'tiempo_total']))"
   ]
  },
  {
   "cell_type": "code",
   "execution_count": 85,
   "metadata": {},
   "outputs": [
    {
     "name": "stderr",
     "output_type": "stream",
     "text": [
      "/home/july/anaconda3/lib/python3.6/site-packages/pandas/core/generic.py:3660: SettingWithCopyWarning: \n",
      "A value is trying to be set on a copy of a slice from a DataFrame\n",
      "\n",
      "See the caveats in the documentation: http://pandas.pydata.org/pandas-docs/stable/indexing.html#indexing-view-versus-copy\n",
      "  self._update_inplace(new_data)\n"
     ]
    }
   ],
   "source": [
    "X_train_chicas['device_frecuente'].fillna(X_train_chicas['device_frecuente'].mode()[0], inplace=True)"
   ]
  },
  {
   "cell_type": "code",
   "execution_count": 107,
   "metadata": {},
   "outputs": [
    {
     "name": "stderr",
     "output_type": "stream",
     "text": [
      "/home/july/anaconda3/lib/python3.6/site-packages/pandas/core/generic.py:3660: SettingWithCopyWarning: \n",
      "A value is trying to be set on a copy of a slice from a DataFrame\n",
      "\n",
      "See the caveats in the documentation: http://pandas.pydata.org/pandas-docs/stable/indexing.html#indexing-view-versus-copy\n",
      "  self._update_inplace(new_data)\n"
     ]
    }
   ],
   "source": [
    "X_train_chicas[ 'Returning'].fillna(X_train_chicas['Returning'].mode()[0], inplace=True)"
   ]
  },
  {
   "cell_type": "code",
   "execution_count": 76,
   "metadata": {},
   "outputs": [
    {
     "data": {
      "text/plain": [
       "0"
      ]
     },
     "execution_count": 76,
     "metadata": {},
     "output_type": "execute_result"
    }
   ],
   "source": [
    "sum(pd.isnull(X_train_chicas[ 'cant_ach']))"
   ]
  },
  {
   "cell_type": "code",
   "execution_count": null,
   "metadata": {},
   "outputs": [],
   "source": []
  },
  {
   "cell_type": "code",
   "execution_count": 61,
   "metadata": {},
   "outputs": [],
   "source": [
    "import category_encoders as ce"
   ]
  },
  {
   "cell_type": "code",
   "execution_count": 62,
   "metadata": {},
   "outputs": [],
   "source": [
    "te_channel_frecuente = ce.TargetEncoder(handle_unknown='ignore')"
   ]
  },
  {
   "cell_type": "code",
   "execution_count": 65,
   "metadata": {},
   "outputs": [],
   "source": [
    "train_chicas.channel_frecuente = te_channel_frecuente.fit_transform(pd.DataFrame(train_chicas.channel_frecuente), y_train)"
   ]
  },
  {
   "cell_type": "code",
   "execution_count": 66,
   "metadata": {},
   "outputs": [],
   "source": [
    "te_device_frecuente = ce.TargetEncoder(handle_unknown='ignore')"
   ]
  },
  {
   "cell_type": "code",
   "execution_count": 67,
   "metadata": {},
   "outputs": [],
   "source": [
    "train_chicas.device_frecuente = te_device_frecuente.fit_transform(pd.DataFrame(train_chicas.device_frecuente), y_train)"
   ]
  },
  {
   "cell_type": "code",
   "execution_count": 110,
   "metadata": {},
   "outputs": [],
   "source": [
    "XtrnChicas, XtestChicas, YtrnChicas, YtestChicas = train_test_split(X_train_chicas, y_train ,test_size=0.2)"
   ]
  },
  {
   "cell_type": "code",
   "execution_count": 70,
   "metadata": {},
   "outputs": [],
   "source": [
    "paramC= {'n_neighbors': [1,5,10,15,20], 'algorithm':['auto', 'ball_tree', 'kd_tree']}"
   ]
  },
  {
   "cell_type": "code",
   "execution_count": 71,
   "metadata": {},
   "outputs": [],
   "source": [
    "knnC = neighbors.KNeighborsRegressor()"
   ]
  },
  {
   "cell_type": "code",
   "execution_count": 72,
   "metadata": {},
   "outputs": [],
   "source": [
    "gsC = GridSearchCV( estimator=knnC, param_grid=paramC , cv=2, scoring='roc_auc', verbose=10)"
   ]
  },
  {
   "cell_type": "code",
   "execution_count": 111,
   "metadata": {},
   "outputs": [
    {
     "name": "stdout",
     "output_type": "stream",
     "text": [
      "Fitting 2 folds for each of 15 candidates, totalling 30 fits\n",
      "[CV] algorithm=auto, n_neighbors=1 ...................................\n"
     ]
    },
    {
     "name": "stderr",
     "output_type": "stream",
     "text": [
      "[Parallel(n_jobs=1)]: Using backend SequentialBackend with 1 concurrent workers.\n"
     ]
    },
    {
     "name": "stdout",
     "output_type": "stream",
     "text": [
      "[CV]  algorithm=auto, n_neighbors=1, score=0.5043667853589121, total=   2.8s\n",
      "[CV] algorithm=auto, n_neighbors=1 ...................................\n"
     ]
    },
    {
     "name": "stderr",
     "output_type": "stream",
     "text": [
      "[Parallel(n_jobs=1)]: Done   1 out of   1 | elapsed:    4.4s remaining:    0.0s\n"
     ]
    },
    {
     "name": "stdout",
     "output_type": "stream",
     "text": [
      "[CV]  algorithm=auto, n_neighbors=1, score=0.5014298601714028, total=   2.7s\n",
      "[CV] algorithm=auto, n_neighbors=5 ...................................\n"
     ]
    },
    {
     "name": "stderr",
     "output_type": "stream",
     "text": [
      "[Parallel(n_jobs=1)]: Done   2 out of   2 | elapsed:    8.8s remaining:    0.0s\n"
     ]
    },
    {
     "name": "stdout",
     "output_type": "stream",
     "text": [
      "[CV]  algorithm=auto, n_neighbors=5, score=0.4869587792553255, total=   2.8s\n",
      "[CV] algorithm=auto, n_neighbors=5 ...................................\n"
     ]
    },
    {
     "name": "stderr",
     "output_type": "stream",
     "text": [
      "[Parallel(n_jobs=1)]: Done   3 out of   3 | elapsed:   13.6s remaining:    0.0s\n"
     ]
    },
    {
     "name": "stdout",
     "output_type": "stream",
     "text": [
      "[CV]  algorithm=auto, n_neighbors=5, score=0.503258096526838, total=   2.9s\n",
      "[CV] algorithm=auto, n_neighbors=10 ..................................\n"
     ]
    },
    {
     "name": "stderr",
     "output_type": "stream",
     "text": [
      "[Parallel(n_jobs=1)]: Done   4 out of   4 | elapsed:   18.5s remaining:    0.0s\n"
     ]
    },
    {
     "name": "stdout",
     "output_type": "stream",
     "text": [
      "[CV]  algorithm=auto, n_neighbors=10, score=0.4812219683998561, total=   2.8s\n",
      "[CV] algorithm=auto, n_neighbors=10 ..................................\n"
     ]
    },
    {
     "name": "stderr",
     "output_type": "stream",
     "text": [
      "[Parallel(n_jobs=1)]: Done   5 out of   5 | elapsed:   23.4s remaining:    0.0s\n"
     ]
    },
    {
     "name": "stdout",
     "output_type": "stream",
     "text": [
      "[CV]  algorithm=auto, n_neighbors=10, score=0.5057762742444745, total=   3.0s\n",
      "[CV] algorithm=auto, n_neighbors=15 ..................................\n"
     ]
    },
    {
     "name": "stderr",
     "output_type": "stream",
     "text": [
      "[Parallel(n_jobs=1)]: Done   6 out of   6 | elapsed:   28.7s remaining:    0.0s\n"
     ]
    },
    {
     "name": "stdout",
     "output_type": "stream",
     "text": [
      "[CV]  algorithm=auto, n_neighbors=15, score=0.5012001396004024, total=   3.1s\n",
      "[CV] algorithm=auto, n_neighbors=15 ..................................\n"
     ]
    },
    {
     "name": "stderr",
     "output_type": "stream",
     "text": [
      "[Parallel(n_jobs=1)]: Done   7 out of   7 | elapsed:   34.4s remaining:    0.0s\n"
     ]
    },
    {
     "name": "stdout",
     "output_type": "stream",
     "text": [
      "[CV]  algorithm=auto, n_neighbors=15, score=0.4986136220117276, total=   3.3s\n",
      "[CV] algorithm=auto, n_neighbors=20 ..................................\n"
     ]
    },
    {
     "name": "stderr",
     "output_type": "stream",
     "text": [
      "[Parallel(n_jobs=1)]: Done   8 out of   8 | elapsed:   40.2s remaining:    0.0s\n"
     ]
    },
    {
     "name": "stdout",
     "output_type": "stream",
     "text": [
      "[CV]  algorithm=auto, n_neighbors=20, score=0.4880963652963791, total=   3.2s\n",
      "[CV] algorithm=auto, n_neighbors=20 ..................................\n"
     ]
    },
    {
     "name": "stderr",
     "output_type": "stream",
     "text": [
      "[Parallel(n_jobs=1)]: Done   9 out of   9 | elapsed:   45.8s remaining:    0.0s\n"
     ]
    },
    {
     "name": "stdout",
     "output_type": "stream",
     "text": [
      "[CV]  algorithm=auto, n_neighbors=20, score=0.47841262967974735, total=   3.3s\n",
      "[CV] algorithm=ball_tree, n_neighbors=1 ..............................\n",
      "[CV]  algorithm=ball_tree, n_neighbors=1, score=0.5043667853589121, total=   2.1s\n",
      "[CV] algorithm=ball_tree, n_neighbors=1 ..............................\n",
      "[CV]  algorithm=ball_tree, n_neighbors=1, score=0.5001641858367163, total=   2.2s\n",
      "[CV] algorithm=ball_tree, n_neighbors=5 ..............................\n",
      "[CV]  algorithm=ball_tree, n_neighbors=5, score=0.4870252637760541, total=   2.2s\n",
      "[CV] algorithm=ball_tree, n_neighbors=5 ..............................\n",
      "[CV]  algorithm=ball_tree, n_neighbors=5, score=0.5031909788001804, total=   2.7s\n",
      "[CV] algorithm=ball_tree, n_neighbors=10 .............................\n",
      "[CV]  algorithm=ball_tree, n_neighbors=10, score=0.48134707551855366, total=   2.8s\n",
      "[CV] algorithm=ball_tree, n_neighbors=10 .............................\n",
      "[CV]  algorithm=ball_tree, n_neighbors=10, score=0.5055308976093821, total=   3.3s\n",
      "[CV] algorithm=ball_tree, n_neighbors=15 .............................\n",
      "[CV]  algorithm=ball_tree, n_neighbors=15, score=0.5005318761658292, total=   2.5s\n",
      "[CV] algorithm=ball_tree, n_neighbors=15 .............................\n",
      "[CV]  algorithm=ball_tree, n_neighbors=15, score=0.49866107352277855, total=   2.9s\n",
      "[CV] algorithm=ball_tree, n_neighbors=20 .............................\n",
      "[CV]  algorithm=ball_tree, n_neighbors=20, score=0.488026633459728, total=   3.2s\n",
      "[CV] algorithm=ball_tree, n_neighbors=20 .............................\n",
      "[CV]  algorithm=ball_tree, n_neighbors=20, score=0.477910148849797, total=   3.5s\n",
      "[CV] algorithm=kd_tree, n_neighbors=1 ................................\n",
      "[CV]  algorithm=kd_tree, n_neighbors=1, score=0.5043667853589121, total=   3.0s\n",
      "[CV] algorithm=kd_tree, n_neighbors=1 ................................\n",
      "[CV]  algorithm=kd_tree, n_neighbors=1, score=0.5014298601714028, total=   2.7s\n",
      "[CV] algorithm=kd_tree, n_neighbors=5 ................................\n",
      "[CV]  algorithm=kd_tree, n_neighbors=5, score=0.4869587792553255, total=   3.5s\n",
      "[CV] algorithm=kd_tree, n_neighbors=5 ................................\n",
      "[CV]  algorithm=kd_tree, n_neighbors=5, score=0.503258096526838, total=   3.7s\n",
      "[CV] algorithm=kd_tree, n_neighbors=10 ...............................\n",
      "[CV]  algorithm=kd_tree, n_neighbors=10, score=0.4812219683998561, total=   3.0s\n",
      "[CV] algorithm=kd_tree, n_neighbors=10 ...............................\n",
      "[CV]  algorithm=kd_tree, n_neighbors=10, score=0.5057762742444745, total=   3.2s\n",
      "[CV] algorithm=kd_tree, n_neighbors=15 ...............................\n",
      "[CV]  algorithm=kd_tree, n_neighbors=15, score=0.5012001396004024, total=   3.1s\n",
      "[CV] algorithm=kd_tree, n_neighbors=15 ...............................\n",
      "[CV]  algorithm=kd_tree, n_neighbors=15, score=0.4986136220117276, total=   3.5s\n",
      "[CV] algorithm=kd_tree, n_neighbors=20 ...............................\n",
      "[CV]  algorithm=kd_tree, n_neighbors=20, score=0.4880963652963791, total=   4.3s\n",
      "[CV] algorithm=kd_tree, n_neighbors=20 ...............................\n",
      "[CV]  algorithm=kd_tree, n_neighbors=20, score=0.47841262967974735, total=   3.4s\n"
     ]
    },
    {
     "name": "stderr",
     "output_type": "stream",
     "text": [
      "[Parallel(n_jobs=1)]: Done  30 out of  30 | elapsed:  2.6min finished\n"
     ]
    },
    {
     "data": {
      "text/plain": [
       "GridSearchCV(cv=2, error_score='raise-deprecating',\n",
       "       estimator=KNeighborsRegressor(algorithm='auto', leaf_size=30, metric='minkowski',\n",
       "          metric_params=None, n_jobs=None, n_neighbors=5, p=2,\n",
       "          weights='uniform'),\n",
       "       fit_params=None, iid='warn', n_jobs=None,\n",
       "       param_grid={'n_neighbors': [1, 5, 10, 15, 20], 'algorithm': ['auto', 'ball_tree', 'kd_tree']},\n",
       "       pre_dispatch='2*n_jobs', refit=True, return_train_score='warn',\n",
       "       scoring='roc_auc', verbose=10)"
      ]
     },
     "execution_count": 111,
     "metadata": {},
     "output_type": "execute_result"
    }
   ],
   "source": [
    "gsC.fit(XtrnChicas,YtrnChicas)"
   ]
  },
  {
   "cell_type": "code",
   "execution_count": 112,
   "metadata": {},
   "outputs": [
    {
     "data": {
      "text/plain": [
       "0.5028984173155788"
      ]
     },
     "execution_count": 112,
     "metadata": {},
     "output_type": "execute_result"
    }
   ],
   "source": [
    "gsC.best_score_"
   ]
  },
  {
   "cell_type": "code",
   "execution_count": 114,
   "metadata": {},
   "outputs": [],
   "source": [
    "labels_df = pd.read_csv(\"../data/fiuba-trocafone-tp2-final-set/labels_training_set.csv\", low_memory=False)"
   ]
  },
  {
   "cell_type": "code",
   "execution_count": 115,
   "metadata": {},
   "outputs": [],
   "source": [
    "train2 = pd.merge(df_chicas, labels_df, on='person', how='right')"
   ]
  },
  {
   "cell_type": "code",
   "execution_count": 116,
   "metadata": {},
   "outputs": [
    {
     "data": {
      "text/plain": [
       "Index(['person', 'cant_eventos_totales', 'cant_ach', 'cant_bl', 'cant_ch',\n",
       "       'cant_cv', 'cant_gl', 'cant_l', 'cant_seh', 'cant_s_p', 'cant_sp',\n",
       "       'cant_vp', 'cant_vs', 'Returning', 'tiempo_total',\n",
       "       'tiempo_new_returning', 'channel_frecuente', 'device_frecuente', 'q1',\n",
       "       'q2', 'q3', 'q4', 'q5', 'q6', 'q7', 'q8', 'q9', 'q10', 'label'],\n",
       "      dtype='object')"
      ]
     },
     "execution_count": 116,
     "metadata": {},
     "output_type": "execute_result"
    }
   ],
   "source": [
    "train2.columns"
   ]
  },
  {
   "cell_type": "code",
   "execution_count": 117,
   "metadata": {},
   "outputs": [],
   "source": [
    "X_train2 = train2[[ 'cant_eventos_totales', 'cant_ach', 'cant_bl', 'cant_ch',\n",
    "       'cant_cv', 'cant_gl', 'cant_l', 'cant_seh', 'cant_s_p', 'cant_sp',\n",
    "       'cant_vp', 'cant_vs', 'Returning', 'tiempo_total',\n",
    "       'tiempo_new_returning', 'channel_frecuente', 'device_frecuente', 'q1',\n",
    "       'q2', 'q3', 'q4', 'q5', 'q6', 'q7', 'q8', 'q9', 'q10']]"
   ]
  },
  {
   "cell_type": "code",
   "execution_count": 118,
   "metadata": {},
   "outputs": [
    {
     "name": "stderr",
     "output_type": "stream",
     "text": [
      "/home/july/anaconda3/lib/python3.6/site-packages/pandas/core/generic.py:3660: SettingWithCopyWarning: \n",
      "A value is trying to be set on a copy of a slice from a DataFrame\n",
      "\n",
      "See the caveats in the documentation: http://pandas.pydata.org/pandas-docs/stable/indexing.html#indexing-view-versus-copy\n",
      "  self._update_inplace(new_data)\n"
     ]
    }
   ],
   "source": [
    "X_train2['device_frecuente'].fillna(X_train_chicas['device_frecuente'].mode()[0], inplace=True)"
   ]
  },
  {
   "cell_type": "code",
   "execution_count": 121,
   "metadata": {},
   "outputs": [
    {
     "name": "stderr",
     "output_type": "stream",
     "text": [
      "/home/july/anaconda3/lib/python3.6/site-packages/pandas/core/generic.py:3660: SettingWithCopyWarning: \n",
      "A value is trying to be set on a copy of a slice from a DataFrame\n",
      "\n",
      "See the caveats in the documentation: http://pandas.pydata.org/pandas-docs/stable/indexing.html#indexing-view-versus-copy\n",
      "  self._update_inplace(new_data)\n"
     ]
    }
   ],
   "source": [
    "X_train2['Returning'].fillna(X_train_chicas['device_frecuente'].mode()[0], inplace=True)"
   ]
  },
  {
   "cell_type": "code",
   "execution_count": 152,
   "metadata": {},
   "outputs": [],
   "source": [
    "y_train2 = train2.label"
   ]
  },
  {
   "cell_type": "code",
   "execution_count": 153,
   "metadata": {},
   "outputs": [
    {
     "data": {
      "text/plain": [
       "(19414, 27)"
      ]
     },
     "execution_count": 153,
     "metadata": {},
     "output_type": "execute_result"
    }
   ],
   "source": [
    "X_train2.shape"
   ]
  },
  {
   "cell_type": "code",
   "execution_count": 154,
   "metadata": {},
   "outputs": [
    {
     "data": {
      "text/plain": [
       "(19414,)"
      ]
     },
     "execution_count": 154,
     "metadata": {},
     "output_type": "execute_result"
    }
   ],
   "source": [
    "y_train2.shape"
   ]
  },
  {
   "cell_type": "code",
   "execution_count": 125,
   "metadata": {},
   "outputs": [
    {
     "name": "stderr",
     "output_type": "stream",
     "text": [
      "/home/july/anaconda3/lib/python3.6/site-packages/pandas/core/generic.py:3110: SettingWithCopyWarning: \n",
      "A value is trying to be set on a copy of a slice from a DataFrame.\n",
      "Try using .loc[row_indexer,col_indexer] = value instead\n",
      "\n",
      "See the caveats in the documentation: http://pandas.pydata.org/pandas-docs/stable/indexing.html#indexing-view-versus-copy\n",
      "  self[name] = value\n"
     ]
    }
   ],
   "source": [
    "X_train2.channel_frecuente = te_channel_frecuente.fit_transform(pd.DataFrame(X_train2.channel_frecuente), y_train2)"
   ]
  },
  {
   "cell_type": "code",
   "execution_count": 126,
   "metadata": {},
   "outputs": [
    {
     "name": "stderr",
     "output_type": "stream",
     "text": [
      "/home/july/anaconda3/lib/python3.6/site-packages/pandas/core/generic.py:3110: SettingWithCopyWarning: \n",
      "A value is trying to be set on a copy of a slice from a DataFrame.\n",
      "Try using .loc[row_indexer,col_indexer] = value instead\n",
      "\n",
      "See the caveats in the documentation: http://pandas.pydata.org/pandas-docs/stable/indexing.html#indexing-view-versus-copy\n",
      "  self[name] = value\n"
     ]
    }
   ],
   "source": [
    "X_train2.device_frecuente = te_device_frecuente.fit_transform(pd.DataFrame(X_train2.device_frecuente), y_train2)"
   ]
  },
  {
   "cell_type": "code",
   "execution_count": 129,
   "metadata": {},
   "outputs": [
    {
     "data": {
      "text/plain": [
       "Index(['cant_eventos_totales', 'cant_ach', 'cant_bl', 'cant_ch', 'cant_cv',\n",
       "       'cant_gl', 'cant_l', 'cant_seh', 'cant_s_p', 'cant_sp', 'cant_vp',\n",
       "       'cant_vs', 'Returning', 'tiempo_total', 'tiempo_new_returning',\n",
       "       'channel_frecuente', 'device_frecuente', 'q1', 'q2', 'q3', 'q4', 'q5',\n",
       "       'q6', 'q7', 'q8', 'q9', 'q10'],\n",
       "      dtype='object')"
      ]
     },
     "execution_count": 129,
     "metadata": {},
     "output_type": "execute_result"
    }
   ],
   "source": [
    "X_train2.columns"
   ]
  },
  {
   "cell_type": "code",
   "execution_count": 143,
   "metadata": {},
   "outputs": [
    {
     "data": {
      "text/plain": [
       "288"
      ]
     },
     "execution_count": 143,
     "metadata": {},
     "output_type": "execute_result"
    }
   ],
   "source": [
    "sum(pd.isnull(X_train2['device_frecuente']))"
   ]
  },
  {
   "cell_type": "code",
   "execution_count": 145,
   "metadata": {},
   "outputs": [
    {
     "name": "stderr",
     "output_type": "stream",
     "text": [
      "/home/july/anaconda3/lib/python3.6/site-packages/pandas/core/generic.py:3660: SettingWithCopyWarning: \n",
      "A value is trying to be set on a copy of a slice from a DataFrame\n",
      "\n",
      "See the caveats in the documentation: http://pandas.pydata.org/pandas-docs/stable/indexing.html#indexing-view-versus-copy\n",
      "  self._update_inplace(new_data)\n"
     ]
    }
   ],
   "source": [
    "X_train2['device_frecuente'].fillna(X_train2['device_frecuente'].mode()[0], inplace=True)"
   ]
  },
  {
   "cell_type": "code",
   "execution_count": 155,
   "metadata": {},
   "outputs": [],
   "source": [
    "Xtrn2, Xtest2, Ytrn2, Ytest2 = train_test_split(X_train2, y_train2 ,test_size=0.2)"
   ]
  },
  {
   "cell_type": "code",
   "execution_count": 156,
   "metadata": {},
   "outputs": [
    {
     "data": {
      "text/plain": [
       "(15531, 27)"
      ]
     },
     "execution_count": 156,
     "metadata": {},
     "output_type": "execute_result"
    }
   ],
   "source": [
    "Xtrn2.shape"
   ]
  },
  {
   "cell_type": "code",
   "execution_count": 157,
   "metadata": {},
   "outputs": [
    {
     "data": {
      "text/plain": [
       "(15531,)"
      ]
     },
     "execution_count": 157,
     "metadata": {},
     "output_type": "execute_result"
    }
   ],
   "source": [
    "Ytrn2.shape"
   ]
  },
  {
   "cell_type": "code",
   "execution_count": 147,
   "metadata": {},
   "outputs": [
    {
     "name": "stdout",
     "output_type": "stream",
     "text": [
      "Fitting 2 folds for each of 15 candidates, totalling 30 fits\n",
      "[CV] algorithm=auto, n_neighbors=1 ...................................\n"
     ]
    },
    {
     "name": "stderr",
     "output_type": "stream",
     "text": [
      "[Parallel(n_jobs=1)]: Using backend SequentialBackend with 1 concurrent workers.\n"
     ]
    },
    {
     "name": "stdout",
     "output_type": "stream",
     "text": [
      "[CV]  algorithm=auto, n_neighbors=1, score=0.5086849432426644, total=   3.0s\n",
      "[CV] algorithm=auto, n_neighbors=1 ...................................\n"
     ]
    },
    {
     "name": "stderr",
     "output_type": "stream",
     "text": [
      "[Parallel(n_jobs=1)]: Done   1 out of   1 | elapsed:    4.7s remaining:    0.0s\n"
     ]
    },
    {
     "name": "stdout",
     "output_type": "stream",
     "text": [
      "[CV]  algorithm=auto, n_neighbors=1, score=0.5132310779715857, total=   2.7s\n",
      "[CV] algorithm=auto, n_neighbors=5 ...................................\n"
     ]
    },
    {
     "name": "stderr",
     "output_type": "stream",
     "text": [
      "[Parallel(n_jobs=1)]: Done   2 out of   2 | elapsed:    9.0s remaining:    0.0s\n"
     ]
    },
    {
     "name": "stdout",
     "output_type": "stream",
     "text": [
      "[CV]  algorithm=auto, n_neighbors=5, score=0.548757931302206, total=   2.9s\n",
      "[CV] algorithm=auto, n_neighbors=5 ...................................\n"
     ]
    },
    {
     "name": "stderr",
     "output_type": "stream",
     "text": [
      "[Parallel(n_jobs=1)]: Done   3 out of   3 | elapsed:   14.1s remaining:    0.0s\n"
     ]
    },
    {
     "name": "stdout",
     "output_type": "stream",
     "text": [
      "[CV]  algorithm=auto, n_neighbors=5, score=0.5426200736300396, total=   2.8s\n",
      "[CV] algorithm=auto, n_neighbors=10 ..................................\n"
     ]
    },
    {
     "name": "stderr",
     "output_type": "stream",
     "text": [
      "[Parallel(n_jobs=1)]: Done   4 out of   4 | elapsed:   18.9s remaining:    0.0s\n"
     ]
    },
    {
     "name": "stdout",
     "output_type": "stream",
     "text": [
      "[CV]  algorithm=auto, n_neighbors=10, score=0.5608116700578283, total=   3.1s\n",
      "[CV] algorithm=auto, n_neighbors=10 ..................................\n"
     ]
    },
    {
     "name": "stderr",
     "output_type": "stream",
     "text": [
      "[Parallel(n_jobs=1)]: Done   5 out of   5 | elapsed:   24.2s remaining:    0.0s\n"
     ]
    },
    {
     "name": "stdout",
     "output_type": "stream",
     "text": [
      "[CV]  algorithm=auto, n_neighbors=10, score=0.5662105105722934, total=   3.0s\n",
      "[CV] algorithm=auto, n_neighbors=15 ..................................\n"
     ]
    },
    {
     "name": "stderr",
     "output_type": "stream",
     "text": [
      "[Parallel(n_jobs=1)]: Done   6 out of   6 | elapsed:   29.4s remaining:    0.0s\n"
     ]
    },
    {
     "name": "stdout",
     "output_type": "stream",
     "text": [
      "[CV]  algorithm=auto, n_neighbors=15, score=0.5832012007389162, total=   3.2s\n",
      "[CV] algorithm=auto, n_neighbors=15 ..................................\n"
     ]
    },
    {
     "name": "stderr",
     "output_type": "stream",
     "text": [
      "[Parallel(n_jobs=1)]: Done   7 out of   7 | elapsed:   35.0s remaining:    0.0s\n"
     ]
    },
    {
     "name": "stdout",
     "output_type": "stream",
     "text": [
      "[CV]  algorithm=auto, n_neighbors=15, score=0.5827316281254673, total=   3.2s\n",
      "[CV] algorithm=auto, n_neighbors=20 ..................................\n"
     ]
    },
    {
     "name": "stderr",
     "output_type": "stream",
     "text": [
      "[Parallel(n_jobs=1)]: Done   8 out of   8 | elapsed:   40.7s remaining:    0.0s\n"
     ]
    },
    {
     "name": "stdout",
     "output_type": "stream",
     "text": [
      "[CV]  algorithm=auto, n_neighbors=20, score=0.5997545312165345, total=   3.3s\n",
      "[CV] algorithm=auto, n_neighbors=20 ..................................\n"
     ]
    },
    {
     "name": "stderr",
     "output_type": "stream",
     "text": [
      "[Parallel(n_jobs=1)]: Done   9 out of   9 | elapsed:   46.6s remaining:    0.0s\n"
     ]
    },
    {
     "name": "stdout",
     "output_type": "stream",
     "text": [
      "[CV]  algorithm=auto, n_neighbors=20, score=0.5893276817631887, total=   3.4s\n",
      "[CV] algorithm=ball_tree, n_neighbors=1 ..............................\n",
      "[CV]  algorithm=ball_tree, n_neighbors=1, score=0.5086849432426644, total=   2.2s\n",
      "[CV] algorithm=ball_tree, n_neighbors=1 ..............................\n",
      "[CV]  algorithm=ball_tree, n_neighbors=1, score=0.5132310779715857, total=   2.1s\n",
      "[CV] algorithm=ball_tree, n_neighbors=5 ..............................\n",
      "[CV]  algorithm=ball_tree, n_neighbors=5, score=0.5495795071214393, total=   2.4s\n",
      "[CV] algorithm=ball_tree, n_neighbors=5 ..............................\n",
      "[CV]  algorithm=ball_tree, n_neighbors=5, score=0.5426200736300396, total=   2.3s\n",
      "[CV] algorithm=ball_tree, n_neighbors=10 .............................\n",
      "[CV]  algorithm=ball_tree, n_neighbors=10, score=0.5613722156778753, total=   2.6s\n",
      "[CV] algorithm=ball_tree, n_neighbors=10 .............................\n",
      "[CV]  algorithm=ball_tree, n_neighbors=10, score=0.5668143808188341, total=   2.5s\n",
      "[CV] algorithm=ball_tree, n_neighbors=15 .............................\n",
      "[CV]  algorithm=ball_tree, n_neighbors=15, score=0.5827798712251018, total=   2.7s\n",
      "[CV] algorithm=ball_tree, n_neighbors=15 .............................\n",
      "[CV]  algorithm=ball_tree, n_neighbors=15, score=0.5825279974609363, total=   2.8s\n",
      "[CV] algorithm=ball_tree, n_neighbors=20 .............................\n",
      "[CV]  algorithm=ball_tree, n_neighbors=20, score=0.598503761512101, total=   2.9s\n",
      "[CV] algorithm=ball_tree, n_neighbors=20 .............................\n",
      "[CV]  algorithm=ball_tree, n_neighbors=20, score=0.5897847974963258, total=   3.0s\n",
      "[CV] algorithm=kd_tree, n_neighbors=1 ................................\n",
      "[CV]  algorithm=kd_tree, n_neighbors=1, score=0.5086849432426644, total=   2.5s\n",
      "[CV] algorithm=kd_tree, n_neighbors=1 ................................\n",
      "[CV]  algorithm=kd_tree, n_neighbors=1, score=0.5132310779715857, total=   2.5s\n",
      "[CV] algorithm=kd_tree, n_neighbors=5 ................................\n",
      "[CV]  algorithm=kd_tree, n_neighbors=5, score=0.548757931302206, total=   2.8s\n",
      "[CV] algorithm=kd_tree, n_neighbors=5 ................................\n",
      "[CV]  algorithm=kd_tree, n_neighbors=5, score=0.5426200736300396, total=   2.8s\n",
      "[CV] algorithm=kd_tree, n_neighbors=10 ...............................\n",
      "[CV]  algorithm=kd_tree, n_neighbors=10, score=0.5608116700578283, total=   3.0s\n",
      "[CV] algorithm=kd_tree, n_neighbors=10 ...............................\n",
      "[CV]  algorithm=kd_tree, n_neighbors=10, score=0.5662105105722934, total=   2.9s\n",
      "[CV] algorithm=kd_tree, n_neighbors=15 ...............................\n",
      "[CV]  algorithm=kd_tree, n_neighbors=15, score=0.5832012007389162, total=   3.1s\n",
      "[CV] algorithm=kd_tree, n_neighbors=15 ...............................\n",
      "[CV]  algorithm=kd_tree, n_neighbors=15, score=0.5827316281254673, total=   3.2s\n",
      "[CV] algorithm=kd_tree, n_neighbors=20 ...............................\n",
      "[CV]  algorithm=kd_tree, n_neighbors=20, score=0.5997545312165345, total=   3.3s\n",
      "[CV] algorithm=kd_tree, n_neighbors=20 ...............................\n",
      "[CV]  algorithm=kd_tree, n_neighbors=20, score=0.5893276817631887, total=   3.3s\n"
     ]
    },
    {
     "name": "stderr",
     "output_type": "stream",
     "text": [
      "[Parallel(n_jobs=1)]: Done  30 out of  30 | elapsed:  2.5min finished\n"
     ]
    },
    {
     "data": {
      "text/plain": [
       "GridSearchCV(cv=2, error_score='raise-deprecating',\n",
       "       estimator=KNeighborsRegressor(algorithm='auto', leaf_size=30, metric='minkowski',\n",
       "          metric_params=None, n_jobs=None, n_neighbors=5, p=2,\n",
       "          weights='uniform'),\n",
       "       fit_params=None, iid='warn', n_jobs=None,\n",
       "       param_grid={'n_neighbors': [1, 5, 10, 15, 20], 'algorithm': ['auto', 'ball_tree', 'kd_tree']},\n",
       "       pre_dispatch='2*n_jobs', refit=True, return_train_score='warn',\n",
       "       scoring='roc_auc', verbose=10)"
      ]
     },
     "execution_count": 147,
     "metadata": {},
     "output_type": "execute_result"
    }
   ],
   "source": [
    "gsC.fit(Xtrn2,Ytrn2)"
   ]
  },
  {
   "cell_type": "code",
   "execution_count": 148,
   "metadata": {},
   "outputs": [
    {
     "data": {
      "text/plain": [
       "0.5945414421684868"
      ]
     },
     "execution_count": 148,
     "metadata": {},
     "output_type": "execute_result"
    }
   ],
   "source": [
    "gsC.best_score_"
   ]
  },
  {
   "cell_type": "code",
   "execution_count": 149,
   "metadata": {},
   "outputs": [
    {
     "data": {
      "text/plain": [
       "{'algorithm': 'auto', 'n_neighbors': 20}"
      ]
     },
     "execution_count": 149,
     "metadata": {},
     "output_type": "execute_result"
    }
   ],
   "source": [
    "gsC.best_params_"
   ]
  },
  {
   "cell_type": "code",
   "execution_count": null,
   "metadata": {},
   "outputs": [],
   "source": [
    "gsC = GridSearchCV( estimator=knnC, param_grid=paramC , cv=2, scoring='roc_auc', verbose=10)"
   ]
  },
  {
   "cell_type": "code",
   "execution_count": 212,
   "metadata": {},
   "outputs": [],
   "source": [
    "knn = neighbors.KNeighborsRegressor(algorithm =  'auto', n_neighbors = 20)"
   ]
  },
  {
   "cell_type": "code",
   "execution_count": 213,
   "metadata": {},
   "outputs": [
    {
     "data": {
      "text/plain": [
       "KNeighborsRegressor(algorithm='auto', leaf_size=30, metric='minkowski',\n",
       "          metric_params=None, n_jobs=None, n_neighbors=20, p=2,\n",
       "          weights='uniform')"
      ]
     },
     "execution_count": 213,
     "metadata": {},
     "output_type": "execute_result"
    }
   ],
   "source": [
    "knn.fit(Xtrn2, Ytrn2)"
   ]
  },
  {
   "cell_type": "code",
   "execution_count": 214,
   "metadata": {},
   "outputs": [],
   "source": [
    "pred = knn.predict(Xtest2)"
   ]
  },
  {
   "cell_type": "code",
   "execution_count": 161,
   "metadata": {},
   "outputs": [],
   "source": [
    "from sklearn.metrics import roc_auc_score"
   ]
  },
  {
   "cell_type": "code",
   "execution_count": 215,
   "metadata": {},
   "outputs": [
    {
     "data": {
      "text/plain": [
       "0.5938099713266504"
      ]
     },
     "execution_count": 215,
     "metadata": {},
     "output_type": "execute_result"
    }
   ],
   "source": [
    "roc_auc_score(Ytest2, pred)"
   ]
  },
  {
   "cell_type": "code",
   "execution_count": null,
   "metadata": {},
   "outputs": [],
   "source": [
    "test.ch"
   ]
  },
  {
   "cell_type": "code",
   "execution_count": 216,
   "metadata": {},
   "outputs": [],
   "source": [
    "to_pu = pd.DataFrame()"
   ]
  },
  {
   "cell_type": "code",
   "execution_count": 217,
   "metadata": {},
   "outputs": [],
   "source": [
    "to_pu['person'] = labels_df.person"
   ]
  },
  {
   "cell_type": "code",
   "execution_count": null,
   "metadata": {},
   "outputs": [],
   "source": []
  },
  {
   "cell_type": "code",
   "execution_count": 164,
   "metadata": {},
   "outputs": [],
   "source": [
    "df = pd.merge(train, train2, on='person', how='inner')"
   ]
  },
  {
   "cell_type": "code",
   "execution_count": 165,
   "metadata": {},
   "outputs": [
    {
     "data": {
      "text/plain": [
       "Index(['visited site', 'generic listing', 'conversion', 'viewed product',\n",
       "       'person', 'tiempo_promedio_por_dia', 'label_x', 'modelo_mas_visto',\n",
       "       'condition_mode', 'storage_mode', 'campaing_mode', 'cant_model_vistos',\n",
       "       'event_support', 'cant_eventos_totales', 'cant_ach', 'cant_bl',\n",
       "       'cant_ch', 'cant_cv', 'cant_gl', 'cant_l', 'cant_seh', 'cant_s_p',\n",
       "       'cant_sp', 'cant_vp', 'cant_vs', 'Returning', 'tiempo_total',\n",
       "       'tiempo_new_returning', 'channel_frecuente', 'device_frecuente', 'q1',\n",
       "       'q2', 'q3', 'q4', 'q5', 'q6', 'q7', 'q8', 'q9', 'q10', 'label_y'],\n",
       "      dtype='object')"
      ]
     },
     "execution_count": 165,
     "metadata": {},
     "output_type": "execute_result"
    }
   ],
   "source": [
    "df.columns"
   ]
  },
  {
   "cell_type": "code",
   "execution_count": 168,
   "metadata": {},
   "outputs": [],
   "source": [
    "X_train3 = df[['visited site', 'generic listing', 'conversion', 'viewed product',\n",
    "       'tiempo_promedio_por_dia','modelo_mas_visto',\n",
    "       'condition_mode', 'storage_mode', 'campaing_mode', 'cant_model_vistos',\n",
    "       'event_support', 'cant_eventos_totales', 'cant_ach', 'cant_bl',\n",
    "       'cant_ch', 'cant_cv', 'cant_gl', 'cant_l', 'cant_seh', 'cant_s_p',\n",
    "       'cant_sp', 'cant_vp', 'cant_vs', 'Returning', 'tiempo_total',\n",
    "       'tiempo_new_returning', 'channel_frecuente', 'device_frecuente', 'q1',\n",
    "       'q2', 'q3', 'q4', 'q5', 'q6', 'q7', 'q8', 'q9', 'q10']]"
   ]
  },
  {
   "cell_type": "code",
   "execution_count": 169,
   "metadata": {},
   "outputs": [],
   "source": [
    "Y_train3 = df.label_x"
   ]
  },
  {
   "cell_type": "code",
   "execution_count": 190,
   "metadata": {},
   "outputs": [
    {
     "data": {
      "text/plain": [
       "0"
      ]
     },
     "execution_count": 190,
     "metadata": {},
     "output_type": "execute_result"
    }
   ],
   "source": [
    "sum(pd.isnull(X_train3[ 'device_frecuente']))"
   ]
  },
  {
   "cell_type": "code",
   "execution_count": 185,
   "metadata": {},
   "outputs": [
    {
     "name": "stderr",
     "output_type": "stream",
     "text": [
      "/home/july/anaconda3/lib/python3.6/site-packages/pandas/core/generic.py:3660: SettingWithCopyWarning: \n",
      "A value is trying to be set on a copy of a slice from a DataFrame\n",
      "\n",
      "See the caveats in the documentation: http://pandas.pydata.org/pandas-docs/stable/indexing.html#indexing-view-versus-copy\n",
      "  self._update_inplace(new_data)\n"
     ]
    }
   ],
   "source": [
    "X_train3[ 'Returning'].fillna(X_train3[ 'Returning'].mode()[0],inplace=True)"
   ]
  },
  {
   "cell_type": "code",
   "execution_count": 189,
   "metadata": {},
   "outputs": [
    {
     "name": "stderr",
     "output_type": "stream",
     "text": [
      "/home/july/anaconda3/lib/python3.6/site-packages/pandas/core/generic.py:3660: SettingWithCopyWarning: \n",
      "A value is trying to be set on a copy of a slice from a DataFrame\n",
      "\n",
      "See the caveats in the documentation: http://pandas.pydata.org/pandas-docs/stable/indexing.html#indexing-view-versus-copy\n",
      "  self._update_inplace(new_data)\n"
     ]
    }
   ],
   "source": [
    "X_train3[ 'device_frecuente'].fillna(X_train3['device_frecuente'].mode()[0],inplace=True)"
   ]
  },
  {
   "cell_type": "code",
   "execution_count": null,
   "metadata": {},
   "outputs": [],
   "source": [
    "y_train3  = tra"
   ]
  },
  {
   "cell_type": "code",
   "execution_count": 196,
   "metadata": {},
   "outputs": [
    {
     "name": "stderr",
     "output_type": "stream",
     "text": [
      "/home/july/anaconda3/lib/python3.6/site-packages/pandas/core/generic.py:3110: SettingWithCopyWarning: \n",
      "A value is trying to be set on a copy of a slice from a DataFrame.\n",
      "Try using .loc[row_indexer,col_indexer] = value instead\n",
      "\n",
      "See the caveats in the documentation: http://pandas.pydata.org/pandas-docs/stable/indexing.html#indexing-view-versus-copy\n",
      "  self[name] = value\n"
     ]
    }
   ],
   "source": [
    "X_train3.channel_frecuente = te_channel_frecuente.fit_transform(pd.DataFrame(X_train3.channel_frecuente), Y_train3)"
   ]
  },
  {
   "cell_type": "code",
   "execution_count": 198,
   "metadata": {},
   "outputs": [
    {
     "name": "stderr",
     "output_type": "stream",
     "text": [
      "/home/july/anaconda3/lib/python3.6/site-packages/pandas/core/generic.py:3110: SettingWithCopyWarning: \n",
      "A value is trying to be set on a copy of a slice from a DataFrame.\n",
      "Try using .loc[row_indexer,col_indexer] = value instead\n",
      "\n",
      "See the caveats in the documentation: http://pandas.pydata.org/pandas-docs/stable/indexing.html#indexing-view-versus-copy\n",
      "  self[name] = value\n"
     ]
    }
   ],
   "source": [
    "X_train3.device_frecuente = te_device_frecuente.fit_transform(pd.DataFrame(X_train3.device_frecuente), Y_train3)"
   ]
  },
  {
   "cell_type": "code",
   "execution_count": 200,
   "metadata": {},
   "outputs": [],
   "source": [
    "Xtrn3, Xtest3, Ytrn3, Ytest3 = train_test_split(X_train3, Y_train3 ,test_size=0.2)"
   ]
  },
  {
   "cell_type": "code",
   "execution_count": 201,
   "metadata": {
    "scrolled": true
   },
   "outputs": [
    {
     "name": "stdout",
     "output_type": "stream",
     "text": [
      "Fitting 2 folds for each of 15 candidates, totalling 30 fits\n",
      "[CV] algorithm=auto, n_neighbors=1 ...................................\n"
     ]
    },
    {
     "name": "stderr",
     "output_type": "stream",
     "text": [
      "[Parallel(n_jobs=1)]: Using backend SequentialBackend with 1 concurrent workers.\n"
     ]
    },
    {
     "name": "stdout",
     "output_type": "stream",
     "text": [
      "[CV]  algorithm=auto, n_neighbors=1, score=0.5141700050562016, total=   3.8s\n",
      "[CV] algorithm=auto, n_neighbors=1 ...................................\n"
     ]
    },
    {
     "name": "stderr",
     "output_type": "stream",
     "text": [
      "[Parallel(n_jobs=1)]: Done   1 out of   1 | elapsed:    6.2s remaining:    0.0s\n"
     ]
    },
    {
     "name": "stdout",
     "output_type": "stream",
     "text": [
      "[CV]  algorithm=auto, n_neighbors=1, score=0.5132622410692942, total=   4.2s\n",
      "[CV] algorithm=auto, n_neighbors=5 ...................................\n"
     ]
    },
    {
     "name": "stderr",
     "output_type": "stream",
     "text": [
      "[Parallel(n_jobs=1)]: Done   2 out of   2 | elapsed:   12.9s remaining:    0.0s\n"
     ]
    },
    {
     "name": "stdout",
     "output_type": "stream",
     "text": [
      "[CV]  algorithm=auto, n_neighbors=5, score=0.5345636757289357, total=   3.7s\n",
      "[CV] algorithm=auto, n_neighbors=5 ...................................\n"
     ]
    },
    {
     "name": "stderr",
     "output_type": "stream",
     "text": [
      "[Parallel(n_jobs=1)]: Done   3 out of   3 | elapsed:   19.5s remaining:    0.0s\n"
     ]
    },
    {
     "name": "stdout",
     "output_type": "stream",
     "text": [
      "[CV]  algorithm=auto, n_neighbors=5, score=0.5281752094682779, total=   4.0s\n",
      "[CV] algorithm=auto, n_neighbors=10 ..................................\n"
     ]
    },
    {
     "name": "stderr",
     "output_type": "stream",
     "text": [
      "[Parallel(n_jobs=1)]: Done   4 out of   4 | elapsed:   26.4s remaining:    0.0s\n"
     ]
    },
    {
     "name": "stdout",
     "output_type": "stream",
     "text": [
      "[CV]  algorithm=auto, n_neighbors=10, score=0.5392225117653923, total=   4.0s\n",
      "[CV] algorithm=auto, n_neighbors=10 ..................................\n"
     ]
    },
    {
     "name": "stderr",
     "output_type": "stream",
     "text": [
      "[Parallel(n_jobs=1)]: Done   5 out of   5 | elapsed:   33.5s remaining:    0.0s\n"
     ]
    },
    {
     "name": "stdout",
     "output_type": "stream",
     "text": [
      "[CV]  algorithm=auto, n_neighbors=10, score=0.5539012399571784, total=   4.1s\n",
      "[CV] algorithm=auto, n_neighbors=15 ..................................\n"
     ]
    },
    {
     "name": "stderr",
     "output_type": "stream",
     "text": [
      "[Parallel(n_jobs=1)]: Done   6 out of   6 | elapsed:   40.8s remaining:    0.0s\n"
     ]
    },
    {
     "name": "stdout",
     "output_type": "stream",
     "text": [
      "[CV]  algorithm=auto, n_neighbors=15, score=0.5592596554004122, total=   4.3s\n",
      "[CV] algorithm=auto, n_neighbors=15 ..................................\n"
     ]
    },
    {
     "name": "stderr",
     "output_type": "stream",
     "text": [
      "[Parallel(n_jobs=1)]: Done   7 out of   7 | elapsed:   48.6s remaining:    0.0s\n"
     ]
    },
    {
     "name": "stdout",
     "output_type": "stream",
     "text": [
      "[CV]  algorithm=auto, n_neighbors=15, score=0.5591910285363872, total=   4.3s\n",
      "[CV] algorithm=auto, n_neighbors=20 ..................................\n"
     ]
    },
    {
     "name": "stderr",
     "output_type": "stream",
     "text": [
      "[Parallel(n_jobs=1)]: Done   8 out of   8 | elapsed:   56.3s remaining:    0.0s\n"
     ]
    },
    {
     "name": "stdout",
     "output_type": "stream",
     "text": [
      "[CV]  algorithm=auto, n_neighbors=20, score=0.5649404275731529, total=   4.5s\n",
      "[CV] algorithm=auto, n_neighbors=20 ..................................\n"
     ]
    },
    {
     "name": "stderr",
     "output_type": "stream",
     "text": [
      "[Parallel(n_jobs=1)]: Done   9 out of   9 | elapsed:  1.1min remaining:    0.0s\n"
     ]
    },
    {
     "name": "stdout",
     "output_type": "stream",
     "text": [
      "[CV]  algorithm=auto, n_neighbors=20, score=0.5796647616671937, total=   4.5s\n",
      "[CV] algorithm=ball_tree, n_neighbors=1 ..............................\n",
      "[CV]  algorithm=ball_tree, n_neighbors=1, score=0.5141700050562016, total=   2.7s\n",
      "[CV] algorithm=ball_tree, n_neighbors=1 ..............................\n",
      "[CV]  algorithm=ball_tree, n_neighbors=1, score=0.5132622410692942, total=   2.8s\n",
      "[CV] algorithm=ball_tree, n_neighbors=5 ..............................\n",
      "[CV]  algorithm=ball_tree, n_neighbors=5, score=0.5345636757289357, total=   2.8s\n",
      "[CV] algorithm=ball_tree, n_neighbors=5 ..............................\n",
      "[CV]  algorithm=ball_tree, n_neighbors=5, score=0.5280467741959431, total=   3.2s\n",
      "[CV] algorithm=ball_tree, n_neighbors=10 .............................\n",
      "[CV]  algorithm=ball_tree, n_neighbors=10, score=0.5402974407841002, total=   3.1s\n",
      "[CV] algorithm=ball_tree, n_neighbors=10 .............................\n",
      "[CV]  algorithm=ball_tree, n_neighbors=10, score=0.5539977520115339, total=   3.3s\n",
      "[CV] algorithm=ball_tree, n_neighbors=15 .............................\n",
      "[CV]  algorithm=ball_tree, n_neighbors=15, score=0.5591747371423386, total=   3.5s\n",
      "[CV] algorithm=ball_tree, n_neighbors=15 .............................\n",
      "[CV]  algorithm=ball_tree, n_neighbors=15, score=0.559145742110882, total=   3.5s\n",
      "[CV] algorithm=ball_tree, n_neighbors=20 .............................\n",
      "[CV]  algorithm=ball_tree, n_neighbors=20, score=0.5643014338869226, total=   3.7s\n",
      "[CV] algorithm=ball_tree, n_neighbors=20 .............................\n",
      "[CV]  algorithm=ball_tree, n_neighbors=20, score=0.5807312198678231, total=   3.7s\n",
      "[CV] algorithm=kd_tree, n_neighbors=1 ................................\n",
      "[CV]  algorithm=kd_tree, n_neighbors=1, score=0.5141700050562016, total=   3.4s\n",
      "[CV] algorithm=kd_tree, n_neighbors=1 ................................\n",
      "[CV]  algorithm=kd_tree, n_neighbors=1, score=0.5132622410692942, total=   3.4s\n",
      "[CV] algorithm=kd_tree, n_neighbors=5 ................................\n",
      "[CV]  algorithm=kd_tree, n_neighbors=5, score=0.5345636757289357, total=   3.6s\n",
      "[CV] algorithm=kd_tree, n_neighbors=5 ................................\n",
      "[CV]  algorithm=kd_tree, n_neighbors=5, score=0.5281752094682779, total=   4.0s\n",
      "[CV] algorithm=kd_tree, n_neighbors=10 ...............................\n",
      "[CV]  algorithm=kd_tree, n_neighbors=10, score=0.5392225117653923, total=   4.4s\n",
      "[CV] algorithm=kd_tree, n_neighbors=10 ...............................\n",
      "[CV]  algorithm=kd_tree, n_neighbors=10, score=0.5539012399571784, total=   5.1s\n",
      "[CV] algorithm=kd_tree, n_neighbors=15 ...............................\n",
      "[CV]  algorithm=kd_tree, n_neighbors=15, score=0.5592596554004122, total=   4.8s\n",
      "[CV] algorithm=kd_tree, n_neighbors=15 ...............................\n",
      "[CV]  algorithm=kd_tree, n_neighbors=15, score=0.5591910285363872, total=   4.2s\n",
      "[CV] algorithm=kd_tree, n_neighbors=20 ...............................\n",
      "[CV]  algorithm=kd_tree, n_neighbors=20, score=0.5649404275731529, total=   4.5s\n",
      "[CV] algorithm=kd_tree, n_neighbors=20 ...............................\n",
      "[CV]  algorithm=kd_tree, n_neighbors=20, score=0.5796647616671937, total=   4.5s\n"
     ]
    },
    {
     "name": "stderr",
     "output_type": "stream",
     "text": [
      "[Parallel(n_jobs=1)]: Done  30 out of  30 | elapsed:  3.4min finished\n"
     ]
    },
    {
     "data": {
      "text/plain": [
       "GridSearchCV(cv=2, error_score='raise-deprecating',\n",
       "       estimator=KNeighborsRegressor(algorithm='auto', leaf_size=30, metric='minkowski',\n",
       "          metric_params=None, n_jobs=None, n_neighbors=5, p=2,\n",
       "          weights='uniform'),\n",
       "       fit_params=None, iid='warn', n_jobs=None,\n",
       "       param_grid={'n_neighbors': [1, 5, 10, 15, 20], 'algorithm': ['auto', 'ball_tree', 'kd_tree']},\n",
       "       pre_dispatch='2*n_jobs', refit=True, return_train_score='warn',\n",
       "       scoring='roc_auc', verbose=10)"
      ]
     },
     "execution_count": 201,
     "metadata": {},
     "output_type": "execute_result"
    }
   ],
   "source": [
    "gs.fit(Xtrn3, Ytrn3)"
   ]
  },
  {
   "cell_type": "code",
   "execution_count": 202,
   "metadata": {},
   "outputs": [
    {
     "data": {
      "text/plain": [
       "0.5725157979421471"
      ]
     },
     "execution_count": 202,
     "metadata": {},
     "output_type": "execute_result"
    }
   ],
   "source": [
    "gs.best_score_"
   ]
  },
  {
   "cell_type": "markdown",
   "metadata": {
    "slideshow": {
     "slide_type": "slide"
    }
   },
   "source": [
    "# NO ME GUSTA NADA PARA HACER UN SUVMIT CON V LARGA QUE  NO  ME ANDA XD"
   ]
  },
  {
   "cell_type": "markdown",
   "metadata": {},
   "source": [
    "# CON CLASSIFIER???"
   ]
  },
  {
   "cell_type": "code",
   "execution_count": 203,
   "metadata": {},
   "outputs": [],
   "source": [
    "knnc = neighbors.KNeighborsClassifier()"
   ]
  },
  {
   "cell_type": "code",
   "execution_count": 208,
   "metadata": {},
   "outputs": [],
   "source": [
    "param1 = {'n_neighbors':[1,2,3,4,5],\n",
    "         'algorithm' : ['auto', 'ball_tree', 'kd_tree', 'brute']}"
   ]
  },
  {
   "cell_type": "code",
   "execution_count": 209,
   "metadata": {},
   "outputs": [],
   "source": [
    "gs1 = GridSearchCV( estimator=knnc, param_grid=param1 , cv=2, scoring='roc_auc', verbose=10)"
   ]
  },
  {
   "cell_type": "code",
   "execution_count": 210,
   "metadata": {},
   "outputs": [
    {
     "name": "stdout",
     "output_type": "stream",
     "text": [
      "Fitting 2 folds for each of 20 candidates, totalling 40 fits\n",
      "[CV] algorithm=auto, n_neighbors=1 ...................................\n"
     ]
    },
    {
     "name": "stderr",
     "output_type": "stream",
     "text": [
      "[Parallel(n_jobs=1)]: Using backend SequentialBackend with 1 concurrent workers.\n"
     ]
    },
    {
     "name": "stdout",
     "output_type": "stream",
     "text": [
      "[CV]  algorithm=auto, n_neighbors=1, score=0.5041027212624012, total=   1.7s\n",
      "[CV] algorithm=auto, n_neighbors=1 ...................................\n"
     ]
    },
    {
     "name": "stderr",
     "output_type": "stream",
     "text": [
      "[Parallel(n_jobs=1)]: Done   1 out of   1 | elapsed:    2.1s remaining:    0.0s\n"
     ]
    },
    {
     "name": "stdout",
     "output_type": "stream",
     "text": [
      "[CV]  algorithm=auto, n_neighbors=1, score=0.5090012895226972, total=   0.8s\n",
      "[CV] algorithm=auto, n_neighbors=2 ...................................\n"
     ]
    },
    {
     "name": "stderr",
     "output_type": "stream",
     "text": [
      "[Parallel(n_jobs=1)]: Done   2 out of   2 | elapsed:    3.5s remaining:    0.0s\n"
     ]
    },
    {
     "name": "stdout",
     "output_type": "stream",
     "text": [
      "[CV]  algorithm=auto, n_neighbors=2, score=0.5035752137380423, total=   0.9s\n",
      "[CV] algorithm=auto, n_neighbors=2 ...................................\n"
     ]
    },
    {
     "name": "stderr",
     "output_type": "stream",
     "text": [
      "[Parallel(n_jobs=1)]: Done   3 out of   3 | elapsed:    4.9s remaining:    0.0s\n"
     ]
    },
    {
     "name": "stdout",
     "output_type": "stream",
     "text": [
      "[CV]  algorithm=auto, n_neighbors=2, score=0.5060482618366172, total=   0.9s\n",
      "[CV] algorithm=auto, n_neighbors=3 ...................................\n"
     ]
    },
    {
     "name": "stderr",
     "output_type": "stream",
     "text": [
      "[Parallel(n_jobs=1)]: Done   4 out of   4 | elapsed:    6.5s remaining:    0.0s\n"
     ]
    },
    {
     "name": "stdout",
     "output_type": "stream",
     "text": [
      "[CV]  algorithm=auto, n_neighbors=3, score=0.5163634318048557, total=   0.9s\n",
      "[CV] algorithm=auto, n_neighbors=3 ...................................\n"
     ]
    },
    {
     "name": "stderr",
     "output_type": "stream",
     "text": [
      "[Parallel(n_jobs=1)]: Done   5 out of   5 | elapsed:    7.9s remaining:    0.0s\n"
     ]
    },
    {
     "name": "stdout",
     "output_type": "stream",
     "text": [
      "[CV]  algorithm=auto, n_neighbors=3, score=0.5071904006494555, total=   1.0s\n",
      "[CV] algorithm=auto, n_neighbors=4 ...................................\n"
     ]
    },
    {
     "name": "stderr",
     "output_type": "stream",
     "text": [
      "[Parallel(n_jobs=1)]: Done   6 out of   6 | elapsed:    9.6s remaining:    0.0s\n"
     ]
    },
    {
     "name": "stdout",
     "output_type": "stream",
     "text": [
      "[CV]  algorithm=auto, n_neighbors=4, score=0.523574771991473, total=   1.1s\n",
      "[CV] algorithm=auto, n_neighbors=4 ...................................\n"
     ]
    },
    {
     "name": "stderr",
     "output_type": "stream",
     "text": [
      "[Parallel(n_jobs=1)]: Done   7 out of   7 | elapsed:   11.4s remaining:    0.0s\n"
     ]
    },
    {
     "name": "stdout",
     "output_type": "stream",
     "text": [
      "[CV]  algorithm=auto, n_neighbors=4, score=0.516680093442073, total=   1.0s\n",
      "[CV] algorithm=auto, n_neighbors=5 ...................................\n"
     ]
    },
    {
     "name": "stderr",
     "output_type": "stream",
     "text": [
      "[Parallel(n_jobs=1)]: Done   8 out of   8 | elapsed:   12.9s remaining:    0.0s\n"
     ]
    },
    {
     "name": "stdout",
     "output_type": "stream",
     "text": [
      "[CV]  algorithm=auto, n_neighbors=5, score=0.5252285607103009, total=   0.9s\n",
      "[CV] algorithm=auto, n_neighbors=5 ...................................\n"
     ]
    },
    {
     "name": "stderr",
     "output_type": "stream",
     "text": [
      "[Parallel(n_jobs=1)]: Done   9 out of   9 | elapsed:   14.6s remaining:    0.0s\n"
     ]
    },
    {
     "name": "stdout",
     "output_type": "stream",
     "text": [
      "[CV]  algorithm=auto, n_neighbors=5, score=0.5236747876222388, total=   1.0s\n",
      "[CV] algorithm=ball_tree, n_neighbors=1 ..............................\n",
      "[CV]  algorithm=ball_tree, n_neighbors=1, score=0.5041027212624012, total=   0.8s\n",
      "[CV] algorithm=ball_tree, n_neighbors=1 ..............................\n",
      "[CV]  algorithm=ball_tree, n_neighbors=1, score=0.5090012895226972, total=   0.9s\n",
      "[CV] algorithm=ball_tree, n_neighbors=2 ..............................\n",
      "[CV]  algorithm=ball_tree, n_neighbors=2, score=0.5035752137380423, total=   0.8s\n",
      "[CV] algorithm=ball_tree, n_neighbors=2 ..............................\n",
      "[CV]  algorithm=ball_tree, n_neighbors=2, score=0.5060482618366172, total=   0.8s\n",
      "[CV] algorithm=ball_tree, n_neighbors=3 ..............................\n",
      "[CV]  algorithm=ball_tree, n_neighbors=3, score=0.5163634318048557, total=   0.9s\n",
      "[CV] algorithm=ball_tree, n_neighbors=3 ..............................\n",
      "[CV]  algorithm=ball_tree, n_neighbors=3, score=0.5072577071071477, total=   0.8s\n",
      "[CV] algorithm=ball_tree, n_neighbors=4 ..............................\n",
      "[CV]  algorithm=ball_tree, n_neighbors=4, score=0.523574771991473, total=   0.9s\n",
      "[CV] algorithm=ball_tree, n_neighbors=4 ..............................\n",
      "[CV]  algorithm=ball_tree, n_neighbors=4, score=0.5166659418278915, total=   0.9s\n",
      "[CV] algorithm=ball_tree, n_neighbors=5 ..............................\n",
      "[CV]  algorithm=ball_tree, n_neighbors=5, score=0.5252285607103009, total=   0.9s\n",
      "[CV] algorithm=ball_tree, n_neighbors=5 ..............................\n",
      "[CV]  algorithm=ball_tree, n_neighbors=5, score=0.5237405408539842, total=   1.0s\n",
      "[CV] algorithm=kd_tree, n_neighbors=1 ................................\n",
      "[CV]  algorithm=kd_tree, n_neighbors=1, score=0.5041027212624012, total=   0.9s\n",
      "[CV] algorithm=kd_tree, n_neighbors=1 ................................\n",
      "[CV]  algorithm=kd_tree, n_neighbors=1, score=0.5090012895226972, total=   1.1s\n",
      "[CV] algorithm=kd_tree, n_neighbors=2 ................................\n",
      "[CV]  algorithm=kd_tree, n_neighbors=2, score=0.5035752137380423, total=   1.1s\n",
      "[CV] algorithm=kd_tree, n_neighbors=2 ................................\n",
      "[CV]  algorithm=kd_tree, n_neighbors=2, score=0.5060482618366172, total=   1.1s\n",
      "[CV] algorithm=kd_tree, n_neighbors=3 ................................\n",
      "[CV]  algorithm=kd_tree, n_neighbors=3, score=0.5163634318048557, total=   1.2s\n",
      "[CV] algorithm=kd_tree, n_neighbors=3 ................................\n",
      "[CV]  algorithm=kd_tree, n_neighbors=3, score=0.5071904006494555, total=   1.0s\n",
      "[CV] algorithm=kd_tree, n_neighbors=4 ................................\n",
      "[CV]  algorithm=kd_tree, n_neighbors=4, score=0.523574771991473, total=   0.9s\n",
      "[CV] algorithm=kd_tree, n_neighbors=4 ................................\n",
      "[CV]  algorithm=kd_tree, n_neighbors=4, score=0.516680093442073, total=   1.1s\n",
      "[CV] algorithm=kd_tree, n_neighbors=5 ................................\n",
      "[CV]  algorithm=kd_tree, n_neighbors=5, score=0.5252285607103009, total=   1.1s\n",
      "[CV] algorithm=kd_tree, n_neighbors=5 ................................\n",
      "[CV]  algorithm=kd_tree, n_neighbors=5, score=0.5236747876222388, total=   0.9s\n",
      "[CV] algorithm=brute, n_neighbors=1 ..................................\n",
      "[CV]  algorithm=brute, n_neighbors=1, score=0.5041027212624012, total=  16.5s\n",
      "[CV] algorithm=brute, n_neighbors=1 ..................................\n",
      "[CV]  algorithm=brute, n_neighbors=1, score=0.5101379057543914, total=   8.8s\n",
      "[CV] algorithm=brute, n_neighbors=2 ..................................\n",
      "[CV]  algorithm=brute, n_neighbors=2, score=0.5035752137380423, total=  10.3s\n",
      "[CV] algorithm=brute, n_neighbors=2 ..................................\n",
      "[CV]  algorithm=brute, n_neighbors=2, score=0.5063873828349894, total=   9.2s\n",
      "[CV] algorithm=brute, n_neighbors=3 ..................................\n",
      "[CV]  algorithm=brute, n_neighbors=3, score=0.5188197843103352, total=  12.2s\n",
      "[CV] algorithm=brute, n_neighbors=3 ..................................\n",
      "[CV]  algorithm=brute, n_neighbors=3, score=0.5077288523109931, total=  12.8s\n",
      "[CV] algorithm=brute, n_neighbors=4 ..................................\n",
      "[CV]  algorithm=brute, n_neighbors=4, score=0.5224055240408491, total=  11.1s\n",
      "[CV] algorithm=brute, n_neighbors=4 ..................................\n",
      "[CV]  algorithm=brute, n_neighbors=4, score=0.516680093442073, total=  11.6s\n",
      "[CV] algorithm=brute, n_neighbors=5 ..................................\n",
      "[CV]  algorithm=brute, n_neighbors=5, score=0.5246415209334381, total=  12.0s\n",
      "[CV] algorithm=brute, n_neighbors=5 ..................................\n",
      "[CV]  algorithm=brute, n_neighbors=5, score=0.5239994118451081, total=  14.0s\n"
     ]
    },
    {
     "name": "stderr",
     "output_type": "stream",
     "text": [
      "[Parallel(n_jobs=1)]: Done  40 out of  40 | elapsed:  4.6min finished\n"
     ]
    },
    {
     "data": {
      "text/plain": [
       "GridSearchCV(cv=2, error_score='raise-deprecating',\n",
       "       estimator=KNeighborsClassifier(algorithm='auto', leaf_size=30, metric='minkowski',\n",
       "           metric_params=None, n_jobs=None, n_neighbors=5, p=2,\n",
       "           weights='uniform'),\n",
       "       fit_params=None, iid='warn', n_jobs=None,\n",
       "       param_grid={'n_neighbors': [1, 2, 3, 4, 5], 'algorithm': ['auto', 'ball_tree', 'kd_tree', 'brute']},\n",
       "       pre_dispatch='2*n_jobs', refit=True, return_train_score='warn',\n",
       "       scoring='roc_auc', verbose=10)"
      ]
     },
     "execution_count": 210,
     "metadata": {},
     "output_type": "execute_result"
    }
   ],
   "source": [
    "gs1.fit(Xtrn, Ytrn)"
   ]
  },
  {
   "cell_type": "code",
   "execution_count": 211,
   "metadata": {},
   "outputs": [
    {
     "data": {
      "text/plain": [
       "0.5244845986869735"
      ]
     },
     "execution_count": 211,
     "metadata": {},
     "output_type": "execute_result"
    }
   ],
   "source": [
    "gs1.best_score_"
   ]
  },
  {
   "cell_type": "code",
   "execution_count": null,
   "metadata": {},
   "outputs": [],
   "source": [
    " Forma1/creacion_features.ipynb\n",
    "\tmodificado: Forma1/mikiTryXGBoost.ipynb\n",
    "\tmodificado: Forma2/LightBMClassifier.ipynb\n",
    "\tmodificado: Forma2/LightBMRegressor.ipynb\n",
    "\tmodificado: Forma2/Tati.ipynb\n"
   ]
  }
 ],
 "metadata": {
  "kernelspec": {
   "display_name": "Python 3",
   "language": "python",
   "name": "python3"
  },
  "language_info": {
   "codemirror_mode": {
    "name": "ipython",
    "version": 3
   },
   "file_extension": ".py",
   "mimetype": "text/x-python",
   "name": "python",
   "nbconvert_exporter": "python",
   "pygments_lexer": "ipython3",
   "version": "3.6.3"
  }
 },
 "nbformat": 4,
 "nbformat_minor": 2
}
