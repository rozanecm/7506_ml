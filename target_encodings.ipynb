{
 "cells": [
  {
   "cell_type": "code",
   "execution_count": null,
   "metadata": {},
   "outputs": [],
   "source": [
    "import pandas as pd\n",
    "import numpy as np"
   ]
  },
  {
   "cell_type": "code",
   "execution_count": null,
   "metadata": {},
   "outputs": [],
   "source": [
    "events_df = pd.read_csv('data/fiuba-trocafone-tp2-final-set/events_up_to_01062018.csv', low_memory=False) \n",
    "\n",
    "labels_df = pd.read_csv(\"data/fiuba-trocafone-tp2-final-set/labels_training_set.csv\", low_memory=False)"
   ]
  },
  {
   "cell_type": "markdown",
   "metadata": {},
   "source": [
    "# Mean encoding\n",
    "---"
   ]
  },
  {
   "cell_type": "code",
   "execution_count": null,
   "metadata": {},
   "outputs": [],
   "source": [
    "def mean_encoding(events_df, labels_df, column):\n",
    "    \n",
    "    # armo df de de registros completos clasificados\n",
    "    train_df = events_df.merge(labels_df, on='person', how='right')\n",
    "    # Calculo mean al label\n",
    "    prior = labels_df.label.mean()\n",
    "    # Calculo traget mean de columna\n",
    "    averages = train_df.groupby(column)['label'].agg([\"mean\"])\n",
    "    # Hago join de lo calculado con events_df\n",
    "    events_df_encod = averages.join(events_df.set_index('event'), on='event', how='left')\n",
    "    # Relleno nans con prior\n",
    "    events_df_encod['mean'] = events_df_encod['mean'].fillna(prior)\n",
    "    # Borro columna con valores clasificatorios\n",
    "    events_df_encod = events_df_encod.reset_index()\n",
    "    events_df_encod = events_df_encod.drop(columns=[column])\n",
    "    # Paso la columna 'mean' a que representa la columna encodeada\n",
    "    events_df_encod = events_df_encod.rename(columns={'mean':column})\n",
    "    \n",
    "    return events_df_encod"
   ]
  },
  {
   "cell_type": "markdown",
   "metadata": {},
   "source": [
    "## Mini Test con events"
   ]
  },
  {
   "cell_type": "code",
   "execution_count": null,
   "metadata": {},
   "outputs": [],
   "source": [
    "# Calculo mean al label\n",
    "prior = labels_df.label.mean()\n",
    "prior"
   ]
  },
  {
   "cell_type": "code",
   "execution_count": null,
   "metadata": {},
   "outputs": [],
   "source": [
    "train_df_encod_try = mean_encoding(events_df=events_df, labels_df=labels_df, column='event')"
   ]
  },
  {
   "cell_type": "code",
   "execution_count": null,
   "metadata": {},
   "outputs": [],
   "source": [
    "train_df_encod_try.columns"
   ]
  },
  {
   "cell_type": "code",
   "execution_count": null,
   "metadata": {},
   "outputs": [],
   "source": [
    "train_df_encod_try.event.value_counts()"
   ]
  },
  {
   "cell_type": "code",
   "execution_count": null,
   "metadata": {},
   "outputs": [],
   "source": []
  }
 ],
 "metadata": {
  "kernelspec": {
   "display_name": "Python 3",
   "language": "python",
   "name": "python3"
  },
  "language_info": {
   "codemirror_mode": {
    "name": "ipython",
    "version": 3
   },
   "file_extension": ".py",
   "mimetype": "text/x-python",
   "name": "python",
   "nbconvert_exporter": "python",
   "pygments_lexer": "ipython3",
   "version": "3.5.2"
  }
 },
 "nbformat": 4,
 "nbformat_minor": 2
}
