{
 "cells": [
  {
   "cell_type": "code",
   "execution_count": 10,
   "metadata": {},
   "outputs": [],
   "source": [
    "import pandas as pd"
   ]
  },
  {
   "cell_type": "code",
   "execution_count": 1,
   "metadata": {},
   "outputs": [],
   "source": [
    "import pickle as pkl"
   ]
  },
  {
   "cell_type": "code",
   "execution_count": 6,
   "metadata": {},
   "outputs": [],
   "source": [
    "from sklearn.metrics import roc_auc_score\n",
    "from sklearn.model_selection import train_test_split\n",
    "from sklearn.ensemble import ExtraTreesClassifier"
   ]
  },
  {
   "cell_type": "code",
   "execution_count": null,
   "metadata": {},
   "outputs": [],
   "source": [
    "from sklearn.ensemble import ExtraTreesClassifier"
   ]
  },
  {
   "cell_type": "code",
   "execution_count": 6,
   "metadata": {},
   "outputs": [],
   "source": [
    "with open('features_juli_with_support.pkl', 'rb') as file:\n",
    "    train = pkl.load(file)\n",
    "    "
   ]
  },
  {
   "cell_type": "code",
   "execution_count": 53,
   "metadata": {},
   "outputs": [],
   "source": [
    "with open('test_features_juli_with_support.pkl', 'rb') as file:\n",
    "    test = pkl.load(file)"
   ]
  },
  {
   "cell_type": "markdown",
   "metadata": {},
   "source": [
    "# Con mis features"
   ]
  },
  {
   "cell_type": "code",
   "execution_count": 7,
   "metadata": {},
   "outputs": [
    {
     "data": {
      "text/plain": [
       "Index(['visited site', 'generic listing', 'conversion', 'viewed product',\n",
       "       'person', 'tiempo_promedio_por_dia', 'label', 'modelo_mas_visto',\n",
       "       'condition_mode', 'storage_mode', 'campaing_mode', 'cant_model_vistos',\n",
       "       'event_support'],\n",
       "      dtype='object')"
      ]
     },
     "execution_count": 7,
     "metadata": {},
     "output_type": "execute_result"
    }
   ],
   "source": [
    "train.columns"
   ]
  },
  {
   "cell_type": "code",
   "execution_count": 8,
   "metadata": {},
   "outputs": [
    {
     "data": {
      "text/plain": [
       "(19414, 13)"
      ]
     },
     "execution_count": 8,
     "metadata": {},
     "output_type": "execute_result"
    }
   ],
   "source": [
    "train.shape"
   ]
  },
  {
   "cell_type": "code",
   "execution_count": 9,
   "metadata": {},
   "outputs": [],
   "source": [
    "X_train = train[['visited site', 'generic listing', 'conversion', 'viewed product',\n",
    "        'tiempo_promedio_por_dia','modelo_mas_visto',\n",
    "       'condition_mode', 'storage_mode', 'campaing_mode', 'cant_model_vistos',\n",
    "       'event_support']]"
   ]
  },
  {
   "cell_type": "code",
   "execution_count": 10,
   "metadata": {},
   "outputs": [],
   "source": [
    "y_train = train.label"
   ]
  },
  {
   "cell_type": "code",
   "execution_count": 19,
   "metadata": {},
   "outputs": [],
   "source": [
    "#split del dataset para entrenamiento y pruebas, 80% y 20% respectivamente\n",
    "Xtrn, Xtest, Ytrn, Ytest = train_test_split(X_train,y_train,test_size=0.2)"
   ]
  },
  {
   "cell_type": "code",
   "execution_count": 20,
   "metadata": {},
   "outputs": [],
   "source": [
    "model = ExtraTreesClassifier(n_estimators=10, max_features='auto', min_samples_leaf=1, min_samples_split=4, bootstrap=True)\n",
    "\n"
   ]
  },
  {
   "cell_type": "code",
   "execution_count": 25,
   "metadata": {},
   "outputs": [],
   "source": [
    "model.fit(Xtrn,Ytrn)\n",
    "pred= model.predict_proba(Xtest)\n"
   ]
  },
  {
   "cell_type": "code",
   "execution_count": 26,
   "metadata": {},
   "outputs": [
    {
     "data": {
      "text/plain": [
       "(3883, 2)"
      ]
     },
     "execution_count": 26,
     "metadata": {},
     "output_type": "execute_result"
    }
   ],
   "source": [
    "pred.shape"
   ]
  },
  {
   "cell_type": "code",
   "execution_count": 27,
   "metadata": {},
   "outputs": [
    {
     "data": {
      "text/plain": [
       "(3883,)"
      ]
     },
     "execution_count": 27,
     "metadata": {},
     "output_type": "execute_result"
    }
   ],
   "source": [
    "Ytest.shape"
   ]
  },
  {
   "cell_type": "code",
   "execution_count": 30,
   "metadata": {},
   "outputs": [
    {
     "data": {
      "text/plain": [
       "0.6358333664902718"
      ]
     },
     "execution_count": 30,
     "metadata": {},
     "output_type": "execute_result"
    }
   ],
   "source": [
    "roc_auc_score(Ytest, pred[:,1])"
   ]
  },
  {
   "cell_type": "code",
   "execution_count": 31,
   "metadata": {},
   "outputs": [
    {
     "name": "stdout",
     "output_type": "stream",
     "text": [
      "Help on class ExtraTreesClassifier in module sklearn.ensemble.forest:\n",
      "\n",
      "class ExtraTreesClassifier(ForestClassifier)\n",
      " |  An extra-trees classifier.\n",
      " |  \n",
      " |  This class implements a meta estimator that fits a number of\n",
      " |  randomized decision trees (a.k.a. extra-trees) on various sub-samples\n",
      " |  of the dataset and uses averaging to improve the predictive accuracy\n",
      " |  and control over-fitting.\n",
      " |  \n",
      " |  Read more in the :ref:`User Guide <forest>`.\n",
      " |  \n",
      " |  Parameters\n",
      " |  ----------\n",
      " |  n_estimators : integer, optional (default=10)\n",
      " |      The number of trees in the forest.\n",
      " |  \n",
      " |      .. versionchanged:: 0.20\n",
      " |         The default value of ``n_estimators`` will change from 10 in\n",
      " |         version 0.20 to 100 in version 0.22.\n",
      " |  \n",
      " |  criterion : string, optional (default=\"gini\")\n",
      " |      The function to measure the quality of a split. Supported criteria are\n",
      " |      \"gini\" for the Gini impurity and \"entropy\" for the information gain.\n",
      " |  \n",
      " |  max_depth : integer or None, optional (default=None)\n",
      " |      The maximum depth of the tree. If None, then nodes are expanded until\n",
      " |      all leaves are pure or until all leaves contain less than\n",
      " |      min_samples_split samples.\n",
      " |  \n",
      " |  min_samples_split : int, float, optional (default=2)\n",
      " |      The minimum number of samples required to split an internal node:\n",
      " |  \n",
      " |      - If int, then consider `min_samples_split` as the minimum number.\n",
      " |      - If float, then `min_samples_split` is a fraction and\n",
      " |        `ceil(min_samples_split * n_samples)` are the minimum\n",
      " |        number of samples for each split.\n",
      " |  \n",
      " |      .. versionchanged:: 0.18\n",
      " |         Added float values for fractions.\n",
      " |  \n",
      " |  min_samples_leaf : int, float, optional (default=1)\n",
      " |      The minimum number of samples required to be at a leaf node.\n",
      " |      A split point at any depth will only be considered if it leaves at\n",
      " |      least ``min_samples_leaf`` training samples in each of the left and\n",
      " |      right branches.  This may have the effect of smoothing the model,\n",
      " |      especially in regression.\n",
      " |  \n",
      " |      - If int, then consider `min_samples_leaf` as the minimum number.\n",
      " |      - If float, then `min_samples_leaf` is a fraction and\n",
      " |        `ceil(min_samples_leaf * n_samples)` are the minimum\n",
      " |        number of samples for each node.\n",
      " |  \n",
      " |      .. versionchanged:: 0.18\n",
      " |         Added float values for fractions.\n",
      " |  \n",
      " |  min_weight_fraction_leaf : float, optional (default=0.)\n",
      " |      The minimum weighted fraction of the sum total of weights (of all\n",
      " |      the input samples) required to be at a leaf node. Samples have\n",
      " |      equal weight when sample_weight is not provided.\n",
      " |  \n",
      " |  max_features : int, float, string or None, optional (default=\"auto\")\n",
      " |      The number of features to consider when looking for the best split:\n",
      " |  \n",
      " |      - If int, then consider `max_features` features at each split.\n",
      " |      - If float, then `max_features` is a fraction and\n",
      " |        `int(max_features * n_features)` features are considered at each\n",
      " |        split.\n",
      " |      - If \"auto\", then `max_features=sqrt(n_features)`.\n",
      " |      - If \"sqrt\", then `max_features=sqrt(n_features)`.\n",
      " |      - If \"log2\", then `max_features=log2(n_features)`.\n",
      " |      - If None, then `max_features=n_features`.\n",
      " |  \n",
      " |      Note: the search for a split does not stop until at least one\n",
      " |      valid partition of the node samples is found, even if it requires to\n",
      " |      effectively inspect more than ``max_features`` features.\n",
      " |  \n",
      " |  max_leaf_nodes : int or None, optional (default=None)\n",
      " |      Grow trees with ``max_leaf_nodes`` in best-first fashion.\n",
      " |      Best nodes are defined as relative reduction in impurity.\n",
      " |      If None then unlimited number of leaf nodes.\n",
      " |  \n",
      " |  min_impurity_decrease : float, optional (default=0.)\n",
      " |      A node will be split if this split induces a decrease of the impurity\n",
      " |      greater than or equal to this value.\n",
      " |  \n",
      " |      The weighted impurity decrease equation is the following::\n",
      " |  \n",
      " |          N_t / N * (impurity - N_t_R / N_t * right_impurity\n",
      " |                              - N_t_L / N_t * left_impurity)\n",
      " |  \n",
      " |      where ``N`` is the total number of samples, ``N_t`` is the number of\n",
      " |      samples at the current node, ``N_t_L`` is the number of samples in the\n",
      " |      left child, and ``N_t_R`` is the number of samples in the right child.\n",
      " |  \n",
      " |      ``N``, ``N_t``, ``N_t_R`` and ``N_t_L`` all refer to the weighted sum,\n",
      " |      if ``sample_weight`` is passed.\n",
      " |  \n",
      " |      .. versionadded:: 0.19\n",
      " |  \n",
      " |  min_impurity_split : float,\n",
      " |      Threshold for early stopping in tree growth. A node will split\n",
      " |      if its impurity is above the threshold, otherwise it is a leaf.\n",
      " |  \n",
      " |      .. deprecated:: 0.19\n",
      " |         ``min_impurity_split`` has been deprecated in favor of\n",
      " |         ``min_impurity_decrease`` in 0.19 and will be removed in 0.21.\n",
      " |         Use ``min_impurity_decrease`` instead.\n",
      " |  \n",
      " |  bootstrap : boolean, optional (default=False)\n",
      " |      Whether bootstrap samples are used when building trees.\n",
      " |  \n",
      " |  oob_score : bool, optional (default=False)\n",
      " |      Whether to use out-of-bag samples to estimate\n",
      " |      the generalization accuracy.\n",
      " |  \n",
      " |  n_jobs : int or None, optional (default=None)\n",
      " |      The number of jobs to run in parallel for both `fit` and `predict`.\n",
      " |      ``None`` means 1 unless in a :obj:`joblib.parallel_backend` context.\n",
      " |      ``-1`` means using all processors. See :term:`Glossary <n_jobs>`\n",
      " |      for more details.\n",
      " |  \n",
      " |  random_state : int, RandomState instance or None, optional (default=None)\n",
      " |      If int, random_state is the seed used by the random number generator;\n",
      " |      If RandomState instance, random_state is the random number generator;\n",
      " |      If None, the random number generator is the RandomState instance used\n",
      " |      by `np.random`.\n",
      " |  \n",
      " |  verbose : int, optional (default=0)\n",
      " |      Controls the verbosity when fitting and predicting.\n",
      " |  \n",
      " |  warm_start : bool, optional (default=False)\n",
      " |      When set to ``True``, reuse the solution of the previous call to fit\n",
      " |      and add more estimators to the ensemble, otherwise, just fit a whole\n",
      " |      new forest. See :term:`the Glossary <warm_start>`.\n",
      " |  \n",
      " |  class_weight : dict, list of dicts, \"balanced\", \"balanced_subsample\" or     None, optional (default=None)\n",
      " |      Weights associated with classes in the form ``{class_label: weight}``.\n",
      " |      If not given, all classes are supposed to have weight one. For\n",
      " |      multi-output problems, a list of dicts can be provided in the same\n",
      " |      order as the columns of y.\n",
      " |  \n",
      " |      Note that for multioutput (including multilabel) weights should be\n",
      " |      defined for each class of every column in its own dict. For example,\n",
      " |      for four-class multilabel classification weights should be\n",
      " |      [{0: 1, 1: 1}, {0: 1, 1: 5}, {0: 1, 1: 1}, {0: 1, 1: 1}] instead of\n",
      " |      [{1:1}, {2:5}, {3:1}, {4:1}].\n",
      " |  \n",
      " |      The \"balanced\" mode uses the values of y to automatically adjust\n",
      " |      weights inversely proportional to class frequencies in the input data\n",
      " |      as ``n_samples / (n_classes * np.bincount(y))``\n",
      " |  \n",
      " |      The \"balanced_subsample\" mode is the same as \"balanced\" except that weights are\n",
      " |      computed based on the bootstrap sample for every tree grown.\n",
      " |  \n",
      " |      For multi-output, the weights of each column of y will be multiplied.\n",
      " |  \n",
      " |      Note that these weights will be multiplied with sample_weight (passed\n",
      " |      through the fit method) if sample_weight is specified.\n",
      " |  \n",
      " |  Attributes\n",
      " |  ----------\n",
      " |  estimators_ : list of DecisionTreeClassifier\n",
      " |      The collection of fitted sub-estimators.\n",
      " |  \n",
      " |  classes_ : array of shape = [n_classes] or a list of such arrays\n",
      " |      The classes labels (single output problem), or a list of arrays of\n",
      " |      class labels (multi-output problem).\n",
      " |  \n",
      " |  n_classes_ : int or list\n",
      " |      The number of classes (single output problem), or a list containing the\n",
      " |      number of classes for each output (multi-output problem).\n",
      " |  \n",
      " |  feature_importances_ : array of shape = [n_features]\n",
      " |      The feature importances (the higher, the more important the feature).\n",
      " |  \n",
      " |  n_features_ : int\n",
      " |      The number of features when ``fit`` is performed.\n",
      " |  \n",
      " |  n_outputs_ : int\n",
      " |      The number of outputs when ``fit`` is performed.\n",
      " |  \n",
      " |  oob_score_ : float\n",
      " |      Score of the training dataset obtained using an out-of-bag estimate.\n",
      " |  \n",
      " |  oob_decision_function_ : array of shape = [n_samples, n_classes]\n",
      " |      Decision function computed with out-of-bag estimate on the training\n",
      " |      set. If n_estimators is small it might be possible that a data point\n",
      " |      was never left out during the bootstrap. In this case,\n",
      " |      `oob_decision_function_` might contain NaN.\n",
      " |  \n",
      " |  Notes\n",
      " |  -----\n",
      " |  The default values for the parameters controlling the size of the trees\n",
      " |  (e.g. ``max_depth``, ``min_samples_leaf``, etc.) lead to fully grown and\n",
      " |  unpruned trees which can potentially be very large on some data sets. To\n",
      " |  reduce memory consumption, the complexity and size of the trees should be\n",
      " |  controlled by setting those parameter values.\n",
      " |  \n",
      " |  References\n",
      " |  ----------\n",
      " |  \n",
      " |  .. [1] P. Geurts, D. Ernst., and L. Wehenkel, \"Extremely randomized \n",
      " |         trees\", Machine Learning, 63(1), 3-42, 2006.\n",
      " |  \n",
      " |  See also\n",
      " |  --------\n",
      " |  sklearn.tree.ExtraTreeClassifier : Base classifier for this ensemble.\n",
      " |  RandomForestClassifier : Ensemble Classifier based on trees with optimal\n",
      " |      splits.\n",
      " |  \n",
      " |  Method resolution order:\n",
      " |      ExtraTreesClassifier\n",
      " |      ForestClassifier\n",
      " |      abc.NewBase\n",
      " |      BaseForest\n",
      " |      abc.NewBase\n",
      " |      sklearn.ensemble.base.BaseEnsemble\n",
      " |      abc.NewBase\n",
      " |      sklearn.base.BaseEstimator\n",
      " |      sklearn.base.MetaEstimatorMixin\n",
      " |      sklearn.base.ClassifierMixin\n",
      " |      builtins.object\n",
      " |  \n",
      " |  Methods defined here:\n",
      " |  \n",
      " |  __init__(self, n_estimators='warn', criterion='gini', max_depth=None, min_samples_split=2, min_samples_leaf=1, min_weight_fraction_leaf=0.0, max_features='auto', max_leaf_nodes=None, min_impurity_decrease=0.0, min_impurity_split=None, bootstrap=False, oob_score=False, n_jobs=None, random_state=None, verbose=0, warm_start=False, class_weight=None)\n",
      " |      Initialize self.  See help(type(self)) for accurate signature.\n",
      " |  \n",
      " |  ----------------------------------------------------------------------\n",
      " |  Data and other attributes defined here:\n",
      " |  \n",
      " |  __abstractmethods__ = frozenset()\n",
      " |  \n",
      " |  ----------------------------------------------------------------------\n",
      " |  Methods inherited from ForestClassifier:\n",
      " |  \n",
      " |  predict(self, X)\n",
      " |      Predict class for X.\n",
      " |      \n",
      " |      The predicted class of an input sample is a vote by the trees in\n",
      " |      the forest, weighted by their probability estimates. That is,\n",
      " |      the predicted class is the one with highest mean probability\n",
      " |      estimate across the trees.\n",
      " |      \n",
      " |      Parameters\n",
      " |      ----------\n",
      " |      X : array-like or sparse matrix of shape = [n_samples, n_features]\n",
      " |          The input samples. Internally, its dtype will be converted to\n",
      " |          ``dtype=np.float32``. If a sparse matrix is provided, it will be\n",
      " |          converted into a sparse ``csr_matrix``.\n",
      " |      \n",
      " |      Returns\n",
      " |      -------\n",
      " |      y : array of shape = [n_samples] or [n_samples, n_outputs]\n",
      " |          The predicted classes.\n",
      " |  \n",
      " |  predict_log_proba(self, X)\n",
      " |      Predict class log-probabilities for X.\n",
      " |      \n",
      " |      The predicted class log-probabilities of an input sample is computed as\n",
      " |      the log of the mean predicted class probabilities of the trees in the\n",
      " |      forest.\n",
      " |      \n",
      " |      Parameters\n",
      " |      ----------\n",
      " |      X : array-like or sparse matrix of shape = [n_samples, n_features]\n",
      " |          The input samples. Internally, its dtype will be converted to\n",
      " |          ``dtype=np.float32``. If a sparse matrix is provided, it will be\n",
      " |          converted into a sparse ``csr_matrix``.\n",
      " |      \n",
      " |      Returns\n",
      " |      -------\n",
      " |      p : array of shape = [n_samples, n_classes], or a list of n_outputs\n",
      " |          such arrays if n_outputs > 1.\n",
      " |          The class probabilities of the input samples. The order of the\n",
      " |          classes corresponds to that in the attribute `classes_`.\n",
      " |  \n",
      " |  predict_proba(self, X)\n",
      " |      Predict class probabilities for X.\n",
      " |      \n",
      " |      The predicted class probabilities of an input sample are computed as\n",
      " |      the mean predicted class probabilities of the trees in the forest. The\n",
      " |      class probability of a single tree is the fraction of samples of the same\n",
      " |      class in a leaf.\n",
      " |      \n",
      " |      Parameters\n",
      " |      ----------\n",
      " |      X : array-like or sparse matrix of shape = [n_samples, n_features]\n",
      " |          The input samples. Internally, its dtype will be converted to\n",
      " |          ``dtype=np.float32``. If a sparse matrix is provided, it will be\n",
      " |          converted into a sparse ``csr_matrix``.\n",
      " |      \n",
      " |      Returns\n",
      " |      -------\n",
      " |      p : array of shape = [n_samples, n_classes], or a list of n_outputs\n",
      " |          such arrays if n_outputs > 1.\n",
      " |          The class probabilities of the input samples. The order of the\n",
      " |          classes corresponds to that in the attribute `classes_`.\n",
      " |  \n",
      " |  ----------------------------------------------------------------------\n",
      " |  Methods inherited from BaseForest:\n",
      " |  \n",
      " |  apply(self, X)\n",
      " |      Apply trees in the forest to X, return leaf indices.\n",
      " |      \n",
      " |      Parameters\n",
      " |      ----------\n",
      " |      X : array-like or sparse matrix, shape = [n_samples, n_features]\n",
      " |          The input samples. Internally, its dtype will be converted to\n",
      " |          ``dtype=np.float32``. If a sparse matrix is provided, it will be\n",
      " |          converted into a sparse ``csr_matrix``.\n",
      " |      \n",
      " |      Returns\n",
      " |      -------\n",
      " |      X_leaves : array_like, shape = [n_samples, n_estimators]\n",
      " |          For each datapoint x in X and for each tree in the forest,\n",
      " |          return the index of the leaf x ends up in.\n",
      " |  \n",
      " |  decision_path(self, X)\n",
      " |      Return the decision path in the forest\n",
      " |      \n",
      " |      .. versionadded:: 0.18\n",
      " |      \n",
      " |      Parameters\n",
      " |      ----------\n",
      " |      X : array-like or sparse matrix, shape = [n_samples, n_features]\n",
      " |          The input samples. Internally, its dtype will be converted to\n",
      " |          ``dtype=np.float32``. If a sparse matrix is provided, it will be\n",
      " |          converted into a sparse ``csr_matrix``.\n",
      " |      \n",
      " |      Returns\n",
      " |      -------\n",
      " |      indicator : sparse csr array, shape = [n_samples, n_nodes]\n",
      " |          Return a node indicator matrix where non zero elements\n",
      " |          indicates that the samples goes through the nodes.\n",
      " |      \n",
      " |      n_nodes_ptr : array of size (n_estimators + 1, )\n",
      " |          The columns from indicator[n_nodes_ptr[i]:n_nodes_ptr[i+1]]\n",
      " |          gives the indicator value for the i-th estimator.\n",
      " |  \n",
      " |  fit(self, X, y, sample_weight=None)\n",
      " |      Build a forest of trees from the training set (X, y).\n",
      " |      \n",
      " |      Parameters\n",
      " |      ----------\n",
      " |      X : array-like or sparse matrix of shape = [n_samples, n_features]\n",
      " |          The training input samples. Internally, its dtype will be converted\n",
      " |          to ``dtype=np.float32``. If a sparse matrix is provided, it will be\n",
      " |          converted into a sparse ``csc_matrix``.\n",
      " |      \n",
      " |      y : array-like, shape = [n_samples] or [n_samples, n_outputs]\n",
      " |          The target values (class labels in classification, real numbers in\n",
      " |          regression).\n",
      " |      \n",
      " |      sample_weight : array-like, shape = [n_samples] or None\n",
      " |          Sample weights. If None, then samples are equally weighted. Splits\n",
      " |          that would create child nodes with net zero or negative weight are\n",
      " |          ignored while searching for a split in each node. In the case of\n",
      " |          classification, splits are also ignored if they would result in any\n",
      " |          single class carrying a negative weight in either child node.\n",
      " |      \n",
      " |      Returns\n",
      " |      -------\n",
      " |      self : object\n",
      " |  \n",
      " |  ----------------------------------------------------------------------\n",
      " |  Data descriptors inherited from BaseForest:\n",
      " |  \n",
      " |  feature_importances_\n",
      " |      Return the feature importances (the higher, the more important the\n",
      " |         feature).\n",
      " |      \n",
      " |      Returns\n",
      " |      -------\n",
      " |      feature_importances_ : array, shape = [n_features]\n",
      " |  \n",
      " |  ----------------------------------------------------------------------\n",
      " |  Methods inherited from sklearn.ensemble.base.BaseEnsemble:\n",
      " |  \n",
      " |  __getitem__(self, index)\n",
      " |      Returns the index'th estimator in the ensemble.\n",
      " |  \n",
      " |  __iter__(self)\n",
      " |      Returns iterator over estimators in the ensemble.\n",
      " |  \n",
      " |  __len__(self)\n",
      " |      Returns the number of estimators in the ensemble.\n",
      " |  \n",
      " |  ----------------------------------------------------------------------\n",
      " |  Methods inherited from sklearn.base.BaseEstimator:\n",
      " |  \n",
      " |  __getstate__(self)\n",
      " |  \n",
      " |  __repr__(self)\n",
      " |      Return repr(self).\n",
      " |  \n",
      " |  __setstate__(self, state)\n",
      " |  \n",
      " |  get_params(self, deep=True)\n",
      " |      Get parameters for this estimator.\n",
      " |      \n",
      " |      Parameters\n",
      " |      ----------\n",
      " |      deep : boolean, optional\n",
      " |          If True, will return the parameters for this estimator and\n",
      " |          contained subobjects that are estimators.\n",
      " |      \n",
      " |      Returns\n",
      " |      -------\n",
      " |      params : mapping of string to any\n",
      " |          Parameter names mapped to their values.\n",
      " |  \n",
      " |  set_params(self, **params)\n",
      " |      Set the parameters of this estimator.\n",
      " |      \n",
      " |      The method works on simple estimators as well as on nested objects\n",
      " |      (such as pipelines). The latter have parameters of the form\n",
      " |      ``<component>__<parameter>`` so that it's possible to update each\n",
      " |      component of a nested object.\n",
      " |      \n",
      " |      Returns\n",
      " |      -------\n",
      " |      self\n",
      " |  \n",
      " |  ----------------------------------------------------------------------\n",
      " |  Data descriptors inherited from sklearn.base.BaseEstimator:\n",
      " |  \n",
      " |  __dict__\n",
      " |      dictionary for instance variables (if defined)\n",
      " |  \n",
      " |  __weakref__\n",
      " |      list of weak references to the object (if defined)\n",
      " |  \n",
      " |  ----------------------------------------------------------------------\n",
      " |  Methods inherited from sklearn.base.ClassifierMixin:\n",
      " |  \n",
      " |  score(self, X, y, sample_weight=None)\n",
      " |      Returns the mean accuracy on the given test data and labels.\n",
      " |      \n",
      " |      In multi-label classification, this is the subset accuracy\n",
      " |      which is a harsh metric since you require for each sample that\n",
      " |      each label set be correctly predicted.\n",
      " |      \n",
      " |      Parameters\n",
      " |      ----------\n",
      " |      X : array-like, shape = (n_samples, n_features)\n",
      " |          Test samples.\n",
      " |      \n",
      " |      y : array-like, shape = (n_samples) or (n_samples, n_outputs)\n",
      " |          True labels for X.\n",
      " |      \n",
      " |      sample_weight : array-like, shape = [n_samples], optional\n",
      " |          Sample weights.\n",
      " |      \n",
      " |      Returns\n",
      " |      -------\n",
      " |      score : float\n",
      " |          Mean accuracy of self.predict(X) wrt. y.\n",
      "\n"
     ]
    }
   ],
   "source": [
    "help(ExtraTreesClassifier)"
   ]
  },
  {
   "cell_type": "code",
   "execution_count": 50,
   "metadata": {},
   "outputs": [],
   "source": [
    "from sklearn.model_selection import GridSearchCV"
   ]
  },
  {
   "cell_type": "code",
   "execution_count": 48,
   "metadata": {},
   "outputs": [
    {
     "name": "stdout",
     "output_type": "stream",
     "text": [
      "Fitting 3 folds for each of 12 candidates, totalling 36 fits\n"
     ]
    },
    {
     "name": "stderr",
     "output_type": "stream",
     "text": [
      "[Parallel(n_jobs=-1)]: Using backend LokyBackend with 2 concurrent workers.\n",
      "[Parallel(n_jobs=-1)]: Done  36 out of  36 | elapsed:  3.4min finished\n"
     ]
    },
    {
     "data": {
      "text/plain": [
       "GridSearchCV(cv=3, error_score='raise-deprecating',\n",
       "       estimator=ExtraTreesClassifier(bootstrap=True, class_weight=None, criterion='gini',\n",
       "           max_depth=None, max_features='auto', max_leaf_nodes=None,\n",
       "           min_impurity_decrease=0.0, min_impurity_split=None,\n",
       "           min_samples_leaf=1, min_samples_split=4,\n",
       "           min_weight_fraction_leaf=0.0, n_estimators=50, n_jobs=None,\n",
       "           oob_score=False, random_state=None, verbose=0, warm_start=False),\n",
       "       fit_params=None, iid='warn', n_jobs=-1,\n",
       "       param_grid={'n_estimators': [50, 100, 150], 'max_features': ['auto'], 'min_samples_split': [2, 3, 4, 5], 'bootstrap': [True]},\n",
       "       pre_dispatch='2*n_jobs', refit=True, return_train_score='warn',\n",
       "       scoring=None, verbose=1)"
      ]
     },
     "execution_count": 48,
     "metadata": {},
     "output_type": "execute_result"
    }
   ],
   "source": [
    "param_grid = { \n",
    "          \"n_estimators\"      : [50,100,150],\n",
    "          \"max_features\"      : [\"auto\"],\n",
    "          \"min_samples_split\" : [2,3,4,5] ,\n",
    "          \"bootstrap\": [True]\n",
    "          }\n",
    "grid = GridSearchCV(model, param_grid, n_jobs=-1, cv=3, verbose=1)\n",
    "\n",
    "grid.fit(Xtrn, Ytrn)\n"
   ]
  },
  {
   "cell_type": "code",
   "execution_count": 49,
   "metadata": {},
   "outputs": [
    {
     "data": {
      "text/plain": [
       "{'bootstrap': True,\n",
       " 'max_features': 'auto',\n",
       " 'min_samples_split': 5,\n",
       " 'n_estimators': 150}"
      ]
     },
     "execution_count": 49,
     "metadata": {},
     "output_type": "execute_result"
    }
   ],
   "source": [
    "grid.best_params_"
   ]
  },
  {
   "cell_type": "code",
   "execution_count": 50,
   "metadata": {},
   "outputs": [
    {
     "data": {
      "text/plain": [
       "0.9499710256905544"
      ]
     },
     "execution_count": 50,
     "metadata": {},
     "output_type": "execute_result"
    }
   ],
   "source": [
    "grid.best_score_"
   ]
  },
  {
   "cell_type": "code",
   "execution_count": 52,
   "metadata": {},
   "outputs": [
    {
     "data": {
      "text/plain": [
       "0.6685247814957758"
      ]
     },
     "execution_count": 52,
     "metadata": {},
     "output_type": "execute_result"
    }
   ],
   "source": [
    "roc_auc_score(Ytest, grid.predict_proba(Xtest)[:,1])"
   ]
  },
  {
   "cell_type": "code",
   "execution_count": 55,
   "metadata": {},
   "outputs": [
    {
     "data": {
      "text/plain": [
       "Index(['visited site', 'generic listing', 'conversion', 'viewed product',\n",
       "       'person', 'tiempo_promedio_por_dia', 'modelo_mas_visto',\n",
       "       'condition_mode', 'storage_mode', 'campaing_mode', 'cant_model_vistos',\n",
       "       'event_support'],\n",
       "      dtype='object')"
      ]
     },
     "execution_count": 55,
     "metadata": {},
     "output_type": "execute_result"
    }
   ],
   "source": [
    "test.columns"
   ]
  },
  {
   "cell_type": "code",
   "execution_count": 56,
   "metadata": {},
   "outputs": [],
   "source": [
    "x_test = test[['visited site', 'generic listing', 'conversion', 'viewed product',\n",
    "        'tiempo_promedio_por_dia', 'modelo_mas_visto',\n",
    "       'condition_mode', 'storage_mode', 'campaing_mode', 'cant_model_vistos',\n",
    "       'event_support']]"
   ]
  },
  {
   "cell_type": "code",
   "execution_count": 75,
   "metadata": {},
   "outputs": [
    {
     "data": {
      "text/plain": [
       "0"
      ]
     },
     "execution_count": 75,
     "metadata": {},
     "output_type": "execute_result"
    }
   ],
   "source": [
    "sum(pd.isnull(x_test['event_support']))"
   ]
  },
  {
   "cell_type": "code",
   "execution_count": 66,
   "metadata": {},
   "outputs": [
    {
     "name": "stderr",
     "output_type": "stream",
     "text": [
      "/home/july/anaconda3/lib/python3.6/site-packages/pandas/core/generic.py:3660: SettingWithCopyWarning: \n",
      "A value is trying to be set on a copy of a slice from a DataFrame\n",
      "\n",
      "See the caveats in the documentation: http://pandas.pydata.org/pandas-docs/stable/indexing.html#indexing-view-versus-copy\n",
      "  self._update_inplace(new_data)\n"
     ]
    }
   ],
   "source": [
    "x_test['viewed product'].fillna(x_test['viewed product'].mean(), inplace = True)"
   ]
  },
  {
   "cell_type": "code",
   "execution_count": 60,
   "metadata": {},
   "outputs": [
    {
     "name": "stderr",
     "output_type": "stream",
     "text": [
      "/home/july/anaconda3/lib/python3.6/site-packages/pandas/core/generic.py:3660: SettingWithCopyWarning: \n",
      "A value is trying to be set on a copy of a slice from a DataFrame\n",
      "\n",
      "See the caveats in the documentation: http://pandas.pydata.org/pandas-docs/stable/indexing.html#indexing-view-versus-copy\n",
      "  self._update_inplace(new_data)\n"
     ]
    }
   ],
   "source": [
    "x_test['visited site'].fillna(x_test['visited site'].mean(), inplace = True)"
   ]
  },
  {
   "cell_type": "code",
   "execution_count": 62,
   "metadata": {},
   "outputs": [
    {
     "name": "stderr",
     "output_type": "stream",
     "text": [
      "/home/july/anaconda3/lib/python3.6/site-packages/pandas/core/generic.py:3660: SettingWithCopyWarning: \n",
      "A value is trying to be set on a copy of a slice from a DataFrame\n",
      "\n",
      "See the caveats in the documentation: http://pandas.pydata.org/pandas-docs/stable/indexing.html#indexing-view-versus-copy\n",
      "  self._update_inplace(new_data)\n"
     ]
    }
   ],
   "source": [
    "x_test['generic listing'].fillna(x_test['generic listing'].mean(), inplace = True)"
   ]
  },
  {
   "cell_type": "code",
   "execution_count": 64,
   "metadata": {},
   "outputs": [
    {
     "name": "stderr",
     "output_type": "stream",
     "text": [
      "/home/july/anaconda3/lib/python3.6/site-packages/pandas/core/generic.py:3660: SettingWithCopyWarning: \n",
      "A value is trying to be set on a copy of a slice from a DataFrame\n",
      "\n",
      "See the caveats in the documentation: http://pandas.pydata.org/pandas-docs/stable/indexing.html#indexing-view-versus-copy\n",
      "  self._update_inplace(new_data)\n"
     ]
    }
   ],
   "source": [
    "x_test['conversion'].fillna(x_test['conversion'].mean(), inplace = True)"
   ]
  },
  {
   "cell_type": "code",
   "execution_count": 79,
   "metadata": {},
   "outputs": [],
   "source": [
    "pred_porta = grid.predict_proba(x_test)[:,1]"
   ]
  },
  {
   "cell_type": "code",
   "execution_count": 77,
   "metadata": {},
   "outputs": [],
   "source": [
    "to_puvlic = pd.DataFrame()"
   ]
  },
  {
   "cell_type": "code",
   "execution_count": 78,
   "metadata": {},
   "outputs": [],
   "source": [
    "to_puvlic['person'] = test.person"
   ]
  },
  {
   "cell_type": "code",
   "execution_count": 80,
   "metadata": {},
   "outputs": [],
   "source": [
    "to_puvlic['label'] = pred_porta"
   ]
  },
  {
   "cell_type": "code",
   "execution_count": 82,
   "metadata": {},
   "outputs": [],
   "source": [
    "to_puvlic.to_csv('extraTreesJuli.csv', index = False)"
   ]
  },
  {
   "cell_type": "markdown",
   "metadata": {},
   "source": [
    "# Con features de las chicas"
   ]
  },
  {
   "cell_type": "code",
   "execution_count": 86,
   "metadata": {},
   "outputs": [],
   "source": [
    "with open('features_chicas.pkl','rb') as file:\n",
    "    features = pkl.load(file)"
   ]
  },
  {
   "cell_type": "code",
   "execution_count": 85,
   "metadata": {},
   "outputs": [
    {
     "data": {
      "text/plain": [
       "Index(['person', 'cant_eventos_totales', 'cant_ach', 'cant_bl', 'cant_ch',\n",
       "       'cant_cv', 'cant_gl', 'cant_l', 'cant_seh', 'cant_s_p', 'cant_sp',\n",
       "       'cant_vp', 'cant_vs', 'Returning', 'tiempo_total',\n",
       "       'tiempo_new_returning', 'channel_frecuente', 'device_frecuente', 'q1',\n",
       "       'q2', 'q3', 'q4', 'q5', 'q6', 'q7', 'q8', 'q9', 'q10'],\n",
       "      dtype='object')"
      ]
     },
     "execution_count": 85,
     "metadata": {},
     "output_type": "execute_result"
    }
   ],
   "source": [
    "features.columns"
   ]
  },
  {
   "cell_type": "code",
   "execution_count": 87,
   "metadata": {},
   "outputs": [],
   "source": [
    "features['device_frecuente'].fillna(features['device_frecuente'].mode()[0], inplace=True)"
   ]
  },
  {
   "cell_type": "code",
   "execution_count": 88,
   "metadata": {},
   "outputs": [],
   "source": [
    "features[ 'Returning'].fillna(features['Returning'].mode()[0], inplace=True)"
   ]
  },
  {
   "cell_type": "code",
   "execution_count": 89,
   "metadata": {},
   "outputs": [],
   "source": [
    "import category_encoders as ce"
   ]
  },
  {
   "cell_type": "code",
   "execution_count": 90,
   "metadata": {},
   "outputs": [],
   "source": [
    "te_channel_frecuente = ce.TargetEncoder(handle_unknown='ignore')"
   ]
  },
  {
   "cell_type": "code",
   "execution_count": 91,
   "metadata": {},
   "outputs": [],
   "source": [
    "label_train = pd.read_csv('data/fiuba-trocafone-tp2-final-set/labels_training_set.csv')"
   ]
  },
  {
   "cell_type": "code",
   "execution_count": 92,
   "metadata": {},
   "outputs": [],
   "source": [
    "train_features = pd.merge(features, label_train, on='person', how='right')"
   ]
  },
  {
   "cell_type": "code",
   "execution_count": 93,
   "metadata": {},
   "outputs": [
    {
     "data": {
      "text/plain": [
       "Index(['person', 'cant_eventos_totales', 'cant_ach', 'cant_bl', 'cant_ch',\n",
       "       'cant_cv', 'cant_gl', 'cant_l', 'cant_seh', 'cant_s_p', 'cant_sp',\n",
       "       'cant_vp', 'cant_vs', 'Returning', 'tiempo_total',\n",
       "       'tiempo_new_returning', 'channel_frecuente', 'device_frecuente', 'q1',\n",
       "       'q2', 'q3', 'q4', 'q5', 'q6', 'q7', 'q8', 'q9', 'q10', 'label'],\n",
       "      dtype='object')"
      ]
     },
     "execution_count": 93,
     "metadata": {},
     "output_type": "execute_result"
    }
   ],
   "source": [
    "train_features.columns"
   ]
  },
  {
   "cell_type": "code",
   "execution_count": 94,
   "metadata": {},
   "outputs": [
    {
     "data": {
      "text/plain": [
       "0"
      ]
     },
     "execution_count": 94,
     "metadata": {},
     "output_type": "execute_result"
    }
   ],
   "source": [
    "sum(pd.isnull(train_features['device_frecuente']))"
   ]
  },
  {
   "cell_type": "code",
   "execution_count": 95,
   "metadata": {},
   "outputs": [],
   "source": [
    "train_features['Returning'].fillna(train_features['Returning'].mode()[0], inplace=True)"
   ]
  },
  {
   "cell_type": "code",
   "execution_count": 96,
   "metadata": {},
   "outputs": [],
   "source": [
    "train_features['device_frecuente'].fillna(train_features['device_frecuente'].mode()[0], inplace=True)"
   ]
  },
  {
   "cell_type": "code",
   "execution_count": 97,
   "metadata": {},
   "outputs": [],
   "source": [
    "x_train_features = train_features[[ 'cant_eventos_totales', 'cant_ach', 'cant_bl', 'cant_ch',\n",
    "       'cant_cv', 'cant_gl', 'cant_l', 'cant_seh', 'cant_s_p', 'cant_sp',\n",
    "       'cant_vp', 'cant_vs', 'Returning', 'tiempo_total',\n",
    "       'tiempo_new_returning', 'channel_frecuente', 'device_frecuente', 'q1',\n",
    "       'q2', 'q3', 'q4', 'q5', 'q6', 'q7', 'q8', 'q9', 'q10']]"
   ]
  },
  {
   "cell_type": "code",
   "execution_count": 98,
   "metadata": {},
   "outputs": [],
   "source": [
    "y_train_features = train_features.label"
   ]
  },
  {
   "cell_type": "code",
   "execution_count": 99,
   "metadata": {},
   "outputs": [
    {
     "name": "stderr",
     "output_type": "stream",
     "text": [
      "/home/july/anaconda3/lib/python3.6/site-packages/pandas/core/generic.py:3110: SettingWithCopyWarning: \n",
      "A value is trying to be set on a copy of a slice from a DataFrame.\n",
      "Try using .loc[row_indexer,col_indexer] = value instead\n",
      "\n",
      "See the caveats in the documentation: http://pandas.pydata.org/pandas-docs/stable/indexing.html#indexing-view-versus-copy\n",
      "  self[name] = value\n"
     ]
    }
   ],
   "source": [
    "x_train_features.channel_frecuente = te_channel_frecuente.fit_transform(pd.DataFrame(x_train_features.channel_frecuente), y_train_features)"
   ]
  },
  {
   "cell_type": "code",
   "execution_count": 100,
   "metadata": {},
   "outputs": [],
   "source": [
    "te_device_frecuente = ce.TargetEncoder(handle_unknown='ignore')"
   ]
  },
  {
   "cell_type": "code",
   "execution_count": 101,
   "metadata": {},
   "outputs": [
    {
     "name": "stderr",
     "output_type": "stream",
     "text": [
      "/home/july/anaconda3/lib/python3.6/site-packages/pandas/core/generic.py:3110: SettingWithCopyWarning: \n",
      "A value is trying to be set on a copy of a slice from a DataFrame.\n",
      "Try using .loc[row_indexer,col_indexer] = value instead\n",
      "\n",
      "See the caveats in the documentation: http://pandas.pydata.org/pandas-docs/stable/indexing.html#indexing-view-versus-copy\n",
      "  self[name] = value\n"
     ]
    }
   ],
   "source": [
    "x_train_features.device_frecuente = te_device_frecuente.fit_transform(pd.DataFrame(x_train_features.device_frecuente), y_train_features)"
   ]
  },
  {
   "cell_type": "code",
   "execution_count": 102,
   "metadata": {},
   "outputs": [
    {
     "data": {
      "text/plain": [
       "(19414, 27)"
      ]
     },
     "execution_count": 102,
     "metadata": {},
     "output_type": "execute_result"
    }
   ],
   "source": [
    "x_train_features.shape"
   ]
  },
  {
   "cell_type": "code",
   "execution_count": 103,
   "metadata": {},
   "outputs": [],
   "source": [
    "#split del dataset para entrenamiento y pruebas, 80% y 20% respectivamente\n",
    "Xtrn2, Xtest2, Ytrn2, Ytest2 = train_test_split(x_train_features,y_train_features,test_size=0.2)"
   ]
  },
  {
   "cell_type": "code",
   "execution_count": 104,
   "metadata": {},
   "outputs": [
    {
     "name": "stdout",
     "output_type": "stream",
     "text": [
      "Fitting 3 folds for each of 12 candidates, totalling 36 fits\n"
     ]
    },
    {
     "name": "stderr",
     "output_type": "stream",
     "text": [
      "[Parallel(n_jobs=-1)]: Using backend LokyBackend with 2 concurrent workers.\n",
      "[Parallel(n_jobs=-1)]: Done  36 out of  36 | elapsed:  3.9min finished\n"
     ]
    },
    {
     "data": {
      "text/plain": [
       "GridSearchCV(cv=3, error_score='raise-deprecating',\n",
       "       estimator=ExtraTreesClassifier(bootstrap=True, class_weight=None, criterion='gini',\n",
       "           max_depth=None, max_features='auto', max_leaf_nodes=None,\n",
       "           min_impurity_decrease=0.0, min_impurity_split=None,\n",
       "           min_samples_leaf=1, min_samples_split=5,\n",
       "           min_weight_fraction_leaf=0.0, n_estimators=150, n_jobs=None,\n",
       "           oob_score=False, random_state=None, verbose=0, warm_start=False),\n",
       "       fit_params=None, iid='warn', n_jobs=-1,\n",
       "       param_grid={'n_estimators': [50, 100, 150], 'max_features': ['auto'], 'min_samples_split': [2, 3, 4, 5], 'bootstrap': [True]},\n",
       "       pre_dispatch='2*n_jobs', refit=True, return_train_score='warn',\n",
       "       scoring=None, verbose=1)"
      ]
     },
     "execution_count": 104,
     "metadata": {},
     "output_type": "execute_result"
    }
   ],
   "source": [
    "param_grid2C = { \n",
    "          \"n_estimators\"      : [50,100,150],\n",
    "          \"max_features\"      : [\"auto\"],\n",
    "          \"min_samples_split\" : [2,3,4,5] ,\n",
    "          \"bootstrap\": [True]\n",
    "          }\n",
    "grid2C = GridSearchCV(model, param_grid, n_jobs=-1, cv=3, verbose=1)\n",
    "\n",
    "grid2C.fit(Xtrn2, Ytrn2)\n"
   ]
  },
  {
   "cell_type": "code",
   "execution_count": 107,
   "metadata": {},
   "outputs": [
    {
     "data": {
      "text/plain": [
       "0.9484257291867877"
      ]
     },
     "execution_count": 107,
     "metadata": {},
     "output_type": "execute_result"
    }
   ],
   "source": [
    "grid2C.best_score_"
   ]
  },
  {
   "cell_type": "code",
   "execution_count": 108,
   "metadata": {},
   "outputs": [],
   "source": [
    "pred = grid2C.predict_proba(Xtest2)[:,1]"
   ]
  },
  {
   "cell_type": "code",
   "execution_count": 109,
   "metadata": {},
   "outputs": [
    {
     "data": {
      "text/plain": [
       "0.8181185461492971"
      ]
     },
     "execution_count": 109,
     "metadata": {},
     "output_type": "execute_result"
    }
   ],
   "source": [
    "roc_auc_score(Ytest2,pred)"
   ]
  },
  {
   "cell_type": "code",
   "execution_count": 110,
   "metadata": {},
   "outputs": [],
   "source": [
    "test_person = pd.read_csv('../7506_ml/data/trocafone_kaggle_test.csv')"
   ]
  },
  {
   "cell_type": "code",
   "execution_count": 111,
   "metadata": {},
   "outputs": [
    {
     "data": {
      "text/plain": [
       "(19415, 1)"
      ]
     },
     "execution_count": 111,
     "metadata": {},
     "output_type": "execute_result"
    }
   ],
   "source": [
    "test_person.shape"
   ]
  },
  {
   "cell_type": "code",
   "execution_count": 112,
   "metadata": {},
   "outputs": [],
   "source": [
    "test2 = pd.merge(features , test_person, on='person', how='right')"
   ]
  },
  {
   "cell_type": "code",
   "execution_count": 113,
   "metadata": {},
   "outputs": [],
   "source": [
    "test2.channel_frecuente = te_channel_frecuente.transform(pd.DataFrame(test2.channel_frecuente))"
   ]
  },
  {
   "cell_type": "code",
   "execution_count": 114,
   "metadata": {},
   "outputs": [],
   "source": [
    "test2.device_frecuente = te_device_frecuente.transform(pd.DataFrame(test2.device_frecuente))"
   ]
  },
  {
   "cell_type": "code",
   "execution_count": 115,
   "metadata": {},
   "outputs": [
    {
     "data": {
      "text/plain": [
       "Index(['person', 'cant_eventos_totales', 'cant_ach', 'cant_bl', 'cant_ch',\n",
       "       'cant_cv', 'cant_gl', 'cant_l', 'cant_seh', 'cant_s_p', 'cant_sp',\n",
       "       'cant_vp', 'cant_vs', 'Returning', 'tiempo_total',\n",
       "       'tiempo_new_returning', 'channel_frecuente', 'device_frecuente', 'q1',\n",
       "       'q2', 'q3', 'q4', 'q5', 'q6', 'q7', 'q8', 'q9', 'q10'],\n",
       "      dtype='object')"
      ]
     },
     "execution_count": 115,
     "metadata": {},
     "output_type": "execute_result"
    }
   ],
   "source": [
    "test2.columns"
   ]
  },
  {
   "cell_type": "code",
   "execution_count": 116,
   "metadata": {},
   "outputs": [],
   "source": [
    "xtest2 = test2[['cant_eventos_totales', 'cant_ach', 'cant_bl', 'cant_ch',\n",
    "       'cant_cv', 'cant_gl', 'cant_l', 'cant_seh', 'cant_s_p', 'cant_sp',\n",
    "       'cant_vp', 'cant_vs', 'Returning', 'tiempo_total',\n",
    "       'tiempo_new_returning', 'channel_frecuente', 'device_frecuente', 'q1',\n",
    "       'q2', 'q3', 'q4', 'q5', 'q6', 'q7', 'q8', 'q9', 'q10']]"
   ]
  },
  {
   "cell_type": "code",
   "execution_count": 117,
   "metadata": {},
   "outputs": [
    {
     "data": {
      "text/plain": [
       "0"
      ]
     },
     "execution_count": 117,
     "metadata": {},
     "output_type": "execute_result"
    }
   ],
   "source": [
    "sum(pd.isnull(xtest2['device_frecuente']))"
   ]
  },
  {
   "cell_type": "code",
   "execution_count": 118,
   "metadata": {},
   "outputs": [
    {
     "name": "stderr",
     "output_type": "stream",
     "text": [
      "/home/july/anaconda3/lib/python3.6/site-packages/pandas/core/generic.py:3660: SettingWithCopyWarning: \n",
      "A value is trying to be set on a copy of a slice from a DataFrame\n",
      "\n",
      "See the caveats in the documentation: http://pandas.pydata.org/pandas-docs/stable/indexing.html#indexing-view-versus-copy\n",
      "  self._update_inplace(new_data)\n"
     ]
    }
   ],
   "source": [
    "xtest2['channel_frecuente'].fillna(xtest2['channel_frecuente'].mode()[0], inplace=True)"
   ]
  },
  {
   "cell_type": "code",
   "execution_count": 120,
   "metadata": {},
   "outputs": [],
   "source": [
    "pred = grid2C.predict_proba(xtest2)[:,1]"
   ]
  },
  {
   "cell_type": "code",
   "execution_count": 121,
   "metadata": {},
   "outputs": [],
   "source": [
    "to_public = pd.DataFrame()"
   ]
  },
  {
   "cell_type": "code",
   "execution_count": 122,
   "metadata": {},
   "outputs": [],
   "source": [
    "to_public['person'] = test2.person"
   ]
  },
  {
   "cell_type": "code",
   "execution_count": 123,
   "metadata": {},
   "outputs": [],
   "source": [
    "to_public['label'] = pred"
   ]
  },
  {
   "cell_type": "code",
   "execution_count": 124,
   "metadata": {},
   "outputs": [],
   "source": [
    "to_public.to_csv('extraTrees5.csv', index=False)"
   ]
  },
  {
   "cell_type": "code",
   "execution_count": 125,
   "metadata": {},
   "outputs": [
    {
     "data": {
      "text/plain": [
       "{'bootstrap': True,\n",
       " 'max_features': 'auto',\n",
       " 'min_samples_split': 5,\n",
       " 'n_estimators': 100}"
      ]
     },
     "execution_count": 125,
     "metadata": {},
     "output_type": "execute_result"
    }
   ],
   "source": [
    "grid2C.best_params_"
   ]
  },
  {
   "cell_type": "code",
   "execution_count": 126,
   "metadata": {},
   "outputs": [],
   "source": [
    "model2C = ExtraTreesClassifier(bootstrap=True, max_features='auto', min_samples_split=5, n_estimators=100)"
   ]
  },
  {
   "cell_type": "code",
   "execution_count": 127,
   "metadata": {},
   "outputs": [
    {
     "data": {
      "text/plain": [
       "ExtraTreesClassifier(bootstrap=True, class_weight=None, criterion='gini',\n",
       "           max_depth=None, max_features='auto', max_leaf_nodes=None,\n",
       "           min_impurity_decrease=0.0, min_impurity_split=None,\n",
       "           min_samples_leaf=1, min_samples_split=5,\n",
       "           min_weight_fraction_leaf=0.0, n_estimators=100, n_jobs=None,\n",
       "           oob_score=False, random_state=None, verbose=0, warm_start=False)"
      ]
     },
     "execution_count": 127,
     "metadata": {},
     "output_type": "execute_result"
    }
   ],
   "source": [
    "model2C.fit(Xtrn2, Ytrn2)"
   ]
  },
  {
   "cell_type": "code",
   "execution_count": 128,
   "metadata": {},
   "outputs": [],
   "source": [
    "pred2C = model2C.predict_proba(Xtest2)"
   ]
  },
  {
   "cell_type": "code",
   "execution_count": 129,
   "metadata": {},
   "outputs": [
    {
     "data": {
      "text/plain": [
       "0.812842499507195"
      ]
     },
     "execution_count": 129,
     "metadata": {},
     "output_type": "execute_result"
    }
   ],
   "source": [
    "roc_auc_score(Ytest2, pred2C[:,1])"
   ]
  },
  {
   "cell_type": "code",
   "execution_count": 130,
   "metadata": {},
   "outputs": [
    {
     "data": {
      "text/plain": [
       "array([0.0650609 , 0.05033752, 0.06440783, 0.11130231, 0.04042169,\n",
       "       0.0560851 , 0.00877165, 0.05208616, 0.05447614, 0.02823737,\n",
       "       0.06373246, 0.04027697, 0.03736303, 0.07285524, 0.04791493,\n",
       "       0.04260922, 0.03184851, 0.00770149, 0.00877217, 0.00852902,\n",
       "       0.00952757, 0.01270548, 0.01349369, 0.01497945, 0.01542966,\n",
       "       0.01897062, 0.02210382])"
      ]
     },
     "execution_count": 130,
     "metadata": {},
     "output_type": "execute_result"
    }
   ],
   "source": [
    "model2C.feature_importances_"
   ]
  },
  {
   "cell_type": "code",
   "execution_count": 131,
   "metadata": {},
   "outputs": [],
   "source": [
    "prod_cols = list(Xtrn2.columns)\n",
    "d ={}\n",
    "for p in prod_cols:\n",
    "    y = np.array(Xtrn2[p])\n",
    "    l = zip(Xtrn2.columns, model2C.feature_importances_)\n",
    "    d[p] = sorted(l, key=lambda x: x[1], reverse=True)"
   ]
  },
  {
   "cell_type": "code",
   "execution_count": 132,
   "metadata": {},
   "outputs": [
    {
     "data": {
      "text/plain": [
       "{'Returning': [('cant_ch', 0.11130230923184908),\n",
       "  ('tiempo_total', 0.0728552424425288),\n",
       "  ('cant_eventos_totales', 0.06506090029705196),\n",
       "  ('cant_bl', 0.06440782781121908),\n",
       "  ('cant_vp', 0.06373245730849121),\n",
       "  ('cant_gl', 0.05608509836264201),\n",
       "  ('cant_s_p', 0.054476136067570693),\n",
       "  ('cant_seh', 0.052086157699442165),\n",
       "  ('cant_ach', 0.05033752241965469),\n",
       "  ('tiempo_new_returning', 0.047914934424758936),\n",
       "  ('channel_frecuente', 0.04260921827718438),\n",
       "  ('cant_cv', 0.0404216890429879),\n",
       "  ('cant_vs', 0.04027697036531838),\n",
       "  ('Returning', 0.03736303457272459),\n",
       "  ('device_frecuente', 0.031848509022074076),\n",
       "  ('cant_sp', 0.02823737330114091),\n",
       "  ('q10', 0.02210382401028583),\n",
       "  ('q9', 0.018970617847955125),\n",
       "  ('q8', 0.015429655752526557),\n",
       "  ('q7', 0.014979452861978753),\n",
       "  ('q6', 0.013493685298419994),\n",
       "  ('q5', 0.012705476912496787),\n",
       "  ('q4', 0.009527572838711147),\n",
       "  ('q2', 0.00877216884253286),\n",
       "  ('cant_l', 0.008771650397294068),\n",
       "  ('q3', 0.008529021295755604),\n",
       "  ('q1', 0.0077014932954044095)],\n",
       " 'cant_ach': [('cant_ch', 0.11130230923184908),\n",
       "  ('tiempo_total', 0.0728552424425288),\n",
       "  ('cant_eventos_totales', 0.06506090029705196),\n",
       "  ('cant_bl', 0.06440782781121908),\n",
       "  ('cant_vp', 0.06373245730849121),\n",
       "  ('cant_gl', 0.05608509836264201),\n",
       "  ('cant_s_p', 0.054476136067570693),\n",
       "  ('cant_seh', 0.052086157699442165),\n",
       "  ('cant_ach', 0.05033752241965469),\n",
       "  ('tiempo_new_returning', 0.047914934424758936),\n",
       "  ('channel_frecuente', 0.04260921827718438),\n",
       "  ('cant_cv', 0.0404216890429879),\n",
       "  ('cant_vs', 0.04027697036531838),\n",
       "  ('Returning', 0.03736303457272459),\n",
       "  ('device_frecuente', 0.031848509022074076),\n",
       "  ('cant_sp', 0.02823737330114091),\n",
       "  ('q10', 0.02210382401028583),\n",
       "  ('q9', 0.018970617847955125),\n",
       "  ('q8', 0.015429655752526557),\n",
       "  ('q7', 0.014979452861978753),\n",
       "  ('q6', 0.013493685298419994),\n",
       "  ('q5', 0.012705476912496787),\n",
       "  ('q4', 0.009527572838711147),\n",
       "  ('q2', 0.00877216884253286),\n",
       "  ('cant_l', 0.008771650397294068),\n",
       "  ('q3', 0.008529021295755604),\n",
       "  ('q1', 0.0077014932954044095)],\n",
       " 'cant_bl': [('cant_ch', 0.11130230923184908),\n",
       "  ('tiempo_total', 0.0728552424425288),\n",
       "  ('cant_eventos_totales', 0.06506090029705196),\n",
       "  ('cant_bl', 0.06440782781121908),\n",
       "  ('cant_vp', 0.06373245730849121),\n",
       "  ('cant_gl', 0.05608509836264201),\n",
       "  ('cant_s_p', 0.054476136067570693),\n",
       "  ('cant_seh', 0.052086157699442165),\n",
       "  ('cant_ach', 0.05033752241965469),\n",
       "  ('tiempo_new_returning', 0.047914934424758936),\n",
       "  ('channel_frecuente', 0.04260921827718438),\n",
       "  ('cant_cv', 0.0404216890429879),\n",
       "  ('cant_vs', 0.04027697036531838),\n",
       "  ('Returning', 0.03736303457272459),\n",
       "  ('device_frecuente', 0.031848509022074076),\n",
       "  ('cant_sp', 0.02823737330114091),\n",
       "  ('q10', 0.02210382401028583),\n",
       "  ('q9', 0.018970617847955125),\n",
       "  ('q8', 0.015429655752526557),\n",
       "  ('q7', 0.014979452861978753),\n",
       "  ('q6', 0.013493685298419994),\n",
       "  ('q5', 0.012705476912496787),\n",
       "  ('q4', 0.009527572838711147),\n",
       "  ('q2', 0.00877216884253286),\n",
       "  ('cant_l', 0.008771650397294068),\n",
       "  ('q3', 0.008529021295755604),\n",
       "  ('q1', 0.0077014932954044095)],\n",
       " 'cant_ch': [('cant_ch', 0.11130230923184908),\n",
       "  ('tiempo_total', 0.0728552424425288),\n",
       "  ('cant_eventos_totales', 0.06506090029705196),\n",
       "  ('cant_bl', 0.06440782781121908),\n",
       "  ('cant_vp', 0.06373245730849121),\n",
       "  ('cant_gl', 0.05608509836264201),\n",
       "  ('cant_s_p', 0.054476136067570693),\n",
       "  ('cant_seh', 0.052086157699442165),\n",
       "  ('cant_ach', 0.05033752241965469),\n",
       "  ('tiempo_new_returning', 0.047914934424758936),\n",
       "  ('channel_frecuente', 0.04260921827718438),\n",
       "  ('cant_cv', 0.0404216890429879),\n",
       "  ('cant_vs', 0.04027697036531838),\n",
       "  ('Returning', 0.03736303457272459),\n",
       "  ('device_frecuente', 0.031848509022074076),\n",
       "  ('cant_sp', 0.02823737330114091),\n",
       "  ('q10', 0.02210382401028583),\n",
       "  ('q9', 0.018970617847955125),\n",
       "  ('q8', 0.015429655752526557),\n",
       "  ('q7', 0.014979452861978753),\n",
       "  ('q6', 0.013493685298419994),\n",
       "  ('q5', 0.012705476912496787),\n",
       "  ('q4', 0.009527572838711147),\n",
       "  ('q2', 0.00877216884253286),\n",
       "  ('cant_l', 0.008771650397294068),\n",
       "  ('q3', 0.008529021295755604),\n",
       "  ('q1', 0.0077014932954044095)],\n",
       " 'cant_cv': [('cant_ch', 0.11130230923184908),\n",
       "  ('tiempo_total', 0.0728552424425288),\n",
       "  ('cant_eventos_totales', 0.06506090029705196),\n",
       "  ('cant_bl', 0.06440782781121908),\n",
       "  ('cant_vp', 0.06373245730849121),\n",
       "  ('cant_gl', 0.05608509836264201),\n",
       "  ('cant_s_p', 0.054476136067570693),\n",
       "  ('cant_seh', 0.052086157699442165),\n",
       "  ('cant_ach', 0.05033752241965469),\n",
       "  ('tiempo_new_returning', 0.047914934424758936),\n",
       "  ('channel_frecuente', 0.04260921827718438),\n",
       "  ('cant_cv', 0.0404216890429879),\n",
       "  ('cant_vs', 0.04027697036531838),\n",
       "  ('Returning', 0.03736303457272459),\n",
       "  ('device_frecuente', 0.031848509022074076),\n",
       "  ('cant_sp', 0.02823737330114091),\n",
       "  ('q10', 0.02210382401028583),\n",
       "  ('q9', 0.018970617847955125),\n",
       "  ('q8', 0.015429655752526557),\n",
       "  ('q7', 0.014979452861978753),\n",
       "  ('q6', 0.013493685298419994),\n",
       "  ('q5', 0.012705476912496787),\n",
       "  ('q4', 0.009527572838711147),\n",
       "  ('q2', 0.00877216884253286),\n",
       "  ('cant_l', 0.008771650397294068),\n",
       "  ('q3', 0.008529021295755604),\n",
       "  ('q1', 0.0077014932954044095)],\n",
       " 'cant_eventos_totales': [('cant_ch', 0.11130230923184908),\n",
       "  ('tiempo_total', 0.0728552424425288),\n",
       "  ('cant_eventos_totales', 0.06506090029705196),\n",
       "  ('cant_bl', 0.06440782781121908),\n",
       "  ('cant_vp', 0.06373245730849121),\n",
       "  ('cant_gl', 0.05608509836264201),\n",
       "  ('cant_s_p', 0.054476136067570693),\n",
       "  ('cant_seh', 0.052086157699442165),\n",
       "  ('cant_ach', 0.05033752241965469),\n",
       "  ('tiempo_new_returning', 0.047914934424758936),\n",
       "  ('channel_frecuente', 0.04260921827718438),\n",
       "  ('cant_cv', 0.0404216890429879),\n",
       "  ('cant_vs', 0.04027697036531838),\n",
       "  ('Returning', 0.03736303457272459),\n",
       "  ('device_frecuente', 0.031848509022074076),\n",
       "  ('cant_sp', 0.02823737330114091),\n",
       "  ('q10', 0.02210382401028583),\n",
       "  ('q9', 0.018970617847955125),\n",
       "  ('q8', 0.015429655752526557),\n",
       "  ('q7', 0.014979452861978753),\n",
       "  ('q6', 0.013493685298419994),\n",
       "  ('q5', 0.012705476912496787),\n",
       "  ('q4', 0.009527572838711147),\n",
       "  ('q2', 0.00877216884253286),\n",
       "  ('cant_l', 0.008771650397294068),\n",
       "  ('q3', 0.008529021295755604),\n",
       "  ('q1', 0.0077014932954044095)],\n",
       " 'cant_gl': [('cant_ch', 0.11130230923184908),\n",
       "  ('tiempo_total', 0.0728552424425288),\n",
       "  ('cant_eventos_totales', 0.06506090029705196),\n",
       "  ('cant_bl', 0.06440782781121908),\n",
       "  ('cant_vp', 0.06373245730849121),\n",
       "  ('cant_gl', 0.05608509836264201),\n",
       "  ('cant_s_p', 0.054476136067570693),\n",
       "  ('cant_seh', 0.052086157699442165),\n",
       "  ('cant_ach', 0.05033752241965469),\n",
       "  ('tiempo_new_returning', 0.047914934424758936),\n",
       "  ('channel_frecuente', 0.04260921827718438),\n",
       "  ('cant_cv', 0.0404216890429879),\n",
       "  ('cant_vs', 0.04027697036531838),\n",
       "  ('Returning', 0.03736303457272459),\n",
       "  ('device_frecuente', 0.031848509022074076),\n",
       "  ('cant_sp', 0.02823737330114091),\n",
       "  ('q10', 0.02210382401028583),\n",
       "  ('q9', 0.018970617847955125),\n",
       "  ('q8', 0.015429655752526557),\n",
       "  ('q7', 0.014979452861978753),\n",
       "  ('q6', 0.013493685298419994),\n",
       "  ('q5', 0.012705476912496787),\n",
       "  ('q4', 0.009527572838711147),\n",
       "  ('q2', 0.00877216884253286),\n",
       "  ('cant_l', 0.008771650397294068),\n",
       "  ('q3', 0.008529021295755604),\n",
       "  ('q1', 0.0077014932954044095)],\n",
       " 'cant_l': [('cant_ch', 0.11130230923184908),\n",
       "  ('tiempo_total', 0.0728552424425288),\n",
       "  ('cant_eventos_totales', 0.06506090029705196),\n",
       "  ('cant_bl', 0.06440782781121908),\n",
       "  ('cant_vp', 0.06373245730849121),\n",
       "  ('cant_gl', 0.05608509836264201),\n",
       "  ('cant_s_p', 0.054476136067570693),\n",
       "  ('cant_seh', 0.052086157699442165),\n",
       "  ('cant_ach', 0.05033752241965469),\n",
       "  ('tiempo_new_returning', 0.047914934424758936),\n",
       "  ('channel_frecuente', 0.04260921827718438),\n",
       "  ('cant_cv', 0.0404216890429879),\n",
       "  ('cant_vs', 0.04027697036531838),\n",
       "  ('Returning', 0.03736303457272459),\n",
       "  ('device_frecuente', 0.031848509022074076),\n",
       "  ('cant_sp', 0.02823737330114091),\n",
       "  ('q10', 0.02210382401028583),\n",
       "  ('q9', 0.018970617847955125),\n",
       "  ('q8', 0.015429655752526557),\n",
       "  ('q7', 0.014979452861978753),\n",
       "  ('q6', 0.013493685298419994),\n",
       "  ('q5', 0.012705476912496787),\n",
       "  ('q4', 0.009527572838711147),\n",
       "  ('q2', 0.00877216884253286),\n",
       "  ('cant_l', 0.008771650397294068),\n",
       "  ('q3', 0.008529021295755604),\n",
       "  ('q1', 0.0077014932954044095)],\n",
       " 'cant_s_p': [('cant_ch', 0.11130230923184908),\n",
       "  ('tiempo_total', 0.0728552424425288),\n",
       "  ('cant_eventos_totales', 0.06506090029705196),\n",
       "  ('cant_bl', 0.06440782781121908),\n",
       "  ('cant_vp', 0.06373245730849121),\n",
       "  ('cant_gl', 0.05608509836264201),\n",
       "  ('cant_s_p', 0.054476136067570693),\n",
       "  ('cant_seh', 0.052086157699442165),\n",
       "  ('cant_ach', 0.05033752241965469),\n",
       "  ('tiempo_new_returning', 0.047914934424758936),\n",
       "  ('channel_frecuente', 0.04260921827718438),\n",
       "  ('cant_cv', 0.0404216890429879),\n",
       "  ('cant_vs', 0.04027697036531838),\n",
       "  ('Returning', 0.03736303457272459),\n",
       "  ('device_frecuente', 0.031848509022074076),\n",
       "  ('cant_sp', 0.02823737330114091),\n",
       "  ('q10', 0.02210382401028583),\n",
       "  ('q9', 0.018970617847955125),\n",
       "  ('q8', 0.015429655752526557),\n",
       "  ('q7', 0.014979452861978753),\n",
       "  ('q6', 0.013493685298419994),\n",
       "  ('q5', 0.012705476912496787),\n",
       "  ('q4', 0.009527572838711147),\n",
       "  ('q2', 0.00877216884253286),\n",
       "  ('cant_l', 0.008771650397294068),\n",
       "  ('q3', 0.008529021295755604),\n",
       "  ('q1', 0.0077014932954044095)],\n",
       " 'cant_seh': [('cant_ch', 0.11130230923184908),\n",
       "  ('tiempo_total', 0.0728552424425288),\n",
       "  ('cant_eventos_totales', 0.06506090029705196),\n",
       "  ('cant_bl', 0.06440782781121908),\n",
       "  ('cant_vp', 0.06373245730849121),\n",
       "  ('cant_gl', 0.05608509836264201),\n",
       "  ('cant_s_p', 0.054476136067570693),\n",
       "  ('cant_seh', 0.052086157699442165),\n",
       "  ('cant_ach', 0.05033752241965469),\n",
       "  ('tiempo_new_returning', 0.047914934424758936),\n",
       "  ('channel_frecuente', 0.04260921827718438),\n",
       "  ('cant_cv', 0.0404216890429879),\n",
       "  ('cant_vs', 0.04027697036531838),\n",
       "  ('Returning', 0.03736303457272459),\n",
       "  ('device_frecuente', 0.031848509022074076),\n",
       "  ('cant_sp', 0.02823737330114091),\n",
       "  ('q10', 0.02210382401028583),\n",
       "  ('q9', 0.018970617847955125),\n",
       "  ('q8', 0.015429655752526557),\n",
       "  ('q7', 0.014979452861978753),\n",
       "  ('q6', 0.013493685298419994),\n",
       "  ('q5', 0.012705476912496787),\n",
       "  ('q4', 0.009527572838711147),\n",
       "  ('q2', 0.00877216884253286),\n",
       "  ('cant_l', 0.008771650397294068),\n",
       "  ('q3', 0.008529021295755604),\n",
       "  ('q1', 0.0077014932954044095)],\n",
       " 'cant_sp': [('cant_ch', 0.11130230923184908),\n",
       "  ('tiempo_total', 0.0728552424425288),\n",
       "  ('cant_eventos_totales', 0.06506090029705196),\n",
       "  ('cant_bl', 0.06440782781121908),\n",
       "  ('cant_vp', 0.06373245730849121),\n",
       "  ('cant_gl', 0.05608509836264201),\n",
       "  ('cant_s_p', 0.054476136067570693),\n",
       "  ('cant_seh', 0.052086157699442165),\n",
       "  ('cant_ach', 0.05033752241965469),\n",
       "  ('tiempo_new_returning', 0.047914934424758936),\n",
       "  ('channel_frecuente', 0.04260921827718438),\n",
       "  ('cant_cv', 0.0404216890429879),\n",
       "  ('cant_vs', 0.04027697036531838),\n",
       "  ('Returning', 0.03736303457272459),\n",
       "  ('device_frecuente', 0.031848509022074076),\n",
       "  ('cant_sp', 0.02823737330114091),\n",
       "  ('q10', 0.02210382401028583),\n",
       "  ('q9', 0.018970617847955125),\n",
       "  ('q8', 0.015429655752526557),\n",
       "  ('q7', 0.014979452861978753),\n",
       "  ('q6', 0.013493685298419994),\n",
       "  ('q5', 0.012705476912496787),\n",
       "  ('q4', 0.009527572838711147),\n",
       "  ('q2', 0.00877216884253286),\n",
       "  ('cant_l', 0.008771650397294068),\n",
       "  ('q3', 0.008529021295755604),\n",
       "  ('q1', 0.0077014932954044095)],\n",
       " 'cant_vp': [('cant_ch', 0.11130230923184908),\n",
       "  ('tiempo_total', 0.0728552424425288),\n",
       "  ('cant_eventos_totales', 0.06506090029705196),\n",
       "  ('cant_bl', 0.06440782781121908),\n",
       "  ('cant_vp', 0.06373245730849121),\n",
       "  ('cant_gl', 0.05608509836264201),\n",
       "  ('cant_s_p', 0.054476136067570693),\n",
       "  ('cant_seh', 0.052086157699442165),\n",
       "  ('cant_ach', 0.05033752241965469),\n",
       "  ('tiempo_new_returning', 0.047914934424758936),\n",
       "  ('channel_frecuente', 0.04260921827718438),\n",
       "  ('cant_cv', 0.0404216890429879),\n",
       "  ('cant_vs', 0.04027697036531838),\n",
       "  ('Returning', 0.03736303457272459),\n",
       "  ('device_frecuente', 0.031848509022074076),\n",
       "  ('cant_sp', 0.02823737330114091),\n",
       "  ('q10', 0.02210382401028583),\n",
       "  ('q9', 0.018970617847955125),\n",
       "  ('q8', 0.015429655752526557),\n",
       "  ('q7', 0.014979452861978753),\n",
       "  ('q6', 0.013493685298419994),\n",
       "  ('q5', 0.012705476912496787),\n",
       "  ('q4', 0.009527572838711147),\n",
       "  ('q2', 0.00877216884253286),\n",
       "  ('cant_l', 0.008771650397294068),\n",
       "  ('q3', 0.008529021295755604),\n",
       "  ('q1', 0.0077014932954044095)],\n",
       " 'cant_vs': [('cant_ch', 0.11130230923184908),\n",
       "  ('tiempo_total', 0.0728552424425288),\n",
       "  ('cant_eventos_totales', 0.06506090029705196),\n",
       "  ('cant_bl', 0.06440782781121908),\n",
       "  ('cant_vp', 0.06373245730849121),\n",
       "  ('cant_gl', 0.05608509836264201),\n",
       "  ('cant_s_p', 0.054476136067570693),\n",
       "  ('cant_seh', 0.052086157699442165),\n",
       "  ('cant_ach', 0.05033752241965469),\n",
       "  ('tiempo_new_returning', 0.047914934424758936),\n",
       "  ('channel_frecuente', 0.04260921827718438),\n",
       "  ('cant_cv', 0.0404216890429879),\n",
       "  ('cant_vs', 0.04027697036531838),\n",
       "  ('Returning', 0.03736303457272459),\n",
       "  ('device_frecuente', 0.031848509022074076),\n",
       "  ('cant_sp', 0.02823737330114091),\n",
       "  ('q10', 0.02210382401028583),\n",
       "  ('q9', 0.018970617847955125),\n",
       "  ('q8', 0.015429655752526557),\n",
       "  ('q7', 0.014979452861978753),\n",
       "  ('q6', 0.013493685298419994),\n",
       "  ('q5', 0.012705476912496787),\n",
       "  ('q4', 0.009527572838711147),\n",
       "  ('q2', 0.00877216884253286),\n",
       "  ('cant_l', 0.008771650397294068),\n",
       "  ('q3', 0.008529021295755604),\n",
       "  ('q1', 0.0077014932954044095)],\n",
       " 'channel_frecuente': [('cant_ch', 0.11130230923184908),\n",
       "  ('tiempo_total', 0.0728552424425288),\n",
       "  ('cant_eventos_totales', 0.06506090029705196),\n",
       "  ('cant_bl', 0.06440782781121908),\n",
       "  ('cant_vp', 0.06373245730849121),\n",
       "  ('cant_gl', 0.05608509836264201),\n",
       "  ('cant_s_p', 0.054476136067570693),\n",
       "  ('cant_seh', 0.052086157699442165),\n",
       "  ('cant_ach', 0.05033752241965469),\n",
       "  ('tiempo_new_returning', 0.047914934424758936),\n",
       "  ('channel_frecuente', 0.04260921827718438),\n",
       "  ('cant_cv', 0.0404216890429879),\n",
       "  ('cant_vs', 0.04027697036531838),\n",
       "  ('Returning', 0.03736303457272459),\n",
       "  ('device_frecuente', 0.031848509022074076),\n",
       "  ('cant_sp', 0.02823737330114091),\n",
       "  ('q10', 0.02210382401028583),\n",
       "  ('q9', 0.018970617847955125),\n",
       "  ('q8', 0.015429655752526557),\n",
       "  ('q7', 0.014979452861978753),\n",
       "  ('q6', 0.013493685298419994),\n",
       "  ('q5', 0.012705476912496787),\n",
       "  ('q4', 0.009527572838711147),\n",
       "  ('q2', 0.00877216884253286),\n",
       "  ('cant_l', 0.008771650397294068),\n",
       "  ('q3', 0.008529021295755604),\n",
       "  ('q1', 0.0077014932954044095)],\n",
       " 'device_frecuente': [('cant_ch', 0.11130230923184908),\n",
       "  ('tiempo_total', 0.0728552424425288),\n",
       "  ('cant_eventos_totales', 0.06506090029705196),\n",
       "  ('cant_bl', 0.06440782781121908),\n",
       "  ('cant_vp', 0.06373245730849121),\n",
       "  ('cant_gl', 0.05608509836264201),\n",
       "  ('cant_s_p', 0.054476136067570693),\n",
       "  ('cant_seh', 0.052086157699442165),\n",
       "  ('cant_ach', 0.05033752241965469),\n",
       "  ('tiempo_new_returning', 0.047914934424758936),\n",
       "  ('channel_frecuente', 0.04260921827718438),\n",
       "  ('cant_cv', 0.0404216890429879),\n",
       "  ('cant_vs', 0.04027697036531838),\n",
       "  ('Returning', 0.03736303457272459),\n",
       "  ('device_frecuente', 0.031848509022074076),\n",
       "  ('cant_sp', 0.02823737330114091),\n",
       "  ('q10', 0.02210382401028583),\n",
       "  ('q9', 0.018970617847955125),\n",
       "  ('q8', 0.015429655752526557),\n",
       "  ('q7', 0.014979452861978753),\n",
       "  ('q6', 0.013493685298419994),\n",
       "  ('q5', 0.012705476912496787),\n",
       "  ('q4', 0.009527572838711147),\n",
       "  ('q2', 0.00877216884253286),\n",
       "  ('cant_l', 0.008771650397294068),\n",
       "  ('q3', 0.008529021295755604),\n",
       "  ('q1', 0.0077014932954044095)],\n",
       " 'q1': [('cant_ch', 0.11130230923184908),\n",
       "  ('tiempo_total', 0.0728552424425288),\n",
       "  ('cant_eventos_totales', 0.06506090029705196),\n",
       "  ('cant_bl', 0.06440782781121908),\n",
       "  ('cant_vp', 0.06373245730849121),\n",
       "  ('cant_gl', 0.05608509836264201),\n",
       "  ('cant_s_p', 0.054476136067570693),\n",
       "  ('cant_seh', 0.052086157699442165),\n",
       "  ('cant_ach', 0.05033752241965469),\n",
       "  ('tiempo_new_returning', 0.047914934424758936),\n",
       "  ('channel_frecuente', 0.04260921827718438),\n",
       "  ('cant_cv', 0.0404216890429879),\n",
       "  ('cant_vs', 0.04027697036531838),\n",
       "  ('Returning', 0.03736303457272459),\n",
       "  ('device_frecuente', 0.031848509022074076),\n",
       "  ('cant_sp', 0.02823737330114091),\n",
       "  ('q10', 0.02210382401028583),\n",
       "  ('q9', 0.018970617847955125),\n",
       "  ('q8', 0.015429655752526557),\n",
       "  ('q7', 0.014979452861978753),\n",
       "  ('q6', 0.013493685298419994),\n",
       "  ('q5', 0.012705476912496787),\n",
       "  ('q4', 0.009527572838711147),\n",
       "  ('q2', 0.00877216884253286),\n",
       "  ('cant_l', 0.008771650397294068),\n",
       "  ('q3', 0.008529021295755604),\n",
       "  ('q1', 0.0077014932954044095)],\n",
       " 'q10': [('cant_ch', 0.11130230923184908),\n",
       "  ('tiempo_total', 0.0728552424425288),\n",
       "  ('cant_eventos_totales', 0.06506090029705196),\n",
       "  ('cant_bl', 0.06440782781121908),\n",
       "  ('cant_vp', 0.06373245730849121),\n",
       "  ('cant_gl', 0.05608509836264201),\n",
       "  ('cant_s_p', 0.054476136067570693),\n",
       "  ('cant_seh', 0.052086157699442165),\n",
       "  ('cant_ach', 0.05033752241965469),\n",
       "  ('tiempo_new_returning', 0.047914934424758936),\n",
       "  ('channel_frecuente', 0.04260921827718438),\n",
       "  ('cant_cv', 0.0404216890429879),\n",
       "  ('cant_vs', 0.04027697036531838),\n",
       "  ('Returning', 0.03736303457272459),\n",
       "  ('device_frecuente', 0.031848509022074076),\n",
       "  ('cant_sp', 0.02823737330114091),\n",
       "  ('q10', 0.02210382401028583),\n",
       "  ('q9', 0.018970617847955125),\n",
       "  ('q8', 0.015429655752526557),\n",
       "  ('q7', 0.014979452861978753),\n",
       "  ('q6', 0.013493685298419994),\n",
       "  ('q5', 0.012705476912496787),\n",
       "  ('q4', 0.009527572838711147),\n",
       "  ('q2', 0.00877216884253286),\n",
       "  ('cant_l', 0.008771650397294068),\n",
       "  ('q3', 0.008529021295755604),\n",
       "  ('q1', 0.0077014932954044095)],\n",
       " 'q2': [('cant_ch', 0.11130230923184908),\n",
       "  ('tiempo_total', 0.0728552424425288),\n",
       "  ('cant_eventos_totales', 0.06506090029705196),\n",
       "  ('cant_bl', 0.06440782781121908),\n",
       "  ('cant_vp', 0.06373245730849121),\n",
       "  ('cant_gl', 0.05608509836264201),\n",
       "  ('cant_s_p', 0.054476136067570693),\n",
       "  ('cant_seh', 0.052086157699442165),\n",
       "  ('cant_ach', 0.05033752241965469),\n",
       "  ('tiempo_new_returning', 0.047914934424758936),\n",
       "  ('channel_frecuente', 0.04260921827718438),\n",
       "  ('cant_cv', 0.0404216890429879),\n",
       "  ('cant_vs', 0.04027697036531838),\n",
       "  ('Returning', 0.03736303457272459),\n",
       "  ('device_frecuente', 0.031848509022074076),\n",
       "  ('cant_sp', 0.02823737330114091),\n",
       "  ('q10', 0.02210382401028583),\n",
       "  ('q9', 0.018970617847955125),\n",
       "  ('q8', 0.015429655752526557),\n",
       "  ('q7', 0.014979452861978753),\n",
       "  ('q6', 0.013493685298419994),\n",
       "  ('q5', 0.012705476912496787),\n",
       "  ('q4', 0.009527572838711147),\n",
       "  ('q2', 0.00877216884253286),\n",
       "  ('cant_l', 0.008771650397294068),\n",
       "  ('q3', 0.008529021295755604),\n",
       "  ('q1', 0.0077014932954044095)],\n",
       " 'q3': [('cant_ch', 0.11130230923184908),\n",
       "  ('tiempo_total', 0.0728552424425288),\n",
       "  ('cant_eventos_totales', 0.06506090029705196),\n",
       "  ('cant_bl', 0.06440782781121908),\n",
       "  ('cant_vp', 0.06373245730849121),\n",
       "  ('cant_gl', 0.05608509836264201),\n",
       "  ('cant_s_p', 0.054476136067570693),\n",
       "  ('cant_seh', 0.052086157699442165),\n",
       "  ('cant_ach', 0.05033752241965469),\n",
       "  ('tiempo_new_returning', 0.047914934424758936),\n",
       "  ('channel_frecuente', 0.04260921827718438),\n",
       "  ('cant_cv', 0.0404216890429879),\n",
       "  ('cant_vs', 0.04027697036531838),\n",
       "  ('Returning', 0.03736303457272459),\n",
       "  ('device_frecuente', 0.031848509022074076),\n",
       "  ('cant_sp', 0.02823737330114091),\n",
       "  ('q10', 0.02210382401028583),\n",
       "  ('q9', 0.018970617847955125),\n",
       "  ('q8', 0.015429655752526557),\n",
       "  ('q7', 0.014979452861978753),\n",
       "  ('q6', 0.013493685298419994),\n",
       "  ('q5', 0.012705476912496787),\n",
       "  ('q4', 0.009527572838711147),\n",
       "  ('q2', 0.00877216884253286),\n",
       "  ('cant_l', 0.008771650397294068),\n",
       "  ('q3', 0.008529021295755604),\n",
       "  ('q1', 0.0077014932954044095)],\n",
       " 'q4': [('cant_ch', 0.11130230923184908),\n",
       "  ('tiempo_total', 0.0728552424425288),\n",
       "  ('cant_eventos_totales', 0.06506090029705196),\n",
       "  ('cant_bl', 0.06440782781121908),\n",
       "  ('cant_vp', 0.06373245730849121),\n",
       "  ('cant_gl', 0.05608509836264201),\n",
       "  ('cant_s_p', 0.054476136067570693),\n",
       "  ('cant_seh', 0.052086157699442165),\n",
       "  ('cant_ach', 0.05033752241965469),\n",
       "  ('tiempo_new_returning', 0.047914934424758936),\n",
       "  ('channel_frecuente', 0.04260921827718438),\n",
       "  ('cant_cv', 0.0404216890429879),\n",
       "  ('cant_vs', 0.04027697036531838),\n",
       "  ('Returning', 0.03736303457272459),\n",
       "  ('device_frecuente', 0.031848509022074076),\n",
       "  ('cant_sp', 0.02823737330114091),\n",
       "  ('q10', 0.02210382401028583),\n",
       "  ('q9', 0.018970617847955125),\n",
       "  ('q8', 0.015429655752526557),\n",
       "  ('q7', 0.014979452861978753),\n",
       "  ('q6', 0.013493685298419994),\n",
       "  ('q5', 0.012705476912496787),\n",
       "  ('q4', 0.009527572838711147),\n",
       "  ('q2', 0.00877216884253286),\n",
       "  ('cant_l', 0.008771650397294068),\n",
       "  ('q3', 0.008529021295755604),\n",
       "  ('q1', 0.0077014932954044095)],\n",
       " 'q5': [('cant_ch', 0.11130230923184908),\n",
       "  ('tiempo_total', 0.0728552424425288),\n",
       "  ('cant_eventos_totales', 0.06506090029705196),\n",
       "  ('cant_bl', 0.06440782781121908),\n",
       "  ('cant_vp', 0.06373245730849121),\n",
       "  ('cant_gl', 0.05608509836264201),\n",
       "  ('cant_s_p', 0.054476136067570693),\n",
       "  ('cant_seh', 0.052086157699442165),\n",
       "  ('cant_ach', 0.05033752241965469),\n",
       "  ('tiempo_new_returning', 0.047914934424758936),\n",
       "  ('channel_frecuente', 0.04260921827718438),\n",
       "  ('cant_cv', 0.0404216890429879),\n",
       "  ('cant_vs', 0.04027697036531838),\n",
       "  ('Returning', 0.03736303457272459),\n",
       "  ('device_frecuente', 0.031848509022074076),\n",
       "  ('cant_sp', 0.02823737330114091),\n",
       "  ('q10', 0.02210382401028583),\n",
       "  ('q9', 0.018970617847955125),\n",
       "  ('q8', 0.015429655752526557),\n",
       "  ('q7', 0.014979452861978753),\n",
       "  ('q6', 0.013493685298419994),\n",
       "  ('q5', 0.012705476912496787),\n",
       "  ('q4', 0.009527572838711147),\n",
       "  ('q2', 0.00877216884253286),\n",
       "  ('cant_l', 0.008771650397294068),\n",
       "  ('q3', 0.008529021295755604),\n",
       "  ('q1', 0.0077014932954044095)],\n",
       " 'q6': [('cant_ch', 0.11130230923184908),\n",
       "  ('tiempo_total', 0.0728552424425288),\n",
       "  ('cant_eventos_totales', 0.06506090029705196),\n",
       "  ('cant_bl', 0.06440782781121908),\n",
       "  ('cant_vp', 0.06373245730849121),\n",
       "  ('cant_gl', 0.05608509836264201),\n",
       "  ('cant_s_p', 0.054476136067570693),\n",
       "  ('cant_seh', 0.052086157699442165),\n",
       "  ('cant_ach', 0.05033752241965469),\n",
       "  ('tiempo_new_returning', 0.047914934424758936),\n",
       "  ('channel_frecuente', 0.04260921827718438),\n",
       "  ('cant_cv', 0.0404216890429879),\n",
       "  ('cant_vs', 0.04027697036531838),\n",
       "  ('Returning', 0.03736303457272459),\n",
       "  ('device_frecuente', 0.031848509022074076),\n",
       "  ('cant_sp', 0.02823737330114091),\n",
       "  ('q10', 0.02210382401028583),\n",
       "  ('q9', 0.018970617847955125),\n",
       "  ('q8', 0.015429655752526557),\n",
       "  ('q7', 0.014979452861978753),\n",
       "  ('q6', 0.013493685298419994),\n",
       "  ('q5', 0.012705476912496787),\n",
       "  ('q4', 0.009527572838711147),\n",
       "  ('q2', 0.00877216884253286),\n",
       "  ('cant_l', 0.008771650397294068),\n",
       "  ('q3', 0.008529021295755604),\n",
       "  ('q1', 0.0077014932954044095)],\n",
       " 'q7': [('cant_ch', 0.11130230923184908),\n",
       "  ('tiempo_total', 0.0728552424425288),\n",
       "  ('cant_eventos_totales', 0.06506090029705196),\n",
       "  ('cant_bl', 0.06440782781121908),\n",
       "  ('cant_vp', 0.06373245730849121),\n",
       "  ('cant_gl', 0.05608509836264201),\n",
       "  ('cant_s_p', 0.054476136067570693),\n",
       "  ('cant_seh', 0.052086157699442165),\n",
       "  ('cant_ach', 0.05033752241965469),\n",
       "  ('tiempo_new_returning', 0.047914934424758936),\n",
       "  ('channel_frecuente', 0.04260921827718438),\n",
       "  ('cant_cv', 0.0404216890429879),\n",
       "  ('cant_vs', 0.04027697036531838),\n",
       "  ('Returning', 0.03736303457272459),\n",
       "  ('device_frecuente', 0.031848509022074076),\n",
       "  ('cant_sp', 0.02823737330114091),\n",
       "  ('q10', 0.02210382401028583),\n",
       "  ('q9', 0.018970617847955125),\n",
       "  ('q8', 0.015429655752526557),\n",
       "  ('q7', 0.014979452861978753),\n",
       "  ('q6', 0.013493685298419994),\n",
       "  ('q5', 0.012705476912496787),\n",
       "  ('q4', 0.009527572838711147),\n",
       "  ('q2', 0.00877216884253286),\n",
       "  ('cant_l', 0.008771650397294068),\n",
       "  ('q3', 0.008529021295755604),\n",
       "  ('q1', 0.0077014932954044095)],\n",
       " 'q8': [('cant_ch', 0.11130230923184908),\n",
       "  ('tiempo_total', 0.0728552424425288),\n",
       "  ('cant_eventos_totales', 0.06506090029705196),\n",
       "  ('cant_bl', 0.06440782781121908),\n",
       "  ('cant_vp', 0.06373245730849121),\n",
       "  ('cant_gl', 0.05608509836264201),\n",
       "  ('cant_s_p', 0.054476136067570693),\n",
       "  ('cant_seh', 0.052086157699442165),\n",
       "  ('cant_ach', 0.05033752241965469),\n",
       "  ('tiempo_new_returning', 0.047914934424758936),\n",
       "  ('channel_frecuente', 0.04260921827718438),\n",
       "  ('cant_cv', 0.0404216890429879),\n",
       "  ('cant_vs', 0.04027697036531838),\n",
       "  ('Returning', 0.03736303457272459),\n",
       "  ('device_frecuente', 0.031848509022074076),\n",
       "  ('cant_sp', 0.02823737330114091),\n",
       "  ('q10', 0.02210382401028583),\n",
       "  ('q9', 0.018970617847955125),\n",
       "  ('q8', 0.015429655752526557),\n",
       "  ('q7', 0.014979452861978753),\n",
       "  ('q6', 0.013493685298419994),\n",
       "  ('q5', 0.012705476912496787),\n",
       "  ('q4', 0.009527572838711147),\n",
       "  ('q2', 0.00877216884253286),\n",
       "  ('cant_l', 0.008771650397294068),\n",
       "  ('q3', 0.008529021295755604),\n",
       "  ('q1', 0.0077014932954044095)],\n",
       " 'q9': [('cant_ch', 0.11130230923184908),\n",
       "  ('tiempo_total', 0.0728552424425288),\n",
       "  ('cant_eventos_totales', 0.06506090029705196),\n",
       "  ('cant_bl', 0.06440782781121908),\n",
       "  ('cant_vp', 0.06373245730849121),\n",
       "  ('cant_gl', 0.05608509836264201),\n",
       "  ('cant_s_p', 0.054476136067570693),\n",
       "  ('cant_seh', 0.052086157699442165),\n",
       "  ('cant_ach', 0.05033752241965469),\n",
       "  ('tiempo_new_returning', 0.047914934424758936),\n",
       "  ('channel_frecuente', 0.04260921827718438),\n",
       "  ('cant_cv', 0.0404216890429879),\n",
       "  ('cant_vs', 0.04027697036531838),\n",
       "  ('Returning', 0.03736303457272459),\n",
       "  ('device_frecuente', 0.031848509022074076),\n",
       "  ('cant_sp', 0.02823737330114091),\n",
       "  ('q10', 0.02210382401028583),\n",
       "  ('q9', 0.018970617847955125),\n",
       "  ('q8', 0.015429655752526557),\n",
       "  ('q7', 0.014979452861978753),\n",
       "  ('q6', 0.013493685298419994),\n",
       "  ('q5', 0.012705476912496787),\n",
       "  ('q4', 0.009527572838711147),\n",
       "  ('q2', 0.00877216884253286),\n",
       "  ('cant_l', 0.008771650397294068),\n",
       "  ('q3', 0.008529021295755604),\n",
       "  ('q1', 0.0077014932954044095)],\n",
       " 'tiempo_new_returning': [('cant_ch', 0.11130230923184908),\n",
       "  ('tiempo_total', 0.0728552424425288),\n",
       "  ('cant_eventos_totales', 0.06506090029705196),\n",
       "  ('cant_bl', 0.06440782781121908),\n",
       "  ('cant_vp', 0.06373245730849121),\n",
       "  ('cant_gl', 0.05608509836264201),\n",
       "  ('cant_s_p', 0.054476136067570693),\n",
       "  ('cant_seh', 0.052086157699442165),\n",
       "  ('cant_ach', 0.05033752241965469),\n",
       "  ('tiempo_new_returning', 0.047914934424758936),\n",
       "  ('channel_frecuente', 0.04260921827718438),\n",
       "  ('cant_cv', 0.0404216890429879),\n",
       "  ('cant_vs', 0.04027697036531838),\n",
       "  ('Returning', 0.03736303457272459),\n",
       "  ('device_frecuente', 0.031848509022074076),\n",
       "  ('cant_sp', 0.02823737330114091),\n",
       "  ('q10', 0.02210382401028583),\n",
       "  ('q9', 0.018970617847955125),\n",
       "  ('q8', 0.015429655752526557),\n",
       "  ('q7', 0.014979452861978753),\n",
       "  ('q6', 0.013493685298419994),\n",
       "  ('q5', 0.012705476912496787),\n",
       "  ('q4', 0.009527572838711147),\n",
       "  ('q2', 0.00877216884253286),\n",
       "  ('cant_l', 0.008771650397294068),\n",
       "  ('q3', 0.008529021295755604),\n",
       "  ('q1', 0.0077014932954044095)],\n",
       " 'tiempo_total': [('cant_ch', 0.11130230923184908),\n",
       "  ('tiempo_total', 0.0728552424425288),\n",
       "  ('cant_eventos_totales', 0.06506090029705196),\n",
       "  ('cant_bl', 0.06440782781121908),\n",
       "  ('cant_vp', 0.06373245730849121),\n",
       "  ('cant_gl', 0.05608509836264201),\n",
       "  ('cant_s_p', 0.054476136067570693),\n",
       "  ('cant_seh', 0.052086157699442165),\n",
       "  ('cant_ach', 0.05033752241965469),\n",
       "  ('tiempo_new_returning', 0.047914934424758936),\n",
       "  ('channel_frecuente', 0.04260921827718438),\n",
       "  ('cant_cv', 0.0404216890429879),\n",
       "  ('cant_vs', 0.04027697036531838),\n",
       "  ('Returning', 0.03736303457272459),\n",
       "  ('device_frecuente', 0.031848509022074076),\n",
       "  ('cant_sp', 0.02823737330114091),\n",
       "  ('q10', 0.02210382401028583),\n",
       "  ('q9', 0.018970617847955125),\n",
       "  ('q8', 0.015429655752526557),\n",
       "  ('q7', 0.014979452861978753),\n",
       "  ('q6', 0.013493685298419994),\n",
       "  ('q5', 0.012705476912496787),\n",
       "  ('q4', 0.009527572838711147),\n",
       "  ('q2', 0.00877216884253286),\n",
       "  ('cant_l', 0.008771650397294068),\n",
       "  ('q3', 0.008529021295755604),\n",
       "  ('q1', 0.0077014932954044095)]}"
      ]
     },
     "execution_count": 132,
     "metadata": {},
     "output_type": "execute_result"
    }
   ],
   "source": [
    "d"
   ]
  },
  {
   "cell_type": "code",
   "execution_count": 133,
   "metadata": {},
   "outputs": [
    {
     "name": "stdout",
     "output_type": "stream",
     "text": [
      "Fitting 3 folds for each of 12 candidates, totalling 36 fits\n"
     ]
    },
    {
     "name": "stderr",
     "output_type": "stream",
     "text": [
      "[Parallel(n_jobs=-1)]: Using backend LokyBackend with 2 concurrent workers.\n",
      "[Parallel(n_jobs=-1)]: Done  36 out of  36 | elapsed:  3.0min finished\n"
     ]
    },
    {
     "data": {
      "text/plain": [
       "GridSearchCV(cv=3, error_score='raise-deprecating',\n",
       "       estimator=ExtraTreesClassifier(bootstrap=True, class_weight=None, criterion='gini',\n",
       "           max_depth=None, max_features='auto', max_leaf_nodes=None,\n",
       "           min_impurity_decrease=0.0, min_impurity_split=None,\n",
       "           min_samples_leaf=1, min_samples_split=5,\n",
       "           min_weight_fraction_leaf=0.0, n_estimators=150, n_jobs=None,\n",
       "           oob_score=False, random_state=None, verbose=0, warm_start=False),\n",
       "       fit_params=None, iid='warn', n_jobs=-1,\n",
       "       param_grid={'n_estimators': [50, 100, 150], 'max_features': ['auto'], 'min_samples_split': [2, 3, 4, 5], 'bootstrap': [True]},\n",
       "       pre_dispatch='2*n_jobs', refit=True, return_train_score='warn',\n",
       "       scoring=None, verbose=1)"
      ]
     },
     "execution_count": 133,
     "metadata": {},
     "output_type": "execute_result"
    }
   ],
   "source": [
    "param_grid3C = { \n",
    "          \"n_estimators\"      : [50,100,150],\n",
    "          \"max_features\"      : [\"auto\"],\n",
    "          \"min_samples_split\" : [2,3,4,5] ,\n",
    "          \"bootstrap\": [True]\n",
    "          }\n",
    "grid3C = GridSearchCV(model, param_grid, n_jobs=-1, cv=3, verbose=1)\n",
    "\n",
    "grid3C.fit(Xtrn2[['cant_ch',\n",
    "  'tiempo_total',\n",
    "  'cant_eventos_totales',\n",
    "  'cant_bl',\n",
    "  'cant_vp',\n",
    "  'cant_gl',\n",
    "  'cant_s_p',\n",
    "  'cant_seh',\n",
    "  'cant_ach']], Ytrn2)\n"
   ]
  },
  {
   "cell_type": "code",
   "execution_count": 139,
   "metadata": {},
   "outputs": [
    {
     "data": {
      "text/plain": [
       "0.9482325671238169"
      ]
     },
     "execution_count": 139,
     "metadata": {},
     "output_type": "execute_result"
    }
   ],
   "source": [
    "grid3C.best_score_"
   ]
  },
  {
   "cell_type": "code",
   "execution_count": 136,
   "metadata": {},
   "outputs": [],
   "source": [
    "pred = grid3C.predict_proba(Xtest2[['cant_ch',\n",
    "  'tiempo_total',\n",
    "  'cant_eventos_totales',\n",
    "  'cant_bl',\n",
    "  'cant_vp',\n",
    "  'cant_gl',\n",
    "  'cant_s_p',\n",
    "  'cant_seh',\n",
    "  'cant_ach']])"
   ]
  },
  {
   "cell_type": "code",
   "execution_count": 138,
   "metadata": {},
   "outputs": [
    {
     "data": {
      "text/plain": [
       "0.7838238638948278"
      ]
     },
     "execution_count": 138,
     "metadata": {},
     "output_type": "execute_result"
    }
   ],
   "source": [
    "roc_auc_score(Ytest2, pred[:,1])"
   ]
  },
  {
   "cell_type": "code",
   "execution_count": 140,
   "metadata": {},
   "outputs": [
    {
     "name": "stdout",
     "output_type": "stream",
     "text": [
      "Fitting 3 folds for each of 12 candidates, totalling 36 fits\n"
     ]
    },
    {
     "name": "stderr",
     "output_type": "stream",
     "text": [
      "[Parallel(n_jobs=-1)]: Using backend LokyBackend with 2 concurrent workers.\n",
      "[Parallel(n_jobs=-1)]: Done  36 out of  36 | elapsed:  2.2min finished\n"
     ]
    },
    {
     "data": {
      "text/plain": [
       "GridSearchCV(cv=3, error_score='raise-deprecating',\n",
       "       estimator=ExtraTreesClassifier(bootstrap=True, class_weight=None, criterion='gini',\n",
       "           max_depth=None, max_features='auto', max_leaf_nodes=None,\n",
       "           min_impurity_decrease=0.0, min_impurity_split=None,\n",
       "           min_samples_leaf=1, min_samples_split=5,\n",
       "           min_weight_fraction_leaf=0.0, n_estimators=150, n_jobs=None,\n",
       "           oob_score=False, random_state=None, verbose=0, warm_start=False),\n",
       "       fit_params=None, iid='warn', n_jobs=-1,\n",
       "       param_grid={'n_estimators': [50, 100, 150], 'max_features': ['auto'], 'min_samples_split': [2, 3, 4, 5], 'bootstrap': [True]},\n",
       "       pre_dispatch='2*n_jobs', refit=True, return_train_score='warn',\n",
       "       scoring=None, verbose=1)"
      ]
     },
     "execution_count": 140,
     "metadata": {},
     "output_type": "execute_result"
    }
   ],
   "source": [
    "param_grid4C = { \n",
    "          \"n_estimators\"      : [50,100,150],\n",
    "          \"max_features\"      : [\"auto\"],\n",
    "          \"min_samples_split\" : [2,3,4,5] ,\n",
    "          \"bootstrap\": [True]\n",
    "          }\n",
    "grid4C = GridSearchCV(model, param_grid, n_jobs=-1, cv=3, verbose=1)\n",
    "\n",
    "grid4C.fit(Xtrn2[['cant_ch',\n",
    "  'tiempo_total',\n",
    "  'cant_eventos_totales',\n",
    "  ]], Ytrn2)\n"
   ]
  },
  {
   "cell_type": "code",
   "execution_count": 142,
   "metadata": {},
   "outputs": [],
   "source": [
    "pred = grid4C.predict_proba(Xtest2[['cant_ch',\n",
    "  'tiempo_total',\n",
    "  'cant_eventos_totales',\n",
    "  ]])"
   ]
  },
  {
   "cell_type": "code",
   "execution_count": 143,
   "metadata": {},
   "outputs": [
    {
     "data": {
      "text/plain": [
       "0.7635854978847291"
      ]
     },
     "execution_count": 143,
     "metadata": {},
     "output_type": "execute_result"
    }
   ],
   "source": [
    "roc_auc_score(Ytest2, pred[:,1])"
   ]
  },
  {
   "cell_type": "markdown",
   "metadata": {},
   "source": [
    "# Con el de Mati"
   ]
  },
  {
   "cell_type": "code",
   "execution_count": 2,
   "metadata": {},
   "outputs": [],
   "source": [
    "df = pkl.load(open('Forma1/feature.pkl','rb'))"
   ]
  },
  {
   "cell_type": "code",
   "execution_count": 3,
   "metadata": {},
   "outputs": [
    {
     "data": {
      "text/plain": [
       "Index(['person', 'label', 'storage_mode', 'event_ad campaign hit',\n",
       "       'event_brand listing', 'event_checkout', 'event_conversion',\n",
       "       'event_generic listing', 'event_lead', 'event_search engine hit',\n",
       "       'event_searched products', 'event_staticpage', 'event_viewed product',\n",
       "       'event_visited site', 'new_vs_returning_New',\n",
       "       'new_vs_returning_Returning', 'condition_Bom',\n",
       "       'condition_Bom - Sem Touch ID', 'condition_Excelente',\n",
       "       'condition_Muito Bom', 'condition_Novo', 'time_cos_by_day'],\n",
       "      dtype='object')"
      ]
     },
     "execution_count": 3,
     "metadata": {},
     "output_type": "execute_result"
    }
   ],
   "source": [
    "df.columns"
   ]
  },
  {
   "cell_type": "code",
   "execution_count": 4,
   "metadata": {},
   "outputs": [],
   "source": [
    "xTrain = df[['storage_mode', 'event_ad campaign hit',\n",
    "       'event_brand listing', 'event_checkout', 'event_conversion',\n",
    "       'event_generic listing', 'event_lead', 'event_search engine hit',\n",
    "       'event_searched products', 'event_staticpage', 'event_viewed product',\n",
    "       'event_visited site', 'new_vs_returning_New',\n",
    "       'new_vs_returning_Returning', 'condition_Bom',\n",
    "       'condition_Bom - Sem Touch ID', 'condition_Excelente',\n",
    "       'condition_Muito Bom', 'condition_Novo', 'time_cos_by_day']]"
   ]
  },
  {
   "cell_type": "code",
   "execution_count": 40,
   "metadata": {},
   "outputs": [
    {
     "data": {
      "text/plain": [
       "0"
      ]
     },
     "execution_count": 40,
     "metadata": {},
     "output_type": "execute_result"
    }
   ],
   "source": [
    "sum(pd.isnull(xTrain['time_cos_by_day']))"
   ]
  },
  {
   "cell_type": "code",
   "execution_count": 39,
   "metadata": {},
   "outputs": [
    {
     "name": "stderr",
     "output_type": "stream",
     "text": [
      "/home/july/anaconda3/lib/python3.6/site-packages/pandas/core/generic.py:3660: SettingWithCopyWarning: \n",
      "A value is trying to be set on a copy of a slice from a DataFrame\n",
      "\n",
      "See the caveats in the documentation: http://pandas.pydata.org/pandas-docs/stable/indexing.html#indexing-view-versus-copy\n",
      "  self._update_inplace(new_data)\n"
     ]
    }
   ],
   "source": [
    "xTrain['condition_Novo'].fillna(xTrain['condition_Novo'].mode()[0],inplace=True)"
   ]
  },
  {
   "cell_type": "code",
   "execution_count": 36,
   "metadata": {},
   "outputs": [
    {
     "name": "stderr",
     "output_type": "stream",
     "text": [
      "/home/july/anaconda3/lib/python3.6/site-packages/pandas/core/generic.py:3660: SettingWithCopyWarning: \n",
      "A value is trying to be set on a copy of a slice from a DataFrame\n",
      "\n",
      "See the caveats in the documentation: http://pandas.pydata.org/pandas-docs/stable/indexing.html#indexing-view-versus-copy\n",
      "  self._update_inplace(new_data)\n"
     ]
    }
   ],
   "source": [
    "xTrain['condition_Muito Bom'].fillna(xTrain['condition_Muito Bom'].mode()[0],inplace=True)"
   ]
  },
  {
   "cell_type": "code",
   "execution_count": 34,
   "metadata": {},
   "outputs": [
    {
     "name": "stderr",
     "output_type": "stream",
     "text": [
      "/home/july/anaconda3/lib/python3.6/site-packages/pandas/core/generic.py:3660: SettingWithCopyWarning: \n",
      "A value is trying to be set on a copy of a slice from a DataFrame\n",
      "\n",
      "See the caveats in the documentation: http://pandas.pydata.org/pandas-docs/stable/indexing.html#indexing-view-versus-copy\n",
      "  self._update_inplace(new_data)\n"
     ]
    }
   ],
   "source": [
    "xTrain['condition_Excelente'].fillna(xTrain['condition_Excelente'].mode()[0],inplace=True)"
   ]
  },
  {
   "cell_type": "code",
   "execution_count": 26,
   "metadata": {},
   "outputs": [
    {
     "name": "stderr",
     "output_type": "stream",
     "text": [
      "/home/july/anaconda3/lib/python3.6/site-packages/pandas/core/generic.py:3660: SettingWithCopyWarning: \n",
      "A value is trying to be set on a copy of a slice from a DataFrame\n",
      "\n",
      "See the caveats in the documentation: http://pandas.pydata.org/pandas-docs/stable/indexing.html#indexing-view-versus-copy\n",
      "  self._update_inplace(new_data)\n"
     ]
    }
   ],
   "source": [
    "xTrain['new_vs_returning_New'].fillna(xTrain['new_vs_returning_New'].mode()[0],inplace=True)"
   ]
  },
  {
   "cell_type": "code",
   "execution_count": 28,
   "metadata": {},
   "outputs": [
    {
     "name": "stderr",
     "output_type": "stream",
     "text": [
      "/home/july/anaconda3/lib/python3.6/site-packages/pandas/core/generic.py:3660: SettingWithCopyWarning: \n",
      "A value is trying to be set on a copy of a slice from a DataFrame\n",
      "\n",
      "See the caveats in the documentation: http://pandas.pydata.org/pandas-docs/stable/indexing.html#indexing-view-versus-copy\n",
      "  self._update_inplace(new_data)\n"
     ]
    }
   ],
   "source": [
    "xTrain['new_vs_returning_Returning'].fillna(xTrain['new_vs_returning_Returning'].mode()[0],inplace=True)"
   ]
  },
  {
   "cell_type": "code",
   "execution_count": 32,
   "metadata": {},
   "outputs": [
    {
     "name": "stderr",
     "output_type": "stream",
     "text": [
      "/home/july/anaconda3/lib/python3.6/site-packages/pandas/core/generic.py:3660: SettingWithCopyWarning: \n",
      "A value is trying to be set on a copy of a slice from a DataFrame\n",
      "\n",
      "See the caveats in the documentation: http://pandas.pydata.org/pandas-docs/stable/indexing.html#indexing-view-versus-copy\n",
      "  self._update_inplace(new_data)\n"
     ]
    }
   ],
   "source": [
    "xTrain['condition_Bom - Sem Touch ID'].fillna(xTrain['condition_Bom - Sem Touch ID'].mode()[0],inplace=True)"
   ]
  },
  {
   "cell_type": "code",
   "execution_count": null,
   "metadata": {},
   "outputs": [],
   "source": [
    "xTrain['condition_Bom'].fillna(xTrain['condition_Bom'].mode()[0],inplace=True)"
   ]
  },
  {
   "cell_type": "code",
   "execution_count": 5,
   "metadata": {},
   "outputs": [],
   "source": [
    "yTrain = df.label"
   ]
  },
  {
   "cell_type": "code",
   "execution_count": 41,
   "metadata": {},
   "outputs": [],
   "source": [
    "#split del dataset para entrenamiento y pruebas, 80% y 20% respectivamente\n",
    "Xtrn3, Xtest3, Ytrn3, Ytest3 = train_test_split(xTrain,yTrain,test_size=0.2)"
   ]
  },
  {
   "cell_type": "code",
   "execution_count": 42,
   "metadata": {},
   "outputs": [],
   "source": [
    "model = ExtraTreesClassifier(n_estimators=10, max_features='auto', min_samples_leaf=1, min_samples_split=4, bootstrap=True)"
   ]
  },
  {
   "cell_type": "code",
   "execution_count": 43,
   "metadata": {},
   "outputs": [
    {
     "data": {
      "text/plain": [
       "ExtraTreesClassifier(bootstrap=True, class_weight=None, criterion='gini',\n",
       "           max_depth=None, max_features='auto', max_leaf_nodes=None,\n",
       "           min_impurity_decrease=0.0, min_impurity_split=None,\n",
       "           min_samples_leaf=1, min_samples_split=4,\n",
       "           min_weight_fraction_leaf=0.0, n_estimators=10, n_jobs=None,\n",
       "           oob_score=False, random_state=None, verbose=0, warm_start=False)"
      ]
     },
     "execution_count": 43,
     "metadata": {},
     "output_type": "execute_result"
    }
   ],
   "source": [
    "model.fit(Xtrn3,Ytrn3)"
   ]
  },
  {
   "cell_type": "code",
   "execution_count": 47,
   "metadata": {},
   "outputs": [],
   "source": [
    "prde = model.predict_proba(Xtest3)[:,1]"
   ]
  },
  {
   "cell_type": "code",
   "execution_count": 48,
   "metadata": {},
   "outputs": [
    {
     "data": {
      "text/plain": [
       "0.6560473798533805"
      ]
     },
     "execution_count": 48,
     "metadata": {},
     "output_type": "execute_result"
    }
   ],
   "source": [
    "roc_auc_score(Ytest3, prde)"
   ]
  },
  {
   "cell_type": "code",
   "execution_count": 51,
   "metadata": {},
   "outputs": [
    {
     "name": "stdout",
     "output_type": "stream",
     "text": [
      "Fitting 3 folds for each of 12 candidates, totalling 36 fits\n"
     ]
    },
    {
     "name": "stderr",
     "output_type": "stream",
     "text": [
      "[Parallel(n_jobs=-1)]: Using backend LokyBackend with 2 concurrent workers.\n",
      "[Parallel(n_jobs=-1)]: Done   1 tasks      | elapsed:   25.4s\n",
      "[Parallel(n_jobs=-1)]: Done   4 tasks      | elapsed:   46.5s\n",
      "[Parallel(n_jobs=-1)]: Done   9 tasks      | elapsed:  1.7min\n",
      "[Parallel(n_jobs=-1)]: Done  14 tasks      | elapsed:  2.3min\n",
      "[Parallel(n_jobs=-1)]: Done  21 tasks      | elapsed:  3.0min\n",
      "[Parallel(n_jobs=-1)]: Done  28 tasks      | elapsed:  3.6min\n",
      "[Parallel(n_jobs=-1)]: Done  36 out of  36 | elapsed:  4.3min finished\n"
     ]
    },
    {
     "data": {
      "text/plain": [
       "GridSearchCV(cv=3, error_score='raise-deprecating',\n",
       "       estimator=ExtraTreesClassifier(bootstrap=True, class_weight=None, criterion='gini',\n",
       "           max_depth=None, max_features='auto', max_leaf_nodes=None,\n",
       "           min_impurity_decrease=0.0, min_impurity_split=None,\n",
       "           min_samples_leaf=1, min_samples_split=4,\n",
       "           min_weight_fraction_leaf=0.0, n_estimators=10, n_jobs=None,\n",
       "           oob_score=False, random_state=None, verbose=0, warm_start=False),\n",
       "       fit_params=None, iid='warn', n_jobs=-1,\n",
       "       param_grid={'n_estimators': [50, 100, 150], 'max_features': ['auto'], 'min_samples_split': [2, 3, 4, 5], 'bootstrap': [True]},\n",
       "       pre_dispatch='2*n_jobs', refit=True, return_train_score='warn',\n",
       "       scoring=None, verbose=10)"
      ]
     },
     "execution_count": 51,
     "metadata": {},
     "output_type": "execute_result"
    }
   ],
   "source": [
    "param_grid = { \n",
    "          \"n_estimators\"      : [50,100,150],\n",
    "          \"max_features\"      : [\"auto\"],\n",
    "          \"min_samples_split\" : [2,3,4,5] ,\n",
    "          \"bootstrap\": [True]\n",
    "          }\n",
    "grid = GridSearchCV(model, param_grid, n_jobs=-1, cv=3, verbose=10)\n",
    "\n",
    "grid.fit(Xtrn3, Ytrn3)\n"
   ]
  },
  {
   "cell_type": "code",
   "execution_count": 52,
   "metadata": {},
   "outputs": [
    {
     "data": {
      "text/plain": [
       "0.9495203142102892"
      ]
     },
     "execution_count": 52,
     "metadata": {},
     "output_type": "execute_result"
    }
   ],
   "source": [
    "grid.best_score_"
   ]
  },
  {
   "cell_type": "code",
   "execution_count": 53,
   "metadata": {},
   "outputs": [
    {
     "data": {
      "text/plain": [
       "{'bootstrap': True,\n",
       " 'max_features': 'auto',\n",
       " 'min_samples_split': 5,\n",
       " 'n_estimators': 150}"
      ]
     },
     "execution_count": 53,
     "metadata": {},
     "output_type": "execute_result"
    }
   ],
   "source": [
    "grid.best_params_"
   ]
  },
  {
   "cell_type": "code",
   "execution_count": 55,
   "metadata": {},
   "outputs": [],
   "source": [
    "pred = grid.predict_proba(Xtest3)"
   ]
  },
  {
   "cell_type": "code",
   "execution_count": 57,
   "metadata": {},
   "outputs": [
    {
     "data": {
      "text/plain": [
       "0.7670194135215856"
      ]
     },
     "execution_count": 57,
     "metadata": {},
     "output_type": "execute_result"
    }
   ],
   "source": [
    "roc_auc_score(Ytest3, pred[:,1])"
   ]
  },
  {
   "cell_type": "code",
   "execution_count": 58,
   "metadata": {},
   "outputs": [],
   "source": [
    "model = ExtraTreesClassifier(n_estimators=150, max_features='auto', min_samples_leaf=1, min_samples_split=5, bootstrap=True) "
   ]
  },
  {
   "cell_type": "code",
   "execution_count": 59,
   "metadata": {},
   "outputs": [
    {
     "data": {
      "text/plain": [
       "ExtraTreesClassifier(bootstrap=True, class_weight=None, criterion='gini',\n",
       "           max_depth=None, max_features='auto', max_leaf_nodes=None,\n",
       "           min_impurity_decrease=0.0, min_impurity_split=None,\n",
       "           min_samples_leaf=1, min_samples_split=5,\n",
       "           min_weight_fraction_leaf=0.0, n_estimators=150, n_jobs=None,\n",
       "           oob_score=False, random_state=None, verbose=0, warm_start=False)"
      ]
     },
     "execution_count": 59,
     "metadata": {},
     "output_type": "execute_result"
    }
   ],
   "source": [
    "model.fit(Xtrn3,Ytrn3)"
   ]
  },
  {
   "cell_type": "code",
   "execution_count": 62,
   "metadata": {},
   "outputs": [
    {
     "data": {
      "text/plain": [
       "array([0.02459922, 0.05831588, 0.06302309, 0.09889965, 0.04121445,\n",
       "       0.06125702, 0.01549358, 0.06063746, 0.05305341, 0.02650696,\n",
       "       0.0621846 , 0.06489308, 0.04257161, 0.04275541, 0.05331776,\n",
       "       0.03730013, 0.04943023, 0.05123995, 0.0161005 , 0.07720601])"
      ]
     },
     "execution_count": 62,
     "metadata": {},
     "output_type": "execute_result"
    }
   ],
   "source": [
    "model.feature_importances_"
   ]
  },
  {
   "cell_type": "code",
   "execution_count": 63,
   "metadata": {},
   "outputs": [
    {
     "data": {
      "text/plain": [
       "Index(['storage_mode', 'event_ad campaign hit', 'event_brand listing',\n",
       "       'event_checkout', 'event_conversion', 'event_generic listing',\n",
       "       'event_lead', 'event_search engine hit', 'event_searched products',\n",
       "       'event_staticpage', 'event_viewed product', 'event_visited site',\n",
       "       'new_vs_returning_New', 'new_vs_returning_Returning', 'condition_Bom',\n",
       "       'condition_Bom - Sem Touch ID', 'condition_Excelente',\n",
       "       'condition_Muito Bom', 'condition_Novo', 'time_cos_by_day'],\n",
       "      dtype='object')"
      ]
     },
     "execution_count": 63,
     "metadata": {},
     "output_type": "execute_result"
    }
   ],
   "source": [
    "Xtrn3.columns"
   ]
  },
  {
   "cell_type": "code",
   "execution_count": 65,
   "metadata": {},
   "outputs": [],
   "source": [
    "import numpy as np"
   ]
  },
  {
   "cell_type": "code",
   "execution_count": 67,
   "metadata": {},
   "outputs": [],
   "source": [
    "prod_cols = list(Xtrn3.columns)\n",
    "d ={}\n",
    "for p in prod_cols:\n",
    "    y = np.array(Xtrn3[p])\n",
    "    l = zip(Xtrn3.columns, model.feature_importances_)\n",
    "    d[p] = sorted(l, key=lambda x: x[1], reverse=True)\n"
   ]
  },
  {
   "cell_type": "code",
   "execution_count": 68,
   "metadata": {},
   "outputs": [
    {
     "data": {
      "text/plain": [
       "{'condition_Bom': [('event_checkout', 0.09889964844713243),\n",
       "  ('time_cos_by_day', 0.07720601233887307),\n",
       "  ('event_visited site', 0.06489308294072184),\n",
       "  ('event_brand listing', 0.06302309418033802),\n",
       "  ('event_viewed product', 0.06218460317460772),\n",
       "  ('event_generic listing', 0.06125701597876419),\n",
       "  ('event_search engine hit', 0.06063746069568837),\n",
       "  ('event_ad campaign hit', 0.058315875723694774),\n",
       "  ('condition_Bom', 0.05331775657750673),\n",
       "  ('event_searched products', 0.05305340816489245),\n",
       "  ('condition_Muito Bom', 0.05123994825202425),\n",
       "  ('condition_Excelente', 0.04943022519818199),\n",
       "  ('new_vs_returning_Returning', 0.04275541270652264),\n",
       "  ('new_vs_returning_New', 0.042571614229455185),\n",
       "  ('event_conversion', 0.04121445220341182),\n",
       "  ('condition_Bom - Sem Touch ID', 0.037300129128193436),\n",
       "  ('event_staticpage', 0.026506956196759534),\n",
       "  ('storage_mode', 0.024599222177712158),\n",
       "  ('condition_Novo', 0.016100499219363257),\n",
       "  ('event_lead', 0.015493582466156)],\n",
       " 'condition_Bom - Sem Touch ID': [('event_checkout', 0.09889964844713243),\n",
       "  ('time_cos_by_day', 0.07720601233887307),\n",
       "  ('event_visited site', 0.06489308294072184),\n",
       "  ('event_brand listing', 0.06302309418033802),\n",
       "  ('event_viewed product', 0.06218460317460772),\n",
       "  ('event_generic listing', 0.06125701597876419),\n",
       "  ('event_search engine hit', 0.06063746069568837),\n",
       "  ('event_ad campaign hit', 0.058315875723694774),\n",
       "  ('condition_Bom', 0.05331775657750673),\n",
       "  ('event_searched products', 0.05305340816489245),\n",
       "  ('condition_Muito Bom', 0.05123994825202425),\n",
       "  ('condition_Excelente', 0.04943022519818199),\n",
       "  ('new_vs_returning_Returning', 0.04275541270652264),\n",
       "  ('new_vs_returning_New', 0.042571614229455185),\n",
       "  ('event_conversion', 0.04121445220341182),\n",
       "  ('condition_Bom - Sem Touch ID', 0.037300129128193436),\n",
       "  ('event_staticpage', 0.026506956196759534),\n",
       "  ('storage_mode', 0.024599222177712158),\n",
       "  ('condition_Novo', 0.016100499219363257),\n",
       "  ('event_lead', 0.015493582466156)],\n",
       " 'condition_Excelente': [('event_checkout', 0.09889964844713243),\n",
       "  ('time_cos_by_day', 0.07720601233887307),\n",
       "  ('event_visited site', 0.06489308294072184),\n",
       "  ('event_brand listing', 0.06302309418033802),\n",
       "  ('event_viewed product', 0.06218460317460772),\n",
       "  ('event_generic listing', 0.06125701597876419),\n",
       "  ('event_search engine hit', 0.06063746069568837),\n",
       "  ('event_ad campaign hit', 0.058315875723694774),\n",
       "  ('condition_Bom', 0.05331775657750673),\n",
       "  ('event_searched products', 0.05305340816489245),\n",
       "  ('condition_Muito Bom', 0.05123994825202425),\n",
       "  ('condition_Excelente', 0.04943022519818199),\n",
       "  ('new_vs_returning_Returning', 0.04275541270652264),\n",
       "  ('new_vs_returning_New', 0.042571614229455185),\n",
       "  ('event_conversion', 0.04121445220341182),\n",
       "  ('condition_Bom - Sem Touch ID', 0.037300129128193436),\n",
       "  ('event_staticpage', 0.026506956196759534),\n",
       "  ('storage_mode', 0.024599222177712158),\n",
       "  ('condition_Novo', 0.016100499219363257),\n",
       "  ('event_lead', 0.015493582466156)],\n",
       " 'condition_Muito Bom': [('event_checkout', 0.09889964844713243),\n",
       "  ('time_cos_by_day', 0.07720601233887307),\n",
       "  ('event_visited site', 0.06489308294072184),\n",
       "  ('event_brand listing', 0.06302309418033802),\n",
       "  ('event_viewed product', 0.06218460317460772),\n",
       "  ('event_generic listing', 0.06125701597876419),\n",
       "  ('event_search engine hit', 0.06063746069568837),\n",
       "  ('event_ad campaign hit', 0.058315875723694774),\n",
       "  ('condition_Bom', 0.05331775657750673),\n",
       "  ('event_searched products', 0.05305340816489245),\n",
       "  ('condition_Muito Bom', 0.05123994825202425),\n",
       "  ('condition_Excelente', 0.04943022519818199),\n",
       "  ('new_vs_returning_Returning', 0.04275541270652264),\n",
       "  ('new_vs_returning_New', 0.042571614229455185),\n",
       "  ('event_conversion', 0.04121445220341182),\n",
       "  ('condition_Bom - Sem Touch ID', 0.037300129128193436),\n",
       "  ('event_staticpage', 0.026506956196759534),\n",
       "  ('storage_mode', 0.024599222177712158),\n",
       "  ('condition_Novo', 0.016100499219363257),\n",
       "  ('event_lead', 0.015493582466156)],\n",
       " 'condition_Novo': [('event_checkout', 0.09889964844713243),\n",
       "  ('time_cos_by_day', 0.07720601233887307),\n",
       "  ('event_visited site', 0.06489308294072184),\n",
       "  ('event_brand listing', 0.06302309418033802),\n",
       "  ('event_viewed product', 0.06218460317460772),\n",
       "  ('event_generic listing', 0.06125701597876419),\n",
       "  ('event_search engine hit', 0.06063746069568837),\n",
       "  ('event_ad campaign hit', 0.058315875723694774),\n",
       "  ('condition_Bom', 0.05331775657750673),\n",
       "  ('event_searched products', 0.05305340816489245),\n",
       "  ('condition_Muito Bom', 0.05123994825202425),\n",
       "  ('condition_Excelente', 0.04943022519818199),\n",
       "  ('new_vs_returning_Returning', 0.04275541270652264),\n",
       "  ('new_vs_returning_New', 0.042571614229455185),\n",
       "  ('event_conversion', 0.04121445220341182),\n",
       "  ('condition_Bom - Sem Touch ID', 0.037300129128193436),\n",
       "  ('event_staticpage', 0.026506956196759534),\n",
       "  ('storage_mode', 0.024599222177712158),\n",
       "  ('condition_Novo', 0.016100499219363257),\n",
       "  ('event_lead', 0.015493582466156)],\n",
       " 'event_ad campaign hit': [('event_checkout', 0.09889964844713243),\n",
       "  ('time_cos_by_day', 0.07720601233887307),\n",
       "  ('event_visited site', 0.06489308294072184),\n",
       "  ('event_brand listing', 0.06302309418033802),\n",
       "  ('event_viewed product', 0.06218460317460772),\n",
       "  ('event_generic listing', 0.06125701597876419),\n",
       "  ('event_search engine hit', 0.06063746069568837),\n",
       "  ('event_ad campaign hit', 0.058315875723694774),\n",
       "  ('condition_Bom', 0.05331775657750673),\n",
       "  ('event_searched products', 0.05305340816489245),\n",
       "  ('condition_Muito Bom', 0.05123994825202425),\n",
       "  ('condition_Excelente', 0.04943022519818199),\n",
       "  ('new_vs_returning_Returning', 0.04275541270652264),\n",
       "  ('new_vs_returning_New', 0.042571614229455185),\n",
       "  ('event_conversion', 0.04121445220341182),\n",
       "  ('condition_Bom - Sem Touch ID', 0.037300129128193436),\n",
       "  ('event_staticpage', 0.026506956196759534),\n",
       "  ('storage_mode', 0.024599222177712158),\n",
       "  ('condition_Novo', 0.016100499219363257),\n",
       "  ('event_lead', 0.015493582466156)],\n",
       " 'event_brand listing': [('event_checkout', 0.09889964844713243),\n",
       "  ('time_cos_by_day', 0.07720601233887307),\n",
       "  ('event_visited site', 0.06489308294072184),\n",
       "  ('event_brand listing', 0.06302309418033802),\n",
       "  ('event_viewed product', 0.06218460317460772),\n",
       "  ('event_generic listing', 0.06125701597876419),\n",
       "  ('event_search engine hit', 0.06063746069568837),\n",
       "  ('event_ad campaign hit', 0.058315875723694774),\n",
       "  ('condition_Bom', 0.05331775657750673),\n",
       "  ('event_searched products', 0.05305340816489245),\n",
       "  ('condition_Muito Bom', 0.05123994825202425),\n",
       "  ('condition_Excelente', 0.04943022519818199),\n",
       "  ('new_vs_returning_Returning', 0.04275541270652264),\n",
       "  ('new_vs_returning_New', 0.042571614229455185),\n",
       "  ('event_conversion', 0.04121445220341182),\n",
       "  ('condition_Bom - Sem Touch ID', 0.037300129128193436),\n",
       "  ('event_staticpage', 0.026506956196759534),\n",
       "  ('storage_mode', 0.024599222177712158),\n",
       "  ('condition_Novo', 0.016100499219363257),\n",
       "  ('event_lead', 0.015493582466156)],\n",
       " 'event_checkout': [('event_checkout', 0.09889964844713243),\n",
       "  ('time_cos_by_day', 0.07720601233887307),\n",
       "  ('event_visited site', 0.06489308294072184),\n",
       "  ('event_brand listing', 0.06302309418033802),\n",
       "  ('event_viewed product', 0.06218460317460772),\n",
       "  ('event_generic listing', 0.06125701597876419),\n",
       "  ('event_search engine hit', 0.06063746069568837),\n",
       "  ('event_ad campaign hit', 0.058315875723694774),\n",
       "  ('condition_Bom', 0.05331775657750673),\n",
       "  ('event_searched products', 0.05305340816489245),\n",
       "  ('condition_Muito Bom', 0.05123994825202425),\n",
       "  ('condition_Excelente', 0.04943022519818199),\n",
       "  ('new_vs_returning_Returning', 0.04275541270652264),\n",
       "  ('new_vs_returning_New', 0.042571614229455185),\n",
       "  ('event_conversion', 0.04121445220341182),\n",
       "  ('condition_Bom - Sem Touch ID', 0.037300129128193436),\n",
       "  ('event_staticpage', 0.026506956196759534),\n",
       "  ('storage_mode', 0.024599222177712158),\n",
       "  ('condition_Novo', 0.016100499219363257),\n",
       "  ('event_lead', 0.015493582466156)],\n",
       " 'event_conversion': [('event_checkout', 0.09889964844713243),\n",
       "  ('time_cos_by_day', 0.07720601233887307),\n",
       "  ('event_visited site', 0.06489308294072184),\n",
       "  ('event_brand listing', 0.06302309418033802),\n",
       "  ('event_viewed product', 0.06218460317460772),\n",
       "  ('event_generic listing', 0.06125701597876419),\n",
       "  ('event_search engine hit', 0.06063746069568837),\n",
       "  ('event_ad campaign hit', 0.058315875723694774),\n",
       "  ('condition_Bom', 0.05331775657750673),\n",
       "  ('event_searched products', 0.05305340816489245),\n",
       "  ('condition_Muito Bom', 0.05123994825202425),\n",
       "  ('condition_Excelente', 0.04943022519818199),\n",
       "  ('new_vs_returning_Returning', 0.04275541270652264),\n",
       "  ('new_vs_returning_New', 0.042571614229455185),\n",
       "  ('event_conversion', 0.04121445220341182),\n",
       "  ('condition_Bom - Sem Touch ID', 0.037300129128193436),\n",
       "  ('event_staticpage', 0.026506956196759534),\n",
       "  ('storage_mode', 0.024599222177712158),\n",
       "  ('condition_Novo', 0.016100499219363257),\n",
       "  ('event_lead', 0.015493582466156)],\n",
       " 'event_generic listing': [('event_checkout', 0.09889964844713243),\n",
       "  ('time_cos_by_day', 0.07720601233887307),\n",
       "  ('event_visited site', 0.06489308294072184),\n",
       "  ('event_brand listing', 0.06302309418033802),\n",
       "  ('event_viewed product', 0.06218460317460772),\n",
       "  ('event_generic listing', 0.06125701597876419),\n",
       "  ('event_search engine hit', 0.06063746069568837),\n",
       "  ('event_ad campaign hit', 0.058315875723694774),\n",
       "  ('condition_Bom', 0.05331775657750673),\n",
       "  ('event_searched products', 0.05305340816489245),\n",
       "  ('condition_Muito Bom', 0.05123994825202425),\n",
       "  ('condition_Excelente', 0.04943022519818199),\n",
       "  ('new_vs_returning_Returning', 0.04275541270652264),\n",
       "  ('new_vs_returning_New', 0.042571614229455185),\n",
       "  ('event_conversion', 0.04121445220341182),\n",
       "  ('condition_Bom - Sem Touch ID', 0.037300129128193436),\n",
       "  ('event_staticpage', 0.026506956196759534),\n",
       "  ('storage_mode', 0.024599222177712158),\n",
       "  ('condition_Novo', 0.016100499219363257),\n",
       "  ('event_lead', 0.015493582466156)],\n",
       " 'event_lead': [('event_checkout', 0.09889964844713243),\n",
       "  ('time_cos_by_day', 0.07720601233887307),\n",
       "  ('event_visited site', 0.06489308294072184),\n",
       "  ('event_brand listing', 0.06302309418033802),\n",
       "  ('event_viewed product', 0.06218460317460772),\n",
       "  ('event_generic listing', 0.06125701597876419),\n",
       "  ('event_search engine hit', 0.06063746069568837),\n",
       "  ('event_ad campaign hit', 0.058315875723694774),\n",
       "  ('condition_Bom', 0.05331775657750673),\n",
       "  ('event_searched products', 0.05305340816489245),\n",
       "  ('condition_Muito Bom', 0.05123994825202425),\n",
       "  ('condition_Excelente', 0.04943022519818199),\n",
       "  ('new_vs_returning_Returning', 0.04275541270652264),\n",
       "  ('new_vs_returning_New', 0.042571614229455185),\n",
       "  ('event_conversion', 0.04121445220341182),\n",
       "  ('condition_Bom - Sem Touch ID', 0.037300129128193436),\n",
       "  ('event_staticpage', 0.026506956196759534),\n",
       "  ('storage_mode', 0.024599222177712158),\n",
       "  ('condition_Novo', 0.016100499219363257),\n",
       "  ('event_lead', 0.015493582466156)],\n",
       " 'event_search engine hit': [('event_checkout', 0.09889964844713243),\n",
       "  ('time_cos_by_day', 0.07720601233887307),\n",
       "  ('event_visited site', 0.06489308294072184),\n",
       "  ('event_brand listing', 0.06302309418033802),\n",
       "  ('event_viewed product', 0.06218460317460772),\n",
       "  ('event_generic listing', 0.06125701597876419),\n",
       "  ('event_search engine hit', 0.06063746069568837),\n",
       "  ('event_ad campaign hit', 0.058315875723694774),\n",
       "  ('condition_Bom', 0.05331775657750673),\n",
       "  ('event_searched products', 0.05305340816489245),\n",
       "  ('condition_Muito Bom', 0.05123994825202425),\n",
       "  ('condition_Excelente', 0.04943022519818199),\n",
       "  ('new_vs_returning_Returning', 0.04275541270652264),\n",
       "  ('new_vs_returning_New', 0.042571614229455185),\n",
       "  ('event_conversion', 0.04121445220341182),\n",
       "  ('condition_Bom - Sem Touch ID', 0.037300129128193436),\n",
       "  ('event_staticpage', 0.026506956196759534),\n",
       "  ('storage_mode', 0.024599222177712158),\n",
       "  ('condition_Novo', 0.016100499219363257),\n",
       "  ('event_lead', 0.015493582466156)],\n",
       " 'event_searched products': [('event_checkout', 0.09889964844713243),\n",
       "  ('time_cos_by_day', 0.07720601233887307),\n",
       "  ('event_visited site', 0.06489308294072184),\n",
       "  ('event_brand listing', 0.06302309418033802),\n",
       "  ('event_viewed product', 0.06218460317460772),\n",
       "  ('event_generic listing', 0.06125701597876419),\n",
       "  ('event_search engine hit', 0.06063746069568837),\n",
       "  ('event_ad campaign hit', 0.058315875723694774),\n",
       "  ('condition_Bom', 0.05331775657750673),\n",
       "  ('event_searched products', 0.05305340816489245),\n",
       "  ('condition_Muito Bom', 0.05123994825202425),\n",
       "  ('condition_Excelente', 0.04943022519818199),\n",
       "  ('new_vs_returning_Returning', 0.04275541270652264),\n",
       "  ('new_vs_returning_New', 0.042571614229455185),\n",
       "  ('event_conversion', 0.04121445220341182),\n",
       "  ('condition_Bom - Sem Touch ID', 0.037300129128193436),\n",
       "  ('event_staticpage', 0.026506956196759534),\n",
       "  ('storage_mode', 0.024599222177712158),\n",
       "  ('condition_Novo', 0.016100499219363257),\n",
       "  ('event_lead', 0.015493582466156)],\n",
       " 'event_staticpage': [('event_checkout', 0.09889964844713243),\n",
       "  ('time_cos_by_day', 0.07720601233887307),\n",
       "  ('event_visited site', 0.06489308294072184),\n",
       "  ('event_brand listing', 0.06302309418033802),\n",
       "  ('event_viewed product', 0.06218460317460772),\n",
       "  ('event_generic listing', 0.06125701597876419),\n",
       "  ('event_search engine hit', 0.06063746069568837),\n",
       "  ('event_ad campaign hit', 0.058315875723694774),\n",
       "  ('condition_Bom', 0.05331775657750673),\n",
       "  ('event_searched products', 0.05305340816489245),\n",
       "  ('condition_Muito Bom', 0.05123994825202425),\n",
       "  ('condition_Excelente', 0.04943022519818199),\n",
       "  ('new_vs_returning_Returning', 0.04275541270652264),\n",
       "  ('new_vs_returning_New', 0.042571614229455185),\n",
       "  ('event_conversion', 0.04121445220341182),\n",
       "  ('condition_Bom - Sem Touch ID', 0.037300129128193436),\n",
       "  ('event_staticpage', 0.026506956196759534),\n",
       "  ('storage_mode', 0.024599222177712158),\n",
       "  ('condition_Novo', 0.016100499219363257),\n",
       "  ('event_lead', 0.015493582466156)],\n",
       " 'event_viewed product': [('event_checkout', 0.09889964844713243),\n",
       "  ('time_cos_by_day', 0.07720601233887307),\n",
       "  ('event_visited site', 0.06489308294072184),\n",
       "  ('event_brand listing', 0.06302309418033802),\n",
       "  ('event_viewed product', 0.06218460317460772),\n",
       "  ('event_generic listing', 0.06125701597876419),\n",
       "  ('event_search engine hit', 0.06063746069568837),\n",
       "  ('event_ad campaign hit', 0.058315875723694774),\n",
       "  ('condition_Bom', 0.05331775657750673),\n",
       "  ('event_searched products', 0.05305340816489245),\n",
       "  ('condition_Muito Bom', 0.05123994825202425),\n",
       "  ('condition_Excelente', 0.04943022519818199),\n",
       "  ('new_vs_returning_Returning', 0.04275541270652264),\n",
       "  ('new_vs_returning_New', 0.042571614229455185),\n",
       "  ('event_conversion', 0.04121445220341182),\n",
       "  ('condition_Bom - Sem Touch ID', 0.037300129128193436),\n",
       "  ('event_staticpage', 0.026506956196759534),\n",
       "  ('storage_mode', 0.024599222177712158),\n",
       "  ('condition_Novo', 0.016100499219363257),\n",
       "  ('event_lead', 0.015493582466156)],\n",
       " 'event_visited site': [('event_checkout', 0.09889964844713243),\n",
       "  ('time_cos_by_day', 0.07720601233887307),\n",
       "  ('event_visited site', 0.06489308294072184),\n",
       "  ('event_brand listing', 0.06302309418033802),\n",
       "  ('event_viewed product', 0.06218460317460772),\n",
       "  ('event_generic listing', 0.06125701597876419),\n",
       "  ('event_search engine hit', 0.06063746069568837),\n",
       "  ('event_ad campaign hit', 0.058315875723694774),\n",
       "  ('condition_Bom', 0.05331775657750673),\n",
       "  ('event_searched products', 0.05305340816489245),\n",
       "  ('condition_Muito Bom', 0.05123994825202425),\n",
       "  ('condition_Excelente', 0.04943022519818199),\n",
       "  ('new_vs_returning_Returning', 0.04275541270652264),\n",
       "  ('new_vs_returning_New', 0.042571614229455185),\n",
       "  ('event_conversion', 0.04121445220341182),\n",
       "  ('condition_Bom - Sem Touch ID', 0.037300129128193436),\n",
       "  ('event_staticpage', 0.026506956196759534),\n",
       "  ('storage_mode', 0.024599222177712158),\n",
       "  ('condition_Novo', 0.016100499219363257),\n",
       "  ('event_lead', 0.015493582466156)],\n",
       " 'new_vs_returning_New': [('event_checkout', 0.09889964844713243),\n",
       "  ('time_cos_by_day', 0.07720601233887307),\n",
       "  ('event_visited site', 0.06489308294072184),\n",
       "  ('event_brand listing', 0.06302309418033802),\n",
       "  ('event_viewed product', 0.06218460317460772),\n",
       "  ('event_generic listing', 0.06125701597876419),\n",
       "  ('event_search engine hit', 0.06063746069568837),\n",
       "  ('event_ad campaign hit', 0.058315875723694774),\n",
       "  ('condition_Bom', 0.05331775657750673),\n",
       "  ('event_searched products', 0.05305340816489245),\n",
       "  ('condition_Muito Bom', 0.05123994825202425),\n",
       "  ('condition_Excelente', 0.04943022519818199),\n",
       "  ('new_vs_returning_Returning', 0.04275541270652264),\n",
       "  ('new_vs_returning_New', 0.042571614229455185),\n",
       "  ('event_conversion', 0.04121445220341182),\n",
       "  ('condition_Bom - Sem Touch ID', 0.037300129128193436),\n",
       "  ('event_staticpage', 0.026506956196759534),\n",
       "  ('storage_mode', 0.024599222177712158),\n",
       "  ('condition_Novo', 0.016100499219363257),\n",
       "  ('event_lead', 0.015493582466156)],\n",
       " 'new_vs_returning_Returning': [('event_checkout', 0.09889964844713243),\n",
       "  ('time_cos_by_day', 0.07720601233887307),\n",
       "  ('event_visited site', 0.06489308294072184),\n",
       "  ('event_brand listing', 0.06302309418033802),\n",
       "  ('event_viewed product', 0.06218460317460772),\n",
       "  ('event_generic listing', 0.06125701597876419),\n",
       "  ('event_search engine hit', 0.06063746069568837),\n",
       "  ('event_ad campaign hit', 0.058315875723694774),\n",
       "  ('condition_Bom', 0.05331775657750673),\n",
       "  ('event_searched products', 0.05305340816489245),\n",
       "  ('condition_Muito Bom', 0.05123994825202425),\n",
       "  ('condition_Excelente', 0.04943022519818199),\n",
       "  ('new_vs_returning_Returning', 0.04275541270652264),\n",
       "  ('new_vs_returning_New', 0.042571614229455185),\n",
       "  ('event_conversion', 0.04121445220341182),\n",
       "  ('condition_Bom - Sem Touch ID', 0.037300129128193436),\n",
       "  ('event_staticpage', 0.026506956196759534),\n",
       "  ('storage_mode', 0.024599222177712158),\n",
       "  ('condition_Novo', 0.016100499219363257),\n",
       "  ('event_lead', 0.015493582466156)],\n",
       " 'storage_mode': [('event_checkout', 0.09889964844713243),\n",
       "  ('time_cos_by_day', 0.07720601233887307),\n",
       "  ('event_visited site', 0.06489308294072184),\n",
       "  ('event_brand listing', 0.06302309418033802),\n",
       "  ('event_viewed product', 0.06218460317460772),\n",
       "  ('event_generic listing', 0.06125701597876419),\n",
       "  ('event_search engine hit', 0.06063746069568837),\n",
       "  ('event_ad campaign hit', 0.058315875723694774),\n",
       "  ('condition_Bom', 0.05331775657750673),\n",
       "  ('event_searched products', 0.05305340816489245),\n",
       "  ('condition_Muito Bom', 0.05123994825202425),\n",
       "  ('condition_Excelente', 0.04943022519818199),\n",
       "  ('new_vs_returning_Returning', 0.04275541270652264),\n",
       "  ('new_vs_returning_New', 0.042571614229455185),\n",
       "  ('event_conversion', 0.04121445220341182),\n",
       "  ('condition_Bom - Sem Touch ID', 0.037300129128193436),\n",
       "  ('event_staticpage', 0.026506956196759534),\n",
       "  ('storage_mode', 0.024599222177712158),\n",
       "  ('condition_Novo', 0.016100499219363257),\n",
       "  ('event_lead', 0.015493582466156)],\n",
       " 'time_cos_by_day': [('event_checkout', 0.09889964844713243),\n",
       "  ('time_cos_by_day', 0.07720601233887307),\n",
       "  ('event_visited site', 0.06489308294072184),\n",
       "  ('event_brand listing', 0.06302309418033802),\n",
       "  ('event_viewed product', 0.06218460317460772),\n",
       "  ('event_generic listing', 0.06125701597876419),\n",
       "  ('event_search engine hit', 0.06063746069568837),\n",
       "  ('event_ad campaign hit', 0.058315875723694774),\n",
       "  ('condition_Bom', 0.05331775657750673),\n",
       "  ('event_searched products', 0.05305340816489245),\n",
       "  ('condition_Muito Bom', 0.05123994825202425),\n",
       "  ('condition_Excelente', 0.04943022519818199),\n",
       "  ('new_vs_returning_Returning', 0.04275541270652264),\n",
       "  ('new_vs_returning_New', 0.042571614229455185),\n",
       "  ('event_conversion', 0.04121445220341182),\n",
       "  ('condition_Bom - Sem Touch ID', 0.037300129128193436),\n",
       "  ('event_staticpage', 0.026506956196759534),\n",
       "  ('storage_mode', 0.024599222177712158),\n",
       "  ('condition_Novo', 0.016100499219363257),\n",
       "  ('event_lead', 0.015493582466156)]}"
      ]
     },
     "execution_count": 68,
     "metadata": {},
     "output_type": "execute_result"
    }
   ],
   "source": [
    "d"
   ]
  },
  {
   "cell_type": "code",
   "execution_count": 60,
   "metadata": {},
   "outputs": [],
   "source": [
    "pred = model.predict_proba(Xtest3)"
   ]
  },
  {
   "cell_type": "code",
   "execution_count": 61,
   "metadata": {},
   "outputs": [
    {
     "data": {
      "text/plain": [
       "0.7632113765951669"
      ]
     },
     "execution_count": 61,
     "metadata": {},
     "output_type": "execute_result"
    }
   ],
   "source": [
    "roc_auc_score(Ytest3, pred[:,1])"
   ]
  },
  {
   "cell_type": "code",
   "execution_count": 69,
   "metadata": {},
   "outputs": [
    {
     "data": {
      "text/plain": [
       "ExtraTreesClassifier(bootstrap=True, class_weight=None, criterion='gini',\n",
       "           max_depth=None, max_features='auto', max_leaf_nodes=None,\n",
       "           min_impurity_decrease=0.0, min_impurity_split=None,\n",
       "           min_samples_leaf=1, min_samples_split=5,\n",
       "           min_weight_fraction_leaf=0.0, n_estimators=150, n_jobs=None,\n",
       "           oob_score=False, random_state=None, verbose=0, warm_start=False)"
      ]
     },
     "execution_count": 69,
     "metadata": {},
     "output_type": "execute_result"
    }
   ],
   "source": [
    "model.fit(Xtrn3[['event_checkout',\n",
    "  'time_cos_by_day',\n",
    "    'event_visited site',\n",
    "  'event_brand listing',\n",
    "  'event_viewed product',\n",
    "  'event_generic listing', \n",
    "  'event_search engine hit',\n",
    "  'event_ad campaign hit',\n",
    "  'condition_Bom', \n",
    "  'event_searched products', \n",
    "  'condition_Muito Bom']], Ytrn3)"
   ]
  },
  {
   "cell_type": "code",
   "execution_count": 71,
   "metadata": {},
   "outputs": [],
   "source": [
    "pred = model.predict_proba(Xtest3[['event_checkout',\n",
    "  'time_cos_by_day',\n",
    "    'event_visited site',\n",
    "  'event_brand listing',\n",
    "  'event_viewed product',\n",
    "  'event_generic listing', \n",
    "  'event_search engine hit',\n",
    "  'event_ad campaign hit',\n",
    "  'condition_Bom', \n",
    "  'event_searched products', \n",
    "  'condition_Muito Bom']])"
   ]
  },
  {
   "cell_type": "code",
   "execution_count": 73,
   "metadata": {},
   "outputs": [
    {
     "data": {
      "text/plain": [
       "0.7597278034211241"
      ]
     },
     "execution_count": 73,
     "metadata": {},
     "output_type": "execute_result"
    }
   ],
   "source": [
    "roc_auc_score(Ytest3, pred[:,1])"
   ]
  },
  {
   "cell_type": "code",
   "execution_count": 74,
   "metadata": {},
   "outputs": [
    {
     "name": "stdout",
     "output_type": "stream",
     "text": [
      "Fitting 3 folds for each of 12 candidates, totalling 36 fits\n"
     ]
    },
    {
     "name": "stderr",
     "output_type": "stream",
     "text": [
      "[Parallel(n_jobs=-1)]: Using backend LokyBackend with 2 concurrent workers.\n",
      "[Parallel(n_jobs=-1)]: Done   1 tasks      | elapsed:   23.5s\n",
      "[Parallel(n_jobs=-1)]: Done   4 tasks      | elapsed:   33.1s\n",
      "[Parallel(n_jobs=-1)]: Done   9 tasks      | elapsed:  1.0min\n",
      "[Parallel(n_jobs=-1)]: Done  14 tasks      | elapsed:  1.3min\n",
      "[Parallel(n_jobs=-1)]: Done  21 tasks      | elapsed:  1.8min\n",
      "[Parallel(n_jobs=-1)]: Done  28 tasks      | elapsed:  2.4min\n",
      "[Parallel(n_jobs=-1)]: Done  36 out of  36 | elapsed:  3.2min finished\n"
     ]
    },
    {
     "data": {
      "text/plain": [
       "GridSearchCV(cv=3, error_score='raise-deprecating',\n",
       "       estimator=ExtraTreesClassifier(bootstrap=True, class_weight=None, criterion='gini',\n",
       "           max_depth=None, max_features='auto', max_leaf_nodes=None,\n",
       "           min_impurity_decrease=0.0, min_impurity_split=None,\n",
       "           min_samples_leaf=1, min_samples_split=5,\n",
       "           min_weight_fraction_leaf=0.0, n_estimators=150, n_jobs=None,\n",
       "           oob_score=False, random_state=None, verbose=0, warm_start=False),\n",
       "       fit_params=None, iid='warn', n_jobs=-1,\n",
       "       param_grid={'n_estimators': [50, 100, 150], 'max_features': ['auto'], 'min_samples_split': [2, 3, 4, 5], 'bootstrap': [True]},\n",
       "       pre_dispatch='2*n_jobs', refit=True, return_train_score='warn',\n",
       "       scoring=None, verbose=10)"
      ]
     },
     "execution_count": 74,
     "metadata": {},
     "output_type": "execute_result"
    }
   ],
   "source": [
    "param_grid = { \n",
    "          \"n_estimators\"      : [50,100,150],\n",
    "          \"max_features\"      : [\"auto\"],\n",
    "          \"min_samples_split\" : [2,3,4,5] ,\n",
    "          \"bootstrap\": [True]\n",
    "          }\n",
    "grid = GridSearchCV(model, param_grid, n_jobs=-1, cv=3, verbose=10)\n",
    "\n",
    "grid.fit(Xtrn3[['event_checkout',\n",
    "  'time_cos_by_day',\n",
    "    'event_visited site',\n",
    "  'event_brand listing',\n",
    "  'event_viewed product',\n",
    "  'event_generic listing', \n",
    "  'event_search engine hit',\n",
    "  'event_ad campaign hit',\n",
    "  'condition_Bom', \n",
    "  'event_searched products', \n",
    "  'condition_Muito Bom']], Ytrn3)"
   ]
  },
  {
   "cell_type": "code",
   "execution_count": 75,
   "metadata": {},
   "outputs": [
    {
     "data": {
      "text/plain": [
       "0.9496490889189363"
      ]
     },
     "execution_count": 75,
     "metadata": {},
     "output_type": "execute_result"
    }
   ],
   "source": [
    "grid.best_score_"
   ]
  },
  {
   "cell_type": "code",
   "execution_count": 76,
   "metadata": {},
   "outputs": [],
   "source": [
    "pred = grid.predict_proba(Xtest3[['event_checkout',\n",
    "  'time_cos_by_day',\n",
    "    'event_visited site',\n",
    "  'event_brand listing',\n",
    "  'event_viewed product',\n",
    "  'event_generic listing', \n",
    "  'event_search engine hit',\n",
    "  'event_ad campaign hit',\n",
    "  'condition_Bom', \n",
    "  'event_searched products', \n",
    "  'condition_Muito Bom']])"
   ]
  },
  {
   "cell_type": "code",
   "execution_count": 78,
   "metadata": {},
   "outputs": [
    {
     "data": {
      "text/plain": [
       "0.7660175128970947"
      ]
     },
     "execution_count": 78,
     "metadata": {},
     "output_type": "execute_result"
    }
   ],
   "source": [
    "roc_auc_score(Ytest3, pred[:,1])"
   ]
  },
  {
   "cell_type": "code",
   "execution_count": 79,
   "metadata": {},
   "outputs": [
    {
     "data": {
      "text/plain": [
       "{'bootstrap': True,\n",
       " 'max_features': 'auto',\n",
       " 'min_samples_split': 5,\n",
       " 'n_estimators': 100}"
      ]
     },
     "execution_count": 79,
     "metadata": {},
     "output_type": "execute_result"
    }
   ],
   "source": [
    "grid.best_params_"
   ]
  },
  {
   "cell_type": "code",
   "execution_count": 81,
   "metadata": {},
   "outputs": [
    {
     "name": "stdout",
     "output_type": "stream",
     "text": [
      "Fitting 3 folds for each of 12 candidates, totalling 36 fits\n"
     ]
    },
    {
     "name": "stderr",
     "output_type": "stream",
     "text": [
      "[Parallel(n_jobs=-1)]: Using backend LokyBackend with 2 concurrent workers.\n",
      "[Parallel(n_jobs=-1)]: Done   1 tasks      | elapsed:   18.6s\n",
      "[Parallel(n_jobs=-1)]: Done   4 tasks      | elapsed:   27.4s\n",
      "[Parallel(n_jobs=-1)]: Done   9 tasks      | elapsed:   51.4s\n",
      "[Parallel(n_jobs=-1)]: Done  14 tasks      | elapsed:  1.1min\n",
      "[Parallel(n_jobs=-1)]: Done  21 tasks      | elapsed:  1.6min\n",
      "[Parallel(n_jobs=-1)]: Done  28 tasks      | elapsed:  2.1min\n",
      "[Parallel(n_jobs=-1)]: Done  36 out of  36 | elapsed:  2.6min finished\n"
     ]
    },
    {
     "data": {
      "text/plain": [
       "GridSearchCV(cv=3, error_score='raise-deprecating',\n",
       "       estimator=ExtraTreesClassifier(bootstrap=True, class_weight=None, criterion='gini',\n",
       "           max_depth=None, max_features='auto', max_leaf_nodes=None,\n",
       "           min_impurity_decrease=0.0, min_impurity_split=None,\n",
       "           min_samples_leaf=1, min_samples_split=5,\n",
       "           min_weight_fraction_leaf=0.0, n_estimators=150, n_jobs=None,\n",
       "           oob_score=False, random_state=None, verbose=0, warm_start=False),\n",
       "       fit_params=None, iid='warn', n_jobs=-1,\n",
       "       param_grid={'n_estimators': [50, 100, 150], 'max_features': ['auto'], 'min_samples_split': [2, 3, 4, 5], 'bootstrap': [True]},\n",
       "       pre_dispatch='2*n_jobs', refit=True, return_train_score='warn',\n",
       "       scoring=None, verbose=10)"
      ]
     },
     "execution_count": 81,
     "metadata": {},
     "output_type": "execute_result"
    }
   ],
   "source": [
    "param_grid = { \n",
    "          \"n_estimators\"      : [50,100,150],\n",
    "          \"max_features\"      : [\"auto\"],\n",
    "          \"min_samples_split\" : [2,3,4,5] ,\n",
    "          \"bootstrap\": [True]\n",
    "          }\n",
    "grid2 = GridSearchCV(model, param_grid, n_jobs=-1, cv=3, verbose=10)\n",
    "\n",
    "grid2.fit(Xtrn3[['event_checkout',\n",
    "  'time_cos_by_day',\n",
    "    'event_visited site',\n",
    "  ]], Ytrn3)"
   ]
  },
  {
   "cell_type": "code",
   "execution_count": 82,
   "metadata": {},
   "outputs": [
    {
     "data": {
      "text/plain": [
       "0.9495203142102892"
      ]
     },
     "execution_count": 82,
     "metadata": {},
     "output_type": "execute_result"
    }
   ],
   "source": [
    "grid2.best_score_"
   ]
  },
  {
   "cell_type": "code",
   "execution_count": 84,
   "metadata": {},
   "outputs": [],
   "source": [
    "pred = grid2.predict_proba(Xtest3[['event_checkout',\n",
    "  'time_cos_by_day',\n",
    "    'event_visited site',\n",
    "  ]])"
   ]
  },
  {
   "cell_type": "code",
   "execution_count": 85,
   "metadata": {},
   "outputs": [
    {
     "data": {
      "text/plain": [
       "0.735109285908227"
      ]
     },
     "execution_count": 85,
     "metadata": {},
     "output_type": "execute_result"
    }
   ],
   "source": [
    "roc_auc_score(Ytest3, pred[:,1])"
   ]
  },
  {
   "cell_type": "markdown",
   "metadata": {},
   "source": [
    "# Features mica mas Mati"
   ]
  },
  {
   "cell_type": "code",
   "execution_count": null,
   "metadata": {},
   "outputs": [],
   "source": []
  }
 ],
 "metadata": {
  "kernelspec": {
   "display_name": "Python 3",
   "language": "python",
   "name": "python3"
  },
  "language_info": {
   "codemirror_mode": {
    "name": "ipython",
    "version": 3
   },
   "file_extension": ".py",
   "mimetype": "text/x-python",
   "name": "python",
   "nbconvert_exporter": "python",
   "pygments_lexer": "ipython3",
   "version": "3.6.3"
  }
 },
 "nbformat": 4,
 "nbformat_minor": 2
}
