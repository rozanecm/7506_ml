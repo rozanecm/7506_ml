{
 "cells": [
  {
   "cell_type": "code",
   "execution_count": 1,
   "metadata": {},
   "outputs": [],
   "source": [
    "import pandas as pd\n",
    "import numpy as np\n",
    "from sklearn.model_selection import train_test_split\n",
    "# Import Area Under the Receiver Operating Characteristic Curve metric to evaluate results\n",
    "from sklearn.metrics import roc_auc_score\n",
    "from sklearn.pipeline import Pipeline\n",
    "import sklearn"
   ]
  },
  {
   "cell_type": "code",
   "execution_count": 2,
   "metadata": {},
   "outputs": [],
   "source": [
    "from sklearn import preprocessing\n",
    "from sklearn.feature_extraction import DictVectorizer\n",
    "from sklearn.preprocessing import OneHotEncoder\n",
    "from sklearn.feature_extraction import FeatureHasher\n",
    "from sklearn.preprocessing import LabelBinarizer"
   ]
  },
  {
   "cell_type": "code",
   "execution_count": 3,
   "metadata": {},
   "outputs": [],
   "source": [
    "#Leer el que arme hoy y probar\n",
    "events_df = pd.read_csv('/home/miki_mustard/Desktop/Facultad/Datos/TP2/events_con_otros_supports.csv', low_memory=False) \n",
    "\n",
    "#events_df = pd.read_csv('/home/miki_mustard/ev_con_2_supports.csv', low_memory=False) \n",
    "#A este csv le tengo que agregar lo de las fechas ciclicas\n"
   ]
  },
  {
   "cell_type": "code",
   "execution_count": 4,
   "metadata": {},
   "outputs": [],
   "source": [
    "labels_df = pd.read_csv(\"/home/miki_mustard/Desktop/Facultad/Datos/TP2/fiuba-trocafone-tp2-final-set/labels_training_set.csv\", low_memory=False)"
   ]
  },
  {
   "cell_type": "code",
   "execution_count": 5,
   "metadata": {},
   "outputs": [
    {
     "data": {
      "text/plain": [
       "(1171886, 45)"
      ]
     },
     "execution_count": 5,
     "metadata": {},
     "output_type": "execute_result"
    }
   ],
   "source": [
    "# armo df con registros completos clasificados\n",
    "train_df = events_df.merge(labels_df, on='person', how='right')\n",
    "train_df.shape"
   ]
  },
  {
   "cell_type": "code",
   "execution_count": 6,
   "metadata": {},
   "outputs": [],
   "source": [
    "y_train = train_df.label"
   ]
  },
  {
   "cell_type": "code",
   "execution_count": 7,
   "metadata": {},
   "outputs": [],
   "source": [
    "train_df = train_df.drop(columns=['label'])"
   ]
  },
  {
   "cell_type": "code",
   "execution_count": 8,
   "metadata": {},
   "outputs": [
    {
     "data": {
      "text/plain": [
       "Index(['event', 'person', 'sku', 'condition', 'search_engine',\n",
       "       'new_vs_returning', 'region', 'country', 'device_type',\n",
       "       'screen_resolution', 'mes', 'dia', 'q1', 'q2', 'q3', 'q4', 'q5', 'q6',\n",
       "       'q7', 'q8', 'q9', 'q10', 'support_p_todos_sus_ev', 'support_con_peso',\n",
       "       'year', 'month_sin', 'month_cos', 'day_sin', 'day_cos', 'weekday_sin',\n",
       "       'weekday_cos', 'hour_sin', 'hour_cos', 'samsung', 'motorola', 'iphone',\n",
       "       'asus', 'lg', 'sony', 'url_comprar', 'url_vender', 'storage_support',\n",
       "       'color_support', '0'],\n",
       "      dtype='object')"
      ]
     },
     "execution_count": 8,
     "metadata": {},
     "output_type": "execute_result"
    }
   ],
   "source": [
    "train_df.columns"
   ]
  },
  {
   "cell_type": "code",
   "execution_count": null,
   "metadata": {},
   "outputs": [],
   "source": [
    "#train_df.to_csv('train_datos.csv', index=False)"
   ]
  },
  {
   "cell_type": "code",
   "execution_count": 9,
   "metadata": {},
   "outputs": [],
   "source": [
    "# armo df con registros a predecir unicamente\n",
    "to_predict = events_df[~events_df.person.isin(labels_df.person)]"
   ]
  },
  {
   "cell_type": "code",
   "execution_count": null,
   "metadata": {},
   "outputs": [],
   "source": [
    "#to_predict.to_csv('to_predict.csv', index=False)"
   ]
  },
  {
   "cell_type": "code",
   "execution_count": null,
   "metadata": {},
   "outputs": [],
   "source": [
    "test_size = 0.33\n",
    "# define a seed, so same experiments output same results every time\n",
    "seed = 12"
   ]
  },
  {
   "cell_type": "code",
   "execution_count": null,
   "metadata": {},
   "outputs": [],
   "source": [
    "\n",
    "# realizo train_test_splitkkk\n",
    "X_train, X_test, y_train, y_test = train_test_split(train_df.loc[:, train_df.columns != 'label'], \n",
    "                                                    y_train, \n",
    "                                                    test_size=test_size, \n",
    "                                                    random_state=seed)"
   ]
  },
  {
   "cell_type": "markdown",
   "metadata": {},
   "source": [
    "***\n",
    "## Note on preprocessing\n",
    "All preprocessing which can be done in just one way, i.e. it doesn't need hyper parameter adjustment, will be done outside pipelines."
   ]
  },
  {
   "cell_type": "markdown",
   "metadata": {},
   "source": [
    "Good pipeline sources: \n",
    "* http://zacstewart.com/2014/08/05/pipelines-of-featureunions-of-pipelines.html\n",
    "* https://www.kaggle.com/baghern/a-deep-dive-into-sklearn-pipelines\n",
    "* https://www.kaggle.com/metadist/work-like-a-pro-with-pipelines-and-feature-unions\n",
    "* https://www.kaggle.com/sermakarevich/sklearn-pipelines-tutorial\n",
    "* http://zacstewart.com/2014/08/05/pipelines-of-featureunions-of-pipelines.html\n",
    "***"
   ]
  },
  {
   "cell_type": "code",
   "execution_count": null,
   "metadata": {},
   "outputs": [],
   "source": [
    "# some date processing\n",
    "def date_proc(df):\n",
    "    df['timestamp'] = pd.to_datetime(df['timestamp'])\n",
    "    df['year'] = df['timestamp'].dt.year\n",
    "    df['month'] = df['timestamp'].dt.month\n",
    "    df['day'] = df['timestamp'].dt.day\n",
    "    df['weekday'] = df['timestamp'].dt.day_name()\n",
    "    df['hour'] = df['timestamp'].dt.hour\n",
    "    df['year_month_day'] = df['timestamp'].map(lambda x: str(x.year)+\"/\"+str(x.month)+\"/\"+str(x.day))\n",
    "    df['year_month_day'] = pd.to_datetime(df['year_month_day'])\n",
    "    \n",
    "#date_proc(X_train)\n",
    "#date_proc(X_test)\n",
    "date_proc(train_df)"
   ]
  },
  {
   "cell_type": "code",
   "execution_count": null,
   "metadata": {},
   "outputs": [],
   "source": [
    "train_df.columns"
   ]
  },
  {
   "cell_type": "code",
   "execution_count": null,
   "metadata": {},
   "outputs": [],
   "source": [
    "x_train.dtypes"
   ]
  },
  {
   "cell_type": "markdown",
   "metadata": {},
   "source": [
    "Primero hacemos un label encoding con el weekday, luego aplicamos una transfrmacion que contemple la naturaleza ciclica de la semana. Esto ultimo lo aplicaremos tambien al resto de los features ciclicos (como se explica, por ejemplo, aca: https://ianlondon.github.io/blog/encoding-cyclical-features-24hour-time/)"
   ]
  },
  {
   "cell_type": "code",
   "execution_count": null,
   "metadata": {},
   "outputs": [],
   "source": [
    "weekday_le = preprocessing.LabelEncoder()\n",
    "weekday_le.fit(train_df.weekday)\n",
    "\n",
    "#X_train.weekday = weekday_le.transform(X_train.weekday)\n",
    "#X_test.weekday = weekday_le.transform(X_test.weekday)\n",
    "train_df.weekday = weekday_le.transform(train_df.weekday)"
   ]
  },
  {
   "cell_type": "code",
   "execution_count": null,
   "metadata": {},
   "outputs": [],
   "source": [
    "def month_to_cyclic(df):\n",
    "    df['month_sin'] = df['month'].apply(lambda x: np.sin(2*np.pi*x/12))\n",
    "    df['month_cos'] = df['month'].apply(lambda x: np.cos(2*np.pi*x/12))\n",
    "    df.drop('month', axis=1, inplace=True)\n",
    "    \n",
    "def day_to_cyclic(df):\n",
    "    df['day_sin'] = df['day'].apply(lambda x: np.sin(2*np.pi*x/31))\n",
    "    df['day_cos'] = df['day'].apply(lambda x: np.cos(2*np.pi*x/31))\n",
    "    df.drop('day', axis=1, inplace=True)\n",
    "\n",
    "def weekday_to_cyclic(df):\n",
    "    df['weekday_sin'] = df['weekday'].apply(lambda x: np.sin(2*np.pi*x/7))\n",
    "    df['weekday_cos'] = df['weekday'].apply(lambda x: np.cos(2*np.pi*x/7))\n",
    "    df.drop('weekday', axis=1, inplace=True)\n",
    "\n",
    "def hour_to_cyclic(df):\n",
    "    df['hour_sin'] = df['hour'].apply(lambda x: np.sin(2*np.pi*x/24))\n",
    "    df['hour_cos'] = df['hour'].apply(lambda x: np.cos(2*np.pi*x/24))\n",
    "    df.drop('hour', axis=1, inplace=True)"
   ]
  },
  {
   "cell_type": "code",
   "execution_count": null,
   "metadata": {},
   "outputs": [],
   "source": [
    "# cell to compare results before & after processing\n",
    "X_train[['year','month','day','weekday','hour']].head()"
   ]
  },
  {
   "cell_type": "code",
   "execution_count": null,
   "metadata": {},
   "outputs": [],
   "source": [
    "month_to_cyclic(train_df)\n",
    "day_to_cyclic(train_df)\n",
    "weekday_to_cyclic(train_df)\n",
    "hour_to_cyclic(train_df)"
   ]
  },
  {
   "cell_type": "code",
   "execution_count": null,
   "metadata": {},
   "outputs": [],
   "source": [
    "X_train[['month_sin','month_cos','day_sin','day_cos','weekday_sin','weekday_cos','hour_sin','hour_cos']].head()"
   ]
  },
  {
   "cell_type": "code",
   "execution_count": null,
   "metadata": {},
   "outputs": [],
   "source": [
    "X_train.drop('year_month_day', axis=1, inplace=True)\n",
    "X_test.drop('year_month_day', axis=1, inplace=True)"
   ]
  },
  {
   "cell_type": "code",
   "execution_count": null,
   "metadata": {},
   "outputs": [],
   "source": [
    "X_train.dtypes"
   ]
  },
  {
   "cell_type": "markdown",
   "metadata": {},
   "source": [
    "### Build some custom transformers"
   ]
  },
  {
   "cell_type": "code",
   "execution_count": 10,
   "metadata": {},
   "outputs": [],
   "source": [
    "from sklearn.base import BaseEstimator, TransformerMixin\n",
    "\n",
    "class ColumnSelector(BaseEstimator, TransformerMixin):\n",
    "    \"\"\"\n",
    "    Selector to select the needed columns in the pipeline\n",
    "    \"\"\"\n",
    "    def __init__(self, cols):\n",
    "        self.cols = cols\n",
    "\n",
    "    def fit(self, X, y=None):\n",
    "        return self\n",
    "\n",
    "    def transform(self, X, y=None):\n",
    "        return X.loc[:,self.cols]"
   ]
  },
  {
   "cell_type": "code",
   "execution_count": 11,
   "metadata": {},
   "outputs": [],
   "source": [
    "from sklearn.base import BaseEstimator, TransformerMixin\n",
    "\n",
    "class NaFiller(BaseEstimator, TransformerMixin):\n",
    "    \"\"\"\n",
    "    Selector to select the needed columns in the pipeline\n",
    "    \"\"\"\n",
    "    def __init__(self, filler):\n",
    "        self.filler = filler\n",
    "\n",
    "    def fit(self, X, y=None):\n",
    "        return self\n",
    "\n",
    "    def transform(self, X, y=None):\n",
    "        return X.fillna(self.filler)"
   ]
  },
  {
   "cell_type": "code",
   "execution_count": 12,
   "metadata": {},
   "outputs": [
    {
     "data": {
      "text/plain": [
       "Index(['event', 'person', 'sku', 'condition', 'search_engine',\n",
       "       'new_vs_returning', 'region', 'country', 'device_type',\n",
       "       'screen_resolution', 'mes', 'dia', 'q1', 'q2', 'q3', 'q4', 'q5', 'q6',\n",
       "       'q7', 'q8', 'q9', 'q10', 'support_p_todos_sus_ev', 'support_con_peso',\n",
       "       'year', 'month_sin', 'month_cos', 'day_sin', 'day_cos', 'weekday_sin',\n",
       "       'weekday_cos', 'hour_sin', 'hour_cos', 'samsung', 'motorola', 'iphone',\n",
       "       'asus', 'lg', 'sony', 'url_comprar', 'url_vender', 'storage_support',\n",
       "       'color_support', '0'],\n",
       "      dtype='object')"
      ]
     },
     "execution_count": 12,
     "metadata": {},
     "output_type": "execute_result"
    }
   ],
   "source": [
    "train_df.columns"
   ]
  },
  {
   "cell_type": "markdown",
   "metadata": {},
   "source": [
    "## q1"
   ]
  },
  {
   "cell_type": "code",
   "execution_count": 13,
   "metadata": {},
   "outputs": [],
   "source": [
    "# from https://www.kaggle.com/baghern/a-deep-dive-into-sklearn-pipelines:\n",
    "# To make a pipeline, just pass an array of tuples of the format (name, object). The first part is the name of the action, and the second is the actual object. \n",
    "\n",
    "q1_pipe = Pipeline([\n",
    "    ('selector', ColumnSelector(['q1'])),\n",
    "    ('na_filler', NaFiller(\"\")),\n",
    "    ('hasher', OneHotEncoder(handle_unknown='ignore')) \n",
    "])"
   ]
  },
  {
   "cell_type": "code",
   "execution_count": 14,
   "metadata": {},
   "outputs": [
    {
     "data": {
      "text/plain": [
       "<1171886x2 sparse matrix of type '<class 'numpy.float64'>'\n",
       "\twith 1171886 stored elements in Compressed Sparse Row format>"
      ]
     },
     "execution_count": 14,
     "metadata": {},
     "output_type": "execute_result"
    }
   ],
   "source": [
    "q1_pipe.fit_transform(train_df)"
   ]
  },
  {
   "cell_type": "markdown",
   "metadata": {},
   "source": [
    "## q2"
   ]
  },
  {
   "cell_type": "code",
   "execution_count": 15,
   "metadata": {},
   "outputs": [],
   "source": [
    "# from https://www.kaggle.com/baghern/a-deep-dive-into-sklearn-pipelines:\n",
    "# To make a pipeline, just pass an array of tuples of the format (name, object). The first part is the name of the action, and the second is the actual object. \n",
    "\n",
    "q2_pipe = Pipeline([\n",
    "    ('selector', ColumnSelector(['q2'])),\n",
    "    ('na_filler', NaFiller(\"\")),\n",
    "    ('hasher', OneHotEncoder(handle_unknown='ignore')) \n",
    "])\n"
   ]
  },
  {
   "cell_type": "code",
   "execution_count": 16,
   "metadata": {},
   "outputs": [
    {
     "data": {
      "text/plain": [
       "<1171886x2 sparse matrix of type '<class 'numpy.float64'>'\n",
       "\twith 1171886 stored elements in Compressed Sparse Row format>"
      ]
     },
     "execution_count": 16,
     "metadata": {},
     "output_type": "execute_result"
    }
   ],
   "source": [
    "q2_pipe.fit_transform(train_df)"
   ]
  },
  {
   "cell_type": "markdown",
   "metadata": {},
   "source": [
    "## q3"
   ]
  },
  {
   "cell_type": "code",
   "execution_count": 17,
   "metadata": {},
   "outputs": [],
   "source": [
    "# from https://www.kaggle.com/baghern/a-deep-dive-into-sklearn-pipelines:\n",
    "# To make a pipeline, just pass an array of tuples of the format (name, object). The first part is the name of the action, and the second is the actual object. \n",
    "\n",
    "q3_pipe = Pipeline([\n",
    "    ('selector', ColumnSelector(['q3'])),\n",
    "    ('na_filler', NaFiller(\"\")),\n",
    "    ('hasher', OneHotEncoder(handle_unknown='ignore')) \n",
    "])"
   ]
  },
  {
   "cell_type": "code",
   "execution_count": 18,
   "metadata": {},
   "outputs": [
    {
     "data": {
      "text/plain": [
       "<1171886x2 sparse matrix of type '<class 'numpy.float64'>'\n",
       "\twith 1171886 stored elements in Compressed Sparse Row format>"
      ]
     },
     "execution_count": 18,
     "metadata": {},
     "output_type": "execute_result"
    }
   ],
   "source": [
    "q3_pipe.fit_transform(train_df)"
   ]
  },
  {
   "cell_type": "markdown",
   "metadata": {},
   "source": [
    "## q4"
   ]
  },
  {
   "cell_type": "code",
   "execution_count": 19,
   "metadata": {},
   "outputs": [],
   "source": [
    "# from https://www.kaggle.com/baghern/a-deep-dive-into-sklearn-pipelines:\n",
    "# To make a pipeline, just pass an array of tuples of the format (name, object). The first part is the name of the action, and the second is the actual object. \n",
    "\n",
    "q4_pipe = Pipeline([\n",
    "    ('selector', ColumnSelector(['q4'])),\n",
    "    ('na_filler', NaFiller(\"\")),\n",
    "    ('hasher', OneHotEncoder(handle_unknown='ignore')) \n",
    "])"
   ]
  },
  {
   "cell_type": "code",
   "execution_count": 20,
   "metadata": {},
   "outputs": [
    {
     "data": {
      "text/plain": [
       "<1171886x2 sparse matrix of type '<class 'numpy.float64'>'\n",
       "\twith 1171886 stored elements in Compressed Sparse Row format>"
      ]
     },
     "execution_count": 20,
     "metadata": {},
     "output_type": "execute_result"
    }
   ],
   "source": [
    "q4_pipe.fit_transform(train_df)"
   ]
  },
  {
   "cell_type": "markdown",
   "metadata": {},
   "source": [
    "## q5"
   ]
  },
  {
   "cell_type": "code",
   "execution_count": 21,
   "metadata": {},
   "outputs": [],
   "source": [
    "# from https://www.kaggle.com/baghern/a-deep-dive-into-sklearn-pipelines:\n",
    "# To make a pipeline, just pass an array of tuples of the format (name, object). The first part is the name of the action, and the second is the actual object. \n",
    "\n",
    "q5_pipe = Pipeline([\n",
    "    ('selector', ColumnSelector(['q5'])),\n",
    "    ('na_filler', NaFiller(\"\")),\n",
    "    ('hasher', OneHotEncoder(handle_unknown='ignore')) \n",
    "])"
   ]
  },
  {
   "cell_type": "code",
   "execution_count": 22,
   "metadata": {},
   "outputs": [
    {
     "data": {
      "text/plain": [
       "<1171886x2 sparse matrix of type '<class 'numpy.float64'>'\n",
       "\twith 1171886 stored elements in Compressed Sparse Row format>"
      ]
     },
     "execution_count": 22,
     "metadata": {},
     "output_type": "execute_result"
    }
   ],
   "source": [
    "q5_pipe.fit_transform(train_df)"
   ]
  },
  {
   "cell_type": "markdown",
   "metadata": {},
   "source": [
    "## q6"
   ]
  },
  {
   "cell_type": "code",
   "execution_count": 23,
   "metadata": {},
   "outputs": [],
   "source": [
    "# from https://www.kaggle.com/baghern/a-deep-dive-into-sklearn-pipelines:\n",
    "# To make a pipeline, just pass an array of tuples of the format (name, object). The first part is the name of the action, and the second is the actual object. \n",
    "\n",
    "q6_pipe = Pipeline([\n",
    "    ('selector', ColumnSelector(['q6'])),\n",
    "    ('na_filler', NaFiller(\"\")),\n",
    "    ('hasher', OneHotEncoder(handle_unknown='ignore')) \n",
    "])"
   ]
  },
  {
   "cell_type": "code",
   "execution_count": 24,
   "metadata": {},
   "outputs": [
    {
     "data": {
      "text/plain": [
       "<1171886x2 sparse matrix of type '<class 'numpy.float64'>'\n",
       "\twith 1171886 stored elements in Compressed Sparse Row format>"
      ]
     },
     "execution_count": 24,
     "metadata": {},
     "output_type": "execute_result"
    }
   ],
   "source": [
    "q6_pipe.fit_transform(train_df)"
   ]
  },
  {
   "cell_type": "markdown",
   "metadata": {},
   "source": [
    "## q7"
   ]
  },
  {
   "cell_type": "code",
   "execution_count": 25,
   "metadata": {},
   "outputs": [],
   "source": [
    "# from https://www.kaggle.com/baghern/a-deep-dive-into-sklearn-pipelines:\n",
    "# To make a pipeline, just pass an array of tuples of the format (name, object). The first part is the name of the action, and the second is the actual object. \n",
    "\n",
    "q7_pipe = Pipeline([\n",
    "    ('selector', ColumnSelector(['q7'])),\n",
    "    ('na_filler', NaFiller(\"\")),\n",
    "    ('hasher', OneHotEncoder(handle_unknown='ignore')) \n",
    "])"
   ]
  },
  {
   "cell_type": "code",
   "execution_count": 26,
   "metadata": {},
   "outputs": [
    {
     "data": {
      "text/plain": [
       "<1171886x2 sparse matrix of type '<class 'numpy.float64'>'\n",
       "\twith 1171886 stored elements in Compressed Sparse Row format>"
      ]
     },
     "execution_count": 26,
     "metadata": {},
     "output_type": "execute_result"
    }
   ],
   "source": [
    "q7_pipe.fit_transform(train_df)"
   ]
  },
  {
   "cell_type": "markdown",
   "metadata": {},
   "source": [
    "## q8"
   ]
  },
  {
   "cell_type": "code",
   "execution_count": 27,
   "metadata": {},
   "outputs": [],
   "source": [
    "# from https://www.kaggle.com/baghern/a-deep-dive-into-sklearn-pipelines:\n",
    "# To make a pipeline, just pass an array of tuples of the format (name, object). The first part is the name of the action, and the second is the actual object. \n",
    "\n",
    "q8_pipe = Pipeline([\n",
    "    ('selector', ColumnSelector(['q8'])),\n",
    "    ('na_filler', NaFiller(\"\")),\n",
    "    ('hasher', OneHotEncoder(handle_unknown='ignore')) \n",
    "])"
   ]
  },
  {
   "cell_type": "code",
   "execution_count": 28,
   "metadata": {},
   "outputs": [
    {
     "data": {
      "text/plain": [
       "<1171886x2 sparse matrix of type '<class 'numpy.float64'>'\n",
       "\twith 1171886 stored elements in Compressed Sparse Row format>"
      ]
     },
     "execution_count": 28,
     "metadata": {},
     "output_type": "execute_result"
    }
   ],
   "source": [
    "q8_pipe.fit_transform(train_df)"
   ]
  },
  {
   "cell_type": "markdown",
   "metadata": {},
   "source": [
    "## q9"
   ]
  },
  {
   "cell_type": "code",
   "execution_count": 29,
   "metadata": {},
   "outputs": [],
   "source": [
    "# from https://www.kaggle.com/baghern/a-deep-dive-into-sklearn-pipelines:\n",
    "# To make a pipeline, just pass an array of tuples of the format (name, object). The first part is the name of the action, and the second is the actual object. \n",
    "\n",
    "q9_pipe = Pipeline([\n",
    "    ('selector', ColumnSelector(['q9'])),\n",
    "    ('na_filler', NaFiller(\"\")),\n",
    "    ('hasher', OneHotEncoder(handle_unknown='ignore')) \n",
    "])"
   ]
  },
  {
   "cell_type": "code",
   "execution_count": 30,
   "metadata": {},
   "outputs": [
    {
     "data": {
      "text/plain": [
       "<1171886x2 sparse matrix of type '<class 'numpy.float64'>'\n",
       "\twith 1171886 stored elements in Compressed Sparse Row format>"
      ]
     },
     "execution_count": 30,
     "metadata": {},
     "output_type": "execute_result"
    }
   ],
   "source": [
    "q9_pipe.fit_transform(train_df)"
   ]
  },
  {
   "cell_type": "markdown",
   "metadata": {},
   "source": [
    "## q10"
   ]
  },
  {
   "cell_type": "code",
   "execution_count": 31,
   "metadata": {},
   "outputs": [],
   "source": [
    "# from https://www.kaggle.com/baghern/a-deep-dive-into-sklearn-pipelines:\n",
    "# To make a pipeline, just pass an array of tuples of the format (name, object). The first part is the name of the action, and the second is the actual object. \n",
    "\n",
    "q10_pipe = Pipeline([\n",
    "    ('selector', ColumnSelector(['q10'])),\n",
    "    ('na_filler', NaFiller(\"\")),\n",
    "    ('hasher', OneHotEncoder(handle_unknown='ignore')) \n",
    "])"
   ]
  },
  {
   "cell_type": "code",
   "execution_count": 32,
   "metadata": {},
   "outputs": [
    {
     "data": {
      "text/plain": [
       "<1171886x2 sparse matrix of type '<class 'numpy.float64'>'\n",
       "\twith 1171886 stored elements in Compressed Sparse Row format>"
      ]
     },
     "execution_count": 32,
     "metadata": {},
     "output_type": "execute_result"
    }
   ],
   "source": [
    "q10_pipe.fit_transform(train_df)"
   ]
  },
  {
   "cell_type": "markdown",
   "metadata": {},
   "source": [
    "## support_p_todos_sus_ev"
   ]
  },
  {
   "cell_type": "code",
   "execution_count": 33,
   "metadata": {},
   "outputs": [
    {
     "data": {
      "text/plain": [
       "dtype('float64')"
      ]
     },
     "execution_count": 33,
     "metadata": {},
     "output_type": "execute_result"
    }
   ],
   "source": [
    "events_df.support_p_todos_sus_ev.dtypes"
   ]
  },
  {
   "cell_type": "code",
   "execution_count": 34,
   "metadata": {},
   "outputs": [],
   "source": [
    "# from https://www.kaggle.com/baghern/a-deep-dive-into-sklearn-pipelines:\n",
    "# To make a pipeline, just pass an array of tuples of the format (name, object). The first part is the name of the action, and the second is the actual object. \n",
    "\n",
    "sup_pipe = Pipeline([\n",
    "    ('selector', ColumnSelector(['support_p_todos_sus_ev'])),\n",
    "    ('na_filler', NaFiller(\"\")),\n",
    "    ('hasher', OneHotEncoder(handle_unknown='ignore')) \n",
    "])"
   ]
  },
  {
   "cell_type": "code",
   "execution_count": 35,
   "metadata": {},
   "outputs": [
    {
     "data": {
      "text/plain": [
       "<1171886x329 sparse matrix of type '<class 'numpy.float64'>'\n",
       "\twith 1171886 stored elements in Compressed Sparse Row format>"
      ]
     },
     "execution_count": 35,
     "metadata": {},
     "output_type": "execute_result"
    }
   ],
   "source": [
    "sup_pipe.fit_transform(train_df)"
   ]
  },
  {
   "cell_type": "code",
   "execution_count": 36,
   "metadata": {},
   "outputs": [
    {
     "data": {
      "text/plain": [
       "Index(['event', 'person', 'sku', 'condition', 'search_engine',\n",
       "       'new_vs_returning', 'region', 'country', 'device_type',\n",
       "       'screen_resolution', 'mes', 'dia', 'q1', 'q2', 'q3', 'q4', 'q5', 'q6',\n",
       "       'q7', 'q8', 'q9', 'q10', 'support_p_todos_sus_ev', 'support_con_peso',\n",
       "       'year', 'month_sin', 'month_cos', 'day_sin', 'day_cos', 'weekday_sin',\n",
       "       'weekday_cos', 'hour_sin', 'hour_cos', 'samsung', 'motorola', 'iphone',\n",
       "       'asus', 'lg', 'sony', 'url_comprar', 'url_vender', 'storage_support',\n",
       "       'color_support', '0'],\n",
       "      dtype='object')"
      ]
     },
     "execution_count": 36,
     "metadata": {},
     "output_type": "execute_result"
    }
   ],
   "source": [
    "events_df.columns"
   ]
  },
  {
   "cell_type": "markdown",
   "metadata": {},
   "source": [
    "## storage_support"
   ]
  },
  {
   "cell_type": "code",
   "execution_count": 129,
   "metadata": {},
   "outputs": [
    {
     "data": {
      "text/plain": [
       "dtype('float64')"
      ]
     },
     "execution_count": 129,
     "metadata": {},
     "output_type": "execute_result"
    }
   ],
   "source": [
    "events_df.storage_support.dtypes"
   ]
  },
  {
   "cell_type": "code",
   "execution_count": null,
   "metadata": {},
   "outputs": [],
   "source": []
  },
  {
   "cell_type": "code",
   "execution_count": 102,
   "metadata": {},
   "outputs": [],
   "source": [
    "storage_sup_pipe = Pipeline([\n",
    "    ('selector', ColumnSelector(['storage_support'])),\n",
    "    ('na_filler', NaFiller(0)),\n",
    "    ('hasher', OneHotEncoder(handle_unknown='ignore')) \n",
    "])"
   ]
  },
  {
   "cell_type": "code",
   "execution_count": 104,
   "metadata": {},
   "outputs": [
    {
     "data": {
      "text/plain": [
       "<1171886x136 sparse matrix of type '<class 'numpy.float64'>'\n",
       "\twith 1171886 stored elements in Compressed Sparse Row format>"
      ]
     },
     "execution_count": 104,
     "metadata": {},
     "output_type": "execute_result"
    }
   ],
   "source": [
    "storage_sup_pipe.fit_transform(train_df)"
   ]
  },
  {
   "cell_type": "markdown",
   "metadata": {},
   "source": [
    "## color_support"
   ]
  },
  {
   "cell_type": "code",
   "execution_count": 103,
   "metadata": {},
   "outputs": [],
   "source": [
    "col_sup_pipe = Pipeline([\n",
    "    ('selector', ColumnSelector(['color_support'])),\n",
    "    ('na_filler', NaFiller(0)),\n",
    "    ('hasher', OneHotEncoder(handle_unknown='ignore')) \n",
    "])"
   ]
  },
  {
   "cell_type": "code",
   "execution_count": null,
   "metadata": {},
   "outputs": [],
   "source": []
  },
  {
   "cell_type": "code",
   "execution_count": 105,
   "metadata": {},
   "outputs": [
    {
     "data": {
      "text/plain": [
       "<1171886x90 sparse matrix of type '<class 'numpy.float64'>'\n",
       "\twith 1171886 stored elements in Compressed Sparse Row format>"
      ]
     },
     "execution_count": 105,
     "metadata": {},
     "output_type": "execute_result"
    }
   ],
   "source": [
    "col_sup_pipe.fit_transform(train_df)"
   ]
  },
  {
   "cell_type": "markdown",
   "metadata": {},
   "source": [
    "## skus"
   ]
  },
  {
   "cell_type": "code",
   "execution_count": 109,
   "metadata": {},
   "outputs": [],
   "source": [
    "skus_pipe = Pipeline([\n",
    "    ('selector', ColumnSelector(['0'])),\n",
    "    ('na_filler', NaFiller(0)),\n",
    "    ('hasher', OneHotEncoder(handle_unknown='ignore')) \n",
    "])"
   ]
  },
  {
   "cell_type": "code",
   "execution_count": 121,
   "metadata": {},
   "outputs": [],
   "source": [
    "#skus_pipe.fit_transform(train_df)"
   ]
  },
  {
   "cell_type": "markdown",
   "metadata": {},
   "source": [
    "## Support_con_peso"
   ]
  },
  {
   "cell_type": "code",
   "execution_count": null,
   "metadata": {},
   "outputs": [],
   "source": [
    "# from https://www.kaggle.com/baghern/a-deep-dive-into-sklearn-pipelines:\n",
    "# To make a pipeline, just pass an array of tuples of the format (name, object). The first part is the name of the action, and the second is the actual object. \n",
    "\n",
    "sup_peso_pipe = Pipeline([\n",
    "    ('selector', ColumnSelector(['support_con_peso'])),\n",
    "    ('na_filler', NaFiller(\"\")),\n",
    "    ('hasher', OneHotEncoder(handle_unknown='ignore')) \n",
    "])"
   ]
  },
  {
   "cell_type": "code",
   "execution_count": null,
   "metadata": {},
   "outputs": [],
   "source": [
    "sup_peso_pipe.fit_transform(train_df)"
   ]
  },
  {
   "cell_type": "markdown",
   "metadata": {},
   "source": [
    "##  'support_ind'"
   ]
  },
  {
   "cell_type": "code",
   "execution_count": null,
   "metadata": {},
   "outputs": [],
   "source": [
    "# from https://www.kaggle.com/baghern/a-deep-dive-into-sklearn-pipelines:\n",
    "# To make a pipeline, just pass an array of tuples of the format (name, object). The first part is the name of the action, and the second is the actual object. \n",
    "\n",
    "sup_ind_pipe = Pipeline([\n",
    "    ('selector', ColumnSelector(['support_ind'])),\n",
    "    ('na_filler', NaFiller(\"\")),\n",
    "    ('hasher', OneHotEncoder(handle_unknown='ignore')) \n",
    "])"
   ]
  },
  {
   "cell_type": "code",
   "execution_count": null,
   "metadata": {},
   "outputs": [],
   "source": [
    "sup_ind_pipe.fit_transform(train_df)"
   ]
  },
  {
   "cell_type": "markdown",
   "metadata": {},
   "source": [
    "## url comprar"
   ]
  },
  {
   "cell_type": "code",
   "execution_count": null,
   "metadata": {},
   "outputs": [],
   "source": [
    "#from https://www.kaggle.com/baghern/a-deep-dive-into-sklearn-pipelines:\n",
    "# To make a pipeline, just pass an array of tuples of the format (name, object). The first part is the name of the action, and the second is the actual object. \n",
    "\n",
    "urlcomprar_pipe = Pipeline([\n",
    "    ('selector', ColumnSelector(['url_comprar'])),\n",
    "    ('na_filler', NaFiller(\"\")),\n",
    "    ('hasher', OneHotEncoder(handle_unknown='ignore')) \n",
    "])"
   ]
  },
  {
   "cell_type": "code",
   "execution_count": null,
   "metadata": {},
   "outputs": [],
   "source": []
  },
  {
   "cell_type": "markdown",
   "metadata": {},
   "source": [
    "## url vender"
   ]
  },
  {
   "cell_type": "code",
   "execution_count": null,
   "metadata": {},
   "outputs": [],
   "source": [
    "#from https://www.kaggle.com/baghern/a-deep-dive-into-sklearn-pipelines:\n",
    "# To make a pipeline, just pass an array of tuples of the format (name, object). The first part is the name of the action, and the second is the actual object. \n",
    "\n",
    "urlvender_pipe = Pipeline([\n",
    "    ('selector', ColumnSelector(['url_vender'])),\n",
    "    ('na_filler', NaFiller(\"\")),\n",
    "    ('hasher', OneHotEncoder(handle_unknown='ignore')) \n",
    "])"
   ]
  },
  {
   "cell_type": "markdown",
   "metadata": {},
   "source": [
    "## year"
   ]
  },
  {
   "cell_type": "code",
   "execution_count": null,
   "metadata": {},
   "outputs": [],
   "source": [
    "train_df.columns"
   ]
  },
  {
   "cell_type": "raw",
   "metadata": {},
   "source": []
  },
  {
   "cell_type": "code",
   "execution_count": 41,
   "metadata": {},
   "outputs": [],
   "source": [
    "#from https://www.kaggle.com/baghern/a-deep-dive-into-sklearn-pipelines:\n",
    "# To make a pipeline, just pass an array of tuples of the format (name, object). The first part is the name of the action, and the second is the actual object. \n",
    "\n",
    "year_pipe = Pipeline([\n",
    "    ('selector', ColumnSelector(['year'])),\n",
    "    ('na_filler', NaFiller(\"\")),\n",
    "    ('hasher', OneHotEncoder(handle_unknown='ignore')) \n",
    "])"
   ]
  },
  {
   "cell_type": "code",
   "execution_count": 42,
   "metadata": {},
   "outputs": [
    {
     "data": {
      "text/plain": [
       "<1171886x1 sparse matrix of type '<class 'numpy.float64'>'\n",
       "\twith 1171886 stored elements in Compressed Sparse Row format>"
      ]
     },
     "execution_count": 42,
     "metadata": {},
     "output_type": "execute_result"
    }
   ],
   "source": [
    "year_pipe.fit_transform(train_df)"
   ]
  },
  {
   "cell_type": "markdown",
   "metadata": {},
   "source": [
    "## month_sin"
   ]
  },
  {
   "cell_type": "code",
   "execution_count": 43,
   "metadata": {},
   "outputs": [],
   "source": [
    "#from https://www.kaggle.com/baghern/a-deep-dive-into-sklearn-pipelines:\n",
    "# To make a pipeline, just pass an array of tuples of the format (name, object). The first part is the name of the action, and the second is the actual object. \n",
    "\n",
    "monthsin_pipe = Pipeline([\n",
    "    ('selector', ColumnSelector(['month_sin'])),\n",
    "    ('na_filler', NaFiller(\"\")),\n",
    "    ('hasher', OneHotEncoder(handle_unknown='ignore')) \n",
    "])"
   ]
  },
  {
   "cell_type": "code",
   "execution_count": 44,
   "metadata": {},
   "outputs": [
    {
     "data": {
      "text/plain": [
       "<1171886x4 sparse matrix of type '<class 'numpy.float64'>'\n",
       "\twith 1171886 stored elements in Compressed Sparse Row format>"
      ]
     },
     "execution_count": 44,
     "metadata": {},
     "output_type": "execute_result"
    }
   ],
   "source": [
    "monthsin_pipe.fit_transform(train_df)"
   ]
  },
  {
   "cell_type": "markdown",
   "metadata": {},
   "source": [
    "## month_cos"
   ]
  },
  {
   "cell_type": "code",
   "execution_count": 45,
   "metadata": {},
   "outputs": [],
   "source": [
    "#from https://www.kaggle.com/baghern/a-deep-dive-into-sklearn-pipelines:\n",
    "# To make a pipeline, just pass an array of tuples of the format (name, object). The first part is the name of the action, and the second is the actual object. \n",
    "\n",
    "monthcos_pipe = Pipeline([\n",
    "    ('selector', ColumnSelector(['month_cos'])),\n",
    "    ('na_filler', NaFiller(\"\")),\n",
    "    ('hasher', OneHotEncoder(handle_unknown='ignore')) \n",
    "])"
   ]
  },
  {
   "cell_type": "code",
   "execution_count": 46,
   "metadata": {},
   "outputs": [
    {
     "data": {
      "text/plain": [
       "<1171886x5 sparse matrix of type '<class 'numpy.float64'>'\n",
       "\twith 1171886 stored elements in Compressed Sparse Row format>"
      ]
     },
     "execution_count": 46,
     "metadata": {},
     "output_type": "execute_result"
    }
   ],
   "source": [
    "monthcos_pipe.fit_transform(train_df)"
   ]
  },
  {
   "cell_type": "markdown",
   "metadata": {},
   "source": [
    "## day_sin"
   ]
  },
  {
   "cell_type": "code",
   "execution_count": 47,
   "metadata": {},
   "outputs": [],
   "source": [
    "#from https://www.kaggle.com/baghern/a-deep-dive-into-sklearn-pipelines:\n",
    "# To make a pipeline, just pass an array of tuples of the format (name, object). The first part is the name of the action, and the second is the actual object. \n",
    "\n",
    "daysin_pipe = Pipeline([\n",
    "    ('selector', ColumnSelector(['day_sin'])),\n",
    "    ('na_filler', NaFiller(\"\")),\n",
    "    ('hasher', OneHotEncoder(handle_unknown='ignore')) \n",
    "])"
   ]
  },
  {
   "cell_type": "code",
   "execution_count": 48,
   "metadata": {},
   "outputs": [
    {
     "data": {
      "text/plain": [
       "<1171886x31 sparse matrix of type '<class 'numpy.float64'>'\n",
       "\twith 1171886 stored elements in Compressed Sparse Row format>"
      ]
     },
     "execution_count": 48,
     "metadata": {},
     "output_type": "execute_result"
    }
   ],
   "source": [
    "daysin_pipe.fit_transform(train_df)"
   ]
  },
  {
   "cell_type": "markdown",
   "metadata": {},
   "source": [
    "## day_cos"
   ]
  },
  {
   "cell_type": "code",
   "execution_count": 49,
   "metadata": {},
   "outputs": [],
   "source": [
    "#from https://www.kaggle.com/baghern/a-deep-dive-into-sklearn-pipelines:\n",
    "# To make a pipeline, just pass an array of tuples of the format (name, object). The first part is the name of the action, and the second is the actual object. \n",
    "\n",
    "daycos_pipe = Pipeline([\n",
    "    ('selector', ColumnSelector(['day_cos'])),\n",
    "    ('na_filler', NaFiller(\"\")),\n",
    "    ('hasher', OneHotEncoder(handle_unknown='ignore')) \n",
    "])"
   ]
  },
  {
   "cell_type": "code",
   "execution_count": 50,
   "metadata": {},
   "outputs": [
    {
     "data": {
      "text/plain": [
       "<1171886x25 sparse matrix of type '<class 'numpy.float64'>'\n",
       "\twith 1171886 stored elements in Compressed Sparse Row format>"
      ]
     },
     "execution_count": 50,
     "metadata": {},
     "output_type": "execute_result"
    }
   ],
   "source": [
    "daycos_pipe.fit_transform(train_df)"
   ]
  },
  {
   "cell_type": "markdown",
   "metadata": {},
   "source": [
    "## weekday_sin"
   ]
  },
  {
   "cell_type": "code",
   "execution_count": 51,
   "metadata": {},
   "outputs": [],
   "source": [
    "#from https://www.kaggle.com/baghern/a-deep-dive-into-sklearn-pipelines:\n",
    "# To make a pipeline, just pass an array of tuples of the format (name, object). The first part is the name of the action, and the second is the actual object. \n",
    "\n",
    "weekdaysin_pipe = Pipeline([\n",
    "    ('selector', ColumnSelector(['weekday_sin'])),\n",
    "    ('na_filler', NaFiller(\"\")),\n",
    "    ('hasher', OneHotEncoder(handle_unknown='ignore')) \n",
    "])"
   ]
  },
  {
   "cell_type": "code",
   "execution_count": 52,
   "metadata": {},
   "outputs": [
    {
     "data": {
      "text/plain": [
       "<1171886x7 sparse matrix of type '<class 'numpy.float64'>'\n",
       "\twith 1171886 stored elements in Compressed Sparse Row format>"
      ]
     },
     "execution_count": 52,
     "metadata": {},
     "output_type": "execute_result"
    }
   ],
   "source": [
    "weekdaysin_pipe.fit_transform(train_df)"
   ]
  },
  {
   "cell_type": "markdown",
   "metadata": {},
   "source": [
    "## weekday_cos"
   ]
  },
  {
   "cell_type": "code",
   "execution_count": 53,
   "metadata": {},
   "outputs": [],
   "source": [
    "#from https://www.kaggle.com/baghern/a-deep-dive-into-sklearn-pipelines:\n",
    "# To make a pipeline, just pass an array of tuples of the format (name, object). The first part is the name of the action, and the second is the actual object. \n",
    "\n",
    "weekdaycos_pipe = Pipeline([\n",
    "    ('selector', ColumnSelector(['weekday_cos'])),\n",
    "    ('na_filler', NaFiller(\"\")),\n",
    "    ('hasher', OneHotEncoder(handle_unknown='ignore')) \n",
    "])"
   ]
  },
  {
   "cell_type": "code",
   "execution_count": 54,
   "metadata": {},
   "outputs": [
    {
     "data": {
      "text/plain": [
       "<1171886x6 sparse matrix of type '<class 'numpy.float64'>'\n",
       "\twith 1171886 stored elements in Compressed Sparse Row format>"
      ]
     },
     "execution_count": 54,
     "metadata": {},
     "output_type": "execute_result"
    }
   ],
   "source": [
    "weekdaycos_pipe.fit_transform(train_df)"
   ]
  },
  {
   "cell_type": "markdown",
   "metadata": {},
   "source": [
    "## hour_sin"
   ]
  },
  {
   "cell_type": "code",
   "execution_count": 55,
   "metadata": {},
   "outputs": [],
   "source": [
    "#from https://www.kaggle.com/baghern/a-deep-dive-into-sklearn-pipelines:\n",
    "# To make a pipeline, just pass an array of tuples of the format (name, object). The first part is the name of the action, and the second is the actual object. \n",
    "\n",
    "hoursin_pipe = Pipeline([\n",
    "    ('selector', ColumnSelector(['hour_sin'])),\n",
    "    ('na_filler', NaFiller(\"\")),\n",
    "    ('hasher', OneHotEncoder(handle_unknown='ignore')) \n",
    "])"
   ]
  },
  {
   "cell_type": "code",
   "execution_count": 56,
   "metadata": {},
   "outputs": [
    {
     "name": "stdout",
     "output_type": "stream",
     "text": [
      "The scikit-learn version is 0.20.0.\n"
     ]
    }
   ],
   "source": [
    "print('The scikit-learn version is {}.'.format(sklearn.__version__))\n",
    "\n"
   ]
  },
  {
   "cell_type": "code",
   "execution_count": 57,
   "metadata": {},
   "outputs": [
    {
     "data": {
      "text/plain": [
       "<1171886x21 sparse matrix of type '<class 'numpy.float64'>'\n",
       "\twith 1171886 stored elements in Compressed Sparse Row format>"
      ]
     },
     "execution_count": 57,
     "metadata": {},
     "output_type": "execute_result"
    }
   ],
   "source": [
    "hoursin_pipe.fit_transform(train_df)"
   ]
  },
  {
   "cell_type": "markdown",
   "metadata": {},
   "source": [
    "## hour_cos"
   ]
  },
  {
   "cell_type": "code",
   "execution_count": 58,
   "metadata": {},
   "outputs": [],
   "source": [
    "#from https://www.kaggle.com/baghern/a-deep-dive-into-sklearn-pipelines:\n",
    "# To make a pipeline, just pass an array of tuples of the format (name, object). The first part is the name of the action, and the second is the actual object. \n",
    "\n",
    "hourcos_pipe = Pipeline([\n",
    "    ('selector', ColumnSelector(['hour_cos'])),\n",
    "    ('na_filler', NaFiller(\"\")),\n",
    "    ('hasher', OneHotEncoder(handle_unknown='ignore')) \n",
    "])"
   ]
  },
  {
   "cell_type": "code",
   "execution_count": 59,
   "metadata": {},
   "outputs": [
    {
     "data": {
      "text/plain": [
       "<1171886x22 sparse matrix of type '<class 'numpy.float64'>'\n",
       "\twith 1171886 stored elements in Compressed Sparse Row format>"
      ]
     },
     "execution_count": 59,
     "metadata": {},
     "output_type": "execute_result"
    }
   ],
   "source": [
    "hourcos_pipe.fit_transform(train_df)"
   ]
  },
  {
   "cell_type": "markdown",
   "metadata": {},
   "source": [
    "## samsung"
   ]
  },
  {
   "cell_type": "code",
   "execution_count": null,
   "metadata": {},
   "outputs": [],
   "source": [
    "#from https://www.kaggle.com/baghern/a-deep-dive-into-sklearn-pipelines:\n",
    "# To make a pipeline, just pass an array of tuples of the format (name, object). The first part is the name of the action, and the second is the actual object. \n",
    "\n",
    "samsung_pipe = Pipeline([\n",
    "    ('selector', ColumnSelector(['samsung'])),\n",
    "    ('na_filler', NaFiller(\"\")),\n",
    "    ('hasher', OneHotEncoder(handle_unknown='ignore')) \n",
    "])"
   ]
  },
  {
   "cell_type": "code",
   "execution_count": null,
   "metadata": {},
   "outputs": [],
   "source": []
  },
  {
   "cell_type": "markdown",
   "metadata": {},
   "source": [
    "\n",
    "## motorola"
   ]
  },
  {
   "cell_type": "code",
   "execution_count": null,
   "metadata": {},
   "outputs": [],
   "source": [
    "#from https://www.kaggle.com/baghern/a-deep-dive-into-sklearn-pipelines:\n",
    "# To make a pipeline, just pass an array of tuples of the format (name, object). The first part is the name of the action, and the second is the actual object. \n",
    "\n",
    "motorola_pipe = Pipeline([\n",
    "    ('selector', ColumnSelector(['year'])),\n",
    "    ('na_filler', NaFiller(\"\")),\n",
    "    ('hasher', OneHotEncoder(handle_unknown='ignore')) \n",
    "])"
   ]
  },
  {
   "cell_type": "code",
   "execution_count": null,
   "metadata": {},
   "outputs": [],
   "source": [
    "#motorola_pipe.fit_transform(train_df)"
   ]
  },
  {
   "cell_type": "markdown",
   "metadata": {},
   "source": [
    "## iphone"
   ]
  },
  {
   "cell_type": "code",
   "execution_count": null,
   "metadata": {},
   "outputs": [],
   "source": [
    "#from https://www.kaggle.com/baghern/a-deep-dive-into-sklearn-pipelines:\n",
    "# To make a pipeline, just pass an array of tuples of the format (name, object). The first part is the name of the action, and the second is the actual object. \n",
    "\n",
    "iphone_pipe = Pipeline([\n",
    "    ('selector', ColumnSelector(['iphone'])),\n",
    "    ('na_filler', NaFiller(\"\")),\n",
    "    ('hasher', OneHotEncoder(handle_unknown='ignore')) \n",
    "])"
   ]
  },
  {
   "cell_type": "code",
   "execution_count": null,
   "metadata": {},
   "outputs": [],
   "source": [
    "#iphone_pipe.fit_transform(train_df)"
   ]
  },
  {
   "cell_type": "code",
   "execution_count": null,
   "metadata": {},
   "outputs": [],
   "source": []
  },
  {
   "cell_type": "code",
   "execution_count": null,
   "metadata": {},
   "outputs": [],
   "source": []
  },
  {
   "cell_type": "markdown",
   "metadata": {},
   "source": [
    "# Feature pipeline creation and some pre processing"
   ]
  },
  {
   "cell_type": "markdown",
   "metadata": {},
   "source": [
    "## Browser version"
   ]
  },
  {
   "cell_type": "code",
   "execution_count": null,
   "metadata": {},
   "outputs": [],
   "source": [
    "num_of_unique_browsers = len(X_train.browser_version.unique())"
   ]
  },
  {
   "cell_type": "code",
   "execution_count": 60,
   "metadata": {},
   "outputs": [],
   "source": [
    "# from https://www.kaggle.com/baghern/a-deep-dive-into-sklearn-pipelines:\n",
    "# To make a pipeline, just pass an array of tuples of the format (name, object). The first part is the name of the action, and the second is the actual object. \n",
    "\n",
    "browser_pipe = Pipeline([\n",
    "    ('selector', ColumnSelector(['browser_version'])),\n",
    "    ('na_filler', NaFiller(\"\")),\n",
    "    ('hasher', OneHotEncoder(handle_unknown='ignore')) \n",
    "])"
   ]
  },
  {
   "cell_type": "code",
   "execution_count": 61,
   "metadata": {},
   "outputs": [],
   "source": [
    "#browser_pipe.fit_transform(train_df)"
   ]
  },
  {
   "cell_type": "markdown",
   "metadata": {},
   "source": [
    "This cell has been replaced with the pipeline above\n",
    "\n",
    "```\n",
    "# http://fastml.com/converting-categorical-data-into-numbers-with-pandas-and-scikit-learn/\n",
    "# https://pandas.pydata.org/pandas-docs/stable/generated/pandas.DataFrame.to_dict.html\n",
    "v = FeatureHasher(n_features=num_of_unique_browsers//2, input_type='string')\n",
    "# browser_version_dict = X_train[['browser_version']]\n",
    "X_train.browser_version.fillna(\"\", inplace=True)\n",
    "x = v.fit_transform(X_train[['browser_version']])\n",
    "# x = v.fit_transform(browser_version_dict)\n",
    "# Attach de sparse vector to df\n",
    "```"
   ]
  },
  {
   "cell_type": "markdown",
   "metadata": {},
   "source": [
    "## operating_system_version"
   ]
  },
  {
   "cell_type": "code",
   "execution_count": null,
   "metadata": {},
   "outputs": [],
   "source": [
    "X_train.operating_system_version.unique()"
   ]
  },
  {
   "cell_type": "code",
   "execution_count": null,
   "metadata": {},
   "outputs": [],
   "source": [
    "os_num_of_unique = len(X_train.operating_system_version.unique())"
   ]
  },
  {
   "cell_type": "code",
   "execution_count": null,
   "metadata": {},
   "outputs": [],
   "source": [
    "os_ver_pipe = Pipeline([\n",
    "    ('selector', ColumnSelector(['operating_system_version'])),\n",
    "    ('na_filler', NaFiller(\"\")),\n",
    "    ('hasher', OneHotEncoder(handle_unknown='ignore')) \n",
    "])"
   ]
  },
  {
   "cell_type": "code",
   "execution_count": null,
   "metadata": {},
   "outputs": [],
   "source": [
    "os_ver_pipe.fit_transform(train_df)"
   ]
  },
  {
   "cell_type": "markdown",
   "metadata": {},
   "source": [
    "## screen_resolution"
   ]
  },
  {
   "cell_type": "code",
   "execution_count": 62,
   "metadata": {},
   "outputs": [
    {
     "data": {
      "text/plain": [
       "Index(['event', 'person', 'sku', 'condition', 'search_engine',\n",
       "       'new_vs_returning', 'region', 'country', 'device_type',\n",
       "       'screen_resolution', 'mes', 'dia', 'q1', 'q2', 'q3', 'q4', 'q5', 'q6',\n",
       "       'q7', 'q8', 'q9', 'q10', 'support_p_todos_sus_ev', 'support_con_peso',\n",
       "       'year', 'month_sin', 'month_cos', 'day_sin', 'day_cos', 'weekday_sin',\n",
       "       'weekday_cos', 'hour_sin', 'hour_cos', 'samsung', 'motorola', 'iphone',\n",
       "       'asus', 'lg', 'sony', 'url_comprar', 'url_vender', 'storage_support',\n",
       "       'color_support', '0'],\n",
       "      dtype='object')"
      ]
     },
     "execution_count": 62,
     "metadata": {},
     "output_type": "execute_result"
    }
   ],
   "source": [
    "events_df.columns"
   ]
  },
  {
   "cell_type": "code",
   "execution_count": null,
   "metadata": {},
   "outputs": [],
   "source": [
    "def get_screen_width(x):\n",
    "    if x != \"\":\n",
    "        return x.split(\"x\")[0]\n",
    "    else:\n",
    "        return 0\n",
    "    \n",
    "def get_screen_height(x):\n",
    "    if x != \"\":\n",
    "        return x.split(\"x\")[1]\n",
    "    else:\n",
    "        return 0\n",
    "\n",
    "def process_screen_res(df):\n",
    "    df['screen_resolution'].fillna(\"\", inplace=True)\n",
    "    df['screen_width'] = df['screen_resolution'].apply(lambda x: get_screen_width(x))\n",
    "    df['screen_height'] = df['screen_resolution'].apply(lambda x: get_screen_height(x))\n",
    "    df.drop('screen_resolution', axis=1, inplace=True)"
   ]
  },
  {
   "cell_type": "code",
   "execution_count": null,
   "metadata": {},
   "outputs": [],
   "source": [
    "process_screen_res(train_df)\n",
    "#process_screen_res(X_test)"
   ]
  },
  {
   "cell_type": "code",
   "execution_count": null,
   "metadata": {},
   "outputs": [],
   "source": [
    "#from https://www.kaggle.com/baghern/a-deep-dive-into-sklearn-pipelines:\n",
    "# To make a pipeline, just pass an array of tuples of the format (name, object). The first part is the name of the action, and the second is the actual object. \n",
    "\n",
    "screenreswidth_pipe = Pipeline([\n",
    "    ('selector', ColumnSelector(['screen_width'])),\n",
    "    ('na_filler', NaFiller(\"\")),\n",
    "    ('hasher', OneHotEncoder(handle_unknown='ignore')) \n",
    "])"
   ]
  },
  {
   "cell_type": "code",
   "execution_count": null,
   "metadata": {},
   "outputs": [],
   "source": [
    "#creenreswidth_pipe.fit_transform(train_df)"
   ]
  },
  {
   "cell_type": "code",
   "execution_count": null,
   "metadata": {},
   "outputs": [],
   "source": [
    "#from https://www.kaggle.com/baghern/a-deep-dive-into-sklearn-pipelines:\n",
    "# To make a pipeline, just pass an array of tuples of the format (name, object). The first part is the name of the action, and the second is the actual object. \n",
    "\n",
    "screenresheight_pipe = Pipeline([\n",
    "    ('selector', ColumnSelector(['screen_height'])),\n",
    "    ('na_filler', NaFiller(\"\")),\n",
    "    ('hasher', OneHotEncoder(handle_unknown='ignore')) \n",
    "])"
   ]
  },
  {
   "cell_type": "markdown",
   "metadata": {},
   "source": [
    "## device_type"
   ]
  },
  {
   "cell_type": "code",
   "execution_count": null,
   "metadata": {},
   "outputs": [],
   "source": [
    "X_train.device_type.unique()"
   ]
  },
  {
   "cell_type": "code",
   "execution_count": null,
   "metadata": {},
   "outputs": [],
   "source": [
    "# X_train.device_type.fillna(\"\", inplace=True)"
   ]
  },
  {
   "cell_type": "code",
   "execution_count": 63,
   "metadata": {},
   "outputs": [],
   "source": [
    "device_type_pipe = Pipeline([\n",
    "    ('selector', ColumnSelector(['device_type'])),\n",
    "    ('na_filler', NaFiller(\"\")),\n",
    "    ('one_hot', OneHotEncoder(handle_unknown='ignore')) \n",
    "])"
   ]
  },
  {
   "cell_type": "code",
   "execution_count": 64,
   "metadata": {},
   "outputs": [
    {
     "data": {
      "text/plain": [
       "<1171886x5 sparse matrix of type '<class 'numpy.float64'>'\n",
       "\twith 1171886 stored elements in Compressed Sparse Row format>"
      ]
     },
     "execution_count": 64,
     "metadata": {},
     "output_type": "execute_result"
    }
   ],
   "source": [
    "device_type_pipe.fit_transform(train_df)"
   ]
  },
  {
   "cell_type": "markdown",
   "metadata": {},
   "source": [
    "## country"
   ]
  },
  {
   "cell_type": "code",
   "execution_count": null,
   "metadata": {},
   "outputs": [],
   "source": [
    "print(X_train.country.unique())\n",
    "print(\"\\n\\tlen: \" + str(len(X_train.country.unique())))"
   ]
  },
  {
   "cell_type": "code",
   "execution_count": null,
   "metadata": {},
   "outputs": [],
   "source": [
    "# X_train.country.fillna(\"\", inplace=True)"
   ]
  },
  {
   "cell_type": "code",
   "execution_count": 65,
   "metadata": {},
   "outputs": [],
   "source": [
    "country_pipe = Pipeline([\n",
    "    ('selector', ColumnSelector(['country'])),\n",
    "    ('na_filler', NaFiller(\"\")),\n",
    "    ('one_hot', OneHotEncoder(handle_unknown='ignore')) \n",
    "])"
   ]
  },
  {
   "cell_type": "markdown",
   "metadata": {},
   "source": [
    "## region"
   ]
  },
  {
   "cell_type": "code",
   "execution_count": null,
   "metadata": {},
   "outputs": [],
   "source": [
    "print(X_train.region.unique())\n",
    "print(\"\\n\\tlen: \" + str(len(X_train.region.unique())))"
   ]
  },
  {
   "cell_type": "code",
   "execution_count": 66,
   "metadata": {},
   "outputs": [],
   "source": [
    "region_pipe = Pipeline([\n",
    "    ('selector', ColumnSelector(['region'])),\n",
    "    ('na_filler', NaFiller(\"\")),\n",
    "    ('one_hot', OneHotEncoder(handle_unknown='ignore'))\n",
    "])"
   ]
  },
  {
   "cell_type": "code",
   "execution_count": null,
   "metadata": {},
   "outputs": [],
   "source": [
    "# region_pipe.fit_transform(X_train)"
   ]
  },
  {
   "cell_type": "markdown",
   "metadata": {},
   "source": [
    "## city"
   ]
  },
  {
   "cell_type": "code",
   "execution_count": null,
   "metadata": {},
   "outputs": [],
   "source": [
    "print(X_train.city.unique())\n",
    "print(\"\\n\\tlen: \" + str(len(X_train.city.unique())))"
   ]
  },
  {
   "cell_type": "code",
   "execution_count": 67,
   "metadata": {},
   "outputs": [],
   "source": [
    "city_pipe = Pipeline([\n",
    "    ('selector', ColumnSelector(['city'])),\n",
    "    ('na_filler', NaFiller(\"\")),\n",
    "    ('one_hot', OneHotEncoder(handle_unknown='ignore'))\n",
    "])"
   ]
  },
  {
   "cell_type": "code",
   "execution_count": null,
   "metadata": {},
   "outputs": [],
   "source": [
    "# city_pipe.fit_transform(X_train)"
   ]
  },
  {
   "cell_type": "markdown",
   "metadata": {},
   "source": [
    "## new_vs_returning"
   ]
  },
  {
   "cell_type": "code",
   "execution_count": null,
   "metadata": {},
   "outputs": [],
   "source": [
    "print(X_train.new_vs_returning.unique())\n",
    "print(\"\\n\\tlen: \" + str(len(X_train.new_vs_returning.unique())))"
   ]
  },
  {
   "cell_type": "code",
   "execution_count": 68,
   "metadata": {},
   "outputs": [],
   "source": [
    "new_vs_returning_pipe = Pipeline([\n",
    "    ('selector', ColumnSelector(['new_vs_returning'])),\n",
    "    ('na_filler', NaFiller(\"\")),\n",
    "    ('one_hot', OneHotEncoder(handle_unknown='ignore'))\n",
    "])"
   ]
  },
  {
   "cell_type": "code",
   "execution_count": null,
   "metadata": {},
   "outputs": [],
   "source": [
    "# new_vs_returning_pipe.fit_transform(X_train)"
   ]
  },
  {
   "cell_type": "markdown",
   "metadata": {},
   "source": [
    "## channel"
   ]
  },
  {
   "cell_type": "code",
   "execution_count": null,
   "metadata": {},
   "outputs": [],
   "source": [
    "print(X_train.channel.unique())\n",
    "print(\"\\n\\tlen: \" + str(len(X_train.channel.unique())))"
   ]
  },
  {
   "cell_type": "code",
   "execution_count": 69,
   "metadata": {},
   "outputs": [],
   "source": [
    "channel_pipe = Pipeline([\n",
    "    ('selector', ColumnSelector(['channel'])),\n",
    "    ('na_filler', NaFiller(\"\")),\n",
    "    ('one_hot', OneHotEncoder(handle_unknown='ignore'))\n",
    "])"
   ]
  },
  {
   "cell_type": "code",
   "execution_count": null,
   "metadata": {},
   "outputs": [],
   "source": [
    "# channel_pipe.fit_transform(X_train)"
   ]
  },
  {
   "cell_type": "markdown",
   "metadata": {},
   "source": [
    "## search_engine"
   ]
  },
  {
   "cell_type": "code",
   "execution_count": null,
   "metadata": {},
   "outputs": [],
   "source": [
    "print(X_train.search_engine.unique())\n",
    "print(\"\\n\\tlen: \" + str(len(X_train.search_engine.unique())))"
   ]
  },
  {
   "cell_type": "code",
   "execution_count": 70,
   "metadata": {},
   "outputs": [],
   "source": [
    "search_engine_pipe = Pipeline([\n",
    "    ('selector', ColumnSelector(['search_engine'])),\n",
    "    ('na_filler', NaFiller(\"\")),\n",
    "    ('one_hot', OneHotEncoder(handle_unknown='ignore'))\n",
    "])"
   ]
  },
  {
   "cell_type": "code",
   "execution_count": null,
   "metadata": {},
   "outputs": [],
   "source": [
    "# search_engine_pipe.fit_transform(X_train)"
   ]
  },
  {
   "cell_type": "markdown",
   "metadata": {},
   "source": [
    "## campaign_source"
   ]
  },
  {
   "cell_type": "code",
   "execution_count": null,
   "metadata": {},
   "outputs": [],
   "source": [
    "print(X_train.campaign_source.unique())\n",
    "print(\"\\n\\tlen: \" + str(len(X_train.campaign_source.unique())))"
   ]
  },
  {
   "cell_type": "code",
   "execution_count": 71,
   "metadata": {},
   "outputs": [],
   "source": [
    "campaign_source_pipe = Pipeline([\n",
    "    ('selector', ColumnSelector(['campaign_source'])),\n",
    "    ('na_filler', NaFiller(\"\")),\n",
    "    ('one_hot', OneHotEncoder(handle_unknown='ignore'))\n",
    "])"
   ]
  },
  {
   "cell_type": "code",
   "execution_count": null,
   "metadata": {},
   "outputs": [],
   "source": [
    "# campaign_source_pipe.fit_transform(X_train)"
   ]
  },
  {
   "cell_type": "markdown",
   "metadata": {},
   "source": [
    "## staticpage"
   ]
  },
  {
   "cell_type": "code",
   "execution_count": null,
   "metadata": {},
   "outputs": [],
   "source": [
    "print(X_train.staticpage.unique())\n",
    "print(\"\\n\\tlen: \" + str(len(X_train.staticpage.unique())))"
   ]
  },
  {
   "cell_type": "code",
   "execution_count": 72,
   "metadata": {},
   "outputs": [],
   "source": [
    "staticpage_pipe = Pipeline([\n",
    "    ('selector', ColumnSelector(['staticpage'])),\n",
    "    ('na_filler', NaFiller(\"\")),\n",
    "    ('one_hot', OneHotEncoder(handle_unknown='ignore'))\n",
    "])"
   ]
  },
  {
   "cell_type": "code",
   "execution_count": null,
   "metadata": {},
   "outputs": [],
   "source": [
    "# staticpage_pipe.fit_transform(X_train)"
   ]
  },
  {
   "cell_type": "markdown",
   "metadata": {},
   "source": [
    "## search_term"
   ]
  },
  {
   "cell_type": "code",
   "execution_count": null,
   "metadata": {},
   "outputs": [],
   "source": [
    "print(X_train.search_term.unique())\n",
    "print(\"\\n\\tlen: \" + str(len(X_train.search_term.unique())))"
   ]
  },
  {
   "cell_type": "code",
   "execution_count": 73,
   "metadata": {},
   "outputs": [],
   "source": [
    "search_term_pipe = Pipeline([\n",
    "    ('selector', ColumnSelector(['search_term'])),\n",
    "    ('na_filler', NaFiller(\"\")),\n",
    "    ('one_hot', OneHotEncoder(handle_unknown='ignore'))\n",
    "])"
   ]
  },
  {
   "cell_type": "code",
   "execution_count": null,
   "metadata": {},
   "outputs": [],
   "source": [
    "# search_term_pipe.fit_transform(X_train)"
   ]
  },
  {
   "cell_type": "markdown",
   "metadata": {},
   "source": [
    "## skus"
   ]
  },
  {
   "cell_type": "code",
   "execution_count": null,
   "metadata": {},
   "outputs": [],
   "source": [
    "print(X_train.skus.unique())\n",
    "print(\"\\n\\tlen: \" + str(len(X_train.skus.unique())))"
   ]
  },
  {
   "cell_type": "code",
   "execution_count": 74,
   "metadata": {},
   "outputs": [],
   "source": [
    "skus_pipe = Pipeline([\n",
    "    ('selector', ColumnSelector(['skus'])),\n",
    "    ('na_filler', NaFiller(\"\")),\n",
    "    ('one_hot', OneHotEncoder(handle_unknown='ignore'))\n",
    "])"
   ]
  },
  {
   "cell_type": "code",
   "execution_count": null,
   "metadata": {},
   "outputs": [],
   "source": [
    "# skus_pipe.fit_transform(X_train)"
   ]
  },
  {
   "cell_type": "markdown",
   "metadata": {},
   "source": [
    "## color"
   ]
  },
  {
   "cell_type": "code",
   "execution_count": null,
   "metadata": {},
   "outputs": [],
   "source": [
    "print(X_train.color.unique())\n",
    "print(\"\\n\\tlen: \" + str(len(X_train.color.unique())))"
   ]
  },
  {
   "cell_type": "code",
   "execution_count": 75,
   "metadata": {},
   "outputs": [],
   "source": [
    "color_pipe = Pipeline([\n",
    "    ('selector', ColumnSelector(['color'])),\n",
    "    ('na_filler', NaFiller(\"\")),\n",
    "    ('one_hot', OneHotEncoder(handle_unknown='ignore'))\n",
    "])"
   ]
  },
  {
   "cell_type": "code",
   "execution_count": null,
   "metadata": {},
   "outputs": [],
   "source": [
    "# color_pipe.fit_transform(X_train)"
   ]
  },
  {
   "cell_type": "markdown",
   "metadata": {},
   "source": [
    "## storage"
   ]
  },
  {
   "cell_type": "code",
   "execution_count": null,
   "metadata": {},
   "outputs": [],
   "source": [
    "def process_storage_string(x):\n",
    "    if pd.isna(x):\n",
    "        return 0\n",
    "    s = x.split(\"GB\")\n",
    "    if len(s) == 2:\n",
    "        # case data in GB\n",
    "        return int(s[0])\n",
    "    else:\n",
    "        # case data in MB\n",
    "        return int(x.split(\"MB\")[0])/1024\n",
    "\n",
    "def storage_process(df):\n",
    "    df.storage = df.storage.apply(lambda x: process_storage_string(x))"
   ]
  },
  {
   "cell_type": "code",
   "execution_count": null,
   "metadata": {},
   "outputs": [],
   "source": [
    "storage_process(train_df)\n",
    "#storage_process(X_test)"
   ]
  },
  {
   "cell_type": "code",
   "execution_count": null,
   "metadata": {},
   "outputs": [],
   "source": [
    "storage_pipe = Pipeline([\n",
    "    ('selector', ColumnSelector(['storage'])),\n",
    "    ('na_filler', NaFiller(\"\")),\n",
    "    ('one_hot', OneHotEncoder(handle_unknown='ignore'))\n",
    "])\n"
   ]
  },
  {
   "cell_type": "markdown",
   "metadata": {},
   "source": [
    "## condition"
   ]
  },
  {
   "cell_type": "code",
   "execution_count": null,
   "metadata": {},
   "outputs": [],
   "source": [
    "print(X_train.condition.unique())\n",
    "print(\"\\n\\tlen: \" + str(len(X_train.condition.unique())))"
   ]
  },
  {
   "cell_type": "code",
   "execution_count": 83,
   "metadata": {},
   "outputs": [],
   "source": [
    "condition_pipe = Pipeline([\n",
    "    ('selector', ColumnSelector(['condition'])),\n",
    "    ('na_filler', NaFiller(\"\")),\n",
    "    ('one_hot', OneHotEncoder(handle_unknown='ignore'))\n",
    "])"
   ]
  },
  {
   "cell_type": "code",
   "execution_count": null,
   "metadata": {},
   "outputs": [],
   "source": [
    "# condition_pipe.fit_transform(X_train)"
   ]
  },
  {
   "cell_type": "markdown",
   "metadata": {},
   "source": [
    "## model"
   ]
  },
  {
   "cell_type": "code",
   "execution_count": null,
   "metadata": {},
   "outputs": [],
   "source": [
    "print(X_train.model.unique())\n",
    "print(\"\\n\\tlen: \" + str(len(X_train.model.unique())))"
   ]
  },
  {
   "cell_type": "code",
   "execution_count": null,
   "metadata": {},
   "outputs": [],
   "source": [
    "model_pipe = Pipeline([\n",
    "    ('selector', ColumnSelector(['model'])),\n",
    "    ('na_filler', NaFiller(\"\")),\n",
    "    ('one_hot', OneHotEncoder(handle_unknown='ignore'))\n",
    "])"
   ]
  },
  {
   "cell_type": "code",
   "execution_count": null,
   "metadata": {},
   "outputs": [],
   "source": [
    "# model_pipe.fit_transform(X_train)"
   ]
  },
  {
   "cell_type": "markdown",
   "metadata": {},
   "source": [
    "## sku"
   ]
  },
  {
   "cell_type": "code",
   "execution_count": null,
   "metadata": {},
   "outputs": [],
   "source": [
    "print(X_train.sku.unique())\n",
    "print(\"\\n\\tlen: \" + str(len(X_train.sku.unique())))"
   ]
  },
  {
   "cell_type": "code",
   "execution_count": 76,
   "metadata": {},
   "outputs": [],
   "source": [
    "sku_pipe = Pipeline([\n",
    "    ('selector', ColumnSelector(['sku'])),\n",
    "    ('na_filler', NaFiller(0)),\n",
    "    ('one_hot', OneHotEncoder(handle_unknown='ignore'))\n",
    "])"
   ]
  },
  {
   "cell_type": "code",
   "execution_count": null,
   "metadata": {},
   "outputs": [],
   "source": [
    "# sku_pipe.fit_transform(X_train)"
   ]
  },
  {
   "cell_type": "markdown",
   "metadata": {},
   "source": [
    "## url"
   ]
  },
  {
   "cell_type": "code",
   "execution_count": null,
   "metadata": {},
   "outputs": [],
   "source": [
    "print(X_train.url.unique())\n",
    "print(\"\\n\\tlen: \" + str(len(X_train.url.unique())))"
   ]
  },
  {
   "cell_type": "code",
   "execution_count": null,
   "metadata": {},
   "outputs": [],
   "source": [
    "url_pipe = Pipeline([\n",
    "    ('selector', ColumnSelector(['url'])),\n",
    "    ('na_filler', NaFiller(\"\")),\n",
    "    ('one_hot', OneHotEncoder(handle_unknown='ignore'))\n",
    "])"
   ]
  },
  {
   "cell_type": "code",
   "execution_count": null,
   "metadata": {},
   "outputs": [],
   "source": [
    "# url_pipe.fit_transform(X_train)"
   ]
  },
  {
   "cell_type": "markdown",
   "metadata": {},
   "source": [
    "## person"
   ]
  },
  {
   "cell_type": "code",
   "execution_count": null,
   "metadata": {},
   "outputs": [],
   "source": [
    "print(X_train.person.unique())\n",
    "print(\"\\n\\tlen: \" + str(len(X_train.person.unique())))"
   ]
  },
  {
   "cell_type": "code",
   "execution_count": 77,
   "metadata": {},
   "outputs": [],
   "source": [
    "person_pipe = Pipeline([\n",
    "    ('selector', ColumnSelector(['person'])),\n",
    "    ('na_filler', NaFiller(\"\")),\n",
    "    ('one_hot', OneHotEncoder(handle_unknown='ignore'))\n",
    "])"
   ]
  },
  {
   "cell_type": "code",
   "execution_count": null,
   "metadata": {},
   "outputs": [],
   "source": [
    "# person_pipe.fit_transform(X_train)"
   ]
  },
  {
   "cell_type": "markdown",
   "metadata": {},
   "source": [
    "## event"
   ]
  },
  {
   "cell_type": "code",
   "execution_count": null,
   "metadata": {},
   "outputs": [],
   "source": [
    "print(X_train.event.unique())\n",
    "print(\"\\n\\tlen: \" + str(len(X_train.event.unique())))"
   ]
  },
  {
   "cell_type": "code",
   "execution_count": 78,
   "metadata": {},
   "outputs": [],
   "source": [
    "event_pipe = Pipeline([\n",
    "    ('selector', ColumnSelector(['event'])),\n",
    "    ('na_filler', NaFiller(\"\")),\n",
    "    ('one_hot', OneHotEncoder(handle_unknown='ignore'))\n",
    "])"
   ]
  },
  {
   "cell_type": "code",
   "execution_count": null,
   "metadata": {},
   "outputs": [],
   "source": [
    "# event_pipe.fit_transform(X_train)"
   ]
  },
  {
   "cell_type": "code",
   "execution_count": null,
   "metadata": {},
   "outputs": [],
   "source": [
    "train_df.columns"
   ]
  },
  {
   "cell_type": "markdown",
   "metadata": {},
   "source": [
    "# Event_count "
   ]
  },
  {
   "cell_type": "code",
   "execution_count": null,
   "metadata": {},
   "outputs": [],
   "source": [
    "event_count_pipe = Pipeline([\n",
    "    ('selector', ColumnSelector(['event_count'])),\n",
    "    ('na_filler', NaFiller(\"\")),\n",
    "    ('one_hot', OneHotEncoder(handle_unknown='ignore'))\n",
    "])"
   ]
  },
  {
   "cell_type": "code",
   "execution_count": null,
   "metadata": {},
   "outputs": [],
   "source": [
    "event_count_pipe.fit_transform(train_df)"
   ]
  },
  {
   "cell_type": "markdown",
   "metadata": {},
   "source": [
    "# Event_count_q1"
   ]
  },
  {
   "cell_type": "code",
   "execution_count": null,
   "metadata": {},
   "outputs": [],
   "source": [
    "event_count_q1_pipe = Pipeline([\n",
    "    ('selector', ColumnSelector(['event_count_q1'])),\n",
    "    ('na_filler', NaFiller(\"\")),\n",
    "    ('one_hot', OneHotEncoder(handle_unknown='ignore'))\n",
    "])"
   ]
  },
  {
   "cell_type": "code",
   "execution_count": null,
   "metadata": {},
   "outputs": [],
   "source": [
    "#event_count_q1_pipe.fit_transform(train_df)"
   ]
  },
  {
   "cell_type": "markdown",
   "metadata": {},
   "source": [
    "# Event_count_q2"
   ]
  },
  {
   "cell_type": "code",
   "execution_count": null,
   "metadata": {},
   "outputs": [],
   "source": [
    "event_count_q2_pipe = Pipeline([\n",
    "    ('selector', ColumnSelector(['event_count_q2'])),\n",
    "    ('na_filler', NaFiller(\"\")),\n",
    "    ('one_hot', OneHotEncoder(handle_unknown='ignore'))\n",
    "])"
   ]
  },
  {
   "cell_type": "markdown",
   "metadata": {},
   "source": [
    "# Event_count_q3"
   ]
  },
  {
   "cell_type": "code",
   "execution_count": null,
   "metadata": {},
   "outputs": [],
   "source": [
    "event_count_q3_pipe = Pipeline([\n",
    "    ('selector', ColumnSelector(['event_count_q3'])),\n",
    "    ('na_filler', NaFiller(\"\")),\n",
    "    ('one_hot', OneHotEncoder(handle_unknown='ignore'))\n",
    "])"
   ]
  },
  {
   "cell_type": "markdown",
   "metadata": {},
   "source": [
    "# Event_count_q4"
   ]
  },
  {
   "cell_type": "code",
   "execution_count": null,
   "metadata": {},
   "outputs": [],
   "source": [
    "event_count_q4_pipe = Pipeline([\n",
    "    ('selector', ColumnSelector(['event_count_q4'])),\n",
    "    ('na_filler', NaFiller(\"\")),\n",
    "    ('one_hot', OneHotEncoder(handle_unknown='ignore'))\n",
    "])"
   ]
  },
  {
   "cell_type": "markdown",
   "metadata": {},
   "source": [
    "# Event_count_q5"
   ]
  },
  {
   "cell_type": "code",
   "execution_count": null,
   "metadata": {},
   "outputs": [],
   "source": [
    "event_count_q5_pipe = Pipeline([\n",
    "    ('selector', ColumnSelector(['event_count_q5'])),\n",
    "    ('na_filler', NaFiller(\"\")),\n",
    "    ('one_hot', OneHotEncoder(handle_unknown='ignore'))\n",
    "])"
   ]
  },
  {
   "cell_type": "markdown",
   "metadata": {},
   "source": [
    "# Event_count_q6"
   ]
  },
  {
   "cell_type": "code",
   "execution_count": null,
   "metadata": {},
   "outputs": [],
   "source": [
    "event_count_q6_pipe = Pipeline([\n",
    "    ('selector', ColumnSelector(['event_count_q6'])),\n",
    "    ('na_filler', NaFiller(\"\")),\n",
    "    ('one_hot', OneHotEncoder(handle_unknown='ignore'))\n",
    "])"
   ]
  },
  {
   "cell_type": "markdown",
   "metadata": {},
   "source": [
    "# Event_count_q7"
   ]
  },
  {
   "cell_type": "code",
   "execution_count": null,
   "metadata": {},
   "outputs": [],
   "source": [
    "event_count_q7_pipe = Pipeline([\n",
    "    ('selector', ColumnSelector(['event_count_q7'])),\n",
    "    ('na_filler', NaFiller(\"\")),\n",
    "    ('one_hot', OneHotEncoder(handle_unknown='ignore'))\n",
    "])"
   ]
  },
  {
   "cell_type": "markdown",
   "metadata": {},
   "source": [
    "# Event_count_q8"
   ]
  },
  {
   "cell_type": "code",
   "execution_count": null,
   "metadata": {},
   "outputs": [],
   "source": [
    "event_count_q8_pipe = Pipeline([\n",
    "    ('selector', ColumnSelector(['event_count_q8'])),\n",
    "    ('na_filler', NaFiller(\"\")),\n",
    "    ('one_hot', OneHotEncoder(handle_unknown='ignore'))\n",
    "])"
   ]
  },
  {
   "cell_type": "markdown",
   "metadata": {},
   "source": [
    "# Event_count_q9"
   ]
  },
  {
   "cell_type": "code",
   "execution_count": null,
   "metadata": {},
   "outputs": [],
   "source": [
    "event_count_q9_pipe = Pipeline([\n",
    "    ('selector', ColumnSelector(['event_count_q9'])),\n",
    "    ('na_filler', NaFiller(\"\")),\n",
    "    ('one_hot', OneHotEncoder(handle_unknown='ignore'))\n",
    "])"
   ]
  },
  {
   "cell_type": "markdown",
   "metadata": {},
   "source": [
    "# Event_count_q10"
   ]
  },
  {
   "cell_type": "code",
   "execution_count": null,
   "metadata": {},
   "outputs": [],
   "source": [
    "event_count_q10_pipe = Pipeline([\n",
    "    ('selector', ColumnSelector(['event_count_q10'])),\n",
    "    ('na_filler', NaFiller(\"\")),\n",
    "    ('one_hot', OneHotEncoder(handle_unknown='ignore'))\n",
    "])"
   ]
  },
  {
   "cell_type": "markdown",
   "metadata": {},
   "source": [
    "# Tiempo_total"
   ]
  },
  {
   "cell_type": "code",
   "execution_count": null,
   "metadata": {},
   "outputs": [],
   "source": [
    "tiempo_total_pipe = Pipeline([\n",
    "    ('selector', ColumnSelector(['tiempo_total'])),\n",
    "    ('na_filler', NaFiller(\"\")),\n",
    "    ('one_hot', OneHotEncoder(handle_unknown='ignore'))\n",
    "])"
   ]
  },
  {
   "cell_type": "code",
   "execution_count": null,
   "metadata": {},
   "outputs": [],
   "source": [
    "tiempo_total_pipe.fit_transform(train_df)"
   ]
  },
  {
   "cell_type": "markdown",
   "metadata": {},
   "source": [
    "# tiempo_tota_q1"
   ]
  },
  {
   "cell_type": "code",
   "execution_count": null,
   "metadata": {},
   "outputs": [],
   "source": [
    "tiempo_total_q1_pipe = Pipeline([\n",
    "    ('selector', ColumnSelector(['tiempo_total_q1'])),\n",
    "    ('na_filler', NaFiller(\"\")),\n",
    "    ('one_hot', OneHotEncoder(handle_unknown='ignore'))\n",
    "])"
   ]
  },
  {
   "cell_type": "code",
   "execution_count": null,
   "metadata": {},
   "outputs": [],
   "source": [
    "tiempo_total_q1_pipe.fit_transform(train_df)"
   ]
  },
  {
   "cell_type": "markdown",
   "metadata": {},
   "source": [
    "# tiempo_total_q2"
   ]
  },
  {
   "cell_type": "code",
   "execution_count": null,
   "metadata": {},
   "outputs": [],
   "source": [
    "tiempo_total_q2_pipe = Pipeline([\n",
    "    ('selector', ColumnSelector(['tiempo_total_q2'])),\n",
    "    ('na_filler', NaFiller(\"\")),\n",
    "    ('one_hot', OneHotEncoder(handle_unknown='ignore'))\n",
    "])"
   ]
  },
  {
   "cell_type": "code",
   "execution_count": null,
   "metadata": {},
   "outputs": [],
   "source": [
    "tiempo_total_q2_pipe.fit_transform(train_df)"
   ]
  },
  {
   "cell_type": "markdown",
   "metadata": {},
   "source": [
    "# Tiempo_total_q3"
   ]
  },
  {
   "cell_type": "code",
   "execution_count": null,
   "metadata": {},
   "outputs": [],
   "source": [
    "tiempo_total_q3_pipe = Pipeline([\n",
    "    ('selector', ColumnSelector(['tiempo_total_q3'])),\n",
    "    ('na_filler', NaFiller(\"\")),\n",
    "    ('one_hot', OneHotEncoder(handle_unknown='ignore'))\n",
    "])"
   ]
  },
  {
   "cell_type": "code",
   "execution_count": null,
   "metadata": {},
   "outputs": [],
   "source": [
    "tiempo_total_q3_pipe.fit_transform(train_df)"
   ]
  },
  {
   "cell_type": "markdown",
   "metadata": {},
   "source": [
    "# Tiempo_total_q4 "
   ]
  },
  {
   "cell_type": "code",
   "execution_count": null,
   "metadata": {},
   "outputs": [],
   "source": [
    "tiempo_total_q4_pipe = Pipeline([\n",
    "    ('selector', ColumnSelector(['tiempo_total_q4'])),\n",
    "    ('na_filler', NaFiller(\"\")),\n",
    "    ('one_hot', OneHotEncoder(handle_unknown='ignore'))\n",
    "])"
   ]
  },
  {
   "cell_type": "code",
   "execution_count": null,
   "metadata": {},
   "outputs": [],
   "source": [
    "tiempo_total_q4_pipe.fit_transform(train_df)"
   ]
  },
  {
   "cell_type": "markdown",
   "metadata": {},
   "source": [
    "# Tiempo_total_q5"
   ]
  },
  {
   "cell_type": "code",
   "execution_count": null,
   "metadata": {},
   "outputs": [],
   "source": [
    "tiempo_total_q5_pipe = Pipeline([\n",
    "    ('selector', ColumnSelector(['tiempo_total_q5'])),\n",
    "    ('na_filler', NaFiller(\"\")),\n",
    "    ('one_hot', OneHotEncoder(handle_unknown='ignore'))\n",
    "])"
   ]
  },
  {
   "cell_type": "code",
   "execution_count": null,
   "metadata": {},
   "outputs": [],
   "source": [
    "tiempo_total_q5_pipe.fit_transform(train_df)"
   ]
  },
  {
   "cell_type": "markdown",
   "metadata": {},
   "source": [
    "# Tiempo_total_q6"
   ]
  },
  {
   "cell_type": "code",
   "execution_count": null,
   "metadata": {},
   "outputs": [],
   "source": [
    "tiempo_total_q6_pipe = Pipeline([\n",
    "    ('selector', ColumnSelector(['tiempo_total_q6'])),\n",
    "    ('na_filler', NaFiller(\"\")),\n",
    "    ('one_hot', OneHotEncoder(handle_unknown='ignore'))\n",
    "])"
   ]
  },
  {
   "cell_type": "code",
   "execution_count": null,
   "metadata": {},
   "outputs": [],
   "source": [
    "tiempo_total_q6_pipe.fit_transform(train_df)"
   ]
  },
  {
   "cell_type": "markdown",
   "metadata": {},
   "source": [
    "# Tiempo_total_q7"
   ]
  },
  {
   "cell_type": "code",
   "execution_count": null,
   "metadata": {},
   "outputs": [],
   "source": [
    "tiempo_total_q7_pipe = Pipeline([\n",
    "    ('selector', ColumnSelector(['tiempo_total_q7'])),\n",
    "    ('na_filler', NaFiller(\"\")),\n",
    "    ('one_hot', OneHotEncoder(handle_unknown='ignore'))\n",
    "])"
   ]
  },
  {
   "cell_type": "code",
   "execution_count": null,
   "metadata": {},
   "outputs": [],
   "source": [
    "tiempo_total_q7_pipe.fit_transform(train_df)"
   ]
  },
  {
   "cell_type": "markdown",
   "metadata": {},
   "source": [
    "# Tiempo_total_q8"
   ]
  },
  {
   "cell_type": "code",
   "execution_count": null,
   "metadata": {},
   "outputs": [],
   "source": [
    "tiempo_total_q8_pipe = Pipeline([\n",
    "    ('selector', ColumnSelector(['tiempo_total_q8'])),\n",
    "    ('na_filler', NaFiller(\"\")),\n",
    "    ('one_hot', OneHotEncoder(handle_unknown='ignore'))\n",
    "])"
   ]
  },
  {
   "cell_type": "code",
   "execution_count": null,
   "metadata": {},
   "outputs": [],
   "source": [
    "tiempo_total_q8_pipe.fit_transform(train_df)"
   ]
  },
  {
   "cell_type": "markdown",
   "metadata": {},
   "source": [
    "# Tiempo_total_q9"
   ]
  },
  {
   "cell_type": "code",
   "execution_count": null,
   "metadata": {},
   "outputs": [],
   "source": [
    "tiempo_total_q9_pipe = Pipeline([\n",
    "    ('selector', ColumnSelector(['tiempo_total_q9'])),\n",
    "    ('na_filler', NaFiller(\"\")),\n",
    "    ('one_hot', OneHotEncoder(handle_unknown='ignore'))\n",
    "])"
   ]
  },
  {
   "cell_type": "code",
   "execution_count": null,
   "metadata": {},
   "outputs": [],
   "source": [
    "tiempo_total_q9_pipe.fit_transform(train_df)"
   ]
  },
  {
   "cell_type": "markdown",
   "metadata": {},
   "source": [
    "# Tiempo_total_q10"
   ]
  },
  {
   "cell_type": "code",
   "execution_count": null,
   "metadata": {},
   "outputs": [],
   "source": [
    "tiempo_total_q10_pipe = Pipeline([\n",
    "    ('selector', ColumnSelector(['tiempo_total_q10'])),\n",
    "    ('na_filler', NaFiller(\"\")),\n",
    "    ('one_hot', OneHotEncoder(handle_unknown='ignore'))\n",
    "])"
   ]
  },
  {
   "cell_type": "code",
   "execution_count": null,
   "metadata": {},
   "outputs": [],
   "source": [
    "tiempo_total_q10_pipe.fit_transform(train_df)"
   ]
  },
  {
   "cell_type": "markdown",
   "metadata": {},
   "source": [
    "## Lets bring all of them together!"
   ]
  },
  {
   "cell_type": "code",
   "execution_count": 79,
   "metadata": {},
   "outputs": [],
   "source": [
    "train_df = train_df.drop(columns=['screen_resolution'])\n",
    "to_predict = to_predict.drop(columns=['screen_resolution'])"
   ]
  },
  {
   "cell_type": "code",
   "execution_count": 80,
   "metadata": {},
   "outputs": [
    {
     "data": {
      "text/plain": [
       "Index(['event', 'person', 'sku', 'condition', 'search_engine',\n",
       "       'new_vs_returning', 'region', 'country', 'device_type', 'mes', 'dia',\n",
       "       'q1', 'q2', 'q3', 'q4', 'q5', 'q6', 'q7', 'q8', 'q9', 'q10',\n",
       "       'support_p_todos_sus_ev', 'support_con_peso', 'year', 'month_sin',\n",
       "       'month_cos', 'day_sin', 'day_cos', 'weekday_sin', 'weekday_cos',\n",
       "       'hour_sin', 'hour_cos', 'samsung', 'motorola', 'iphone', 'asus', 'lg',\n",
       "       'sony', 'url_comprar', 'url_vender', 'storage_support', 'color_support',\n",
       "       '0'],\n",
       "      dtype='object')"
      ]
     },
     "execution_count": 80,
     "metadata": {},
     "output_type": "execute_result"
    }
   ],
   "source": [
    "train_df.columns"
   ]
  },
  {
   "cell_type": "code",
   "execution_count": 81,
   "metadata": {},
   "outputs": [],
   "source": [
    "#from xgboost import XGBRegressor\n",
    "from sklearn.linear_model import LogisticRegression"
   ]
  },
  {
   "cell_type": "code",
   "execution_count": 110,
   "metadata": {},
   "outputs": [
    {
     "data": {
      "text/plain": [
       "Pipeline(memory=None,\n",
       "     steps=[('feats', FeatureUnion(n_jobs=None,\n",
       "       transformer_list=[('device_type', Pipeline(memory=None,\n",
       "     steps=[('selector', ColumnSelector(cols=['device_type'])), ('na_filler', NaFiller(filler='')), ('one_hot', OneHotEncoder(categorical_features=None, categories=None,\n",
       "       dtype=<class 'num... penalty='l2', random_state=None, solver='sag',\n",
       "          tol=0.0001, verbose=0, warm_start=False))])"
      ]
     },
     "execution_count": 110,
     "metadata": {},
     "output_type": "execute_result"
    }
   ],
   "source": [
    "from sklearn.pipeline import FeatureUnion\n",
    "\n",
    "feats = FeatureUnion([\n",
    "    #('browser', browser_pipe),\n",
    "    #('os', os_ver_pipe),\n",
    "    ('device_type', device_type_pipe),\n",
    "    ('country', country_pipe),\n",
    "    ('region', region_pipe),\n",
    "    #('city', city_pipe),\n",
    "    ('new_vs_ret', new_vs_returning_pipe),\n",
    "    #('channel', channel_pipe),\n",
    "    ('search_eng', search_engine_pipe),\n",
    "    #('campaign', campaign_source_pipe),\n",
    "    #('staticpage', staticpage_pipe),\n",
    "    #('searchterm', search_term_pipe),\n",
    "    #('skus', skus_pipe),\n",
    "    #('color', color_pipe),\n",
    "    ('condition', condition_pipe),\n",
    "    #('model', model_pipe),\n",
    "    ('sku', sku_pipe),\n",
    "    #('url', url_pipe),\n",
    "    ('person', person_pipe),\n",
    "    ('event', event_pipe),\n",
    "    ('q1', q1_pipe),\n",
    "    ('q2', q2_pipe),\n",
    "    ('q3', q3_pipe),\n",
    "    ('q4', q4_pipe),\n",
    "    ('q5', q5_pipe),\n",
    "    ('q6', q6_pipe),\n",
    "    ('q7', q7_pipe),\n",
    "    ('q8', q8_pipe),\n",
    "    ('q9', q9_pipe),\n",
    "    ('q10', q10_pipe),\n",
    "    ('sup_pipe', sup_pipe),\n",
    "    #('sup_peso_pipe', sup_peso_pipe),#este al parecer no ayuda, con este da 0.75\n",
    "    #Sin el otro support baja a 0.70\n",
    "    #('sup_ind_pipe', sup_ind_pipe),\n",
    "    #('urlcomprar_pipe', urlcomprar_pipe),   \n",
    "    #('urlvender_pipe', urlvender_pipe),   \n",
    "    ('storage_sup_pipe', storage_sup_pipe), \n",
    "    ('col_sup_pipe', col_sup_pipe),\n",
    "    ('skus_pipe', skus_pipe),\n",
    "    #('screenreswidth_pipe', screenreswidth_pipe),   \n",
    "    #('screenresheight_pipe', screenresheight_pipe),   \n",
    "    ('year_pipe', year_pipe),\n",
    "    ('monthsin_pipe', monthsin_pipe),\n",
    "    ('monthcos_pipe', monthcos_pipe),\n",
    "    ('daysin_pipe', daysin_pipe),\n",
    "    ('daycos_pipe', daycos_pipe),\n",
    "    ('weekdaysin_pipe', weekdaysin_pipe),\n",
    "    ('weekdaycos_pipe', weekdaycos_pipe),\n",
    "    ('hoursin_pipe', hoursin_pipe),\n",
    "    ('hourcos_pipe', hourcos_pipe),\n",
    "    #('motorola_pipe', motorola_pipe),\n",
    "    #('samsung_pipe', samsung_pipe),\n",
    "    #('iphone_pipe', iphone_pipe)\n",
    "    #('event_count_pipe', event_count_pipe),\n",
    "    #('event_count_q1_pipe', event_count_q1_pipe),\n",
    "    #('event_count_q2_pipe', event_count_q2_pipe),\n",
    "    #('event_count_q3_pipe', event_count_q3_pipe),\n",
    "    #('event_count_q4_pipe', event_count_q4_pipe),\n",
    "    #('event_count_q5_pipe', event_count_q5_pipe),\n",
    "    #('event_count_q6_pipe', event_count_q6_pipe),\n",
    "    #('event_count_q7_pipe', event_count_q7_pipe),\n",
    "    #('event_count_q8_pipe', event_count_q8_pipe),\n",
    "    #('event_count_q9_pipe', event_count_q9_pipe),\n",
    "    #('event_count_q10_pipe', event_count_q10_pipe),\n",
    "    #('tiempo_total_pipe', tiempo_total_pipe),\n",
    "    #('tiempo_total_q1_pipe', tiempo_total_q1_pipe),\n",
    "    #('tiempo_total_q2_pipe', tiempo_total_q2_pipe),\n",
    "    #('tiempo_total_q3_pipe', tiempo_total_q3_pipe),\n",
    "    #('tiempo_total_q4_pipe', tiempo_total_q4_pipe),\n",
    "    #('tiempo_total_q5_pipe', tiempo_total_q5_pipe),\n",
    "    #('tiempo_total_q6_pipe', tiempo_total_q6_pipe),\n",
    "    #('tiempo_total_q7_pipe', tiempo_total_q7_pipe),\n",
    "    #('tiempo_total_q8_pipe', tiempo_total_q8_pipe),\n",
    "    #('tiempo_total_q9_pipe', tiempo_total_q8_pipe),\n",
    "    #('tiempo_total_q10_pipe', tiempo_total_q10_pipe)\n",
    "    \n",
    "])\n",
    "\n",
    "feature_processing = Pipeline([\n",
    "    ('feats', feats),\n",
    "    ('lr', LogisticRegression(solver='sag'))\n",
    "    #('xgb', XGBRegressor())\n",
    "])\n",
    "\n",
    "feature_processing.fit(train_df, y_train)"
   ]
  },
  {
   "cell_type": "code",
   "execution_count": 87,
   "metadata": {},
   "outputs": [],
   "source": [
    "preds = feature_processing.predict_proba(train_df)[:,1]"
   ]
  },
  {
   "cell_type": "markdown",
   "metadata": {},
   "source": [
    " ## trying xgb"
   ]
  },
  {
   "cell_type": "code",
   "execution_count": null,
   "metadata": {},
   "outputs": [],
   "source": [
    "import xgboost as xgb\n",
    "from sklearn.metrics import mean_squared_error\n",
    "\n",
    "xg_reg = xgb.XGBRegressor(objective ='reg:linear', \n",
    "                colsample_bytree = 0.3, learning_rate = 0.1,\n",
    "                max_depth = 5, alpha = 10, n_estimators = 10)"
   ]
  },
  {
   "cell_type": "code",
   "execution_count": null,
   "metadata": {},
   "outputs": [],
   "source": [
    "xg_reg.fit(X_train,y_train)"
   ]
  },
  {
   "cell_type": "code",
   "execution_count": null,
   "metadata": {},
   "outputs": [],
   "source": []
  },
  {
   "cell_type": "code",
   "execution_count": null,
   "metadata": {},
   "outputs": [],
   "source": []
  },
  {
   "cell_type": "code",
   "execution_count": null,
   "metadata": {},
   "outputs": [],
   "source": []
  },
  {
   "cell_type": "code",
   "execution_count": null,
   "metadata": {},
   "outputs": [],
   "source": []
  },
  {
   "cell_type": "markdown",
   "metadata": {},
   "source": [
    "## fin"
   ]
  },
  {
   "cell_type": "code",
   "execution_count": null,
   "metadata": {},
   "outputs": [],
   "source": [
    "preds"
   ]
  },
  {
   "cell_type": "code",
   "execution_count": null,
   "metadata": {},
   "outputs": [],
   "source": [
    "preds.shape"
   ]
  },
  {
   "cell_type": "code",
   "execution_count": null,
   "metadata": {},
   "outputs": [],
   "source": [
    "y_test.shape"
   ]
  },
  {
   "cell_type": "code",
   "execution_count": null,
   "metadata": {},
   "outputs": [],
   "source": [
    "roc_auc_score(y_test,preds)"
   ]
  },
  {
   "cell_type": "code",
   "execution_count": 111,
   "metadata": {},
   "outputs": [],
   "source": [
    "preds_posta = feature_processing.predict_proba(to_predict)[:,1]"
   ]
  },
  {
   "cell_type": "code",
   "execution_count": 112,
   "metadata": {},
   "outputs": [
    {
     "data": {
      "text/plain": [
       "array([0.00291965, 0.00545428, 0.00319686, ..., 0.00854738, 0.01338141,\n",
       "       0.01110482])"
      ]
     },
     "execution_count": 112,
     "metadata": {},
     "output_type": "execute_result"
    }
   ],
   "source": [
    "preds_posta"
   ]
  },
  {
   "cell_type": "code",
   "execution_count": 113,
   "metadata": {},
   "outputs": [],
   "source": [
    "to_publish = pd.DataFrame()"
   ]
  },
  {
   "cell_type": "code",
   "execution_count": 114,
   "metadata": {},
   "outputs": [],
   "source": [
    "to_publish['person'] = to_predict.person"
   ]
  },
  {
   "cell_type": "code",
   "execution_count": 115,
   "metadata": {},
   "outputs": [],
   "source": [
    "to_publish['label'] = preds_posta"
   ]
  },
  {
   "cell_type": "code",
   "execution_count": 116,
   "metadata": {},
   "outputs": [],
   "source": [
    "to_publish.groupby('person', as_index=False).mean().to_csv('22_11.csv', index=False)"
   ]
  },
  {
   "cell_type": "code",
   "execution_count": null,
   "metadata": {},
   "outputs": [],
   "source": []
  },
  {
   "cell_type": "code",
   "execution_count": null,
   "metadata": {},
   "outputs": [],
   "source": []
  },
  {
   "cell_type": "code",
   "execution_count": null,
   "metadata": {},
   "outputs": [],
   "source": []
  },
  {
   "cell_type": "code",
   "execution_count": null,
   "metadata": {},
   "outputs": [],
   "source": []
  }
 ],
 "metadata": {
  "kernelspec": {
   "display_name": "Python 3",
   "language": "python",
   "name": "python3"
  },
  "language_info": {
   "codemirror_mode": {
    "name": "ipython",
    "version": 3
   },
   "file_extension": ".py",
   "mimetype": "text/x-python",
   "name": "python",
   "nbconvert_exporter": "python",
   "pygments_lexer": "ipython3",
   "version": "3.6.5"
  }
 },
 "nbformat": 4,
 "nbformat_minor": 2
}
