{
 "cells": [
  {
   "cell_type": "code",
   "execution_count": null,
   "metadata": {},
   "outputs": [],
   "source": [
    "import pandas as pd"
   ]
  },
  {
   "cell_type": "code",
   "execution_count": null,
   "metadata": {},
   "outputs": [],
   "source": [
    "#Cargamos el archivo a utilizar \n",
    "events = pd.read_csv(\"data/fiuba-trocafone-tp2-final-set/events_up_to_01062018.csv\", low_memory=False)"
   ]
  },
  {
   "cell_type": "markdown",
   "metadata": {},
   "source": [
    "# Funciones útiles"
   ]
  },
  {
   "cell_type": "code",
   "execution_count": null,
   "metadata": {},
   "outputs": [],
   "source": [
    "quincenas = ['q1', 'q2', 'q3', 'q4', 'q5', 'q6', 'q7', 'q8', 'q9', 'q10']\n",
    "\n",
    "def aplicar_por_quincena(train, funcion):\n",
    "    \n",
    "    for quincena in quincenas:\n",
    "        train = funcion(train, quincena)\n",
    "    return train"
   ]
  },
  {
   "cell_type": "markdown",
   "metadata": {},
   "source": [
    "# Feature quincenas"
   ]
  },
  {
   "cell_type": "code",
   "execution_count": null,
   "metadata": {},
   "outputs": [],
   "source": [
    "events['timestamp'] = pd.to_datetime(events['timestamp'])\n",
    "events['mes'] = events['timestamp'].dt.month\n",
    "events['dia'] = events['timestamp'].dt.day"
   ]
  },
  {
   "cell_type": "code",
   "execution_count": null,
   "metadata": {},
   "outputs": [],
   "source": [
    "events['q1'] = ((events['mes']==1) & (events['dia']>1) & (events['dia']<16))\n",
    "events['q2'] = ((events['mes']==1) & (events['dia']>15) & (events['dia']<32))\n",
    "events['q3'] = ((events['mes']==2) & (events['dia']>1) & (events['dia']<16))\n",
    "events['q4'] = ((events['mes']==2) & (events['dia']>15) & (events['dia']<29))\n",
    "events['q5'] = ((events['mes']==3) & (events['dia']>1) & (events['dia']<16))\n",
    "events['q6'] = ((events['mes']==3) & (events['dia']>15) & (events['dia']<32))\n",
    "events['q7'] = ((events['mes']==4) & (events['dia']>1) & (events['dia']<16))\n",
    "events['q8'] = ((events['mes']==4) & (events['dia']>15) & (events['dia']<31))\n",
    "events['q9'] = ((events['mes']==5) & (events['dia']>1) & (events['dia']<16))\n",
    "events['q10'] = ((events['mes']==5) & (events['dia']>15) & (events['dia']<32))"
   ]
  },
  {
   "cell_type": "markdown",
   "metadata": {},
   "source": [
    "# Feature cantidad de eventos por persona"
   ]
  },
  {
   "cell_type": "code",
   "execution_count": null,
   "metadata": {},
   "outputs": [],
   "source": [
    "events = events.join(events.groupby('person').event.count(), on='person', rsuffix='_count')"
   ]
  },
  {
   "cell_type": "markdown",
   "metadata": {},
   "source": [
    "# Feature tiempo entre primer y última entrada al sitio por persona"
   ]
  },
  {
   "cell_type": "code",
   "execution_count": null,
   "metadata": {},
   "outputs": [],
   "source": [
    "events = events.join(events.groupby('person').timestamp.agg('max') - events.groupby('person').timestamp.agg('min'), on='person', rsuffix='_total')\n",
    "events = events.rename(columns={'timestamp_total' : 'tiempo_total'})"
   ]
  },
  {
   "cell_type": "code",
   "execution_count": null,
   "metadata": {},
   "outputs": [],
   "source": [
    "events.columns"
   ]
  },
  {
   "cell_type": "code",
   "execution_count": null,
   "metadata": {},
   "outputs": [],
   "source": [
    "pd.DataFrame(events.tiempo_total.unique()).head(10)"
   ]
  },
  {
   "cell_type": "markdown",
   "metadata": {},
   "source": [
    "# Feature cantidad de events por persona por quincena"
   ]
  },
  {
   "cell_type": "code",
   "execution_count": null,
   "metadata": {},
   "outputs": [],
   "source": [
    "def cantidad_eventos_por_persona(df, quincena):\n",
    "    df = df.join(df.loc[df[quincena] == True].groupby('person').event.count(), on='person', rsuffix=('_count_'+quincena))\n",
    "    return df"
   ]
  },
  {
   "cell_type": "code",
   "execution_count": null,
   "metadata": {},
   "outputs": [],
   "source": [
    "events = (aplicar_por_quincena(events, cantidad_eventos_por_persona))\n",
    "events.columns"
   ]
  },
  {
   "cell_type": "markdown",
   "metadata": {},
   "source": [
    "# Feature tiempo entre primer y última entrada al sitio en quincena por persona"
   ]
  },
  {
   "cell_type": "code",
   "execution_count": null,
   "metadata": {},
   "outputs": [],
   "source": [
    "def tiempo_total_por_persona(df, quincena):\n",
    "    df_quincena = df.loc[df[quincena] == True]\n",
    "    df_quincena = df.join(df_quincena.groupby('person').timestamp.agg(lambda x: (x.max() - x.min())), on='person', rsuffix='_total_'+quincena)\n",
    "    df_quincena = df_quincena.rename(columns={'timestamp_total_'+quincena : 'tiempo_total_'+quincena})\n",
    "    \n",
    "    return df_quincena"
   ]
  },
  {
   "cell_type": "code",
   "execution_count": null,
   "metadata": {},
   "outputs": [],
   "source": [
    "events = aplicar_por_quincena(events, tiempo_total_por_persona)\n",
    "events.columns"
   ]
  },
  {
   "cell_type": "code",
   "execution_count": null,
   "metadata": {},
   "outputs": [],
   "source": [
    "pd.DataFrame(events.tiempo_total_q1.unique()).head(10)"
   ]
  },
  {
   "cell_type": "markdown",
   "metadata": {},
   "source": [
    "# Export a csv"
   ]
  },
  {
   "cell_type": "code",
   "execution_count": null,
   "metadata": {},
   "outputs": [],
   "source": [
    "events.to_csv('data/events_with_features.csv', index=False)"
   ]
  },
  {
   "cell_type": "code",
   "execution_count": null,
   "metadata": {},
   "outputs": [],
   "source": []
  }
 ],
 "metadata": {
  "kernelspec": {
   "display_name": "Python 3",
   "language": "python",
   "name": "python3"
  },
  "language_info": {
   "codemirror_mode": {
    "name": "ipython",
    "version": 3
   },
   "file_extension": ".py",
   "mimetype": "text/x-python",
   "name": "python",
   "nbconvert_exporter": "python",
   "pygments_lexer": "ipython3",
   "version": "3.5.2"
  }
 },
 "nbformat": 4,
 "nbformat_minor": 2
}
