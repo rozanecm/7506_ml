{
 "cells": [
  {
   "cell_type": "code",
   "execution_count": 1,
   "metadata": {},
   "outputs": [],
   "source": [
    "import pandas as pd\n",
    "import numpy as np"
   ]
  },
  {
   "cell_type": "code",
   "execution_count": 2,
   "metadata": {},
   "outputs": [],
   "source": [
    "#Leo el csv de eventos\n",
    "\n",
    "events_df = pd.read_csv(\"/home/miki_mustard/Desktop/Facultad/Datos/TP2/fiuba-trocafone-tp2-final-set/events_up_to_01062018.csv\", low_memory=False)"
   ]
  },
  {
   "cell_type": "code",
   "execution_count": null,
   "metadata": {},
   "outputs": [],
   "source": []
  },
  {
   "cell_type": "markdown",
   "metadata": {},
   "source": [
    "## Generacion de features"
   ]
  },
  {
   "cell_type": "code",
   "execution_count": 3,
   "metadata": {},
   "outputs": [],
   "source": [
    "features_df = pd.DataFrame()"
   ]
  },
  {
   "cell_type": "code",
   "execution_count": 4,
   "metadata": {},
   "outputs": [],
   "source": [
    "features_df['person'] = events_df.person.unique()"
   ]
  },
  {
   "cell_type": "code",
   "execution_count": 5,
   "metadata": {},
   "outputs": [
    {
     "data": {
      "text/html": [
       "<div>\n",
       "<style scoped>\n",
       "    .dataframe tbody tr th:only-of-type {\n",
       "        vertical-align: middle;\n",
       "    }\n",
       "\n",
       "    .dataframe tbody tr th {\n",
       "        vertical-align: top;\n",
       "    }\n",
       "\n",
       "    .dataframe thead th {\n",
       "        text-align: right;\n",
       "    }\n",
       "</style>\n",
       "<table border=\"1\" class=\"dataframe\">\n",
       "  <thead>\n",
       "    <tr style=\"text-align: right;\">\n",
       "      <th></th>\n",
       "      <th>person</th>\n",
       "    </tr>\n",
       "  </thead>\n",
       "  <tbody>\n",
       "    <tr>\n",
       "      <th>0</th>\n",
       "      <td>4886f805</td>\n",
       "    </tr>\n",
       "    <tr>\n",
       "      <th>1</th>\n",
       "      <td>ad93850f</td>\n",
       "    </tr>\n",
       "    <tr>\n",
       "      <th>2</th>\n",
       "      <td>0297fc1e</td>\n",
       "    </tr>\n",
       "    <tr>\n",
       "      <th>3</th>\n",
       "      <td>2d681dd8</td>\n",
       "    </tr>\n",
       "    <tr>\n",
       "      <th>4</th>\n",
       "      <td>cccea85e</td>\n",
       "    </tr>\n",
       "  </tbody>\n",
       "</table>\n",
       "</div>"
      ],
      "text/plain": [
       "     person\n",
       "0  4886f805\n",
       "1  ad93850f\n",
       "2  0297fc1e\n",
       "3  2d681dd8\n",
       "4  cccea85e"
      ]
     },
     "execution_count": 5,
     "metadata": {},
     "output_type": "execute_result"
    }
   ],
   "source": [
    "features_df.head()"
   ]
  },
  {
   "cell_type": "code",
   "execution_count": null,
   "metadata": {},
   "outputs": [],
   "source": [
    "events_df.columns"
   ]
  },
  {
   "cell_type": "markdown",
   "metadata": {},
   "source": [
    "## Cantidad eventos total"
   ]
  },
  {
   "cell_type": "code",
   "execution_count": 6,
   "metadata": {},
   "outputs": [],
   "source": [
    "df = events_df.groupby('person').event.count()"
   ]
  },
  {
   "cell_type": "code",
   "execution_count": 7,
   "metadata": {},
   "outputs": [],
   "source": [
    "features_df = features_df.join(df, on='person')"
   ]
  },
  {
   "cell_type": "code",
   "execution_count": 8,
   "metadata": {},
   "outputs": [],
   "source": [
    "features_df.rename(columns={'event':'cant_eventos_totales'}, inplace=True)"
   ]
  },
  {
   "cell_type": "markdown",
   "metadata": {},
   "source": [
    "## Quincenas"
   ]
  },
  {
   "cell_type": "code",
   "execution_count": 9,
   "metadata": {},
   "outputs": [],
   "source": [
    "events_df['timestamp'] = pd.to_datetime(events_df['timestamp'])\n",
    "events_df['mes'] = events_df['timestamp'].dt.month\n",
    "events_df['dia'] = events_df['timestamp'].dt.day"
   ]
  },
  {
   "cell_type": "code",
   "execution_count": 10,
   "metadata": {},
   "outputs": [],
   "source": [
    "events_df['q1'] = ((events_df['mes']==1) & (events_df['dia']>1) & (events_df['dia']<16))\n",
    "events_df['q2'] = ((events_df['mes']==1) & (events_df['dia']>15) & (events_df['dia']<32))\n",
    "events_df['q3'] = ((events_df['mes']==2) & (events_df['dia']>1) & (events_df['dia']<16))\n",
    "events_df['q4'] = ((events_df['mes']==2) & (events_df['dia']>15) & (events_df['dia']<29))\n",
    "events_df['q5'] = ((events_df['mes']==3) & (events_df['dia']>1) & (events_df['dia']<16))\n",
    "events_df['q6'] = ((events_df['mes']==3) & (events_df['dia']>15) & (events_df['dia']<32))\n",
    "events_df['q7'] = ((events_df['mes']==4) & (events_df['dia']>1) & (events_df['dia']<16))\n",
    "events_df['q8'] = ((events_df['mes']==4) & (events_df['dia']>15) & (events_df['dia']<31))\n",
    "events_df['q9'] = ((events_df['mes']==5) & (events_df['dia']>1) & (events_df['dia']<16))\n",
    "events_df['q10'] = ((events_df['mes']==5) & (events_df['dia']>15) & (events_df['dia']<32))"
   ]
  },
  {
   "cell_type": "code",
   "execution_count": 11,
   "metadata": {},
   "outputs": [
    {
     "data": {
      "text/html": [
       "<div>\n",
       "<style scoped>\n",
       "    .dataframe tbody tr th:only-of-type {\n",
       "        vertical-align: middle;\n",
       "    }\n",
       "\n",
       "    .dataframe tbody tr th {\n",
       "        vertical-align: top;\n",
       "    }\n",
       "\n",
       "    .dataframe thead th {\n",
       "        text-align: right;\n",
       "    }\n",
       "</style>\n",
       "<table border=\"1\" class=\"dataframe\">\n",
       "  <thead>\n",
       "    <tr style=\"text-align: right;\">\n",
       "      <th></th>\n",
       "      <th>q1</th>\n",
       "      <th>q2</th>\n",
       "      <th>q3</th>\n",
       "      <th>q4</th>\n",
       "      <th>q5</th>\n",
       "      <th>q6</th>\n",
       "      <th>q7</th>\n",
       "      <th>q8</th>\n",
       "      <th>q9</th>\n",
       "      <th>q10</th>\n",
       "    </tr>\n",
       "    <tr>\n",
       "      <th>person</th>\n",
       "      <th></th>\n",
       "      <th></th>\n",
       "      <th></th>\n",
       "      <th></th>\n",
       "      <th></th>\n",
       "      <th></th>\n",
       "      <th></th>\n",
       "      <th></th>\n",
       "      <th></th>\n",
       "      <th></th>\n",
       "    </tr>\n",
       "  </thead>\n",
       "  <tbody>\n",
       "    <tr>\n",
       "      <th>0008ed71</th>\n",
       "      <td>False</td>\n",
       "      <td>False</td>\n",
       "      <td>False</td>\n",
       "      <td>False</td>\n",
       "      <td>False</td>\n",
       "      <td>False</td>\n",
       "      <td>False</td>\n",
       "      <td>False</td>\n",
       "      <td>False</td>\n",
       "      <td>True</td>\n",
       "    </tr>\n",
       "    <tr>\n",
       "      <th>00091926</th>\n",
       "      <td>False</td>\n",
       "      <td>False</td>\n",
       "      <td>False</td>\n",
       "      <td>False</td>\n",
       "      <td>False</td>\n",
       "      <td>False</td>\n",
       "      <td>False</td>\n",
       "      <td>False</td>\n",
       "      <td>True</td>\n",
       "      <td>True</td>\n",
       "    </tr>\n",
       "    <tr>\n",
       "      <th>00091a7a</th>\n",
       "      <td>False</td>\n",
       "      <td>False</td>\n",
       "      <td>False</td>\n",
       "      <td>False</td>\n",
       "      <td>False</td>\n",
       "      <td>True</td>\n",
       "      <td>False</td>\n",
       "      <td>False</td>\n",
       "      <td>False</td>\n",
       "      <td>False</td>\n",
       "    </tr>\n",
       "    <tr>\n",
       "      <th>000ba417</th>\n",
       "      <td>False</td>\n",
       "      <td>False</td>\n",
       "      <td>False</td>\n",
       "      <td>False</td>\n",
       "      <td>False</td>\n",
       "      <td>False</td>\n",
       "      <td>False</td>\n",
       "      <td>False</td>\n",
       "      <td>False</td>\n",
       "      <td>True</td>\n",
       "    </tr>\n",
       "    <tr>\n",
       "      <th>000c79fe</th>\n",
       "      <td>False</td>\n",
       "      <td>False</td>\n",
       "      <td>False</td>\n",
       "      <td>False</td>\n",
       "      <td>False</td>\n",
       "      <td>False</td>\n",
       "      <td>False</td>\n",
       "      <td>False</td>\n",
       "      <td>False</td>\n",
       "      <td>True</td>\n",
       "    </tr>\n",
       "  </tbody>\n",
       "</table>\n",
       "</div>"
      ],
      "text/plain": [
       "             q1     q2     q3     q4     q5     q6     q7     q8     q9    q10\n",
       "person                                                                        \n",
       "0008ed71  False  False  False  False  False  False  False  False  False   True\n",
       "00091926  False  False  False  False  False  False  False  False   True   True\n",
       "00091a7a  False  False  False  False  False   True  False  False  False  False\n",
       "000ba417  False  False  False  False  False  False  False  False  False   True\n",
       "000c79fe  False  False  False  False  False  False  False  False  False   True"
      ]
     },
     "execution_count": 11,
     "metadata": {},
     "output_type": "execute_result"
    }
   ],
   "source": [
    "df = events_df[['person', 'q1','q2','q3','q4','q5','q6','q7','q8','q9','q10']].groupby('person').agg(lambda x: x.any())\n",
    "df.head()"
   ]
  },
  {
   "cell_type": "code",
   "execution_count": 12,
   "metadata": {},
   "outputs": [],
   "source": [
    "features_df = features_df.join(df, on='person')"
   ]
  },
  {
   "cell_type": "markdown",
   "metadata": {},
   "source": [
    "## Cant ev indiv"
   ]
  },
  {
   "cell_type": "code",
   "execution_count": 13,
   "metadata": {},
   "outputs": [],
   "source": [
    "df = events_df.groupby('person').event.value_counts()"
   ]
  },
  {
   "cell_type": "code",
   "execution_count": 14,
   "metadata": {},
   "outputs": [
    {
     "data": {
      "text/html": [
       "<div>\n",
       "<style scoped>\n",
       "    .dataframe tbody tr th:only-of-type {\n",
       "        vertical-align: middle;\n",
       "    }\n",
       "\n",
       "    .dataframe tbody tr th {\n",
       "        vertical-align: top;\n",
       "    }\n",
       "\n",
       "    .dataframe thead th {\n",
       "        text-align: right;\n",
       "    }\n",
       "</style>\n",
       "<table border=\"1\" class=\"dataframe\">\n",
       "  <thead>\n",
       "    <tr style=\"text-align: right;\">\n",
       "      <th>event</th>\n",
       "      <th>ad campaign hit</th>\n",
       "      <th>brand listing</th>\n",
       "      <th>checkout</th>\n",
       "      <th>conversion</th>\n",
       "      <th>generic listing</th>\n",
       "      <th>lead</th>\n",
       "      <th>search engine hit</th>\n",
       "      <th>searched products</th>\n",
       "      <th>staticpage</th>\n",
       "      <th>viewed product</th>\n",
       "      <th>visited site</th>\n",
       "    </tr>\n",
       "    <tr>\n",
       "      <th>person</th>\n",
       "      <th></th>\n",
       "      <th></th>\n",
       "      <th></th>\n",
       "      <th></th>\n",
       "      <th></th>\n",
       "      <th></th>\n",
       "      <th></th>\n",
       "      <th></th>\n",
       "      <th></th>\n",
       "      <th></th>\n",
       "      <th></th>\n",
       "    </tr>\n",
       "  </thead>\n",
       "  <tbody>\n",
       "    <tr>\n",
       "      <th>0008ed71</th>\n",
       "      <td>NaN</td>\n",
       "      <td>NaN</td>\n",
       "      <td>3.0</td>\n",
       "      <td>NaN</td>\n",
       "      <td>1.0</td>\n",
       "      <td>NaN</td>\n",
       "      <td>NaN</td>\n",
       "      <td>NaN</td>\n",
       "      <td>NaN</td>\n",
       "      <td>NaN</td>\n",
       "      <td>2.0</td>\n",
       "    </tr>\n",
       "    <tr>\n",
       "      <th>00091926</th>\n",
       "      <td>15.0</td>\n",
       "      <td>25.0</td>\n",
       "      <td>2.0</td>\n",
       "      <td>NaN</td>\n",
       "      <td>NaN</td>\n",
       "      <td>NaN</td>\n",
       "      <td>NaN</td>\n",
       "      <td>NaN</td>\n",
       "      <td>NaN</td>\n",
       "      <td>372.0</td>\n",
       "      <td>34.0</td>\n",
       "    </tr>\n",
       "    <tr>\n",
       "      <th>00091a7a</th>\n",
       "      <td>1.0</td>\n",
       "      <td>5.0</td>\n",
       "      <td>NaN</td>\n",
       "      <td>NaN</td>\n",
       "      <td>NaN</td>\n",
       "      <td>NaN</td>\n",
       "      <td>NaN</td>\n",
       "      <td>NaN</td>\n",
       "      <td>NaN</td>\n",
       "      <td>3.0</td>\n",
       "      <td>1.0</td>\n",
       "    </tr>\n",
       "    <tr>\n",
       "      <th>000ba417</th>\n",
       "      <td>1.0</td>\n",
       "      <td>24.0</td>\n",
       "      <td>6.0</td>\n",
       "      <td>1.0</td>\n",
       "      <td>14.0</td>\n",
       "      <td>NaN</td>\n",
       "      <td>1.0</td>\n",
       "      <td>NaN</td>\n",
       "      <td>NaN</td>\n",
       "      <td>153.0</td>\n",
       "      <td>6.0</td>\n",
       "    </tr>\n",
       "    <tr>\n",
       "      <th>000c79fe</th>\n",
       "      <td>1.0</td>\n",
       "      <td>NaN</td>\n",
       "      <td>1.0</td>\n",
       "      <td>NaN</td>\n",
       "      <td>1.0</td>\n",
       "      <td>NaN</td>\n",
       "      <td>1.0</td>\n",
       "      <td>9.0</td>\n",
       "      <td>NaN</td>\n",
       "      <td>3.0</td>\n",
       "      <td>1.0</td>\n",
       "    </tr>\n",
       "  </tbody>\n",
       "</table>\n",
       "</div>"
      ],
      "text/plain": [
       "event     ad campaign hit  brand listing  checkout  conversion  \\\n",
       "person                                                           \n",
       "0008ed71              NaN            NaN       3.0         NaN   \n",
       "00091926             15.0           25.0       2.0         NaN   \n",
       "00091a7a              1.0            5.0       NaN         NaN   \n",
       "000ba417              1.0           24.0       6.0         1.0   \n",
       "000c79fe              1.0            NaN       1.0         NaN   \n",
       "\n",
       "event     generic listing  lead  search engine hit  searched products  \\\n",
       "person                                                                  \n",
       "0008ed71              1.0   NaN                NaN                NaN   \n",
       "00091926              NaN   NaN                NaN                NaN   \n",
       "00091a7a              NaN   NaN                NaN                NaN   \n",
       "000ba417             14.0   NaN                1.0                NaN   \n",
       "000c79fe              1.0   NaN                1.0                9.0   \n",
       "\n",
       "event     staticpage  viewed product  visited site  \n",
       "person                                              \n",
       "0008ed71         NaN             NaN           2.0  \n",
       "00091926         NaN           372.0          34.0  \n",
       "00091a7a         NaN             3.0           1.0  \n",
       "000ba417         NaN           153.0           6.0  \n",
       "000c79fe         NaN             3.0           1.0  "
      ]
     },
     "execution_count": 14,
     "metadata": {},
     "output_type": "execute_result"
    }
   ],
   "source": [
    "df = df.unstack()\n",
    "df.head()"
   ]
  },
  {
   "cell_type": "code",
   "execution_count": 15,
   "metadata": {},
   "outputs": [],
   "source": [
    "df = df.drop(columns=['lead'])"
   ]
  },
  {
   "cell_type": "code",
   "execution_count": 16,
   "metadata": {},
   "outputs": [],
   "source": [
    "features_df = features_df.join(df, on='person')"
   ]
  },
  {
   "cell_type": "code",
   "execution_count": 17,
   "metadata": {},
   "outputs": [],
   "source": [
    "features_df.rename(columns={'ad campaign hit':'cant_ach', 'brand listing':'cant_bl', 'checkout':'cant_ch', \n",
    "                            'conversion':'cant_cv', 'generic listing':'cant_gl',\n",
    "                           'search engine hit':'cant_seh', 'searched products':'cant_s_p', \n",
    "                            'staticpage':'cant_sp', 'viewed product':'cant_vp', 'visited site':'cant_vs'}, inplace=True)"
   ]
  },
  {
   "cell_type": "markdown",
   "metadata": {},
   "source": [
    "## Dia semana"
   ]
  },
  {
   "cell_type": "code",
   "execution_count": 123,
   "metadata": {},
   "outputs": [],
   "source": [
    "events_df['weekday'] = events_df['timestamp'].dt.day_name()"
   ]
  },
  {
   "cell_type": "code",
   "execution_count": 124,
   "metadata": {},
   "outputs": [],
   "source": [
    "ct = pd.crosstab(events_df.person, events_df.weekday)\n",
    "ct = ct.astype('bool')"
   ]
  },
  {
   "cell_type": "code",
   "execution_count": 125,
   "metadata": {},
   "outputs": [
    {
     "data": {
      "text/html": [
       "<div>\n",
       "<style scoped>\n",
       "    .dataframe tbody tr th:only-of-type {\n",
       "        vertical-align: middle;\n",
       "    }\n",
       "\n",
       "    .dataframe tbody tr th {\n",
       "        vertical-align: top;\n",
       "    }\n",
       "\n",
       "    .dataframe thead th {\n",
       "        text-align: right;\n",
       "    }\n",
       "</style>\n",
       "<table border=\"1\" class=\"dataframe\">\n",
       "  <thead>\n",
       "    <tr style=\"text-align: right;\">\n",
       "      <th></th>\n",
       "      <th>support</th>\n",
       "      <th>itemsets</th>\n",
       "      <th>length</th>\n",
       "    </tr>\n",
       "  </thead>\n",
       "  <tbody>\n",
       "    <tr>\n",
       "      <th>0</th>\n",
       "      <td>0.414098</td>\n",
       "      <td>(Thursday)</td>\n",
       "      <td>1</td>\n",
       "    </tr>\n",
       "    <tr>\n",
       "      <th>1</th>\n",
       "      <td>0.404466</td>\n",
       "      <td>(Tuesday)</td>\n",
       "      <td>1</td>\n",
       "    </tr>\n",
       "    <tr>\n",
       "      <th>2</th>\n",
       "      <td>0.416982</td>\n",
       "      <td>(Wednesday)</td>\n",
       "      <td>1</td>\n",
       "    </tr>\n",
       "  </tbody>\n",
       "</table>\n",
       "</div>"
      ],
      "text/plain": [
       "    support     itemsets  length\n",
       "0  0.414098   (Thursday)       1\n",
       "1  0.404466    (Tuesday)       1\n",
       "2  0.416982  (Wednesday)       1"
      ]
     },
     "execution_count": 125,
     "metadata": {},
     "output_type": "execute_result"
    }
   ],
   "source": [
    "from mlxtend.frequent_patterns import apriori \n",
    "\n",
    "frequent_itemsets = apriori(ct, min_support=0.4, use_colnames=True)\n",
    "frequent_itemsets['length'] = frequent_itemsets['itemsets'].apply(lambda x: len(x))\n",
    "frequent_itemsets"
   ]
  },
  {
   "cell_type": "code",
   "execution_count": 126,
   "metadata": {},
   "outputs": [],
   "source": [
    "result = columna_por_persona_new(ct)"
   ]
  },
  {
   "cell_type": "code",
   "execution_count": 127,
   "metadata": {},
   "outputs": [
    {
     "data": {
      "text/plain": [
       "38829"
      ]
     },
     "execution_count": 127,
     "metadata": {},
     "output_type": "execute_result"
    }
   ],
   "source": [
    "lista_support = asignar_support(result, frequent_itemsets)\n",
    "len(lista_support)"
   ]
  },
  {
   "cell_type": "code",
   "execution_count": 128,
   "metadata": {},
   "outputs": [
    {
     "data": {
      "text/plain": [
       "38829"
      ]
     },
     "execution_count": 128,
     "metadata": {},
     "output_type": "execute_result"
    }
   ],
   "source": [
    "lista_personas = lista_personas_f(result)\n",
    "len(lista_personas)"
   ]
  },
  {
   "cell_type": "code",
   "execution_count": 129,
   "metadata": {},
   "outputs": [],
   "source": [
    "d = {'person': lista_personas, 'weekday_support': lista_support}\n",
    "df = pd.DataFrame(data=d)"
   ]
  },
  {
   "cell_type": "code",
   "execution_count": 130,
   "metadata": {},
   "outputs": [
    {
     "data": {
      "text/html": [
       "<div>\n",
       "<style scoped>\n",
       "    .dataframe tbody tr th:only-of-type {\n",
       "        vertical-align: middle;\n",
       "    }\n",
       "\n",
       "    .dataframe tbody tr th {\n",
       "        vertical-align: top;\n",
       "    }\n",
       "\n",
       "    .dataframe thead th {\n",
       "        text-align: right;\n",
       "    }\n",
       "</style>\n",
       "<table border=\"1\" class=\"dataframe\">\n",
       "  <thead>\n",
       "    <tr style=\"text-align: right;\">\n",
       "      <th></th>\n",
       "      <th>person</th>\n",
       "      <th>cant_eventos_totales</th>\n",
       "      <th>q9</th>\n",
       "      <th>q10</th>\n",
       "      <th>cant_ach</th>\n",
       "      <th>cant_bl</th>\n",
       "      <th>cant_ch</th>\n",
       "      <th>cant_cv</th>\n",
       "      <th>cant_gl</th>\n",
       "      <th>cant_seh</th>\n",
       "      <th>cant_s_p</th>\n",
       "      <th>cant_sp</th>\n",
       "      <th>cant_vp</th>\n",
       "      <th>cant_vs</th>\n",
       "      <th>url_support</th>\n",
       "      <th>weekday_support</th>\n",
       "    </tr>\n",
       "  </thead>\n",
       "  <tbody>\n",
       "    <tr>\n",
       "      <th>0</th>\n",
       "      <td>4886f805</td>\n",
       "      <td>9</td>\n",
       "      <td>False</td>\n",
       "      <td>True</td>\n",
       "      <td>NaN</td>\n",
       "      <td>NaN</td>\n",
       "      <td>1.0</td>\n",
       "      <td>NaN</td>\n",
       "      <td>1.0</td>\n",
       "      <td>1.0</td>\n",
       "      <td>1.0</td>\n",
       "      <td>NaN</td>\n",
       "      <td>4.0</td>\n",
       "      <td>1.0</td>\n",
       "      <td>NaN</td>\n",
       "      <td>0.0</td>\n",
       "    </tr>\n",
       "    <tr>\n",
       "      <th>1</th>\n",
       "      <td>ad93850f</td>\n",
       "      <td>65</td>\n",
       "      <td>True</td>\n",
       "      <td>True</td>\n",
       "      <td>10.0</td>\n",
       "      <td>15.0</td>\n",
       "      <td>1.0</td>\n",
       "      <td>NaN</td>\n",
       "      <td>7.0</td>\n",
       "      <td>7.0</td>\n",
       "      <td>NaN</td>\n",
       "      <td>NaN</td>\n",
       "      <td>20.0</td>\n",
       "      <td>5.0</td>\n",
       "      <td>0.010064</td>\n",
       "      <td>0.0</td>\n",
       "    </tr>\n",
       "    <tr>\n",
       "      <th>2</th>\n",
       "      <td>0297fc1e</td>\n",
       "      <td>567</td>\n",
       "      <td>True</td>\n",
       "      <td>True</td>\n",
       "      <td>29.0</td>\n",
       "      <td>4.0</td>\n",
       "      <td>7.0</td>\n",
       "      <td>NaN</td>\n",
       "      <td>21.0</td>\n",
       "      <td>NaN</td>\n",
       "      <td>6.0</td>\n",
       "      <td>NaN</td>\n",
       "      <td>404.0</td>\n",
       "      <td>95.0</td>\n",
       "      <td>0.000000</td>\n",
       "      <td>0.0</td>\n",
       "    </tr>\n",
       "  </tbody>\n",
       "</table>\n",
       "</div>"
      ],
      "text/plain": [
       "     person  cant_eventos_totales     q9   q10  cant_ach  cant_bl  cant_ch  \\\n",
       "0  4886f805                     9  False  True       NaN      NaN      1.0   \n",
       "1  ad93850f                    65   True  True      10.0     15.0      1.0   \n",
       "2  0297fc1e                   567   True  True      29.0      4.0      7.0   \n",
       "\n",
       "   cant_cv  cant_gl  cant_seh  cant_s_p  cant_sp  cant_vp  cant_vs  \\\n",
       "0      NaN      1.0       1.0       1.0      NaN      4.0      1.0   \n",
       "1      NaN      7.0       7.0       NaN      NaN     20.0      5.0   \n",
       "2      NaN     21.0       NaN       6.0      NaN    404.0     95.0   \n",
       "\n",
       "   url_support  weekday_support  \n",
       "0          NaN              0.0  \n",
       "1     0.010064              0.0  \n",
       "2     0.000000              0.0  "
      ]
     },
     "execution_count": 130,
     "metadata": {},
     "output_type": "execute_result"
    }
   ],
   "source": [
    "features_df = features_df.join(df.set_index('person'), on='person', how='left')\n",
    "features_df.head(3)"
   ]
  },
  {
   "cell_type": "markdown",
   "metadata": {},
   "source": [
    "## Supports "
   ]
  },
  {
   "cell_type": "code",
   "execution_count": 77,
   "metadata": {},
   "outputs": [],
   "source": [
    "## url\n",
    "\n",
    "ct = pd.crosstab(events_df.person, events_df.url)\n",
    "ct = ct.astype('bool')"
   ]
  },
  {
   "cell_type": "code",
   "execution_count": 78,
   "metadata": {},
   "outputs": [
    {
     "data": {
      "text/html": [
       "<div>\n",
       "<style scoped>\n",
       "    .dataframe tbody tr th:only-of-type {\n",
       "        vertical-align: middle;\n",
       "    }\n",
       "\n",
       "    .dataframe tbody tr th {\n",
       "        vertical-align: top;\n",
       "    }\n",
       "\n",
       "    .dataframe thead th {\n",
       "        text-align: right;\n",
       "    }\n",
       "</style>\n",
       "<table border=\"1\" class=\"dataframe\">\n",
       "  <thead>\n",
       "    <tr style=\"text-align: right;\">\n",
       "      <th></th>\n",
       "      <th>support</th>\n",
       "      <th>itemsets</th>\n",
       "      <th>length</th>\n",
       "    </tr>\n",
       "  </thead>\n",
       "  <tbody>\n",
       "    <tr>\n",
       "      <th>0</th>\n",
       "      <td>0.518247</td>\n",
       "      <td>(/)</td>\n",
       "      <td>1</td>\n",
       "    </tr>\n",
       "    <tr>\n",
       "      <th>1</th>\n",
       "      <td>0.080857</td>\n",
       "      <td>(/comprar/iphone)</td>\n",
       "      <td>1</td>\n",
       "    </tr>\n",
       "    <tr>\n",
       "      <th>2</th>\n",
       "      <td>0.012823</td>\n",
       "      <td>(/comprar/iphone/)</td>\n",
       "      <td>1</td>\n",
       "    </tr>\n",
       "    <tr>\n",
       "      <th>3</th>\n",
       "      <td>0.099386</td>\n",
       "      <td>(/comprar/iphone/6)</td>\n",
       "      <td>1</td>\n",
       "    </tr>\n",
       "    <tr>\n",
       "      <th>4</th>\n",
       "      <td>0.016961</td>\n",
       "      <td>(/comprar/iphone/6-plus)</td>\n",
       "      <td>1</td>\n",
       "    </tr>\n",
       "  </tbody>\n",
       "</table>\n",
       "</div>"
      ],
      "text/plain": [
       "    support                  itemsets  length\n",
       "0  0.518247                       (/)       1\n",
       "1  0.080857         (/comprar/iphone)       1\n",
       "2  0.012823        (/comprar/iphone/)       1\n",
       "3  0.099386       (/comprar/iphone/6)       1\n",
       "4  0.016961  (/comprar/iphone/6-plus)       1"
      ]
     },
     "execution_count": 78,
     "metadata": {},
     "output_type": "execute_result"
    }
   ],
   "source": [
    "from mlxtend.frequent_patterns import apriori \n",
    "frequent_itemsets = apriori(ct, min_support=0.01, use_colnames=True)\n",
    "frequent_itemsets['length'] = frequent_itemsets['itemsets'].apply(lambda x: len(x))\n",
    "frequent_itemsets.head()"
   ]
  },
  {
   "cell_type": "code",
   "execution_count": 79,
   "metadata": {},
   "outputs": [],
   "source": [
    "def columna_por_persona(crosstab):\n",
    "    diccionario = {}\n",
    "    for person in crosstab.index :\n",
    "        #print(person)\n",
    "        lista_value = list()\n",
    "        for value in crosstab.columns :\n",
    "            if crosstab.loc[person, value] > 0 :\n",
    "                lista_value.append(value)\n",
    "        values = frozenset(lista_value)        \n",
    "        diccionario[person] = values                \n",
    "    return diccionario"
   ]
  },
  {
   "cell_type": "code",
   "execution_count": 80,
   "metadata": {},
   "outputs": [],
   "source": [
    "result = columna_por_persona(ct)"
   ]
  },
  {
   "cell_type": "code",
   "execution_count": 81,
   "metadata": {},
   "outputs": [],
   "source": [
    "#Algoritmo para asignarle el support a la persona segun sus eventos(Toma todos los ev realizados por la persona)\n",
    "#Result es lo que devuelve storage por persona\n",
    "def asignar_support(result, frequent_itemsets):\n",
    "    lista_support = list()\n",
    "    for value in result.values() :\n",
    "        #print(value)\n",
    "        support_value = obtener_support(value, frequent_itemsets)\n",
    "        #print(support_value)\n",
    "        lista_support.append(support_value)\n",
    "    return lista_support   "
   ]
  },
  {
   "cell_type": "code",
   "execution_count": 82,
   "metadata": {},
   "outputs": [],
   "source": [
    "def obtener_support(nupla, frequent_itemsets):\n",
    "    if( len(frequent_itemsets.loc[ frequent_itemsets['itemsets']==nupla ].support.values) == 0 ):\n",
    "        return 0;\n",
    "    support_value = frequent_itemsets.loc[ frequent_itemsets['itemsets']==nupla ].support.values[0]\n",
    "    return support_value "
   ]
  },
  {
   "cell_type": "code",
   "execution_count": 83,
   "metadata": {},
   "outputs": [
    {
     "data": {
      "text/plain": [
       "31896"
      ]
     },
     "execution_count": 83,
     "metadata": {},
     "output_type": "execute_result"
    }
   ],
   "source": [
    "lista_support = asignar_support(result, frequent_itemsets)\n",
    "len(lista_support)"
   ]
  },
  {
   "cell_type": "code",
   "execution_count": 84,
   "metadata": {},
   "outputs": [],
   "source": [
    "def lista_personas_f(result):\n",
    "    lista_personas = list()\n",
    "    for key in result.keys():\n",
    "        lista_personas.append(key)\n",
    "    return lista_personas "
   ]
  },
  {
   "cell_type": "code",
   "execution_count": 85,
   "metadata": {},
   "outputs": [
    {
     "data": {
      "text/plain": [
       "31896"
      ]
     },
     "execution_count": 85,
     "metadata": {},
     "output_type": "execute_result"
    }
   ],
   "source": [
    "lista_personas = lista_personas_f(result)\n",
    "len(lista_personas)"
   ]
  },
  {
   "cell_type": "code",
   "execution_count": 86,
   "metadata": {},
   "outputs": [],
   "source": [
    "d = {'person': lista_personas, 'url_support': lista_support}\n",
    "df = pd.DataFrame(data=d)"
   ]
  },
  {
   "cell_type": "code",
   "execution_count": 87,
   "metadata": {},
   "outputs": [
    {
     "data": {
      "text/html": [
       "<div>\n",
       "<style scoped>\n",
       "    .dataframe tbody tr th:only-of-type {\n",
       "        vertical-align: middle;\n",
       "    }\n",
       "\n",
       "    .dataframe tbody tr th {\n",
       "        vertical-align: top;\n",
       "    }\n",
       "\n",
       "    .dataframe thead th {\n",
       "        text-align: right;\n",
       "    }\n",
       "</style>\n",
       "<table border=\"1\" class=\"dataframe\">\n",
       "  <thead>\n",
       "    <tr style=\"text-align: right;\">\n",
       "      <th></th>\n",
       "      <th>person</th>\n",
       "      <th>cant_eventos_totales</th>\n",
       "      <th>q1</th>\n",
       "      <th>q2</th>\n",
       "      <th>q3</th>\n",
       "      <th>q4</th>\n",
       "      <th>q5</th>\n",
       "      <th>q6</th>\n",
       "      <th>q7</th>\n",
       "      <th>q8</th>\n",
       "      <th>...</th>\n",
       "      <th>cant_bl</th>\n",
       "      <th>cant_ch</th>\n",
       "      <th>cant_cv</th>\n",
       "      <th>cant_gl</th>\n",
       "      <th>cant_seh</th>\n",
       "      <th>cant_s_p</th>\n",
       "      <th>cant_sp</th>\n",
       "      <th>cant_vp</th>\n",
       "      <th>cant_vs</th>\n",
       "      <th>url_support</th>\n",
       "    </tr>\n",
       "  </thead>\n",
       "  <tbody>\n",
       "    <tr>\n",
       "      <th>0</th>\n",
       "      <td>4886f805</td>\n",
       "      <td>9</td>\n",
       "      <td>False</td>\n",
       "      <td>False</td>\n",
       "      <td>False</td>\n",
       "      <td>False</td>\n",
       "      <td>False</td>\n",
       "      <td>False</td>\n",
       "      <td>False</td>\n",
       "      <td>False</td>\n",
       "      <td>...</td>\n",
       "      <td>NaN</td>\n",
       "      <td>1.0</td>\n",
       "      <td>NaN</td>\n",
       "      <td>1.0</td>\n",
       "      <td>1.0</td>\n",
       "      <td>1.0</td>\n",
       "      <td>NaN</td>\n",
       "      <td>4.0</td>\n",
       "      <td>1.0</td>\n",
       "      <td>NaN</td>\n",
       "    </tr>\n",
       "    <tr>\n",
       "      <th>1</th>\n",
       "      <td>ad93850f</td>\n",
       "      <td>65</td>\n",
       "      <td>False</td>\n",
       "      <td>False</td>\n",
       "      <td>False</td>\n",
       "      <td>False</td>\n",
       "      <td>False</td>\n",
       "      <td>False</td>\n",
       "      <td>False</td>\n",
       "      <td>False</td>\n",
       "      <td>...</td>\n",
       "      <td>15.0</td>\n",
       "      <td>1.0</td>\n",
       "      <td>NaN</td>\n",
       "      <td>7.0</td>\n",
       "      <td>7.0</td>\n",
       "      <td>NaN</td>\n",
       "      <td>NaN</td>\n",
       "      <td>20.0</td>\n",
       "      <td>5.0</td>\n",
       "      <td>0.010064</td>\n",
       "    </tr>\n",
       "    <tr>\n",
       "      <th>2</th>\n",
       "      <td>0297fc1e</td>\n",
       "      <td>567</td>\n",
       "      <td>True</td>\n",
       "      <td>True</td>\n",
       "      <td>True</td>\n",
       "      <td>True</td>\n",
       "      <td>True</td>\n",
       "      <td>True</td>\n",
       "      <td>True</td>\n",
       "      <td>True</td>\n",
       "      <td>...</td>\n",
       "      <td>4.0</td>\n",
       "      <td>7.0</td>\n",
       "      <td>NaN</td>\n",
       "      <td>21.0</td>\n",
       "      <td>NaN</td>\n",
       "      <td>6.0</td>\n",
       "      <td>NaN</td>\n",
       "      <td>404.0</td>\n",
       "      <td>95.0</td>\n",
       "      <td>0.000000</td>\n",
       "    </tr>\n",
       "  </tbody>\n",
       "</table>\n",
       "<p>3 rows × 23 columns</p>\n",
       "</div>"
      ],
      "text/plain": [
       "     person  cant_eventos_totales     q1     q2     q3     q4     q5     q6  \\\n",
       "0  4886f805                     9  False  False  False  False  False  False   \n",
       "1  ad93850f                    65  False  False  False  False  False  False   \n",
       "2  0297fc1e                   567   True   True   True   True   True   True   \n",
       "\n",
       "      q7     q8     ...       cant_bl  cant_ch  cant_cv  cant_gl  cant_seh  \\\n",
       "0  False  False     ...           NaN      1.0      NaN      1.0       1.0   \n",
       "1  False  False     ...          15.0      1.0      NaN      7.0       7.0   \n",
       "2   True   True     ...           4.0      7.0      NaN     21.0       NaN   \n",
       "\n",
       "   cant_s_p  cant_sp  cant_vp  cant_vs  url_support  \n",
       "0       1.0      NaN      4.0      1.0          NaN  \n",
       "1       NaN      NaN     20.0      5.0     0.010064  \n",
       "2       6.0      NaN    404.0     95.0     0.000000  \n",
       "\n",
       "[3 rows x 23 columns]"
      ]
     },
     "execution_count": 87,
     "metadata": {},
     "output_type": "execute_result"
    }
   ],
   "source": [
    "features_df = features_df.join(df.set_index('person'), on='person', how='left')\n",
    "features_df.head(3)"
   ]
  },
  {
   "cell_type": "code",
   "execution_count": null,
   "metadata": {},
   "outputs": [],
   "source": [
    "#sku (no, mucho por procesar)\n",
    "\n",
    "ct = pd.crosstab(events_df.person, events_df.sku)\n",
    "ct = ct.astype('bool')"
   ]
  },
  {
   "cell_type": "code",
   "execution_count": null,
   "metadata": {},
   "outputs": [],
   "source": [
    "frequent_itemsets = apriori(ct, min_support=0.05, use_colnames=True)\n",
    "frequent_itemsets['length'] = frequent_itemsets['itemsets'].apply(lambda x: len(x))\n",
    "frequent_itemsets.head()"
   ]
  },
  {
   "cell_type": "code",
   "execution_count": null,
   "metadata": {},
   "outputs": [],
   "source": [
    "result = columna_por_persona(ct)\n",
    "result.shape"
   ]
  },
  {
   "cell_type": "code",
   "execution_count": null,
   "metadata": {},
   "outputs": [],
   "source": [
    "lista_support = asignar_support(result, frequent_itemsets)\n",
    "len(lista_support)"
   ]
  },
  {
   "cell_type": "code",
   "execution_count": null,
   "metadata": {},
   "outputs": [],
   "source": [
    "lista_personas = lista_personas_f(result)\n",
    "len(lista_personas)"
   ]
  },
  {
   "cell_type": "code",
   "execution_count": null,
   "metadata": {},
   "outputs": [],
   "source": [
    "d = {'person': lista_personas, 'weekday_support': lista_support}\n",
    "df = pd.DataFrame(data=d)"
   ]
  },
  {
   "cell_type": "code",
   "execution_count": null,
   "metadata": {},
   "outputs": [],
   "source": [
    "features_df = features_df.join(df.set_index('person'), on='person', how='left')\n",
    "features_df.head(3)"
   ]
  },
  {
   "cell_type": "code",
   "execution_count": 132,
   "metadata": {},
   "outputs": [],
   "source": [
    "# model\n",
    "\n",
    "ct = pd.crosstab(events_df.person, events_df.model)\n",
    "ct = ct.astype('bool')"
   ]
  },
  {
   "cell_type": "code",
   "execution_count": 133,
   "metadata": {},
   "outputs": [
    {
     "data": {
      "text/plain": [
       "(38256, 208)"
      ]
     },
     "execution_count": 133,
     "metadata": {},
     "output_type": "execute_result"
    }
   ],
   "source": [
    "ct.shape"
   ]
  },
  {
   "cell_type": "code",
   "execution_count": 134,
   "metadata": {},
   "outputs": [
    {
     "data": {
      "text/html": [
       "<div>\n",
       "<style scoped>\n",
       "    .dataframe tbody tr th:only-of-type {\n",
       "        vertical-align: middle;\n",
       "    }\n",
       "\n",
       "    .dataframe tbody tr th {\n",
       "        vertical-align: top;\n",
       "    }\n",
       "\n",
       "    .dataframe thead th {\n",
       "        text-align: right;\n",
       "    }\n",
       "</style>\n",
       "<table border=\"1\" class=\"dataframe\">\n",
       "  <thead>\n",
       "    <tr style=\"text-align: right;\">\n",
       "      <th></th>\n",
       "      <th>support</th>\n",
       "      <th>itemsets</th>\n",
       "      <th>length</th>\n",
       "    </tr>\n",
       "  </thead>\n",
       "  <tbody>\n",
       "    <tr>\n",
       "      <th>0</th>\n",
       "      <td>0.132136</td>\n",
       "      <td>(Samsung Galaxy J5)</td>\n",
       "      <td>1</td>\n",
       "    </tr>\n",
       "    <tr>\n",
       "      <th>1</th>\n",
       "      <td>0.105369</td>\n",
       "      <td>(Samsung Galaxy J7 Prime)</td>\n",
       "      <td>1</td>\n",
       "    </tr>\n",
       "    <tr>\n",
       "      <th>2</th>\n",
       "      <td>0.105395</td>\n",
       "      <td>(Samsung Galaxy S6 Edge)</td>\n",
       "      <td>1</td>\n",
       "    </tr>\n",
       "    <tr>\n",
       "      <th>3</th>\n",
       "      <td>0.127614</td>\n",
       "      <td>(Samsung Galaxy S6 Flat)</td>\n",
       "      <td>1</td>\n",
       "    </tr>\n",
       "    <tr>\n",
       "      <th>4</th>\n",
       "      <td>0.157256</td>\n",
       "      <td>(Samsung Galaxy S7)</td>\n",
       "      <td>1</td>\n",
       "    </tr>\n",
       "  </tbody>\n",
       "</table>\n",
       "</div>"
      ],
      "text/plain": [
       "    support                   itemsets  length\n",
       "0  0.132136        (Samsung Galaxy J5)       1\n",
       "1  0.105369  (Samsung Galaxy J7 Prime)       1\n",
       "2  0.105395   (Samsung Galaxy S6 Edge)       1\n",
       "3  0.127614   (Samsung Galaxy S6 Flat)       1\n",
       "4  0.157256        (Samsung Galaxy S7)       1"
      ]
     },
     "execution_count": 134,
     "metadata": {},
     "output_type": "execute_result"
    }
   ],
   "source": [
    "from mlxtend.frequent_patterns import apriori \n",
    "frequent_itemsets = apriori(ct, min_support=0.1, use_colnames=True)\n",
    "frequent_itemsets['length'] = frequent_itemsets['itemsets'].apply(lambda x: len(x))\n",
    "frequent_itemsets.head()"
   ]
  },
  {
   "cell_type": "code",
   "execution_count": 135,
   "metadata": {},
   "outputs": [],
   "source": [
    "result = columna_por_persona(ct)"
   ]
  },
  {
   "cell_type": "code",
   "execution_count": 136,
   "metadata": {},
   "outputs": [
    {
     "data": {
      "text/plain": [
       "38256"
      ]
     },
     "execution_count": 136,
     "metadata": {},
     "output_type": "execute_result"
    }
   ],
   "source": [
    "len(result)"
   ]
  },
  {
   "cell_type": "code",
   "execution_count": 137,
   "metadata": {},
   "outputs": [
    {
     "data": {
      "text/plain": [
       "(38829, 16)"
      ]
     },
     "execution_count": 137,
     "metadata": {},
     "output_type": "execute_result"
    }
   ],
   "source": [
    "features_df.shape"
   ]
  },
  {
   "cell_type": "code",
   "execution_count": 138,
   "metadata": {},
   "outputs": [
    {
     "data": {
      "text/plain": [
       "38256"
      ]
     },
     "execution_count": 138,
     "metadata": {},
     "output_type": "execute_result"
    }
   ],
   "source": [
    "lista_support = asignar_support(result, frequent_itemsets)\n",
    "len(lista_support)"
   ]
  },
  {
   "cell_type": "code",
   "execution_count": 139,
   "metadata": {},
   "outputs": [
    {
     "data": {
      "text/plain": [
       "38256"
      ]
     },
     "execution_count": 139,
     "metadata": {},
     "output_type": "execute_result"
    }
   ],
   "source": [
    "lista_personas = lista_personas_f(result)\n",
    "len(lista_personas)"
   ]
  },
  {
   "cell_type": "code",
   "execution_count": 140,
   "metadata": {},
   "outputs": [],
   "source": [
    "d = {'person': lista_personas, 'model_support': lista_support}\n",
    "df = pd.DataFrame(data=d)"
   ]
  },
  {
   "cell_type": "code",
   "execution_count": 141,
   "metadata": {},
   "outputs": [
    {
     "data": {
      "text/html": [
       "<div>\n",
       "<style scoped>\n",
       "    .dataframe tbody tr th:only-of-type {\n",
       "        vertical-align: middle;\n",
       "    }\n",
       "\n",
       "    .dataframe tbody tr th {\n",
       "        vertical-align: top;\n",
       "    }\n",
       "\n",
       "    .dataframe thead th {\n",
       "        text-align: right;\n",
       "    }\n",
       "</style>\n",
       "<table border=\"1\" class=\"dataframe\">\n",
       "  <thead>\n",
       "    <tr style=\"text-align: right;\">\n",
       "      <th></th>\n",
       "      <th>person</th>\n",
       "      <th>cant_eventos_totales</th>\n",
       "      <th>q9</th>\n",
       "      <th>q10</th>\n",
       "      <th>cant_ach</th>\n",
       "      <th>cant_bl</th>\n",
       "      <th>cant_ch</th>\n",
       "      <th>cant_cv</th>\n",
       "      <th>cant_gl</th>\n",
       "      <th>cant_seh</th>\n",
       "      <th>cant_s_p</th>\n",
       "      <th>cant_sp</th>\n",
       "      <th>cant_vp</th>\n",
       "      <th>cant_vs</th>\n",
       "      <th>url_support</th>\n",
       "      <th>weekday_support</th>\n",
       "      <th>model_support</th>\n",
       "    </tr>\n",
       "  </thead>\n",
       "  <tbody>\n",
       "    <tr>\n",
       "      <th>0</th>\n",
       "      <td>4886f805</td>\n",
       "      <td>9</td>\n",
       "      <td>False</td>\n",
       "      <td>True</td>\n",
       "      <td>NaN</td>\n",
       "      <td>NaN</td>\n",
       "      <td>1.0</td>\n",
       "      <td>NaN</td>\n",
       "      <td>1.0</td>\n",
       "      <td>1.0</td>\n",
       "      <td>1.0</td>\n",
       "      <td>NaN</td>\n",
       "      <td>4.0</td>\n",
       "      <td>1.0</td>\n",
       "      <td>NaN</td>\n",
       "      <td>0.0</td>\n",
       "      <td>0.105369</td>\n",
       "    </tr>\n",
       "    <tr>\n",
       "      <th>1</th>\n",
       "      <td>ad93850f</td>\n",
       "      <td>65</td>\n",
       "      <td>True</td>\n",
       "      <td>True</td>\n",
       "      <td>10.0</td>\n",
       "      <td>15.0</td>\n",
       "      <td>1.0</td>\n",
       "      <td>NaN</td>\n",
       "      <td>7.0</td>\n",
       "      <td>7.0</td>\n",
       "      <td>NaN</td>\n",
       "      <td>NaN</td>\n",
       "      <td>20.0</td>\n",
       "      <td>5.0</td>\n",
       "      <td>0.010064</td>\n",
       "      <td>0.0</td>\n",
       "      <td>0.000000</td>\n",
       "    </tr>\n",
       "    <tr>\n",
       "      <th>2</th>\n",
       "      <td>0297fc1e</td>\n",
       "      <td>567</td>\n",
       "      <td>True</td>\n",
       "      <td>True</td>\n",
       "      <td>29.0</td>\n",
       "      <td>4.0</td>\n",
       "      <td>7.0</td>\n",
       "      <td>NaN</td>\n",
       "      <td>21.0</td>\n",
       "      <td>NaN</td>\n",
       "      <td>6.0</td>\n",
       "      <td>NaN</td>\n",
       "      <td>404.0</td>\n",
       "      <td>95.0</td>\n",
       "      <td>0.000000</td>\n",
       "      <td>0.0</td>\n",
       "      <td>0.000000</td>\n",
       "    </tr>\n",
       "  </tbody>\n",
       "</table>\n",
       "</div>"
      ],
      "text/plain": [
       "     person  cant_eventos_totales     q9   q10  cant_ach  cant_bl  cant_ch  \\\n",
       "0  4886f805                     9  False  True       NaN      NaN      1.0   \n",
       "1  ad93850f                    65   True  True      10.0     15.0      1.0   \n",
       "2  0297fc1e                   567   True  True      29.0      4.0      7.0   \n",
       "\n",
       "   cant_cv  cant_gl  cant_seh  cant_s_p  cant_sp  cant_vp  cant_vs  \\\n",
       "0      NaN      1.0       1.0       1.0      NaN      4.0      1.0   \n",
       "1      NaN      7.0       7.0       NaN      NaN     20.0      5.0   \n",
       "2      NaN     21.0       NaN       6.0      NaN    404.0     95.0   \n",
       "\n",
       "   url_support  weekday_support  model_support  \n",
       "0          NaN              0.0       0.105369  \n",
       "1     0.010064              0.0       0.000000  \n",
       "2     0.000000              0.0       0.000000  "
      ]
     },
     "execution_count": 141,
     "metadata": {},
     "output_type": "execute_result"
    }
   ],
   "source": [
    "features_df = features_df.join(df.set_index('person'), on='person', how='left')\n",
    "features_df.head(3)"
   ]
  },
  {
   "cell_type": "code",
   "execution_count": 142,
   "metadata": {},
   "outputs": [],
   "source": [
    "result = columna_por_persona_new(ct)"
   ]
  },
  {
   "cell_type": "code",
   "execution_count": 143,
   "metadata": {},
   "outputs": [
    {
     "data": {
      "text/plain": [
       "38256"
      ]
     },
     "execution_count": 143,
     "metadata": {},
     "output_type": "execute_result"
    }
   ],
   "source": [
    "len(result)"
   ]
  },
  {
   "cell_type": "code",
   "execution_count": 144,
   "metadata": {},
   "outputs": [
    {
     "data": {
      "text/plain": [
       "38256"
      ]
     },
     "execution_count": 144,
     "metadata": {},
     "output_type": "execute_result"
    }
   ],
   "source": [
    "lista_support = asignar_support(result, frequent_itemsets)\n",
    "len(lista_support)"
   ]
  },
  {
   "cell_type": "code",
   "execution_count": 145,
   "metadata": {},
   "outputs": [
    {
     "data": {
      "text/plain": [
       "38256"
      ]
     },
     "execution_count": 145,
     "metadata": {},
     "output_type": "execute_result"
    }
   ],
   "source": [
    "lista_personas = lista_personas_f(result)\n",
    "len(lista_personas)"
   ]
  },
  {
   "cell_type": "code",
   "execution_count": 146,
   "metadata": {},
   "outputs": [],
   "source": [
    "d = {'person': lista_personas, 'model_ind_support': lista_support}\n",
    "df = pd.DataFrame(data=d)"
   ]
  },
  {
   "cell_type": "code",
   "execution_count": 147,
   "metadata": {},
   "outputs": [
    {
     "data": {
      "text/html": [
       "<div>\n",
       "<style scoped>\n",
       "    .dataframe tbody tr th:only-of-type {\n",
       "        vertical-align: middle;\n",
       "    }\n",
       "\n",
       "    .dataframe tbody tr th {\n",
       "        vertical-align: top;\n",
       "    }\n",
       "\n",
       "    .dataframe thead th {\n",
       "        text-align: right;\n",
       "    }\n",
       "</style>\n",
       "<table border=\"1\" class=\"dataframe\">\n",
       "  <thead>\n",
       "    <tr style=\"text-align: right;\">\n",
       "      <th></th>\n",
       "      <th>person</th>\n",
       "      <th>cant_eventos_totales</th>\n",
       "      <th>q9</th>\n",
       "      <th>q10</th>\n",
       "      <th>cant_ach</th>\n",
       "      <th>cant_bl</th>\n",
       "      <th>cant_ch</th>\n",
       "      <th>cant_cv</th>\n",
       "      <th>cant_gl</th>\n",
       "      <th>cant_seh</th>\n",
       "      <th>cant_s_p</th>\n",
       "      <th>cant_sp</th>\n",
       "      <th>cant_vp</th>\n",
       "      <th>cant_vs</th>\n",
       "      <th>url_support</th>\n",
       "      <th>weekday_support</th>\n",
       "      <th>model_support</th>\n",
       "      <th>model_ind_support</th>\n",
       "    </tr>\n",
       "  </thead>\n",
       "  <tbody>\n",
       "    <tr>\n",
       "      <th>0</th>\n",
       "      <td>4886f805</td>\n",
       "      <td>9</td>\n",
       "      <td>False</td>\n",
       "      <td>True</td>\n",
       "      <td>NaN</td>\n",
       "      <td>NaN</td>\n",
       "      <td>1.0</td>\n",
       "      <td>NaN</td>\n",
       "      <td>1.0</td>\n",
       "      <td>1.0</td>\n",
       "      <td>1.0</td>\n",
       "      <td>NaN</td>\n",
       "      <td>4.0</td>\n",
       "      <td>1.0</td>\n",
       "      <td>NaN</td>\n",
       "      <td>0.0</td>\n",
       "      <td>0.105369</td>\n",
       "      <td>0.105369</td>\n",
       "    </tr>\n",
       "    <tr>\n",
       "      <th>1</th>\n",
       "      <td>ad93850f</td>\n",
       "      <td>65</td>\n",
       "      <td>True</td>\n",
       "      <td>True</td>\n",
       "      <td>10.0</td>\n",
       "      <td>15.0</td>\n",
       "      <td>1.0</td>\n",
       "      <td>NaN</td>\n",
       "      <td>7.0</td>\n",
       "      <td>7.0</td>\n",
       "      <td>NaN</td>\n",
       "      <td>NaN</td>\n",
       "      <td>20.0</td>\n",
       "      <td>5.0</td>\n",
       "      <td>0.010064</td>\n",
       "      <td>0.0</td>\n",
       "      <td>0.000000</td>\n",
       "      <td>0.000000</td>\n",
       "    </tr>\n",
       "    <tr>\n",
       "      <th>2</th>\n",
       "      <td>0297fc1e</td>\n",
       "      <td>567</td>\n",
       "      <td>True</td>\n",
       "      <td>True</td>\n",
       "      <td>29.0</td>\n",
       "      <td>4.0</td>\n",
       "      <td>7.0</td>\n",
       "      <td>NaN</td>\n",
       "      <td>21.0</td>\n",
       "      <td>NaN</td>\n",
       "      <td>6.0</td>\n",
       "      <td>NaN</td>\n",
       "      <td>404.0</td>\n",
       "      <td>95.0</td>\n",
       "      <td>0.000000</td>\n",
       "      <td>0.0</td>\n",
       "      <td>0.000000</td>\n",
       "      <td>0.142095</td>\n",
       "    </tr>\n",
       "  </tbody>\n",
       "</table>\n",
       "</div>"
      ],
      "text/plain": [
       "     person  cant_eventos_totales     q9   q10  cant_ach  cant_bl  cant_ch  \\\n",
       "0  4886f805                     9  False  True       NaN      NaN      1.0   \n",
       "1  ad93850f                    65   True  True      10.0     15.0      1.0   \n",
       "2  0297fc1e                   567   True  True      29.0      4.0      7.0   \n",
       "\n",
       "   cant_cv  cant_gl  cant_seh  cant_s_p  cant_sp  cant_vp  cant_vs  \\\n",
       "0      NaN      1.0       1.0       1.0      NaN      4.0      1.0   \n",
       "1      NaN      7.0       7.0       NaN      NaN     20.0      5.0   \n",
       "2      NaN     21.0       NaN       6.0      NaN    404.0     95.0   \n",
       "\n",
       "   url_support  weekday_support  model_support  model_ind_support  \n",
       "0          NaN              0.0       0.105369           0.105369  \n",
       "1     0.010064              0.0       0.000000           0.000000  \n",
       "2     0.000000              0.0       0.000000           0.142095  "
      ]
     },
     "execution_count": 147,
     "metadata": {},
     "output_type": "execute_result"
    }
   ],
   "source": [
    "features_df = features_df.join(df.set_index('person'), on='person', how='left')\n",
    "features_df.head(3)"
   ]
  },
  {
   "cell_type": "code",
   "execution_count": null,
   "metadata": {},
   "outputs": [],
   "source": []
  },
  {
   "cell_type": "code",
   "execution_count": null,
   "metadata": {},
   "outputs": [],
   "source": []
  },
  {
   "cell_type": "code",
   "execution_count": 148,
   "metadata": {},
   "outputs": [],
   "source": [
    "# Condition\n",
    "\n",
    "ct = pd.crosstab(events_df.person, events_df.condition)\n",
    "ct = ct.astype('bool')"
   ]
  },
  {
   "cell_type": "code",
   "execution_count": 149,
   "metadata": {},
   "outputs": [
    {
     "data": {
      "text/html": [
       "<div>\n",
       "<style scoped>\n",
       "    .dataframe tbody tr th:only-of-type {\n",
       "        vertical-align: middle;\n",
       "    }\n",
       "\n",
       "    .dataframe tbody tr th {\n",
       "        vertical-align: top;\n",
       "    }\n",
       "\n",
       "    .dataframe thead th {\n",
       "        text-align: right;\n",
       "    }\n",
       "</style>\n",
       "<table border=\"1\" class=\"dataframe\">\n",
       "  <thead>\n",
       "    <tr style=\"text-align: right;\">\n",
       "      <th></th>\n",
       "      <th>support</th>\n",
       "      <th>itemsets</th>\n",
       "      <th>length</th>\n",
       "    </tr>\n",
       "  </thead>\n",
       "  <tbody>\n",
       "    <tr>\n",
       "      <th>0</th>\n",
       "      <td>0.881935</td>\n",
       "      <td>(Bom)</td>\n",
       "      <td>1</td>\n",
       "    </tr>\n",
       "    <tr>\n",
       "      <th>1</th>\n",
       "      <td>0.634013</td>\n",
       "      <td>(Excelente)</td>\n",
       "      <td>1</td>\n",
       "    </tr>\n",
       "    <tr>\n",
       "      <th>2</th>\n",
       "      <td>0.660183</td>\n",
       "      <td>(Muito Bom)</td>\n",
       "      <td>1</td>\n",
       "    </tr>\n",
       "  </tbody>\n",
       "</table>\n",
       "</div>"
      ],
      "text/plain": [
       "    support     itemsets  length\n",
       "0  0.881935        (Bom)       1\n",
       "1  0.634013  (Excelente)       1\n",
       "2  0.660183  (Muito Bom)       1"
      ]
     },
     "execution_count": 149,
     "metadata": {},
     "output_type": "execute_result"
    }
   ],
   "source": [
    "frequent_itemsets = apriori(ct, min_support=0.6, use_colnames=True)\n",
    "frequent_itemsets['length'] = frequent_itemsets['itemsets'].apply(lambda x: len(x))\n",
    "frequent_itemsets.head()"
   ]
  },
  {
   "cell_type": "code",
   "execution_count": 150,
   "metadata": {},
   "outputs": [],
   "source": [
    "result = columna_por_persona_new(ct)"
   ]
  },
  {
   "cell_type": "code",
   "execution_count": 151,
   "metadata": {},
   "outputs": [
    {
     "data": {
      "text/plain": [
       "38250"
      ]
     },
     "execution_count": 151,
     "metadata": {},
     "output_type": "execute_result"
    }
   ],
   "source": [
    "lista_support = asignar_support(result, frequent_itemsets)\n",
    "len(lista_support)"
   ]
  },
  {
   "cell_type": "code",
   "execution_count": 152,
   "metadata": {},
   "outputs": [
    {
     "data": {
      "text/plain": [
       "38250"
      ]
     },
     "execution_count": 152,
     "metadata": {},
     "output_type": "execute_result"
    }
   ],
   "source": [
    "lista_personas = lista_personas_f(result)\n",
    "len(lista_personas)"
   ]
  },
  {
   "cell_type": "code",
   "execution_count": 153,
   "metadata": {},
   "outputs": [],
   "source": [
    "d = {'person': lista_personas, 'condition_support': lista_support}\n",
    "df = pd.DataFrame(data=d)"
   ]
  },
  {
   "cell_type": "code",
   "execution_count": 154,
   "metadata": {},
   "outputs": [
    {
     "data": {
      "text/html": [
       "<div>\n",
       "<style scoped>\n",
       "    .dataframe tbody tr th:only-of-type {\n",
       "        vertical-align: middle;\n",
       "    }\n",
       "\n",
       "    .dataframe tbody tr th {\n",
       "        vertical-align: top;\n",
       "    }\n",
       "\n",
       "    .dataframe thead th {\n",
       "        text-align: right;\n",
       "    }\n",
       "</style>\n",
       "<table border=\"1\" class=\"dataframe\">\n",
       "  <thead>\n",
       "    <tr style=\"text-align: right;\">\n",
       "      <th></th>\n",
       "      <th>person</th>\n",
       "      <th>cant_eventos_totales</th>\n",
       "      <th>q9</th>\n",
       "      <th>q10</th>\n",
       "      <th>cant_ach</th>\n",
       "      <th>cant_bl</th>\n",
       "      <th>cant_ch</th>\n",
       "      <th>cant_cv</th>\n",
       "      <th>cant_gl</th>\n",
       "      <th>cant_seh</th>\n",
       "      <th>cant_s_p</th>\n",
       "      <th>cant_sp</th>\n",
       "      <th>cant_vp</th>\n",
       "      <th>cant_vs</th>\n",
       "      <th>url_support</th>\n",
       "      <th>weekday_support</th>\n",
       "      <th>model_support</th>\n",
       "      <th>model_ind_support</th>\n",
       "      <th>condition_support</th>\n",
       "    </tr>\n",
       "  </thead>\n",
       "  <tbody>\n",
       "    <tr>\n",
       "      <th>0</th>\n",
       "      <td>4886f805</td>\n",
       "      <td>9</td>\n",
       "      <td>False</td>\n",
       "      <td>True</td>\n",
       "      <td>NaN</td>\n",
       "      <td>NaN</td>\n",
       "      <td>1.0</td>\n",
       "      <td>NaN</td>\n",
       "      <td>1.0</td>\n",
       "      <td>1.0</td>\n",
       "      <td>1.0</td>\n",
       "      <td>NaN</td>\n",
       "      <td>4.0</td>\n",
       "      <td>1.0</td>\n",
       "      <td>NaN</td>\n",
       "      <td>0.0</td>\n",
       "      <td>0.105369</td>\n",
       "      <td>0.105369</td>\n",
       "      <td>0.634013</td>\n",
       "    </tr>\n",
       "    <tr>\n",
       "      <th>1</th>\n",
       "      <td>ad93850f</td>\n",
       "      <td>65</td>\n",
       "      <td>True</td>\n",
       "      <td>True</td>\n",
       "      <td>10.0</td>\n",
       "      <td>15.0</td>\n",
       "      <td>1.0</td>\n",
       "      <td>NaN</td>\n",
       "      <td>7.0</td>\n",
       "      <td>7.0</td>\n",
       "      <td>NaN</td>\n",
       "      <td>NaN</td>\n",
       "      <td>20.0</td>\n",
       "      <td>5.0</td>\n",
       "      <td>0.010064</td>\n",
       "      <td>0.0</td>\n",
       "      <td>0.000000</td>\n",
       "      <td>0.000000</td>\n",
       "      <td>0.881935</td>\n",
       "    </tr>\n",
       "    <tr>\n",
       "      <th>2</th>\n",
       "      <td>0297fc1e</td>\n",
       "      <td>567</td>\n",
       "      <td>True</td>\n",
       "      <td>True</td>\n",
       "      <td>29.0</td>\n",
       "      <td>4.0</td>\n",
       "      <td>7.0</td>\n",
       "      <td>NaN</td>\n",
       "      <td>21.0</td>\n",
       "      <td>NaN</td>\n",
       "      <td>6.0</td>\n",
       "      <td>NaN</td>\n",
       "      <td>404.0</td>\n",
       "      <td>95.0</td>\n",
       "      <td>0.000000</td>\n",
       "      <td>0.0</td>\n",
       "      <td>0.000000</td>\n",
       "      <td>0.142095</td>\n",
       "      <td>0.881935</td>\n",
       "    </tr>\n",
       "  </tbody>\n",
       "</table>\n",
       "</div>"
      ],
      "text/plain": [
       "     person  cant_eventos_totales     q9   q10  cant_ach  cant_bl  cant_ch  \\\n",
       "0  4886f805                     9  False  True       NaN      NaN      1.0   \n",
       "1  ad93850f                    65   True  True      10.0     15.0      1.0   \n",
       "2  0297fc1e                   567   True  True      29.0      4.0      7.0   \n",
       "\n",
       "   cant_cv  cant_gl  cant_seh  cant_s_p  cant_sp  cant_vp  cant_vs  \\\n",
       "0      NaN      1.0       1.0       1.0      NaN      4.0      1.0   \n",
       "1      NaN      7.0       7.0       NaN      NaN     20.0      5.0   \n",
       "2      NaN     21.0       NaN       6.0      NaN    404.0     95.0   \n",
       "\n",
       "   url_support  weekday_support  model_support  model_ind_support  \\\n",
       "0          NaN              0.0       0.105369           0.105369   \n",
       "1     0.010064              0.0       0.000000           0.000000   \n",
       "2     0.000000              0.0       0.000000           0.142095   \n",
       "\n",
       "   condition_support  \n",
       "0           0.634013  \n",
       "1           0.881935  \n",
       "2           0.881935  "
      ]
     },
     "execution_count": 154,
     "metadata": {},
     "output_type": "execute_result"
    }
   ],
   "source": [
    "features_df = features_df.join(df.set_index('person'), on='person', how='left')\n",
    "features_df.head(3)"
   ]
  },
  {
   "cell_type": "code",
   "execution_count": 155,
   "metadata": {},
   "outputs": [],
   "source": [
    "# Storage\n",
    "\n",
    "ct = pd.crosstab(events_df.person, events_df.storage)\n",
    "ct = ct.astype('bool')"
   ]
  },
  {
   "cell_type": "code",
   "execution_count": 156,
   "metadata": {},
   "outputs": [
    {
     "data": {
      "text/html": [
       "<div>\n",
       "<style scoped>\n",
       "    .dataframe tbody tr th:only-of-type {\n",
       "        vertical-align: middle;\n",
       "    }\n",
       "\n",
       "    .dataframe tbody tr th {\n",
       "        vertical-align: top;\n",
       "    }\n",
       "\n",
       "    .dataframe thead th {\n",
       "        text-align: right;\n",
       "    }\n",
       "</style>\n",
       "<table border=\"1\" class=\"dataframe\">\n",
       "  <thead>\n",
       "    <tr style=\"text-align: right;\">\n",
       "      <th></th>\n",
       "      <th>support</th>\n",
       "      <th>itemsets</th>\n",
       "      <th>length</th>\n",
       "    </tr>\n",
       "  </thead>\n",
       "  <tbody>\n",
       "    <tr>\n",
       "      <th>0</th>\n",
       "      <td>0.693281</td>\n",
       "      <td>(16GB)</td>\n",
       "      <td>1</td>\n",
       "    </tr>\n",
       "    <tr>\n",
       "      <th>1</th>\n",
       "      <td>0.629935</td>\n",
       "      <td>(32GB)</td>\n",
       "      <td>1</td>\n",
       "    </tr>\n",
       "    <tr>\n",
       "      <th>2</th>\n",
       "      <td>0.509333</td>\n",
       "      <td>(64GB)</td>\n",
       "      <td>1</td>\n",
       "    </tr>\n",
       "  </tbody>\n",
       "</table>\n",
       "</div>"
      ],
      "text/plain": [
       "    support itemsets  length\n",
       "0  0.693281   (16GB)       1\n",
       "1  0.629935   (32GB)       1\n",
       "2  0.509333   (64GB)       1"
      ]
     },
     "execution_count": 156,
     "metadata": {},
     "output_type": "execute_result"
    }
   ],
   "source": [
    "frequent_itemsets = apriori(ct, min_support=0.5, use_colnames=True)\n",
    "frequent_itemsets['length'] = frequent_itemsets['itemsets'].apply(lambda x: len(x))\n",
    "frequent_itemsets.head()"
   ]
  },
  {
   "cell_type": "code",
   "execution_count": 157,
   "metadata": {},
   "outputs": [],
   "source": [
    "result = columna_por_persona_new(ct)"
   ]
  },
  {
   "cell_type": "code",
   "execution_count": 158,
   "metadata": {},
   "outputs": [
    {
     "data": {
      "text/plain": [
       "38250"
      ]
     },
     "execution_count": 158,
     "metadata": {},
     "output_type": "execute_result"
    }
   ],
   "source": [
    "lista_support = asignar_support(result, frequent_itemsets)\n",
    "len(lista_support)"
   ]
  },
  {
   "cell_type": "code",
   "execution_count": 159,
   "metadata": {},
   "outputs": [
    {
     "data": {
      "text/plain": [
       "38250"
      ]
     },
     "execution_count": 159,
     "metadata": {},
     "output_type": "execute_result"
    }
   ],
   "source": [
    "lista_personas = lista_personas_f(result)\n",
    "len(lista_personas)"
   ]
  },
  {
   "cell_type": "code",
   "execution_count": 160,
   "metadata": {},
   "outputs": [],
   "source": [
    "d = {'person': lista_personas, 'storage_support': lista_support}\n",
    "df = pd.DataFrame(data=d)"
   ]
  },
  {
   "cell_type": "code",
   "execution_count": 161,
   "metadata": {},
   "outputs": [
    {
     "data": {
      "text/html": [
       "<div>\n",
       "<style scoped>\n",
       "    .dataframe tbody tr th:only-of-type {\n",
       "        vertical-align: middle;\n",
       "    }\n",
       "\n",
       "    .dataframe tbody tr th {\n",
       "        vertical-align: top;\n",
       "    }\n",
       "\n",
       "    .dataframe thead th {\n",
       "        text-align: right;\n",
       "    }\n",
       "</style>\n",
       "<table border=\"1\" class=\"dataframe\">\n",
       "  <thead>\n",
       "    <tr style=\"text-align: right;\">\n",
       "      <th></th>\n",
       "      <th>person</th>\n",
       "      <th>cant_eventos_totales</th>\n",
       "      <th>q9</th>\n",
       "      <th>q10</th>\n",
       "      <th>cant_ach</th>\n",
       "      <th>cant_bl</th>\n",
       "      <th>cant_ch</th>\n",
       "      <th>cant_cv</th>\n",
       "      <th>cant_gl</th>\n",
       "      <th>cant_seh</th>\n",
       "      <th>cant_s_p</th>\n",
       "      <th>cant_sp</th>\n",
       "      <th>cant_vp</th>\n",
       "      <th>cant_vs</th>\n",
       "      <th>url_support</th>\n",
       "      <th>weekday_support</th>\n",
       "      <th>model_support</th>\n",
       "      <th>model_ind_support</th>\n",
       "      <th>condition_support</th>\n",
       "      <th>storage_support</th>\n",
       "    </tr>\n",
       "  </thead>\n",
       "  <tbody>\n",
       "    <tr>\n",
       "      <th>0</th>\n",
       "      <td>4886f805</td>\n",
       "      <td>9</td>\n",
       "      <td>False</td>\n",
       "      <td>True</td>\n",
       "      <td>NaN</td>\n",
       "      <td>NaN</td>\n",
       "      <td>1.0</td>\n",
       "      <td>NaN</td>\n",
       "      <td>1.0</td>\n",
       "      <td>1.0</td>\n",
       "      <td>1.0</td>\n",
       "      <td>NaN</td>\n",
       "      <td>4.0</td>\n",
       "      <td>1.0</td>\n",
       "      <td>NaN</td>\n",
       "      <td>0.0</td>\n",
       "      <td>0.105369</td>\n",
       "      <td>0.105369</td>\n",
       "      <td>0.634013</td>\n",
       "      <td>0.629935</td>\n",
       "    </tr>\n",
       "    <tr>\n",
       "      <th>1</th>\n",
       "      <td>ad93850f</td>\n",
       "      <td>65</td>\n",
       "      <td>True</td>\n",
       "      <td>True</td>\n",
       "      <td>10.0</td>\n",
       "      <td>15.0</td>\n",
       "      <td>1.0</td>\n",
       "      <td>NaN</td>\n",
       "      <td>7.0</td>\n",
       "      <td>7.0</td>\n",
       "      <td>NaN</td>\n",
       "      <td>NaN</td>\n",
       "      <td>20.0</td>\n",
       "      <td>5.0</td>\n",
       "      <td>0.010064</td>\n",
       "      <td>0.0</td>\n",
       "      <td>0.000000</td>\n",
       "      <td>0.000000</td>\n",
       "      <td>0.881935</td>\n",
       "      <td>0.000000</td>\n",
       "    </tr>\n",
       "    <tr>\n",
       "      <th>2</th>\n",
       "      <td>0297fc1e</td>\n",
       "      <td>567</td>\n",
       "      <td>True</td>\n",
       "      <td>True</td>\n",
       "      <td>29.0</td>\n",
       "      <td>4.0</td>\n",
       "      <td>7.0</td>\n",
       "      <td>NaN</td>\n",
       "      <td>21.0</td>\n",
       "      <td>NaN</td>\n",
       "      <td>6.0</td>\n",
       "      <td>NaN</td>\n",
       "      <td>404.0</td>\n",
       "      <td>95.0</td>\n",
       "      <td>0.000000</td>\n",
       "      <td>0.0</td>\n",
       "      <td>0.000000</td>\n",
       "      <td>0.142095</td>\n",
       "      <td>0.881935</td>\n",
       "      <td>0.000000</td>\n",
       "    </tr>\n",
       "  </tbody>\n",
       "</table>\n",
       "</div>"
      ],
      "text/plain": [
       "     person  cant_eventos_totales     q9   q10  cant_ach  cant_bl  cant_ch  \\\n",
       "0  4886f805                     9  False  True       NaN      NaN      1.0   \n",
       "1  ad93850f                    65   True  True      10.0     15.0      1.0   \n",
       "2  0297fc1e                   567   True  True      29.0      4.0      7.0   \n",
       "\n",
       "   cant_cv  cant_gl  cant_seh  cant_s_p  cant_sp  cant_vp  cant_vs  \\\n",
       "0      NaN      1.0       1.0       1.0      NaN      4.0      1.0   \n",
       "1      NaN      7.0       7.0       NaN      NaN     20.0      5.0   \n",
       "2      NaN     21.0       NaN       6.0      NaN    404.0     95.0   \n",
       "\n",
       "   url_support  weekday_support  model_support  model_ind_support  \\\n",
       "0          NaN              0.0       0.105369           0.105369   \n",
       "1     0.010064              0.0       0.000000           0.000000   \n",
       "2     0.000000              0.0       0.000000           0.142095   \n",
       "\n",
       "   condition_support  storage_support  \n",
       "0           0.634013         0.629935  \n",
       "1           0.881935         0.000000  \n",
       "2           0.881935         0.000000  "
      ]
     },
     "execution_count": 161,
     "metadata": {},
     "output_type": "execute_result"
    }
   ],
   "source": [
    "features_df = features_df.join(df.set_index('person'), on='person', how='left')\n",
    "features_df.head(3)"
   ]
  },
  {
   "cell_type": "code",
   "execution_count": null,
   "metadata": {},
   "outputs": [],
   "source": [
    "#color\n",
    "\n",
    "ct = pd.crosstab(events_df.person, events_df.color)\n",
    "ct = ct.astype('bool')"
   ]
  },
  {
   "cell_type": "code",
   "execution_count": null,
   "metadata": {},
   "outputs": [],
   "source": [
    "frequent_itemsets = apriori(ct, min_support=0.2, use_colnames=True)\n",
    "frequent_itemsets['length'] = frequent_itemsets['itemsets'].apply(lambda x: len(x))\n",
    "frequent_itemsets.head()"
   ]
  },
  {
   "cell_type": "code",
   "execution_count": 49,
   "metadata": {},
   "outputs": [],
   "source": [
    "def columna_por_persona_new(crosstab):\n",
    "    diccionario = {}\n",
    "    for person in crosstab.index :\n",
    "        #print(person)\n",
    "        num_max = 0\n",
    "        lista = list()\n",
    "        for value in crosstab.columns :\n",
    "            if crosstab.loc[person, value] > num_max :\n",
    "                value_max = value\n",
    "                num_max = crosstab.loc[person, value]\n",
    "        lista.append(value_max)\n",
    "        values = frozenset( lista ) \n",
    "        diccionario[person] = values                \n",
    "    return diccionario"
   ]
  },
  {
   "cell_type": "code",
   "execution_count": null,
   "metadata": {},
   "outputs": [],
   "source": [
    "result = columna_por_persona_new(ct)"
   ]
  },
  {
   "cell_type": "code",
   "execution_count": null,
   "metadata": {},
   "outputs": [],
   "source": [
    "len(result)"
   ]
  },
  {
   "cell_type": "code",
   "execution_count": null,
   "metadata": {},
   "outputs": [],
   "source": [
    "lista_support = asignar_support(result, frequent_itemsets)\n",
    "len(lista_support)"
   ]
  },
  {
   "cell_type": "code",
   "execution_count": null,
   "metadata": {},
   "outputs": [],
   "source": [
    "lista_personas = lista_personas_f(result)\n",
    "len(lista_personas)"
   ]
  },
  {
   "cell_type": "code",
   "execution_count": null,
   "metadata": {},
   "outputs": [],
   "source": [
    "d = {'person': lista_personas, 'color_3_support': lista_support}\n",
    "df = pd.DataFrame(data=d)"
   ]
  },
  {
   "cell_type": "code",
   "execution_count": null,
   "metadata": {},
   "outputs": [],
   "source": [
    "features_df = features_df.join(df.set_index('person'), on='person', how='left')\n",
    "features_df.head(3)"
   ]
  },
  {
   "cell_type": "code",
   "execution_count": null,
   "metadata": {},
   "outputs": [],
   "source": [
    "features_df = features_df.drop(columns=['color_2_support'])"
   ]
  },
  {
   "cell_type": "code",
   "execution_count": null,
   "metadata": {},
   "outputs": [],
   "source": [
    "#Channel\n",
    "\n",
    "ct = pd.crosstab(events_df.person, events_df.channel)\n",
    "ct = ct.astype('bool')"
   ]
  },
  {
   "cell_type": "code",
   "execution_count": null,
   "metadata": {},
   "outputs": [],
   "source": [
    "frequent_itemsets = apriori(ct, min_support=0.25, use_colnames=True)\n",
    "frequent_itemsets['length'] = frequent_itemsets['itemsets'].apply(lambda x: len(x))\n",
    "frequent_itemsets.head()"
   ]
  },
  {
   "cell_type": "code",
   "execution_count": null,
   "metadata": {},
   "outputs": [],
   "source": [
    "result = columna_por_persona_new(ct)"
   ]
  },
  {
   "cell_type": "code",
   "execution_count": null,
   "metadata": {},
   "outputs": [],
   "source": [
    "lista_support = asignar_support(result, frequent_itemsets)\n",
    "len(lista_support)"
   ]
  },
  {
   "cell_type": "code",
   "execution_count": null,
   "metadata": {},
   "outputs": [],
   "source": [
    "lista_personas = lista_personas_f(result)\n",
    "len(lista_personas)"
   ]
  },
  {
   "cell_type": "code",
   "execution_count": null,
   "metadata": {},
   "outputs": [],
   "source": [
    "d = {'person': lista_personas, 'channel_support': lista_support}\n",
    "df = pd.DataFrame(data=d)"
   ]
  },
  {
   "cell_type": "code",
   "execution_count": null,
   "metadata": {},
   "outputs": [],
   "source": [
    "features_df = features_df.join(df.set_index('person'), on='person', how='left')\n",
    "features_df.head(3)"
   ]
  },
  {
   "cell_type": "markdown",
   "metadata": {},
   "source": [
    "## Labels y separacion de df"
   ]
  },
  {
   "cell_type": "code",
   "execution_count": 18,
   "metadata": {},
   "outputs": [],
   "source": [
    "labels_df = pd.read_csv(\"/home/miki_mustard/Desktop/Facultad/Datos/TP2/fiuba-trocafone-tp2-final-set/labels_training_set.csv\", low_memory=False)"
   ]
  },
  {
   "cell_type": "code",
   "execution_count": 204,
   "metadata": {},
   "outputs": [
    {
     "data": {
      "text/plain": [
       "(19414, 15)"
      ]
     },
     "execution_count": 204,
     "metadata": {},
     "output_type": "execute_result"
    }
   ],
   "source": [
    "#Separo en train y to_predict\n",
    "train_df = features_df.merge(labels_df, on='person', how='right')\n",
    "train_df.shape"
   ]
  },
  {
   "cell_type": "code",
   "execution_count": 205,
   "metadata": {},
   "outputs": [
    {
     "data": {
      "text/plain": [
       "(19415, 14)"
      ]
     },
     "execution_count": 205,
     "metadata": {},
     "output_type": "execute_result"
    }
   ],
   "source": [
    "to_predict = features_df[~features_df.person.isin(labels_df.person)]\n",
    "to_predict.shape"
   ]
  },
  {
   "cell_type": "code",
   "execution_count": 206,
   "metadata": {},
   "outputs": [],
   "source": [
    "# Labels: los valores a predecir\n",
    "#labels = np.array(train_df.label)\n",
    "labels = train_df.label\n",
    "\n",
    "#remuevo el label del df\n",
    "train_df = train_df.drop(columns=['label'])"
   ]
  },
  {
   "cell_type": "code",
   "execution_count": 207,
   "metadata": {},
   "outputs": [],
   "source": [
    "# Using Skicit-learn to split data into training and testing sets\n",
    "from sklearn.model_selection import train_test_split\n",
    "\n",
    "#Separo en test y train\n",
    "X_train, X_test, y_train, y_test = \\\n",
    "    train_test_split(train_df.drop(columns=['person']) , labels, test_size=0.2, random_state=123)"
   ]
  },
  {
   "cell_type": "code",
   "execution_count": 208,
   "metadata": {},
   "outputs": [],
   "source": [
    "X_train.reset_index(inplace=True)\n",
    "X_train.drop(columns='index', inplace=True)\n",
    "X_test.reset_index(inplace=True)\n",
    "X_test.drop(columns='index', inplace=True)\n",
    "y_train = pd.DataFrame(y_train)\n",
    "\n",
    "y_train.reset_index(inplace=True)\n",
    "y_train.drop(columns='index', inplace=True)\n",
    "y_test = pd.DataFrame(y_test)\n",
    "y_test.reset_index(inplace=True)\n",
    "y_test.drop(columns='index', inplace=True)\n",
    "\n",
    "to_predict = pd.DataFrame(to_predict)\n",
    "to_predict.reset_index(inplace=True)\n",
    "to_predict.drop(columns='index', inplace=True)"
   ]
  },
  {
   "cell_type": "code",
   "execution_count": null,
   "metadata": {},
   "outputs": [],
   "source": []
  },
  {
   "cell_type": "markdown",
   "metadata": {},
   "source": [
    "## XGBoost"
   ]
  },
  {
   "cell_type": "code",
   "execution_count": 24,
   "metadata": {},
   "outputs": [],
   "source": [
    "import warnings\n",
    "warnings.filterwarnings('ignore')\n",
    "import numpy as np\n",
    "import pandas as pd\n",
    "from datetime import datetime\n",
    "from xgboost import XGBRegressor\n",
    "import xgboost as xgb\n",
    "from sklearn.model_selection import RandomizedSearchCV, GridSearchCV\n",
    "from sklearn.metrics import roc_auc_score\n",
    "from sklearn.model_selection import StratifiedKFold"
   ]
  },
  {
   "cell_type": "code",
   "execution_count": 25,
   "metadata": {},
   "outputs": [],
   "source": [
    "def timer(start_time=None):\n",
    "    if not start_time:\n",
    "        start_time = datetime.now()\n",
    "        return start_time\n",
    "    elif start_time:\n",
    "        thour, temp_sec = divmod((datetime.now() - start_time).total_seconds(), 3600)\n",
    "        tmin, tsec = divmod(temp_sec, 60)\n",
    "        print('\\n Time taken: %i hours %i minutes and %s seconds.' % (thour, tmin, round(tsec, 2)))\n"
   ]
  },
  {
   "cell_type": "code",
   "execution_count": 26,
   "metadata": {},
   "outputs": [],
   "source": [
    "# A parameter grid for XGBoost\n",
    "params = {\n",
    "        'min_child_weight': [1, 5, 10],\n",
    "        'gamma': [0.5, 1, 1.5, 2, 5, 10],\n",
    "        'colsample_bytree': [0.1, 0.2, 0.3, 0.5],\n",
    "        'colsample_bylevel': [0.7, 0.8, 0.9],\n",
    "        'max_depth': [3, 4, 5, 7, 8, 9, 11, 13, 15],\n",
    "        'base_score': [0.1, 0.2, 0.3],\n",
    "        'n_estimators': [35, 40, 50, 60, 70, 80, 90],\n",
    "        'booster':['gbtree', 'dart']\n",
    "        }"
   ]
  },
  {
   "cell_type": "code",
   "execution_count": 27,
   "metadata": {},
   "outputs": [],
   "source": [
    "xg_gs = xgb.XGBRegressor(objective ='binary:logistic',\n",
    "                        learning_rate = 0.2,\n",
    "                        alpha = 20, eval_metric='auc')"
   ]
  },
  {
   "cell_type": "code",
   "execution_count": 167,
   "metadata": {},
   "outputs": [
    {
     "name": "stdout",
     "output_type": "stream",
     "text": [
      "Fitting 10 folds for each of 7 candidates, totalling 70 fits\n"
     ]
    },
    {
     "name": "stderr",
     "output_type": "stream",
     "text": [
      "[Parallel(n_jobs=4)]: Using backend LokyBackend with 4 concurrent workers.\n",
      "[Parallel(n_jobs=4)]: Done  24 tasks      | elapsed:   15.9s\n",
      "[Parallel(n_jobs=4)]: Done  70 out of  70 | elapsed:   27.8s finished\n"
     ]
    },
    {
     "name": "stdout",
     "output_type": "stream",
     "text": [
      "\n",
      " Time taken: 0 hours 0 minutes and 30.25 seconds.\n"
     ]
    }
   ],
   "source": [
    "folds = 10\n",
    "param_comb = 7\n",
    "\n",
    "skf = StratifiedKFold(n_splits=folds, shuffle = True, random_state = 1001)\n",
    "\n",
    "random_search = RandomizedSearchCV(xg_gs, param_distributions=params, n_iter=param_comb, scoring='roc_auc', n_jobs=4, \n",
    "                                   cv=skf.split(train_df.drop(columns=['person']),labels), verbose=3, random_state=1001,return_train_score=True)\n",
    "\n",
    "# Here we go\n",
    "start_time = timer(None) # timing starts from this point for \"start_time\" variable\n",
    "random_search.fit(train_df.drop(columns=['person']), labels)\n",
    "timer(start_time) # timing ends here for \"start_time\" variable"
   ]
  },
  {
   "cell_type": "code",
   "execution_count": 168,
   "metadata": {},
   "outputs": [
    {
     "name": "stdout",
     "output_type": "stream",
     "text": [
      "\n",
      " All results:\n",
      "{'mean_fit_time': array([3.35700545, 1.77604554, 0.51318429, 0.28583207, 1.25224235,\n",
      "       0.47593901, 1.77910519]), 'std_fit_time': array([0.02642   , 0.07050221, 0.0177381 , 0.00356556, 0.02421645,\n",
      "       0.01444531, 0.16146543]), 'mean_score_time': array([0.01579709, 0.01008155, 0.00894756, 0.01084344, 0.01010993,\n",
      "       0.01307757, 0.01099846]), 'std_score_time': array([0.00064821, 0.0001877 , 0.00031957, 0.00165083, 0.0009727 ,\n",
      "       0.00039023, 0.00161867]), 'param_n_estimators': masked_array(data=[70, 70, 35, 40, 70, 50, 70],\n",
      "             mask=[False, False, False, False, False, False, False],\n",
      "       fill_value='?',\n",
      "            dtype=object), 'param_min_child_weight': masked_array(data=[1, 1, 10, 1, 5, 5, 1],\n",
      "             mask=[False, False, False, False, False, False, False],\n",
      "       fill_value='?',\n",
      "            dtype=object), 'param_max_depth': masked_array(data=[5, 11, 4, 4, 5, 7, 15],\n",
      "             mask=[False, False, False, False, False, False, False],\n",
      "       fill_value='?',\n",
      "            dtype=object), 'param_gamma': masked_array(data=[1, 10, 5, 1.5, 10, 1.5, 1.5],\n",
      "             mask=[False, False, False, False, False, False, False],\n",
      "       fill_value='?',\n",
      "            dtype=object), 'param_colsample_bytree': masked_array(data=[0.5, 0.2, 0.2, 0.2, 0.2, 0.2, 0.1],\n",
      "             mask=[False, False, False, False, False, False, False],\n",
      "       fill_value='?',\n",
      "            dtype=object), 'param_colsample_bylevel': masked_array(data=[0.9, 0.9, 0.9, 0.9, 0.7, 0.8, 0.9],\n",
      "             mask=[False, False, False, False, False, False, False],\n",
      "       fill_value='?',\n",
      "            dtype=object), 'param_booster': masked_array(data=['dart', 'dart', 'dart', 'gbtree', 'dart', 'gbtree',\n",
      "                   'dart'],\n",
      "             mask=[False, False, False, False, False, False, False],\n",
      "       fill_value='?',\n",
      "            dtype=object), 'param_base_score': masked_array(data=[0.3, 0.2, 0.3, 0.3, 0.2, 0.1, 0.2],\n",
      "             mask=[False, False, False, False, False, False, False],\n",
      "       fill_value='?',\n",
      "            dtype=object), 'params': [{'n_estimators': 70, 'min_child_weight': 1, 'max_depth': 5, 'gamma': 1, 'colsample_bytree': 0.5, 'colsample_bylevel': 0.9, 'booster': 'dart', 'base_score': 0.3}, {'n_estimators': 70, 'min_child_weight': 1, 'max_depth': 11, 'gamma': 10, 'colsample_bytree': 0.2, 'colsample_bylevel': 0.9, 'booster': 'dart', 'base_score': 0.2}, {'n_estimators': 35, 'min_child_weight': 10, 'max_depth': 4, 'gamma': 5, 'colsample_bytree': 0.2, 'colsample_bylevel': 0.9, 'booster': 'dart', 'base_score': 0.3}, {'n_estimators': 40, 'min_child_weight': 1, 'max_depth': 4, 'gamma': 1.5, 'colsample_bytree': 0.2, 'colsample_bylevel': 0.9, 'booster': 'gbtree', 'base_score': 0.3}, {'n_estimators': 70, 'min_child_weight': 5, 'max_depth': 5, 'gamma': 10, 'colsample_bytree': 0.2, 'colsample_bylevel': 0.7, 'booster': 'dart', 'base_score': 0.2}, {'n_estimators': 50, 'min_child_weight': 5, 'max_depth': 7, 'gamma': 1.5, 'colsample_bytree': 0.2, 'colsample_bylevel': 0.8, 'booster': 'gbtree', 'base_score': 0.1}, {'n_estimators': 70, 'min_child_weight': 1, 'max_depth': 15, 'gamma': 1.5, 'colsample_bytree': 0.1, 'colsample_bylevel': 0.9, 'booster': 'dart', 'base_score': 0.2}], 'split0_test_score': array([0.81341029, 0.81617435, 0.75849141, 0.80932368, 0.81368974,\n",
      "       0.7869981 , 0.80244533]), 'split1_test_score': array([0.81624906, 0.80738966, 0.77204336, 0.79631679, 0.80820587,\n",
      "       0.78219211, 0.77912646]), 'split2_test_score': array([0.83135874, 0.84642414, 0.82331832, 0.84476128, 0.84939296,\n",
      "       0.84553322, 0.83418367]), 'split3_test_score': array([0.8462858 , 0.84139404, 0.80731772, 0.84134424, 0.847838  ,\n",
      "       0.84066913, 0.81014542]), 'split4_test_score': array([0.8283411 , 0.8363499 , 0.8102445 , 0.82665242, 0.8278871 ,\n",
      "       0.82632022, 0.81098364]), 'split5_test_score': array([0.86471148, 0.87012358, 0.81457971, 0.86757948, 0.86692338,\n",
      "       0.85688263, 0.83455048]), 'split6_test_score': array([0.83469443, 0.82517136, 0.80825407, 0.82648078, 0.82807257,\n",
      "       0.81866577, 0.81604693]), 'split7_test_score': array([0.84997287, 0.83079385, 0.78433842, 0.82041536, 0.82099671,\n",
      "       0.82825805, 0.79418539]), 'split8_test_score': array([0.84846136, 0.83980201, 0.81320385, 0.84195577, 0.85117156,\n",
      "       0.82601017, 0.81622133]), 'split9_test_score': array([0.87099007, 0.85478424, 0.80335135, 0.85896719, 0.85797059,\n",
      "       0.86062542, 0.84923649]), 'mean_test_score': array([0.84044471, 0.83683886, 0.79951237, 0.83337755, 0.83721332,\n",
      "       0.82721273, 0.81471082]), 'std_test_score': array([0.01813707, 0.01737414, 0.01979077, 0.02074696, 0.01896846,\n",
      "       0.02496947, 0.01960039]), 'rank_test_score': array([1, 3, 7, 4, 2, 5, 6], dtype=int32), 'split0_train_score': array([0.93768994, 0.85615949, 0.82505795, 0.86706554, 0.85385074,\n",
      "       0.90384661, 0.85875688]), 'split1_train_score': array([0.93549399, 0.86214782, 0.82150549, 0.86747409, 0.85275956,\n",
      "       0.90420116, 0.86114918]), 'split2_train_score': array([0.93576968, 0.85762774, 0.8220787 , 0.86643311, 0.85124368,\n",
      "       0.89156702, 0.85451601]), 'split3_train_score': array([0.93388003, 0.85470159, 0.81818734, 0.86364423, 0.84840416,\n",
      "       0.89333957, 0.85807504]), 'split4_train_score': array([0.93470499, 0.86243665, 0.82110998, 0.86585684, 0.84974625,\n",
      "       0.89926176, 0.85915502]), 'split5_train_score': array([0.93636275, 0.8556721 , 0.81897614, 0.86176445, 0.84732833,\n",
      "       0.89682957, 0.85454227]), 'split6_train_score': array([0.93299454, 0.85926029, 0.8223978 , 0.86599362, 0.85234259,\n",
      "       0.8965352 , 0.856988  ]), 'split7_train_score': array([0.93433774, 0.85331815, 0.82527409, 0.86576869, 0.85247585,\n",
      "       0.8896459 , 0.86022129]), 'split8_train_score': array([0.93263293, 0.85295408, 0.82583111, 0.86346438, 0.84922955,\n",
      "       0.90062445, 0.8572811 ]), 'split9_train_score': array([0.93287696, 0.85144385, 0.81756566, 0.86288505, 0.84602169,\n",
      "       0.89979917, 0.85436846]), 'mean_train_score': array([0.93467435, 0.85657218, 0.82179843, 0.865035  , 0.85034024,\n",
      "       0.89756504, 0.85750533]), 'std_train_score': array([0.0015742 , 0.0035816 , 0.00280867, 0.00184064, 0.0024621 ,\n",
      "       0.00467837, 0.00230521])}\n",
      "\n",
      " Best estimator:\n",
      "XGBRegressor(alpha=20, base_score=0.3, booster='dart', colsample_bylevel=0.9,\n",
      "       colsample_bytree=0.5, eval_metric='auc', gamma=1, learning_rate=0.2,\n",
      "       max_delta_step=0, max_depth=5, min_child_weight=1, missing=None,\n",
      "       n_estimators=70, n_jobs=1, nthread=None,\n",
      "       objective='binary:logistic', random_state=0, reg_alpha=0,\n",
      "       reg_lambda=1, scale_pos_weight=1, seed=None, silent=True,\n",
      "       subsample=1)\n",
      "\n",
      " Best hyperparameters:\n",
      "{'n_estimators': 70, 'min_child_weight': 1, 'max_depth': 5, 'gamma': 1, 'colsample_bytree': 0.5, 'colsample_bylevel': 0.9, 'booster': 'dart', 'base_score': 0.3}\n"
     ]
    }
   ],
   "source": [
    "print('\\n All results:')\n",
    "print(random_search.cv_results_)\n",
    "print('\\n Best estimator:')\n",
    "print(random_search.best_estimator_)\n",
    "\n",
    "print('\\n Best hyperparameters:')\n",
    "print(random_search.best_params_)\n",
    "results = pd.DataFrame(random_search.cv_results_)\n",
    "results.to_csv('xgb-random-grid-search-results-01.csv', index=False)"
   ]
  },
  {
   "cell_type": "code",
   "execution_count": 169,
   "metadata": {},
   "outputs": [],
   "source": [
    "preds_grid_search = random_search.predict(X_test)"
   ]
  },
  {
   "cell_type": "code",
   "execution_count": 183,
   "metadata": {},
   "outputs": [
    {
     "data": {
      "text/plain": [
       "0.9309044085948314"
      ]
     },
     "execution_count": 183,
     "metadata": {},
     "output_type": "execute_result"
    }
   ],
   "source": [
    "from sklearn.metrics import roc_auc_score\n",
    "roc_auc_score(y_test, preds_grid_search)"
   ]
  },
  {
   "cell_type": "code",
   "execution_count": null,
   "metadata": {},
   "outputs": [],
   "source": []
  },
  {
   "cell_type": "code",
   "execution_count": null,
   "metadata": {},
   "outputs": [],
   "source": []
  },
  {
   "cell_type": "code",
   "execution_count": 32,
   "metadata": {},
   "outputs": [],
   "source": [
    "#Parametros con los que obtuvimos 0.82\n",
    "\n",
    "xg_reg = xgb.XGBRegressor(objective ='binary:logistic',base_score= 0.1, \n",
    "                          colsample_bylevel= 0.9, booster='dart', \n",
    "                colsample_bytree = 0.5, learning_rate = 0.2,\n",
    "                max_depth = 8, alpha = 20, gamma=10, n_estimators = 35, eval_metric='auc')"
   ]
  },
  {
   "cell_type": "code",
   "execution_count": 180,
   "metadata": {},
   "outputs": [
    {
     "data": {
      "text/plain": [
       "XGBRegressor(alpha=20, base_score=0.1, booster='dart', colsample_bylevel=0.9,\n",
       "       colsample_bytree=0.5, eval_metric='auc', gamma=10,\n",
       "       learning_rate=0.2, max_delta_step=0, max_depth=8,\n",
       "       min_child_weight=1, missing=None, n_estimators=35, n_jobs=1,\n",
       "       nthread=None, objective='binary:logistic', random_state=0,\n",
       "       reg_alpha=0, reg_lambda=1, scale_pos_weight=1, seed=None,\n",
       "       silent=True, subsample=1)"
      ]
     },
     "execution_count": 180,
     "metadata": {},
     "output_type": "execute_result"
    }
   ],
   "source": [
    "xg_reg.fit(X_train,y_train)"
   ]
  },
  {
   "cell_type": "code",
   "execution_count": 181,
   "metadata": {},
   "outputs": [],
   "source": [
    "preds = xg_reg.predict(X_test)"
   ]
  },
  {
   "cell_type": "code",
   "execution_count": 182,
   "metadata": {},
   "outputs": [
    {
     "data": {
      "text/plain": [
       "0.8360098991608079"
      ]
     },
     "execution_count": 182,
     "metadata": {},
     "output_type": "execute_result"
    }
   ],
   "source": [
    "roc_auc_score(y_test,preds)"
   ]
  },
  {
   "cell_type": "code",
   "execution_count": null,
   "metadata": {},
   "outputs": [],
   "source": []
  },
  {
   "cell_type": "markdown",
   "metadata": {},
   "source": [
    "## Importancia con Random Forest"
   ]
  },
  {
   "cell_type": "code",
   "execution_count": 211,
   "metadata": {},
   "outputs": [],
   "source": [
    "X_train.fillna(0, inplace=True)\n",
    "X_test.fillna(0, inplace=True)\n",
    "to_predict.fillna(0, inplace=True)"
   ]
  },
  {
   "cell_type": "code",
   "execution_count": 212,
   "metadata": {},
   "outputs": [],
   "source": [
    "# Guardo los nombres de los features para usarlos luego\n",
    "feature_list = list(train_df.drop(columns=['person']).columns)"
   ]
  },
  {
   "cell_type": "code",
   "execution_count": 213,
   "metadata": {},
   "outputs": [],
   "source": [
    "#Train model\n",
    "\n",
    "# Import the model we are using\n",
    "from sklearn.ensemble import RandomForestRegressor\n",
    "\n",
    "# Instantiate model with 1000 decision trees\n",
    "rf = RandomForestRegressor(n_estimators = 1000, random_state = 42)\n",
    "\n",
    "# Train the model on training data\n",
    "rf.fit(X_train, y_train.label);"
   ]
  },
  {
   "cell_type": "code",
   "execution_count": 214,
   "metadata": {},
   "outputs": [],
   "source": [
    "# Use the forest's predict method on the test data\n",
    "predictions = rf.predict(X_test)"
   ]
  },
  {
   "cell_type": "code",
   "execution_count": 215,
   "metadata": {},
   "outputs": [
    {
     "data": {
      "text/plain": [
       "0.7477942439653692"
      ]
     },
     "execution_count": 215,
     "metadata": {},
     "output_type": "execute_result"
    }
   ],
   "source": [
    "from sklearn.metrics import roc_auc_score\n",
    "roc_auc_score(y_test,predictions)"
   ]
  },
  {
   "cell_type": "code",
   "execution_count": 216,
   "metadata": {},
   "outputs": [
    {
     "name": "stdout",
     "output_type": "stream",
     "text": [
      "Variable: cant_eventos_totales Importance: 0.14\n",
      "Variable: cant_vp              Importance: 0.12\n",
      "Variable: cant_ch              Importance: 0.1\n",
      "Variable: cant_bl              Importance: 0.09\n",
      "Variable: cant_ach             Importance: 0.08\n",
      "Variable: cant_gl              Importance: 0.08\n",
      "Variable: cant_vs              Importance: 0.08\n",
      "Variable: cant_seh             Importance: 0.07\n",
      "Variable: cant_s_p             Importance: 0.07\n",
      "Variable: url_support          Importance: 0.06\n",
      "Variable: model_ind_support    Importance: 0.05\n",
      "Variable: weekday_support      Importance: 0.03\n",
      "Variable: storage_support      Importance: 0.03\n"
     ]
    }
   ],
   "source": [
    "#Obtengo la importancia de los features\n",
    "\n",
    "# Get numerical feature importances\n",
    "importances = list(rf.feature_importances_)\n",
    "\n",
    "# List of tuples with variable and importance\n",
    "feature_importances = [(feature, round(importance, 2)) for feature, importance in zip(feature_list, importances)]\n",
    "\n",
    "# Sort the feature importances by most important first\n",
    "feature_importances = sorted(feature_importances, key = lambda x: x[1], reverse = True)\n",
    "\n",
    "# Print out the feature and importances \n",
    "[print('Variable: {:20} Importance: {}'.format(*pair)) for pair in feature_importances];"
   ]
  },
  {
   "cell_type": "code",
   "execution_count": 131,
   "metadata": {},
   "outputs": [
    {
     "data": {
      "text/plain": [
       "Index(['person', 'cant_eventos_totales', 'q9', 'q10', 'cant_ach', 'cant_bl',\n",
       "       'cant_ch', 'cant_cv', 'cant_gl', 'cant_seh', 'cant_s_p', 'cant_sp',\n",
       "       'cant_vp', 'cant_vs', 'url_support', 'weekday_support'],\n",
       "      dtype='object')"
      ]
     },
     "execution_count": 131,
     "metadata": {},
     "output_type": "execute_result"
    }
   ],
   "source": [
    "features_df.columns"
   ]
  },
  {
   "cell_type": "code",
   "execution_count": 203,
   "metadata": {},
   "outputs": [],
   "source": [
    "#features_df = features_df.drop(columns=['condition_support', 'model_support', 'cant_sp', 'cant_cv', 'q10', 'q9'])"
   ]
  },
  {
   "cell_type": "code",
   "execution_count": 192,
   "metadata": {},
   "outputs": [],
   "source": [
    "preds_rf = rf.predict(to_predict.drop(columns=['person']))"
   ]
  },
  {
   "cell_type": "code",
   "execution_count": 193,
   "metadata": {},
   "outputs": [
    {
     "data": {
      "text/plain": [
       "array([0.        , 0.055     , 0.        , ..., 0.0179    , 0.18805   ,\n",
       "       0.09168333])"
      ]
     },
     "execution_count": 193,
     "metadata": {},
     "output_type": "execute_result"
    }
   ],
   "source": [
    "preds_rf"
   ]
  },
  {
   "cell_type": "markdown",
   "metadata": {},
   "source": [
    "## Prediccion"
   ]
  },
  {
   "cell_type": "code",
   "execution_count": 184,
   "metadata": {},
   "outputs": [],
   "source": [
    "preds_posta = random_search.predict(to_predict.drop(columns=['person']))"
   ]
  },
  {
   "cell_type": "code",
   "execution_count": 185,
   "metadata": {},
   "outputs": [
    {
     "data": {
      "text/plain": [
       "array([0.00440792, 0.02441191, 0.00882648, ..., 0.11408028, 0.10112598,\n",
       "       0.12690426], dtype=float32)"
      ]
     },
     "execution_count": 185,
     "metadata": {},
     "output_type": "execute_result"
    }
   ],
   "source": [
    "preds_posta"
   ]
  },
  {
   "cell_type": "code",
   "execution_count": null,
   "metadata": {},
   "outputs": [],
   "source": []
  },
  {
   "cell_type": "code",
   "execution_count": 194,
   "metadata": {},
   "outputs": [
    {
     "data": {
      "text/plain": [
       "0.915569461056494"
      ]
     },
     "execution_count": 194,
     "metadata": {},
     "output_type": "execute_result"
    }
   ],
   "source": [
    "#encamble\n",
    "\n",
    "ensamble = predictions*0.2 + preds_grid_search*0.8\n",
    "roc_auc_score(y_test, ensamble)"
   ]
  },
  {
   "cell_type": "code",
   "execution_count": 195,
   "metadata": {},
   "outputs": [
    {
     "data": {
      "text/plain": [
       "array([0.00352634, 0.03052953, 0.00706118, ..., 0.09484423, 0.11851078,\n",
       "       0.11986008])"
      ]
     },
     "execution_count": 195,
     "metadata": {},
     "output_type": "execute_result"
    }
   ],
   "source": [
    "ensamble = preds_rf*0.2 + preds_posta*0.8\n",
    "ensamble"
   ]
  },
  {
   "cell_type": "code",
   "execution_count": null,
   "metadata": {},
   "outputs": [],
   "source": []
  },
  {
   "cell_type": "markdown",
   "metadata": {},
   "source": [
    "## Genero CSV a publicar"
   ]
  },
  {
   "cell_type": "code",
   "execution_count": 196,
   "metadata": {},
   "outputs": [],
   "source": [
    "to_publish = pd.DataFrame()"
   ]
  },
  {
   "cell_type": "code",
   "execution_count": 197,
   "metadata": {},
   "outputs": [
    {
     "data": {
      "text/plain": [
       "(19415, 1)"
      ]
     },
     "execution_count": 197,
     "metadata": {},
     "output_type": "execute_result"
    }
   ],
   "source": [
    "to_publish['person'] = to_predict.person\n",
    "to_publish.shape"
   ]
  },
  {
   "cell_type": "code",
   "execution_count": 198,
   "metadata": {},
   "outputs": [
    {
     "data": {
      "text/plain": [
       "(19415, 2)"
      ]
     },
     "execution_count": 198,
     "metadata": {},
     "output_type": "execute_result"
    }
   ],
   "source": [
    "to_publish['label'] = ensamble\n",
    "to_publish.shape"
   ]
  },
  {
   "cell_type": "code",
   "execution_count": 199,
   "metadata": {},
   "outputs": [
    {
     "data": {
      "text/html": [
       "<div>\n",
       "<style scoped>\n",
       "    .dataframe tbody tr th:only-of-type {\n",
       "        vertical-align: middle;\n",
       "    }\n",
       "\n",
       "    .dataframe tbody tr th {\n",
       "        vertical-align: top;\n",
       "    }\n",
       "\n",
       "    .dataframe thead th {\n",
       "        text-align: right;\n",
       "    }\n",
       "</style>\n",
       "<table border=\"1\" class=\"dataframe\">\n",
       "  <thead>\n",
       "    <tr style=\"text-align: right;\">\n",
       "      <th></th>\n",
       "      <th>person</th>\n",
       "      <th>label</th>\n",
       "    </tr>\n",
       "  </thead>\n",
       "  <tbody>\n",
       "    <tr>\n",
       "      <th>0</th>\n",
       "      <td>4886f805</td>\n",
       "      <td>0.003526</td>\n",
       "    </tr>\n",
       "    <tr>\n",
       "      <th>1</th>\n",
       "      <td>0297fc1e</td>\n",
       "      <td>0.030530</td>\n",
       "    </tr>\n",
       "    <tr>\n",
       "      <th>2</th>\n",
       "      <td>2d681dd8</td>\n",
       "      <td>0.007061</td>\n",
       "    </tr>\n",
       "    <tr>\n",
       "      <th>3</th>\n",
       "      <td>cccea85e</td>\n",
       "      <td>0.021187</td>\n",
       "    </tr>\n",
       "    <tr>\n",
       "      <th>4</th>\n",
       "      <td>4c8a8b93</td>\n",
       "      <td>0.039840</td>\n",
       "    </tr>\n",
       "  </tbody>\n",
       "</table>\n",
       "</div>"
      ],
      "text/plain": [
       "     person     label\n",
       "0  4886f805  0.003526\n",
       "1  0297fc1e  0.030530\n",
       "2  2d681dd8  0.007061\n",
       "3  cccea85e  0.021187\n",
       "4  4c8a8b93  0.039840"
      ]
     },
     "execution_count": 199,
     "metadata": {},
     "output_type": "execute_result"
    }
   ],
   "source": [
    "to_publish.head()"
   ]
  },
  {
   "cell_type": "code",
   "execution_count": 200,
   "metadata": {},
   "outputs": [
    {
     "data": {
      "text/html": [
       "<div>\n",
       "<style scoped>\n",
       "    .dataframe tbody tr th:only-of-type {\n",
       "        vertical-align: middle;\n",
       "    }\n",
       "\n",
       "    .dataframe tbody tr th {\n",
       "        vertical-align: top;\n",
       "    }\n",
       "\n",
       "    .dataframe thead th {\n",
       "        text-align: right;\n",
       "    }\n",
       "</style>\n",
       "<table border=\"1\" class=\"dataframe\">\n",
       "  <thead>\n",
       "    <tr style=\"text-align: right;\">\n",
       "      <th></th>\n",
       "      <th>person</th>\n",
       "      <th>label</th>\n",
       "    </tr>\n",
       "  </thead>\n",
       "  <tbody>\n",
       "  </tbody>\n",
       "</table>\n",
       "</div>"
      ],
      "text/plain": [
       "Empty DataFrame\n",
       "Columns: [person, label]\n",
       "Index: []"
      ]
     },
     "execution_count": 200,
     "metadata": {},
     "output_type": "execute_result"
    }
   ],
   "source": [
    "to_publish.loc[ to_publish.label > 1 ]"
   ]
  },
  {
   "cell_type": "code",
   "execution_count": 201,
   "metadata": {},
   "outputs": [
    {
     "data": {
      "text/html": [
       "<div>\n",
       "<style scoped>\n",
       "    .dataframe tbody tr th:only-of-type {\n",
       "        vertical-align: middle;\n",
       "    }\n",
       "\n",
       "    .dataframe tbody tr th {\n",
       "        vertical-align: top;\n",
       "    }\n",
       "\n",
       "    .dataframe thead th {\n",
       "        text-align: right;\n",
       "    }\n",
       "</style>\n",
       "<table border=\"1\" class=\"dataframe\">\n",
       "  <thead>\n",
       "    <tr style=\"text-align: right;\">\n",
       "      <th></th>\n",
       "      <th>person</th>\n",
       "      <th>label</th>\n",
       "    </tr>\n",
       "  </thead>\n",
       "  <tbody>\n",
       "  </tbody>\n",
       "</table>\n",
       "</div>"
      ],
      "text/plain": [
       "Empty DataFrame\n",
       "Columns: [person, label]\n",
       "Index: []"
      ]
     },
     "execution_count": 201,
     "metadata": {},
     "output_type": "execute_result"
    }
   ],
   "source": [
    "to_publish.loc[ to_publish.label < 0 ]"
   ]
  },
  {
   "cell_type": "code",
   "execution_count": 202,
   "metadata": {},
   "outputs": [],
   "source": [
    "to_publish.to_csv('2_12_3.csv', index=False)"
   ]
  },
  {
   "cell_type": "code",
   "execution_count": null,
   "metadata": {},
   "outputs": [],
   "source": []
  }
 ],
 "metadata": {
  "kernelspec": {
   "display_name": "Python 3",
   "language": "python",
   "name": "python3"
  },
  "language_info": {
   "codemirror_mode": {
    "name": "ipython",
    "version": 3
   },
   "file_extension": ".py",
   "mimetype": "text/x-python",
   "name": "python",
   "nbconvert_exporter": "python",
   "pygments_lexer": "ipython3",
   "version": "3.6.5"
  }
 },
 "nbformat": 4,
 "nbformat_minor": 2
}
