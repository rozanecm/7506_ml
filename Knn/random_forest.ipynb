{
 "cells": [
  {
   "cell_type": "code",
   "execution_count": 1,
   "metadata": {},
   "outputs": [],
   "source": [
    "import pandas as pd\n",
    "from sklearn.metrics import roc_auc_score, r2_score"
   ]
  },
  {
   "cell_type": "code",
   "execution_count": 12,
   "metadata": {},
   "outputs": [],
   "source": [
    "from sklearn.model_selection import cross_val_score"
   ]
  },
  {
   "cell_type": "code",
   "execution_count": 33,
   "metadata": {},
   "outputs": [],
   "source": [
    "from sklearn.model_selection import GridSearchCV"
   ]
  },
  {
   "cell_type": "code",
   "execution_count": 2,
   "metadata": {},
   "outputs": [],
   "source": [
    "import pickle"
   ]
  },
  {
   "cell_type": "code",
   "execution_count": 4,
   "metadata": {},
   "outputs": [],
   "source": [
    "filename = '../features_juli.pkl'\n",
    "with open(filename,'rb') as file:\n",
    "    train = pickle.load(file)\n",
    "    "
   ]
  },
  {
   "cell_type": "code",
   "execution_count": 74,
   "metadata": {},
   "outputs": [],
   "source": [
    "filename = '../test_features_juli.pkl'\n",
    "with open(filename,'rb') as file:\n",
    "    test = pickle.load(file)"
   ]
  },
  {
   "cell_type": "code",
   "execution_count": 18,
   "metadata": {},
   "outputs": [],
   "source": [
    "from sklearn.ensemble import RandomForestClassifier  \n",
    "classifier = RandomForestClassifier(n_estimators=300, random_state=0)  \n"
   ]
  },
  {
   "cell_type": "code",
   "execution_count": 5,
   "metadata": {},
   "outputs": [
    {
     "data": {
      "text/plain": [
       "Index(['visited site', 'generic listing', 'conversion', 'viewed product',\n",
       "       'person', 'tiempo_promedio_por_dia', 'label', 'modelo_mas_visto',\n",
       "       'condition_mode', 'storage_mode', 'campaing_mode', 'cant_model_vistos'],\n",
       "      dtype='object')"
      ]
     },
     "execution_count": 5,
     "metadata": {},
     "output_type": "execute_result"
    }
   ],
   "source": [
    "train.columns"
   ]
  },
  {
   "cell_type": "code",
   "execution_count": 92,
   "metadata": {},
   "outputs": [],
   "source": [
    "X_train = train[['visited site', 'generic listing', 'conversion', 'viewed product',\n",
    "       'tiempo_promedio_por_dia', 'modelo_mas_visto',\n",
    "       'condition_mode', 'storage_mode', 'campaing_mode', 'cant_model_vistos']]"
   ]
  },
  {
   "cell_type": "code",
   "execution_count": 93,
   "metadata": {},
   "outputs": [],
   "source": [
    "y_train = train.label"
   ]
  },
  {
   "cell_type": "code",
   "execution_count": 94,
   "metadata": {},
   "outputs": [],
   "source": [
    "from sklearn.model_selection import train_test_split\n",
    "\n",
    "X_train, X_test, y_train, y_test =  train_test_split(X_train, y_train, test_size=0.3, random_state=100)"
   ]
  },
  {
   "cell_type": "code",
   "execution_count": 95,
   "metadata": {},
   "outputs": [],
   "source": [
    "all_accuracies = cross_val_score(estimator=classifier, X=X_train, y=y_train, cv=5)  "
   ]
  },
  {
   "cell_type": "code",
   "execution_count": 96,
   "metadata": {},
   "outputs": [
    {
     "data": {
      "text/plain": [
       "array([0.94849154, 0.9477557 , 0.9455482 , 0.9477557 , 0.94736842])"
      ]
     },
     "execution_count": 96,
     "metadata": {},
     "output_type": "execute_result"
    }
   ],
   "source": [
    "all_accuracies"
   ]
  },
  {
   "cell_type": "code",
   "execution_count": 97,
   "metadata": {},
   "outputs": [
    {
     "data": {
      "text/plain": [
       "0.9473839123194299"
      ]
     },
     "execution_count": 97,
     "metadata": {},
     "output_type": "execute_result"
    }
   ],
   "source": [
    "all_accuracies.mean()"
   ]
  },
  {
   "cell_type": "code",
   "execution_count": 98,
   "metadata": {},
   "outputs": [
    {
     "data": {
      "text/plain": [
       "0.0009872568652135598"
      ]
     },
     "execution_count": 98,
     "metadata": {},
     "output_type": "execute_result"
    }
   ],
   "source": [
    "all_accuracies.std()"
   ]
  },
  {
   "cell_type": "code",
   "execution_count": 167,
   "metadata": {},
   "outputs": [],
   "source": [
    "param_grid = { \n",
    "    'n_estimators': [200,300, 400],\n",
    "    'max_depth' : [4,5,6],\n",
    "    'criterion' :['gini', 'entropy']\n",
    "}"
   ]
  },
  {
   "cell_type": "code",
   "execution_count": 100,
   "metadata": {},
   "outputs": [],
   "source": [
    "from sklearn.metrics import roc_auc_score, make_scorer"
   ]
  },
  {
   "cell_type": "code",
   "execution_count": 101,
   "metadata": {},
   "outputs": [],
   "source": [
    "def ROC_AUC(y_true, y_pred):\n",
    "    roc_auc = roc_auc_score(y_true, y_pred)\n",
    "    print('ROC_AUC: %2.9f', roc_auc)\n",
    "    return roc_auc"
   ]
  },
  {
   "cell_type": "code",
   "execution_count": 102,
   "metadata": {},
   "outputs": [],
   "source": [
    "def R2(y_true, y_pred):\n",
    "    r2= r2_score(y_true, y_pred)\n",
    "    print('R\": %2.9f', r2)\n",
    "    return r2"
   ]
  },
  {
   "cell_type": "code",
   "execution_count": 103,
   "metadata": {},
   "outputs": [],
   "source": [
    "def two_score(y_true, y_pred):\n",
    "    R2(y_true, y_pred)\n",
    "    score = ROC_AUC(y_true, y_pred)\n",
    "    return score"
   ]
  },
  {
   "cell_type": "code",
   "execution_count": 104,
   "metadata": {},
   "outputs": [],
   "source": [
    "two_scorer = make_scorer(two_score, greater_is_better=True)"
   ]
  },
  {
   "cell_type": "code",
   "execution_count": 152,
   "metadata": {},
   "outputs": [],
   "source": [
    "gd_sr = GridSearchCV(estimator=classifier,  \n",
    "                     param_grid=param_grid,\n",
    "                     scoring='roc_auc',\n",
    "                     cv=3,\n",
    "                     n_jobs=-1, verbose=1)"
   ]
  },
  {
   "cell_type": "code",
   "execution_count": 153,
   "metadata": {},
   "outputs": [
    {
     "data": {
      "text/plain": [
       "Index(['visited site', 'generic listing', 'conversion', 'viewed product',\n",
       "       'tiempo_promedio_por_dia', 'modelo_mas_visto', 'condition_mode',\n",
       "       'storage_mode', 'campaing_mode', 'cant_model_vistos'],\n",
       "      dtype='object')"
      ]
     },
     "execution_count": 153,
     "metadata": {},
     "output_type": "execute_result"
    }
   ],
   "source": [
    "X_train.columns"
   ]
  },
  {
   "cell_type": "code",
   "execution_count": 154,
   "metadata": {},
   "outputs": [
    {
     "name": "stdout",
     "output_type": "stream",
     "text": [
      "Fitting 3 folds for each of 18 candidates, totalling 54 fits\n"
     ]
    },
    {
     "name": "stderr",
     "output_type": "stream",
     "text": [
      "[Parallel(n_jobs=-1)]: Using backend LokyBackend with 2 concurrent workers.\n",
      "[Parallel(n_jobs=-1)]: Done  46 tasks      | elapsed:  7.8min\n",
      "[Parallel(n_jobs=-1)]: Done  54 out of  54 | elapsed:  9.5min finished\n"
     ]
    },
    {
     "data": {
      "text/plain": [
       "GridSearchCV(cv=3, error_score='raise-deprecating',\n",
       "       estimator=RandomForestClassifier(bootstrap=True, class_weight=None, criterion='gini',\n",
       "            max_depth=None, max_features='auto', max_leaf_nodes=None,\n",
       "            min_impurity_decrease=0.0, min_impurity_split=None,\n",
       "            min_samples_leaf=1, min_samples_split=2,\n",
       "            min_weight_fraction_leaf=0.0, n_estimators=300, n_jobs=None,\n",
       "            oob_score=False, random_state=0, verbose=0, warm_start=False),\n",
       "       fit_params=None, iid='warn', n_jobs=-1,\n",
       "       param_grid={'n_estimators': [200, 300, 400], 'max_depth': [4, 5, 6], 'criterion': ['gini', 'entropy']},\n",
       "       pre_dispatch='2*n_jobs', refit=True, return_train_score='warn',\n",
       "       scoring='roc_auc', verbose=1)"
      ]
     },
     "execution_count": 154,
     "metadata": {},
     "output_type": "execute_result"
    }
   ],
   "source": [
    "gd_sr.fit(X_train,y_train)"
   ]
  },
  {
   "cell_type": "code",
   "execution_count": 155,
   "metadata": {},
   "outputs": [
    {
     "name": "stdout",
     "output_type": "stream",
     "text": [
      "{'criterion': 'entropy', 'max_depth': 6, 'n_estimators': 200}\n"
     ]
    }
   ],
   "source": [
    "best_parameters = gd_sr.best_params_  \n",
    "print(best_parameters)   "
   ]
  },
  {
   "cell_type": "code",
   "execution_count": 156,
   "metadata": {},
   "outputs": [
    {
     "name": "stdout",
     "output_type": "stream",
     "text": [
      "0.6611694461063582\n"
     ]
    }
   ],
   "source": [
    "best_result = gd_sr.best_score_  \n",
    "print(best_result) "
   ]
  },
  {
   "cell_type": "code",
   "execution_count": 158,
   "metadata": {},
   "outputs": [],
   "source": [
    "filename = '../features_juli_with_support.pkl'\n",
    "with open(filename,'rb') as file:\n",
    "    train_with_support = pickle.load(file)\n",
    "    "
   ]
  },
  {
   "cell_type": "code",
   "execution_count": 157,
   "metadata": {},
   "outputs": [],
   "source": [
    "filename = '../test_features_juli_with_support.pkl'\n",
    "with open(filename,'rb') as file:\n",
    "    test_with_support = pickle.load(file)"
   ]
  },
  {
   "cell_type": "code",
   "execution_count": 160,
   "metadata": {},
   "outputs": [
    {
     "data": {
      "text/plain": [
       "Index(['visited site', 'generic listing', 'conversion', 'viewed product',\n",
       "       'person', 'tiempo_promedio_por_dia', 'label', 'modelo_mas_visto',\n",
       "       'condition_mode', 'storage_mode', 'campaing_mode', 'cant_model_vistos',\n",
       "       'event_support'],\n",
       "      dtype='object')"
      ]
     },
     "execution_count": 160,
     "metadata": {},
     "output_type": "execute_result"
    }
   ],
   "source": [
    "train_with_support.columns"
   ]
  },
  {
   "cell_type": "code",
   "execution_count": 163,
   "metadata": {},
   "outputs": [],
   "source": [
    "X_train_support =  train_with_support[['visited site', 'generic listing', 'conversion', 'viewed product'\n",
    "       , 'tiempo_promedio_por_dia', 'modelo_mas_visto',\n",
    "       'condition_mode', 'storage_mode', 'campaing_mode', 'cant_model_vistos',\n",
    "       'event_support']]"
   ]
  },
  {
   "cell_type": "code",
   "execution_count": 165,
   "metadata": {},
   "outputs": [],
   "source": [
    "y_train_support = train_with_support.label"
   ]
  },
  {
   "cell_type": "code",
   "execution_count": 166,
   "metadata": {},
   "outputs": [],
   "source": [
    "from sklearn.model_selection import train_test_split\n",
    "\n",
    "X_train_support, X_test_support, y_train_support, y_test_support =  train_test_split(X_train_support, y_train_support, test_size=0.3, random_state=100)"
   ]
  },
  {
   "cell_type": "code",
   "execution_count": 168,
   "metadata": {},
   "outputs": [],
   "source": [
    "gd_sr_with_support = GridSearchCV(estimator=classifier,  \n",
    "                     param_grid=param_grid,\n",
    "                     scoring='roc_auc',\n",
    "                     cv=3,\n",
    "                     n_jobs=-1, verbose=1)"
   ]
  },
  {
   "cell_type": "code",
   "execution_count": 169,
   "metadata": {},
   "outputs": [
    {
     "name": "stdout",
     "output_type": "stream",
     "text": [
      "Fitting 3 folds for each of 18 candidates, totalling 54 fits\n"
     ]
    },
    {
     "name": "stderr",
     "output_type": "stream",
     "text": [
      "[Parallel(n_jobs=-1)]: Using backend LokyBackend with 2 concurrent workers.\n",
      "[Parallel(n_jobs=-1)]: Done  46 tasks      | elapsed:  8.4min\n",
      "[Parallel(n_jobs=-1)]: Done  54 out of  54 | elapsed: 10.2min finished\n"
     ]
    },
    {
     "data": {
      "text/plain": [
       "GridSearchCV(cv=3, error_score='raise-deprecating',\n",
       "       estimator=RandomForestClassifier(bootstrap=True, class_weight=None, criterion='gini',\n",
       "            max_depth=None, max_features='auto', max_leaf_nodes=None,\n",
       "            min_impurity_decrease=0.0, min_impurity_split=None,\n",
       "            min_samples_leaf=1, min_samples_split=2,\n",
       "            min_weight_fraction_leaf=0.0, n_estimators=300, n_jobs=None,\n",
       "            oob_score=False, random_state=0, verbose=0, warm_start=False),\n",
       "       fit_params=None, iid='warn', n_jobs=-1,\n",
       "       param_grid={'n_estimators': [200, 300, 400], 'max_depth': [4, 5, 6], 'criterion': ['gini', 'entropy']},\n",
       "       pre_dispatch='2*n_jobs', refit=True, return_train_score='warn',\n",
       "       scoring='roc_auc', verbose=1)"
      ]
     },
     "execution_count": 169,
     "metadata": {},
     "output_type": "execute_result"
    }
   ],
   "source": [
    "gd_sr_with_support.fit(X_train_support, y_train_support)"
   ]
  },
  {
   "cell_type": "code",
   "execution_count": 174,
   "metadata": {},
   "outputs": [
    {
     "data": {
      "text/plain": [
       "{'criterion': 'entropy', 'max_depth': 6, 'n_estimators': 300}"
      ]
     },
     "execution_count": 174,
     "metadata": {},
     "output_type": "execute_result"
    }
   ],
   "source": [
    "gd_sr_with_support.best_params_"
   ]
  },
  {
   "cell_type": "code",
   "execution_count": 175,
   "metadata": {},
   "outputs": [
    {
     "data": {
      "text/plain": [
       "0.6929098699113517"
      ]
     },
     "execution_count": 175,
     "metadata": {},
     "output_type": "execute_result"
    }
   ],
   "source": [
    "gd_sr_with_support.best_score_  "
   ]
  },
  {
   "cell_type": "code",
   "execution_count": 176,
   "metadata": {},
   "outputs": [
    {
     "data": {
      "text/plain": [
       "Index(['visited site', 'generic listing', 'conversion', 'viewed product',\n",
       "       'tiempo_promedio_por_dia', 'modelo_mas_visto', 'condition_mode',\n",
       "       'storage_mode', 'campaing_mode', 'cant_model_vistos', 'event_support'],\n",
       "      dtype='object')"
      ]
     },
     "execution_count": 176,
     "metadata": {},
     "output_type": "execute_result"
    }
   ],
   "source": [
    "X_train_support.columns"
   ]
  },
  {
   "cell_type": "code",
   "execution_count": 178,
   "metadata": {},
   "outputs": [],
   "source": [
    "X_train_support.tiempo_promedio_por_dia = X_train_support.tiempo_promedio_por_dia / 3600"
   ]
  },
  {
   "cell_type": "code",
   "execution_count": 181,
   "metadata": {},
   "outputs": [
    {
     "name": "stdout",
     "output_type": "stream",
     "text": [
      "Fitting 3 folds for each of 18 candidates, totalling 54 fits\n"
     ]
    },
    {
     "name": "stderr",
     "output_type": "stream",
     "text": [
      "[Parallel(n_jobs=-1)]: Using backend LokyBackend with 2 concurrent workers.\n",
      "[Parallel(n_jobs=-1)]: Done  46 tasks      | elapsed:  7.7min\n",
      "[Parallel(n_jobs=-1)]: Done  54 out of  54 | elapsed:  9.3min finished\n"
     ]
    },
    {
     "data": {
      "text/plain": [
       "GridSearchCV(cv=3, error_score='raise-deprecating',\n",
       "       estimator=RandomForestClassifier(bootstrap=True, class_weight=None, criterion='gini',\n",
       "            max_depth=None, max_features='auto', max_leaf_nodes=None,\n",
       "            min_impurity_decrease=0.0, min_impurity_split=None,\n",
       "            min_samples_leaf=1, min_samples_split=2,\n",
       "            min_weight_fraction_leaf=0.0, n_estimators=300, n_jobs=None,\n",
       "            oob_score=False, random_state=0, verbose=0, warm_start=False),\n",
       "       fit_params=None, iid='warn', n_jobs=-1,\n",
       "       param_grid={'n_estimators': [200, 300, 400], 'max_depth': [4, 5, 6], 'criterion': ['gini', 'entropy']},\n",
       "       pre_dispatch='2*n_jobs', refit=True, return_train_score='warn',\n",
       "       scoring='roc_auc', verbose=1)"
      ]
     },
     "execution_count": 181,
     "metadata": {},
     "output_type": "execute_result"
    }
   ],
   "source": [
    "gd_sr_with_support.fit(X_train_support, y_train_support)"
   ]
  },
  {
   "cell_type": "code",
   "execution_count": 182,
   "metadata": {},
   "outputs": [
    {
     "data": {
      "text/plain": [
       "{'criterion': 'entropy', 'max_depth': 6, 'n_estimators': 300}"
      ]
     },
     "execution_count": 182,
     "metadata": {},
     "output_type": "execute_result"
    }
   ],
   "source": [
    "gd_sr_with_support.best_params_"
   ]
  },
  {
   "cell_type": "code",
   "execution_count": 183,
   "metadata": {},
   "outputs": [
    {
     "data": {
      "text/plain": [
       "0.6929489695828365"
      ]
     },
     "execution_count": 183,
     "metadata": {},
     "output_type": "execute_result"
    }
   ],
   "source": [
    "gd_sr_with_support.best_score_  "
   ]
  },
  {
   "cell_type": "code",
   "execution_count": 187,
   "metadata": {},
   "outputs": [],
   "source": [
    "param_grid2 = { \n",
    "    'max_depth' : [3,4,5,6,7,8,9,10,11],\n",
    "}"
   ]
  },
  {
   "cell_type": "code",
   "execution_count": 186,
   "metadata": {},
   "outputs": [],
   "source": [
    "classifier = RandomForestClassifier(n_estimators=300,criterion='entropy', random_state=0)  "
   ]
  },
  {
   "cell_type": "code",
   "execution_count": 188,
   "metadata": {},
   "outputs": [],
   "source": [
    "gd_sr2 = GridSearchCV(estimator=classifier,  \n",
    "                     param_grid=param_grid2,\n",
    "                     scoring='roc_auc',\n",
    "                     cv=3,\n",
    "                     n_jobs=-1, verbose=2)"
   ]
  },
  {
   "cell_type": "code",
   "execution_count": 189,
   "metadata": {},
   "outputs": [
    {
     "name": "stdout",
     "output_type": "stream",
     "text": [
      "Fitting 3 folds for each of 9 candidates, totalling 27 fits\n"
     ]
    },
    {
     "name": "stderr",
     "output_type": "stream",
     "text": [
      "[Parallel(n_jobs=-1)]: Using backend LokyBackend with 2 concurrent workers.\n",
      "[Parallel(n_jobs=-1)]: Done  27 out of  27 | elapsed:  6.2min finished\n"
     ]
    },
    {
     "data": {
      "text/plain": [
       "GridSearchCV(cv=3, error_score='raise-deprecating',\n",
       "       estimator=RandomForestClassifier(bootstrap=True, class_weight=None, criterion='entropy',\n",
       "            max_depth=None, max_features='auto', max_leaf_nodes=None,\n",
       "            min_impurity_decrease=0.0, min_impurity_split=None,\n",
       "            min_samples_leaf=1, min_samples_split=2,\n",
       "            min_weight_fraction_leaf=0.0, n_estimators=300, n_jobs=None,\n",
       "            oob_score=False, random_state=0, verbose=0, warm_start=False),\n",
       "       fit_params=None, iid='warn', n_jobs=-1,\n",
       "       param_grid={'max_depth': [3, 4, 5, 6, 7, 8, 9, 10, 11]},\n",
       "       pre_dispatch='2*n_jobs', refit=True, return_train_score='warn',\n",
       "       scoring='roc_auc', verbose=2)"
      ]
     },
     "execution_count": 189,
     "metadata": {},
     "output_type": "execute_result"
    }
   ],
   "source": [
    "gd_sr2.fit(X_train_support, y_train_support)"
   ]
  },
  {
   "cell_type": "code",
   "execution_count": 190,
   "metadata": {},
   "outputs": [
    {
     "data": {
      "text/plain": [
       "0.7056085463849652"
      ]
     },
     "execution_count": 190,
     "metadata": {},
     "output_type": "execute_result"
    }
   ],
   "source": [
    "gd_sr2.best_score_"
   ]
  },
  {
   "cell_type": "code",
   "execution_count": 191,
   "metadata": {},
   "outputs": [
    {
     "data": {
      "text/plain": [
       "{'max_depth': 10}"
      ]
     },
     "execution_count": 191,
     "metadata": {},
     "output_type": "execute_result"
    }
   ],
   "source": [
    "gd_sr2.best_params_"
   ]
  },
  {
   "cell_type": "code",
   "execution_count": 197,
   "metadata": {},
   "outputs": [],
   "source": [
    "param_grid3 = { \n",
    "    'max_depth' : [10,20,30,40],\n",
    "}"
   ]
  },
  {
   "cell_type": "code",
   "execution_count": 198,
   "metadata": {},
   "outputs": [],
   "source": [
    "gd_sr3 = GridSearchCV(estimator=classifier,  \n",
    "                     param_grid=param_grid3,\n",
    "                     scoring='roc_auc',\n",
    "                     cv=3,\n",
    "                     n_jobs=-1, verbose=2)"
   ]
  },
  {
   "cell_type": "code",
   "execution_count": 199,
   "metadata": {},
   "outputs": [
    {
     "name": "stdout",
     "output_type": "stream",
     "text": [
      "Fitting 3 folds for each of 4 candidates, totalling 12 fits\n"
     ]
    },
    {
     "name": "stderr",
     "output_type": "stream",
     "text": [
      "[Parallel(n_jobs=-1)]: Using backend LokyBackend with 2 concurrent workers.\n",
      "[Parallel(n_jobs=-1)]: Done  12 out of  12 | elapsed:  7.5min finished\n"
     ]
    },
    {
     "data": {
      "text/plain": [
       "GridSearchCV(cv=3, error_score='raise-deprecating',\n",
       "       estimator=RandomForestClassifier(bootstrap=True, class_weight=None, criterion='entropy',\n",
       "            max_depth=None, max_features='auto', max_leaf_nodes=None,\n",
       "            min_impurity_decrease=0.0, min_impurity_split=None,\n",
       "            min_samples_leaf=1, min_samples_split=2,\n",
       "            min_weight_fraction_leaf=0.0, n_estimators=300, n_jobs=None,\n",
       "            oob_score=False, random_state=0, verbose=0, warm_start=False),\n",
       "       fit_params=None, iid='warn', n_jobs=-1,\n",
       "       param_grid={'max_depth': [10, 20, 30, 40]}, pre_dispatch='2*n_jobs',\n",
       "       refit=True, return_train_score='warn', scoring='roc_auc', verbose=2)"
      ]
     },
     "execution_count": 199,
     "metadata": {},
     "output_type": "execute_result"
    }
   ],
   "source": [
    "gd_sr3.fit(X_train_support,y_train_support)"
   ]
  },
  {
   "cell_type": "code",
   "execution_count": 200,
   "metadata": {},
   "outputs": [
    {
     "data": {
      "text/plain": [
       "0.7056085463849652"
      ]
     },
     "execution_count": 200,
     "metadata": {},
     "output_type": "execute_result"
    }
   ],
   "source": [
    "gd_sr3.best_score_"
   ]
  },
  {
   "cell_type": "code",
   "execution_count": 201,
   "metadata": {},
   "outputs": [
    {
     "data": {
      "text/plain": [
       "{'max_depth': 10}"
      ]
     },
     "execution_count": 201,
     "metadata": {},
     "output_type": "execute_result"
    }
   ],
   "source": [
    "gd_sr3.best_params_"
   ]
  },
  {
   "cell_type": "code",
   "execution_count": 207,
   "metadata": {},
   "outputs": [],
   "source": [
    "param_grid4 = { \n",
    "    'n_estimators' : [1, 2, 4, 8, 16, 32, 64, 100, 200]\n",
    "}\n"
   ]
  },
  {
   "cell_type": "code",
   "execution_count": 208,
   "metadata": {},
   "outputs": [],
   "source": [
    "gd_sr4 = GridSearchCV(estimator=classifier,  \n",
    "                     param_grid=param_grid4,\n",
    "                     scoring='roc_auc',\n",
    "                     cv=3,\n",
    "                     n_jobs=-1, verbose=2)"
   ]
  },
  {
   "cell_type": "code",
   "execution_count": 209,
   "metadata": {},
   "outputs": [
    {
     "name": "stdout",
     "output_type": "stream",
     "text": [
      "Fitting 3 folds for each of 9 candidates, totalling 27 fits\n"
     ]
    },
    {
     "name": "stderr",
     "output_type": "stream",
     "text": [
      "[Parallel(n_jobs=-1)]: Using backend LokyBackend with 2 concurrent workers.\n",
      "[Parallel(n_jobs=-1)]: Done  27 out of  27 | elapsed:  2.3min finished\n"
     ]
    },
    {
     "data": {
      "text/plain": [
       "GridSearchCV(cv=3, error_score='raise-deprecating',\n",
       "       estimator=RandomForestClassifier(bootstrap=True, class_weight=None, criterion='entropy',\n",
       "            max_depth=None, max_features='auto', max_leaf_nodes=None,\n",
       "            min_impurity_decrease=0.0, min_impurity_split=None,\n",
       "            min_samples_leaf=1, min_samples_split=2,\n",
       "            min_weight_fraction_leaf=0.0, n_estimators=300, n_jobs=None,\n",
       "            oob_score=False, random_state=0, verbose=0, warm_start=False),\n",
       "       fit_params=None, iid='warn', n_jobs=-1,\n",
       "       param_grid={'n_estimators': [1, 2, 4, 8, 16, 32, 64, 100, 200]},\n",
       "       pre_dispatch='2*n_jobs', refit=True, return_train_score='warn',\n",
       "       scoring='roc_auc', verbose=2)"
      ]
     },
     "execution_count": 209,
     "metadata": {},
     "output_type": "execute_result"
    }
   ],
   "source": [
    "gd_sr4.fit(X_train_support, y_train_support)"
   ]
  },
  {
   "cell_type": "code",
   "execution_count": 212,
   "metadata": {},
   "outputs": [
    {
     "data": {
      "text/plain": [
       "0.6872756599360859"
      ]
     },
     "execution_count": 212,
     "metadata": {},
     "output_type": "execute_result"
    }
   ],
   "source": [
    "gd_sr4.best_score_"
   ]
  },
  {
   "cell_type": "code",
   "execution_count": 213,
   "metadata": {},
   "outputs": [
    {
     "data": {
      "text/plain": [
       "{'n_estimators': 200}"
      ]
     },
     "execution_count": 213,
     "metadata": {},
     "output_type": "execute_result"
    }
   ],
   "source": [
    "gd_sr4.best_params_"
   ]
  },
  {
   "cell_type": "code",
   "execution_count": 214,
   "metadata": {},
   "outputs": [],
   "source": [
    "model = RandomForestClassifier(n_estimators=300, max_depth=10, criterion='entropy')"
   ]
  },
  {
   "cell_type": "code",
   "execution_count": 215,
   "metadata": {},
   "outputs": [
    {
     "data": {
      "text/plain": [
       "RandomForestClassifier(bootstrap=True, class_weight=None, criterion='entropy',\n",
       "            max_depth=10, max_features='auto', max_leaf_nodes=None,\n",
       "            min_impurity_decrease=0.0, min_impurity_split=None,\n",
       "            min_samples_leaf=1, min_samples_split=2,\n",
       "            min_weight_fraction_leaf=0.0, n_estimators=300, n_jobs=None,\n",
       "            oob_score=False, random_state=None, verbose=0,\n",
       "            warm_start=False)"
      ]
     },
     "execution_count": 215,
     "metadata": {},
     "output_type": "execute_result"
    }
   ],
   "source": [
    "model.fit(X_train_support, y_train_support)"
   ]
  },
  {
   "cell_type": "code",
   "execution_count": 216,
   "metadata": {},
   "outputs": [],
   "source": [
    "pred = model.predict(X_test_support)"
   ]
  },
  {
   "cell_type": "code",
   "execution_count": 217,
   "metadata": {},
   "outputs": [
    {
     "data": {
      "text/plain": [
       "0.4997289972899729"
      ]
     },
     "execution_count": 217,
     "metadata": {},
     "output_type": "execute_result"
    }
   ],
   "source": [
    "roc_auc_score(y_test_support, pred)"
   ]
  },
  {
   "cell_type": "code",
   "execution_count": 219,
   "metadata": {},
   "outputs": [
    {
     "data": {
      "text/plain": [
       "Index(['visited site', 'generic listing', 'conversion', 'viewed product',\n",
       "       'person', 'tiempo_promedio_por_dia', 'modelo_mas_visto',\n",
       "       'condition_mode', 'storage_mode', 'campaing_mode', 'cant_model_vistos',\n",
       "       'event_support'],\n",
       "      dtype='object')"
      ]
     },
     "execution_count": 219,
     "metadata": {},
     "output_type": "execute_result"
    }
   ],
   "source": [
    "test_with_support.columns"
   ]
  },
  {
   "cell_type": "code",
   "execution_count": 220,
   "metadata": {},
   "outputs": [],
   "source": [
    "xtest = test_with_support[['visited site', 'generic listing', 'conversion', 'viewed product',\n",
    "       'tiempo_promedio_por_dia', 'modelo_mas_visto',\n",
    "       'condition_mode', 'storage_mode', 'campaing_mode', 'cant_model_vistos',\n",
    "       'event_support']]"
   ]
  },
  {
   "cell_type": "code",
   "execution_count": 221,
   "metadata": {},
   "outputs": [
    {
     "data": {
      "text/plain": [
       "299"
      ]
     },
     "execution_count": 221,
     "metadata": {},
     "output_type": "execute_result"
    }
   ],
   "source": [
    "sum(pd.isnull(xtest['visited site']))"
   ]
  },
  {
   "cell_type": "code",
   "execution_count": 222,
   "metadata": {},
   "outputs": [
    {
     "name": "stderr",
     "output_type": "stream",
     "text": [
      "/home/july/anaconda3/lib/python3.6/site-packages/pandas/core/generic.py:3660: SettingWithCopyWarning: \n",
      "A value is trying to be set on a copy of a slice from a DataFrame\n",
      "\n",
      "See the caveats in the documentation: http://pandas.pydata.org/pandas-docs/stable/indexing.html#indexing-view-versus-copy\n",
      "  self._update_inplace(new_data)\n"
     ]
    },
    {
     "data": {
      "text/html": [
       "<div>\n",
       "<style>\n",
       "    .dataframe thead tr:only-child th {\n",
       "        text-align: right;\n",
       "    }\n",
       "\n",
       "    .dataframe thead th {\n",
       "        text-align: left;\n",
       "    }\n",
       "\n",
       "    .dataframe tbody tr th {\n",
       "        vertical-align: top;\n",
       "    }\n",
       "</style>\n",
       "<table border=\"1\" class=\"dataframe\">\n",
       "  <thead>\n",
       "    <tr style=\"text-align: right;\">\n",
       "      <th></th>\n",
       "      <th>visited site</th>\n",
       "      <th>generic listing</th>\n",
       "      <th>conversion</th>\n",
       "      <th>viewed product</th>\n",
       "      <th>tiempo_promedio_por_dia</th>\n",
       "      <th>modelo_mas_visto</th>\n",
       "      <th>condition_mode</th>\n",
       "      <th>storage_mode</th>\n",
       "      <th>campaing_mode</th>\n",
       "      <th>cant_model_vistos</th>\n",
       "      <th>event_support</th>\n",
       "    </tr>\n",
       "  </thead>\n",
       "  <tbody>\n",
       "    <tr>\n",
       "      <th>0</th>\n",
       "      <td>34.0</td>\n",
       "      <td>6.336274</td>\n",
       "      <td>1.656646</td>\n",
       "      <td>372.00000</td>\n",
       "      <td>17451.590909</td>\n",
       "      <td>10</td>\n",
       "      <td>4.0</td>\n",
       "      <td>32.0</td>\n",
       "      <td>-1</td>\n",
       "      <td>8</td>\n",
       "      <td>0.363903</td>\n",
       "    </tr>\n",
       "    <tr>\n",
       "      <th>1</th>\n",
       "      <td>1.0</td>\n",
       "      <td>6.336274</td>\n",
       "      <td>1.656646</td>\n",
       "      <td>3.00000</td>\n",
       "      <td>347.000000</td>\n",
       "      <td>10</td>\n",
       "      <td>5.0</td>\n",
       "      <td>16.0</td>\n",
       "      <td>-1</td>\n",
       "      <td>2</td>\n",
       "      <td>0.420021</td>\n",
       "    </tr>\n",
       "    <tr>\n",
       "      <th>2</th>\n",
       "      <td>6.0</td>\n",
       "      <td>14.000000</td>\n",
       "      <td>1.000000</td>\n",
       "      <td>153.00000</td>\n",
       "      <td>11277.000000</td>\n",
       "      <td>6</td>\n",
       "      <td>3.0</td>\n",
       "      <td>16.0</td>\n",
       "      <td>-1</td>\n",
       "      <td>6</td>\n",
       "      <td>0.062016</td>\n",
       "    </tr>\n",
       "    <tr>\n",
       "      <th>3</th>\n",
       "      <td>13.0</td>\n",
       "      <td>17.000000</td>\n",
       "      <td>1.656646</td>\n",
       "      <td>339.00000</td>\n",
       "      <td>6850.666667</td>\n",
       "      <td>6</td>\n",
       "      <td>4.0</td>\n",
       "      <td>32.0</td>\n",
       "      <td>-1</td>\n",
       "      <td>6</td>\n",
       "      <td>0.260913</td>\n",
       "    </tr>\n",
       "    <tr>\n",
       "      <th>4</th>\n",
       "      <td>5.0</td>\n",
       "      <td>8.000000</td>\n",
       "      <td>1.656646</td>\n",
       "      <td>28.00000</td>\n",
       "      <td>4015.000000</td>\n",
       "      <td>10</td>\n",
       "      <td>3.0</td>\n",
       "      <td>32.0</td>\n",
       "      <td>-1</td>\n",
       "      <td>5</td>\n",
       "      <td>0.138376</td>\n",
       "    </tr>\n",
       "    <tr>\n",
       "      <th>5</th>\n",
       "      <td>3.0</td>\n",
       "      <td>3.000000</td>\n",
       "      <td>1.000000</td>\n",
       "      <td>41.00000</td>\n",
       "      <td>34837.000000</td>\n",
       "      <td>10</td>\n",
       "      <td>4.0</td>\n",
       "      <td>16.0</td>\n",
       "      <td>-1</td>\n",
       "      <td>2</td>\n",
       "      <td>0.059208</td>\n",
       "    </tr>\n",
       "    <tr>\n",
       "      <th>6</th>\n",
       "      <td>1.0</td>\n",
       "      <td>6.336274</td>\n",
       "      <td>1.656646</td>\n",
       "      <td>1.00000</td>\n",
       "      <td>43.000000</td>\n",
       "      <td>6</td>\n",
       "      <td>3.0</td>\n",
       "      <td>8.0</td>\n",
       "      <td>-1</td>\n",
       "      <td>2</td>\n",
       "      <td>0.692601</td>\n",
       "    </tr>\n",
       "    <tr>\n",
       "      <th>7</th>\n",
       "      <td>1.0</td>\n",
       "      <td>6.336274</td>\n",
       "      <td>1.656646</td>\n",
       "      <td>1.00000</td>\n",
       "      <td>2.000000</td>\n",
       "      <td>6</td>\n",
       "      <td>3.0</td>\n",
       "      <td>32.0</td>\n",
       "      <td>-1</td>\n",
       "      <td>2</td>\n",
       "      <td>0.692601</td>\n",
       "    </tr>\n",
       "    <tr>\n",
       "      <th>8</th>\n",
       "      <td>1.0</td>\n",
       "      <td>6.336274</td>\n",
       "      <td>1.000000</td>\n",
       "      <td>33.34542</td>\n",
       "      <td>22960.000000</td>\n",
       "      <td>10</td>\n",
       "      <td>3.0</td>\n",
       "      <td>16.0</td>\n",
       "      <td>-1</td>\n",
       "      <td>2</td>\n",
       "      <td>0.108064</td>\n",
       "    </tr>\n",
       "    <tr>\n",
       "      <th>9</th>\n",
       "      <td>1.0</td>\n",
       "      <td>6.336274</td>\n",
       "      <td>1.656646</td>\n",
       "      <td>6.00000</td>\n",
       "      <td>875.000000</td>\n",
       "      <td>10</td>\n",
       "      <td>3.0</td>\n",
       "      <td>32.0</td>\n",
       "      <td>-1</td>\n",
       "      <td>3</td>\n",
       "      <td>0.473048</td>\n",
       "    </tr>\n",
       "    <tr>\n",
       "      <th>10</th>\n",
       "      <td>4.0</td>\n",
       "      <td>6.336274</td>\n",
       "      <td>1.656646</td>\n",
       "      <td>14.00000</td>\n",
       "      <td>31037.500000</td>\n",
       "      <td>10</td>\n",
       "      <td>3.0</td>\n",
       "      <td>16.0</td>\n",
       "      <td>-1</td>\n",
       "      <td>2</td>\n",
       "      <td>0.692601</td>\n",
       "    </tr>\n",
       "    <tr>\n",
       "      <th>11</th>\n",
       "      <td>27.0</td>\n",
       "      <td>48.000000</td>\n",
       "      <td>1.656646</td>\n",
       "      <td>15.00000</td>\n",
       "      <td>13937.470588</td>\n",
       "      <td>10</td>\n",
       "      <td>3.0</td>\n",
       "      <td>4.0</td>\n",
       "      <td>-1</td>\n",
       "      <td>2</td>\n",
       "      <td>0.375544</td>\n",
       "    </tr>\n",
       "    <tr>\n",
       "      <th>12</th>\n",
       "      <td>6.0</td>\n",
       "      <td>2.000000</td>\n",
       "      <td>1.656646</td>\n",
       "      <td>102.00000</td>\n",
       "      <td>18439.600000</td>\n",
       "      <td>6</td>\n",
       "      <td>3.0</td>\n",
       "      <td>32.0</td>\n",
       "      <td>-1</td>\n",
       "      <td>5</td>\n",
       "      <td>0.045688</td>\n",
       "    </tr>\n",
       "    <tr>\n",
       "      <th>13</th>\n",
       "      <td>1.0</td>\n",
       "      <td>6.336274</td>\n",
       "      <td>1.656646</td>\n",
       "      <td>11.00000</td>\n",
       "      <td>833.000000</td>\n",
       "      <td>6</td>\n",
       "      <td>4.0</td>\n",
       "      <td>8.0</td>\n",
       "      <td>-1</td>\n",
       "      <td>2</td>\n",
       "      <td>0.692601</td>\n",
       "    </tr>\n",
       "    <tr>\n",
       "      <th>14</th>\n",
       "      <td>34.0</td>\n",
       "      <td>26.000000</td>\n",
       "      <td>4.000000</td>\n",
       "      <td>161.00000</td>\n",
       "      <td>11962.900000</td>\n",
       "      <td>10</td>\n",
       "      <td>3.0</td>\n",
       "      <td>64.0</td>\n",
       "      <td>-1</td>\n",
       "      <td>7</td>\n",
       "      <td>0.041078</td>\n",
       "    </tr>\n",
       "    <tr>\n",
       "      <th>15</th>\n",
       "      <td>8.0</td>\n",
       "      <td>8.000000</td>\n",
       "      <td>2.000000</td>\n",
       "      <td>22.00000</td>\n",
       "      <td>15220.000000</td>\n",
       "      <td>10</td>\n",
       "      <td>3.0</td>\n",
       "      <td>32.0</td>\n",
       "      <td>-1</td>\n",
       "      <td>3</td>\n",
       "      <td>0.022045</td>\n",
       "    </tr>\n",
       "    <tr>\n",
       "      <th>16</th>\n",
       "      <td>8.0</td>\n",
       "      <td>5.000000</td>\n",
       "      <td>1.656646</td>\n",
       "      <td>20.00000</td>\n",
       "      <td>22237.500000</td>\n",
       "      <td>10</td>\n",
       "      <td>4.0</td>\n",
       "      <td>16.0</td>\n",
       "      <td>-1</td>\n",
       "      <td>2</td>\n",
       "      <td>0.138376</td>\n",
       "    </tr>\n",
       "    <tr>\n",
       "      <th>17</th>\n",
       "      <td>1.0</td>\n",
       "      <td>6.336274</td>\n",
       "      <td>1.656646</td>\n",
       "      <td>7.00000</td>\n",
       "      <td>203.000000</td>\n",
       "      <td>6</td>\n",
       "      <td>5.0</td>\n",
       "      <td>32.0</td>\n",
       "      <td>-1</td>\n",
       "      <td>2</td>\n",
       "      <td>0.473048</td>\n",
       "    </tr>\n",
       "    <tr>\n",
       "      <th>18</th>\n",
       "      <td>50.0</td>\n",
       "      <td>49.000000</td>\n",
       "      <td>1.000000</td>\n",
       "      <td>68.00000</td>\n",
       "      <td>30638.523810</td>\n",
       "      <td>10</td>\n",
       "      <td>3.0</td>\n",
       "      <td>32.0</td>\n",
       "      <td>-1</td>\n",
       "      <td>8</td>\n",
       "      <td>0.021402</td>\n",
       "    </tr>\n",
       "    <tr>\n",
       "      <th>19</th>\n",
       "      <td>12.0</td>\n",
       "      <td>6.000000</td>\n",
       "      <td>1.656646</td>\n",
       "      <td>51.00000</td>\n",
       "      <td>23798.000000</td>\n",
       "      <td>10</td>\n",
       "      <td>3.0</td>\n",
       "      <td>64.0</td>\n",
       "      <td>-1</td>\n",
       "      <td>2</td>\n",
       "      <td>0.297123</td>\n",
       "    </tr>\n",
       "    <tr>\n",
       "      <th>20</th>\n",
       "      <td>1.0</td>\n",
       "      <td>6.336274</td>\n",
       "      <td>1.656646</td>\n",
       "      <td>1.00000</td>\n",
       "      <td>1.000000</td>\n",
       "      <td>10</td>\n",
       "      <td>5.0</td>\n",
       "      <td>32.0</td>\n",
       "      <td>-1</td>\n",
       "      <td>2</td>\n",
       "      <td>0.655773</td>\n",
       "    </tr>\n",
       "    <tr>\n",
       "      <th>21</th>\n",
       "      <td>1.0</td>\n",
       "      <td>1.000000</td>\n",
       "      <td>1.656646</td>\n",
       "      <td>7.00000</td>\n",
       "      <td>162.000000</td>\n",
       "      <td>6</td>\n",
       "      <td>5.0</td>\n",
       "      <td>8.0</td>\n",
       "      <td>-1</td>\n",
       "      <td>2</td>\n",
       "      <td>0.375544</td>\n",
       "    </tr>\n",
       "    <tr>\n",
       "      <th>22</th>\n",
       "      <td>3.0</td>\n",
       "      <td>2.000000</td>\n",
       "      <td>1.656646</td>\n",
       "      <td>4.00000</td>\n",
       "      <td>17087.666667</td>\n",
       "      <td>10</td>\n",
       "      <td>4.0</td>\n",
       "      <td>4.0</td>\n",
       "      <td>-1</td>\n",
       "      <td>2</td>\n",
       "      <td>0.375544</td>\n",
       "    </tr>\n",
       "    <tr>\n",
       "      <th>23</th>\n",
       "      <td>4.0</td>\n",
       "      <td>2.000000</td>\n",
       "      <td>1.656646</td>\n",
       "      <td>29.00000</td>\n",
       "      <td>588.750000</td>\n",
       "      <td>10</td>\n",
       "      <td>4.0</td>\n",
       "      <td>16.0</td>\n",
       "      <td>-1</td>\n",
       "      <td>3</td>\n",
       "      <td>0.138376</td>\n",
       "    </tr>\n",
       "    <tr>\n",
       "      <th>24</th>\n",
       "      <td>5.0</td>\n",
       "      <td>2.000000</td>\n",
       "      <td>3.000000</td>\n",
       "      <td>14.00000</td>\n",
       "      <td>4749.500000</td>\n",
       "      <td>6</td>\n",
       "      <td>4.0</td>\n",
       "      <td>32.0</td>\n",
       "      <td>-1</td>\n",
       "      <td>3</td>\n",
       "      <td>0.054418</td>\n",
       "    </tr>\n",
       "    <tr>\n",
       "      <th>25</th>\n",
       "      <td>44.0</td>\n",
       "      <td>49.000000</td>\n",
       "      <td>4.000000</td>\n",
       "      <td>181.00000</td>\n",
       "      <td>15556.658537</td>\n",
       "      <td>10</td>\n",
       "      <td>5.0</td>\n",
       "      <td>32.0</td>\n",
       "      <td>-1</td>\n",
       "      <td>7</td>\n",
       "      <td>0.000000</td>\n",
       "    </tr>\n",
       "    <tr>\n",
       "      <th>26</th>\n",
       "      <td>4.0</td>\n",
       "      <td>7.000000</td>\n",
       "      <td>1.656646</td>\n",
       "      <td>17.00000</td>\n",
       "      <td>491.750000</td>\n",
       "      <td>10</td>\n",
       "      <td>4.0</td>\n",
       "      <td>16.0</td>\n",
       "      <td>-1</td>\n",
       "      <td>4</td>\n",
       "      <td>0.138376</td>\n",
       "    </tr>\n",
       "    <tr>\n",
       "      <th>27</th>\n",
       "      <td>2.0</td>\n",
       "      <td>1.000000</td>\n",
       "      <td>1.656646</td>\n",
       "      <td>13.00000</td>\n",
       "      <td>123.000000</td>\n",
       "      <td>6</td>\n",
       "      <td>3.0</td>\n",
       "      <td>32.0</td>\n",
       "      <td>-1</td>\n",
       "      <td>4</td>\n",
       "      <td>0.435010</td>\n",
       "    </tr>\n",
       "    <tr>\n",
       "      <th>28</th>\n",
       "      <td>14.0</td>\n",
       "      <td>2.000000</td>\n",
       "      <td>1.656646</td>\n",
       "      <td>27.00000</td>\n",
       "      <td>16900.750000</td>\n",
       "      <td>10</td>\n",
       "      <td>3.0</td>\n",
       "      <td>32.0</td>\n",
       "      <td>-1</td>\n",
       "      <td>2</td>\n",
       "      <td>0.138376</td>\n",
       "    </tr>\n",
       "    <tr>\n",
       "      <th>29</th>\n",
       "      <td>4.0</td>\n",
       "      <td>3.000000</td>\n",
       "      <td>1.656646</td>\n",
       "      <td>20.00000</td>\n",
       "      <td>1479.333333</td>\n",
       "      <td>6</td>\n",
       "      <td>3.0</td>\n",
       "      <td>16.0</td>\n",
       "      <td>-1</td>\n",
       "      <td>2</td>\n",
       "      <td>0.297123</td>\n",
       "    </tr>\n",
       "    <tr>\n",
       "      <th>...</th>\n",
       "      <td>...</td>\n",
       "      <td>...</td>\n",
       "      <td>...</td>\n",
       "      <td>...</td>\n",
       "      <td>...</td>\n",
       "      <td>...</td>\n",
       "      <td>...</td>\n",
       "      <td>...</td>\n",
       "      <td>...</td>\n",
       "      <td>...</td>\n",
       "      <td>...</td>\n",
       "    </tr>\n",
       "    <tr>\n",
       "      <th>19385</th>\n",
       "      <td>15.0</td>\n",
       "      <td>9.000000</td>\n",
       "      <td>2.000000</td>\n",
       "      <td>154.00000</td>\n",
       "      <td>21596.000000</td>\n",
       "      <td>10</td>\n",
       "      <td>3.0</td>\n",
       "      <td>64.0</td>\n",
       "      <td>-1</td>\n",
       "      <td>2</td>\n",
       "      <td>0.062016</td>\n",
       "    </tr>\n",
       "    <tr>\n",
       "      <th>19386</th>\n",
       "      <td>1.0</td>\n",
       "      <td>1.000000</td>\n",
       "      <td>1.656646</td>\n",
       "      <td>1.00000</td>\n",
       "      <td>529.000000</td>\n",
       "      <td>10</td>\n",
       "      <td>3.0</td>\n",
       "      <td>16.0</td>\n",
       "      <td>-1</td>\n",
       "      <td>2</td>\n",
       "      <td>0.260913</td>\n",
       "    </tr>\n",
       "    <tr>\n",
       "      <th>19387</th>\n",
       "      <td>11.0</td>\n",
       "      <td>9.000000</td>\n",
       "      <td>1.656646</td>\n",
       "      <td>16.00000</td>\n",
       "      <td>32355.000000</td>\n",
       "      <td>10</td>\n",
       "      <td>2.0</td>\n",
       "      <td>16.0</td>\n",
       "      <td>-1</td>\n",
       "      <td>3</td>\n",
       "      <td>0.000000</td>\n",
       "    </tr>\n",
       "    <tr>\n",
       "      <th>19388</th>\n",
       "      <td>3.0</td>\n",
       "      <td>3.000000</td>\n",
       "      <td>1.656646</td>\n",
       "      <td>22.00000</td>\n",
       "      <td>2753.000000</td>\n",
       "      <td>10</td>\n",
       "      <td>3.0</td>\n",
       "      <td>128.0</td>\n",
       "      <td>-1</td>\n",
       "      <td>2</td>\n",
       "      <td>0.298952</td>\n",
       "    </tr>\n",
       "    <tr>\n",
       "      <th>19389</th>\n",
       "      <td>2.0</td>\n",
       "      <td>1.000000</td>\n",
       "      <td>1.656646</td>\n",
       "      <td>3.00000</td>\n",
       "      <td>28.500000</td>\n",
       "      <td>10</td>\n",
       "      <td>4.0</td>\n",
       "      <td>32.0</td>\n",
       "      <td>-1</td>\n",
       "      <td>2</td>\n",
       "      <td>0.194030</td>\n",
       "    </tr>\n",
       "    <tr>\n",
       "      <th>19390</th>\n",
       "      <td>2.0</td>\n",
       "      <td>3.000000</td>\n",
       "      <td>1.656646</td>\n",
       "      <td>16.00000</td>\n",
       "      <td>7881.000000</td>\n",
       "      <td>10</td>\n",
       "      <td>3.0</td>\n",
       "      <td>16.0</td>\n",
       "      <td>-1</td>\n",
       "      <td>3</td>\n",
       "      <td>0.149939</td>\n",
       "    </tr>\n",
       "    <tr>\n",
       "      <th>19391</th>\n",
       "      <td>1.0</td>\n",
       "      <td>6.336274</td>\n",
       "      <td>1.656646</td>\n",
       "      <td>2.00000</td>\n",
       "      <td>50.000000</td>\n",
       "      <td>10</td>\n",
       "      <td>3.0</td>\n",
       "      <td>16.0</td>\n",
       "      <td>-1</td>\n",
       "      <td>2</td>\n",
       "      <td>0.473048</td>\n",
       "    </tr>\n",
       "    <tr>\n",
       "      <th>19392</th>\n",
       "      <td>3.0</td>\n",
       "      <td>1.000000</td>\n",
       "      <td>1.656646</td>\n",
       "      <td>4.00000</td>\n",
       "      <td>26514.000000</td>\n",
       "      <td>10</td>\n",
       "      <td>4.0</td>\n",
       "      <td>16.0</td>\n",
       "      <td>-1</td>\n",
       "      <td>2</td>\n",
       "      <td>0.435010</td>\n",
       "    </tr>\n",
       "    <tr>\n",
       "      <th>19393</th>\n",
       "      <td>1.0</td>\n",
       "      <td>6.336274</td>\n",
       "      <td>1.656646</td>\n",
       "      <td>3.00000</td>\n",
       "      <td>69.000000</td>\n",
       "      <td>10</td>\n",
       "      <td>3.0</td>\n",
       "      <td>32.0</td>\n",
       "      <td>-1</td>\n",
       "      <td>2</td>\n",
       "      <td>0.473048</td>\n",
       "    </tr>\n",
       "    <tr>\n",
       "      <th>19394</th>\n",
       "      <td>1.0</td>\n",
       "      <td>6.336274</td>\n",
       "      <td>1.656646</td>\n",
       "      <td>1.00000</td>\n",
       "      <td>9.000000</td>\n",
       "      <td>6</td>\n",
       "      <td>3.0</td>\n",
       "      <td>16.0</td>\n",
       "      <td>-1</td>\n",
       "      <td>2</td>\n",
       "      <td>0.692601</td>\n",
       "    </tr>\n",
       "    <tr>\n",
       "      <th>19395</th>\n",
       "      <td>10.0</td>\n",
       "      <td>3.000000</td>\n",
       "      <td>1.656646</td>\n",
       "      <td>70.00000</td>\n",
       "      <td>11767.571429</td>\n",
       "      <td>10</td>\n",
       "      <td>5.0</td>\n",
       "      <td>64.0</td>\n",
       "      <td>-1</td>\n",
       "      <td>3</td>\n",
       "      <td>0.155451</td>\n",
       "    </tr>\n",
       "    <tr>\n",
       "      <th>19396</th>\n",
       "      <td>1.0</td>\n",
       "      <td>1.000000</td>\n",
       "      <td>1.656646</td>\n",
       "      <td>1.00000</td>\n",
       "      <td>177.000000</td>\n",
       "      <td>10</td>\n",
       "      <td>5.0</td>\n",
       "      <td>64.0</td>\n",
       "      <td>-1</td>\n",
       "      <td>2</td>\n",
       "      <td>0.297123</td>\n",
       "    </tr>\n",
       "    <tr>\n",
       "      <th>19397</th>\n",
       "      <td>1.0</td>\n",
       "      <td>6.336274</td>\n",
       "      <td>1.656646</td>\n",
       "      <td>16.00000</td>\n",
       "      <td>113.000000</td>\n",
       "      <td>6</td>\n",
       "      <td>3.0</td>\n",
       "      <td>16.0</td>\n",
       "      <td>-1</td>\n",
       "      <td>2</td>\n",
       "      <td>0.692601</td>\n",
       "    </tr>\n",
       "    <tr>\n",
       "      <th>19398</th>\n",
       "      <td>1.0</td>\n",
       "      <td>6.336274</td>\n",
       "      <td>1.656646</td>\n",
       "      <td>1.00000</td>\n",
       "      <td>2.000000</td>\n",
       "      <td>10</td>\n",
       "      <td>3.0</td>\n",
       "      <td>64.0</td>\n",
       "      <td>-1</td>\n",
       "      <td>2</td>\n",
       "      <td>0.692601</td>\n",
       "    </tr>\n",
       "    <tr>\n",
       "      <th>19399</th>\n",
       "      <td>1.0</td>\n",
       "      <td>6.336274</td>\n",
       "      <td>1.656646</td>\n",
       "      <td>1.00000</td>\n",
       "      <td>13.000000</td>\n",
       "      <td>6</td>\n",
       "      <td>4.0</td>\n",
       "      <td>8.0</td>\n",
       "      <td>-1</td>\n",
       "      <td>2</td>\n",
       "      <td>0.692601</td>\n",
       "    </tr>\n",
       "    <tr>\n",
       "      <th>19400</th>\n",
       "      <td>12.0</td>\n",
       "      <td>9.000000</td>\n",
       "      <td>1.656646</td>\n",
       "      <td>418.00000</td>\n",
       "      <td>825.250000</td>\n",
       "      <td>6</td>\n",
       "      <td>4.0</td>\n",
       "      <td>16.0</td>\n",
       "      <td>-1</td>\n",
       "      <td>7</td>\n",
       "      <td>0.038811</td>\n",
       "    </tr>\n",
       "    <tr>\n",
       "      <th>19401</th>\n",
       "      <td>3.0</td>\n",
       "      <td>1.000000</td>\n",
       "      <td>1.656646</td>\n",
       "      <td>6.00000</td>\n",
       "      <td>26078.333333</td>\n",
       "      <td>10</td>\n",
       "      <td>5.0</td>\n",
       "      <td>16.0</td>\n",
       "      <td>-1</td>\n",
       "      <td>3</td>\n",
       "      <td>0.260913</td>\n",
       "    </tr>\n",
       "    <tr>\n",
       "      <th>19402</th>\n",
       "      <td>8.0</td>\n",
       "      <td>10.000000</td>\n",
       "      <td>1.656646</td>\n",
       "      <td>53.00000</td>\n",
       "      <td>7512.600000</td>\n",
       "      <td>10</td>\n",
       "      <td>5.0</td>\n",
       "      <td>32.0</td>\n",
       "      <td>-1</td>\n",
       "      <td>5</td>\n",
       "      <td>0.045713</td>\n",
       "    </tr>\n",
       "    <tr>\n",
       "      <th>19403</th>\n",
       "      <td>5.0</td>\n",
       "      <td>9.000000</td>\n",
       "      <td>1.656646</td>\n",
       "      <td>5.00000</td>\n",
       "      <td>10596.250000</td>\n",
       "      <td>10</td>\n",
       "      <td>3.0</td>\n",
       "      <td>64.0</td>\n",
       "      <td>-1</td>\n",
       "      <td>3</td>\n",
       "      <td>0.298952</td>\n",
       "    </tr>\n",
       "    <tr>\n",
       "      <th>19404</th>\n",
       "      <td>31.0</td>\n",
       "      <td>21.000000</td>\n",
       "      <td>1.000000</td>\n",
       "      <td>11.00000</td>\n",
       "      <td>18799.071429</td>\n",
       "      <td>10</td>\n",
       "      <td>3.0</td>\n",
       "      <td>8.0</td>\n",
       "      <td>-1</td>\n",
       "      <td>5</td>\n",
       "      <td>0.029488</td>\n",
       "    </tr>\n",
       "    <tr>\n",
       "      <th>19405</th>\n",
       "      <td>1.0</td>\n",
       "      <td>6.336274</td>\n",
       "      <td>1.656646</td>\n",
       "      <td>1.00000</td>\n",
       "      <td>335.000000</td>\n",
       "      <td>10</td>\n",
       "      <td>4.0</td>\n",
       "      <td>16.0</td>\n",
       "      <td>-1</td>\n",
       "      <td>2</td>\n",
       "      <td>0.692601</td>\n",
       "    </tr>\n",
       "    <tr>\n",
       "      <th>19406</th>\n",
       "      <td>3.0</td>\n",
       "      <td>1.000000</td>\n",
       "      <td>1.000000</td>\n",
       "      <td>23.00000</td>\n",
       "      <td>235.000000</td>\n",
       "      <td>6</td>\n",
       "      <td>5.0</td>\n",
       "      <td>8.0</td>\n",
       "      <td>-1</td>\n",
       "      <td>3</td>\n",
       "      <td>0.075871</td>\n",
       "    </tr>\n",
       "    <tr>\n",
       "      <th>19407</th>\n",
       "      <td>1.0</td>\n",
       "      <td>1.000000</td>\n",
       "      <td>1.656646</td>\n",
       "      <td>12.00000</td>\n",
       "      <td>2666.000000</td>\n",
       "      <td>10</td>\n",
       "      <td>3.0</td>\n",
       "      <td>32.0</td>\n",
       "      <td>-1</td>\n",
       "      <td>4</td>\n",
       "      <td>0.342631</td>\n",
       "    </tr>\n",
       "    <tr>\n",
       "      <th>19408</th>\n",
       "      <td>5.0</td>\n",
       "      <td>7.000000</td>\n",
       "      <td>2.000000</td>\n",
       "      <td>110.00000</td>\n",
       "      <td>18440.500000</td>\n",
       "      <td>6</td>\n",
       "      <td>3.0</td>\n",
       "      <td>16.0</td>\n",
       "      <td>-1</td>\n",
       "      <td>6</td>\n",
       "      <td>0.041078</td>\n",
       "    </tr>\n",
       "    <tr>\n",
       "      <th>19409</th>\n",
       "      <td>2.0</td>\n",
       "      <td>6.336274</td>\n",
       "      <td>1.656646</td>\n",
       "      <td>5.00000</td>\n",
       "      <td>25.500000</td>\n",
       "      <td>10</td>\n",
       "      <td>3.0</td>\n",
       "      <td>32.0</td>\n",
       "      <td>-1</td>\n",
       "      <td>2</td>\n",
       "      <td>0.555487</td>\n",
       "    </tr>\n",
       "    <tr>\n",
       "      <th>19410</th>\n",
       "      <td>1.0</td>\n",
       "      <td>6.336274</td>\n",
       "      <td>1.656646</td>\n",
       "      <td>19.00000</td>\n",
       "      <td>613.000000</td>\n",
       "      <td>6</td>\n",
       "      <td>5.0</td>\n",
       "      <td>64.0</td>\n",
       "      <td>-1</td>\n",
       "      <td>3</td>\n",
       "      <td>0.655773</td>\n",
       "    </tr>\n",
       "    <tr>\n",
       "      <th>19411</th>\n",
       "      <td>1.0</td>\n",
       "      <td>6.336274</td>\n",
       "      <td>1.656646</td>\n",
       "      <td>1.00000</td>\n",
       "      <td>16.000000</td>\n",
       "      <td>1</td>\n",
       "      <td>4.0</td>\n",
       "      <td>32.0</td>\n",
       "      <td>-1</td>\n",
       "      <td>2</td>\n",
       "      <td>0.692601</td>\n",
       "    </tr>\n",
       "    <tr>\n",
       "      <th>19412</th>\n",
       "      <td>1.0</td>\n",
       "      <td>6.336274</td>\n",
       "      <td>1.656646</td>\n",
       "      <td>33.34542</td>\n",
       "      <td>70538.000000</td>\n",
       "      <td>10</td>\n",
       "      <td>3.0</td>\n",
       "      <td>16.0</td>\n",
       "      <td>-1</td>\n",
       "      <td>1</td>\n",
       "      <td>0.669989</td>\n",
       "    </tr>\n",
       "    <tr>\n",
       "      <th>19413</th>\n",
       "      <td>10.0</td>\n",
       "      <td>12.000000</td>\n",
       "      <td>1.000000</td>\n",
       "      <td>42.00000</td>\n",
       "      <td>8813.666667</td>\n",
       "      <td>10</td>\n",
       "      <td>5.0</td>\n",
       "      <td>16.0</td>\n",
       "      <td>-1</td>\n",
       "      <td>6</td>\n",
       "      <td>0.021402</td>\n",
       "    </tr>\n",
       "    <tr>\n",
       "      <th>19414</th>\n",
       "      <td>1.0</td>\n",
       "      <td>6.336274</td>\n",
       "      <td>1.656646</td>\n",
       "      <td>4.00000</td>\n",
       "      <td>143.000000</td>\n",
       "      <td>10</td>\n",
       "      <td>2.0</td>\n",
       "      <td>16.0</td>\n",
       "      <td>-1</td>\n",
       "      <td>2</td>\n",
       "      <td>0.299776</td>\n",
       "    </tr>\n",
       "  </tbody>\n",
       "</table>\n",
       "<p>19415 rows × 11 columns</p>\n",
       "</div>"
      ],
      "text/plain": [
       "       visited site  generic listing  conversion  viewed product  \\\n",
       "0              34.0         6.336274    1.656646       372.00000   \n",
       "1               1.0         6.336274    1.656646         3.00000   \n",
       "2               6.0        14.000000    1.000000       153.00000   \n",
       "3              13.0        17.000000    1.656646       339.00000   \n",
       "4               5.0         8.000000    1.656646        28.00000   \n",
       "5               3.0         3.000000    1.000000        41.00000   \n",
       "6               1.0         6.336274    1.656646         1.00000   \n",
       "7               1.0         6.336274    1.656646         1.00000   \n",
       "8               1.0         6.336274    1.000000        33.34542   \n",
       "9               1.0         6.336274    1.656646         6.00000   \n",
       "10              4.0         6.336274    1.656646        14.00000   \n",
       "11             27.0        48.000000    1.656646        15.00000   \n",
       "12              6.0         2.000000    1.656646       102.00000   \n",
       "13              1.0         6.336274    1.656646        11.00000   \n",
       "14             34.0        26.000000    4.000000       161.00000   \n",
       "15              8.0         8.000000    2.000000        22.00000   \n",
       "16              8.0         5.000000    1.656646        20.00000   \n",
       "17              1.0         6.336274    1.656646         7.00000   \n",
       "18             50.0        49.000000    1.000000        68.00000   \n",
       "19             12.0         6.000000    1.656646        51.00000   \n",
       "20              1.0         6.336274    1.656646         1.00000   \n",
       "21              1.0         1.000000    1.656646         7.00000   \n",
       "22              3.0         2.000000    1.656646         4.00000   \n",
       "23              4.0         2.000000    1.656646        29.00000   \n",
       "24              5.0         2.000000    3.000000        14.00000   \n",
       "25             44.0        49.000000    4.000000       181.00000   \n",
       "26              4.0         7.000000    1.656646        17.00000   \n",
       "27              2.0         1.000000    1.656646        13.00000   \n",
       "28             14.0         2.000000    1.656646        27.00000   \n",
       "29              4.0         3.000000    1.656646        20.00000   \n",
       "...             ...              ...         ...             ...   \n",
       "19385          15.0         9.000000    2.000000       154.00000   \n",
       "19386           1.0         1.000000    1.656646         1.00000   \n",
       "19387          11.0         9.000000    1.656646        16.00000   \n",
       "19388           3.0         3.000000    1.656646        22.00000   \n",
       "19389           2.0         1.000000    1.656646         3.00000   \n",
       "19390           2.0         3.000000    1.656646        16.00000   \n",
       "19391           1.0         6.336274    1.656646         2.00000   \n",
       "19392           3.0         1.000000    1.656646         4.00000   \n",
       "19393           1.0         6.336274    1.656646         3.00000   \n",
       "19394           1.0         6.336274    1.656646         1.00000   \n",
       "19395          10.0         3.000000    1.656646        70.00000   \n",
       "19396           1.0         1.000000    1.656646         1.00000   \n",
       "19397           1.0         6.336274    1.656646        16.00000   \n",
       "19398           1.0         6.336274    1.656646         1.00000   \n",
       "19399           1.0         6.336274    1.656646         1.00000   \n",
       "19400          12.0         9.000000    1.656646       418.00000   \n",
       "19401           3.0         1.000000    1.656646         6.00000   \n",
       "19402           8.0        10.000000    1.656646        53.00000   \n",
       "19403           5.0         9.000000    1.656646         5.00000   \n",
       "19404          31.0        21.000000    1.000000        11.00000   \n",
       "19405           1.0         6.336274    1.656646         1.00000   \n",
       "19406           3.0         1.000000    1.000000        23.00000   \n",
       "19407           1.0         1.000000    1.656646        12.00000   \n",
       "19408           5.0         7.000000    2.000000       110.00000   \n",
       "19409           2.0         6.336274    1.656646         5.00000   \n",
       "19410           1.0         6.336274    1.656646        19.00000   \n",
       "19411           1.0         6.336274    1.656646         1.00000   \n",
       "19412           1.0         6.336274    1.656646        33.34542   \n",
       "19413          10.0        12.000000    1.000000        42.00000   \n",
       "19414           1.0         6.336274    1.656646         4.00000   \n",
       "\n",
       "       tiempo_promedio_por_dia  modelo_mas_visto  condition_mode  \\\n",
       "0                 17451.590909                10             4.0   \n",
       "1                   347.000000                10             5.0   \n",
       "2                 11277.000000                 6             3.0   \n",
       "3                  6850.666667                 6             4.0   \n",
       "4                  4015.000000                10             3.0   \n",
       "5                 34837.000000                10             4.0   \n",
       "6                    43.000000                 6             3.0   \n",
       "7                     2.000000                 6             3.0   \n",
       "8                 22960.000000                10             3.0   \n",
       "9                   875.000000                10             3.0   \n",
       "10                31037.500000                10             3.0   \n",
       "11                13937.470588                10             3.0   \n",
       "12                18439.600000                 6             3.0   \n",
       "13                  833.000000                 6             4.0   \n",
       "14                11962.900000                10             3.0   \n",
       "15                15220.000000                10             3.0   \n",
       "16                22237.500000                10             4.0   \n",
       "17                  203.000000                 6             5.0   \n",
       "18                30638.523810                10             3.0   \n",
       "19                23798.000000                10             3.0   \n",
       "20                    1.000000                10             5.0   \n",
       "21                  162.000000                 6             5.0   \n",
       "22                17087.666667                10             4.0   \n",
       "23                  588.750000                10             4.0   \n",
       "24                 4749.500000                 6             4.0   \n",
       "25                15556.658537                10             5.0   \n",
       "26                  491.750000                10             4.0   \n",
       "27                  123.000000                 6             3.0   \n",
       "28                16900.750000                10             3.0   \n",
       "29                 1479.333333                 6             3.0   \n",
       "...                        ...               ...             ...   \n",
       "19385             21596.000000                10             3.0   \n",
       "19386               529.000000                10             3.0   \n",
       "19387             32355.000000                10             2.0   \n",
       "19388              2753.000000                10             3.0   \n",
       "19389                28.500000                10             4.0   \n",
       "19390              7881.000000                10             3.0   \n",
       "19391                50.000000                10             3.0   \n",
       "19392             26514.000000                10             4.0   \n",
       "19393                69.000000                10             3.0   \n",
       "19394                 9.000000                 6             3.0   \n",
       "19395             11767.571429                10             5.0   \n",
       "19396               177.000000                10             5.0   \n",
       "19397               113.000000                 6             3.0   \n",
       "19398                 2.000000                10             3.0   \n",
       "19399                13.000000                 6             4.0   \n",
       "19400               825.250000                 6             4.0   \n",
       "19401             26078.333333                10             5.0   \n",
       "19402              7512.600000                10             5.0   \n",
       "19403             10596.250000                10             3.0   \n",
       "19404             18799.071429                10             3.0   \n",
       "19405               335.000000                10             4.0   \n",
       "19406               235.000000                 6             5.0   \n",
       "19407              2666.000000                10             3.0   \n",
       "19408             18440.500000                 6             3.0   \n",
       "19409                25.500000                10             3.0   \n",
       "19410               613.000000                 6             5.0   \n",
       "19411                16.000000                 1             4.0   \n",
       "19412             70538.000000                10             3.0   \n",
       "19413              8813.666667                10             5.0   \n",
       "19414               143.000000                10             2.0   \n",
       "\n",
       "       storage_mode  campaing_mode  cant_model_vistos  event_support  \n",
       "0              32.0             -1                  8       0.363903  \n",
       "1              16.0             -1                  2       0.420021  \n",
       "2              16.0             -1                  6       0.062016  \n",
       "3              32.0             -1                  6       0.260913  \n",
       "4              32.0             -1                  5       0.138376  \n",
       "5              16.0             -1                  2       0.059208  \n",
       "6               8.0             -1                  2       0.692601  \n",
       "7              32.0             -1                  2       0.692601  \n",
       "8              16.0             -1                  2       0.108064  \n",
       "9              32.0             -1                  3       0.473048  \n",
       "10             16.0             -1                  2       0.692601  \n",
       "11              4.0             -1                  2       0.375544  \n",
       "12             32.0             -1                  5       0.045688  \n",
       "13              8.0             -1                  2       0.692601  \n",
       "14             64.0             -1                  7       0.041078  \n",
       "15             32.0             -1                  3       0.022045  \n",
       "16             16.0             -1                  2       0.138376  \n",
       "17             32.0             -1                  2       0.473048  \n",
       "18             32.0             -1                  8       0.021402  \n",
       "19             64.0             -1                  2       0.297123  \n",
       "20             32.0             -1                  2       0.655773  \n",
       "21              8.0             -1                  2       0.375544  \n",
       "22              4.0             -1                  2       0.375544  \n",
       "23             16.0             -1                  3       0.138376  \n",
       "24             32.0             -1                  3       0.054418  \n",
       "25             32.0             -1                  7       0.000000  \n",
       "26             16.0             -1                  4       0.138376  \n",
       "27             32.0             -1                  4       0.435010  \n",
       "28             32.0             -1                  2       0.138376  \n",
       "29             16.0             -1                  2       0.297123  \n",
       "...             ...            ...                ...            ...  \n",
       "19385          64.0             -1                  2       0.062016  \n",
       "19386          16.0             -1                  2       0.260913  \n",
       "19387          16.0             -1                  3       0.000000  \n",
       "19388         128.0             -1                  2       0.298952  \n",
       "19389          32.0             -1                  2       0.194030  \n",
       "19390          16.0             -1                  3       0.149939  \n",
       "19391          16.0             -1                  2       0.473048  \n",
       "19392          16.0             -1                  2       0.435010  \n",
       "19393          32.0             -1                  2       0.473048  \n",
       "19394          16.0             -1                  2       0.692601  \n",
       "19395          64.0             -1                  3       0.155451  \n",
       "19396          64.0             -1                  2       0.297123  \n",
       "19397          16.0             -1                  2       0.692601  \n",
       "19398          64.0             -1                  2       0.692601  \n",
       "19399           8.0             -1                  2       0.692601  \n",
       "19400          16.0             -1                  7       0.038811  \n",
       "19401          16.0             -1                  3       0.260913  \n",
       "19402          32.0             -1                  5       0.045713  \n",
       "19403          64.0             -1                  3       0.298952  \n",
       "19404           8.0             -1                  5       0.029488  \n",
       "19405          16.0             -1                  2       0.692601  \n",
       "19406           8.0             -1                  3       0.075871  \n",
       "19407          32.0             -1                  4       0.342631  \n",
       "19408          16.0             -1                  6       0.041078  \n",
       "19409          32.0             -1                  2       0.555487  \n",
       "19410          64.0             -1                  3       0.655773  \n",
       "19411          32.0             -1                  2       0.692601  \n",
       "19412          16.0             -1                  1       0.669989  \n",
       "19413          16.0             -1                  6       0.021402  \n",
       "19414          16.0             -1                  2       0.299776  \n",
       "\n",
       "[19415 rows x 11 columns]"
      ]
     },
     "execution_count": 222,
     "metadata": {},
     "output_type": "execute_result"
    }
   ],
   "source": [
    "values = {'visited site': xtest['visited site'].mean(),'generic listing': xtest['generic listing'].mean(), 'conversion': xtest['conversion'].mean(),'viewed product': xtest['viewed product'].mean()}\n",
    "xtest.fillna(value=values,inplace=True)"
   ]
  },
  {
   "cell_type": "code",
   "execution_count": 223,
   "metadata": {},
   "outputs": [
    {
     "name": "stderr",
     "output_type": "stream",
     "text": [
      "/home/july/anaconda3/lib/python3.6/site-packages/pandas/core/generic.py:3110: SettingWithCopyWarning: \n",
      "A value is trying to be set on a copy of a slice from a DataFrame.\n",
      "Try using .loc[row_indexer,col_indexer] = value instead\n",
      "\n",
      "See the caveats in the documentation: http://pandas.pydata.org/pandas-docs/stable/indexing.html#indexing-view-versus-copy\n",
      "  self[name] = value\n"
     ]
    }
   ],
   "source": [
    "xtest.tiempo_promedio_por_dia = xtest.tiempo_promedio_por_dia / 3600"
   ]
  },
  {
   "cell_type": "code",
   "execution_count": 224,
   "metadata": {},
   "outputs": [
    {
     "data": {
      "text/plain": [
       "0"
      ]
     },
     "execution_count": 224,
     "metadata": {},
     "output_type": "execute_result"
    }
   ],
   "source": [
    "sum(pd.isnull(xtest[ 'generic listing']))"
   ]
  },
  {
   "cell_type": "code",
   "execution_count": 225,
   "metadata": {},
   "outputs": [
    {
     "data": {
      "text/plain": [
       "0"
      ]
     },
     "execution_count": 225,
     "metadata": {},
     "output_type": "execute_result"
    }
   ],
   "source": [
    "sum(pd.isnull(xtest[ 'conversion']))"
   ]
  },
  {
   "cell_type": "code",
   "execution_count": 226,
   "metadata": {},
   "outputs": [
    {
     "data": {
      "text/plain": [
       "0"
      ]
     },
     "execution_count": 226,
     "metadata": {},
     "output_type": "execute_result"
    }
   ],
   "source": [
    "sum(pd.isnull(xtest['viewed product']))"
   ]
  },
  {
   "cell_type": "code",
   "execution_count": 81,
   "metadata": {},
   "outputs": [
    {
     "data": {
      "text/plain": [
       "0"
      ]
     },
     "execution_count": 81,
     "metadata": {},
     "output_type": "execute_result"
    }
   ],
   "source": [
    "sum(pd.isnull(xtest[ 'tiempo_promedio_por_dia']))"
   ]
  },
  {
   "cell_type": "code",
   "execution_count": 83,
   "metadata": {},
   "outputs": [
    {
     "data": {
      "text/plain": [
       "0"
      ]
     },
     "execution_count": 83,
     "metadata": {},
     "output_type": "execute_result"
    }
   ],
   "source": [
    "sum(pd.isnull(xtest['modelo_mas_visto']))"
   ]
  },
  {
   "cell_type": "code",
   "execution_count": 84,
   "metadata": {},
   "outputs": [
    {
     "data": {
      "text/plain": [
       "0"
      ]
     },
     "execution_count": 84,
     "metadata": {},
     "output_type": "execute_result"
    }
   ],
   "source": [
    "sum(pd.isnull(xtest['condition_mode']))"
   ]
  },
  {
   "cell_type": "code",
   "execution_count": 85,
   "metadata": {},
   "outputs": [
    {
     "data": {
      "text/plain": [
       "0"
      ]
     },
     "execution_count": 85,
     "metadata": {},
     "output_type": "execute_result"
    }
   ],
   "source": [
    "sum(pd.isnull(xtest['storage_mode']))"
   ]
  },
  {
   "cell_type": "code",
   "execution_count": null,
   "metadata": {},
   "outputs": [],
   "source": [
    "'condition_mode', 'storage_mode', 'campaing_mode', 'cant_model_vistos'"
   ]
  },
  {
   "cell_type": "code",
   "execution_count": 227,
   "metadata": {},
   "outputs": [
    {
     "data": {
      "text/plain": [
       "(19415, 11)"
      ]
     },
     "execution_count": 227,
     "metadata": {},
     "output_type": "execute_result"
    }
   ],
   "source": [
    "xtest.shape"
   ]
  },
  {
   "cell_type": "code",
   "execution_count": 234,
   "metadata": {},
   "outputs": [],
   "source": [
    "pred = model.predict_proba(xtest)[:,1]"
   ]
  },
  {
   "cell_type": "code",
   "execution_count": 240,
   "metadata": {},
   "outputs": [
    {
     "data": {
      "text/plain": [
       "0"
      ]
     },
     "execution_count": 240,
     "metadata": {},
     "output_type": "execute_result"
    }
   ],
   "source": [
    "sum(pred<0)"
   ]
  },
  {
   "cell_type": "code",
   "execution_count": 236,
   "metadata": {},
   "outputs": [],
   "source": [
    "df = pd.DataFrame()"
   ]
  },
  {
   "cell_type": "code",
   "execution_count": 237,
   "metadata": {},
   "outputs": [],
   "source": [
    "df['person'] = test_with_support.person"
   ]
  },
  {
   "cell_type": "code",
   "execution_count": 244,
   "metadata": {},
   "outputs": [],
   "source": [
    "df['label'] = pred"
   ]
  },
  {
   "cell_type": "code",
   "execution_count": 246,
   "metadata": {},
   "outputs": [],
   "source": [
    "del df['pred']"
   ]
  },
  {
   "cell_type": "code",
   "execution_count": 247,
   "metadata": {},
   "outputs": [
    {
     "data": {
      "text/plain": [
       "Index(['person', 'label'], dtype='object')"
      ]
     },
     "execution_count": 247,
     "metadata": {},
     "output_type": "execute_result"
    }
   ],
   "source": [
    "df.columns"
   ]
  },
  {
   "cell_type": "code",
   "execution_count": 243,
   "metadata": {},
   "outputs": [
    {
     "data": {
      "text/plain": [
       "0"
      ]
     },
     "execution_count": 243,
     "metadata": {},
     "output_type": "execute_result"
    }
   ],
   "source": [
    "sum(df.pred  > 1)"
   ]
  },
  {
   "cell_type": "code",
   "execution_count": 248,
   "metadata": {},
   "outputs": [],
   "source": [
    "df.to_csv('pred_random_forest_juli.csv', index=False)"
   ]
  }
 ],
 "metadata": {
  "kernelspec": {
   "display_name": "Python 3",
   "language": "python",
   "name": "python3"
  },
  "language_info": {
   "codemirror_mode": {
    "name": "ipython",
    "version": 3
   },
   "file_extension": ".py",
   "mimetype": "text/x-python",
   "name": "python",
   "nbconvert_exporter": "python",
   "pygments_lexer": "ipython3",
   "version": "3.6.3"
  }
 },
 "nbformat": 4,
 "nbformat_minor": 2
}
