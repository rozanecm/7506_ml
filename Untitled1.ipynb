{
 "cells": [
  {
   "cell_type": "code",
   "execution_count": 1,
   "metadata": {},
   "outputs": [],
   "source": [
    "import pandas as pd\n",
    "import numpy as np\n",
    "from sklearn.model_selection import train_test_split\n",
    "# Import Area Under the Receiver Operating Characteristic Curve metric to evaluate results\n",
    "from sklearn.metrics import roc_auc_score\n",
    "from sklearn.pipeline import Pipeline"
   ]
  },
  {
   "cell_type": "code",
   "execution_count": 2,
   "metadata": {},
   "outputs": [],
   "source": [
    "from sklearn import preprocessing\n",
    "from sklearn.feature_extraction import DictVectorizer\n",
    "from sklearn.preprocessing import OneHotEncoder\n",
    "from sklearn.feature_extraction import FeatureHasher\n",
    "from sklearn.preprocessing import LabelBinarizer"
   ]
  },
  {
   "cell_type": "code",
   "execution_count": 3,
   "metadata": {},
   "outputs": [],
   "source": [
    "events_df = pd.read_csv('data/events_up_to_01062018.csv', low_memory=False)\n",
    "labels_df = pd.read_csv('data/labels_training_set.csv', low_memory=False)"
   ]
  },
  {
   "cell_type": "code",
   "execution_count": 4,
   "metadata": {},
   "outputs": [],
   "source": [
    "# armo df con registros completos clasificados\n",
    "train_df = events_df.merge(labels_df, on='person', how='right')"
   ]
  },
  {
   "cell_type": "code",
   "execution_count": 5,
   "metadata": {},
   "outputs": [],
   "source": [
    "# armo df con registros a predecir unicamente\n",
    "to_predict = events_df[~events_df.person.isin(labels_df.person)]"
   ]
  },
  {
   "cell_type": "code",
   "execution_count": 6,
   "metadata": {},
   "outputs": [],
   "source": [
    "test_size = 0.33\n",
    "# define a seed, so same experiments output same results every time\n",
    "seed = 12"
   ]
  },
  {
   "cell_type": "code",
   "execution_count": 7,
   "metadata": {},
   "outputs": [],
   "source": [
    "# realizo train_test_split\n",
    "X_train, X_test, y_train, y_test = train_test_split(train_df.loc[:, train_df.columns != 'label'], \n",
    "                                                    train_df.label, \n",
    "                                                    test_size=test_size, \n",
    "                                                    random_state=seed)"
   ]
  },
  {
   "cell_type": "markdown",
   "metadata": {},
   "source": [
    "***\n",
    "## Note on preprocessing\n",
    "All preprocessing which can be done in just one way, i.e. it doesn't need hyper parameter adjustment, will be done outside pipelines."
   ]
  },
  {
   "cell_type": "markdown",
   "metadata": {},
   "source": [
    "Good pipeline sources: \n",
    "* http://zacstewart.com/2014/08/05/pipelines-of-featureunions-of-pipelines.html\n",
    "* https://www.kaggle.com/baghern/a-deep-dive-into-sklearn-pipelines\n",
    "* https://www.kaggle.com/metadist/work-like-a-pro-with-pipelines-and-feature-unions\n",
    "* https://www.kaggle.com/sermakarevich/sklearn-pipelines-tutorial\n",
    "* http://zacstewart.com/2014/08/05/pipelines-of-featureunions-of-pipelines.html\n",
    "***"
   ]
  },
  {
   "cell_type": "code",
   "execution_count": 8,
   "metadata": {},
   "outputs": [],
   "source": [
    "# some date processing\n",
    "def date_proc(df):\n",
    "    df['timestamp'] = pd.to_datetime(df['timestamp'])\n",
    "    df['year'] = df['timestamp'].dt.year\n",
    "    df['month'] = df['timestamp'].dt.month\n",
    "    df['day'] = df['timestamp'].dt.day\n",
    "    df['weekday'] = df['timestamp'].dt.day_name()\n",
    "    df['hour'] = df['timestamp'].dt.hour\n",
    "    df['year_month_day'] = df['timestamp'].map(lambda x: str(x.year)+\"/\"+str(x.month)+\"/\"+str(x.day))\n",
    "    df['year_month_day'] = pd.to_datetime(df['year_month_day'])\n",
    "    \n",
    "date_proc(X_train)\n",
    "date_proc(X_test)"
   ]
  },
  {
   "cell_type": "code",
   "execution_count": 9,
   "metadata": {},
   "outputs": [
    {
     "data": {
      "text/plain": [
       "timestamp                   datetime64[ns]\n",
       "event                               object\n",
       "person                              object\n",
       "url                                 object\n",
       "sku                                float64\n",
       "model                               object\n",
       "condition                           object\n",
       "storage                             object\n",
       "color                               object\n",
       "skus                                object\n",
       "search_term                         object\n",
       "staticpage                          object\n",
       "campaign_source                     object\n",
       "search_engine                       object\n",
       "channel                             object\n",
       "new_vs_returning                    object\n",
       "city                                object\n",
       "region                              object\n",
       "country                             object\n",
       "device_type                         object\n",
       "screen_resolution                   object\n",
       "operating_system_version            object\n",
       "browser_version                     object\n",
       "year                                 int64\n",
       "month                                int64\n",
       "day                                  int64\n",
       "weekday                             object\n",
       "hour                                 int64\n",
       "year_month_day              datetime64[ns]\n",
       "dtype: object"
      ]
     },
     "execution_count": 9,
     "metadata": {},
     "output_type": "execute_result"
    }
   ],
   "source": [
    "X_train.dtypes"
   ]
  },
  {
   "cell_type": "markdown",
   "metadata": {},
   "source": [
    "Primero hacemos un label encoding con el weekday, luego aplicamos una transfrmacion que contemple la naturaleza ciclica de la semana. Esto ultimo lo aplicaremos tambien al resto de los features ciclicos (como se explica, por ejemplo, aca: https://ianlondon.github.io/blog/encoding-cyclical-features-24hour-time/)"
   ]
  },
  {
   "cell_type": "code",
   "execution_count": 10,
   "metadata": {},
   "outputs": [],
   "source": [
    "weekday_le = preprocessing.LabelEncoder()\n",
    "weekday_le.fit(X_train.weekday)\n",
    "\n",
    "X_train.weekday = weekday_le.transform(X_train.weekday)\n",
    "X_test.weekday = weekday_le.transform(X_test.weekday)"
   ]
  },
  {
   "cell_type": "code",
   "execution_count": 11,
   "metadata": {},
   "outputs": [],
   "source": [
    "def month_to_cyclic(df):\n",
    "    df['month_sin'] = df['month'].apply(lambda x: np.sin(2*np.pi*x/12))\n",
    "    df['month_cos'] = df['month'].apply(lambda x: np.cos(2*np.pi*x/12))\n",
    "    df.drop('month', axis=1, inplace=True)\n",
    "    \n",
    "def day_to_cyclic(df):\n",
    "    df['day_sin'] = df['day'].apply(lambda x: np.sin(2*np.pi*x/31))\n",
    "    df['day_cos'] = df['day'].apply(lambda x: np.cos(2*np.pi*x/31))\n",
    "    df.drop('day', axis=1, inplace=True)\n",
    "\n",
    "def weekday_to_cyclic(df):\n",
    "    df['weekday_sin'] = df['weekday'].apply(lambda x: np.sin(2*np.pi*x/7))\n",
    "    df['weekday_cos'] = df['weekday'].apply(lambda x: np.cos(2*np.pi*x/7))\n",
    "    df.drop('weekday', axis=1, inplace=True)\n",
    "\n",
    "def hour_to_cyclic(df):\n",
    "    df['hour_sin'] = df['hour'].apply(lambda x: np.sin(2*np.pi*x/24))\n",
    "    df['hour_cos'] = df['hour'].apply(lambda x: np.cos(2*np.pi*x/24))\n",
    "    df.drop('hour', axis=1, inplace=True)"
   ]
  },
  {
   "cell_type": "code",
   "execution_count": 12,
   "metadata": {},
   "outputs": [
    {
     "data": {
      "text/html": [
       "<div>\n",
       "<style scoped>\n",
       "    .dataframe tbody tr th:only-of-type {\n",
       "        vertical-align: middle;\n",
       "    }\n",
       "\n",
       "    .dataframe tbody tr th {\n",
       "        vertical-align: top;\n",
       "    }\n",
       "\n",
       "    .dataframe thead th {\n",
       "        text-align: right;\n",
       "    }\n",
       "</style>\n",
       "<table border=\"1\" class=\"dataframe\">\n",
       "  <thead>\n",
       "    <tr style=\"text-align: right;\">\n",
       "      <th></th>\n",
       "      <th>year</th>\n",
       "      <th>month</th>\n",
       "      <th>day</th>\n",
       "      <th>weekday</th>\n",
       "      <th>hour</th>\n",
       "    </tr>\n",
       "  </thead>\n",
       "  <tbody>\n",
       "    <tr>\n",
       "      <th>654168</th>\n",
       "      <td>2018</td>\n",
       "      <td>5</td>\n",
       "      <td>22</td>\n",
       "      <td>5</td>\n",
       "      <td>17</td>\n",
       "    </tr>\n",
       "    <tr>\n",
       "      <th>755549</th>\n",
       "      <td>2018</td>\n",
       "      <td>5</td>\n",
       "      <td>22</td>\n",
       "      <td>5</td>\n",
       "      <td>18</td>\n",
       "    </tr>\n",
       "    <tr>\n",
       "      <th>705141</th>\n",
       "      <td>2018</td>\n",
       "      <td>5</td>\n",
       "      <td>18</td>\n",
       "      <td>0</td>\n",
       "      <td>4</td>\n",
       "    </tr>\n",
       "    <tr>\n",
       "      <th>621828</th>\n",
       "      <td>2018</td>\n",
       "      <td>5</td>\n",
       "      <td>16</td>\n",
       "      <td>6</td>\n",
       "      <td>20</td>\n",
       "    </tr>\n",
       "    <tr>\n",
       "      <th>592612</th>\n",
       "      <td>2018</td>\n",
       "      <td>5</td>\n",
       "      <td>17</td>\n",
       "      <td>4</td>\n",
       "      <td>13</td>\n",
       "    </tr>\n",
       "  </tbody>\n",
       "</table>\n",
       "</div>"
      ],
      "text/plain": [
       "        year  month  day  weekday  hour\n",
       "654168  2018      5   22        5    17\n",
       "755549  2018      5   22        5    18\n",
       "705141  2018      5   18        0     4\n",
       "621828  2018      5   16        6    20\n",
       "592612  2018      5   17        4    13"
      ]
     },
     "execution_count": 12,
     "metadata": {},
     "output_type": "execute_result"
    }
   ],
   "source": [
    "# cell to compare results before & after processing\n",
    "X_train[['year','month','day','weekday','hour']].head()"
   ]
  },
  {
   "cell_type": "code",
   "execution_count": 13,
   "metadata": {},
   "outputs": [],
   "source": [
    "month_to_cyclic(X_train)\n",
    "day_to_cyclic(X_train)\n",
    "weekday_to_cyclic(X_train)\n",
    "hour_to_cyclic(X_train)\n",
    "\n",
    "month_to_cyclic(X_test)\n",
    "day_to_cyclic(X_test)\n",
    "weekday_to_cyclic(X_test)\n",
    "hour_to_cyclic(X_test)"
   ]
  },
  {
   "cell_type": "code",
   "execution_count": 14,
   "metadata": {},
   "outputs": [
    {
     "data": {
      "text/html": [
       "<div>\n",
       "<style scoped>\n",
       "    .dataframe tbody tr th:only-of-type {\n",
       "        vertical-align: middle;\n",
       "    }\n",
       "\n",
       "    .dataframe tbody tr th {\n",
       "        vertical-align: top;\n",
       "    }\n",
       "\n",
       "    .dataframe thead th {\n",
       "        text-align: right;\n",
       "    }\n",
       "</style>\n",
       "<table border=\"1\" class=\"dataframe\">\n",
       "  <thead>\n",
       "    <tr style=\"text-align: right;\">\n",
       "      <th></th>\n",
       "      <th>month_sin</th>\n",
       "      <th>month_cos</th>\n",
       "      <th>day_sin</th>\n",
       "      <th>day_cos</th>\n",
       "      <th>weekday_sin</th>\n",
       "      <th>weekday_cos</th>\n",
       "      <th>hour_sin</th>\n",
       "      <th>hour_cos</th>\n",
       "    </tr>\n",
       "  </thead>\n",
       "  <tbody>\n",
       "    <tr>\n",
       "      <th>654168</th>\n",
       "      <td>0.5</td>\n",
       "      <td>-0.866025</td>\n",
       "      <td>-0.968077</td>\n",
       "      <td>-0.250653</td>\n",
       "      <td>-0.974928</td>\n",
       "      <td>-0.222521</td>\n",
       "      <td>-0.965926</td>\n",
       "      <td>-2.588190e-01</td>\n",
       "    </tr>\n",
       "    <tr>\n",
       "      <th>755549</th>\n",
       "      <td>0.5</td>\n",
       "      <td>-0.866025</td>\n",
       "      <td>-0.968077</td>\n",
       "      <td>-0.250653</td>\n",
       "      <td>-0.974928</td>\n",
       "      <td>-0.222521</td>\n",
       "      <td>-1.000000</td>\n",
       "      <td>-1.836970e-16</td>\n",
       "    </tr>\n",
       "    <tr>\n",
       "      <th>705141</th>\n",
       "      <td>0.5</td>\n",
       "      <td>-0.866025</td>\n",
       "      <td>-0.485302</td>\n",
       "      <td>-0.874347</td>\n",
       "      <td>0.000000</td>\n",
       "      <td>1.000000</td>\n",
       "      <td>0.866025</td>\n",
       "      <td>5.000000e-01</td>\n",
       "    </tr>\n",
       "    <tr>\n",
       "      <th>621828</th>\n",
       "      <td>0.5</td>\n",
       "      <td>-0.866025</td>\n",
       "      <td>-0.101168</td>\n",
       "      <td>-0.994869</td>\n",
       "      <td>-0.781831</td>\n",
       "      <td>0.623490</td>\n",
       "      <td>-0.866025</td>\n",
       "      <td>5.000000e-01</td>\n",
       "    </tr>\n",
       "    <tr>\n",
       "      <th>592612</th>\n",
       "      <td>0.5</td>\n",
       "      <td>-0.866025</td>\n",
       "      <td>-0.299363</td>\n",
       "      <td>-0.954139</td>\n",
       "      <td>-0.433884</td>\n",
       "      <td>-0.900969</td>\n",
       "      <td>-0.258819</td>\n",
       "      <td>-9.659258e-01</td>\n",
       "    </tr>\n",
       "  </tbody>\n",
       "</table>\n",
       "</div>"
      ],
      "text/plain": [
       "        month_sin  month_cos   day_sin   day_cos  weekday_sin  weekday_cos  \\\n",
       "654168        0.5  -0.866025 -0.968077 -0.250653    -0.974928    -0.222521   \n",
       "755549        0.5  -0.866025 -0.968077 -0.250653    -0.974928    -0.222521   \n",
       "705141        0.5  -0.866025 -0.485302 -0.874347     0.000000     1.000000   \n",
       "621828        0.5  -0.866025 -0.101168 -0.994869    -0.781831     0.623490   \n",
       "592612        0.5  -0.866025 -0.299363 -0.954139    -0.433884    -0.900969   \n",
       "\n",
       "        hour_sin      hour_cos  \n",
       "654168 -0.965926 -2.588190e-01  \n",
       "755549 -1.000000 -1.836970e-16  \n",
       "705141  0.866025  5.000000e-01  \n",
       "621828 -0.866025  5.000000e-01  \n",
       "592612 -0.258819 -9.659258e-01  "
      ]
     },
     "execution_count": 14,
     "metadata": {},
     "output_type": "execute_result"
    }
   ],
   "source": [
    "X_train[['month_sin','month_cos','day_sin','day_cos','weekday_sin','weekday_cos','hour_sin','hour_cos']].head()"
   ]
  },
  {
   "cell_type": "code",
   "execution_count": 15,
   "metadata": {},
   "outputs": [],
   "source": [
    "X_train.drop('year_month_day', axis=1, inplace=True)\n",
    "X_test.drop('year_month_day', axis=1, inplace=True)"
   ]
  },
  {
   "cell_type": "code",
   "execution_count": 16,
   "metadata": {},
   "outputs": [
    {
     "data": {
      "text/plain": [
       "timestamp                   datetime64[ns]\n",
       "event                               object\n",
       "person                              object\n",
       "url                                 object\n",
       "sku                                float64\n",
       "model                               object\n",
       "condition                           object\n",
       "storage                             object\n",
       "color                               object\n",
       "skus                                object\n",
       "search_term                         object\n",
       "staticpage                          object\n",
       "campaign_source                     object\n",
       "search_engine                       object\n",
       "channel                             object\n",
       "new_vs_returning                    object\n",
       "city                                object\n",
       "region                              object\n",
       "country                             object\n",
       "device_type                         object\n",
       "screen_resolution                   object\n",
       "operating_system_version            object\n",
       "browser_version                     object\n",
       "year                                 int64\n",
       "month_sin                          float64\n",
       "month_cos                          float64\n",
       "day_sin                            float64\n",
       "day_cos                            float64\n",
       "weekday_sin                        float64\n",
       "weekday_cos                        float64\n",
       "hour_sin                           float64\n",
       "hour_cos                           float64\n",
       "dtype: object"
      ]
     },
     "execution_count": 16,
     "metadata": {},
     "output_type": "execute_result"
    }
   ],
   "source": [
    "X_train.dtypes"
   ]
  },
  {
   "cell_type": "markdown",
   "metadata": {},
   "source": [
    "### Build some custom transformers"
   ]
  },
  {
   "cell_type": "code",
   "execution_count": 17,
   "metadata": {},
   "outputs": [],
   "source": [
    "from sklearn.base import BaseEstimator, TransformerMixin\n",
    "\n",
    "class ColumnSelector(BaseEstimator, TransformerMixin):\n",
    "    \"\"\"\n",
    "    Selector to select the needed columns in the pipeline\n",
    "    \"\"\"\n",
    "    def __init__(self, cols):\n",
    "        self.cols = cols\n",
    "\n",
    "    def fit(self, X, y=None):\n",
    "        return self\n",
    "\n",
    "    def transform(self, X, y=None):\n",
    "        return X.loc[:,self.cols]"
   ]
  },
  {
   "cell_type": "code",
   "execution_count": 18,
   "metadata": {},
   "outputs": [],
   "source": [
    "from sklearn.base import BaseEstimator, TransformerMixin\n",
    "\n",
    "class NaFiller(BaseEstimator, TransformerMixin):\n",
    "    \"\"\"\n",
    "    Selector to select the needed columns in the pipeline\n",
    "    \"\"\"\n",
    "    def __init__(self, filler):\n",
    "        self.filler = filler\n",
    "\n",
    "    def fit(self, X, y=None):\n",
    "        return self\n",
    "\n",
    "    def transform(self, X, y=None):\n",
    "        return X.fillna(self.filler)"
   ]
  },
  {
   "cell_type": "markdown",
   "metadata": {},
   "source": [
    "# Feature pipeline creation and some pre processing"
   ]
  },
  {
   "cell_type": "markdown",
   "metadata": {},
   "source": [
    "## Browser version"
   ]
  },
  {
   "cell_type": "code",
   "execution_count": 19,
   "metadata": {},
   "outputs": [],
   "source": [
    "num_of_unique_browsers = len(X_train.browser_version.unique())"
   ]
  },
  {
   "cell_type": "code",
   "execution_count": 20,
   "metadata": {},
   "outputs": [],
   "source": [
    "# from https://www.kaggle.com/baghern/a-deep-dive-into-sklearn-pipelines:\n",
    "# To make a pipeline, just pass an array of tuples of the format (name, object). The first part is the name of the action, and the second is the actual object. \n",
    "\n",
    "browser_pipe = Pipeline([\n",
    "    ('selector', ColumnSelector(['browser_version'])),\n",
    "    ('na_filler', NaFiller(\"\")),\n",
    "    ('hasher', OneHotEncoder(handle_unknown='ignore')) \n",
    "])"
   ]
  },
  {
   "cell_type": "code",
   "execution_count": 21,
   "metadata": {},
   "outputs": [
    {
     "data": {
      "text/plain": [
       "<785163x288 sparse matrix of type '<class 'numpy.float64'>'\n",
       "\twith 785163 stored elements in Compressed Sparse Row format>"
      ]
     },
     "execution_count": 21,
     "metadata": {},
     "output_type": "execute_result"
    }
   ],
   "source": [
    "browser_pipe.fit_transform(X_train)"
   ]
  },
  {
   "cell_type": "markdown",
   "metadata": {},
   "source": [
    "This cell has been replaced with the pipeline above\n",
    "\n",
    "```\n",
    "# http://fastml.com/converting-categorical-data-into-numbers-with-pandas-and-scikit-learn/\n",
    "# https://pandas.pydata.org/pandas-docs/stable/generated/pandas.DataFrame.to_dict.html\n",
    "v = FeatureHasher(n_features=num_of_unique_browsers//2, input_type='string')\n",
    "# browser_version_dict = X_train[['browser_version']]\n",
    "X_train.browser_version.fillna(\"\", inplace=True)\n",
    "x = v.fit_transform(X_train[['browser_version']])\n",
    "# x = v.fit_transform(browser_version_dict)\n",
    "# Attach de sparse vector to df\n",
    "```"
   ]
  },
  {
   "cell_type": "markdown",
   "metadata": {},
   "source": [
    "## operating_system_version"
   ]
  },
  {
   "cell_type": "code",
   "execution_count": 22,
   "metadata": {},
   "outputs": [
    {
     "data": {
      "text/plain": [
       "array(['Windows 10 ', nan, 'Android 5.0.2', 'Android 4.2.2', 'Android 7',\n",
       "       'Windows 7 ', 'iOS 10.3.3', 'Android 5.1', 'Android 6.0.1',\n",
       "       'Android 4.4.4', 'Android 5.1.1', 'Android 7.1.1', 'Android 6',\n",
       "       'Windows 8.1 ', 'iOS 11.3', 'iOS 11.2.5', 'Windows 8 ',\n",
       "       'Android 4.1.2', 'Mac OS X 10.13.4', 'Android 4.3', 'Android 5',\n",
       "       'Linux ', 'Android 5.0.1', 'BlackBerry OS 10.3.3',\n",
       "       'Windows Vista ', 'Android 4.4.2', 'iOS 9.3.5', 'Windows XP ',\n",
       "       'iOS 10.2', 'iOS 8.1.3', 'Other ', 'Ubuntu ', 'iOS 9.3.2',\n",
       "       'BlackBerry OS 10.3.2', 'Android 8', 'Windows Phone 8.1',\n",
       "       'iOS 7.1.2', 'Android 2.3.6', 'Android 4.1.1', 'Android 7.1.2',\n",
       "       'iOS 11.2.6', 'iOS 11.2.1', 'Android 4.0.4', 'iOS 11.2.2',\n",
       "       'iOS 10.3.2', 'Mac OS X 10.11.6', 'iOS 10.2.1', 'Tizen 3',\n",
       "       'Mac OS X 10.12.6', 'Android 8.1', 'iOS 11.1.2', 'iOS 3.2',\n",
       "       'Windows Phone 10', 'Chrome OS 10452.85', 'iOS 11.2', 'iOS 5.0.1',\n",
       "       'Chrome OS 10452.96', 'Android 4.4', 'Android 7.1',\n",
       "       'Mac OS X 10.12', 'iOS 11.1', 'iOS 11.0.1', 'iOS 11.4',\n",
       "       'Chrome OS 10323.67', 'Mac OS X 10.12.2', 'Mac OS X 10.13.3',\n",
       "       'Mac OS X 10.13', 'Mac OS X 10.11.5', 'Mac OS X 10.13.1',\n",
       "       'Mac OS X 10.11', 'Windows Phone 8', 'Android ',\n",
       "       'Mac OS X 10.13.2', 'Mac OS X 10.10.5', 'Android 4.4.3',\n",
       "       'Chrome OS 10452.74', 'Windows RT ', 'Android 4.0.3', 'iOS 7.1.1',\n",
       "       'iOS 11.0.3', 'iOS 7.0.3', 'iOS 10.1.1', 'iOS 10.0.2',\n",
       "       'Mac OS X 10.11.4', 'iOS 8.1.1', 'iOS 11.0.2', 'Android 3.2.2',\n",
       "       'Mac OS X 10.8.5', 'iOS 11', 'Tizen 2.3', 'iOS 9.2', 'iOS 5',\n",
       "       'Android 6.1', 'iOS 8.1', 'Mac OS X 10.12.4', 'Mac OS X 10.12.5',\n",
       "       'Chrome OS 10032.86', 'iOS 10.3.1', 'Mac OS X 10.7.5', 'iOS 9.2.1',\n",
       "       'iOS 9.3.4', 'Android 3.2', 'Mac OS X 10.9.5', 'Mac OS X 10.9'],\n",
       "      dtype=object)"
      ]
     },
     "execution_count": 22,
     "metadata": {},
     "output_type": "execute_result"
    }
   ],
   "source": [
    "X_train.operating_system_version.unique()"
   ]
  },
  {
   "cell_type": "code",
   "execution_count": 23,
   "metadata": {},
   "outputs": [],
   "source": [
    "os_num_of_unique = len(X_train.operating_system_version.unique())"
   ]
  },
  {
   "cell_type": "code",
   "execution_count": 24,
   "metadata": {},
   "outputs": [],
   "source": [
    "os_ver_pipe = Pipeline([\n",
    "    ('selector', ColumnSelector(['operating_system_version'])),\n",
    "    ('na_filler', NaFiller(\"\")),\n",
    "    ('hasher', OneHotEncoder(handle_unknown='ignore')) \n",
    "])"
   ]
  },
  {
   "cell_type": "code",
   "execution_count": 25,
   "metadata": {},
   "outputs": [
    {
     "data": {
      "text/plain": [
       "<785163x104 sparse matrix of type '<class 'numpy.float64'>'\n",
       "\twith 785163 stored elements in Compressed Sparse Row format>"
      ]
     },
     "execution_count": 25,
     "metadata": {},
     "output_type": "execute_result"
    }
   ],
   "source": [
    "os_ver_pipe.fit_transform(X_train)"
   ]
  },
  {
   "cell_type": "markdown",
   "metadata": {},
   "source": [
    "## screen_resolution"
   ]
  },
  {
   "cell_type": "code",
   "execution_count": 26,
   "metadata": {},
   "outputs": [],
   "source": [
    "def get_screen_width(x):\n",
    "    if x != \"\":\n",
    "        return x.split(\"x\")[0]\n",
    "    else:\n",
    "        return 0\n",
    "    \n",
    "def get_screen_height(x):\n",
    "    if x != \"\":\n",
    "        return x.split(\"x\")[1]\n",
    "    else:\n",
    "        return 0\n",
    "\n",
    "def process_screen_res(df):\n",
    "    df['screen_resolution'].fillna(\"\", inplace=True)\n",
    "    df['screen_width'] = df['screen_resolution'].apply(lambda x: get_screen_width(x))\n",
    "    df['screen_height'] = df['screen_resolution'].apply(lambda x: get_screen_height(x))\n",
    "    df.drop('screen_resolution', axis=1, inplace=True)"
   ]
  },
  {
   "cell_type": "code",
   "execution_count": 27,
   "metadata": {},
   "outputs": [],
   "source": [
    "process_screen_res(X_train)\n",
    "process_screen_res(X_test)"
   ]
  },
  {
   "cell_type": "markdown",
   "metadata": {},
   "source": [
    "## device_type"
   ]
  },
  {
   "cell_type": "code",
   "execution_count": 28,
   "metadata": {},
   "outputs": [
    {
     "data": {
      "text/plain": [
       "array(['Computer', nan, 'Smartphone', 'Tablet', 'Unknown'], dtype=object)"
      ]
     },
     "execution_count": 28,
     "metadata": {},
     "output_type": "execute_result"
    }
   ],
   "source": [
    "X_train.device_type.unique()"
   ]
  },
  {
   "cell_type": "code",
   "execution_count": 29,
   "metadata": {},
   "outputs": [],
   "source": [
    "# X_train.device_type.fillna(\"\", inplace=True)"
   ]
  },
  {
   "cell_type": "code",
   "execution_count": 30,
   "metadata": {},
   "outputs": [],
   "source": [
    "device_type_pipe = Pipeline([\n",
    "    ('selector', ColumnSelector(['device_type'])),\n",
    "    ('na_filler', NaFiller(\"\")),\n",
    "    ('one_hot', OneHotEncoder(handle_unknown='ignore')) \n",
    "])"
   ]
  },
  {
   "cell_type": "code",
   "execution_count": 31,
   "metadata": {},
   "outputs": [
    {
     "data": {
      "text/plain": [
       "<785163x5 sparse matrix of type '<class 'numpy.float64'>'\n",
       "\twith 785163 stored elements in Compressed Sparse Row format>"
      ]
     },
     "execution_count": 31,
     "metadata": {},
     "output_type": "execute_result"
    }
   ],
   "source": [
    "device_type_pipe.fit_transform(X_train)"
   ]
  },
  {
   "cell_type": "markdown",
   "metadata": {},
   "source": [
    "## country"
   ]
  },
  {
   "cell_type": "code",
   "execution_count": 32,
   "metadata": {},
   "outputs": [
    {
     "name": "stdout",
     "output_type": "stream",
     "text": [
      "['Brazil' nan 'Unknown' 'United States' 'Argentina' 'Uruguay' 'France'\n",
      " 'Canada' 'India' 'Israel' 'Portugal' 'Mozambique' 'Italy'\n",
      " 'Slovak Republic' 'South Africa' 'Bolivia' 'Netherlands' 'Guinea-Bissau'\n",
      " 'Peru' 'Guadeloupe' 'Bulgaria' 'United Kingdom' 'Pakistan' 'Singapore'\n",
      " 'Colombia' 'Germany' 'Japan' 'Paraguay' 'Russia' 'Romania' 'Burundi'\n",
      " 'Vietnam' 'Costa Rica' 'Ireland' 'Jamaica']\n",
      "\n",
      "\tlen: 35\n"
     ]
    }
   ],
   "source": [
    "print(X_train.country.unique())\n",
    "print(\"\\n\\tlen: \" + str(len(X_train.country.unique())))"
   ]
  },
  {
   "cell_type": "code",
   "execution_count": 33,
   "metadata": {},
   "outputs": [],
   "source": [
    "# X_train.country.fillna(\"\", inplace=True)"
   ]
  },
  {
   "cell_type": "code",
   "execution_count": 34,
   "metadata": {},
   "outputs": [],
   "source": [
    "country_pipe = Pipeline([\n",
    "    ('selector', ColumnSelector(['country'])),\n",
    "    ('na_filler', NaFiller(\"\")),\n",
    "    ('one_hot', OneHotEncoder(handle_unknown='ignore')) \n",
    "])"
   ]
  },
  {
   "cell_type": "markdown",
   "metadata": {},
   "source": [
    "## region"
   ]
  },
  {
   "cell_type": "code",
   "execution_count": 35,
   "metadata": {},
   "outputs": [
    {
     "name": "stdout",
     "output_type": "stream",
     "text": [
      "['Rio de Janeiro' nan 'Unknown' 'Tocantins' 'Sao Paulo' 'Santa Catarina'\n",
      " 'Minas Gerais' 'Bahia' 'Parana' 'Ceara' 'Rio Grande do Norte'\n",
      " 'Federal District' 'Espirito Santo' 'Amazonas' 'Pernambuco' 'Para'\n",
      " 'Paraíba' 'Goias' 'Rio Grande do Sul' 'California' 'Mato Grosso do Sul'\n",
      " 'Buenos Aires F.D.' 'Piaui' 'Maranhao' 'Rondonia' 'Alagoas' 'Mato Grosso'\n",
      " 'Sergipe' 'Departamento de Montevideo' 'Acre' 'Amapa' 'Buenos Aires'\n",
      " 'Wisconsin' 'New Jersey' 'Quebec' 'Karnataka' 'Roraima' 'Tennessee'\n",
      " 'Paris' 'Setúbal' 'Illinois' 'British Columbia' 'New York'\n",
      " 'Cidade de Maputo' 'Texas' 'Florida' 'Milan' 'Western Cape'\n",
      " 'Departamento de Santa Cruz' 'North Holland' 'Virginia' 'Georgia'\n",
      " 'Departamento de La Paz' 'Sofia-Capital' 'Oklahoma' 'England' 'Ohio'\n",
      " 'Delaware' 'Seine-Saint-Denis' 'Connecticut' 'Provincia di Lecce'\n",
      " 'Entre Rios' 'Iowa' 'Wrexham' 'Hesse' 'Tokyo' 'Asuncion'\n",
      " \"Tul'skaya Oblast'\" 'Ontario' 'Bucuresti' 'Tinh Quang Nam'\n",
      " 'Sofala Province' 'Washington' 'Michigan' 'Turin' 'North' 'County Cork'\n",
      " 'Thanh Pho GJa Nang' 'Kingston' 'Aveiro']\n",
      "\n",
      "\tlen: 80\n"
     ]
    }
   ],
   "source": [
    "print(X_train.region.unique())\n",
    "print(\"\\n\\tlen: \" + str(len(X_train.region.unique())))"
   ]
  },
  {
   "cell_type": "code",
   "execution_count": 36,
   "metadata": {},
   "outputs": [],
   "source": [
    "region_pipe = Pipeline([\n",
    "    ('selector', ColumnSelector(['region'])),\n",
    "    ('na_filler', NaFiller(\"\")),\n",
    "    ('one_hot', OneHotEncoder(handle_unknown='ignore'))\n",
    "])"
   ]
  },
  {
   "cell_type": "code",
   "execution_count": 37,
   "metadata": {},
   "outputs": [],
   "source": [
    "# region_pipe.fit_transform(X_train)"
   ]
  },
  {
   "cell_type": "markdown",
   "metadata": {},
   "source": [
    "## city"
   ]
  },
  {
   "cell_type": "code",
   "execution_count": 38,
   "metadata": {},
   "outputs": [
    {
     "name": "stdout",
     "output_type": "stream",
     "text": [
      "['Cardoso Moreira' nan 'Unknown' ... 'Tupaciguara' 'Marco' 'Arembepe']\n",
      "\n",
      "\tlen: 1729\n"
     ]
    }
   ],
   "source": [
    "print(X_train.city.unique())\n",
    "print(\"\\n\\tlen: \" + str(len(X_train.city.unique())))"
   ]
  },
  {
   "cell_type": "code",
   "execution_count": 39,
   "metadata": {},
   "outputs": [],
   "source": [
    "city_pipe = Pipeline([\n",
    "    ('selector', ColumnSelector(['city'])),\n",
    "    ('na_filler', NaFiller(\"\")),\n",
    "    ('one_hot', OneHotEncoder(handle_unknown='ignore'))\n",
    "])"
   ]
  },
  {
   "cell_type": "code",
   "execution_count": 40,
   "metadata": {},
   "outputs": [],
   "source": [
    "# city_pipe.fit_transform(X_train)"
   ]
  },
  {
   "cell_type": "markdown",
   "metadata": {},
   "source": [
    "## new_vs_returning"
   ]
  },
  {
   "cell_type": "code",
   "execution_count": 41,
   "metadata": {},
   "outputs": [
    {
     "name": "stdout",
     "output_type": "stream",
     "text": [
      "['Returning' nan 'New']\n",
      "\n",
      "\tlen: 3\n"
     ]
    }
   ],
   "source": [
    "print(X_train.new_vs_returning.unique())\n",
    "print(\"\\n\\tlen: \" + str(len(X_train.new_vs_returning.unique())))"
   ]
  },
  {
   "cell_type": "code",
   "execution_count": 42,
   "metadata": {},
   "outputs": [],
   "source": [
    "new_vs_returning_pipe = Pipeline([\n",
    "    ('selector', ColumnSelector(['new_vs_returning'])),\n",
    "    ('na_filler', NaFiller(\"\")),\n",
    "    ('one_hot', OneHotEncoder(handle_unknown='ignore'))\n",
    "])"
   ]
  },
  {
   "cell_type": "code",
   "execution_count": 43,
   "metadata": {},
   "outputs": [],
   "source": [
    "# new_vs_returning_pipe.fit_transform(X_train)"
   ]
  },
  {
   "cell_type": "markdown",
   "metadata": {},
   "source": [
    "## channel"
   ]
  },
  {
   "cell_type": "code",
   "execution_count": 44,
   "metadata": {},
   "outputs": [
    {
     "name": "stdout",
     "output_type": "stream",
     "text": [
      "['Direct' nan 'Organic' 'Paid' 'Referral' 'Social' 'Email' 'Unknown']\n",
      "\n",
      "\tlen: 8\n"
     ]
    }
   ],
   "source": [
    "print(X_train.channel.unique())\n",
    "print(\"\\n\\tlen: \" + str(len(X_train.channel.unique())))"
   ]
  },
  {
   "cell_type": "code",
   "execution_count": 45,
   "metadata": {},
   "outputs": [],
   "source": [
    "channel_pipe = Pipeline([\n",
    "    ('selector', ColumnSelector(['channel'])),\n",
    "    ('na_filler', NaFiller(\"\")),\n",
    "    ('one_hot', OneHotEncoder(handle_unknown='ignore'))\n",
    "])"
   ]
  },
  {
   "cell_type": "code",
   "execution_count": 46,
   "metadata": {},
   "outputs": [],
   "source": [
    "# channel_pipe.fit_transform(X_train)"
   ]
  },
  {
   "cell_type": "markdown",
   "metadata": {},
   "source": [
    "## search_engine"
   ]
  },
  {
   "cell_type": "code",
   "execution_count": 47,
   "metadata": {},
   "outputs": [
    {
     "name": "stdout",
     "output_type": "stream",
     "text": [
      "[nan 'Google' 'Bing' 'Yahoo' 'Ask']\n",
      "\n",
      "\tlen: 5\n"
     ]
    }
   ],
   "source": [
    "print(X_train.search_engine.unique())\n",
    "print(\"\\n\\tlen: \" + str(len(X_train.search_engine.unique())))"
   ]
  },
  {
   "cell_type": "code",
   "execution_count": 48,
   "metadata": {},
   "outputs": [],
   "source": [
    "search_engine_pipe = Pipeline([\n",
    "    ('selector', ColumnSelector(['search_engine'])),\n",
    "    ('na_filler', NaFiller(\"\")),\n",
    "    ('one_hot', OneHotEncoder(handle_unknown='ignore'))\n",
    "])"
   ]
  },
  {
   "cell_type": "code",
   "execution_count": 49,
   "metadata": {},
   "outputs": [],
   "source": [
    "# search_engine_pipe.fit_transform(X_train)"
   ]
  },
  {
   "cell_type": "markdown",
   "metadata": {},
   "source": [
    "## campaign_source"
   ]
  },
  {
   "cell_type": "code",
   "execution_count": 50,
   "metadata": {},
   "outputs": [
    {
     "name": "stdout",
     "output_type": "stream",
     "text": [
      "[nan 'rtbhouse' 'google' 'criteo' 'bing' 'zanox' 'manifest' 'buscape'\n",
      " 'emblue' 'FacebookAds' 'rakuten' 'afilio' 'voxus' 'yotpo' 'Facebook'\n",
      " 'indexa' 'datacrush' 'blog' 'afiliado' 'mercadopago' 'FacebookSocial'\n",
      " 'onsite' 'gizmodo' 'MARKETING SOCIAL']\n",
      "\n",
      "\tlen: 24\n"
     ]
    }
   ],
   "source": [
    "print(X_train.campaign_source.unique())\n",
    "print(\"\\n\\tlen: \" + str(len(X_train.campaign_source.unique())))"
   ]
  },
  {
   "cell_type": "code",
   "execution_count": 51,
   "metadata": {},
   "outputs": [],
   "source": [
    "campaign_source_pipe = Pipeline([\n",
    "    ('selector', ColumnSelector(['campaign_source'])),\n",
    "    ('na_filler', NaFiller(\"\")),\n",
    "    ('one_hot', OneHotEncoder(handle_unknown='ignore'))\n",
    "])"
   ]
  },
  {
   "cell_type": "code",
   "execution_count": 52,
   "metadata": {},
   "outputs": [],
   "source": [
    "# campaign_source_pipe.fit_transform(X_train)"
   ]
  },
  {
   "cell_type": "markdown",
   "metadata": {},
   "source": [
    "## staticpage"
   ]
  },
  {
   "cell_type": "code",
   "execution_count": 53,
   "metadata": {},
   "outputs": [
    {
     "name": "stdout",
     "output_type": "stream",
     "text": [
      "[nan 'CustomerService' 'galaxy-s8' 'Quiosks' 'how-to-sell' 'Conditions'\n",
      " 'AboutUs' 'trust-trocafone' 'TermsAndConditionsReturnEcommerce'\n",
      " 'FaqEcommerce' 'how-to-buy' 'club-trocafone'\n",
      " 'TermsAndConditionsEcommerce' 'black_friday' 'PrivacyEcommerce']\n",
      "\n",
      "\tlen: 15\n"
     ]
    }
   ],
   "source": [
    "print(X_train.staticpage.unique())\n",
    "print(\"\\n\\tlen: \" + str(len(X_train.staticpage.unique())))"
   ]
  },
  {
   "cell_type": "code",
   "execution_count": 54,
   "metadata": {},
   "outputs": [],
   "source": [
    "staticpage_pipe = Pipeline([\n",
    "    ('selector', ColumnSelector(['staticpage'])),\n",
    "    ('na_filler', NaFiller(\"\")),\n",
    "    ('one_hot', OneHotEncoder(handle_unknown='ignore'))\n",
    "])"
   ]
  },
  {
   "cell_type": "code",
   "execution_count": 55,
   "metadata": {},
   "outputs": [],
   "source": [
    "# staticpage_pipe.fit_transform(X_train)"
   ]
  },
  {
   "cell_type": "markdown",
   "metadata": {},
   "source": [
    "## search_term"
   ]
  },
  {
   "cell_type": "code",
   "execution_count": 56,
   "metadata": {},
   "outputs": [
    {
     "name": "stdout",
     "output_type": "stream",
     "text": [
      "[nan 'Moto x4' 'iphone x' ... 'IphonIphone7' 'IPHONe 7'\n",
      " 'Samsung Galaxy a7 2016 32 GB.']\n",
      "\n",
      "\tlen: 5285\n"
     ]
    }
   ],
   "source": [
    "print(X_train.search_term.unique())\n",
    "print(\"\\n\\tlen: \" + str(len(X_train.search_term.unique())))"
   ]
  },
  {
   "cell_type": "code",
   "execution_count": 57,
   "metadata": {},
   "outputs": [],
   "source": [
    "search_term_pipe = Pipeline([\n",
    "    ('selector', ColumnSelector(['search_term'])),\n",
    "    ('na_filler', NaFiller(\"\")),\n",
    "    ('one_hot', OneHotEncoder(handle_unknown='ignore'))\n",
    "])"
   ]
  },
  {
   "cell_type": "code",
   "execution_count": 58,
   "metadata": {},
   "outputs": [],
   "source": [
    "# search_term_pipe.fit_transform(X_train)"
   ]
  },
  {
   "cell_type": "markdown",
   "metadata": {},
   "source": [
    "## skus"
   ]
  },
  {
   "cell_type": "code",
   "execution_count": 59,
   "metadata": {},
   "outputs": [
    {
     "name": "stdout",
     "output_type": "stream",
     "text": [
      "[nan '7631,5016,5088,5135,8429,9216,9174,10450,9203,4969,7827,10434'\n",
      " '8485,8471,8443,6371,12758,6357,6412,3371,2777,3179,2778,8513' ...\n",
      " '2691,2694,2830,2711,2710,2693,2699,2692,3647,2833,2682,2831'\n",
      " '6847,6902,6832,6888,6957,8950,7084,6581,6875,6971,6930,6916'\n",
      " '13192,13248']\n",
      "\n",
      "\tlen: 29547\n"
     ]
    }
   ],
   "source": [
    "print(X_train.skus.unique())\n",
    "print(\"\\n\\tlen: \" + str(len(X_train.skus.unique())))"
   ]
  },
  {
   "cell_type": "code",
   "execution_count": 60,
   "metadata": {},
   "outputs": [],
   "source": [
    "skus_pipe = Pipeline([\n",
    "    ('selector', ColumnSelector(['skus'])),\n",
    "    ('na_filler', NaFiller(\"\")),\n",
    "    ('one_hot', OneHotEncoder(handle_unknown='ignore'))\n",
    "])"
   ]
  },
  {
   "cell_type": "code",
   "execution_count": 61,
   "metadata": {},
   "outputs": [],
   "source": [
    "# skus_pipe.fit_transform(X_train)"
   ]
  },
  {
   "cell_type": "markdown",
   "metadata": {},
   "source": [
    "## color"
   ]
  },
  {
   "cell_type": "code",
   "execution_count": 62,
   "metadata": {},
   "outputs": [
    {
     "name": "stdout",
     "output_type": "stream",
     "text": [
      "[nan 'Dourado' 'Branco' 'Preto' 'Prateado' 'Preto Matte' 'Cinza espacial'\n",
      " 'Couro Vintage' 'Rosa' 'Black Piano' 'Platinum' 'Prata' 'Vermelho' 'Azul'\n",
      " 'Ametista' 'Preto Brilhante' 'Ouro' 'Titânio' 'Ouro Rosa' 'Branco Azul'\n",
      " 'Preto Vermelho' 'Azul Escuro' 'Bambu' 'Indigo' 'Verde' 'Branco Pink'\n",
      " 'Preto Azul' 'Cinza' 'Branco Vermelho' 'Rose' 'Verde Água'\n",
      " 'Preto Azul Navy' 'Coral' 'Branco Azul Navy' 'Cabernet' 'Amarelo' 'Roxo'\n",
      " 'Preto Verde' 'Azul Safira' 'Branco Dourado' 'Rouge' 'Azul Topázio'\n",
      " 'Olympic Edition' 'Iuna' 'Branco Bambu' 'Couro Navy' 'Preto Cabernet'\n",
      " 'Couro Vinho' 'Framboesa' 'Couro Marrom' 'Preto Pink' 'Branco Framboesa'\n",
      " 'Ônix' 'Turquesa' 'Branco Cabernet' 'Branco Verde' 'Cobre' 'Preto Tabaco'\n",
      " 'Preto Branco' 'Preto Bambu' 'Cromo' 'Verde Petroleo' 'Preto Asfalto'\n",
      " 'Silver']\n",
      "\n",
      "\tlen: 64\n"
     ]
    }
   ],
   "source": [
    "print(X_train.color.unique())\n",
    "print(\"\\n\\tlen: \" + str(len(X_train.color.unique())))"
   ]
  },
  {
   "cell_type": "code",
   "execution_count": 63,
   "metadata": {},
   "outputs": [],
   "source": [
    "color_pipe = Pipeline([\n",
    "    ('selector', ColumnSelector(['color'])),\n",
    "    ('na_filler', NaFiller(\"\")),\n",
    "    ('one_hot', OneHotEncoder(handle_unknown='ignore'))\n",
    "])"
   ]
  },
  {
   "cell_type": "code",
   "execution_count": 64,
   "metadata": {},
   "outputs": [],
   "source": [
    "# color_pipe.fit_transform(X_train)"
   ]
  },
  {
   "cell_type": "markdown",
   "metadata": {},
   "source": [
    "## storage"
   ]
  },
  {
   "cell_type": "code",
   "execution_count": 65,
   "metadata": {},
   "outputs": [],
   "source": [
    "def process_storage_string(x):\n",
    "    if pd.isna(x):\n",
    "        return 0\n",
    "    s = x.split(\"GB\")\n",
    "    if len(s) == 2:\n",
    "        # case data in GB\n",
    "        return int(s[0])\n",
    "    else:\n",
    "        # case data in MB\n",
    "        return int(x.split(\"MB\")[0])/1024\n",
    "\n",
    "def storage_process(df):\n",
    "    df.storage = df.storage.apply(lambda x: process_storage_string(x))"
   ]
  },
  {
   "cell_type": "code",
   "execution_count": 66,
   "metadata": {},
   "outputs": [],
   "source": [
    "storage_process(X_train)\n",
    "storage_process(X_test)"
   ]
  },
  {
   "cell_type": "markdown",
   "metadata": {},
   "source": [
    "## condition"
   ]
  },
  {
   "cell_type": "code",
   "execution_count": 67,
   "metadata": {},
   "outputs": [
    {
     "name": "stdout",
     "output_type": "stream",
     "text": [
      "[nan 'Excelente' 'Muito Bom' 'Bom' 'Bom - Sem Touch ID' 'Novo']\n",
      "\n",
      "\tlen: 6\n"
     ]
    }
   ],
   "source": [
    "print(X_train.condition.unique())\n",
    "print(\"\\n\\tlen: \" + str(len(X_train.condition.unique())))"
   ]
  },
  {
   "cell_type": "code",
   "execution_count": 68,
   "metadata": {},
   "outputs": [],
   "source": [
    "condition_pipe = Pipeline([\n",
    "    ('selector', ColumnSelector(['condition'])),\n",
    "    ('na_filler', NaFiller(\"\")),\n",
    "    ('one_hot', OneHotEncoder(handle_unknown='ignore'))\n",
    "])"
   ]
  },
  {
   "cell_type": "code",
   "execution_count": 69,
   "metadata": {},
   "outputs": [],
   "source": [
    "# condition_pipe.fit_transform(X_train)"
   ]
  },
  {
   "cell_type": "markdown",
   "metadata": {},
   "source": [
    "## model"
   ]
  },
  {
   "cell_type": "code",
   "execution_count": 70,
   "metadata": {},
   "outputs": [
    {
     "name": "stdout",
     "output_type": "stream",
     "text": [
      "[nan 'iPhone 6S Plus' 'iPhone 8' 'Motorola Moto G4 Plus'\n",
      " 'Samsung Galaxy S7' 'iPhone 5s' 'iPhone 7 Plus'\n",
      " 'Samsung Galaxy Note 3 Neo Duos' 'Motorola Moto Z' 'iPhone SE' 'iPhone 6'\n",
      " 'Motorola Moto X2' 'Samsung Galaxy J1 2016' 'Samsung Galaxy A7 2017'\n",
      " 'Samsung Galaxy A5' 'Samsung Galaxy S5' 'Samsung Galaxy S7 Edge'\n",
      " 'iPhone 5' 'Samsung Galaxy S6 Edge' 'iPhone 4S' 'Samsung Galaxy S6 Flat'\n",
      " 'Motorola Moto Z Play' 'iPhone 7' 'Motorola Moto G5 Plus' 'iPhone 6S'\n",
      " 'Samsung Galaxy A5 2016' 'Samsung Galaxy S8' 'Motorola Moto G3 HDTV'\n",
      " 'Samsung Galaxy A7' 'Samsung Galaxy A3 Duos' 'iPhone 6 Plus'\n",
      " 'Samsung Galaxy J3' 'Samsung Galaxy S3 Slim Duos'\n",
      " 'Samsung Galaxy S8 Plus' 'Lenovo Vibe K5' 'Motorola Moto X Play 4G Dual'\n",
      " 'Samsung Galaxy J5 PRO' 'Samsung Galaxy Note 3' 'Samsung Galaxy J5'\n",
      " 'Samsung Galaxy Note 4' 'Samsung Galaxy Gran Prime Duos TV' 'iPhone 5c'\n",
      " 'Samsung Galaxy J7 Prime' 'Motorola Moto G5 ' 'Motorola Moto E2 4G Dual'\n",
      " 'Motorola Moto Z Power Edition' 'Samsung Galaxy S5 Duos'\n",
      " 'Motorola Moto G3 4G' 'Samsung Galaxy A7 2016' 'iPad Air Wi-Fi + 4G'\n",
      " 'iPhone 8 Plus' 'Samsung Galaxy S3 Mini' 'Motorola Moto G2 3G Dual'\n",
      " 'Samsung Galaxy A9 Pro 2016' 'Samsung Galaxy A5 2017' 'LG G4 H818P'\n",
      " 'Sony Xperia Z3 Plus' 'Asus Zenfone 2 Deluxe' 'LG G3 D855'\n",
      " 'Samsung Galaxy Note Edge' 'Sony Xperia M4 Aqua' 'iPhone 4G'\n",
      " 'Samsung Galaxy J7' 'Motorola Moto MAXX ' 'Motorola Moto X Force'\n",
      " 'Samsung Galaxy Note 5' 'Motorola Moto X Style'\n",
      " 'Samsung Galaxy S5 New Edition Duos ' 'Samsung Galaxy S5 Mini Duos'\n",
      " 'Lenovo Vibe A7010 Dual Chip' 'Samsung Galaxy J2 4G Duos TV' 'LG G5 SE'\n",
      " 'iPad Mini 4 Wi-Fi' 'LG Prime Plus H522' 'Samsung Galaxy Gran 2 Duos TV'\n",
      " 'Samsung Galaxy J2 Prime TV' 'Sony Xperia Z3 Compact'\n",
      " 'Samsung Galaxy Core Plus Duos TV' 'Samsung Galaxy J5 2016 Metal'\n",
      " 'Samsung Galaxy E7' 'LG K10' 'Samsung Galaxy J2 4G Duos '\n",
      " 'Samsung Galaxy J1 Mini' 'Motorola Moto G2 4G Dual'\n",
      " 'Samsung Galaxy Note 8' 'Samsung Galaxy Win Duos'\n",
      " 'Samsung Galaxy J5 Prime' 'Samsung Galaxy S3 i9300'\n",
      " 'Samsung Galaxy Core 2 Duos' 'iPhone X' 'Motorola Moto G4 Play DTV'\n",
      " 'Samsung Galaxy Gran Neo Duos' 'Samsung Galaxy S4 i9505'\n",
      " 'Samsung Galaxy J7 2016 Metal' 'Asus Zenfone 3 Max 16 GB'\n",
      " 'Samsung Galaxy S5 New Edition' 'LG Nexus 5 D821'\n",
      " 'Samsung Galaxy Gran Prime 3G Duos' 'iPad 4 Wi-Fi'\n",
      " 'Samsung Galaxy A3 2016' 'LG K10 TV' 'LG L Prime D337'\n",
      " 'Sony Xperia M4 Aqua Dual' 'Sony Xperia Z3 Dual' 'Motorola Moto G4 Play'\n",
      " 'Motorola Moto E2 3G Dual' 'Samsung Galaxy S4 Mini Duos'\n",
      " 'Samsung Galaxy S6 Edge Plus' 'Motorola Moto Z2 Play' 'Quantum GO 4G'\n",
      " 'LG K10 Novo' 'Samsung Galaxy Grand Duos i9082'\n",
      " 'Samsung Galaxy Tab 3 10.1 Wi-Fi + 3G' 'Samsung Galaxy S4 i9515'\n",
      " 'Motorola Moto G4 DTV' 'Asus Zenfone 5' 'Sony Xperia Z5'\n",
      " 'Samsung Galaxy S3 Duos' 'Sony Xperia Z3 ' 'LG G4 H815P' 'Sony Xperia Z2'\n",
      " 'Sony Xperia Z3 TV' 'Samsung Galaxy Note 2 N7100' 'iPad 3 Wi-Fi'\n",
      " 'Asus Zenfone 6' 'LG G4 Beat H736' 'iPad Air Wi-Fi' 'LG G3 Stylus D690'\n",
      " 'iPad 2 Wi-Fi + 3G' 'Samsung Galaxy Tab S2 8 Wi-Fi + 4G'\n",
      " 'Samsung Galaxy J7 Neo' 'Samsung Galaxy S4 Mini' 'LG  X Screen'\n",
      " 'Samsung Galaxy On 7' 'Motorola Moto G5S' 'LG G3 Beat D724'\n",
      " 'Samsung Galaxy Y Duos' 'LG G4 Stylus HDTV H540T' 'iPad Air 2 Wi-Fi'\n",
      " 'Samsung Galaxy S5 Mini' 'Samsung Galaxy Gran Neo Plus Duos'\n",
      " 'Motorola Moto G5S Plus' 'iPad Air 2 Wi-Fi + 4G' 'Asus Zenfone 2 Laser'\n",
      " 'iPad Mini 3 Wi-Fi' 'LG K8' 'Samsung Gear S3 Frontier' 'iPad Mini Wi-Fi'\n",
      " 'Asus Zenfone 2' 'Samsung Galaxy Gran Prime Duos'\n",
      " 'Samsung Galaxy E5 4G Duos' 'Samsung Gear Fit 2 Pequeno'\n",
      " 'iPad Mini Wi-Fi + 4G' 'LG K4' 'Asus Zenfone 3 Max  32 GB' 'Quantum YOU'\n",
      " 'Samsung Gear S2' 'Motorola Moto Z2 Force' 'Samsung Galaxy Win 2 Duos TV'\n",
      " 'Samsung Galaxy Tab S 8.4 Wi-Fi + 4G' 'Samsung Galaxy Mega Duos'\n",
      " 'Sony Xperia Z5 Premium' 'Samsung Galaxy S4 i9500'\n",
      " 'Samsung Galaxy Tab 4  10.1 Wi-Fi + 3G'\n",
      " 'Samsung Galaxy Tab S 10.5 Wi-Fi + 4G' 'LG G4 Stylus H630'\n",
      " 'Samsung Galaxy Tab A com S Pen 8 Wi-Fi + 4G'\n",
      " 'Samsung Galaxy Tab S2 9.7 Wi-Fi + 4G' 'Asus Zenfone Go'\n",
      " 'iPad Mini 2 Wi-Fi' 'Asus Zenfone Selfie' 'Quantum Muv Up' 'Quantum Muv'\n",
      " 'Samsung Galaxy Pocket 2 Duos' 'LG X Power' 'Samsung Galaxy J7 PRO'\n",
      " 'Samsung Galaxy Tab Pro 10.1 Wi-Fi' 'Samsung Galaxy Tab E 7 Wi-Fi'\n",
      " 'Samsung Gear Fit 2 Grande' 'Samsung Galaxy Tab E 9.6 Wi-Fi'\n",
      " 'iPad Mini 2 Wi-Fi + 4G' 'Quantum Muv Pro' 'Asus Live'\n",
      " 'Samsung Gear S3 Classic' 'iPad Mini 3 Wi-Fi + 4G' 'iPad 3 Wi-Fi + 4G'\n",
      " 'iPad 2 Wi-Fi' 'LG Nexus 4' 'iPad 4 Wi-Fi + 4G' 'iPad Mini 4 Wi-Fi + 4G'\n",
      " 'Motorola Moto G1 3G' 'Sony Xperia Z ULTRA'\n",
      " 'Samsung Galaxy Tab E 7 Wi-Fi + 3G' 'Samsung Galaxy S3 Neo Duos i9300i'\n",
      " 'Samsung Galaxy Tab A 2016 10.1  W-Fi + 4G' 'Samsung Galaxy S Duos 2'\n",
      " 'Quantum GO 3G']\n",
      "\n",
      "\tlen: 197\n"
     ]
    }
   ],
   "source": [
    "print(X_train.model.unique())\n",
    "print(\"\\n\\tlen: \" + str(len(X_train.model.unique())))"
   ]
  },
  {
   "cell_type": "code",
   "execution_count": 71,
   "metadata": {},
   "outputs": [],
   "source": [
    "model_pipe = Pipeline([\n",
    "    ('selector', ColumnSelector(['model'])),\n",
    "    ('na_filler', NaFiller(\"\")),\n",
    "    ('one_hot', OneHotEncoder(handle_unknown='ignore'))\n",
    "])"
   ]
  },
  {
   "cell_type": "code",
   "execution_count": 72,
   "metadata": {},
   "outputs": [],
   "source": [
    "# model_pipe.fit_transform(X_train)"
   ]
  },
  {
   "cell_type": "markdown",
   "metadata": {},
   "source": [
    "## sku"
   ]
  },
  {
   "cell_type": "code",
   "execution_count": 73,
   "metadata": {},
   "outputs": [
    {
     "name": "stdout",
     "output_type": "stream",
     "text": [
      "[   nan  7013. 13404. ... 13712.  1558.  9889.]\n",
      "\n",
      "\tlen: 2168\n"
     ]
    }
   ],
   "source": [
    "print(X_train.sku.unique())\n",
    "print(\"\\n\\tlen: \" + str(len(X_train.sku.unique())))"
   ]
  },
  {
   "cell_type": "code",
   "execution_count": 74,
   "metadata": {},
   "outputs": [],
   "source": [
    "sku_pipe = Pipeline([\n",
    "    ('selector', ColumnSelector(['sku'])),\n",
    "    ('na_filler', NaFiller(0)),\n",
    "    ('one_hot', OneHotEncoder(handle_unknown='ignore'))\n",
    "])"
   ]
  },
  {
   "cell_type": "code",
   "execution_count": 75,
   "metadata": {},
   "outputs": [],
   "source": [
    "# sku_pipe.fit_transform(X_train)"
   ]
  },
  {
   "cell_type": "markdown",
   "metadata": {},
   "source": [
    "## url"
   ]
  },
  {
   "cell_type": "code",
   "execution_count": 76,
   "metadata": {},
   "outputs": [
    {
     "name": "stdout",
     "output_type": "stream",
     "text": [
      "[nan '/comprar/samsung/galaxy-s8' '/comprar/iphone/iphone-5'\n",
      " '/comprar/motorola/moto-x-force' '/' '/comprar/iphone'\n",
      " '/comprar/samsung/galaxy-a7-2017'\n",
      " '/comprar/samsung/samsung-gran-prime-duos-tv'\n",
      " '/comprar/samsung/galaxy-a5-2017' '/comprar/iphone/iphone-5s'\n",
      " '/comprar/motorola/moto-g-2a-geracao' '/comprar/iphone/6'\n",
      " '/comprar/samsung/galaxy-a5-2016' '/comprar/samsung/galaxy-win-duos'\n",
      " '/comprar/iphone/iphone-6s-plus' '/comprar/iphone/6s'\n",
      " '/comprar/samsung/galaxy-s4-i9505'\n",
      " '/comprar/samsung/galaxy-note-ii-n7100' '/comprar/samsung/galaxy-note-4'\n",
      " '/comprar/samsung/galaxy-s3-mini/' '/comprar/samsung/galaxy-s6-flat'\n",
      " '/comprar/samsung/galaxy-a7-2016' '/comprar/samsung/galaxy-j5'\n",
      " '/comprar/motorola/motorola-moto-g-3a-geracao'\n",
      " '/comprar/iphone/iphone-se' '/comprar/iphone/7-plus'\n",
      " '/comprar/samsung/galaxy-s6-edge' '/comprar/ofertas/pre-venda-galaxy-s8'\n",
      " '/comprar/samsung/galaxy-s7-edge' '/comprar/iphone/iphone-4s'\n",
      " '/comprar/samsung' '/comprar/samsung/galaxy-s7'\n",
      " '/comprar/samsung/galaxy-s4-mini' '/comprar/lg/lg-g5-se'\n",
      " '/comprar/samsung/galaxy-j7' '/comprar/samsung/a5'\n",
      " '/comprar/samsung/galaxy-s4-mini-duos'\n",
      " '/comprar/samsung/galaxy-s5-new-edition-duos' '/comprar/iphone/7'\n",
      " '/comprar/sony/sony-z3-compact' '/comprar/motorola/moto-x-play-4g-dual'\n",
      " '/comprar/samsung/galaxy-s5-mini' '/comprar/lg/lg-k10'\n",
      " '/comprar/motorola/moto-x-2a-geracao' '/comprar/motorola/moto-z'\n",
      " '/comprar/iphone/iphone-5c' '/comprar/motorola'\n",
      " '/comprar/samsung/galaxy-j5-2016-metal' '/comprar/iphone/'\n",
      " '/comprar/lg/lg-nexus-5-d821' '/comprar/lg/prime-plus-h522'\n",
      " '/comprar/lenovo/vibe-k5' '/comprar/samsung/galaxy-j5-prime'\n",
      " '/comprar/motorola/moto-maxx-2a-geracao'\n",
      " '/comprar/samsung/galaxy-win-2-duos-tv' '/comprar/iphone/iphone-4g'\n",
      " '/vender/' '/comprar/samsung/galaxy-j7-prime'\n",
      " '/comprar/samsung/galaxy-grand-duos-i9082' '/comprar/sony/xperia-z2'\n",
      " '/comprar/samsung/galaxy-s5'\n",
      " '/comprar/motorola/motorola-moto-g-2a-geracao-4g-dual'\n",
      " '/comprar/motorola/moto-g4-play-dtv'\n",
      " '/comprar/samsung/galaxy-s5-mini-duos' '/comprar/samsung/'\n",
      " '/comprar/samsung/galaxy-gran-prime-3g-duos'\n",
      " '/comprar/samsung/galaxy-note-3/'\n",
      " '/comprar/motorola/moto-e-2a-geracao-4g-dual'\n",
      " '/comprar/samsung/galaxy-j1-2016' '/comprar/lg/g3-d855'\n",
      " '/comprar/motorola/motorola-moto-g-3a-geracao-hdtv'\n",
      " '/comprar/samsung/a3-duos' '/comprar/lenovo/vibe-a7010-dual-chip'\n",
      " '/comprar/samsung/galaxy-j1-mini' '/comprar/samsung/galaxy-core-2-duos'\n",
      " '/comprar/samsung/gear-s2' '/comprar/samsung/galaxy-s6-edge-plus'\n",
      " '/comprar/motorola/moto-g5-plus' '/comprar/motorola/moto-z2-play'\n",
      " '/comprar/sony/xperia-m4-aqua' '/comprar/lg/g3-beat-d724'\n",
      " '/comprar/samsung/galaxy-a9-pro-2016'\n",
      " '/comprar/samsung/samsung-galaxy-j2-4g-duos'\n",
      " '/comprar/samsung/samsung-galaxy-j2-4g-duos-tv'\n",
      " '/comprar/samsung/galaxy-s4-i9515' '/comprar/motorola/moto-g4-plus'\n",
      " '/comprar/samsung/galaxy-s5/' '/comprar/samsung/galaxy-gan-2-duos-tv'\n",
      " '/comprar/iphone/6-plus' '/comprar/iphone/iphone-5s/'\n",
      " '/comprar/samsung/galaxy-j7-2016-metal' '/comprar/samsung/galaxy-s8-plus'\n",
      " '/comprar/samsung/galaxy-j2-prime-tv'\n",
      " '/comprar/samsung/tablet-galaxy-tab-4-101-wifi-3g'\n",
      " '/comprar/motorola/moto-g5s-plus' '/comprar/motorola/'\n",
      " '/comprar/samsung/galaxy-y-duos' '/comprar/samsung/galaxy-note-5'\n",
      " '/comprar/sony/xperia-z3-dual' '/comprar/motorola/moto-g4-play'\n",
      " '/comprar/samsung/galaxy-note8' '/comprar/samsung/a7'\n",
      " '/comprar/samsung/galaxy-e5-4g-duos' '/comprar/samsung/galaxy-s5-duos'\n",
      " '/comprar/lg/l-prime-d337' '/comprar/lg' '/comprar/lg/lg-k4'\n",
      " '/comprar/motorola/moto-x-style' '/comprar/samsung/galaxy-s3-i9300'\n",
      " '/comprar/motorola/moto-g5' '/comprar/samsung/samsung-galaxy-j3'\n",
      " '/comprar/samsung/galaxy-s3-duos' '/comprar/samsung/e7'\n",
      " '/comprar/motorola/moto-g4-dtv'\n",
      " '/comprar/motorola/moto-e-2a-geracao-3g-dual' '/comprar/asus/zenfone-2'\n",
      " '/comprar/samsung/galaxy-j5-pro' '/comprar/motorola/moto-z-power-edition'\n",
      " '/comprar/samsung/galaxy-note-4-edge' '/comprar/motorola/moto-z-play'\n",
      " '/comprar/samsung/galaxy-gran-neo-duos' '/comprar/samsung/galaxy-note-3'\n",
      " '/comprar/sony' '/vender/samsung/galaxy-s5' '/comprar/asus/zenfone-6'\n",
      " '/comprar/motorola/moto-g1a-geracao' '/comprar/sony/xperia-m4-aqua-dual'\n",
      " '/comprar/samsung/galaxy-core-plus-duos-tv' '/comprar/ipad/air-2-wifi'\n",
      " '/comprar/lg/g3-stylus' '/comprar/sony/xperia-z3-tv'\n",
      " '/comprar/samsung/galaxy-s3-slim-duos' '/comprar/ipad/ipad-mini-wi-fi-4g'\n",
      " '/comprar/asus/zenfone-5' '/comprar/samsung/galaxy-s5-new-edition'\n",
      " '/comprar/lg/lg-x-power' '/comprar/samsung/galaxy-on-7'\n",
      " '/comprar/samsung/galaxy-s7-neo' '/comprar/motorola/moto-g5s'\n",
      " '/comprar/quantum/quantum-muv-pro' '/comprar/lg/lg-k8'\n",
      " '/comprar/samsung/galaxy-note-4/' '/vender/motorola/moto-g5-plus'\n",
      " '/comprar/lg/k10-novo' '/comprar/samsung/galaxy-a3-2016'\n",
      " '/comprar/lg/g4-beat-h736' '/comprar/sony/xperia-z3-plus'\n",
      " '/comprar/samsung/samsung-galaxy-note-3-neo-duos' '/comprar/lg/lg-k-10'\n",
      " '/comprar/ipad/ipad-air-wi-fi-4g' '/comprar/samsung/galaxy-s4-i9500'\n",
      " '/comprar/iphone/iphone-8' '/comprar/samsung/galaxy-s3-mini'\n",
      " '/comprar/quantum/go-4g' '/comprar/sony/xperia-z3'\n",
      " '/vender/motorola/moto-z2-play' '/comprar/iphone/iphone-8-plus'\n",
      " '/comprar/iphone/iphone-x' '/comprar/samsung/galaxy-s4-mini-duos/'\n",
      " '/comprar/lg/lg-g4-stylus-h630' '/comprar/lg/g4-h815p' '/comprar/lg/g2'\n",
      " '/comprar/sony/xperia-z5' '/comprar/samsung/galaxy-tab-e-96-wifi'\n",
      " '/comprar/asus/zenfone-2-deluxe'\n",
      " '/comprar/samsung/galaxy-grand-duos-i9082/'\n",
      " '/comprar/asus/zenfone-3-max-16gb' '/comprar/lg/lg-g-pro-lite-dual-d685'\n",
      " '/comprar/lg/lg-l90-dual-d410' '/comprar/apple/iphone-7-plus'\n",
      " '/comprar/quantum/quantum-muv' '/comprar/motorola/razr-i'\n",
      " '/comprar/lenovo' '/comprar/samsung/galaxy-j7-pro'\n",
      " '/comprar/apple/iphone-6s-plus'\n",
      " '/comprar/motorola/motorola-moto-g-1a-geracao-4g'\n",
      " '/comprar/asus/zenfone-selfie' '/vender/motorola/moto-x-play-4g-dual'\n",
      " '/comprar/lg/' '/vender/motorola/motorola-moto-g-2a-geracao-4g-dual'\n",
      " '/comprar/lg/lg-x-screen' '/comprar/sony/xperia-z5-premium'\n",
      " '/comprar/ipad/ipad-mini-4-wifi' '/comprar/lg/g4-h818p' '/comprar/nokia'\n",
      " '/comprar/ipad/ipad-air-wi-fi' '/comprar/asus/zenfone-2-laser'\n",
      " '/comprar/samsung/galaxy-tab-e-7-wifi' '/termos-e-condicoes'\n",
      " '/comprar/ipad/4-wi-fi' '/comprar/asus/zenfone-3-max-32gb'\n",
      " '/comprar/lg/lg-g4-stylus-hdtv-h540t' '/comprar/asus/zenfone-go'\n",
      " '/vender/samsung/galaxy-s8' '/vender/motorola/moto-g5s-plus'\n",
      " '/comprar/list' '/comprar/samsung/galaxy-win-duos/'\n",
      " '/comprar/ipad/3-wi-fi' '/comprar/motorola/moto-x'\n",
      " '/comprar/lg/lg-g2-mini-d618' '/comprar/sony/' '/vender/lg/optimus-l7-ii'\n",
      " '/comprar/ipad/ipad-mini-wi-fi' '/comprar/ipad/2-wi-fi-3g'\n",
      " '/comprar/samsung/galaxy-note-ii-n7100/' '/comprar/ipad'\n",
      " '/comprar/ipad/ipad-mini-3-wi-fi' '/comprar/ipad/ipad-air-2-4g'\n",
      " '/comprar/samsung/galaxy-tab-s2-8-wifi-4g'\n",
      " '/comprar/samsung/gear-fit-2-small'\n",
      " '/comprar/samsung/galaxy-tab-a-com-spen-8-wifi-4g'\n",
      " '/comprar/motorola/razr-hd' '/comprar/sony/xperia-z-ultra/'\n",
      " '/comprar/ipad/3-wi-fi-4g' '/comprar/iphone/iphone-4s/'\n",
      " '/comprar/samsung/galaxy-tab-3-101-wifi-3g' '/comprar/quantum/muv-up'\n",
      " '/comprar/samsung/galaxy-mega-duos' '/comprar/ipad/ipad-mini-2-wi-fi'\n",
      " '/comprar/samsung/galaxy-gran-neo-plus-duos'\n",
      " '/comprar/lg/lg-g2-mini-d618-dual' '/comprar/samsung/gear-fit-2-large'\n",
      " '/comprar/samsung/galaxy-mega/'\n",
      " '/comprar/samsung/galaxy-tab-s2-97-wifi-4g' '/politica-de-privacidade'\n",
      " '/comprar/ipad/ipad-mini-2-wi-fi-4g' '/comprar/quantum/you']\n",
      "\n",
      "\tlen: 227\n"
     ]
    }
   ],
   "source": [
    "print(X_train.url.unique())\n",
    "print(\"\\n\\tlen: \" + str(len(X_train.url.unique())))"
   ]
  },
  {
   "cell_type": "code",
   "execution_count": 77,
   "metadata": {},
   "outputs": [],
   "source": [
    "url_pipe = Pipeline([\n",
    "    ('selector', ColumnSelector(['url'])),\n",
    "    ('na_filler', NaFiller(\"\")),\n",
    "    ('one_hot', OneHotEncoder(handle_unknown='ignore'))\n",
    "])"
   ]
  },
  {
   "cell_type": "code",
   "execution_count": 78,
   "metadata": {},
   "outputs": [],
   "source": [
    "# url_pipe.fit_transform(X_train)"
   ]
  },
  {
   "cell_type": "markdown",
   "metadata": {},
   "source": [
    "## person"
   ]
  },
  {
   "cell_type": "code",
   "execution_count": 79,
   "metadata": {},
   "outputs": [
    {
     "name": "stdout",
     "output_type": "stream",
     "text": [
      "['86742710' 'bb4b8182' '5af2db5e' ... '407fba14' 'c77d7c6a' '266bdbab']\n",
      "\n",
      "\tlen: 19321\n"
     ]
    }
   ],
   "source": [
    "print(X_train.person.unique())\n",
    "print(\"\\n\\tlen: \" + str(len(X_train.person.unique())))"
   ]
  },
  {
   "cell_type": "code",
   "execution_count": 80,
   "metadata": {},
   "outputs": [],
   "source": [
    "person_pipe = Pipeline([\n",
    "    ('selector', ColumnSelector(['person'])),\n",
    "    ('na_filler', NaFiller(\"\")),\n",
    "    ('one_hot', OneHotEncoder(handle_unknown='ignore'))\n",
    "])"
   ]
  },
  {
   "cell_type": "code",
   "execution_count": 81,
   "metadata": {},
   "outputs": [],
   "source": [
    "# person_pipe.fit_transform(X_train)"
   ]
  },
  {
   "cell_type": "markdown",
   "metadata": {},
   "source": [
    "## event"
   ]
  },
  {
   "cell_type": "code",
   "execution_count": 82,
   "metadata": {},
   "outputs": [
    {
     "name": "stdout",
     "output_type": "stream",
     "text": [
      "['visited site' 'viewed product' 'searched products' 'brand listing'\n",
      " 'ad campaign hit' 'checkout' 'search engine hit' 'generic listing'\n",
      " 'staticpage' 'lead' 'conversion']\n",
      "\n",
      "\tlen: 11\n"
     ]
    }
   ],
   "source": [
    "print(X_train.event.unique())\n",
    "print(\"\\n\\tlen: \" + str(len(X_train.event.unique())))"
   ]
  },
  {
   "cell_type": "code",
   "execution_count": 83,
   "metadata": {},
   "outputs": [],
   "source": [
    "event_pipe = Pipeline([\n",
    "    ('selector', ColumnSelector(['event'])),\n",
    "    ('na_filler', NaFiller(\"\")),\n",
    "    ('one_hot', OneHotEncoder(handle_unknown='ignore'))\n",
    "])"
   ]
  },
  {
   "cell_type": "code",
   "execution_count": 84,
   "metadata": {},
   "outputs": [],
   "source": [
    "# event_pipe.fit_transform(X_train)"
   ]
  },
  {
   "cell_type": "markdown",
   "metadata": {},
   "source": [
    "## Lets bring all of them together!"
   ]
  },
  {
   "cell_type": "code",
   "execution_count": 88,
   "metadata": {},
   "outputs": [],
   "source": [
    "from xgboost import XGBRegressor\n",
    "from sklearn.linear_model import LogisticRegression"
   ]
  },
  {
   "cell_type": "code",
   "execution_count": 91,
   "metadata": {},
   "outputs": [
    {
     "data": {
      "text/plain": [
       "Pipeline(memory=None,\n",
       "     steps=[('feats', FeatureUnion(n_jobs=None,\n",
       "       transformer_list=[('browser', Pipeline(memory=None,\n",
       "     steps=[('selector', ColumnSelector(cols=['browser_version'])), ('na_filler', NaFiller(filler='')), ('hasher', OneHotEncoder(categorical_features=None, categories=None,\n",
       "       dtype=<class 'nump... penalty='l2', random_state=None, solver='sag',\n",
       "          tol=0.0001, verbose=0, warm_start=False))])"
      ]
     },
     "execution_count": 91,
     "metadata": {},
     "output_type": "execute_result"
    }
   ],
   "source": [
    "from sklearn.pipeline import FeatureUnion\n",
    "\n",
    "feats = FeatureUnion([\n",
    "    ('browser', browser_pipe),\n",
    "    ('os', os_ver_pipe),\n",
    "    ('device_type', device_type_pipe),\n",
    "    ('country', country_pipe),\n",
    "    ('region', region_pipe),\n",
    "    ('city', city_pipe),\n",
    "    ('new_vs_ret', new_vs_returning_pipe),\n",
    "    ('channel', channel_pipe),\n",
    "    ('search_eng', search_engine_pipe),\n",
    "    ('campaign', campaign_source_pipe),\n",
    "    ('staticpage', staticpage_pipe),\n",
    "    ('searchterm', search_term_pipe),\n",
    "    ('skus', skus_pipe),\n",
    "    ('color', color_pipe),\n",
    "    ('condition', condition_pipe),\n",
    "    ('model', model_pipe),\n",
    "    ('sku', sku_pipe),\n",
    "    ('url', url_pipe),\n",
    "    ('person', person_pipe),\n",
    "    ('event', event_pipe)\n",
    "])\n",
    "\n",
    "feature_processing = Pipeline([\n",
    "    ('feats', feats),\n",
    "    ('lr', LogisticRegression(solver='sag'))\n",
    "#     ('xgb', XGBRegressor())\n",
    "])\n",
    "\n",
    "feature_processing.fit(X_train, y_train)"
   ]
  },
  {
   "cell_type": "code",
   "execution_count": 103,
   "metadata": {},
   "outputs": [],
   "source": [
    "preds = feature_processing.predict_proba(X_test)[:,1]"
   ]
  },
  {
   "cell_type": "code",
   "execution_count": 104,
   "metadata": {},
   "outputs": [
    {
     "data": {
      "text/plain": [
       "(386723,)"
      ]
     },
     "execution_count": 104,
     "metadata": {},
     "output_type": "execute_result"
    }
   ],
   "source": [
    "preds.shape"
   ]
  },
  {
   "cell_type": "code",
   "execution_count": 106,
   "metadata": {},
   "outputs": [
    {
     "data": {
      "text/plain": [
       "(386723,)"
      ]
     },
     "execution_count": 106,
     "metadata": {},
     "output_type": "execute_result"
    }
   ],
   "source": [
    "y_test.shape"
   ]
  },
  {
   "cell_type": "code",
   "execution_count": 107,
   "metadata": {},
   "outputs": [
    {
     "data": {
      "text/plain": [
       "0.9999958398983199"
      ]
     },
     "execution_count": 107,
     "metadata": {},
     "output_type": "execute_result"
    }
   ],
   "source": [
    "roc_auc_score(y_test,preds)"
   ]
  }
 ],
 "metadata": {
  "kernelspec": {
   "display_name": "Python 3",
   "language": "python",
   "name": "python3"
  },
  "language_info": {
   "codemirror_mode": {
    "name": "ipython",
    "version": 3
   },
   "file_extension": ".py",
   "mimetype": "text/x-python",
   "name": "python",
   "nbconvert_exporter": "python",
   "pygments_lexer": "ipython3",
   "version": "3.5.2"
  }
 },
 "nbformat": 4,
 "nbformat_minor": 2
}
