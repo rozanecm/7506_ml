{
 "cells": [
  {
   "cell_type": "code",
   "execution_count": 58,
   "metadata": {},
   "outputs": [],
   "source": [
    "import pandas as pd\n",
    "import numpy as np\n",
    "from sklearn.model_selection import train_test_split\n",
    "# Import Area Under the Receiver Operating Characteristic Curve metric to evaluate results\n",
    "from sklearn.metrics import roc_auc_score\n",
    "from sklearn.pipeline import Pipeline\n",
    "from sklearn.feature_selection import SelectKBest\n",
    "from sklearn.model_selection import RandomizedSearchCV,GridSearchCV\n",
    "from sklearn.preprocessing import Imputer"
   ]
  },
  {
   "cell_type": "code",
   "execution_count": 6,
   "metadata": {},
   "outputs": [],
   "source": [
    "from sklearn import preprocessing\n",
    "from sklearn.feature_extraction import DictVectorizer\n",
    "from sklearn.preprocessing import OneHotEncoder\n",
    "from sklearn.feature_extraction import FeatureHasher\n",
    "from sklearn.preprocessing import LabelBinarizer\n",
    "import category_encoders as ce"
   ]
  },
  {
   "cell_type": "code",
   "execution_count": 7,
   "metadata": {},
   "outputs": [],
   "source": [
    "labels_df = pd.read_csv(\"data/fiuba-trocafone-tp2-final-set/labels_training_set.csv\", low_memory=False)"
   ]
  },
  {
   "cell_type": "code",
   "execution_count": 8,
   "metadata": {},
   "outputs": [],
   "source": [
    "events_df = pd.read_csv(\"data/9_11_mas_supports.csv\", low_memory=False)"
   ]
  },
  {
   "cell_type": "code",
   "execution_count": 9,
   "metadata": {},
   "outputs": [
    {
     "data": {
      "text/plain": [
       "Index(['timestamp', 'event', 'person', 'url', 'sku', 'model', 'condition',\n",
       "       'storage', 'color', 'skus', 'search_term', 'staticpage',\n",
       "       'campaign_source', 'search_engine', 'channel', 'new_vs_returning',\n",
       "       'city', 'region', 'country', 'device_type', 'screen_resolution',\n",
       "       'operating_system_version', 'browser_version', 'mes', 'dia', 'q1', 'q2',\n",
       "       'q3', 'q4', 'q5', 'q6', 'q7', 'q8', 'q9', 'q10',\n",
       "       'support_p_todos_sus_ev', 'support_con_peso', 'support_ind', 'year',\n",
       "       'month_sin', 'month_cos', 'day_sin', 'day_cos', 'weekday_sin',\n",
       "       'weekday_cos', 'hour_sin', 'hour_cos'],\n",
       "      dtype='object')"
      ]
     },
     "execution_count": 9,
     "metadata": {},
     "output_type": "execute_result"
    }
   ],
   "source": [
    "events_df.columns"
   ]
  },
  {
   "cell_type": "markdown",
   "metadata": {},
   "source": [
    "# Preprocessing"
   ]
  },
  {
   "cell_type": "markdown",
   "metadata": {},
   "source": [
    "***\n",
    "## Note on preprocessing\n",
    "All preprocessing which can be done in just one way, i.e. it doesn't need hyper parameter adjustment, will be done outside pipelines."
   ]
  },
  {
   "cell_type": "markdown",
   "metadata": {},
   "source": [
    "Good pipeline sources: \n",
    "* http://zacstewart.com/2014/08/05/pipelines-of-featureunions-of-pipelines.html\n",
    "* https://www.kaggle.com/baghern/a-deep-dive-into-sklearn-pipelines\n",
    "* https://www.kaggle.com/metadist/work-like-a-pro-with-pipelines-and-feature-unions\n",
    "* https://www.kaggle.com/sermakarevich/sklearn-pipelines-tutorial\n",
    "* http://zacstewart.com/2014/08/05/pipelines-of-featureunions-of-pipelines.html\n",
    "***"
   ]
  },
  {
   "cell_type": "code",
   "execution_count": 10,
   "metadata": {},
   "outputs": [],
   "source": [
    "# some date processing\n",
    "def date_proc(df):\n",
    "    df['timestamp'] = pd.to_datetime(df['timestamp'])\n",
    "    df['year'] = df['timestamp'].dt.year\n",
    "    df['month'] = df['timestamp'].dt.month\n",
    "    df['day'] = df['timestamp'].dt.day\n",
    "    df['weekday'] = df['timestamp'].dt.day_name()\n",
    "    df['hour'] = df['timestamp'].dt.hour\n",
    "    df['year_month_day'] = df['timestamp'].map(lambda x: str(x.year)+\"/\"+str(x.month)+\"/\"+str(x.day))\n",
    "    df['year_month_day'] = pd.to_datetime(df['year_month_day'])\n",
    "    \n",
    "#date_proc(events)"
   ]
  },
  {
   "cell_type": "markdown",
   "metadata": {},
   "source": [
    "Primero hacemos un label encoding con el weekday, luego aplicamos una transfrmacion que contemple la naturaleza ciclica de la semana. Esto ultimo lo aplicaremos tambien al resto de los features ciclicos (como se explica, por ejemplo, aca: https://ianlondon.github.io/blog/encoding-cyclical-features-24hour-time/)"
   ]
  },
  {
   "cell_type": "code",
   "execution_count": 11,
   "metadata": {},
   "outputs": [],
   "source": [
    "#weekday_le = preprocessing.LabelEncoder()\n",
    "#weekday_le.fit(events_df.weekday)\n",
    "\n",
    "#events_df.weekday = weekday_le.transform(events_df.weekday)"
   ]
  },
  {
   "cell_type": "code",
   "execution_count": 12,
   "metadata": {},
   "outputs": [],
   "source": [
    "def month_to_cyclic(df):\n",
    "    df['month_sin'] = df['month'].apply(lambda x: np.sin(2*np.pi*x/12))\n",
    "    df['month_cos'] = df['month'].apply(lambda x: np.cos(2*np.pi*x/12))\n",
    "    df.drop('month', axis=1, inplace=True)\n",
    "    \n",
    "def day_to_cyclic(df):\n",
    "    df['day_sin'] = df['day'].apply(lambda x: np.sin(2*np.pi*x/31))\n",
    "    df['day_cos'] = df['day'].apply(lambda x: np.cos(2*np.pi*x/31))\n",
    "    df.drop('day', axis=1, inplace=True)\n",
    "\n",
    "def weekday_to_cyclic(df):\n",
    "    df['weekday_sin'] = df['weekday'].apply(lambda x: np.sin(2*np.pi*x/7))\n",
    "    df['weekday_cos'] = df['weekday'].apply(lambda x: np.cos(2*np.pi*x/7))\n",
    "    df.drop('weekday', axis=1, inplace=True)\n",
    "\n",
    "def hour_to_cyclic(df):\n",
    "    df['hour_sin'] = df['hour'].apply(lambda x: np.sin(2*np.pi*x/24))\n",
    "    df['hour_cos'] = df['hour'].apply(lambda x: np.cos(2*np.pi*x/24))\n",
    "    df.drop('hour', axis=1, inplace=True)"
   ]
  },
  {
   "cell_type": "code",
   "execution_count": 13,
   "metadata": {},
   "outputs": [],
   "source": [
    "#month_to_cyclic(events_df)\n",
    "#day_to_cyclic(events_df)\n",
    "#weekday_to_cyclic(events_df)\n",
    "#hour_to_cyclic(events_df)"
   ]
  },
  {
   "cell_type": "code",
   "execution_count": 14,
   "metadata": {},
   "outputs": [],
   "source": [
    "#events_df.drop('year_month_day', axis=1, inplace=True)"
   ]
  },
  {
   "cell_type": "code",
   "execution_count": 15,
   "metadata": {},
   "outputs": [],
   "source": [
    "def get_screen_width(x):\n",
    "    if x != \"\":\n",
    "        return x.split(\"x\")[0]\n",
    "    else:\n",
    "        return 0\n",
    "    \n",
    "def get_screen_height(x):\n",
    "    if x != \"\":\n",
    "        return x.split(\"x\")[1]\n",
    "    else:\n",
    "        return 0\n",
    "\n",
    "def process_screen_res(df):\n",
    "    df['screen_resolution'].fillna(\"\", inplace=True)\n",
    "    df['screen_width'] = df['screen_resolution'].apply(lambda x: get_screen_width(x))\n",
    "    df['screen_height'] = df['screen_resolution'].apply(lambda x: get_screen_height(x))\n",
    "    df.drop('screen_resolution', axis=1, inplace=True)"
   ]
  },
  {
   "cell_type": "code",
   "execution_count": 16,
   "metadata": {},
   "outputs": [],
   "source": [
    "process_screen_res(events_df)"
   ]
  },
  {
   "cell_type": "code",
   "execution_count": 17,
   "metadata": {},
   "outputs": [],
   "source": [
    "def process_storage_string(x):\n",
    "    if pd.isna(x):\n",
    "        return 0\n",
    "    s = x.split(\"GB\")\n",
    "    if len(s) == 2:\n",
    "        # case data in GB\n",
    "        return int(s[0])\n",
    "    else:\n",
    "        # case data in MB\n",
    "        return int(x.split(\"MB\")[0])/1024\n",
    "\n",
    "def storage_process(df):\n",
    "    df.storage = df.storage.apply(lambda x: process_storage_string(x))"
   ]
  },
  {
   "cell_type": "code",
   "execution_count": 18,
   "metadata": {},
   "outputs": [],
   "source": [
    "storage_process(events_df)"
   ]
  },
  {
   "cell_type": "markdown",
   "metadata": {},
   "source": [
    "# Separación de datos\n",
    "---"
   ]
  },
  {
   "cell_type": "code",
   "execution_count": 71,
   "metadata": {},
   "outputs": [
    {
     "data": {
      "text/plain": [
       "(1171886, 49)"
      ]
     },
     "execution_count": 71,
     "metadata": {},
     "output_type": "execute_result"
    }
   ],
   "source": [
    "# armo df con registros completos clasificados\n",
    "train_df = events_df.merge(labels_df, on='person', how='right')\n",
    "train_df.shape"
   ]
  },
  {
   "cell_type": "code",
   "execution_count": 72,
   "metadata": {},
   "outputs": [],
   "source": [
    "y_train = train_df.label"
   ]
  },
  {
   "cell_type": "code",
   "execution_count": 73,
   "metadata": {},
   "outputs": [],
   "source": [
    "train_df = train_df.drop(columns=['label'])"
   ]
  },
  {
   "cell_type": "code",
   "execution_count": 74,
   "metadata": {},
   "outputs": [],
   "source": [
    "# armo df con registros a predecir unicamente\n",
    "to_predict = pd.DataFrame(events_df[~events_df.person.isin(labels_df.person)])"
   ]
  },
  {
   "cell_type": "code",
   "execution_count": 75,
   "metadata": {},
   "outputs": [],
   "source": [
    "test_size = 0.33\n",
    "# define a seed, so same experiments output same results every time\n",
    "seed = 12"
   ]
  },
  {
   "cell_type": "code",
   "execution_count": 76,
   "metadata": {},
   "outputs": [],
   "source": [
    "# realizo train_test_split\n",
    "X_train, X_test, y_train, y_test = train_test_split(train_df.loc[:, train_df.columns != 'label'], \n",
    "                                                    y_train, \n",
    "                                                    test_size=test_size, \n",
    "                                                    random_state=seed)"
   ]
  },
  {
   "cell_type": "code",
   "execution_count": 25,
   "metadata": {},
   "outputs": [
    {
     "data": {
      "text/plain": [
       "Int64Index([ 654168,  755549,  705141,  621828,  592612, 1090120,  686227,\n",
       "             774368,  202559,  265341,\n",
       "            ...\n",
       "             929141,  588160,    9846,   20953,  937613,  114565, 1171505,\n",
       "             206083,   36482,  564465],\n",
       "           dtype='int64', length=785163)"
      ]
     },
     "execution_count": 25,
     "metadata": {},
     "output_type": "execute_result"
    }
   ],
   "source": [
    "X_train.index"
   ]
  },
  {
   "cell_type": "code",
   "execution_count": 26,
   "metadata": {},
   "outputs": [
    {
     "data": {
      "text/plain": [
       "Int64Index([ 654168,  755549,  705141,  621828,  592612, 1090120,  686227,\n",
       "             774368,  202559,  265341,\n",
       "            ...\n",
       "             929141,  588160,    9846,   20953,  937613,  114565, 1171505,\n",
       "             206083,   36482,  564465],\n",
       "           dtype='int64', length=785163)"
      ]
     },
     "execution_count": 26,
     "metadata": {},
     "output_type": "execute_result"
    }
   ],
   "source": [
    "y_train.index"
   ]
  },
  {
   "cell_type": "code",
   "execution_count": 27,
   "metadata": {},
   "outputs": [
    {
     "data": {
      "text/plain": [
       "Index(['timestamp', 'event', 'person', 'url', 'sku', 'model', 'condition',\n",
       "       'storage', 'color', 'skus', 'search_term', 'staticpage',\n",
       "       'campaign_source', 'search_engine', 'channel', 'new_vs_returning',\n",
       "       'city', 'region', 'country', 'device_type', 'operating_system_version',\n",
       "       'browser_version', 'mes', 'dia', 'q1', 'q2', 'q3', 'q4', 'q5', 'q6',\n",
       "       'q7', 'q8', 'q9', 'q10', 'support_p_todos_sus_ev', 'support_con_peso',\n",
       "       'support_ind', 'year', 'month_sin', 'month_cos', 'day_sin', 'day_cos',\n",
       "       'weekday_sin', 'weekday_cos', 'hour_sin', 'hour_cos', 'screen_width',\n",
       "       'screen_height'],\n",
       "      dtype='object')"
      ]
     },
     "execution_count": 27,
     "metadata": {},
     "output_type": "execute_result"
    }
   ],
   "source": [
    "X_train.columns"
   ]
  },
  {
   "cell_type": "code",
   "execution_count": 78,
   "metadata": {},
   "outputs": [],
   "source": [
    "X_train.reset_index(inplace=True)\n",
    "X_train.drop(columns='index', inplace=True)\n",
    "X_test.reset_index(inplace=True)\n",
    "X_test.drop(columns='index', inplace=True)\n",
    "y_train = pd.DataFrame(y_train)\n",
    "y_train.reset_index(inplace=True)\n",
    "y_train.drop(columns='index', inplace=True)\n",
    "y_test = pd.DataFrame(y_test)\n",
    "y_test.reset_index(inplace=True)\n",
    "y_test.drop(columns='index', inplace=True)"
   ]
  },
  {
   "cell_type": "markdown",
   "metadata": {},
   "source": [
    "# Creación de Pipelines\n",
    "---"
   ]
  },
  {
   "cell_type": "markdown",
   "metadata": {},
   "source": [
    "### Build some custom transformers"
   ]
  },
  {
   "cell_type": "code",
   "execution_count": 29,
   "metadata": {},
   "outputs": [],
   "source": [
    "from sklearn.base import BaseEstimator, TransformerMixin\n",
    "\n",
    "class ColumnSelector(BaseEstimator, TransformerMixin):\n",
    "    \"\"\"\n",
    "    Selector to select the needed columns in the pipeline\n",
    "    \"\"\"\n",
    "    def __init__(self, cols):\n",
    "        self.cols = cols\n",
    "\n",
    "    def fit(self, X, y=None):\n",
    "        return self\n",
    "\n",
    "    def transform(self, X, y=None):\n",
    "        return X.loc[:,self.cols]"
   ]
  },
  {
   "cell_type": "code",
   "execution_count": 30,
   "metadata": {},
   "outputs": [],
   "source": [
    "from sklearn.base import BaseEstimator, TransformerMixin\n",
    "\n",
    "class NaFiller(BaseEstimator, TransformerMixin):\n",
    "    \"\"\"\n",
    "    Selector to select the needed columns in the pipeline\n",
    "    \"\"\"\n",
    "    def __init__(self, filler):\n",
    "        self.filler = filler\n",
    "\n",
    "    def fit(self, X, y=None):\n",
    "        return self\n",
    "\n",
    "    def transform(self, X, y=None):\n",
    "        return X.fillna(self.filler)"
   ]
  },
  {
   "cell_type": "code",
   "execution_count": 31,
   "metadata": {},
   "outputs": [],
   "source": [
    "from sklearn.base import BaseEstimator, TransformerMixin\n",
    "\n",
    "class IndexMatcher(BaseEstimator, TransformerMixin):\n",
    "    \"\"\"\n",
    "    Selector to select the needed columns in the pipeline\n",
    "    \"\"\"\n",
    "    def __init__(self):\n",
    "        return\n",
    "\n",
    "    def fit(self, X, y=None):\n",
    "        return self\n",
    "\n",
    "    def transform(self, X, y=None):\n",
    "        print('Index before X: ' + str(X.index))\n",
    "        X_aux =  X.reset_index().drop(columns='index')\n",
    "        print('Index after X: ' + str(X_aux.index))\n",
    "        return X_aux"
   ]
  },
  {
   "cell_type": "code",
   "execution_count": 54,
   "metadata": {},
   "outputs": [
    {
     "data": {
      "text/plain": [
       "timestamp                    object\n",
       "event                        object\n",
       "person                       object\n",
       "url                          object\n",
       "sku                         float64\n",
       "model                        object\n",
       "condition                    object\n",
       "storage                     float64\n",
       "color                        object\n",
       "skus                         object\n",
       "search_term                  object\n",
       "staticpage                   object\n",
       "campaign_source              object\n",
       "search_engine                object\n",
       "channel                      object\n",
       "new_vs_returning             object\n",
       "city                         object\n",
       "region                       object\n",
       "country                      object\n",
       "device_type                  object\n",
       "operating_system_version     object\n",
       "browser_version              object\n",
       "mes                           int64\n",
       "dia                           int64\n",
       "q1                             bool\n",
       "q2                             bool\n",
       "q3                             bool\n",
       "q4                             bool\n",
       "q5                             bool\n",
       "q6                             bool\n",
       "q7                             bool\n",
       "q8                             bool\n",
       "q9                             bool\n",
       "q10                            bool\n",
       "support_p_todos_sus_ev      float64\n",
       "support_con_peso            float64\n",
       "support_ind                 float64\n",
       "year                          int64\n",
       "month_sin                   float64\n",
       "month_cos                   float64\n",
       "day_sin                     float64\n",
       "day_cos                     float64\n",
       "weekday_sin                 float64\n",
       "weekday_cos                 float64\n",
       "hour_sin                    float64\n",
       "hour_cos                    float64\n",
       "screen_width                 object\n",
       "screen_height                object\n",
       "dtype: object"
      ]
     },
     "execution_count": 54,
     "metadata": {},
     "output_type": "execute_result"
    }
   ],
   "source": [
    "X_train.dtypes"
   ]
  },
  {
   "cell_type": "code",
   "execution_count": 79,
   "metadata": {},
   "outputs": [],
   "source": [
    "## q1\n",
    "q1_pipe = Pipeline([\n",
    "    ('selector', ColumnSelector(['q1'])),\n",
    "    ('na_filler', NaFiller(0)),\n",
    "    #'hasher', OneHotEncoder(handle_unknown='ignore')) \n",
    "])\n",
    "\n",
    "## q2\n",
    "q2_pipe = Pipeline([\n",
    "    ('selector', ColumnSelector(['q2'])),\n",
    "    ('na_filler', NaFiller(0)),\n",
    "    #'hasher', OneHotEncoder(handle_unknown='ignore')) \n",
    "])\n",
    "\n",
    "## q3\n",
    "q3_pipe = Pipeline([\n",
    "    ('selector', ColumnSelector(['q3'])),\n",
    "    ('na_filler', NaFiller(0)),\n",
    "    #'hasher', OneHotEncoder(handle_unknown='ignore')) \n",
    "])\n",
    "\n",
    "## q4\n",
    "q4_pipe = Pipeline([\n",
    "    ('selector', ColumnSelector(['q4'])),\n",
    "    ('na_filler', NaFiller(0)),\n",
    "    #'hasher', OneHotEncoder(handle_unknown='ignore')) \n",
    "])\n",
    "\n",
    "## q5\n",
    "q5_pipe = Pipeline([\n",
    "    ('selector', ColumnSelector(['q5'])),\n",
    "    ('na_filler', NaFiller(0)),\n",
    "    #'hasher', OneHotEncoder(handle_unknown='ignore')) \n",
    "])\n",
    "\n",
    "## q6\n",
    "q6_pipe = Pipeline([\n",
    "    ('selector', ColumnSelector(['q6'])),\n",
    "    ('na_filler', NaFiller(0)),\n",
    "    #'hasher', OneHotEncoder(handle_unknown='ignore')) \n",
    "])\n",
    "\n",
    "## q7\n",
    "q7_pipe = Pipeline([\n",
    "    ('selector', ColumnSelector(['q7'])),\n",
    "    ('na_filler', NaFiller(0)),\n",
    "    #'hasher', OneHotEncoder(handle_unknown='ignore')) \n",
    "])\n",
    "\n",
    "## q8\n",
    "q8_pipe = Pipeline([\n",
    "    ('selector', ColumnSelector(['q8'])),\n",
    "    ('na_filler', NaFiller(0)),\n",
    "    #'hasher', OneHotEncoder(handle_unknown='ignore')) \n",
    "])\n",
    "\n",
    "## q9\n",
    "q9_pipe = Pipeline([\n",
    "    ('selector', ColumnSelector(['q9'])),\n",
    "    ('na_filler', NaFiller(0)),\n",
    "    #'hasher', OneHotEncoder(handle_unknown='ignore')) \n",
    "])\n",
    "\n",
    "## q10\n",
    "q10_pipe = Pipeline([\n",
    "    ('selector', ColumnSelector(['q10'])),\n",
    "    ('na_filler', NaFiller(0)),\n",
    "    #'hasher', OneHotEncoder(handle_unknown='ignore')) \n",
    "])\n",
    "\n",
    "## support_p_todos_sus_ev\n",
    "sup_pipe = Pipeline([\n",
    "    ('selector', ColumnSelector(['support_p_todos_sus_ev'])),\n",
    "    ('na_filler', NaFiller(0)),\n",
    "    #'hasher', ce.TargetEncoder(handle_unknown='ignore'))\n",
    "])\n",
    "\n",
    "## Support_con_peso\n",
    "sup_peso_pipe = Pipeline([\n",
    "    ('selector', ColumnSelector(['support_con_peso'])),\n",
    "    ('na_filler', NaFiller(0)),\n",
    "    #'hasher', ce.TargetEncoder(handle_unknown='ignore'))\n",
    "])\n",
    "\n",
    "##  'support_ind'\n",
    "sup_ind_pipe = Pipeline([\n",
    "    ('selector', ColumnSelector(['support_ind'])),\n",
    "    ('na_filler', NaFiller(0)),\n",
    "    #'hasher', ce.TargetEncoder(handle_unknown='ignore'))\n",
    "])\n",
    "\n",
    "## url comprar\n",
    "urlcomprar_pipe = Pipeline([\n",
    "    ('selector', ColumnSelector(['url_comprar'])),\n",
    "    ('na_filler', NaFiller(\"\")),\n",
    "    ('hasher', ce.TargetEncoder(handle_unknown='ignore')) \n",
    "])\n",
    "\n",
    "## url vender\n",
    "urlvender_pipe = Pipeline([\n",
    "    ('selector', ColumnSelector(['url_vender'])),\n",
    "    ('na_filler', NaFiller(\"\")),\n",
    "    ('hasher', ce.TargetEncoder(handle_unknown='ignore')) \n",
    "])\n",
    "\n",
    "## year\n",
    "year_pipe = Pipeline([\n",
    "    ('selector', ColumnSelector(['year'])),\n",
    "    ('na_filler', NaFiller(0)),\n",
    "    #'hasher', OneHotEncoder(handle_unknown='ignore')) \n",
    "])\n",
    "\n",
    "## month_sin\n",
    "monthsin_pipe = Pipeline([\n",
    "    ('selector', ColumnSelector(['month_sin'])),\n",
    "    ('na_filler', NaFiller(0)),\n",
    "    #'hasher', OneHotEncoder(handle_unknown='ignore')) \n",
    "])\n",
    "\n",
    "## month_cos\n",
    "monthcos_pipe = Pipeline([\n",
    "    ('selector', ColumnSelector(['month_cos'])),\n",
    "    ('na_filler', NaFiller(0)),\n",
    "    #'hasher', OneHotEncoder(handle_unknown='ignore')) \n",
    "])\n",
    "\n",
    "## day_sin\n",
    "daysin_pipe = Pipeline([\n",
    "    ('selector', ColumnSelector(['day_sin'])),\n",
    "    ('na_filler', NaFiller(0)),\n",
    "    #'hasher', OneHotEncoder(handle_unknown='ignore')) \n",
    "])\n",
    "\n",
    "## day_cos\n",
    "daycos_pipe = Pipeline([\n",
    "    ('selector', ColumnSelector(['day_cos'])),\n",
    "    ('na_filler', NaFiller(0)),\n",
    "    #'hasher', OneHotEncoder(handle_unknown='ignore')) \n",
    "])\n",
    "\n",
    "## weekday_sin\n",
    "weekdaysin_pipe = Pipeline([\n",
    "    ('selector', ColumnSelector(['weekday_sin'])),\n",
    "    ('na_filler', NaFiller(0)),\n",
    "    #'hasher', OneHotEncoder(handle_unknown='ignore')) \n",
    "])\n",
    "\n",
    "## weekday_cos\n",
    "weekdaycos_pipe = Pipeline([\n",
    "    ('selector', ColumnSelector(['weekday_cos'])),\n",
    "    ('na_filler', NaFiller(0)),\n",
    "    #'hasher', OneHotEncoder(handle_unknown='ignore')) \n",
    "])\n",
    "\n",
    "## hour_sin\n",
    "hoursin_pipe = Pipeline([\n",
    "    ('selector', ColumnSelector(['hour_sin'])),\n",
    "    ('na_filler', NaFiller(0)),\n",
    "    #'hasher', OneHotEncoder(handle_unknown='ignore')) \n",
    "])\n",
    "\n",
    "## hour_cos\n",
    "hourcos_pipe = Pipeline([\n",
    "    ('selector', ColumnSelector(['hour_cos'])),\n",
    "    ('na_filler', NaFiller(0)),\n",
    "    #'hasher', OneHotEncoder(handle_unknown='ignore')) \n",
    "])\n",
    "\n",
    "## samsung\n",
    "samsung_pipe = Pipeline([\n",
    "    ('selector', ColumnSelector(['samsung'])),\n",
    "    ('na_filler', NaFiller(0)),\n",
    "    #'hasher', OneHotEncoder(handle_unknown='ignore')) \n",
    "])\n",
    "\n",
    "## motorola\n",
    "motorola_pipe = Pipeline([\n",
    "    ('selector', ColumnSelector(['year'])),\n",
    "    ('na_filler', NaFiller(0)),\n",
    "    #'hasher', OneHotEncoder(handle_unknown='ignore')) \n",
    "])\n",
    "\n",
    "## iphone\n",
    "iphone_pipe = Pipeline([\n",
    "    ('selector', ColumnSelector(['iphone'])),\n",
    "    ('na_filler', NaFiller(0)),\n",
    "    #'hasher', OneHotEncoder(handle_unknown='ignore')) \n",
    "])\n",
    "\n",
    "## Browser version\n",
    "browser_pipe = Pipeline([\n",
    "    ('selector', ColumnSelector(['browser_version'])),\n",
    "    ('na_filler', NaFiller(\"\")),\n",
    "    ('hasher', ce.TargetEncoder(handle_unknown='ignore'))\n",
    "])\n",
    "\n",
    "#browser_pipe.fit_transform(train_df)\n",
    "\n",
    "## operating_system_version\n",
    "os_ver_pipe = Pipeline([\n",
    "    ('selector', ColumnSelector(['operating_system_version'])),\n",
    "    ('na_filler', NaFiller(\"\")),\n",
    "    ('hasher', ce.TargetEncoder(handle_unknown='ignore'))\n",
    "])\n",
    "\n",
    "#os_ver_pipe.fit_transform(train_df)\n",
    "\n",
    "## screen_resolution\n",
    "screenreswidth_pipe = Pipeline([\n",
    "    ('selector', ColumnSelector(['screen_width'])),\n",
    "    ('na_filler', NaFiller(\"\")),\n",
    "    ('hasher', ce.TargetEncoder(handle_unknown='ignore'))\n",
    "])\n",
    "\n",
    "#screenreswidth_pipe.fit_transform(train_df)\n",
    "\n",
    "screenresheight_pipe = Pipeline([\n",
    "    ('selector', ColumnSelector(['screen_height'])),\n",
    "    ('na_filler', NaFiller(\"\")),\n",
    "    ('hasher', ce.TargetEncoder(handle_unknown='ignore'))\n",
    "])\n",
    "\n",
    "#screenresheight_pipe.fit_transform(train_df)\n",
    "\n",
    "## device_type\n",
    "device_type_pipe = Pipeline([\n",
    "    ('selector', ColumnSelector(['device_type'])),\n",
    "    ('na_filler', NaFiller(\"\")),\n",
    "    ('hasher', ce.TargetEncoder(handle_unknown='ignore'))\n",
    "])\n",
    "\n",
    "#device_type_pipe.fit_transform(train_df)\n",
    "\n",
    "## country\n",
    "country_pipe = Pipeline([\n",
    "    ('selector', ColumnSelector(['country'])),\n",
    "    ('na_filler', NaFiller(\"\")),\n",
    "    ('hasher', ce.TargetEncoder(handle_unknown='ignore'))\n",
    "])\n",
    "\n",
    "#country_pipe.fit_transform(train_df)\n",
    "\n",
    "## region\n",
    "region_pipe = Pipeline([\n",
    "    ('selector', ColumnSelector(['region'])),\n",
    "    ('na_filler', NaFiller(\"\")),\n",
    "    ('hasher', ce.TargetEncoder(handle_unknown='ignore'))\n",
    "])\n",
    "\n",
    "#region_pipe.fit_transform(train_df)\n",
    "\n",
    "## city\n",
    "city_pipe = Pipeline([\n",
    "    ('selector', ColumnSelector(['city'])),\n",
    "    ('na_filler', NaFiller(\"\")),\n",
    "    ('hasher', ce.TargetEncoder(handle_unknown='ignore'))\n",
    "])\n",
    "\n",
    "#city_pipe.fit_transform(train_df)\n",
    "## new_vs_returning\n",
    "new_vs_returning_pipe = Pipeline([\n",
    "    ('selector', ColumnSelector(['new_vs_returning'])),\n",
    "    ('na_filler', NaFiller(\"\")),\n",
    "    ('hasher', ce.TargetEncoder(handle_unknown='ignore'))\n",
    "])\n",
    "\n",
    "#new_vs_returning_pipe.fit_transform(train_df)\n",
    "## channel\n",
    "channel_pipe = Pipeline([\n",
    "    ('selector', ColumnSelector(['channel'])),\n",
    "    ('na_filler', NaFiller(\"\")),\n",
    "    ('hasher', ce.TargetEncoder(handle_unknown='ignore'))\n",
    "])\n",
    "\n",
    "#channel_pipe.fit_transform(train_df)\n",
    "## search_engine\n",
    "search_engine_pipe = Pipeline([\n",
    "    ('selector', ColumnSelector(['search_engine'])),\n",
    "    ('na_filler', NaFiller(\"\")),\n",
    "    ('hasher', ce.TargetEncoder(handle_unknown='ignore'))\n",
    "])\n",
    "\n",
    "## campaign_source\n",
    "campaign_source_pipe = Pipeline([\n",
    "    ('selector', ColumnSelector(['campaign_source'])),\n",
    "    ('na_filler', NaFiller(\"\")),\n",
    "    ('hasher', ce.TargetEncoder(handle_unknown='ignore'))\n",
    "])\n",
    "\n",
    "## staticpage\n",
    "staticpage_pipe = Pipeline([\n",
    "    ('selector', ColumnSelector(['staticpage'])),\n",
    "    ('na_filler', NaFiller(\"\")),\n",
    "    ('hasher', ce.TargetEncoder(handle_unknown='ignore'))\n",
    "])\n",
    "\n",
    "## search_term\n",
    "search_term_pipe = Pipeline([\n",
    "    ('selector', ColumnSelector(['search_term'])),\n",
    "    ('na_filler', NaFiller(\"\")),\n",
    "    ('hasher', ce.TargetEncoder(handle_unknown='ignore'))\n",
    "])\n",
    "\n",
    "## skus\n",
    "skus_pipe = Pipeline([\n",
    "    ('selector', ColumnSelector(['skus'])),\n",
    "    ('na_filler', NaFiller(\"\")),\n",
    "    ('one_hot', OneHotEncoder(handle_unknown='ignore'))\n",
    "])\n",
    "\n",
    "## color\n",
    "color_pipe = Pipeline([\n",
    "    ('selector', ColumnSelector(['color'])),\n",
    "    ('na_filler', NaFiller(\"\")),\n",
    "    ('hasher', ce.TargetEncoder(handle_unknown='ignore'))\n",
    "])\n",
    "\n",
    "## storage\n",
    "storage_pipe = Pipeline([\n",
    "    ('selector', ColumnSelector(['storage'])),\n",
    "    ('na_filler', NaFiller(0)),\n",
    "    #('one_hot', OneHotEncoder(handle_unknown='ignore'))\n",
    "])\n",
    "\n",
    "\n",
    "## condition\n",
    "\n",
    "condition_pipe = Pipeline([\n",
    "    ('selector', ColumnSelector(['condition'])),\n",
    "    ('na_filler', NaFiller(\"\")),\n",
    "    ('hasher', ce.TargetEncoder(handle_unknown='ignore'))\n",
    "])\n",
    "\n",
    "## model\n",
    "\n",
    "model_pipe = Pipeline([\n",
    "    ('selector', ColumnSelector(['model'])),\n",
    "    ('na_filler', NaFiller(\"\")),\n",
    "    ('hasher', ce.TargetEncoder(handle_unknown='ignore'))\n",
    "])\n",
    "\n",
    "## sku\n",
    "\n",
    "sku_pipe = Pipeline([\n",
    "    ('selector', ColumnSelector(['sku'])),\n",
    "    ('na_filler', NaFiller(0)),\n",
    "    ('one_hot', ce.TargetEncoder(handle_unknown='ignore'))\n",
    "])\n",
    "\n",
    "## url\n",
    "\n",
    "url_pipe = Pipeline([\n",
    "    ('selector', ColumnSelector(['url'])),\n",
    "    ('na_filler', NaFiller(\"\")),\n",
    "    ('hasher', ce.TargetEncoder(handle_unknown='ignore'))\n",
    "])\n",
    "\n",
    "## person\n",
    "\n",
    "person_pipe = Pipeline([\n",
    "    ('selector', ColumnSelector(['person'])),\n",
    "    ('na_filler', NaFiller(\"\")),\n",
    "    ('hasher', ce.TargetEncoder(handle_unknown='ignore'))\n",
    "])\n",
    "\n",
    "## event\n",
    "\n",
    "event_pipe = Pipeline([\n",
    "    ('selector', ColumnSelector(['event'])),\n",
    "    ('na_filler', NaFiller(\"\")),\n",
    "    ('hasher', ce.TargetEncoder(handle_unknown='ignore'))\n",
    "])\n",
    "\n",
    "### Event_count \n",
    "\n",
    "event_count_pipe = Pipeline([\n",
    "    ('selector', ColumnSelector(['event_count'])),\n",
    "    ('na_filler', NaFiller(0)),\n",
    "    #'one_hot', OneHotEncoder(handle_unknown='ignore'))\n",
    "])\n",
    "\n",
    "### Event_count_q1\n",
    "\n",
    "event_count_q1_pipe = Pipeline([\n",
    "    ('selector', ColumnSelector(['event_count_q1'])),\n",
    "    ('na_filler', NaFiller(0)),\n",
    "    #('one_hot', OneHotEncoder(handle_unknown='ignore'))\n",
    "])\n",
    "\n",
    "### Event_count_q2\n",
    "\n",
    "event_count_q2_pipe = Pipeline([\n",
    "    ('selector', ColumnSelector(['event_count_q2'])),\n",
    "    ('na_filler', NaFiller(0)),\n",
    "    #'one_hot', OneHotEncoder(handle_unknown='ignore'))\n",
    "])\n",
    "\n",
    "### Event_count_q3\n",
    "\n",
    "event_count_q3_pipe = Pipeline([\n",
    "    ('selector', ColumnSelector(['event_count_q3'])),\n",
    "    ('na_filler', NaFiller(0)),\n",
    "    #'one_hot', OneHotEncoder(handle_unknown='ignore'))\n",
    "])\n",
    "\n",
    "### Event_count_q4\n",
    "\n",
    "event_count_q4_pipe = Pipeline([\n",
    "    ('selector', ColumnSelector(['event_count_q4'])),\n",
    "    ('na_filler', NaFiller(0)),\n",
    "    #'one_hot', OneHotEncoder(handle_unknown='ignore'))\n",
    "])\n",
    "\n",
    "### Event_count_q5\n",
    "\n",
    "event_count_q5_pipe = Pipeline([\n",
    "    ('selector', ColumnSelector(['event_count_q5'])),\n",
    "    ('na_filler', NaFiller(0)),\n",
    "    #'one_hot', OneHotEncoder(handle_unknown='ignore'))\n",
    "])\n",
    "\n",
    "### Event_count_q6\n",
    "\n",
    "event_count_q6_pipe = Pipeline([\n",
    "    ('selector', ColumnSelector(['event_count_q6'])),\n",
    "    ('na_filler', NaFiller(0)),\n",
    "    #'one_hot', OneHotEncoder(handle_unknown='ignore'))\n",
    "])\n",
    "\n",
    "### Event_count_q7\n",
    "\n",
    "event_count_q7_pipe = Pipeline([\n",
    "    ('selector', ColumnSelector(['event_count_q7'])),\n",
    "    ('na_filler', NaFiller(0)),\n",
    "    #'one_hot', OneHotEncoder(handle_unknown='ignore'))\n",
    "])\n",
    "\n",
    "### Event_count_q8\n",
    "\n",
    "event_count_q8_pipe = Pipeline([\n",
    "    ('selector', ColumnSelector(['event_count_q8'])),\n",
    "    ('na_filler', NaFiller(0)),\n",
    "    #'one_hot', OneHotEncoder(handle_unknown='ignore'))\n",
    "])\n",
    "\n",
    "### Event_count_q9\n",
    "\n",
    "event_count_q9_pipe = Pipeline([\n",
    "    ('selector', ColumnSelector(['event_count_q9'])),\n",
    "    ('na_filler', NaFiller(0)),\n",
    "    #'one_hot', OneHotEncoder(handle_unknown='ignore'))\n",
    "])\n",
    "\n",
    "### Event_count_q10\n",
    "\n",
    "event_count_q10_pipe = Pipeline([\n",
    "    ('selector', ColumnSelector(['event_count_q10'])),\n",
    "    ('na_filler', NaFiller(0)),\n",
    "    #'one_hot', OneHotEncoder(handle_unknown='ignore'))\n",
    "])\n",
    "\n",
    "### Tiempo_total\n",
    "\n",
    "tiempo_total_pipe = Pipeline([\n",
    "    ('selector', ColumnSelector(['tiempo_total'])),\n",
    "    ('na_filler', NaFiller(0)),\n",
    "    #'one_hot', OneHotEncoder(handle_unknown='ignore'))\n",
    "])\n",
    "\n",
    "### tiempo_tota_q1\n",
    "\n",
    "tiempo_total_q1_pipe = Pipeline([\n",
    "    ('selector', ColumnSelector(['tiempo_total_q1'])),\n",
    "    ('na_filler', NaFiller(0)),\n",
    "    #'one_hot', OneHotEncoder(handle_unknown='ignore'))\n",
    "])\n",
    "\n",
    "### tiempo_total_q2\n",
    "\n",
    "tiempo_total_q2_pipe = Pipeline([\n",
    "    ('selector', ColumnSelector(['tiempo_total_q2'])),\n",
    "    ('na_filler', NaFiller(0)),\n",
    "    #'one_hot', OneHotEncoder(handle_unknown='ignore'))\n",
    "])\n",
    "\n",
    "### Tiempo_total_q3\n",
    "\n",
    "tiempo_total_q3_pipe = Pipeline([\n",
    "    ('selector', ColumnSelector(['tiempo_total_q3'])),\n",
    "    ('na_filler', NaFiller(0)),\n",
    "    #'one_hot', OneHotEncoder(handle_unknown='ignore'))\n",
    "])\n",
    "\n",
    "### Tiempo_total_q4 \n",
    "\n",
    "tiempo_total_q4_pipe = Pipeline([\n",
    "    ('selector', ColumnSelector(['tiempo_total_q4'])),\n",
    "    ('na_filler', NaFiller(0)),\n",
    "    #('one_hot', OneHotEncoder(handle_unknown='ignore'))\n",
    "])\n",
    "\n",
    "### Tiempo_total_q5\n",
    "\n",
    "tiempo_total_q5_pipe = Pipeline([\n",
    "    ('selector', ColumnSelector(['tiempo_total_q5'])),\n",
    "    ('na_filler', NaFiller(0)),\n",
    "   #('ne_hot', OneHotEncoder(handle_unknown='ignore'))\n",
    "])\n",
    "\n",
    "### Tiempo_total_q6\n",
    "\n",
    "tiempo_total_q6_pipe = Pipeline([\n",
    "    ('selector', ColumnSelector(['tiempo_total_q6'])),\n",
    "    ('na_filler', NaFiller(0)),\n",
    "   #('one_hot', OneHotEncoder(handle_unknown='ignore'))\n",
    "])\n",
    "\n",
    "### Tiempo_total_q7\n",
    "\n",
    "tiempo_total_q7_pipe = Pipeline([\n",
    "    ('selector', ColumnSelector(['tiempo_total_q7'])),\n",
    "    ('na_filler', NaFiller(0)),\n",
    "   #('one_hot', OneHotEncoder(handle_unknown='ignore'))\n",
    "])\n",
    "\n",
    "### Tiempo_total_q8\n",
    "\n",
    "tiempo_total_q8_pipe = Pipeline([\n",
    "    ('selector', ColumnSelector(['tiempo_total_q8'])),\n",
    "    ('na_filler', NaFiller(0)),\n",
    "   #('one_hot', OneHotEncoder(handle_unknown='ignore'))\n",
    "])\n",
    "\n",
    "### Tiempo_total_q9\n",
    "\n",
    "tiempo_total_q9_pipe = Pipeline([\n",
    "    ('selector', ColumnSelector(['tiempo_total_q9'])),\n",
    "    ('na_filler', NaFiller(0)),\n",
    "   #('one_hot', OneHotEncoder(handle_unknown='ignore'))\n",
    "])\n",
    "\n",
    "### Tiempo_total_q10\n",
    "\n",
    "tiempo_total_q10_pipe = Pipeline([\n",
    "    ('selector', ColumnSelector(['tiempo_total_q10'])),\n",
    "    ('na_filler', NaFiller(0)),\n",
    "   #('one_hot', OneHotEncoder(handle_unknown='ignore'))_\n",
    "])"
   ]
  },
  {
   "cell_type": "markdown",
   "metadata": {},
   "source": [
    "## Lets bring all of them together!"
   ]
  },
  {
   "cell_type": "code",
   "execution_count": 50,
   "metadata": {},
   "outputs": [],
   "source": [
    "from xgboost import XGBRegressor\n",
    "import xgboost as xbg\n",
    "from sklearn.linear_model import LogisticRegression"
   ]
  },
  {
   "cell_type": "code",
   "execution_count": 51,
   "metadata": {},
   "outputs": [
    {
     "data": {
      "text/plain": [
       "Index(['timestamp', 'event', 'person', 'url', 'sku', 'model', 'condition',\n",
       "       'storage', 'color', 'skus', 'search_term', 'staticpage',\n",
       "       'campaign_source', 'search_engine', 'channel', 'new_vs_returning',\n",
       "       'city', 'region', 'country', 'device_type', 'operating_system_version',\n",
       "       'browser_version', 'mes', 'dia', 'q1', 'q2', 'q3', 'q4', 'q5', 'q6',\n",
       "       'q7', 'q8', 'q9', 'q10', 'support_p_todos_sus_ev', 'support_con_peso',\n",
       "       'support_ind', 'year', 'month_sin', 'month_cos', 'day_sin', 'day_cos',\n",
       "       'weekday_sin', 'weekday_cos', 'hour_sin', 'hour_cos', 'screen_width',\n",
       "       'screen_height'],\n",
       "      dtype='object')"
      ]
     },
     "execution_count": 51,
     "metadata": {},
     "output_type": "execute_result"
    }
   ],
   "source": [
    "events_df.columns"
   ]
  },
  {
   "cell_type": "code",
   "execution_count": null,
   "metadata": {},
   "outputs": [],
   "source": [
    "skus_pipe.fit_transform(X_train, y_train)"
   ]
  },
  {
   "cell_type": "code",
   "execution_count": 92,
   "metadata": {},
   "outputs": [
    {
     "data": {
      "text/plain": [
       "Pipeline(memory=None,\n",
       "     steps=[('feats', FeatureUnion(n_jobs=None,\n",
       "       transformer_list=[('browser', Pipeline(memory=None,\n",
       "     steps=[('selector', ColumnSelector(cols=['browser_version'])), ('na_filler', NaFiller(filler='')), ('hasher', TargetEncoder(cols=['browser_version'], drop_invariant=False,\n",
       "       handle_unknown...\n",
       "       reg_alpha=0, reg_lambda=1, scale_pos_weight=1, seed=None,\n",
       "       silent=True, subsample=1))])"
      ]
     },
     "execution_count": 92,
     "metadata": {},
     "output_type": "execute_result"
    }
   ],
   "source": [
    "from sklearn.pipeline import FeatureUnion\n",
    "\n",
    "feats = FeatureUnion([\n",
    "    ('browser', browser_pipe),\n",
    "    ('os', os_ver_pipe),\n",
    "    ('device_type', device_type_pipe),\n",
    "    ('country', country_pipe),\n",
    "    ('region', region_pipe),\n",
    "    ('city', city_pipe),\n",
    "    ('new_vs_ret', new_vs_returning_pipe),\n",
    "    ('channel', channel_pipe),\n",
    "    ('search_eng', search_engine_pipe),\n",
    "    ('campaign', campaign_source_pipe),\n",
    "    ('staticpage', staticpage_pipe),\n",
    "    ('searchterm', search_term_pipe),\n",
    "    ('skus', skus_pipe),\n",
    "    ('color', color_pipe),\n",
    "    ('condition', condition_pipe),\n",
    "    ('model', model_pipe),\n",
    "    ('sku', sku_pipe),\n",
    "    ('url', url_pipe),\n",
    "    ('person', person_pipe),\n",
    "    ('event', event_pipe), ### TARGET ###\n",
    "    ('q1', q1_pipe),\n",
    "    ('q2', q2_pipe),\n",
    "    ('q3', q3_pipe),\n",
    "    ('q4', q4_pipe),\n",
    "    ('q5', q5_pipe),\n",
    "    ('q6', q6_pipe),\n",
    "    ('q7', q7_pipe),\n",
    "    ('q8', q8_pipe),\n",
    "    ('q9', q9_pipe),\n",
    "    ('q10', q10_pipe),\n",
    "    ('sup_pipe', sup_pipe),\n",
    "    #('sup_peso_pipe', sup_peso_pipe),#este al parecer no ayuda, con este da 0.75\n",
    "    #Sin el otro support baja a 0.70\n",
    "    #('sup_ind_pipe', sup_ind_pipe),\n",
    "    #('urlcomprar_pipe', urlcomprar_pipe),   \n",
    "    #('urlvender_pipe', urlvender_pipe),   \n",
    "    ('storage_pipe', storage_pipe),      \n",
    "    #('screenreswidth_pipe', screenreswidth_pipe),   ### TARGET ###\n",
    "    #('screenresheight_pipe', screenresheight_pipe), ### TARGET ###\n",
    "    ('year_pipe', year_pipe),\n",
    "    ('monthsin_pipe', monthsin_pipe),\n",
    "    ('monthcos_pipe', monthcos_pipe),\n",
    "    ('daysin_pipe', daysin_pipe),\n",
    "    ('daycos_pipe', daycos_pipe),\n",
    "    ('weekdaysin_pipe', weekdaysin_pipe),\n",
    "    ('weekdaycos_pipe', weekdaycos_pipe),\n",
    "    ('hoursin_pipe', hoursin_pipe),\n",
    "    ('hourcos_pipe', hourcos_pipe),\n",
    "    #('motorola_pipe', motorola_pipe),\n",
    "    #('samsung_pipe', samsung_pipe),\n",
    "    #('iphone_pipe', iphone_pipe)\n",
    "\n",
    "    ### TODOS ESTOS ANDAN PERO ESTÁN EN OTRO CSV ###\n",
    "    \n",
    "    #('event_count_pipe', event_count_pipe),\n",
    "    #('event_count_q1_pipe', event_count_q1_pipe),\n",
    "    #('event_count_q2_pipe', event_count_q2_pipe),\n",
    "    #('event_count_q3_pipe', event_count_q3_pipe),\n",
    "    #('event_count_q4_pipe', event_count_q4_pipe),\n",
    "    #('event_count_q5_pipe', event_count_q5_pipe),\n",
    "    #('event_count_q6_pipe', event_count_q6_pipe),\n",
    "    #('event_count_q7_pipe', event_count_q7_pipe),\n",
    "    #('event_count_q8_pipe', event_count_q8_pipe),\n",
    "    #('event_count_q9_pipe', event_count_q9_pipe),\n",
    "    #('event_count_q10_pipe', event_count_q10_pipe),\n",
    "    #('tiempo_total_pipe', tiempo_total_pipe),\n",
    "    #('tiempo_total_q1_pipe', tiempo_total_q1_pipe),\n",
    "    #('tiempo_total_q2_pipe', tiempo_total_q2_pipe),\n",
    "    #('tiempo_total_q3_pipe', tiempo_total_q3_pipe),\n",
    "    #('tiempo_total_q4_pipe', tiempo_total_q4_pipe),\n",
    "    #('tiempo_total_q5_pipe', tiempo_total_q5_pipe),\n",
    "    #('tiempo_total_q6_pipe', tiempo_total_q6_pipe),\n",
    "    #('tiempo_total_q7_pipe', tiempo_total_q7_pipe),\n",
    "    #('tiempo_total_q8_pipe', tiempo_total_q8_pipe),\n",
    "    #('tiempo_total_q9_pipe', tiempo_total_q8_pipe),\n",
    "    #('tiempo_total_q10_pipe', tiempo_total_q10_pipe)\n",
    "    \n",
    "])\n",
    "\n",
    "feature_processing = Pipeline([\n",
    "    #('index_matcher', IndexMatcher()),\n",
    "    ('feats', feats),\n",
    "    #('lr', LogisticRegression(solver='sag'))\n",
    "    #('column_purge', SelectKBest()),\n",
    "    ('xgb', XGBRegressor(objective='binary:logistic', booster='dart', learning_rate=2.0))\n",
    "])\n",
    "\n",
    "feature_processing.fit(X_train, y_train.label)"
   ]
  },
  {
   "cell_type": "markdown",
   "metadata": {},
   "source": [
    "### Grid search"
   ]
  },
  {
   "cell_type": "code",
   "execution_count": 93,
   "metadata": {},
   "outputs": [],
   "source": [
    "parameters = {}\n",
    "\n",
    "## Parámetros XGBRegressor ##\n",
    "\n",
    "#parameters['xgb__colsample_bytree'] = [1,0]\n",
    "#parameters['xgb__min_child_weight'] = [1.0,1.2]\n",
    "#parameters['xgb__max_depth'] = [3,4,6]\n",
    "#parameters['xgb__n_estimators'] = [100,500,1000]\n",
    "\n",
    "#------- Los de Tati -------#\n",
    "\n",
    "parameters['xgb__objective'] = ['binary:logistic']\n",
    "parameters['xgb__booster'] = ['dart']\n",
    "parameters['xgb__learning_rate'] = [2.0]\n",
    "\n",
    "#---------------------------#\n",
    "\n",
    "## Parámetros SelectKBest ##\n",
    "\n",
    "parameters['column_purge__k'] = [3,5,10,32] # Total: 32"
   ]
  },
  {
   "cell_type": "code",
   "execution_count": 94,
   "metadata": {},
   "outputs": [
    {
     "data": {
      "text/plain": [
       "RangeIndex(start=0, stop=785163, step=1)"
      ]
     },
     "execution_count": 94,
     "metadata": {},
     "output_type": "execute_result"
    }
   ],
   "source": [
    "X_train.index"
   ]
  },
  {
   "cell_type": "code",
   "execution_count": 95,
   "metadata": {},
   "outputs": [
    {
     "data": {
      "text/plain": [
       "RangeIndex(start=0, stop=785163, step=1)"
      ]
     },
     "execution_count": 95,
     "metadata": {},
     "output_type": "execute_result"
    }
   ],
   "source": [
    "y_train.index"
   ]
  },
  {
   "cell_type": "code",
   "execution_count": 96,
   "metadata": {},
   "outputs": [
    {
     "name": "stdout",
     "output_type": "stream",
     "text": [
      "<class 'pandas.core.frame.DataFrame'>\n",
      "RangeIndex: 785163 entries, 0 to 785162\n",
      "Data columns (total 48 columns):\n",
      "timestamp                   785163 non-null object\n",
      "event                       785163 non-null object\n",
      "person                      785163 non-null object\n",
      "url                         63491 non-null object\n",
      "sku                         445755 non-null float64\n",
      "model                       446046 non-null object\n",
      "condition                   445755 non-null object\n",
      "storage                     785163 non-null float64\n",
      "color                       445755 non-null object\n",
      "skus                        167163 non-null object\n",
      "search_term                 37400 non-null object\n",
      "staticpage                  3832 non-null object\n",
      "campaign_source             63532 non-null object\n",
      "search_engine               35379 non-null object\n",
      "channel                     68601 non-null object\n",
      "new_vs_returning            68601 non-null object\n",
      "city                        68601 non-null object\n",
      "region                      68601 non-null object\n",
      "country                     68601 non-null object\n",
      "device_type                 68601 non-null object\n",
      "operating_system_version    68601 non-null object\n",
      "browser_version             68601 non-null object\n",
      "mes                         785163 non-null int64\n",
      "dia                         785163 non-null int64\n",
      "q1                          785163 non-null bool\n",
      "q2                          785163 non-null bool\n",
      "q3                          785163 non-null bool\n",
      "q4                          785163 non-null bool\n",
      "q5                          785163 non-null bool\n",
      "q6                          785163 non-null bool\n",
      "q7                          785163 non-null bool\n",
      "q8                          785163 non-null bool\n",
      "q9                          785163 non-null bool\n",
      "q10                         785163 non-null bool\n",
      "support_p_todos_sus_ev      785163 non-null float64\n",
      "support_con_peso            785163 non-null float64\n",
      "support_ind                 785163 non-null float64\n",
      "year                        785163 non-null int64\n",
      "month_sin                   785163 non-null float64\n",
      "month_cos                   785163 non-null float64\n",
      "day_sin                     785163 non-null float64\n",
      "day_cos                     785163 non-null float64\n",
      "weekday_sin                 785163 non-null float64\n",
      "weekday_cos                 785163 non-null float64\n",
      "hour_sin                    785163 non-null float64\n",
      "hour_cos                    785163 non-null float64\n",
      "screen_width                785163 non-null object\n",
      "screen_height               785163 non-null object\n",
      "dtypes: bool(10), float64(13), int64(3), object(22)\n",
      "memory usage: 235.1+ MB\n"
     ]
    }
   ],
   "source": [
    "X_train.info()"
   ]
  },
  {
   "cell_type": "code",
   "execution_count": 97,
   "metadata": {},
   "outputs": [],
   "source": [
    "#grid_cv = GridSearchCV(feature_processing, param_grid=parameters,scoring = 'neg_mean_absolute_error', verbose=1, error_score='raise')\n",
    "#grid_cv.fit(X_train,y_train)"
   ]
  },
  {
   "cell_type": "code",
   "execution_count": 98,
   "metadata": {},
   "outputs": [],
   "source": [
    "#print('Best score and parameter combination: ')\n",
    "#print(grid.best_score_)    \n",
    "#print(grid.best_params_)    \n",
    "\n",
    "#preds = grid_cv.predict(X_test)\n",
    "\n",
    "#print('On test set: ' + str(roc_auc_score(y_test,preds)))"
   ]
  },
  {
   "cell_type": "markdown",
   "metadata": {},
   "source": [
    "## Predicciones!\n",
    "---"
   ]
  },
  {
   "cell_type": "markdown",
   "metadata": {},
   "source": [
    "### Predicción para train con test"
   ]
  },
  {
   "cell_type": "code",
   "execution_count": 99,
   "metadata": {},
   "outputs": [],
   "source": [
    "preds = feature_processing.predict(X_test)"
   ]
  },
  {
   "cell_type": "markdown",
   "metadata": {},
   "source": [
    "### Precisión del test"
   ]
  },
  {
   "cell_type": "code",
   "execution_count": 100,
   "metadata": {},
   "outputs": [
    {
     "data": {
      "text/plain": [
       "0.9999465000429922"
      ]
     },
     "execution_count": 100,
     "metadata": {},
     "output_type": "execute_result"
    }
   ],
   "source": [
    "roc_auc_score(y_test,preds)"
   ]
  },
  {
   "cell_type": "markdown",
   "metadata": {},
   "source": [
    "### Entrenamiento con train solo"
   ]
  },
  {
   "cell_type": "code",
   "execution_count": 101,
   "metadata": {},
   "outputs": [],
   "source": [
    "#preds = feature_processing.predict_proba(train_df)"
   ]
  },
  {
   "cell_type": "markdown",
   "metadata": {},
   "source": [
    "### Predicción posta :)"
   ]
  },
  {
   "cell_type": "code",
   "execution_count": 102,
   "metadata": {},
   "outputs": [],
   "source": [
    "to_predict = to_predict.reset_index().drop(columns='index')"
   ]
  },
  {
   "cell_type": "code",
   "execution_count": 103,
   "metadata": {},
   "outputs": [
    {
     "data": {
      "text/plain": [
       "RangeIndex(start=0, stop=1169795, step=1)"
      ]
     },
     "execution_count": 103,
     "metadata": {},
     "output_type": "execute_result"
    }
   ],
   "source": [
    "to_predict.index"
   ]
  },
  {
   "cell_type": "code",
   "execution_count": 104,
   "metadata": {},
   "outputs": [
    {
     "ename": "MemoryError",
     "evalue": "",
     "output_type": "error",
     "traceback": [
      "\u001b[0;31m---------------------------------------------------------------------------\u001b[0m",
      "\u001b[0;31mMemoryError\u001b[0m                               Traceback (most recent call last)",
      "\u001b[0;32m<ipython-input-104-4e3d5a368f55>\u001b[0m in \u001b[0;36m<module>\u001b[0;34m()\u001b[0m\n\u001b[0;32m----> 1\u001b[0;31m \u001b[0mpreds_posta\u001b[0m \u001b[0;34m=\u001b[0m \u001b[0mfeature_processing\u001b[0m\u001b[0;34m.\u001b[0m\u001b[0mpredict\u001b[0m\u001b[0;34m(\u001b[0m\u001b[0mto_predict\u001b[0m\u001b[0;34m)\u001b[0m\u001b[0;34m\u001b[0m\u001b[0m\n\u001b[0m",
      "\u001b[0;32m~/.local/lib/python3.5/site-packages/sklearn/utils/metaestimators.py\u001b[0m in \u001b[0;36m<lambda>\u001b[0;34m(*args, **kwargs)\u001b[0m\n\u001b[1;32m    116\u001b[0m \u001b[0;34m\u001b[0m\u001b[0m\n\u001b[1;32m    117\u001b[0m         \u001b[0;31m# lambda, but not partial, allows help() to work with update_wrapper\u001b[0m\u001b[0;34m\u001b[0m\u001b[0;34m\u001b[0m\u001b[0m\n\u001b[0;32m--> 118\u001b[0;31m         \u001b[0mout\u001b[0m \u001b[0;34m=\u001b[0m \u001b[0;32mlambda\u001b[0m \u001b[0;34m*\u001b[0m\u001b[0margs\u001b[0m\u001b[0;34m,\u001b[0m \u001b[0;34m**\u001b[0m\u001b[0mkwargs\u001b[0m\u001b[0;34m:\u001b[0m \u001b[0mself\u001b[0m\u001b[0;34m.\u001b[0m\u001b[0mfn\u001b[0m\u001b[0;34m(\u001b[0m\u001b[0mobj\u001b[0m\u001b[0;34m,\u001b[0m \u001b[0;34m*\u001b[0m\u001b[0margs\u001b[0m\u001b[0;34m,\u001b[0m \u001b[0;34m**\u001b[0m\u001b[0mkwargs\u001b[0m\u001b[0;34m)\u001b[0m\u001b[0;34m\u001b[0m\u001b[0m\n\u001b[0m\u001b[1;32m    119\u001b[0m         \u001b[0;31m# update the docstring of the returned function\u001b[0m\u001b[0;34m\u001b[0m\u001b[0;34m\u001b[0m\u001b[0m\n\u001b[1;32m    120\u001b[0m         \u001b[0mupdate_wrapper\u001b[0m\u001b[0;34m(\u001b[0m\u001b[0mout\u001b[0m\u001b[0;34m,\u001b[0m \u001b[0mself\u001b[0m\u001b[0;34m.\u001b[0m\u001b[0mfn\u001b[0m\u001b[0;34m)\u001b[0m\u001b[0;34m\u001b[0m\u001b[0m\n",
      "\u001b[0;32m~/.local/lib/python3.5/site-packages/sklearn/pipeline.py\u001b[0m in \u001b[0;36mpredict\u001b[0;34m(self, X, **predict_params)\u001b[0m\n\u001b[1;32m    330\u001b[0m             \u001b[0;32mif\u001b[0m \u001b[0mtransform\u001b[0m \u001b[0;32mis\u001b[0m \u001b[0;32mnot\u001b[0m \u001b[0;32mNone\u001b[0m\u001b[0;34m:\u001b[0m\u001b[0;34m\u001b[0m\u001b[0m\n\u001b[1;32m    331\u001b[0m                 \u001b[0mXt\u001b[0m \u001b[0;34m=\u001b[0m \u001b[0mtransform\u001b[0m\u001b[0;34m.\u001b[0m\u001b[0mtransform\u001b[0m\u001b[0;34m(\u001b[0m\u001b[0mXt\u001b[0m\u001b[0;34m)\u001b[0m\u001b[0;34m\u001b[0m\u001b[0m\n\u001b[0;32m--> 332\u001b[0;31m         \u001b[0;32mreturn\u001b[0m \u001b[0mself\u001b[0m\u001b[0;34m.\u001b[0m\u001b[0msteps\u001b[0m\u001b[0;34m[\u001b[0m\u001b[0;34m-\u001b[0m\u001b[0;36m1\u001b[0m\u001b[0;34m]\u001b[0m\u001b[0;34m[\u001b[0m\u001b[0;34m-\u001b[0m\u001b[0;36m1\u001b[0m\u001b[0;34m]\u001b[0m\u001b[0;34m.\u001b[0m\u001b[0mpredict\u001b[0m\u001b[0;34m(\u001b[0m\u001b[0mXt\u001b[0m\u001b[0;34m,\u001b[0m \u001b[0;34m**\u001b[0m\u001b[0mpredict_params\u001b[0m\u001b[0;34m)\u001b[0m\u001b[0;34m\u001b[0m\u001b[0m\n\u001b[0m\u001b[1;32m    333\u001b[0m \u001b[0;34m\u001b[0m\u001b[0m\n\u001b[1;32m    334\u001b[0m     \u001b[0;34m@\u001b[0m\u001b[0mif_delegate_has_method\u001b[0m\u001b[0;34m(\u001b[0m\u001b[0mdelegate\u001b[0m\u001b[0;34m=\u001b[0m\u001b[0;34m'_final_estimator'\u001b[0m\u001b[0;34m)\u001b[0m\u001b[0;34m\u001b[0m\u001b[0m\n",
      "\u001b[0;32m~/.local/lib/python3.5/site-packages/xgboost/sklearn.py\u001b[0m in \u001b[0;36mpredict\u001b[0;34m(self, data, output_margin, ntree_limit, validate_features)\u001b[0m\n\u001b[1;32m    423\u001b[0m         \"\"\"\n\u001b[1;32m    424\u001b[0m         \u001b[0;31m# pylint: disable=missing-docstring,invalid-name\u001b[0m\u001b[0;34m\u001b[0m\u001b[0;34m\u001b[0m\u001b[0m\n\u001b[0;32m--> 425\u001b[0;31m         \u001b[0mtest_dmatrix\u001b[0m \u001b[0;34m=\u001b[0m \u001b[0mDMatrix\u001b[0m\u001b[0;34m(\u001b[0m\u001b[0mdata\u001b[0m\u001b[0;34m,\u001b[0m \u001b[0mmissing\u001b[0m\u001b[0;34m=\u001b[0m\u001b[0mself\u001b[0m\u001b[0;34m.\u001b[0m\u001b[0mmissing\u001b[0m\u001b[0;34m,\u001b[0m \u001b[0mnthread\u001b[0m\u001b[0;34m=\u001b[0m\u001b[0mself\u001b[0m\u001b[0;34m.\u001b[0m\u001b[0mn_jobs\u001b[0m\u001b[0;34m)\u001b[0m\u001b[0;34m\u001b[0m\u001b[0m\n\u001b[0m\u001b[1;32m    426\u001b[0m         \u001b[0;31m# get ntree_limit to use - if none specified, default to\u001b[0m\u001b[0;34m\u001b[0m\u001b[0;34m\u001b[0m\u001b[0m\n\u001b[1;32m    427\u001b[0m         \u001b[0;31m# best_ntree_limit if defined, otherwise 0.\u001b[0m\u001b[0;34m\u001b[0m\u001b[0;34m\u001b[0m\u001b[0m\n",
      "\u001b[0;32m~/.local/lib/python3.5/site-packages/xgboost/core.py\u001b[0m in \u001b[0;36m__init__\u001b[0;34m(self, data, label, missing, weight, silent, feature_names, feature_types, nthread)\u001b[0m\n\u001b[1;32m    376\u001b[0m                                                      ctypes.byref(self.handle)))\n\u001b[1;32m    377\u001b[0m         \u001b[0;32melif\u001b[0m \u001b[0misinstance\u001b[0m\u001b[0;34m(\u001b[0m\u001b[0mdata\u001b[0m\u001b[0;34m,\u001b[0m \u001b[0mscipy\u001b[0m\u001b[0;34m.\u001b[0m\u001b[0msparse\u001b[0m\u001b[0;34m.\u001b[0m\u001b[0mcsr_matrix\u001b[0m\u001b[0;34m)\u001b[0m\u001b[0;34m:\u001b[0m\u001b[0;34m\u001b[0m\u001b[0m\n\u001b[0;32m--> 378\u001b[0;31m             \u001b[0mself\u001b[0m\u001b[0;34m.\u001b[0m\u001b[0m_init_from_csr\u001b[0m\u001b[0;34m(\u001b[0m\u001b[0mdata\u001b[0m\u001b[0;34m)\u001b[0m\u001b[0;34m\u001b[0m\u001b[0m\n\u001b[0m\u001b[1;32m    379\u001b[0m         \u001b[0;32melif\u001b[0m \u001b[0misinstance\u001b[0m\u001b[0;34m(\u001b[0m\u001b[0mdata\u001b[0m\u001b[0;34m,\u001b[0m \u001b[0mscipy\u001b[0m\u001b[0;34m.\u001b[0m\u001b[0msparse\u001b[0m\u001b[0;34m.\u001b[0m\u001b[0mcsc_matrix\u001b[0m\u001b[0;34m)\u001b[0m\u001b[0;34m:\u001b[0m\u001b[0;34m\u001b[0m\u001b[0m\n\u001b[1;32m    380\u001b[0m             \u001b[0mself\u001b[0m\u001b[0;34m.\u001b[0m\u001b[0m_init_from_csc\u001b[0m\u001b[0;34m(\u001b[0m\u001b[0mdata\u001b[0m\u001b[0;34m)\u001b[0m\u001b[0;34m\u001b[0m\u001b[0m\n",
      "\u001b[0;32m~/.local/lib/python3.5/site-packages/xgboost/core.py\u001b[0m in \u001b[0;36m_init_from_csr\u001b[0;34m(self, csr)\u001b[0m\n\u001b[1;32m    414\u001b[0m         _check_call(_LIB.XGDMatrixCreateFromCSREx(c_array(ctypes.c_size_t, csr.indptr),\n\u001b[1;32m    415\u001b[0m                                                   \u001b[0mc_array\u001b[0m\u001b[0;34m(\u001b[0m\u001b[0mctypes\u001b[0m\u001b[0;34m.\u001b[0m\u001b[0mc_uint\u001b[0m\u001b[0;34m,\u001b[0m \u001b[0mcsr\u001b[0m\u001b[0;34m.\u001b[0m\u001b[0mindices\u001b[0m\u001b[0;34m)\u001b[0m\u001b[0;34m,\u001b[0m\u001b[0;34m\u001b[0m\u001b[0m\n\u001b[0;32m--> 416\u001b[0;31m                                                   \u001b[0mc_array\u001b[0m\u001b[0;34m(\u001b[0m\u001b[0mctypes\u001b[0m\u001b[0;34m.\u001b[0m\u001b[0mc_float\u001b[0m\u001b[0;34m,\u001b[0m \u001b[0mcsr\u001b[0m\u001b[0;34m.\u001b[0m\u001b[0mdata\u001b[0m\u001b[0;34m)\u001b[0m\u001b[0;34m,\u001b[0m\u001b[0;34m\u001b[0m\u001b[0m\n\u001b[0m\u001b[1;32m    417\u001b[0m                                                   \u001b[0mctypes\u001b[0m\u001b[0;34m.\u001b[0m\u001b[0mc_size_t\u001b[0m\u001b[0;34m(\u001b[0m\u001b[0mlen\u001b[0m\u001b[0;34m(\u001b[0m\u001b[0mcsr\u001b[0m\u001b[0;34m.\u001b[0m\u001b[0mindptr\u001b[0m\u001b[0;34m)\u001b[0m\u001b[0;34m)\u001b[0m\u001b[0;34m,\u001b[0m\u001b[0;34m\u001b[0m\u001b[0m\n\u001b[1;32m    418\u001b[0m                                                   \u001b[0mctypes\u001b[0m\u001b[0;34m.\u001b[0m\u001b[0mc_size_t\u001b[0m\u001b[0;34m(\u001b[0m\u001b[0mlen\u001b[0m\u001b[0;34m(\u001b[0m\u001b[0mcsr\u001b[0m\u001b[0;34m.\u001b[0m\u001b[0mdata\u001b[0m\u001b[0;34m)\u001b[0m\u001b[0;34m)\u001b[0m\u001b[0;34m,\u001b[0m\u001b[0;34m\u001b[0m\u001b[0m\n",
      "\u001b[0;32m~/.local/lib/python3.5/site-packages/xgboost/core.py\u001b[0m in \u001b[0;36mc_array\u001b[0;34m(ctype, values)\u001b[0m\n\u001b[1;32m    204\u001b[0m     \u001b[0;32mif\u001b[0m \u001b[0misinstance\u001b[0m\u001b[0;34m(\u001b[0m\u001b[0mvalues\u001b[0m\u001b[0;34m,\u001b[0m \u001b[0mnp\u001b[0m\u001b[0;34m.\u001b[0m\u001b[0mndarray\u001b[0m\u001b[0;34m)\u001b[0m \u001b[0;32mand\u001b[0m \u001b[0mvalues\u001b[0m\u001b[0;34m.\u001b[0m\u001b[0mdtype\u001b[0m\u001b[0;34m.\u001b[0m\u001b[0mitemsize\u001b[0m \u001b[0;34m==\u001b[0m \u001b[0mctypes\u001b[0m\u001b[0;34m.\u001b[0m\u001b[0msizeof\u001b[0m\u001b[0;34m(\u001b[0m\u001b[0mctype\u001b[0m\u001b[0;34m)\u001b[0m\u001b[0;34m:\u001b[0m\u001b[0;34m\u001b[0m\u001b[0m\n\u001b[1;32m    205\u001b[0m         \u001b[0;32mreturn\u001b[0m \u001b[0;34m(\u001b[0m\u001b[0mctype\u001b[0m \u001b[0;34m*\u001b[0m \u001b[0mlen\u001b[0m\u001b[0;34m(\u001b[0m\u001b[0mvalues\u001b[0m\u001b[0;34m)\u001b[0m\u001b[0;34m)\u001b[0m\u001b[0;34m.\u001b[0m\u001b[0mfrom_buffer_copy\u001b[0m\u001b[0;34m(\u001b[0m\u001b[0mvalues\u001b[0m\u001b[0;34m)\u001b[0m\u001b[0;34m\u001b[0m\u001b[0m\n\u001b[0;32m--> 206\u001b[0;31m     \u001b[0;32mreturn\u001b[0m \u001b[0;34m(\u001b[0m\u001b[0mctype\u001b[0m \u001b[0;34m*\u001b[0m \u001b[0mlen\u001b[0m\u001b[0;34m(\u001b[0m\u001b[0mvalues\u001b[0m\u001b[0;34m)\u001b[0m\u001b[0;34m)\u001b[0m\u001b[0;34m(\u001b[0m\u001b[0;34m*\u001b[0m\u001b[0mvalues\u001b[0m\u001b[0;34m)\u001b[0m\u001b[0;34m\u001b[0m\u001b[0m\n\u001b[0m\u001b[1;32m    207\u001b[0m \u001b[0;34m\u001b[0m\u001b[0m\n\u001b[1;32m    208\u001b[0m \u001b[0;34m\u001b[0m\u001b[0m\n",
      "\u001b[0;31mMemoryError\u001b[0m: "
     ]
    }
   ],
   "source": [
    "preds_posta = feature_processing.predict(to_predict)"
   ]
  },
  {
   "cell_type": "code",
   "execution_count": null,
   "metadata": {},
   "outputs": [],
   "source": [
    "to_publish = pd.DataFrame()"
   ]
  },
  {
   "cell_type": "code",
   "execution_count": null,
   "metadata": {},
   "outputs": [],
   "source": [
    "to_publish['person'] = to_predict.person"
   ]
  },
  {
   "cell_type": "code",
   "execution_count": null,
   "metadata": {},
   "outputs": [],
   "source": [
    "to_publish['label'] = preds_posta"
   ]
  },
  {
   "cell_type": "code",
   "execution_count": null,
   "metadata": {},
   "outputs": [],
   "source": [
    "to_publish.groupby('person', as_index=False).mean().to_csv('predictions/26_11_xgb_te.csv', index=False)"
   ]
  },
  {
   "cell_type": "code",
   "execution_count": null,
   "metadata": {},
   "outputs": [],
   "source": []
  }
 ],
 "metadata": {
  "kernelspec": {
   "display_name": "Python 3",
   "language": "python",
   "name": "python3"
  },
  "language_info": {
   "codemirror_mode": {
    "name": "ipython",
    "version": 3
   },
   "file_extension": ".py",
   "mimetype": "text/x-python",
   "name": "python",
   "nbconvert_exporter": "python",
   "pygments_lexer": "ipython3",
   "version": "3.5.2"
  }
 },
 "nbformat": 4,
 "nbformat_minor": 2
}
