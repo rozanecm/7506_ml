{
 "cells": [
  {
   "cell_type": "markdown",
   "metadata": {},
   "source": [
    "### Dealing with imports..."
   ]
  },
  {
   "cell_type": "code",
   "execution_count": 1,
   "metadata": {},
   "outputs": [],
   "source": [
    "import pandas as pd\n",
    "import numpy as np\n",
    "from sklearn import preprocessing"
   ]
  },
  {
   "cell_type": "markdown",
   "metadata": {},
   "source": [
    "### Loading data..."
   ]
  },
  {
   "cell_type": "code",
   "execution_count": 2,
   "metadata": {},
   "outputs": [],
   "source": [
    "events_df = pd.read_csv('../data/events_up_to_01062018.csv', low_memory=False)\n",
    "labels_df = pd.read_csv('../data/labels_training_set.csv', low_memory=False)"
   ]
  },
  {
   "cell_type": "markdown",
   "metadata": {},
   "source": [
    "## Processing"
   ]
  },
  {
   "cell_type": "code",
   "execution_count": 3,
   "metadata": {},
   "outputs": [],
   "source": [
    "# first save original features to know which have been processed\n",
    "init_features = list(events_df.columns)"
   ]
  },
  {
   "cell_type": "markdown",
   "metadata": {},
   "source": [
    "### Dates (timestamp)"
   ]
  },
  {
   "cell_type": "code",
   "execution_count": 4,
   "metadata": {},
   "outputs": [],
   "source": [
    "# some date processing\n",
    "def date_proc(df):\n",
    "    df['timestamp'] = pd.to_datetime(df['timestamp'])\n",
    "    df['year'] = df['timestamp'].dt.year\n",
    "    df['month'] = df['timestamp'].dt.month\n",
    "    df['day'] = df['timestamp'].dt.day\n",
    "    df['weekday'] = df['timestamp'].dt.day_name()\n",
    "    df['hour'] = df['timestamp'].dt.hour\n",
    "    \n",
    "date_proc(events_df)"
   ]
  },
  {
   "cell_type": "markdown",
   "metadata": {},
   "source": [
    "Primero hacemos un label encoding con el weekday, luego aplicamos una transfrmacion que contemple la naturaleza ciclica de la semana. Esto ultimo lo aplicaremos tambien al resto de los features ciclicos (como se explica, por ejemplo, aca: https://ianlondon.github.io/blog/encoding-cyclical-features-24hour-time/)"
   ]
  },
  {
   "cell_type": "code",
   "execution_count": 5,
   "metadata": {},
   "outputs": [],
   "source": [
    "weekday_le = preprocessing.LabelEncoder()\n",
    "weekday_le.fit(events_df.weekday)\n",
    "\n",
    "events_df.weekday = weekday_le.transform(events_df.weekday)"
   ]
  },
  {
   "cell_type": "code",
   "execution_count": 6,
   "metadata": {},
   "outputs": [],
   "source": [
    "def month_to_cyclic(df):\n",
    "    df['month_sin'] = df['month'].apply(lambda x: np.sin(2*np.pi*x/12))\n",
    "    df['month_cos'] = df['month'].apply(lambda x: np.cos(2*np.pi*x/12))\n",
    "    df.drop('month', axis=1, inplace=True)\n",
    "    \n",
    "def day_to_cyclic(df):\n",
    "    df['day_sin'] = df['day'].apply(lambda x: np.sin(2*np.pi*x/31))\n",
    "    df['day_cos'] = df['day'].apply(lambda x: np.cos(2*np.pi*x/31))\n",
    "    df.drop('day', axis=1, inplace=True)\n",
    "\n",
    "def weekday_to_cyclic(df):\n",
    "    df['weekday_sin'] = df['weekday'].apply(lambda x: np.sin(2*np.pi*x/7))\n",
    "    df['weekday_cos'] = df['weekday'].apply(lambda x: np.cos(2*np.pi*x/7))\n",
    "    df.drop('weekday', axis=1, inplace=True)\n",
    "\n",
    "def hour_to_cyclic(df):\n",
    "    df['hour_sin'] = df['hour'].apply(lambda x: np.sin(2*np.pi*x/24))\n",
    "    df['hour_cos'] = df['hour'].apply(lambda x: np.cos(2*np.pi*x/24))\n",
    "    df.drop('hour', axis=1, inplace=True)"
   ]
  },
  {
   "cell_type": "code",
   "execution_count": 7,
   "metadata": {},
   "outputs": [],
   "source": [
    "month_to_cyclic(events_df)\n",
    "day_to_cyclic(events_df)\n",
    "weekday_to_cyclic(events_df)\n",
    "hour_to_cyclic(events_df)"
   ]
  },
  {
   "cell_type": "code",
   "execution_count": 8,
   "metadata": {},
   "outputs": [],
   "source": [
    "events_df.drop('timestamp', axis=1, inplace=True)"
   ]
  },
  {
   "cell_type": "code",
   "execution_count": 9,
   "metadata": {},
   "outputs": [],
   "source": [
    "init_features.remove('timestamp')"
   ]
  },
  {
   "cell_type": "code",
   "execution_count": 10,
   "metadata": {},
   "outputs": [
    {
     "data": {
      "text/plain": [
       "38829"
      ]
     },
     "execution_count": 10,
     "metadata": {},
     "output_type": "execute_result"
    }
   ],
   "source": [
    "events_df.person.nunique()"
   ]
  },
  {
   "cell_type": "markdown",
   "metadata": {},
   "source": [
    "## screen_resolution"
   ]
  },
  {
   "cell_type": "code",
   "execution_count": 11,
   "metadata": {},
   "outputs": [],
   "source": [
    "def get_screen_width(x):\n",
    "    if x != \"\":\n",
    "        return int(x.split(\"x\")[0])\n",
    "    else:\n",
    "        return 0\n",
    "    \n",
    "def get_screen_height(x):\n",
    "    if x != \"\":\n",
    "        return int(x.split(\"x\")[1])\n",
    "    else:\n",
    "        return 0\n",
    "\n",
    "def process_screen_res(df):\n",
    "    df['screen_resolution'].fillna(\"\", inplace=True)\n",
    "    df['screen_width'] = df['screen_resolution'].apply(lambda x: get_screen_width(x))\n",
    "    df['screen_height'] = df['screen_resolution'].apply(lambda x: get_screen_height(x))\n",
    "    df.drop('screen_resolution', axis=1, inplace=True)"
   ]
  },
  {
   "cell_type": "code",
   "execution_count": 12,
   "metadata": {},
   "outputs": [],
   "source": [
    "process_screen_res(events_df)"
   ]
  },
  {
   "cell_type": "code",
   "execution_count": 13,
   "metadata": {},
   "outputs": [],
   "source": [
    "init_features.remove('screen_resolution')"
   ]
  },
  {
   "cell_type": "markdown",
   "metadata": {},
   "source": [
    "## storage"
   ]
  },
  {
   "cell_type": "code",
   "execution_count": 14,
   "metadata": {},
   "outputs": [],
   "source": [
    "def process_storage_string(x):\n",
    "    if pd.isna(x):\n",
    "        return 0\n",
    "    s = x.split(\"GB\")\n",
    "    if len(s) == 2:\n",
    "        # case data in GB\n",
    "        return int(s[0])\n",
    "    else:\n",
    "        # case data in MB\n",
    "        return int(x.split(\"MB\")[0])/1024\n",
    "\n",
    "def storage_process(df):\n",
    "    df.storage = df.storage.apply(lambda x: process_storage_string(x))"
   ]
  },
  {
   "cell_type": "code",
   "execution_count": 15,
   "metadata": {},
   "outputs": [],
   "source": [
    "storage_process(events_df)"
   ]
  },
  {
   "cell_type": "code",
   "execution_count": 16,
   "metadata": {},
   "outputs": [],
   "source": [
    "init_features.remove('storage')"
   ]
  },
  {
   "cell_type": "markdown",
   "metadata": {},
   "source": [
    "## Browser"
   ]
  },
  {
   "cell_type": "code",
   "execution_count": 17,
   "metadata": {},
   "outputs": [
    {
     "data": {
      "text/plain": [
       "{'Android',\n",
       " 'BingPreview',\n",
       " 'BlackBerry',\n",
       " 'Chrome',\n",
       " 'Chromium',\n",
       " 'Edge',\n",
       " 'Facebook',\n",
       " 'Firefox',\n",
       " 'IE',\n",
       " 'K-Meleon',\n",
       " 'Maxthon',\n",
       " 'Mobile',\n",
       " 'Opera',\n",
       " 'Other',\n",
       " 'Pinterest',\n",
       " 'Puffin',\n",
       " 'Safari',\n",
       " 'Samsung',\n",
       " 'UC',\n",
       " 'Vivaldi',\n",
       " 'WebKit',\n",
       " 'Yandex'}"
      ]
     },
     "execution_count": 17,
     "metadata": {},
     "output_type": "execute_result"
    }
   ],
   "source": [
    "# veamos valores unicos si cortamos el primer string nomas\n",
    "new_list=set()\n",
    "for e in list(events_df.browser_version.unique()):\n",
    "    if isinstance(e, str):\n",
    "        new_list.add(e.split()[0])\n",
    "        \n",
    "new_list"
   ]
  },
  {
   "cell_type": "markdown",
   "metadata": {},
   "source": [
    "Que seran...?\n",
    "* Android (no es un browser en si)\n",
    "* K-Meleon\n",
    "* Maxthon\n",
    "* Mobile\n",
    "* Pinterest\n",
    "* Puffin\n",
    "* Samsung\n",
    "* UC\n",
    "* WebKit\n",
    "* Yandex\n",
    "\n",
    "Se confirma que son browsers los siguientes:\n",
    "* Android (no es un browser en si)\n",
    "* K-Meleon (http://kmeleonbrowser.org/)\n",
    "* Maxthon (http://www.maxthon.com/)\n",
    "* Mobile\n",
    "* Pinterest\n",
    "* Puffin (Puffin Browser is a web browser released by CloudMosa for mobile operating systems Android, iOS, Windows and Android TV.)\n",
    "* Samsung (Samsung Internet for Android is a mobile web browser for smartphones and tablets developed by Samsung. It is based on the open-source Chromium project. It is pre-installed on Samsung Galaxy devices.\n",
    "* UC (UC Browser is a web browser developed by the Chinese mobile Internet company UCWeb, which is in turn owned by the Alibaba Group. As of August 2018 it is the third most popular mobile browser in the world by market share, after Google Chrome and Safari.)\n",
    "* WebKit (https://webkit.org/)\n",
    "* Yandex: un browser (https://browser.yandex.com/)\n",
    "\n",
    "Nos queda revisar los siguientes:\n",
    "* Android (no es un browser en si)\n",
    "* Mobile\n",
    "* Pinterest"
   ]
  },
  {
   "cell_type": "code",
   "execution_count": 18,
   "metadata": {},
   "outputs": [
    {
     "name": "stdout",
     "output_type": "stream",
     "text": [
      "Mobile Safari 11\n",
      "Mobile Safari 9\n",
      "Android 5.1\n",
      "Mobile Safari 10\n",
      "Android 4.4\n",
      "Android 4.1\n",
      "Android 4.3\n",
      "Mobile Safari 8\n",
      "Android 2.3\n",
      "Mobile Safari 7\n",
      "Android 4.0\n",
      "Android 4.2\n",
      "Mobile Safari UI/WKWebView 10.2\n",
      "Mobile Safari UI/WKWebView 10.3\n",
      "Mobile Safari 10.3\n",
      "Mobile Safari 11.2\n",
      "Mobile Safari UI/WKWebView 7.1\n",
      "Mobile Safari 7.1\n",
      "Mobile Safari 9.3\n",
      "Mobile Safari UI/WKWebView 11.2\n",
      "Mobile Safari 6\n",
      "Pinterest\n",
      "Mobile Safari 9.2\n",
      "Mobile Safari 4.0\n",
      "Mobile Safari UI/WKWebView 9.3\n",
      "Mobile Safari 11.1\n",
      "Mobile Safari 10.1\n",
      "Android 7\n",
      "Mobile Safari 11.0\n",
      "Mobile Safari 7.0\n",
      "Android 3.2\n",
      "Mobile Safari UI/WKWebView 11.3\n",
      "Mobile Safari 5.1\n"
     ]
    }
   ],
   "source": [
    "for e in list(events_df.browser_version.unique()):\n",
    "    if isinstance(e,str):\n",
    "        if e.lower().split()[0] in ['android','mobile','pinterest']:\n",
    "            print(e)"
   ]
  },
  {
   "cell_type": "markdown",
   "metadata": {},
   "source": [
    "***\n",
    "O sea que todos los _Mobile_ son `Safari`, todos los _Android_ son meramente eso, Android, y _Pinterest_ aparentemente es un browser tambien (?.\n",
    "\n",
    "Conclusion: puede quedarse solamente el pirmer string del campo para representar el browser, ya que a nadie le interesa la version del mismo.\n",
    "***"
   ]
  },
  {
   "cell_type": "code",
   "execution_count": null,
   "metadata": {},
   "outputs": [],
   "source": [
    "def proc_browser(x):\n",
    "    if isinstance(x, str):\n",
    "        return x.lower().split()[0]"
   ]
  },
  {
   "cell_type": "code",
   "execution_count": null,
   "metadata": {},
   "outputs": [],
   "source": [
    "events_df.browser_version = events_df.browser_version.apply(lambda x: proc_browser(x) if isinstance(x,str) else x)"
   ]
  },
  {
   "cell_type": "markdown",
   "metadata": {},
   "source": [
    "## operating_system_version\n",
    "Se procede analogamente a browser_version"
   ]
  },
  {
   "cell_type": "code",
   "execution_count": null,
   "metadata": {},
   "outputs": [
    {
     "data": {
      "text/plain": [
       "array([nan, 'Android 5.0.2', 'Ubuntu ', 'Android 7', 'Android 6.0.1',\n",
       "       'Windows 7 ', 'Windows 10 ', 'iOS 11.0.3', 'Android 6',\n",
       "       'Android 4.4.4', 'Android 7.1.1', 'Mac OS X 10.12.6',\n",
       "       'Android 5.1', 'Windows 8.1 ', 'Android 5.1.1', 'Android 8.1',\n",
       "       'Windows 8 ', 'iOS 9.3.5', 'Android 4.2.2', 'Android 5',\n",
       "       'iOS 11.3', 'Android 4.1.2', 'Android 4.4.2', 'Android 5.0.1',\n",
       "       'iOS 11.1.1', 'Windows XP ', 'iOS 10.3.3', 'Windows Phone 8.1',\n",
       "       'Chrome OS 10452.85', 'Android 8', 'Mac OS X 10.10.4',\n",
       "       'iOS 11.2.6', 'Android ', 'Android 4.3', 'Mac OS X 10.11.6',\n",
       "       'Windows Vista ', 'iOS 11.1.2', 'Fedora ', 'Windows Phone 10',\n",
       "       'Linux ', 'Mac OS X 10.13.4', 'Android 7.1.2', 'iOS 8.1.3',\n",
       "       'iOS 11.2.1', 'Android 4.0.3', 'FreeBSD ', 'iOS 11.2.2',\n",
       "       'Android 2.3.6', 'iOS 10.2.1', 'iOS 7.1.2', 'Android 4.0.4',\n",
       "       'Mac OS X 10.7.5', 'Chrome OS 9901.77', 'Chrome OS 10323.67',\n",
       "       'Chrome OS 10452.96', 'Other ', 'iOS 8.1.1', 'iOS 11.0.2',\n",
       "       'iOS 11.2.5', 'iOS 10.3.1', 'Mac OS X 10.10.5', 'Mac OS X 10.11.5',\n",
       "       'iOS 10.3.2', 'iOS 11.2', 'Android 3.2', 'Mac OS X 10.13.3',\n",
       "       'Mac OS X 10.13.1', 'Mac OS X 10.12.2', 'Android 4.4.3',\n",
       "       'BlackBerry OS 10.3.2', 'Android 6.1', 'iOS 11.1',\n",
       "       'Windows Phone 8', 'iOS 10.2', 'iOS 11.4', 'BlackBerry OS 10.3.3',\n",
       "       'Android 4.1.1', 'Chrome OS 10452.74', 'Mac OS X 10.12',\n",
       "       'Android 4.4', 'iOS 10.1', 'Mac OS X 10.13.2', 'iOS 10.1.1',\n",
       "       'Mac OS X 10.12.5', 'Mac OS X 10.8.5', 'iOS 8.2', 'Mac OS X 10.10',\n",
       "       'iOS 10.0.2', 'iOS 9.1', 'iOS 6.1.6', 'Mac OS X 10.9', 'iOS 9.2.1',\n",
       "       'Mac OS X 10.9.5', 'Mac OS X 10.11', 'Mac OS X 10.6.8',\n",
       "       'iOS 7.1.1', 'iOS 3.2', 'Windows RT ', 'Tizen 2.3', 'iOS 9.3.2',\n",
       "       'Mac OS X 10.13', 'Mac OS X 10.11.4', 'Mac OS X 10.7', 'iOS 8.4.1',\n",
       "       'iOS 11', 'iOS 11.0.1', 'Chrome OS 10032.86', 'Android 7.0.1',\n",
       "       'iOS 5.0.1', 'iOS 7.0.3', 'Mac OS X 10.12.4', 'Android 7.1',\n",
       "       'iOS 9.2', 'Android 3.2.2', 'Mac OS X 10.13.5', 'iOS 8.1',\n",
       "       'Symbian OS ', 'Chrome OS 10176.76', 'Chrome OS 10176.66',\n",
       "       'Chrome OS 10323.62', 'iOS 6.1.2', 'Tizen 3', 'iOS 10.3', 'iOS 5',\n",
       "       'Tizen 2.4', 'Android 4', 'Mac OS X 10.10.1', 'Chrome OS 10032.75',\n",
       "       'iOS 9.3.4', 'BlackBerry OS ', 'Android 10.0.2', 'iOS 8.3'],\n",
       "      dtype=object)"
      ]
     },
     "execution_count": 21,
     "metadata": {},
     "output_type": "execute_result"
    }
   ],
   "source": [
    "events_df.operating_system_version.unique()"
   ]
  },
  {
   "cell_type": "code",
   "execution_count": null,
   "metadata": {},
   "outputs": [
    {
     "data": {
      "text/plain": [
       "{'Android',\n",
       " 'BlackBerry',\n",
       " 'Chrome',\n",
       " 'Fedora',\n",
       " 'FreeBSD',\n",
       " 'Linux',\n",
       " 'Mac',\n",
       " 'Other',\n",
       " 'Symbian',\n",
       " 'Tizen',\n",
       " 'Ubuntu',\n",
       " 'Windows',\n",
       " 'iOS'}"
      ]
     },
     "execution_count": 22,
     "metadata": {},
     "output_type": "execute_result"
    }
   ],
   "source": [
    "# veamos valores unicos si cortamos el primer string nomas\n",
    "new_list=set()\n",
    "for e in list(events_df.operating_system_version.unique()):\n",
    "    if isinstance(e, str):   # filtro los nan\n",
    "        new_list.add(e.split()[0])\n",
    "        \n",
    "new_list"
   ]
  },
  {
   "cell_type": "code",
   "execution_count": null,
   "metadata": {},
   "outputs": [],
   "source": [
    "def proc_os(x):\n",
    "    if isinstance(x, str):\n",
    "        return x.lower().split()[0]"
   ]
  },
  {
   "cell_type": "code",
   "execution_count": null,
   "metadata": {},
   "outputs": [],
   "source": [
    "events_df.operating_system_version = events_df.operating_system_version.apply(lambda x: proc_os(x) if isinstance(x,str) else x)"
   ]
  },
  {
   "cell_type": "markdown",
   "metadata": {},
   "source": [
    "## device_type\n",
    "Se procede analogamente a browser_version"
   ]
  },
  {
   "cell_type": "code",
   "execution_count": null,
   "metadata": {},
   "outputs": [
    {
     "data": {
      "text/plain": [
       "array([nan, 'Smartphone', 'Computer', 'Tablet', 'Unknown'], dtype=object)"
      ]
     },
     "execution_count": 25,
     "metadata": {},
     "output_type": "execute_result"
    }
   ],
   "source": [
    "events_df.device_type.unique()"
   ]
  },
  {
   "cell_type": "markdown",
   "metadata": {},
   "source": [
    "Como son campos de una sola palabra, no tiene sentido hacer lo que se hizo con los anteriores casos."
   ]
  },
  {
   "cell_type": "markdown",
   "metadata": {},
   "source": [
    "***"
   ]
  },
  {
   "cell_type": "markdown",
   "metadata": {},
   "source": [
    "## Limited value categorical features\n",
    "Lets process features which receive a limited number of values."
   ]
  },
  {
   "cell_type": "markdown",
   "metadata": {},
   "source": [
    "### event"
   ]
  },
  {
   "cell_type": "code",
   "execution_count": null,
   "metadata": {},
   "outputs": [],
   "source": [
    "events_df = events_df.merge(events_df.groupby('person')['event'].value_counts(normalize=True).unstack(fill_value=0).add_prefix('event_').reset_index(),\n",
    "              on='person', how='left')"
   ]
  },
  {
   "cell_type": "code",
   "execution_count": null,
   "metadata": {},
   "outputs": [],
   "source": [
    "events_df.drop('event',axis=1,inplace=True)"
   ]
  },
  {
   "cell_type": "code",
   "execution_count": null,
   "metadata": {},
   "outputs": [],
   "source": [
    "init_features.remove('event')"
   ]
  },
  {
   "cell_type": "markdown",
   "metadata": {},
   "source": [
    "### staticpage"
   ]
  },
  {
   "cell_type": "code",
   "execution_count": null,
   "metadata": {},
   "outputs": [],
   "source": [
    "events_df = events_df.merge(events_df.groupby('person')['staticpage'].value_counts(normalize=True).unstack(fill_value=0).add_prefix('staticpage_').reset_index(),\n",
    "                          on='person', how='left')"
   ]
  },
  {
   "cell_type": "code",
   "execution_count": null,
   "metadata": {},
   "outputs": [],
   "source": [
    "events_df.drop('staticpage',axis=1,inplace=True)"
   ]
  },
  {
   "cell_type": "code",
   "execution_count": null,
   "metadata": {},
   "outputs": [],
   "source": [
    "init_features.remove('staticpage')"
   ]
  },
  {
   "cell_type": "markdown",
   "metadata": {},
   "source": [
    "### campaign_source"
   ]
  },
  {
   "cell_type": "code",
   "execution_count": null,
   "metadata": {},
   "outputs": [],
   "source": [
    "events_df = events_df.merge(events_df.groupby('person')['campaign_source'].value_counts(normalize=True).unstack(fill_value=0).add_prefix('campaign_source_').reset_index(),\n",
    "                          on='person', how='left')"
   ]
  },
  {
   "cell_type": "code",
   "execution_count": null,
   "metadata": {},
   "outputs": [],
   "source": [
    "events_df.drop('campaign_source',axis=1,inplace=True)"
   ]
  },
  {
   "cell_type": "code",
   "execution_count": null,
   "metadata": {},
   "outputs": [],
   "source": [
    "init_features.remove('campaign_source')"
   ]
  },
  {
   "cell_type": "markdown",
   "metadata": {},
   "source": [
    "### search_engine"
   ]
  },
  {
   "cell_type": "code",
   "execution_count": null,
   "metadata": {},
   "outputs": [],
   "source": [
    "events_df = events_df.merge(events_df.groupby('person')['search_engine'].value_counts(normalize=True).unstack(fill_value=0).add_prefix('search_engine_').reset_index(),\n",
    "                          on='person', how='left')"
   ]
  },
  {
   "cell_type": "code",
   "execution_count": null,
   "metadata": {},
   "outputs": [],
   "source": [
    "events_df.drop('search_engine',axis=1,inplace=True)"
   ]
  },
  {
   "cell_type": "code",
   "execution_count": null,
   "metadata": {},
   "outputs": [],
   "source": [
    "init_features.remove('search_engine')"
   ]
  },
  {
   "cell_type": "markdown",
   "metadata": {},
   "source": [
    "### channel"
   ]
  },
  {
   "cell_type": "code",
   "execution_count": null,
   "metadata": {},
   "outputs": [],
   "source": [
    "events_df = events_df.merge(events_df.groupby('person')['channel'].value_counts(normalize=True).unstack(fill_value=0).add_prefix('channel_').reset_index(),\n",
    "                          on='person', how='left')"
   ]
  },
  {
   "cell_type": "code",
   "execution_count": null,
   "metadata": {},
   "outputs": [],
   "source": [
    "events_df.drop('channel',axis=1,inplace=True)"
   ]
  },
  {
   "cell_type": "code",
   "execution_count": null,
   "metadata": {},
   "outputs": [],
   "source": [
    "init_features.remove('channel')"
   ]
  },
  {
   "cell_type": "markdown",
   "metadata": {},
   "source": [
    "### new_vs_returning"
   ]
  },
  {
   "cell_type": "code",
   "execution_count": null,
   "metadata": {},
   "outputs": [],
   "source": [
    "events_df = events_df.merge(events_df.groupby('person')['new_vs_returning'].value_counts(normalize=True).unstack(fill_value=0).add_prefix('new_vs_returning_').reset_index(),\n",
    "                          on='person', how='left')"
   ]
  },
  {
   "cell_type": "code",
   "execution_count": null,
   "metadata": {},
   "outputs": [],
   "source": [
    "events_df.drop('new_vs_returning',axis=1,inplace=True)"
   ]
  },
  {
   "cell_type": "code",
   "execution_count": null,
   "metadata": {},
   "outputs": [],
   "source": [
    "init_features.remove('new_vs_returning')"
   ]
  },
  {
   "cell_type": "markdown",
   "metadata": {},
   "source": [
    "### device_type"
   ]
  },
  {
   "cell_type": "code",
   "execution_count": null,
   "metadata": {},
   "outputs": [],
   "source": [
    "events_df = events_df.merge(events_df.groupby('person')['device_type'].value_counts(normalize=True).unstack(fill_value=0).add_prefix('device_type_').reset_index(),\n",
    "                          on='person', how='left')"
   ]
  },
  {
   "cell_type": "code",
   "execution_count": null,
   "metadata": {},
   "outputs": [],
   "source": [
    "events_df.drop('device_type',axis=1,inplace=True)"
   ]
  },
  {
   "cell_type": "code",
   "execution_count": null,
   "metadata": {},
   "outputs": [],
   "source": [
    "init_features.remove('device_type')"
   ]
  },
  {
   "cell_type": "markdown",
   "metadata": {},
   "source": [
    "### operating_system_version"
   ]
  },
  {
   "cell_type": "code",
   "execution_count": null,
   "metadata": {},
   "outputs": [],
   "source": [
    "events_df = events_df.merge(events_df.groupby('person')['operating_system_version'].value_counts(normalize=True).unstack(fill_value=0).add_prefix('operating_system_version_').reset_index(),\n",
    "                          on='person', how='left')"
   ]
  },
  {
   "cell_type": "code",
   "execution_count": null,
   "metadata": {},
   "outputs": [],
   "source": [
    "events_df.drop('operating_system_version',axis=1,inplace=True)"
   ]
  },
  {
   "cell_type": "code",
   "execution_count": null,
   "metadata": {},
   "outputs": [],
   "source": [
    "init_features.remove('operating_system_version')"
   ]
  },
  {
   "cell_type": "markdown",
   "metadata": {},
   "source": [
    "### browser_version"
   ]
  },
  {
   "cell_type": "code",
   "execution_count": null,
   "metadata": {},
   "outputs": [],
   "source": [
    "events_df = events_df.merge(events_df.groupby('person')['browser_version'].value_counts(normalize=True).unstack(fill_value=0).add_prefix('browser_version_').reset_index(),\n",
    "                          on='person', how='left')"
   ]
  },
  {
   "cell_type": "code",
   "execution_count": null,
   "metadata": {},
   "outputs": [],
   "source": [
    "events_df.drop('browser_version',axis=1,inplace=True)"
   ]
  },
  {
   "cell_type": "code",
   "execution_count": null,
   "metadata": {},
   "outputs": [],
   "source": [
    "init_features.remove('browser_version')"
   ]
  },
  {
   "cell_type": "markdown",
   "metadata": {},
   "source": [
    "### condition"
   ]
  },
  {
   "cell_type": "code",
   "execution_count": null,
   "metadata": {},
   "outputs": [],
   "source": [
    "events_df = events_df.merge(events_df.groupby('person')['condition'].value_counts(normalize=True).unstack(fill_value=0).add_prefix('condition_').reset_index(),\n",
    "                          on='person', how='left')"
   ]
  },
  {
   "cell_type": "code",
   "execution_count": null,
   "metadata": {},
   "outputs": [],
   "source": [
    "events_df.drop('condition',axis=1,inplace=True)"
   ]
  },
  {
   "cell_type": "code",
   "execution_count": null,
   "metadata": {},
   "outputs": [],
   "source": [
    "init_features.remove('condition')"
   ]
  },
  {
   "cell_type": "markdown",
   "metadata": {},
   "source": [
    "***"
   ]
  },
  {
   "cell_type": "code",
   "execution_count": null,
   "metadata": {},
   "outputs": [],
   "source": [
    "events_df[['person','model']].groupby('person')[['model']].nunique()['model'].max()\n",
    "\n",
    "# o sea una misma persona busco como maximo 94 modelos distintos"
   ]
  },
  {
   "cell_type": "code",
   "execution_count": null,
   "metadata": {},
   "outputs": [],
   "source": [
    "events_df[['person','color']].groupby('person')[['color']].nunique()['color'].max()\n",
    "\n",
    "# o sea una misma persona busco como maximo 43 modelos distintos"
   ]
  },
  {
   "cell_type": "code",
   "execution_count": null,
   "metadata": {},
   "outputs": [],
   "source": [
    "events_df[['person','search_term']].groupby('person')[['search_term']].nunique()['search_term'].max()\n",
    "\n",
    "# o sea una misma persona busco mediante como maximo 100 terminos distintos"
   ]
  },
  {
   "cell_type": "code",
   "execution_count": null,
   "metadata": {},
   "outputs": [],
   "source": [
    "events_df[['person','city']].groupby('person')[['city']].nunique()['city'].max()\n",
    "\n",
    "# o sea una misma persona busco desde como maximo 19 ciudades distintas"
   ]
  },
  {
   "cell_type": "code",
   "execution_count": null,
   "metadata": {},
   "outputs": [],
   "source": [
    "events_df[['person','region']].groupby('person')[['region']].nunique()['region'].max()\n",
    "\n",
    "# o sea una misma persona busco desde como maximo 7 regiones distintas"
   ]
  },
  {
   "cell_type": "code",
   "execution_count": null,
   "metadata": {},
   "outputs": [],
   "source": [
    "events_df[['person','country']].groupby('person')[['country']].nunique()['country'].max()\n",
    "\n",
    "# o sea una misma persona busco desde como maximo 3 paises distintos"
   ]
  },
  {
   "cell_type": "code",
   "execution_count": null,
   "metadata": {},
   "outputs": [],
   "source": [
    "events_df[['person','url']].groupby('person')[['url']].nunique()['url'].max()"
   ]
  },
  {
   "cell_type": "markdown",
   "metadata": {},
   "source": [
    "***"
   ]
  },
  {
   "cell_type": "code",
   "execution_count": null,
   "metadata": {},
   "outputs": [],
   "source": [
    "events_df.shape"
   ]
  },
  {
   "cell_type": "code",
   "execution_count": null,
   "metadata": {},
   "outputs": [],
   "source": [
    "labels_df.shape"
   ]
  },
  {
   "cell_type": "code",
   "execution_count": null,
   "metadata": {},
   "outputs": [],
   "source": [
    "events_df.person.nunique()"
   ]
  },
  {
   "cell_type": "code",
   "execution_count": null,
   "metadata": {},
   "outputs": [],
   "source": [
    "labels_df.person.nunique()"
   ]
  },
  {
   "cell_type": "markdown",
   "metadata": {},
   "source": [
    "## Data partition"
   ]
  },
  {
   "cell_type": "code",
   "execution_count": null,
   "metadata": {},
   "outputs": [],
   "source": [
    "# armo df con registros completos clasificados\n",
    "train_df = events_df.merge(labels_df, on='person', how='right')"
   ]
  },
  {
   "cell_type": "code",
   "execution_count": null,
   "metadata": {},
   "outputs": [],
   "source": [
    "# armo df con registros a predecir unicamente\n",
    "to_predict = events_df[~events_df['person'].isin(labels_df.person)].copy()"
   ]
  },
  {
   "cell_type": "code",
   "execution_count": null,
   "metadata": {},
   "outputs": [],
   "source": [
    "train_df.shape"
   ]
  },
  {
   "cell_type": "code",
   "execution_count": null,
   "metadata": {},
   "outputs": [],
   "source": [
    "to_predict.shape"
   ]
  },
  {
   "cell_type": "code",
   "execution_count": null,
   "metadata": {},
   "outputs": [],
   "source": [
    "to_predict.person.nunique()"
   ]
  },
  {
   "cell_type": "code",
   "execution_count": null,
   "metadata": {},
   "outputs": [],
   "source": [
    "labels_df.person.nunique()"
   ]
  },
  {
   "cell_type": "code",
   "execution_count": null,
   "metadata": {},
   "outputs": [],
   "source": [
    "events_df.person.nunique()"
   ]
  },
  {
   "cell_type": "code",
   "execution_count": null,
   "metadata": {},
   "outputs": [],
   "source": [
    "train_df[['person','label']].groupby('person')[['label']].nunique()['label'].unique()\n",
    "\n",
    "# o sea hay un unico y mismo label para cada persona, que se mantiene igual a lo largo de todos los registros de la persona"
   ]
  },
  {
   "cell_type": "markdown",
   "metadata": {},
   "source": [
    "***"
   ]
  },
  {
   "cell_type": "code",
   "execution_count": null,
   "metadata": {},
   "outputs": [],
   "source": [
    "to_predict.person.nunique()"
   ]
  },
  {
   "cell_type": "code",
   "execution_count": null,
   "metadata": {},
   "outputs": [],
   "source": [
    "labels_df.person.nunique()"
   ]
  },
  {
   "cell_type": "code",
   "execution_count": null,
   "metadata": {},
   "outputs": [],
   "source": [
    "gr1 = train_df[list(train_df.select_dtypes('object').columns)].fillna(\"\").groupby('person',as_index=False).agg(lambda x: ' '.join(x))"
   ]
  },
  {
   "cell_type": "code",
   "execution_count": null,
   "metadata": {},
   "outputs": [],
   "source": [
    "gr2 = train_df[['person','sku']].groupby('person',as_index=False).max()"
   ]
  },
  {
   "cell_type": "code",
   "execution_count": null,
   "metadata": {},
   "outputs": [],
   "source": [
    "l = list(train_df.select_dtypes(exclude='object').columns)\n",
    "l.append('person')\n",
    "l.remove('sku')\n",
    "gr3 = train_df[l].groupby('person',as_index=False).avg()"
   ]
  },
  {
   "cell_type": "code",
   "execution_count": null,
   "metadata": {},
   "outputs": [],
   "source": [
    "train_df_final = gr1.merge(gr2.merge(gr3))"
   ]
  },
  {
   "cell_type": "code",
   "execution_count": null,
   "metadata": {},
   "outputs": [],
   "source": [
    "gr1 = to_predict[list(to_predict.select_dtypes('object').columns)].fillna(\"\").groupby('person',as_index=False).agg(lambda x: ' '.join(x))"
   ]
  },
  {
   "cell_type": "code",
   "execution_count": null,
   "metadata": {},
   "outputs": [],
   "source": [
    "gr2 = to_predict[['person','sku']].groupby('person',as_index=False).max()"
   ]
  },
  {
   "cell_type": "code",
   "execution_count": null,
   "metadata": {},
   "outputs": [],
   "source": [
    "l = list(to_predict.select_dtypes(exclude='object').columns)\n",
    "l.append('person')\n",
    "l.remove('sku')\n",
    "gr3 = to_predict[l].groupby('person',as_index=False).avg()"
   ]
  },
  {
   "cell_type": "code",
   "execution_count": null,
   "metadata": {},
   "outputs": [],
   "source": [
    "to_predict_final = gr1.merge(gr2.merge(gr3))"
   ]
  },
  {
   "cell_type": "code",
   "execution_count": null,
   "metadata": {},
   "outputs": [],
   "source": [
    "to_predict_final.shape"
   ]
  },
  {
   "cell_type": "code",
   "execution_count": null,
   "metadata": {},
   "outputs": [],
   "source": [
    "train_df_final.shape"
   ]
  },
  {
   "cell_type": "code",
   "execution_count": null,
   "metadata": {},
   "outputs": [],
   "source": [
    "to_predict_final.shape"
   ]
  },
  {
   "cell_type": "code",
   "execution_count": null,
   "metadata": {},
   "outputs": [],
   "source": [
    "train_df_final.shape"
   ]
  },
  {
   "cell_type": "markdown",
   "metadata": {},
   "source": [
    "# Final export\n",
    "Uncommenct to save to `.csv`s"
   ]
  },
  {
   "cell_type": "code",
   "execution_count": null,
   "metadata": {},
   "outputs": [],
   "source": [
    "train_df_final.to_csv('../data/train_df_processed_screenResol_storage_dates.csv', index=False)\n",
    "to_predict_final.to_csv('../data/to_predict_processed_screenResol_storage_dates.csv', index=False)"
   ]
  }
 ],
 "metadata": {
  "kernelspec": {
   "display_name": "Python 3",
   "language": "python",
   "name": "python3"
  },
  "language_info": {
   "codemirror_mode": {
    "name": "ipython",
    "version": 3
   },
   "file_extension": ".py",
   "mimetype": "text/x-python",
   "name": "python",
   "nbconvert_exporter": "python",
   "pygments_lexer": "ipython3",
   "version": "3.5.2"
  }
 },
 "nbformat": 4,
 "nbformat_minor": 2
}
