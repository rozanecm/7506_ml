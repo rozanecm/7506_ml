{
 "cells": [
  {
   "cell_type": "code",
   "execution_count": 1,
   "metadata": {},
   "outputs": [],
   "source": [
    "import pandas as pd"
   ]
  },
  {
   "cell_type": "code",
   "execution_count": 2,
   "metadata": {},
   "outputs": [],
   "source": [
    "import numpy as np"
   ]
  },
  {
   "cell_type": "code",
   "execution_count": 2,
   "metadata": {},
   "outputs": [],
   "source": [
    "import category_encoders as ce"
   ]
  },
  {
   "cell_type": "code",
   "execution_count": 3,
   "metadata": {},
   "outputs": [],
   "source": [
    "from sklearn import preprocessing"
   ]
  },
  {
   "cell_type": "code",
   "execution_count": 6,
   "metadata": {},
   "outputs": [],
   "source": [
    "df_events = pd.read_csv('data/fiuba-trocafone-tp2-final-set/events_up_to_01062018.csv', low_memory = False)"
   ]
  },
  {
   "cell_type": "code",
   "execution_count": 4,
   "metadata": {},
   "outputs": [
    {
     "data": {
      "text/plain": [
       "Index(['timestamp', 'event', 'person', 'url', 'sku', 'model', 'condition',\n",
       "       'storage', 'color', 'skus', 'search_term', 'staticpage',\n",
       "       'campaign_source', 'search_engine', 'channel', 'new_vs_returning',\n",
       "       'city', 'region', 'country', 'device_type', 'screen_resolution',\n",
       "       'operating_system_version', 'browser_version', 'mes', 'dia', 'q1', 'q2',\n",
       "       'q3', 'q4', 'q5', 'q6', 'q7', 'q8', 'q9', 'q10', 'event_count',\n",
       "       'tiempo_total', 'event_count_q1', 'event_count_q2', 'event_count_q3',\n",
       "       'event_count_q4', 'event_count_q5', 'event_count_q6', 'event_count_q7',\n",
       "       'event_count_q8', 'event_count_q9', 'event_count_q10',\n",
       "       'tiempo_total_q1', 'tiempo_total_q2', 'tiempo_total_q3',\n",
       "       'tiempo_total_q4', 'tiempo_total_q5', 'tiempo_total_q6',\n",
       "       'tiempo_total_q7', 'tiempo_total_q8', 'tiempo_total_q9',\n",
       "       'tiempo_total_q10'],\n",
       "      dtype='object')"
      ]
     },
     "execution_count": 4,
     "metadata": {},
     "output_type": "execute_result"
    }
   ],
   "source": [
    "df_events.columns"
   ]
  },
  {
   "cell_type": "code",
   "execution_count": 7,
   "metadata": {},
   "outputs": [],
   "source": [
    "del(df_events)"
   ]
  },
  {
   "cell_type": "code",
   "execution_count": 8,
   "metadata": {},
   "outputs": [],
   "source": [
    "encoder = ce.backward_difference.BackwardDifferenceEncoder(cols=['event'])"
   ]
  },
  {
   "cell_type": "code",
   "execution_count": 9,
   "metadata": {},
   "outputs": [
    {
     "data": {
      "text/plain": [
       "BackwardDifferenceEncoder(cols=['event'], drop_invariant=False,\n",
       "             handle_unknown='impute', impute_missing=True,\n",
       "             mapping=[{'col': 'event', 'mapping':        [D.1]     [D.2]     [D.3]     [D.4]     [D.5]     [D.6]     [D.7]  \\\n",
       "1  -0.909091 -0.818182 -0.727273 -0.636364 -0.545455 -0.454545 -0.363636\n",
       "2   0.090909 -0.818182 -0.727273 -0.636364 -0.545455 -0.454545 -0.363636\n",
       "3   0.090909  0.181818 -0.727273 -0...727273  0.818182 -0.090909\n",
       "11  0.727273  0.818182  0.909091\n",
       "0   0.000000  0.000000  0.000000  }],\n",
       "             return_df=True, verbose=0)"
      ]
     },
     "execution_count": 9,
     "metadata": {},
     "output_type": "execute_result"
    }
   ],
   "source": [
    "encoder.fit(data, verbose=1)"
   ]
  },
  {
   "cell_type": "code",
   "execution_count": 10,
   "metadata": {},
   "outputs": [],
   "source": [
    "event_transform = encoder.transform(data)"
   ]
  },
  {
   "cell_type": "code",
   "execution_count": 15,
   "metadata": {},
   "outputs": [
    {
     "data": {
      "text/plain": [
       "(2341681, 21)"
      ]
     },
     "execution_count": 15,
     "metadata": {},
     "output_type": "execute_result"
    }
   ],
   "source": [
    "event_transform.shape"
   ]
  },
  {
   "cell_type": "code",
   "execution_count": 16,
   "metadata": {},
   "outputs": [
    {
     "data": {
      "text/plain": [
       "Index(['intercept', 'timestamp', 'event_0', 'event_1', 'event_2', 'event_3',\n",
       "       'event_4', 'event_5', 'event_6', 'event_7', 'event_8', 'event_9',\n",
       "       'person', 'sku', 'model', 'condition', 'storage', 'device_type',\n",
       "       'screen_resolution', 'operating_system_version', 'browser_version'],\n",
       "      dtype='object')"
      ]
     },
     "execution_count": 16,
     "metadata": {},
     "output_type": "execute_result"
    }
   ],
   "source": [
    "event_transform.column"
   ]
  },
  {
   "cell_type": "code",
   "execution_count": 17,
   "metadata": {},
   "outputs": [
    {
     "data": {
      "text/plain": [
       "1021151"
      ]
     },
     "execution_count": 17,
     "metadata": {},
     "output_type": "execute_result"
    }
   ],
   "source": [
    "sum(pd.isnull(event_transform.storage))"
   ]
  },
  {
   "cell_type": "code",
   "execution_count": 18,
   "metadata": {},
   "outputs": [
    {
     "data": {
      "text/plain": [
       "2137612"
      ]
     },
     "execution_count": 18,
     "metadata": {},
     "output_type": "execute_result"
    }
   ],
   "source": [
    "sum(pd.isnull(event_transform.device_type))"
   ]
  },
  {
   "cell_type": "code",
   "execution_count": 19,
   "metadata": {},
   "outputs": [
    {
     "data": {
      "text/plain": [
       "2137615"
      ]
     },
     "execution_count": 19,
     "metadata": {},
     "output_type": "execute_result"
    }
   ],
   "source": [
    "sum(pd.isnull(event_transform.screen_resolution))"
   ]
  },
  {
   "cell_type": "code",
   "execution_count": 22,
   "metadata": {},
   "outputs": [
    {
     "data": {
      "text/plain": [
       "2137612"
      ]
     },
     "execution_count": 22,
     "metadata": {},
     "output_type": "execute_result"
    }
   ],
   "source": [
    "sum(pd.isnull(event_transform.operating_system_version))"
   ]
  },
  {
   "cell_type": "code",
   "execution_count": 21,
   "metadata": {},
   "outputs": [
    {
     "data": {
      "text/plain": [
       "2137612"
      ]
     },
     "execution_count": 21,
     "metadata": {},
     "output_type": "execute_result"
    }
   ],
   "source": [
    "sum(pd.isnull(event_transform.browser_version))"
   ]
  },
  {
   "cell_type": "code",
   "execution_count": 26,
   "metadata": {},
   "outputs": [],
   "source": [
    "data = event_transform[['timestamp', 'event_0', 'event_1', 'event_2', 'event_3',\n",
    "       'event_4', 'event_5', 'event_6', 'event_7', 'event_8', 'event_9',\n",
    "       'person', 'sku', 'model', 'condition', 'storage']]"
   ]
  },
  {
   "cell_type": "code",
   "execution_count": 27,
   "metadata": {},
   "outputs": [],
   "source": [
    "data.to_csv('dataEventBack.csv')"
   ]
  },
  {
   "cell_type": "code",
   "execution_count": 4,
   "metadata": {},
   "outputs": [
    {
     "name": "stderr",
     "output_type": "stream",
     "text": [
      "/home/july/anaconda3/lib/python3.6/site-packages/IPython/core/interactiveshell.py:2717: DtypeWarning: Columns (14,15,16) have mixed types. Specify dtype option on import or set low_memory=False.\n",
      "  interactivity=interactivity, compiler=compiler, result=result)\n"
     ]
    }
   ],
   "source": [
    "data = pd.read_csv('dataEventBack.csv')"
   ]
  },
  {
   "cell_type": "code",
   "execution_count": 5,
   "metadata": {},
   "outputs": [],
   "source": [
    "# some date processing\n",
    "def date_proc(df):\n",
    "    df['timestamp'] = pd.to_datetime(df['timestamp'])\n",
    "    df['year'] = df['timestamp'].dt.year\n",
    "    df['month'] = df['timestamp'].dt.month\n",
    "    df['day'] = df['timestamp'].dt.day\n",
    "    df['weekday'] = df['timestamp'].dt.weekday\n",
    "    df['hour'] = df['timestamp'].dt.hour\n",
    "    df['year_month_day'] = df['timestamp'].map(lambda x: str(x.year)+\"/\"+str(x.month)+\"/\"+str(x.day))\n",
    "    df['year_month_day'] = pd.to_datetime(df['year_month_day'])\n",
    "    "
   ]
  },
  {
   "cell_type": "code",
   "execution_count": 6,
   "metadata": {},
   "outputs": [],
   "source": [
    "date_proc(data)"
   ]
  },
  {
   "cell_type": "code",
   "execution_count": 7,
   "metadata": {},
   "outputs": [],
   "source": [
    "from sklearn import preprocessing"
   ]
  },
  {
   "cell_type": "code",
   "execution_count": 8,
   "metadata": {},
   "outputs": [],
   "source": [
    "weekday_le = preprocessing.LabelEncoder()\n",
    "weekday_le.fit(data.weekday)\n",
    "\n",
    "data.weekday = weekday_le.transform(data.weekday)"
   ]
  },
  {
   "cell_type": "code",
   "execution_count": 9,
   "metadata": {},
   "outputs": [],
   "source": [
    "def month_to_cyclic(df):\n",
    "    df['month_sin'] = df['month'].apply(lambda x: np.sin(2*np.pi*x/12))\n",
    "    df['month_cos'] = df['month'].apply(lambda x: np.cos(2*np.pi*x/12))\n",
    "    df.drop('month', axis=1, inplace=True)\n",
    "    \n",
    "def day_to_cyclic(df):\n",
    "    df['day_sin'] = df['day'].apply(lambda x: np.sin(2*np.pi*x/31))\n",
    "    df['day_cos'] = df['day'].apply(lambda x: np.cos(2*np.pi*x/31))\n",
    "    df.drop('day', axis=1, inplace=True)\n",
    "\n",
    "def weekday_to_cyclic(df):\n",
    "    df['weekday_sin'] = df['weekday'].apply(lambda x: np.sin(2*np.pi*x/7))\n",
    "    df['weekday_cos'] = df['weekday'].apply(lambda x: np.cos(2*np.pi*x/7))\n",
    "    df.drop('weekday', axis=1, inplace=True)\n",
    "\n",
    "def hour_to_cyclic(df):\n",
    "    df['hour_sin'] = df['hour'].apply(lambda x: np.sin(2*np.pi*x/24))\n",
    "    df['hour_cos'] = df['hour'].apply(lambda x: np.cos(2*np.pi*x/24))\n",
    "    df.drop('hour', axis=1, inplace=True)"
   ]
  },
  {
   "cell_type": "code",
   "execution_count": 10,
   "metadata": {},
   "outputs": [],
   "source": [
    "month_to_cyclic(data)\n",
    "day_to_cyclic(data)\n",
    "weekday_to_cyclic(data)\n"
   ]
  },
  {
   "cell_type": "code",
   "execution_count": 11,
   "metadata": {},
   "outputs": [],
   "source": [
    "hour_to_cyclic(data)"
   ]
  },
  {
   "cell_type": "code",
   "execution_count": 12,
   "metadata": {},
   "outputs": [
    {
     "data": {
      "text/plain": [
       "Index(['Unnamed: 0', 'timestamp', 'event_0', 'event_1', 'event_2', 'event_3',\n",
       "       'event_4', 'event_5', 'event_6', 'event_7', 'event_8', 'event_9',\n",
       "       'person', 'sku', 'model', 'condition', 'storage', 'year',\n",
       "       'year_month_day', 'month_sin', 'month_cos', 'day_sin', 'day_cos',\n",
       "       'weekday_sin', 'weekday_cos', 'hour_sin', 'hour_cos'],\n",
       "      dtype='object')"
      ]
     },
     "execution_count": 12,
     "metadata": {},
     "output_type": "execute_result"
    }
   ],
   "source": [
    "data.columns"
   ]
  },
  {
   "cell_type": "code",
   "execution_count": 17,
   "metadata": {},
   "outputs": [],
   "source": [
    "del data['timestamp']\n",
    "del data['year_month_day']\n",
    "del data['person']\n"
   ]
  },
  {
   "cell_type": "code",
   "execution_count": 19,
   "metadata": {},
   "outputs": [],
   "source": [
    "data.model = data.model.astype('category')"
   ]
  },
  {
   "cell_type": "code",
   "execution_count": 20,
   "metadata": {},
   "outputs": [
    {
     "data": {
      "text/plain": [
       "category"
      ]
     },
     "execution_count": 20,
     "metadata": {},
     "output_type": "execute_result"
    }
   ],
   "source": [
    "data.model.dtype"
   ]
  },
  {
   "cell_type": "code",
   "execution_count": 21,
   "metadata": {},
   "outputs": [],
   "source": [
    "data.model = data.model.cat.codes"
   ]
  },
  {
   "cell_type": "code",
   "execution_count": 24,
   "metadata": {},
   "outputs": [
    {
     "data": {
      "text/plain": [
       "209"
      ]
     },
     "execution_count": 24,
     "metadata": {},
     "output_type": "execute_result"
    }
   ],
   "source": [
    "len(data.model.unique())"
   ]
  },
  {
   "cell_type": "code",
   "execution_count": 26,
   "metadata": {},
   "outputs": [],
   "source": [
    "data.condition = data.condition.astype('category')"
   ]
  },
  {
   "cell_type": "code",
   "execution_count": 27,
   "metadata": {},
   "outputs": [
    {
     "data": {
      "text/plain": [
       "[Excelente, Muito Bom, Bom, NaN, Bom - Sem Touch ID, Novo]\n",
       "Categories (5, object): [Excelente, Muito Bom, Bom, Bom - Sem Touch ID, Novo]"
      ]
     },
     "execution_count": 27,
     "metadata": {},
     "output_type": "execute_result"
    }
   ],
   "source": [
    "data.condition.unique()"
   ]
  },
  {
   "cell_type": "code",
   "execution_count": 28,
   "metadata": {},
   "outputs": [],
   "source": [
    "conditions = {'condition': {'Excelente':4, 'Muito Bom': 3, 'Bom':2, 'NaN':0, 'Bom - Sem Touch ID':1, 'Novo':0}}"
   ]
  },
  {
   "cell_type": "code",
   "execution_count": 30,
   "metadata": {},
   "outputs": [],
   "source": [
    "data.replace(conditions, inplace=True)"
   ]
  },
  {
   "cell_type": "code",
   "execution_count": 31,
   "metadata": {},
   "outputs": [
    {
     "data": {
      "text/plain": [
       "array([ 4.,  3.,  2., nan,  1.,  0.])"
      ]
     },
     "execution_count": 31,
     "metadata": {},
     "output_type": "execute_result"
    }
   ],
   "source": [
    "data.condition.unique()"
   ]
  },
  {
   "cell_type": "code",
   "execution_count": 36,
   "metadata": {},
   "outputs": [
    {
     "data": {
      "text/html": [
       "<div>\n",
       "<style>\n",
       "    .dataframe thead tr:only-child th {\n",
       "        text-align: right;\n",
       "    }\n",
       "\n",
       "    .dataframe thead th {\n",
       "        text-align: left;\n",
       "    }\n",
       "\n",
       "    .dataframe tbody tr th {\n",
       "        vertical-align: top;\n",
       "    }\n",
       "</style>\n",
       "<table border=\"1\" class=\"dataframe\">\n",
       "  <thead>\n",
       "    <tr style=\"text-align: right;\">\n",
       "      <th></th>\n",
       "      <th>Unnamed: 0</th>\n",
       "      <th>event_0</th>\n",
       "      <th>event_1</th>\n",
       "      <th>event_2</th>\n",
       "      <th>event_3</th>\n",
       "      <th>event_4</th>\n",
       "      <th>event_5</th>\n",
       "      <th>event_6</th>\n",
       "      <th>event_7</th>\n",
       "      <th>event_8</th>\n",
       "      <th>...</th>\n",
       "      <th>storage</th>\n",
       "      <th>year</th>\n",
       "      <th>month_sin</th>\n",
       "      <th>month_cos</th>\n",
       "      <th>day_sin</th>\n",
       "      <th>day_cos</th>\n",
       "      <th>weekday_sin</th>\n",
       "      <th>weekday_cos</th>\n",
       "      <th>hour_sin</th>\n",
       "      <th>hour_cos</th>\n",
       "    </tr>\n",
       "  </thead>\n",
       "  <tbody>\n",
       "    <tr>\n",
       "      <th>0</th>\n",
       "      <td>0</td>\n",
       "      <td>-0.909091</td>\n",
       "      <td>-0.818182</td>\n",
       "      <td>-0.727273</td>\n",
       "      <td>-0.636364</td>\n",
       "      <td>-0.545455</td>\n",
       "      <td>-0.454545</td>\n",
       "      <td>-0.363636</td>\n",
       "      <td>-0.272727</td>\n",
       "      <td>-0.181818</td>\n",
       "      <td>...</td>\n",
       "      <td>32GB</td>\n",
       "      <td>2018</td>\n",
       "      <td>0.5</td>\n",
       "      <td>-0.866025</td>\n",
       "      <td>-4.853020e-01</td>\n",
       "      <td>-0.874347</td>\n",
       "      <td>-0.433884</td>\n",
       "      <td>-0.900969</td>\n",
       "      <td>0.000000e+00</td>\n",
       "      <td>1.000000e+00</td>\n",
       "    </tr>\n",
       "    <tr>\n",
       "      <th>1</th>\n",
       "      <td>1</td>\n",
       "      <td>-0.909091</td>\n",
       "      <td>-0.818182</td>\n",
       "      <td>-0.727273</td>\n",
       "      <td>-0.636364</td>\n",
       "      <td>-0.545455</td>\n",
       "      <td>-0.454545</td>\n",
       "      <td>-0.363636</td>\n",
       "      <td>-0.272727</td>\n",
       "      <td>-0.181818</td>\n",
       "      <td>...</td>\n",
       "      <td>32GB</td>\n",
       "      <td>2018</td>\n",
       "      <td>0.5</td>\n",
       "      <td>-0.866025</td>\n",
       "      <td>-4.853020e-01</td>\n",
       "      <td>-0.874347</td>\n",
       "      <td>-0.433884</td>\n",
       "      <td>-0.900969</td>\n",
       "      <td>0.000000e+00</td>\n",
       "      <td>1.000000e+00</td>\n",
       "    </tr>\n",
       "    <tr>\n",
       "      <th>2</th>\n",
       "      <td>2</td>\n",
       "      <td>-0.909091</td>\n",
       "      <td>-0.818182</td>\n",
       "      <td>-0.727273</td>\n",
       "      <td>-0.636364</td>\n",
       "      <td>-0.545455</td>\n",
       "      <td>-0.454545</td>\n",
       "      <td>-0.363636</td>\n",
       "      <td>-0.272727</td>\n",
       "      <td>-0.181818</td>\n",
       "      <td>...</td>\n",
       "      <td>64GB</td>\n",
       "      <td>2018</td>\n",
       "      <td>0.5</td>\n",
       "      <td>-0.866025</td>\n",
       "      <td>-4.853020e-01</td>\n",
       "      <td>-0.874347</td>\n",
       "      <td>-0.433884</td>\n",
       "      <td>-0.900969</td>\n",
       "      <td>0.000000e+00</td>\n",
       "      <td>1.000000e+00</td>\n",
       "    </tr>\n",
       "    <tr>\n",
       "      <th>3</th>\n",
       "      <td>3</td>\n",
       "      <td>-0.909091</td>\n",
       "      <td>-0.818182</td>\n",
       "      <td>-0.727273</td>\n",
       "      <td>-0.636364</td>\n",
       "      <td>-0.545455</td>\n",
       "      <td>-0.454545</td>\n",
       "      <td>-0.363636</td>\n",
       "      <td>-0.272727</td>\n",
       "      <td>-0.181818</td>\n",
       "      <td>...</td>\n",
       "      <td>128GB</td>\n",
       "      <td>2018</td>\n",
       "      <td>0.5</td>\n",
       "      <td>-0.866025</td>\n",
       "      <td>-4.853020e-01</td>\n",
       "      <td>-0.874347</td>\n",
       "      <td>-0.433884</td>\n",
       "      <td>-0.900969</td>\n",
       "      <td>0.000000e+00</td>\n",
       "      <td>1.000000e+00</td>\n",
       "    </tr>\n",
       "    <tr>\n",
       "      <th>4</th>\n",
       "      <td>4</td>\n",
       "      <td>-0.909091</td>\n",
       "      <td>-0.818182</td>\n",
       "      <td>-0.727273</td>\n",
       "      <td>-0.636364</td>\n",
       "      <td>-0.545455</td>\n",
       "      <td>-0.454545</td>\n",
       "      <td>-0.363636</td>\n",
       "      <td>-0.272727</td>\n",
       "      <td>-0.181818</td>\n",
       "      <td>...</td>\n",
       "      <td>32GB</td>\n",
       "      <td>2018</td>\n",
       "      <td>0.5</td>\n",
       "      <td>-0.866025</td>\n",
       "      <td>-4.853020e-01</td>\n",
       "      <td>-0.874347</td>\n",
       "      <td>-0.433884</td>\n",
       "      <td>-0.900969</td>\n",
       "      <td>0.000000e+00</td>\n",
       "      <td>1.000000e+00</td>\n",
       "    </tr>\n",
       "    <tr>\n",
       "      <th>5</th>\n",
       "      <td>5</td>\n",
       "      <td>0.090909</td>\n",
       "      <td>-0.818182</td>\n",
       "      <td>-0.727273</td>\n",
       "      <td>-0.636364</td>\n",
       "      <td>-0.545455</td>\n",
       "      <td>-0.454545</td>\n",
       "      <td>-0.363636</td>\n",
       "      <td>-0.272727</td>\n",
       "      <td>-0.181818</td>\n",
       "      <td>...</td>\n",
       "      <td>NaN</td>\n",
       "      <td>2018</td>\n",
       "      <td>0.5</td>\n",
       "      <td>-0.866025</td>\n",
       "      <td>-4.853020e-01</td>\n",
       "      <td>-0.874347</td>\n",
       "      <td>-0.433884</td>\n",
       "      <td>-0.900969</td>\n",
       "      <td>0.000000e+00</td>\n",
       "      <td>1.000000e+00</td>\n",
       "    </tr>\n",
       "    <tr>\n",
       "      <th>6</th>\n",
       "      <td>6</td>\n",
       "      <td>-0.909091</td>\n",
       "      <td>-0.818182</td>\n",
       "      <td>-0.727273</td>\n",
       "      <td>-0.636364</td>\n",
       "      <td>-0.545455</td>\n",
       "      <td>-0.454545</td>\n",
       "      <td>-0.363636</td>\n",
       "      <td>-0.272727</td>\n",
       "      <td>-0.181818</td>\n",
       "      <td>...</td>\n",
       "      <td>16GB</td>\n",
       "      <td>2018</td>\n",
       "      <td>0.5</td>\n",
       "      <td>-0.866025</td>\n",
       "      <td>-4.853020e-01</td>\n",
       "      <td>-0.874347</td>\n",
       "      <td>-0.433884</td>\n",
       "      <td>-0.900969</td>\n",
       "      <td>0.000000e+00</td>\n",
       "      <td>1.000000e+00</td>\n",
       "    </tr>\n",
       "    <tr>\n",
       "      <th>7</th>\n",
       "      <td>7</td>\n",
       "      <td>-0.909091</td>\n",
       "      <td>-0.818182</td>\n",
       "      <td>-0.727273</td>\n",
       "      <td>-0.636364</td>\n",
       "      <td>-0.545455</td>\n",
       "      <td>-0.454545</td>\n",
       "      <td>-0.363636</td>\n",
       "      <td>-0.272727</td>\n",
       "      <td>-0.181818</td>\n",
       "      <td>...</td>\n",
       "      <td>128GB</td>\n",
       "      <td>2018</td>\n",
       "      <td>0.5</td>\n",
       "      <td>-0.866025</td>\n",
       "      <td>-4.853020e-01</td>\n",
       "      <td>-0.874347</td>\n",
       "      <td>-0.433884</td>\n",
       "      <td>-0.900969</td>\n",
       "      <td>0.000000e+00</td>\n",
       "      <td>1.000000e+00</td>\n",
       "    </tr>\n",
       "    <tr>\n",
       "      <th>8</th>\n",
       "      <td>8</td>\n",
       "      <td>-0.909091</td>\n",
       "      <td>-0.818182</td>\n",
       "      <td>-0.727273</td>\n",
       "      <td>-0.636364</td>\n",
       "      <td>-0.545455</td>\n",
       "      <td>-0.454545</td>\n",
       "      <td>-0.363636</td>\n",
       "      <td>-0.272727</td>\n",
       "      <td>-0.181818</td>\n",
       "      <td>...</td>\n",
       "      <td>32GB</td>\n",
       "      <td>2018</td>\n",
       "      <td>0.5</td>\n",
       "      <td>-0.866025</td>\n",
       "      <td>-4.853020e-01</td>\n",
       "      <td>-0.874347</td>\n",
       "      <td>-0.433884</td>\n",
       "      <td>-0.900969</td>\n",
       "      <td>0.000000e+00</td>\n",
       "      <td>1.000000e+00</td>\n",
       "    </tr>\n",
       "    <tr>\n",
       "      <th>9</th>\n",
       "      <td>9</td>\n",
       "      <td>0.090909</td>\n",
       "      <td>0.181818</td>\n",
       "      <td>-0.727273</td>\n",
       "      <td>-0.636364</td>\n",
       "      <td>-0.545455</td>\n",
       "      <td>-0.454545</td>\n",
       "      <td>-0.363636</td>\n",
       "      <td>-0.272727</td>\n",
       "      <td>-0.181818</td>\n",
       "      <td>...</td>\n",
       "      <td>NaN</td>\n",
       "      <td>2018</td>\n",
       "      <td>0.5</td>\n",
       "      <td>-0.866025</td>\n",
       "      <td>-4.853020e-01</td>\n",
       "      <td>-0.874347</td>\n",
       "      <td>-0.433884</td>\n",
       "      <td>-0.900969</td>\n",
       "      <td>0.000000e+00</td>\n",
       "      <td>1.000000e+00</td>\n",
       "    </tr>\n",
       "    <tr>\n",
       "      <th>10</th>\n",
       "      <td>10</td>\n",
       "      <td>-0.909091</td>\n",
       "      <td>-0.818182</td>\n",
       "      <td>-0.727273</td>\n",
       "      <td>-0.636364</td>\n",
       "      <td>-0.545455</td>\n",
       "      <td>-0.454545</td>\n",
       "      <td>-0.363636</td>\n",
       "      <td>-0.272727</td>\n",
       "      <td>-0.181818</td>\n",
       "      <td>...</td>\n",
       "      <td>32GB</td>\n",
       "      <td>2018</td>\n",
       "      <td>0.5</td>\n",
       "      <td>-0.866025</td>\n",
       "      <td>-4.853020e-01</td>\n",
       "      <td>-0.874347</td>\n",
       "      <td>-0.433884</td>\n",
       "      <td>-0.900969</td>\n",
       "      <td>0.000000e+00</td>\n",
       "      <td>1.000000e+00</td>\n",
       "    </tr>\n",
       "    <tr>\n",
       "      <th>11</th>\n",
       "      <td>11</td>\n",
       "      <td>-0.909091</td>\n",
       "      <td>-0.818182</td>\n",
       "      <td>-0.727273</td>\n",
       "      <td>-0.636364</td>\n",
       "      <td>-0.545455</td>\n",
       "      <td>-0.454545</td>\n",
       "      <td>-0.363636</td>\n",
       "      <td>-0.272727</td>\n",
       "      <td>-0.181818</td>\n",
       "      <td>...</td>\n",
       "      <td>32GB</td>\n",
       "      <td>2018</td>\n",
       "      <td>0.5</td>\n",
       "      <td>-0.866025</td>\n",
       "      <td>-4.853020e-01</td>\n",
       "      <td>-0.874347</td>\n",
       "      <td>-0.433884</td>\n",
       "      <td>-0.900969</td>\n",
       "      <td>0.000000e+00</td>\n",
       "      <td>1.000000e+00</td>\n",
       "    </tr>\n",
       "    <tr>\n",
       "      <th>12</th>\n",
       "      <td>12</td>\n",
       "      <td>-0.909091</td>\n",
       "      <td>-0.818182</td>\n",
       "      <td>-0.727273</td>\n",
       "      <td>-0.636364</td>\n",
       "      <td>-0.545455</td>\n",
       "      <td>-0.454545</td>\n",
       "      <td>-0.363636</td>\n",
       "      <td>-0.272727</td>\n",
       "      <td>-0.181818</td>\n",
       "      <td>...</td>\n",
       "      <td>16GB</td>\n",
       "      <td>2018</td>\n",
       "      <td>0.5</td>\n",
       "      <td>-0.866025</td>\n",
       "      <td>-4.853020e-01</td>\n",
       "      <td>-0.874347</td>\n",
       "      <td>-0.433884</td>\n",
       "      <td>-0.900969</td>\n",
       "      <td>0.000000e+00</td>\n",
       "      <td>1.000000e+00</td>\n",
       "    </tr>\n",
       "    <tr>\n",
       "      <th>13</th>\n",
       "      <td>13</td>\n",
       "      <td>-0.909091</td>\n",
       "      <td>-0.818182</td>\n",
       "      <td>-0.727273</td>\n",
       "      <td>-0.636364</td>\n",
       "      <td>-0.545455</td>\n",
       "      <td>-0.454545</td>\n",
       "      <td>-0.363636</td>\n",
       "      <td>-0.272727</td>\n",
       "      <td>-0.181818</td>\n",
       "      <td>...</td>\n",
       "      <td>16GB</td>\n",
       "      <td>2018</td>\n",
       "      <td>0.5</td>\n",
       "      <td>-0.866025</td>\n",
       "      <td>-4.853020e-01</td>\n",
       "      <td>-0.874347</td>\n",
       "      <td>-0.433884</td>\n",
       "      <td>-0.900969</td>\n",
       "      <td>0.000000e+00</td>\n",
       "      <td>1.000000e+00</td>\n",
       "    </tr>\n",
       "    <tr>\n",
       "      <th>14</th>\n",
       "      <td>14</td>\n",
       "      <td>0.090909</td>\n",
       "      <td>0.181818</td>\n",
       "      <td>-0.727273</td>\n",
       "      <td>-0.636364</td>\n",
       "      <td>-0.545455</td>\n",
       "      <td>-0.454545</td>\n",
       "      <td>-0.363636</td>\n",
       "      <td>-0.272727</td>\n",
       "      <td>-0.181818</td>\n",
       "      <td>...</td>\n",
       "      <td>NaN</td>\n",
       "      <td>2018</td>\n",
       "      <td>0.5</td>\n",
       "      <td>-0.866025</td>\n",
       "      <td>-4.853020e-01</td>\n",
       "      <td>-0.874347</td>\n",
       "      <td>-0.433884</td>\n",
       "      <td>-0.900969</td>\n",
       "      <td>0.000000e+00</td>\n",
       "      <td>1.000000e+00</td>\n",
       "    </tr>\n",
       "    <tr>\n",
       "      <th>15</th>\n",
       "      <td>15</td>\n",
       "      <td>-0.909091</td>\n",
       "      <td>-0.818182</td>\n",
       "      <td>-0.727273</td>\n",
       "      <td>-0.636364</td>\n",
       "      <td>-0.545455</td>\n",
       "      <td>-0.454545</td>\n",
       "      <td>-0.363636</td>\n",
       "      <td>-0.272727</td>\n",
       "      <td>-0.181818</td>\n",
       "      <td>...</td>\n",
       "      <td>32GB</td>\n",
       "      <td>2018</td>\n",
       "      <td>0.5</td>\n",
       "      <td>-0.866025</td>\n",
       "      <td>-4.853020e-01</td>\n",
       "      <td>-0.874347</td>\n",
       "      <td>-0.433884</td>\n",
       "      <td>-0.900969</td>\n",
       "      <td>0.000000e+00</td>\n",
       "      <td>1.000000e+00</td>\n",
       "    </tr>\n",
       "    <tr>\n",
       "      <th>16</th>\n",
       "      <td>16</td>\n",
       "      <td>-0.909091</td>\n",
       "      <td>-0.818182</td>\n",
       "      <td>-0.727273</td>\n",
       "      <td>-0.636364</td>\n",
       "      <td>-0.545455</td>\n",
       "      <td>-0.454545</td>\n",
       "      <td>-0.363636</td>\n",
       "      <td>-0.272727</td>\n",
       "      <td>-0.181818</td>\n",
       "      <td>...</td>\n",
       "      <td>32GB</td>\n",
       "      <td>2018</td>\n",
       "      <td>0.5</td>\n",
       "      <td>-0.866025</td>\n",
       "      <td>-4.853020e-01</td>\n",
       "      <td>-0.874347</td>\n",
       "      <td>-0.433884</td>\n",
       "      <td>-0.900969</td>\n",
       "      <td>0.000000e+00</td>\n",
       "      <td>1.000000e+00</td>\n",
       "    </tr>\n",
       "    <tr>\n",
       "      <th>17</th>\n",
       "      <td>17</td>\n",
       "      <td>-0.909091</td>\n",
       "      <td>-0.818182</td>\n",
       "      <td>-0.727273</td>\n",
       "      <td>-0.636364</td>\n",
       "      <td>-0.545455</td>\n",
       "      <td>-0.454545</td>\n",
       "      <td>-0.363636</td>\n",
       "      <td>-0.272727</td>\n",
       "      <td>-0.181818</td>\n",
       "      <td>...</td>\n",
       "      <td>64GB</td>\n",
       "      <td>2018</td>\n",
       "      <td>0.5</td>\n",
       "      <td>-0.866025</td>\n",
       "      <td>-4.853020e-01</td>\n",
       "      <td>-0.874347</td>\n",
       "      <td>-0.433884</td>\n",
       "      <td>-0.900969</td>\n",
       "      <td>0.000000e+00</td>\n",
       "      <td>1.000000e+00</td>\n",
       "    </tr>\n",
       "    <tr>\n",
       "      <th>18</th>\n",
       "      <td>18</td>\n",
       "      <td>0.090909</td>\n",
       "      <td>-0.818182</td>\n",
       "      <td>-0.727273</td>\n",
       "      <td>-0.636364</td>\n",
       "      <td>-0.545455</td>\n",
       "      <td>-0.454545</td>\n",
       "      <td>-0.363636</td>\n",
       "      <td>-0.272727</td>\n",
       "      <td>-0.181818</td>\n",
       "      <td>...</td>\n",
       "      <td>NaN</td>\n",
       "      <td>2018</td>\n",
       "      <td>0.5</td>\n",
       "      <td>-0.866025</td>\n",
       "      <td>-4.853020e-01</td>\n",
       "      <td>-0.874347</td>\n",
       "      <td>-0.433884</td>\n",
       "      <td>-0.900969</td>\n",
       "      <td>0.000000e+00</td>\n",
       "      <td>1.000000e+00</td>\n",
       "    </tr>\n",
       "    <tr>\n",
       "      <th>19</th>\n",
       "      <td>19</td>\n",
       "      <td>-0.909091</td>\n",
       "      <td>-0.818182</td>\n",
       "      <td>-0.727273</td>\n",
       "      <td>-0.636364</td>\n",
       "      <td>-0.545455</td>\n",
       "      <td>-0.454545</td>\n",
       "      <td>-0.363636</td>\n",
       "      <td>-0.272727</td>\n",
       "      <td>-0.181818</td>\n",
       "      <td>...</td>\n",
       "      <td>16GB</td>\n",
       "      <td>2018</td>\n",
       "      <td>0.5</td>\n",
       "      <td>-0.866025</td>\n",
       "      <td>-4.853020e-01</td>\n",
       "      <td>-0.874347</td>\n",
       "      <td>-0.433884</td>\n",
       "      <td>-0.900969</td>\n",
       "      <td>0.000000e+00</td>\n",
       "      <td>1.000000e+00</td>\n",
       "    </tr>\n",
       "    <tr>\n",
       "      <th>20</th>\n",
       "      <td>20</td>\n",
       "      <td>0.090909</td>\n",
       "      <td>0.181818</td>\n",
       "      <td>-0.727273</td>\n",
       "      <td>-0.636364</td>\n",
       "      <td>-0.545455</td>\n",
       "      <td>-0.454545</td>\n",
       "      <td>-0.363636</td>\n",
       "      <td>-0.272727</td>\n",
       "      <td>-0.181818</td>\n",
       "      <td>...</td>\n",
       "      <td>NaN</td>\n",
       "      <td>2018</td>\n",
       "      <td>0.5</td>\n",
       "      <td>-0.866025</td>\n",
       "      <td>-4.853020e-01</td>\n",
       "      <td>-0.874347</td>\n",
       "      <td>-0.433884</td>\n",
       "      <td>-0.900969</td>\n",
       "      <td>0.000000e+00</td>\n",
       "      <td>1.000000e+00</td>\n",
       "    </tr>\n",
       "    <tr>\n",
       "      <th>21</th>\n",
       "      <td>21</td>\n",
       "      <td>-0.909091</td>\n",
       "      <td>-0.818182</td>\n",
       "      <td>-0.727273</td>\n",
       "      <td>-0.636364</td>\n",
       "      <td>-0.545455</td>\n",
       "      <td>-0.454545</td>\n",
       "      <td>-0.363636</td>\n",
       "      <td>-0.272727</td>\n",
       "      <td>-0.181818</td>\n",
       "      <td>...</td>\n",
       "      <td>32GB</td>\n",
       "      <td>2018</td>\n",
       "      <td>0.5</td>\n",
       "      <td>-0.866025</td>\n",
       "      <td>-4.853020e-01</td>\n",
       "      <td>-0.874347</td>\n",
       "      <td>-0.433884</td>\n",
       "      <td>-0.900969</td>\n",
       "      <td>0.000000e+00</td>\n",
       "      <td>1.000000e+00</td>\n",
       "    </tr>\n",
       "    <tr>\n",
       "      <th>22</th>\n",
       "      <td>22</td>\n",
       "      <td>-0.909091</td>\n",
       "      <td>-0.818182</td>\n",
       "      <td>-0.727273</td>\n",
       "      <td>-0.636364</td>\n",
       "      <td>-0.545455</td>\n",
       "      <td>-0.454545</td>\n",
       "      <td>-0.363636</td>\n",
       "      <td>-0.272727</td>\n",
       "      <td>-0.181818</td>\n",
       "      <td>...</td>\n",
       "      <td>16GB</td>\n",
       "      <td>2018</td>\n",
       "      <td>0.5</td>\n",
       "      <td>-0.866025</td>\n",
       "      <td>-4.853020e-01</td>\n",
       "      <td>-0.874347</td>\n",
       "      <td>-0.433884</td>\n",
       "      <td>-0.900969</td>\n",
       "      <td>0.000000e+00</td>\n",
       "      <td>1.000000e+00</td>\n",
       "    </tr>\n",
       "    <tr>\n",
       "      <th>23</th>\n",
       "      <td>23</td>\n",
       "      <td>-0.909091</td>\n",
       "      <td>-0.818182</td>\n",
       "      <td>-0.727273</td>\n",
       "      <td>-0.636364</td>\n",
       "      <td>-0.545455</td>\n",
       "      <td>-0.454545</td>\n",
       "      <td>-0.363636</td>\n",
       "      <td>-0.272727</td>\n",
       "      <td>-0.181818</td>\n",
       "      <td>...</td>\n",
       "      <td>64GB</td>\n",
       "      <td>2018</td>\n",
       "      <td>0.5</td>\n",
       "      <td>-0.866025</td>\n",
       "      <td>-4.853020e-01</td>\n",
       "      <td>-0.874347</td>\n",
       "      <td>-0.433884</td>\n",
       "      <td>-0.900969</td>\n",
       "      <td>0.000000e+00</td>\n",
       "      <td>1.000000e+00</td>\n",
       "    </tr>\n",
       "    <tr>\n",
       "      <th>24</th>\n",
       "      <td>24</td>\n",
       "      <td>-0.909091</td>\n",
       "      <td>-0.818182</td>\n",
       "      <td>-0.727273</td>\n",
       "      <td>-0.636364</td>\n",
       "      <td>-0.545455</td>\n",
       "      <td>-0.454545</td>\n",
       "      <td>-0.363636</td>\n",
       "      <td>-0.272727</td>\n",
       "      <td>-0.181818</td>\n",
       "      <td>...</td>\n",
       "      <td>64GB</td>\n",
       "      <td>2018</td>\n",
       "      <td>0.5</td>\n",
       "      <td>-0.866025</td>\n",
       "      <td>-4.853020e-01</td>\n",
       "      <td>-0.874347</td>\n",
       "      <td>-0.433884</td>\n",
       "      <td>-0.900969</td>\n",
       "      <td>0.000000e+00</td>\n",
       "      <td>1.000000e+00</td>\n",
       "    </tr>\n",
       "    <tr>\n",
       "      <th>25</th>\n",
       "      <td>25</td>\n",
       "      <td>0.090909</td>\n",
       "      <td>0.181818</td>\n",
       "      <td>0.272727</td>\n",
       "      <td>-0.636364</td>\n",
       "      <td>-0.545455</td>\n",
       "      <td>-0.454545</td>\n",
       "      <td>-0.363636</td>\n",
       "      <td>-0.272727</td>\n",
       "      <td>-0.181818</td>\n",
       "      <td>...</td>\n",
       "      <td>NaN</td>\n",
       "      <td>2018</td>\n",
       "      <td>0.5</td>\n",
       "      <td>-0.866025</td>\n",
       "      <td>-4.853020e-01</td>\n",
       "      <td>-0.874347</td>\n",
       "      <td>-0.433884</td>\n",
       "      <td>-0.900969</td>\n",
       "      <td>0.000000e+00</td>\n",
       "      <td>1.000000e+00</td>\n",
       "    </tr>\n",
       "    <tr>\n",
       "      <th>26</th>\n",
       "      <td>26</td>\n",
       "      <td>-0.909091</td>\n",
       "      <td>-0.818182</td>\n",
       "      <td>-0.727273</td>\n",
       "      <td>-0.636364</td>\n",
       "      <td>-0.545455</td>\n",
       "      <td>-0.454545</td>\n",
       "      <td>-0.363636</td>\n",
       "      <td>-0.272727</td>\n",
       "      <td>-0.181818</td>\n",
       "      <td>...</td>\n",
       "      <td>32GB</td>\n",
       "      <td>2018</td>\n",
       "      <td>0.5</td>\n",
       "      <td>-0.866025</td>\n",
       "      <td>-4.853020e-01</td>\n",
       "      <td>-0.874347</td>\n",
       "      <td>-0.433884</td>\n",
       "      <td>-0.900969</td>\n",
       "      <td>0.000000e+00</td>\n",
       "      <td>1.000000e+00</td>\n",
       "    </tr>\n",
       "    <tr>\n",
       "      <th>27</th>\n",
       "      <td>27</td>\n",
       "      <td>-0.909091</td>\n",
       "      <td>-0.818182</td>\n",
       "      <td>-0.727273</td>\n",
       "      <td>-0.636364</td>\n",
       "      <td>-0.545455</td>\n",
       "      <td>-0.454545</td>\n",
       "      <td>-0.363636</td>\n",
       "      <td>-0.272727</td>\n",
       "      <td>-0.181818</td>\n",
       "      <td>...</td>\n",
       "      <td>32GB</td>\n",
       "      <td>2018</td>\n",
       "      <td>0.5</td>\n",
       "      <td>-0.866025</td>\n",
       "      <td>-4.853020e-01</td>\n",
       "      <td>-0.874347</td>\n",
       "      <td>-0.433884</td>\n",
       "      <td>-0.900969</td>\n",
       "      <td>0.000000e+00</td>\n",
       "      <td>1.000000e+00</td>\n",
       "    </tr>\n",
       "    <tr>\n",
       "      <th>28</th>\n",
       "      <td>28</td>\n",
       "      <td>-0.909091</td>\n",
       "      <td>-0.818182</td>\n",
       "      <td>-0.727273</td>\n",
       "      <td>-0.636364</td>\n",
       "      <td>-0.545455</td>\n",
       "      <td>-0.454545</td>\n",
       "      <td>-0.363636</td>\n",
       "      <td>-0.272727</td>\n",
       "      <td>-0.181818</td>\n",
       "      <td>...</td>\n",
       "      <td>16GB</td>\n",
       "      <td>2018</td>\n",
       "      <td>0.5</td>\n",
       "      <td>-0.866025</td>\n",
       "      <td>-4.853020e-01</td>\n",
       "      <td>-0.874347</td>\n",
       "      <td>-0.433884</td>\n",
       "      <td>-0.900969</td>\n",
       "      <td>0.000000e+00</td>\n",
       "      <td>1.000000e+00</td>\n",
       "    </tr>\n",
       "    <tr>\n",
       "      <th>29</th>\n",
       "      <td>29</td>\n",
       "      <td>0.090909</td>\n",
       "      <td>-0.818182</td>\n",
       "      <td>-0.727273</td>\n",
       "      <td>-0.636364</td>\n",
       "      <td>-0.545455</td>\n",
       "      <td>-0.454545</td>\n",
       "      <td>-0.363636</td>\n",
       "      <td>-0.272727</td>\n",
       "      <td>-0.181818</td>\n",
       "      <td>...</td>\n",
       "      <td>NaN</td>\n",
       "      <td>2018</td>\n",
       "      <td>0.5</td>\n",
       "      <td>-0.866025</td>\n",
       "      <td>-4.853020e-01</td>\n",
       "      <td>-0.874347</td>\n",
       "      <td>-0.433884</td>\n",
       "      <td>-0.900969</td>\n",
       "      <td>0.000000e+00</td>\n",
       "      <td>1.000000e+00</td>\n",
       "    </tr>\n",
       "    <tr>\n",
       "      <th>...</th>\n",
       "      <td>...</td>\n",
       "      <td>...</td>\n",
       "      <td>...</td>\n",
       "      <td>...</td>\n",
       "      <td>...</td>\n",
       "      <td>...</td>\n",
       "      <td>...</td>\n",
       "      <td>...</td>\n",
       "      <td>...</td>\n",
       "      <td>...</td>\n",
       "      <td>...</td>\n",
       "      <td>...</td>\n",
       "      <td>...</td>\n",
       "      <td>...</td>\n",
       "      <td>...</td>\n",
       "      <td>...</td>\n",
       "      <td>...</td>\n",
       "      <td>...</td>\n",
       "      <td>...</td>\n",
       "      <td>...</td>\n",
       "      <td>...</td>\n",
       "    </tr>\n",
       "    <tr>\n",
       "      <th>2341651</th>\n",
       "      <td>2341651</td>\n",
       "      <td>0.090909</td>\n",
       "      <td>0.181818</td>\n",
       "      <td>0.272727</td>\n",
       "      <td>0.363636</td>\n",
       "      <td>0.454545</td>\n",
       "      <td>0.545455</td>\n",
       "      <td>0.636364</td>\n",
       "      <td>0.727273</td>\n",
       "      <td>0.818182</td>\n",
       "      <td>...</td>\n",
       "      <td>NaN</td>\n",
       "      <td>2018</td>\n",
       "      <td>0.5</td>\n",
       "      <td>-0.866025</td>\n",
       "      <td>-2.012985e-01</td>\n",
       "      <td>0.979530</td>\n",
       "      <td>0.974928</td>\n",
       "      <td>-0.222521</td>\n",
       "      <td>1.224647e-16</td>\n",
       "      <td>-1.000000e+00</td>\n",
       "    </tr>\n",
       "    <tr>\n",
       "      <th>2341652</th>\n",
       "      <td>2341652</td>\n",
       "      <td>0.090909</td>\n",
       "      <td>0.181818</td>\n",
       "      <td>0.272727</td>\n",
       "      <td>0.363636</td>\n",
       "      <td>0.454545</td>\n",
       "      <td>0.545455</td>\n",
       "      <td>0.636364</td>\n",
       "      <td>0.727273</td>\n",
       "      <td>0.818182</td>\n",
       "      <td>...</td>\n",
       "      <td>NaN</td>\n",
       "      <td>2018</td>\n",
       "      <td>0.5</td>\n",
       "      <td>-0.866025</td>\n",
       "      <td>-8.486443e-01</td>\n",
       "      <td>0.528964</td>\n",
       "      <td>-0.974928</td>\n",
       "      <td>-0.222521</td>\n",
       "      <td>1.224647e-16</td>\n",
       "      <td>-1.000000e+00</td>\n",
       "    </tr>\n",
       "    <tr>\n",
       "      <th>2341653</th>\n",
       "      <td>2341653</td>\n",
       "      <td>0.090909</td>\n",
       "      <td>0.181818</td>\n",
       "      <td>0.272727</td>\n",
       "      <td>0.363636</td>\n",
       "      <td>0.454545</td>\n",
       "      <td>0.545455</td>\n",
       "      <td>0.636364</td>\n",
       "      <td>0.727273</td>\n",
       "      <td>0.818182</td>\n",
       "      <td>...</td>\n",
       "      <td>NaN</td>\n",
       "      <td>2018</td>\n",
       "      <td>0.5</td>\n",
       "      <td>-0.866025</td>\n",
       "      <td>-3.943559e-01</td>\n",
       "      <td>0.918958</td>\n",
       "      <td>0.781831</td>\n",
       "      <td>0.623490</td>\n",
       "      <td>-8.660254e-01</td>\n",
       "      <td>5.000000e-01</td>\n",
       "    </tr>\n",
       "    <tr>\n",
       "      <th>2341654</th>\n",
       "      <td>2341654</td>\n",
       "      <td>0.090909</td>\n",
       "      <td>0.181818</td>\n",
       "      <td>0.272727</td>\n",
       "      <td>0.363636</td>\n",
       "      <td>0.454545</td>\n",
       "      <td>0.545455</td>\n",
       "      <td>0.636364</td>\n",
       "      <td>0.727273</td>\n",
       "      <td>0.818182</td>\n",
       "      <td>...</td>\n",
       "      <td>NaN</td>\n",
       "      <td>2018</td>\n",
       "      <td>0.5</td>\n",
       "      <td>-0.866025</td>\n",
       "      <td>-2.012985e-01</td>\n",
       "      <td>0.979530</td>\n",
       "      <td>0.974928</td>\n",
       "      <td>-0.222521</td>\n",
       "      <td>-7.071068e-01</td>\n",
       "      <td>-7.071068e-01</td>\n",
       "    </tr>\n",
       "    <tr>\n",
       "      <th>2341655</th>\n",
       "      <td>2341655</td>\n",
       "      <td>0.090909</td>\n",
       "      <td>0.181818</td>\n",
       "      <td>0.272727</td>\n",
       "      <td>0.363636</td>\n",
       "      <td>0.454545</td>\n",
       "      <td>0.545455</td>\n",
       "      <td>0.636364</td>\n",
       "      <td>0.727273</td>\n",
       "      <td>0.818182</td>\n",
       "      <td>...</td>\n",
       "      <td>NaN</td>\n",
       "      <td>2018</td>\n",
       "      <td>0.5</td>\n",
       "      <td>-0.866025</td>\n",
       "      <td>-2.012985e-01</td>\n",
       "      <td>0.979530</td>\n",
       "      <td>0.974928</td>\n",
       "      <td>-0.222521</td>\n",
       "      <td>-8.660254e-01</td>\n",
       "      <td>-5.000000e-01</td>\n",
       "    </tr>\n",
       "    <tr>\n",
       "      <th>2341656</th>\n",
       "      <td>2341656</td>\n",
       "      <td>0.090909</td>\n",
       "      <td>0.181818</td>\n",
       "      <td>0.272727</td>\n",
       "      <td>0.363636</td>\n",
       "      <td>0.454545</td>\n",
       "      <td>0.545455</td>\n",
       "      <td>0.636364</td>\n",
       "      <td>0.727273</td>\n",
       "      <td>0.818182</td>\n",
       "      <td>...</td>\n",
       "      <td>NaN</td>\n",
       "      <td>2018</td>\n",
       "      <td>0.5</td>\n",
       "      <td>-0.866025</td>\n",
       "      <td>-2.012985e-01</td>\n",
       "      <td>0.979530</td>\n",
       "      <td>0.974928</td>\n",
       "      <td>-0.222521</td>\n",
       "      <td>-7.071068e-01</td>\n",
       "      <td>-7.071068e-01</td>\n",
       "    </tr>\n",
       "    <tr>\n",
       "      <th>2341657</th>\n",
       "      <td>2341657</td>\n",
       "      <td>0.090909</td>\n",
       "      <td>0.181818</td>\n",
       "      <td>0.272727</td>\n",
       "      <td>0.363636</td>\n",
       "      <td>0.454545</td>\n",
       "      <td>0.545455</td>\n",
       "      <td>0.636364</td>\n",
       "      <td>0.727273</td>\n",
       "      <td>0.818182</td>\n",
       "      <td>...</td>\n",
       "      <td>NaN</td>\n",
       "      <td>2018</td>\n",
       "      <td>0.5</td>\n",
       "      <td>-0.866025</td>\n",
       "      <td>-2.012985e-01</td>\n",
       "      <td>0.979530</td>\n",
       "      <td>0.974928</td>\n",
       "      <td>-0.222521</td>\n",
       "      <td>-9.659258e-01</td>\n",
       "      <td>-2.588190e-01</td>\n",
       "    </tr>\n",
       "    <tr>\n",
       "      <th>2341658</th>\n",
       "      <td>2341658</td>\n",
       "      <td>0.090909</td>\n",
       "      <td>0.181818</td>\n",
       "      <td>0.272727</td>\n",
       "      <td>0.363636</td>\n",
       "      <td>0.454545</td>\n",
       "      <td>0.545455</td>\n",
       "      <td>0.636364</td>\n",
       "      <td>0.727273</td>\n",
       "      <td>0.818182</td>\n",
       "      <td>...</td>\n",
       "      <td>NaN</td>\n",
       "      <td>2018</td>\n",
       "      <td>0.5</td>\n",
       "      <td>-0.866025</td>\n",
       "      <td>-2.012985e-01</td>\n",
       "      <td>0.979530</td>\n",
       "      <td>0.974928</td>\n",
       "      <td>-0.222521</td>\n",
       "      <td>-9.659258e-01</td>\n",
       "      <td>-2.588190e-01</td>\n",
       "    </tr>\n",
       "    <tr>\n",
       "      <th>2341659</th>\n",
       "      <td>2341659</td>\n",
       "      <td>0.090909</td>\n",
       "      <td>0.181818</td>\n",
       "      <td>0.272727</td>\n",
       "      <td>0.363636</td>\n",
       "      <td>0.454545</td>\n",
       "      <td>0.545455</td>\n",
       "      <td>0.636364</td>\n",
       "      <td>0.727273</td>\n",
       "      <td>0.818182</td>\n",
       "      <td>...</td>\n",
       "      <td>NaN</td>\n",
       "      <td>2018</td>\n",
       "      <td>0.5</td>\n",
       "      <td>-0.866025</td>\n",
       "      <td>-2.012985e-01</td>\n",
       "      <td>0.979530</td>\n",
       "      <td>0.974928</td>\n",
       "      <td>-0.222521</td>\n",
       "      <td>-9.659258e-01</td>\n",
       "      <td>-2.588190e-01</td>\n",
       "    </tr>\n",
       "    <tr>\n",
       "      <th>2341660</th>\n",
       "      <td>2341660</td>\n",
       "      <td>0.090909</td>\n",
       "      <td>0.181818</td>\n",
       "      <td>0.272727</td>\n",
       "      <td>0.363636</td>\n",
       "      <td>0.454545</td>\n",
       "      <td>0.545455</td>\n",
       "      <td>0.636364</td>\n",
       "      <td>0.727273</td>\n",
       "      <td>0.818182</td>\n",
       "      <td>...</td>\n",
       "      <td>NaN</td>\n",
       "      <td>2018</td>\n",
       "      <td>0.5</td>\n",
       "      <td>-0.866025</td>\n",
       "      <td>-2.012985e-01</td>\n",
       "      <td>0.979530</td>\n",
       "      <td>0.974928</td>\n",
       "      <td>-0.222521</td>\n",
       "      <td>-1.000000e+00</td>\n",
       "      <td>-1.836970e-16</td>\n",
       "    </tr>\n",
       "    <tr>\n",
       "      <th>2341661</th>\n",
       "      <td>2341661</td>\n",
       "      <td>0.090909</td>\n",
       "      <td>0.181818</td>\n",
       "      <td>0.272727</td>\n",
       "      <td>0.363636</td>\n",
       "      <td>0.454545</td>\n",
       "      <td>0.545455</td>\n",
       "      <td>0.636364</td>\n",
       "      <td>0.727273</td>\n",
       "      <td>0.818182</td>\n",
       "      <td>...</td>\n",
       "      <td>NaN</td>\n",
       "      <td>2018</td>\n",
       "      <td>0.5</td>\n",
       "      <td>-0.866025</td>\n",
       "      <td>-2.012985e-01</td>\n",
       "      <td>0.979530</td>\n",
       "      <td>0.974928</td>\n",
       "      <td>-0.222521</td>\n",
       "      <td>-8.660254e-01</td>\n",
       "      <td>5.000000e-01</td>\n",
       "    </tr>\n",
       "    <tr>\n",
       "      <th>2341662</th>\n",
       "      <td>2341662</td>\n",
       "      <td>0.090909</td>\n",
       "      <td>0.181818</td>\n",
       "      <td>0.272727</td>\n",
       "      <td>0.363636</td>\n",
       "      <td>0.454545</td>\n",
       "      <td>0.545455</td>\n",
       "      <td>0.636364</td>\n",
       "      <td>0.727273</td>\n",
       "      <td>0.818182</td>\n",
       "      <td>...</td>\n",
       "      <td>NaN</td>\n",
       "      <td>2018</td>\n",
       "      <td>0.5</td>\n",
       "      <td>-0.866025</td>\n",
       "      <td>-2.012985e-01</td>\n",
       "      <td>0.979530</td>\n",
       "      <td>0.974928</td>\n",
       "      <td>-0.222521</td>\n",
       "      <td>-5.000000e-01</td>\n",
       "      <td>8.660254e-01</td>\n",
       "    </tr>\n",
       "    <tr>\n",
       "      <th>2341663</th>\n",
       "      <td>2341663</td>\n",
       "      <td>0.090909</td>\n",
       "      <td>0.181818</td>\n",
       "      <td>0.272727</td>\n",
       "      <td>0.363636</td>\n",
       "      <td>0.454545</td>\n",
       "      <td>0.545455</td>\n",
       "      <td>0.636364</td>\n",
       "      <td>0.727273</td>\n",
       "      <td>0.818182</td>\n",
       "      <td>...</td>\n",
       "      <td>NaN</td>\n",
       "      <td>2018</td>\n",
       "      <td>0.5</td>\n",
       "      <td>-0.866025</td>\n",
       "      <td>-2.449294e-16</td>\n",
       "      <td>1.000000</td>\n",
       "      <td>0.433884</td>\n",
       "      <td>-0.900969</td>\n",
       "      <td>1.000000e+00</td>\n",
       "      <td>6.123234e-17</td>\n",
       "    </tr>\n",
       "    <tr>\n",
       "      <th>2341664</th>\n",
       "      <td>2341664</td>\n",
       "      <td>0.090909</td>\n",
       "      <td>0.181818</td>\n",
       "      <td>0.272727</td>\n",
       "      <td>0.363636</td>\n",
       "      <td>0.454545</td>\n",
       "      <td>0.545455</td>\n",
       "      <td>0.636364</td>\n",
       "      <td>0.727273</td>\n",
       "      <td>0.818182</td>\n",
       "      <td>...</td>\n",
       "      <td>NaN</td>\n",
       "      <td>2018</td>\n",
       "      <td>0.5</td>\n",
       "      <td>-0.866025</td>\n",
       "      <td>-2.449294e-16</td>\n",
       "      <td>1.000000</td>\n",
       "      <td>0.433884</td>\n",
       "      <td>-0.900969</td>\n",
       "      <td>1.224647e-16</td>\n",
       "      <td>-1.000000e+00</td>\n",
       "    </tr>\n",
       "    <tr>\n",
       "      <th>2341665</th>\n",
       "      <td>2341665</td>\n",
       "      <td>0.090909</td>\n",
       "      <td>0.181818</td>\n",
       "      <td>0.272727</td>\n",
       "      <td>0.363636</td>\n",
       "      <td>0.454545</td>\n",
       "      <td>0.545455</td>\n",
       "      <td>0.636364</td>\n",
       "      <td>0.727273</td>\n",
       "      <td>0.818182</td>\n",
       "      <td>...</td>\n",
       "      <td>NaN</td>\n",
       "      <td>2018</td>\n",
       "      <td>0.5</td>\n",
       "      <td>-0.866025</td>\n",
       "      <td>-2.449294e-16</td>\n",
       "      <td>1.000000</td>\n",
       "      <td>0.433884</td>\n",
       "      <td>-0.900969</td>\n",
       "      <td>1.224647e-16</td>\n",
       "      <td>-1.000000e+00</td>\n",
       "    </tr>\n",
       "    <tr>\n",
       "      <th>2341666</th>\n",
       "      <td>2341666</td>\n",
       "      <td>0.090909</td>\n",
       "      <td>0.181818</td>\n",
       "      <td>0.272727</td>\n",
       "      <td>0.363636</td>\n",
       "      <td>0.454545</td>\n",
       "      <td>0.545455</td>\n",
       "      <td>0.636364</td>\n",
       "      <td>0.727273</td>\n",
       "      <td>0.818182</td>\n",
       "      <td>...</td>\n",
       "      <td>NaN</td>\n",
       "      <td>2018</td>\n",
       "      <td>0.5</td>\n",
       "      <td>-0.866025</td>\n",
       "      <td>-2.449294e-16</td>\n",
       "      <td>1.000000</td>\n",
       "      <td>0.433884</td>\n",
       "      <td>-0.900969</td>\n",
       "      <td>-2.588190e-01</td>\n",
       "      <td>-9.659258e-01</td>\n",
       "    </tr>\n",
       "    <tr>\n",
       "      <th>2341667</th>\n",
       "      <td>2341667</td>\n",
       "      <td>0.090909</td>\n",
       "      <td>0.181818</td>\n",
       "      <td>0.272727</td>\n",
       "      <td>0.363636</td>\n",
       "      <td>0.454545</td>\n",
       "      <td>0.545455</td>\n",
       "      <td>0.636364</td>\n",
       "      <td>0.727273</td>\n",
       "      <td>0.818182</td>\n",
       "      <td>...</td>\n",
       "      <td>NaN</td>\n",
       "      <td>2018</td>\n",
       "      <td>0.5</td>\n",
       "      <td>-0.866025</td>\n",
       "      <td>-2.449294e-16</td>\n",
       "      <td>1.000000</td>\n",
       "      <td>0.433884</td>\n",
       "      <td>-0.900969</td>\n",
       "      <td>-2.588190e-01</td>\n",
       "      <td>-9.659258e-01</td>\n",
       "    </tr>\n",
       "    <tr>\n",
       "      <th>2341668</th>\n",
       "      <td>2341668</td>\n",
       "      <td>0.090909</td>\n",
       "      <td>0.181818</td>\n",
       "      <td>0.272727</td>\n",
       "      <td>0.363636</td>\n",
       "      <td>0.454545</td>\n",
       "      <td>0.545455</td>\n",
       "      <td>0.636364</td>\n",
       "      <td>0.727273</td>\n",
       "      <td>0.818182</td>\n",
       "      <td>...</td>\n",
       "      <td>NaN</td>\n",
       "      <td>2018</td>\n",
       "      <td>0.5</td>\n",
       "      <td>-0.866025</td>\n",
       "      <td>-2.449294e-16</td>\n",
       "      <td>1.000000</td>\n",
       "      <td>0.433884</td>\n",
       "      <td>-0.900969</td>\n",
       "      <td>-7.071068e-01</td>\n",
       "      <td>-7.071068e-01</td>\n",
       "    </tr>\n",
       "    <tr>\n",
       "      <th>2341669</th>\n",
       "      <td>2341669</td>\n",
       "      <td>0.090909</td>\n",
       "      <td>0.181818</td>\n",
       "      <td>0.272727</td>\n",
       "      <td>0.363636</td>\n",
       "      <td>0.454545</td>\n",
       "      <td>0.545455</td>\n",
       "      <td>0.636364</td>\n",
       "      <td>0.727273</td>\n",
       "      <td>0.818182</td>\n",
       "      <td>...</td>\n",
       "      <td>NaN</td>\n",
       "      <td>2018</td>\n",
       "      <td>0.5</td>\n",
       "      <td>-0.866025</td>\n",
       "      <td>-2.449294e-16</td>\n",
       "      <td>1.000000</td>\n",
       "      <td>0.433884</td>\n",
       "      <td>-0.900969</td>\n",
       "      <td>-9.659258e-01</td>\n",
       "      <td>-2.588190e-01</td>\n",
       "    </tr>\n",
       "    <tr>\n",
       "      <th>2341670</th>\n",
       "      <td>2341670</td>\n",
       "      <td>0.090909</td>\n",
       "      <td>0.181818</td>\n",
       "      <td>0.272727</td>\n",
       "      <td>0.363636</td>\n",
       "      <td>0.454545</td>\n",
       "      <td>0.545455</td>\n",
       "      <td>0.636364</td>\n",
       "      <td>0.727273</td>\n",
       "      <td>0.818182</td>\n",
       "      <td>...</td>\n",
       "      <td>NaN</td>\n",
       "      <td>2018</td>\n",
       "      <td>0.5</td>\n",
       "      <td>-0.866025</td>\n",
       "      <td>-2.449294e-16</td>\n",
       "      <td>1.000000</td>\n",
       "      <td>0.433884</td>\n",
       "      <td>-0.900969</td>\n",
       "      <td>-9.659258e-01</td>\n",
       "      <td>-2.588190e-01</td>\n",
       "    </tr>\n",
       "    <tr>\n",
       "      <th>2341671</th>\n",
       "      <td>2341671</td>\n",
       "      <td>0.090909</td>\n",
       "      <td>0.181818</td>\n",
       "      <td>0.272727</td>\n",
       "      <td>0.363636</td>\n",
       "      <td>0.454545</td>\n",
       "      <td>0.545455</td>\n",
       "      <td>0.636364</td>\n",
       "      <td>0.727273</td>\n",
       "      <td>0.818182</td>\n",
       "      <td>...</td>\n",
       "      <td>NaN</td>\n",
       "      <td>2018</td>\n",
       "      <td>0.5</td>\n",
       "      <td>-0.866025</td>\n",
       "      <td>-2.449294e-16</td>\n",
       "      <td>1.000000</td>\n",
       "      <td>0.433884</td>\n",
       "      <td>-0.900969</td>\n",
       "      <td>-1.000000e+00</td>\n",
       "      <td>-1.836970e-16</td>\n",
       "    </tr>\n",
       "    <tr>\n",
       "      <th>2341672</th>\n",
       "      <td>2341672</td>\n",
       "      <td>0.090909</td>\n",
       "      <td>0.181818</td>\n",
       "      <td>0.272727</td>\n",
       "      <td>0.363636</td>\n",
       "      <td>0.454545</td>\n",
       "      <td>0.545455</td>\n",
       "      <td>0.636364</td>\n",
       "      <td>0.727273</td>\n",
       "      <td>0.818182</td>\n",
       "      <td>...</td>\n",
       "      <td>NaN</td>\n",
       "      <td>2018</td>\n",
       "      <td>0.5</td>\n",
       "      <td>-0.866025</td>\n",
       "      <td>-2.449294e-16</td>\n",
       "      <td>1.000000</td>\n",
       "      <td>0.433884</td>\n",
       "      <td>-0.900969</td>\n",
       "      <td>-9.659258e-01</td>\n",
       "      <td>2.588190e-01</td>\n",
       "    </tr>\n",
       "    <tr>\n",
       "      <th>2341673</th>\n",
       "      <td>2341673</td>\n",
       "      <td>0.090909</td>\n",
       "      <td>0.181818</td>\n",
       "      <td>0.272727</td>\n",
       "      <td>0.363636</td>\n",
       "      <td>0.454545</td>\n",
       "      <td>0.545455</td>\n",
       "      <td>0.636364</td>\n",
       "      <td>0.727273</td>\n",
       "      <td>0.818182</td>\n",
       "      <td>...</td>\n",
       "      <td>NaN</td>\n",
       "      <td>2018</td>\n",
       "      <td>0.5</td>\n",
       "      <td>-0.866025</td>\n",
       "      <td>-2.449294e-16</td>\n",
       "      <td>1.000000</td>\n",
       "      <td>0.433884</td>\n",
       "      <td>-0.900969</td>\n",
       "      <td>-9.659258e-01</td>\n",
       "      <td>2.588190e-01</td>\n",
       "    </tr>\n",
       "    <tr>\n",
       "      <th>2341674</th>\n",
       "      <td>2341674</td>\n",
       "      <td>0.090909</td>\n",
       "      <td>0.181818</td>\n",
       "      <td>0.272727</td>\n",
       "      <td>0.363636</td>\n",
       "      <td>0.454545</td>\n",
       "      <td>0.545455</td>\n",
       "      <td>0.636364</td>\n",
       "      <td>0.727273</td>\n",
       "      <td>0.818182</td>\n",
       "      <td>...</td>\n",
       "      <td>NaN</td>\n",
       "      <td>2018</td>\n",
       "      <td>0.5</td>\n",
       "      <td>-0.866025</td>\n",
       "      <td>-2.449294e-16</td>\n",
       "      <td>1.000000</td>\n",
       "      <td>0.433884</td>\n",
       "      <td>-0.900969</td>\n",
       "      <td>-2.588190e-01</td>\n",
       "      <td>9.659258e-01</td>\n",
       "    </tr>\n",
       "    <tr>\n",
       "      <th>2341675</th>\n",
       "      <td>2341675</td>\n",
       "      <td>0.090909</td>\n",
       "      <td>0.181818</td>\n",
       "      <td>0.272727</td>\n",
       "      <td>0.363636</td>\n",
       "      <td>0.454545</td>\n",
       "      <td>0.545455</td>\n",
       "      <td>0.636364</td>\n",
       "      <td>0.727273</td>\n",
       "      <td>0.818182</td>\n",
       "      <td>...</td>\n",
       "      <td>NaN</td>\n",
       "      <td>2018</td>\n",
       "      <td>0.5</td>\n",
       "      <td>-0.866025</td>\n",
       "      <td>-2.012985e-01</td>\n",
       "      <td>0.979530</td>\n",
       "      <td>0.974928</td>\n",
       "      <td>-0.222521</td>\n",
       "      <td>-7.071068e-01</td>\n",
       "      <td>7.071068e-01</td>\n",
       "    </tr>\n",
       "    <tr>\n",
       "      <th>2341676</th>\n",
       "      <td>2341676</td>\n",
       "      <td>0.090909</td>\n",
       "      <td>0.181818</td>\n",
       "      <td>0.272727</td>\n",
       "      <td>0.363636</td>\n",
       "      <td>0.454545</td>\n",
       "      <td>0.545455</td>\n",
       "      <td>0.636364</td>\n",
       "      <td>0.727273</td>\n",
       "      <td>0.818182</td>\n",
       "      <td>...</td>\n",
       "      <td>NaN</td>\n",
       "      <td>2018</td>\n",
       "      <td>0.5</td>\n",
       "      <td>-0.866025</td>\n",
       "      <td>-2.449294e-16</td>\n",
       "      <td>1.000000</td>\n",
       "      <td>0.433884</td>\n",
       "      <td>-0.900969</td>\n",
       "      <td>-2.588190e-01</td>\n",
       "      <td>-9.659258e-01</td>\n",
       "    </tr>\n",
       "    <tr>\n",
       "      <th>2341677</th>\n",
       "      <td>2341677</td>\n",
       "      <td>0.090909</td>\n",
       "      <td>0.181818</td>\n",
       "      <td>0.272727</td>\n",
       "      <td>0.363636</td>\n",
       "      <td>0.454545</td>\n",
       "      <td>0.545455</td>\n",
       "      <td>0.636364</td>\n",
       "      <td>0.727273</td>\n",
       "      <td>0.818182</td>\n",
       "      <td>...</td>\n",
       "      <td>NaN</td>\n",
       "      <td>2018</td>\n",
       "      <td>0.5</td>\n",
       "      <td>-0.866025</td>\n",
       "      <td>-2.449294e-16</td>\n",
       "      <td>1.000000</td>\n",
       "      <td>0.433884</td>\n",
       "      <td>-0.900969</td>\n",
       "      <td>-5.000000e-01</td>\n",
       "      <td>-8.660254e-01</td>\n",
       "    </tr>\n",
       "    <tr>\n",
       "      <th>2341678</th>\n",
       "      <td>2341678</td>\n",
       "      <td>0.090909</td>\n",
       "      <td>0.181818</td>\n",
       "      <td>0.272727</td>\n",
       "      <td>0.363636</td>\n",
       "      <td>0.454545</td>\n",
       "      <td>0.545455</td>\n",
       "      <td>0.636364</td>\n",
       "      <td>0.727273</td>\n",
       "      <td>0.818182</td>\n",
       "      <td>...</td>\n",
       "      <td>NaN</td>\n",
       "      <td>2018</td>\n",
       "      <td>0.5</td>\n",
       "      <td>-0.866025</td>\n",
       "      <td>-2.449294e-16</td>\n",
       "      <td>1.000000</td>\n",
       "      <td>0.433884</td>\n",
       "      <td>-0.900969</td>\n",
       "      <td>-7.071068e-01</td>\n",
       "      <td>-7.071068e-01</td>\n",
       "    </tr>\n",
       "    <tr>\n",
       "      <th>2341679</th>\n",
       "      <td>2341679</td>\n",
       "      <td>0.090909</td>\n",
       "      <td>0.181818</td>\n",
       "      <td>0.272727</td>\n",
       "      <td>0.363636</td>\n",
       "      <td>0.454545</td>\n",
       "      <td>0.545455</td>\n",
       "      <td>0.636364</td>\n",
       "      <td>0.727273</td>\n",
       "      <td>0.818182</td>\n",
       "      <td>...</td>\n",
       "      <td>NaN</td>\n",
       "      <td>2018</td>\n",
       "      <td>0.5</td>\n",
       "      <td>-0.866025</td>\n",
       "      <td>-2.449294e-16</td>\n",
       "      <td>1.000000</td>\n",
       "      <td>0.433884</td>\n",
       "      <td>-0.900969</td>\n",
       "      <td>5.000000e-01</td>\n",
       "      <td>-8.660254e-01</td>\n",
       "    </tr>\n",
       "    <tr>\n",
       "      <th>2341680</th>\n",
       "      <td>2341680</td>\n",
       "      <td>0.090909</td>\n",
       "      <td>0.181818</td>\n",
       "      <td>0.272727</td>\n",
       "      <td>0.363636</td>\n",
       "      <td>0.454545</td>\n",
       "      <td>0.545455</td>\n",
       "      <td>0.636364</td>\n",
       "      <td>0.727273</td>\n",
       "      <td>0.818182</td>\n",
       "      <td>...</td>\n",
       "      <td>NaN</td>\n",
       "      <td>2018</td>\n",
       "      <td>0.5</td>\n",
       "      <td>-0.866025</td>\n",
       "      <td>8.486443e-01</td>\n",
       "      <td>0.528964</td>\n",
       "      <td>-0.974928</td>\n",
       "      <td>-0.222521</td>\n",
       "      <td>9.659258e-01</td>\n",
       "      <td>-2.588190e-01</td>\n",
       "    </tr>\n",
       "  </tbody>\n",
       "</table>\n",
       "<p>2341681 rows × 24 columns</p>\n",
       "</div>"
      ],
      "text/plain": [
       "         Unnamed: 0   event_0   event_1   event_2   event_3   event_4  \\\n",
       "0                 0 -0.909091 -0.818182 -0.727273 -0.636364 -0.545455   \n",
       "1                 1 -0.909091 -0.818182 -0.727273 -0.636364 -0.545455   \n",
       "2                 2 -0.909091 -0.818182 -0.727273 -0.636364 -0.545455   \n",
       "3                 3 -0.909091 -0.818182 -0.727273 -0.636364 -0.545455   \n",
       "4                 4 -0.909091 -0.818182 -0.727273 -0.636364 -0.545455   \n",
       "5                 5  0.090909 -0.818182 -0.727273 -0.636364 -0.545455   \n",
       "6                 6 -0.909091 -0.818182 -0.727273 -0.636364 -0.545455   \n",
       "7                 7 -0.909091 -0.818182 -0.727273 -0.636364 -0.545455   \n",
       "8                 8 -0.909091 -0.818182 -0.727273 -0.636364 -0.545455   \n",
       "9                 9  0.090909  0.181818 -0.727273 -0.636364 -0.545455   \n",
       "10               10 -0.909091 -0.818182 -0.727273 -0.636364 -0.545455   \n",
       "11               11 -0.909091 -0.818182 -0.727273 -0.636364 -0.545455   \n",
       "12               12 -0.909091 -0.818182 -0.727273 -0.636364 -0.545455   \n",
       "13               13 -0.909091 -0.818182 -0.727273 -0.636364 -0.545455   \n",
       "14               14  0.090909  0.181818 -0.727273 -0.636364 -0.545455   \n",
       "15               15 -0.909091 -0.818182 -0.727273 -0.636364 -0.545455   \n",
       "16               16 -0.909091 -0.818182 -0.727273 -0.636364 -0.545455   \n",
       "17               17 -0.909091 -0.818182 -0.727273 -0.636364 -0.545455   \n",
       "18               18  0.090909 -0.818182 -0.727273 -0.636364 -0.545455   \n",
       "19               19 -0.909091 -0.818182 -0.727273 -0.636364 -0.545455   \n",
       "20               20  0.090909  0.181818 -0.727273 -0.636364 -0.545455   \n",
       "21               21 -0.909091 -0.818182 -0.727273 -0.636364 -0.545455   \n",
       "22               22 -0.909091 -0.818182 -0.727273 -0.636364 -0.545455   \n",
       "23               23 -0.909091 -0.818182 -0.727273 -0.636364 -0.545455   \n",
       "24               24 -0.909091 -0.818182 -0.727273 -0.636364 -0.545455   \n",
       "25               25  0.090909  0.181818  0.272727 -0.636364 -0.545455   \n",
       "26               26 -0.909091 -0.818182 -0.727273 -0.636364 -0.545455   \n",
       "27               27 -0.909091 -0.818182 -0.727273 -0.636364 -0.545455   \n",
       "28               28 -0.909091 -0.818182 -0.727273 -0.636364 -0.545455   \n",
       "29               29  0.090909 -0.818182 -0.727273 -0.636364 -0.545455   \n",
       "...             ...       ...       ...       ...       ...       ...   \n",
       "2341651     2341651  0.090909  0.181818  0.272727  0.363636  0.454545   \n",
       "2341652     2341652  0.090909  0.181818  0.272727  0.363636  0.454545   \n",
       "2341653     2341653  0.090909  0.181818  0.272727  0.363636  0.454545   \n",
       "2341654     2341654  0.090909  0.181818  0.272727  0.363636  0.454545   \n",
       "2341655     2341655  0.090909  0.181818  0.272727  0.363636  0.454545   \n",
       "2341656     2341656  0.090909  0.181818  0.272727  0.363636  0.454545   \n",
       "2341657     2341657  0.090909  0.181818  0.272727  0.363636  0.454545   \n",
       "2341658     2341658  0.090909  0.181818  0.272727  0.363636  0.454545   \n",
       "2341659     2341659  0.090909  0.181818  0.272727  0.363636  0.454545   \n",
       "2341660     2341660  0.090909  0.181818  0.272727  0.363636  0.454545   \n",
       "2341661     2341661  0.090909  0.181818  0.272727  0.363636  0.454545   \n",
       "2341662     2341662  0.090909  0.181818  0.272727  0.363636  0.454545   \n",
       "2341663     2341663  0.090909  0.181818  0.272727  0.363636  0.454545   \n",
       "2341664     2341664  0.090909  0.181818  0.272727  0.363636  0.454545   \n",
       "2341665     2341665  0.090909  0.181818  0.272727  0.363636  0.454545   \n",
       "2341666     2341666  0.090909  0.181818  0.272727  0.363636  0.454545   \n",
       "2341667     2341667  0.090909  0.181818  0.272727  0.363636  0.454545   \n",
       "2341668     2341668  0.090909  0.181818  0.272727  0.363636  0.454545   \n",
       "2341669     2341669  0.090909  0.181818  0.272727  0.363636  0.454545   \n",
       "2341670     2341670  0.090909  0.181818  0.272727  0.363636  0.454545   \n",
       "2341671     2341671  0.090909  0.181818  0.272727  0.363636  0.454545   \n",
       "2341672     2341672  0.090909  0.181818  0.272727  0.363636  0.454545   \n",
       "2341673     2341673  0.090909  0.181818  0.272727  0.363636  0.454545   \n",
       "2341674     2341674  0.090909  0.181818  0.272727  0.363636  0.454545   \n",
       "2341675     2341675  0.090909  0.181818  0.272727  0.363636  0.454545   \n",
       "2341676     2341676  0.090909  0.181818  0.272727  0.363636  0.454545   \n",
       "2341677     2341677  0.090909  0.181818  0.272727  0.363636  0.454545   \n",
       "2341678     2341678  0.090909  0.181818  0.272727  0.363636  0.454545   \n",
       "2341679     2341679  0.090909  0.181818  0.272727  0.363636  0.454545   \n",
       "2341680     2341680  0.090909  0.181818  0.272727  0.363636  0.454545   \n",
       "\n",
       "          event_5   event_6   event_7   event_8      ...       storage  year  \\\n",
       "0       -0.454545 -0.363636 -0.272727 -0.181818      ...          32GB  2018   \n",
       "1       -0.454545 -0.363636 -0.272727 -0.181818      ...          32GB  2018   \n",
       "2       -0.454545 -0.363636 -0.272727 -0.181818      ...          64GB  2018   \n",
       "3       -0.454545 -0.363636 -0.272727 -0.181818      ...         128GB  2018   \n",
       "4       -0.454545 -0.363636 -0.272727 -0.181818      ...          32GB  2018   \n",
       "5       -0.454545 -0.363636 -0.272727 -0.181818      ...           NaN  2018   \n",
       "6       -0.454545 -0.363636 -0.272727 -0.181818      ...          16GB  2018   \n",
       "7       -0.454545 -0.363636 -0.272727 -0.181818      ...         128GB  2018   \n",
       "8       -0.454545 -0.363636 -0.272727 -0.181818      ...          32GB  2018   \n",
       "9       -0.454545 -0.363636 -0.272727 -0.181818      ...           NaN  2018   \n",
       "10      -0.454545 -0.363636 -0.272727 -0.181818      ...          32GB  2018   \n",
       "11      -0.454545 -0.363636 -0.272727 -0.181818      ...          32GB  2018   \n",
       "12      -0.454545 -0.363636 -0.272727 -0.181818      ...          16GB  2018   \n",
       "13      -0.454545 -0.363636 -0.272727 -0.181818      ...          16GB  2018   \n",
       "14      -0.454545 -0.363636 -0.272727 -0.181818      ...           NaN  2018   \n",
       "15      -0.454545 -0.363636 -0.272727 -0.181818      ...          32GB  2018   \n",
       "16      -0.454545 -0.363636 -0.272727 -0.181818      ...          32GB  2018   \n",
       "17      -0.454545 -0.363636 -0.272727 -0.181818      ...          64GB  2018   \n",
       "18      -0.454545 -0.363636 -0.272727 -0.181818      ...           NaN  2018   \n",
       "19      -0.454545 -0.363636 -0.272727 -0.181818      ...          16GB  2018   \n",
       "20      -0.454545 -0.363636 -0.272727 -0.181818      ...           NaN  2018   \n",
       "21      -0.454545 -0.363636 -0.272727 -0.181818      ...          32GB  2018   \n",
       "22      -0.454545 -0.363636 -0.272727 -0.181818      ...          16GB  2018   \n",
       "23      -0.454545 -0.363636 -0.272727 -0.181818      ...          64GB  2018   \n",
       "24      -0.454545 -0.363636 -0.272727 -0.181818      ...          64GB  2018   \n",
       "25      -0.454545 -0.363636 -0.272727 -0.181818      ...           NaN  2018   \n",
       "26      -0.454545 -0.363636 -0.272727 -0.181818      ...          32GB  2018   \n",
       "27      -0.454545 -0.363636 -0.272727 -0.181818      ...          32GB  2018   \n",
       "28      -0.454545 -0.363636 -0.272727 -0.181818      ...          16GB  2018   \n",
       "29      -0.454545 -0.363636 -0.272727 -0.181818      ...           NaN  2018   \n",
       "...           ...       ...       ...       ...      ...           ...   ...   \n",
       "2341651  0.545455  0.636364  0.727273  0.818182      ...           NaN  2018   \n",
       "2341652  0.545455  0.636364  0.727273  0.818182      ...           NaN  2018   \n",
       "2341653  0.545455  0.636364  0.727273  0.818182      ...           NaN  2018   \n",
       "2341654  0.545455  0.636364  0.727273  0.818182      ...           NaN  2018   \n",
       "2341655  0.545455  0.636364  0.727273  0.818182      ...           NaN  2018   \n",
       "2341656  0.545455  0.636364  0.727273  0.818182      ...           NaN  2018   \n",
       "2341657  0.545455  0.636364  0.727273  0.818182      ...           NaN  2018   \n",
       "2341658  0.545455  0.636364  0.727273  0.818182      ...           NaN  2018   \n",
       "2341659  0.545455  0.636364  0.727273  0.818182      ...           NaN  2018   \n",
       "2341660  0.545455  0.636364  0.727273  0.818182      ...           NaN  2018   \n",
       "2341661  0.545455  0.636364  0.727273  0.818182      ...           NaN  2018   \n",
       "2341662  0.545455  0.636364  0.727273  0.818182      ...           NaN  2018   \n",
       "2341663  0.545455  0.636364  0.727273  0.818182      ...           NaN  2018   \n",
       "2341664  0.545455  0.636364  0.727273  0.818182      ...           NaN  2018   \n",
       "2341665  0.545455  0.636364  0.727273  0.818182      ...           NaN  2018   \n",
       "2341666  0.545455  0.636364  0.727273  0.818182      ...           NaN  2018   \n",
       "2341667  0.545455  0.636364  0.727273  0.818182      ...           NaN  2018   \n",
       "2341668  0.545455  0.636364  0.727273  0.818182      ...           NaN  2018   \n",
       "2341669  0.545455  0.636364  0.727273  0.818182      ...           NaN  2018   \n",
       "2341670  0.545455  0.636364  0.727273  0.818182      ...           NaN  2018   \n",
       "2341671  0.545455  0.636364  0.727273  0.818182      ...           NaN  2018   \n",
       "2341672  0.545455  0.636364  0.727273  0.818182      ...           NaN  2018   \n",
       "2341673  0.545455  0.636364  0.727273  0.818182      ...           NaN  2018   \n",
       "2341674  0.545455  0.636364  0.727273  0.818182      ...           NaN  2018   \n",
       "2341675  0.545455  0.636364  0.727273  0.818182      ...           NaN  2018   \n",
       "2341676  0.545455  0.636364  0.727273  0.818182      ...           NaN  2018   \n",
       "2341677  0.545455  0.636364  0.727273  0.818182      ...           NaN  2018   \n",
       "2341678  0.545455  0.636364  0.727273  0.818182      ...           NaN  2018   \n",
       "2341679  0.545455  0.636364  0.727273  0.818182      ...           NaN  2018   \n",
       "2341680  0.545455  0.636364  0.727273  0.818182      ...           NaN  2018   \n",
       "\n",
       "         month_sin  month_cos       day_sin   day_cos  weekday_sin  \\\n",
       "0              0.5  -0.866025 -4.853020e-01 -0.874347    -0.433884   \n",
       "1              0.5  -0.866025 -4.853020e-01 -0.874347    -0.433884   \n",
       "2              0.5  -0.866025 -4.853020e-01 -0.874347    -0.433884   \n",
       "3              0.5  -0.866025 -4.853020e-01 -0.874347    -0.433884   \n",
       "4              0.5  -0.866025 -4.853020e-01 -0.874347    -0.433884   \n",
       "5              0.5  -0.866025 -4.853020e-01 -0.874347    -0.433884   \n",
       "6              0.5  -0.866025 -4.853020e-01 -0.874347    -0.433884   \n",
       "7              0.5  -0.866025 -4.853020e-01 -0.874347    -0.433884   \n",
       "8              0.5  -0.866025 -4.853020e-01 -0.874347    -0.433884   \n",
       "9              0.5  -0.866025 -4.853020e-01 -0.874347    -0.433884   \n",
       "10             0.5  -0.866025 -4.853020e-01 -0.874347    -0.433884   \n",
       "11             0.5  -0.866025 -4.853020e-01 -0.874347    -0.433884   \n",
       "12             0.5  -0.866025 -4.853020e-01 -0.874347    -0.433884   \n",
       "13             0.5  -0.866025 -4.853020e-01 -0.874347    -0.433884   \n",
       "14             0.5  -0.866025 -4.853020e-01 -0.874347    -0.433884   \n",
       "15             0.5  -0.866025 -4.853020e-01 -0.874347    -0.433884   \n",
       "16             0.5  -0.866025 -4.853020e-01 -0.874347    -0.433884   \n",
       "17             0.5  -0.866025 -4.853020e-01 -0.874347    -0.433884   \n",
       "18             0.5  -0.866025 -4.853020e-01 -0.874347    -0.433884   \n",
       "19             0.5  -0.866025 -4.853020e-01 -0.874347    -0.433884   \n",
       "20             0.5  -0.866025 -4.853020e-01 -0.874347    -0.433884   \n",
       "21             0.5  -0.866025 -4.853020e-01 -0.874347    -0.433884   \n",
       "22             0.5  -0.866025 -4.853020e-01 -0.874347    -0.433884   \n",
       "23             0.5  -0.866025 -4.853020e-01 -0.874347    -0.433884   \n",
       "24             0.5  -0.866025 -4.853020e-01 -0.874347    -0.433884   \n",
       "25             0.5  -0.866025 -4.853020e-01 -0.874347    -0.433884   \n",
       "26             0.5  -0.866025 -4.853020e-01 -0.874347    -0.433884   \n",
       "27             0.5  -0.866025 -4.853020e-01 -0.874347    -0.433884   \n",
       "28             0.5  -0.866025 -4.853020e-01 -0.874347    -0.433884   \n",
       "29             0.5  -0.866025 -4.853020e-01 -0.874347    -0.433884   \n",
       "...            ...        ...           ...       ...          ...   \n",
       "2341651        0.5  -0.866025 -2.012985e-01  0.979530     0.974928   \n",
       "2341652        0.5  -0.866025 -8.486443e-01  0.528964    -0.974928   \n",
       "2341653        0.5  -0.866025 -3.943559e-01  0.918958     0.781831   \n",
       "2341654        0.5  -0.866025 -2.012985e-01  0.979530     0.974928   \n",
       "2341655        0.5  -0.866025 -2.012985e-01  0.979530     0.974928   \n",
       "2341656        0.5  -0.866025 -2.012985e-01  0.979530     0.974928   \n",
       "2341657        0.5  -0.866025 -2.012985e-01  0.979530     0.974928   \n",
       "2341658        0.5  -0.866025 -2.012985e-01  0.979530     0.974928   \n",
       "2341659        0.5  -0.866025 -2.012985e-01  0.979530     0.974928   \n",
       "2341660        0.5  -0.866025 -2.012985e-01  0.979530     0.974928   \n",
       "2341661        0.5  -0.866025 -2.012985e-01  0.979530     0.974928   \n",
       "2341662        0.5  -0.866025 -2.012985e-01  0.979530     0.974928   \n",
       "2341663        0.5  -0.866025 -2.449294e-16  1.000000     0.433884   \n",
       "2341664        0.5  -0.866025 -2.449294e-16  1.000000     0.433884   \n",
       "2341665        0.5  -0.866025 -2.449294e-16  1.000000     0.433884   \n",
       "2341666        0.5  -0.866025 -2.449294e-16  1.000000     0.433884   \n",
       "2341667        0.5  -0.866025 -2.449294e-16  1.000000     0.433884   \n",
       "2341668        0.5  -0.866025 -2.449294e-16  1.000000     0.433884   \n",
       "2341669        0.5  -0.866025 -2.449294e-16  1.000000     0.433884   \n",
       "2341670        0.5  -0.866025 -2.449294e-16  1.000000     0.433884   \n",
       "2341671        0.5  -0.866025 -2.449294e-16  1.000000     0.433884   \n",
       "2341672        0.5  -0.866025 -2.449294e-16  1.000000     0.433884   \n",
       "2341673        0.5  -0.866025 -2.449294e-16  1.000000     0.433884   \n",
       "2341674        0.5  -0.866025 -2.449294e-16  1.000000     0.433884   \n",
       "2341675        0.5  -0.866025 -2.012985e-01  0.979530     0.974928   \n",
       "2341676        0.5  -0.866025 -2.449294e-16  1.000000     0.433884   \n",
       "2341677        0.5  -0.866025 -2.449294e-16  1.000000     0.433884   \n",
       "2341678        0.5  -0.866025 -2.449294e-16  1.000000     0.433884   \n",
       "2341679        0.5  -0.866025 -2.449294e-16  1.000000     0.433884   \n",
       "2341680        0.5  -0.866025  8.486443e-01  0.528964    -0.974928   \n",
       "\n",
       "         weekday_cos      hour_sin      hour_cos  \n",
       "0          -0.900969  0.000000e+00  1.000000e+00  \n",
       "1          -0.900969  0.000000e+00  1.000000e+00  \n",
       "2          -0.900969  0.000000e+00  1.000000e+00  \n",
       "3          -0.900969  0.000000e+00  1.000000e+00  \n",
       "4          -0.900969  0.000000e+00  1.000000e+00  \n",
       "5          -0.900969  0.000000e+00  1.000000e+00  \n",
       "6          -0.900969  0.000000e+00  1.000000e+00  \n",
       "7          -0.900969  0.000000e+00  1.000000e+00  \n",
       "8          -0.900969  0.000000e+00  1.000000e+00  \n",
       "9          -0.900969  0.000000e+00  1.000000e+00  \n",
       "10         -0.900969  0.000000e+00  1.000000e+00  \n",
       "11         -0.900969  0.000000e+00  1.000000e+00  \n",
       "12         -0.900969  0.000000e+00  1.000000e+00  \n",
       "13         -0.900969  0.000000e+00  1.000000e+00  \n",
       "14         -0.900969  0.000000e+00  1.000000e+00  \n",
       "15         -0.900969  0.000000e+00  1.000000e+00  \n",
       "16         -0.900969  0.000000e+00  1.000000e+00  \n",
       "17         -0.900969  0.000000e+00  1.000000e+00  \n",
       "18         -0.900969  0.000000e+00  1.000000e+00  \n",
       "19         -0.900969  0.000000e+00  1.000000e+00  \n",
       "20         -0.900969  0.000000e+00  1.000000e+00  \n",
       "21         -0.900969  0.000000e+00  1.000000e+00  \n",
       "22         -0.900969  0.000000e+00  1.000000e+00  \n",
       "23         -0.900969  0.000000e+00  1.000000e+00  \n",
       "24         -0.900969  0.000000e+00  1.000000e+00  \n",
       "25         -0.900969  0.000000e+00  1.000000e+00  \n",
       "26         -0.900969  0.000000e+00  1.000000e+00  \n",
       "27         -0.900969  0.000000e+00  1.000000e+00  \n",
       "28         -0.900969  0.000000e+00  1.000000e+00  \n",
       "29         -0.900969  0.000000e+00  1.000000e+00  \n",
       "...              ...           ...           ...  \n",
       "2341651    -0.222521  1.224647e-16 -1.000000e+00  \n",
       "2341652    -0.222521  1.224647e-16 -1.000000e+00  \n",
       "2341653     0.623490 -8.660254e-01  5.000000e-01  \n",
       "2341654    -0.222521 -7.071068e-01 -7.071068e-01  \n",
       "2341655    -0.222521 -8.660254e-01 -5.000000e-01  \n",
       "2341656    -0.222521 -7.071068e-01 -7.071068e-01  \n",
       "2341657    -0.222521 -9.659258e-01 -2.588190e-01  \n",
       "2341658    -0.222521 -9.659258e-01 -2.588190e-01  \n",
       "2341659    -0.222521 -9.659258e-01 -2.588190e-01  \n",
       "2341660    -0.222521 -1.000000e+00 -1.836970e-16  \n",
       "2341661    -0.222521 -8.660254e-01  5.000000e-01  \n",
       "2341662    -0.222521 -5.000000e-01  8.660254e-01  \n",
       "2341663    -0.900969  1.000000e+00  6.123234e-17  \n",
       "2341664    -0.900969  1.224647e-16 -1.000000e+00  \n",
       "2341665    -0.900969  1.224647e-16 -1.000000e+00  \n",
       "2341666    -0.900969 -2.588190e-01 -9.659258e-01  \n",
       "2341667    -0.900969 -2.588190e-01 -9.659258e-01  \n",
       "2341668    -0.900969 -7.071068e-01 -7.071068e-01  \n",
       "2341669    -0.900969 -9.659258e-01 -2.588190e-01  \n",
       "2341670    -0.900969 -9.659258e-01 -2.588190e-01  \n",
       "2341671    -0.900969 -1.000000e+00 -1.836970e-16  \n",
       "2341672    -0.900969 -9.659258e-01  2.588190e-01  \n",
       "2341673    -0.900969 -9.659258e-01  2.588190e-01  \n",
       "2341674    -0.900969 -2.588190e-01  9.659258e-01  \n",
       "2341675    -0.222521 -7.071068e-01  7.071068e-01  \n",
       "2341676    -0.900969 -2.588190e-01 -9.659258e-01  \n",
       "2341677    -0.900969 -5.000000e-01 -8.660254e-01  \n",
       "2341678    -0.900969 -7.071068e-01 -7.071068e-01  \n",
       "2341679    -0.900969  5.000000e-01 -8.660254e-01  \n",
       "2341680    -0.222521  9.659258e-01 -2.588190e-01  \n",
       "\n",
       "[2341681 rows x 24 columns]"
      ]
     },
     "execution_count": 36,
     "metadata": {},
     "output_type": "execute_result"
    }
   ],
   "source": [
    "data.fillna(value = {'condition' :0}, inplace=True)"
   ]
  },
  {
   "cell_type": "code",
   "execution_count": 33,
   "metadata": {},
   "outputs": [
    {
     "data": {
      "text/plain": [
       "array(['32GB', '64GB', '128GB', nan, '16GB', '8GB', '256GB', '4GB',\n",
       "       '512MB'], dtype=object)"
      ]
     },
     "execution_count": 33,
     "metadata": {},
     "output_type": "execute_result"
    }
   ],
   "source": [
    "data.storage.unique()"
   ]
  },
  {
   "cell_type": "code",
   "execution_count": 38,
   "metadata": {},
   "outputs": [],
   "source": [
    "storages = {'storage':{'32GB': 32, '64GB':64, '128GB':128, '16GB':16, '8GB':8, '256GB':256, '4GB':4,\n",
    "       '512MB':512}}"
   ]
  },
  {
   "cell_type": "code",
   "execution_count": 39,
   "metadata": {},
   "outputs": [],
   "source": [
    "data.replace(storages, inplace=True)"
   ]
  },
  {
   "cell_type": "code",
   "execution_count": 40,
   "metadata": {},
   "outputs": [
    {
     "data": {
      "text/plain": [
       "Unnamed: 0       int64\n",
       "event_0        float64\n",
       "event_1        float64\n",
       "event_2        float64\n",
       "event_3        float64\n",
       "event_4        float64\n",
       "event_5        float64\n",
       "event_6        float64\n",
       "event_7        float64\n",
       "event_8        float64\n",
       "event_9        float64\n",
       "sku            float64\n",
       "model            int16\n",
       "condition      float64\n",
       "storage        float64\n",
       "year             int64\n",
       "month_sin      float64\n",
       "month_cos      float64\n",
       "day_sin        float64\n",
       "day_cos        float64\n",
       "weekday_sin    float64\n",
       "weekday_cos    float64\n",
       "hour_sin       float64\n",
       "hour_cos       float64\n",
       "dtype: object"
      ]
     },
     "execution_count": 40,
     "metadata": {},
     "output_type": "execute_result"
    }
   ],
   "source": [
    "data.dtypes"
   ]
  },
  {
   "cell_type": "code",
   "execution_count": 1,
   "metadata": {},
   "outputs": [],
   "source": [
    "import pickle"
   ]
  },
  {
   "cell_type": "code",
   "execution_count": 47,
   "metadata": {},
   "outputs": [],
   "source": [
    "filename = 'data.pkl'\n",
    "with open(filename,'wb') as file:\n",
    "    pickle.dump(data, file)"
   ]
  },
  {
   "cell_type": "code",
   "execution_count": 4,
   "metadata": {},
   "outputs": [],
   "source": [
    "filename = 'data.pkl'\n",
    "with open(filename, 'rb') as file:\n",
    "    data = pickle.load(file)"
   ]
  },
  {
   "cell_type": "code",
   "execution_count": 5,
   "metadata": {},
   "outputs": [
    {
     "data": {
      "text/plain": [
       "Index(['Unnamed: 0', 'event_0', 'event_1', 'event_2', 'event_3', 'event_4',\n",
       "       'event_5', 'event_6', 'event_7', 'event_8', 'event_9', 'sku', 'model',\n",
       "       'condition', 'storage', 'year', 'month_sin', 'month_cos', 'day_sin',\n",
       "       'day_cos', 'weekday_sin', 'weekday_cos', 'hour_sin', 'hour_cos'],\n",
       "      dtype='object')"
      ]
     },
     "execution_count": 5,
     "metadata": {},
     "output_type": "execute_result"
    }
   ],
   "source": [
    "data.columns"
   ]
  },
  {
   "cell_type": "code",
   "execution_count": 48,
   "metadata": {},
   "outputs": [],
   "source": [
    "data.to_csv('data/dataJuli.csv')"
   ]
  },
  {
   "cell_type": "code",
   "execution_count": 7,
   "metadata": {},
   "outputs": [
    {
     "ename": "NameError",
     "evalue": "name 'data' is not defined",
     "output_type": "error",
     "traceback": [
      "\u001b[0;31m---------------------------------------------------------------------------\u001b[0m",
      "\u001b[0;31mNameError\u001b[0m                                 Traceback (most recent call last)",
      "\u001b[0;32m<ipython-input-7-3431ad2c371e>\u001b[0m in \u001b[0;36m<module>\u001b[0;34m()\u001b[0m\n\u001b[0;32m----> 1\u001b[0;31m \u001b[0mdata\u001b[0m\u001b[0;34m[\u001b[0m\u001b[0;34m'person'\u001b[0m\u001b[0;34m]\u001b[0m \u001b[0;34m=\u001b[0m \u001b[0mdf_events\u001b[0m\u001b[0;34m[\u001b[0m\u001b[0;34m'person'\u001b[0m\u001b[0;34m]\u001b[0m\u001b[0;34m\u001b[0m\u001b[0m\n\u001b[0m",
      "\u001b[0;31mNameError\u001b[0m: name 'data' is not defined"
     ]
    }
   ],
   "source": [
    "data['person'] = df_events['person']"
   ]
  },
  {
   "cell_type": "code",
   "execution_count": 7,
   "metadata": {},
   "outputs": [],
   "source": [
    "del df_events"
   ]
  },
  {
   "cell_type": "code",
   "execution_count": 8,
   "metadata": {},
   "outputs": [
    {
     "data": {
      "text/plain": [
       "Index(['Unnamed: 0', 'event_0', 'event_1', 'event_2', 'event_3', 'event_4',\n",
       "       'event_5', 'event_6', 'event_7', 'event_8', 'event_9', 'sku', 'model',\n",
       "       'condition', 'storage', 'year', 'month_sin', 'month_cos', 'day_sin',\n",
       "       'day_cos', 'weekday_sin', 'weekday_cos', 'hour_sin', 'hour_cos',\n",
       "       'person'],\n",
       "      dtype='object')"
      ]
     },
     "execution_count": 8,
     "metadata": {},
     "output_type": "execute_result"
    }
   ],
   "source": [
    "data.columns"
   ]
  },
  {
   "cell_type": "code",
   "execution_count": 9,
   "metadata": {},
   "outputs": [],
   "source": [
    "label = pd.read_csv('data/fiuba-trocafone-tp2-final-set/labels_training_set.csv')"
   ]
  },
  {
   "cell_type": "code",
   "execution_count": 10,
   "metadata": {},
   "outputs": [
    {
     "data": {
      "text/plain": [
       "Index(['person', 'label'], dtype='object')"
      ]
     },
     "execution_count": 10,
     "metadata": {},
     "output_type": "execute_result"
    }
   ],
   "source": [
    "label.columns"
   ]
  },
  {
   "cell_type": "code",
   "execution_count": 11,
   "metadata": {},
   "outputs": [],
   "source": [
    "train = pd.merge(data, label, on = 'person', how = 'right')"
   ]
  },
  {
   "cell_type": "code",
   "execution_count": 12,
   "metadata": {},
   "outputs": [
    {
     "data": {
      "text/plain": [
       "Index(['Unnamed: 0', 'event_0', 'event_1', 'event_2', 'event_3', 'event_4',\n",
       "       'event_5', 'event_6', 'event_7', 'event_8', 'event_9', 'sku', 'model',\n",
       "       'condition', 'storage', 'year', 'month_sin', 'month_cos', 'day_sin',\n",
       "       'day_cos', 'weekday_sin', 'weekday_cos', 'hour_sin', 'hour_cos',\n",
       "       'person', 'label'],\n",
       "      dtype='object')"
      ]
     },
     "execution_count": 12,
     "metadata": {},
     "output_type": "execute_result"
    }
   ],
   "source": [
    "train.columns"
   ]
  },
  {
   "cell_type": "code",
   "execution_count": 59,
   "metadata": {},
   "outputs": [
    {
     "data": {
      "text/plain": [
       "(1171886, 26)"
      ]
     },
     "execution_count": 59,
     "metadata": {},
     "output_type": "execute_result"
    }
   ],
   "source": [
    "train.shape"
   ]
  },
  {
   "cell_type": "code",
   "execution_count": 13,
   "metadata": {},
   "outputs": [],
   "source": [
    "del train['Unnamed: 0']\n",
    "del train['person']"
   ]
  },
  {
   "cell_type": "code",
   "execution_count": 9,
   "metadata": {},
   "outputs": [],
   "source": [
    "filename = 'train_back.pkl'\n",
    "with open(filename,'wb') as file:\n",
    "    pickle.dump(train, file)"
   ]
  },
  {
   "cell_type": "code",
   "execution_count": 2,
   "metadata": {},
   "outputs": [],
   "source": [
    "import pickle"
   ]
  },
  {
   "cell_type": "code",
   "execution_count": 2,
   "metadata": {},
   "outputs": [],
   "source": [
    "filename = 'train_back.pkl'\n",
    "with open(filename,'rb') as file:\n",
    "    train = pickle.load(file)"
   ]
  },
  {
   "cell_type": "code",
   "execution_count": 11,
   "metadata": {},
   "outputs": [],
   "source": [
    "del df_events"
   ]
  },
  {
   "cell_type": "code",
   "execution_count": 10,
   "metadata": {},
   "outputs": [
    {
     "data": {
      "text/plain": [
       "Index(['event_0', 'event_1', 'event_2', 'event_3', 'event_4', 'event_5',\n",
       "       'event_6', 'event_7', 'event_8', 'event_9', 'sku', 'model', 'condition',\n",
       "       'storage', 'year', 'month_sin', 'month_cos', 'day_sin', 'day_cos',\n",
       "       'weekday_sin', 'weekday_cos', 'hour_sin', 'hour_cos', 'label',\n",
       "       'person'],\n",
       "      dtype='object')"
      ]
     },
     "execution_count": 10,
     "metadata": {},
     "output_type": "execute_result"
    }
   ],
   "source": [
    "train.columns"
   ]
  },
  {
   "cell_type": "code",
   "execution_count": 8,
   "metadata": {},
   "outputs": [],
   "source": [
    "train['person'] = df_events.person"
   ]
  },
  {
   "cell_type": "code",
   "execution_count": 10,
   "metadata": {},
   "outputs": [],
   "source": [
    "label_test = pd.read_csv('data/trocafone_kaggle_test.csv')"
   ]
  },
  {
   "cell_type": "code",
   "execution_count": 15,
   "metadata": {},
   "outputs": [],
   "source": [
    "test = pd.merge(data, label_test, on='person', how='right')"
   ]
  },
  {
   "cell_type": "code",
   "execution_count": 16,
   "metadata": {},
   "outputs": [
    {
     "data": {
      "text/plain": [
       "(1169795, 25)"
      ]
     },
     "execution_count": 16,
     "metadata": {},
     "output_type": "execute_result"
    }
   ],
   "source": [
    "test.shape"
   ]
  },
  {
   "cell_type": "code",
   "execution_count": 17,
   "metadata": {},
   "outputs": [],
   "source": [
    "del data"
   ]
  },
  {
   "cell_type": "code",
   "execution_count": 18,
   "metadata": {},
   "outputs": [],
   "source": [
    "filename = 'test_back.pkl'\n",
    "with open(filename,'wb') as file:\n",
    "    pickle.dump(test, file)"
   ]
  },
  {
   "cell_type": "code",
   "execution_count": 7,
   "metadata": {},
   "outputs": [],
   "source": [
    "from sklearn.model_selection import RandomizedSearchCV, GridSearchCV\n",
    "from sklearn.metrics import roc_auc_score\n",
    "from sklearn.model_selection import StratifiedKFold\n"
   ]
  },
  {
   "cell_type": "code",
   "execution_count": null,
   "metadata": {},
   "outputs": [],
   "source": [
    "model = XGBRegressor(learning_rate=0.01, n_estimators=1000)\n",
    "\n",
    "model.fit(X_train, y_train)"
   ]
  },
  {
   "cell_type": "code",
   "execution_count": null,
   "metadata": {},
   "outputs": [],
   "source": []
  },
  {
   "cell_type": "code",
   "execution_count": 19,
   "metadata": {},
   "outputs": [],
   "source": [
    "from xgboost import XGBRegressor\n"
   ]
  },
  {
   "cell_type": "code",
   "execution_count": 22,
   "metadata": {},
   "outputs": [
    {
     "data": {
      "text/plain": [
       "Index(['event_0', 'event_1', 'event_2', 'event_3', 'event_4', 'event_5',\n",
       "       'event_6', 'event_7', 'event_8', 'event_9', 'sku', 'model', 'condition',\n",
       "       'storage', 'year', 'month_sin', 'month_cos', 'day_sin', 'day_cos',\n",
       "       'weekday_sin', 'weekday_cos', 'hour_sin', 'hour_cos', 'label'],\n",
       "      dtype='object')"
      ]
     },
     "execution_count": 22,
     "metadata": {},
     "output_type": "execute_result"
    }
   ],
   "source": [
    "train.columns"
   ]
  },
  {
   "cell_type": "code",
   "execution_count": 15,
   "metadata": {},
   "outputs": [],
   "source": [
    "X_train = train[['event_0', 'event_1', 'event_2', 'event_3', 'event_4', 'event_5',\n",
    "       'event_6', 'event_7', 'event_8', 'event_9', 'sku', 'model', 'condition',\n",
    "       'storage', 'year', 'month_sin', 'month_cos', 'day_sin', 'day_cos',\n",
    "       'weekday_sin', 'weekday_cos', 'hour_sin', 'hour_cos']]"
   ]
  },
  {
   "cell_type": "code",
   "execution_count": 16,
   "metadata": {},
   "outputs": [],
   "source": [
    "y_train = train.label"
   ]
  },
  {
   "cell_type": "code",
   "execution_count": 17,
   "metadata": {},
   "outputs": [],
   "source": [
    "from sklearn.model_selection import train_test_split\n",
    "\n",
    "X_train, X_test, y_train, y_test =  train_test_split(X_train, y_train, test_size=0.3, random_state=100)"
   ]
  },
  {
   "cell_type": "code",
   "execution_count": 20,
   "metadata": {},
   "outputs": [],
   "source": [
    "xgb = XGBRegressor(n_estimators=100, max_depth=3)"
   ]
  },
  {
   "cell_type": "code",
   "execution_count": 21,
   "metadata": {},
   "outputs": [
    {
     "data": {
      "text/plain": [
       "XGBRegressor(base_score=0.5, booster='gbtree', colsample_bylevel=1,\n",
       "       colsample_bytree=1, gamma=0, learning_rate=0.1, max_delta_step=0,\n",
       "       max_depth=3, min_child_weight=1, missing=None, n_estimators=100,\n",
       "       n_jobs=1, nthread=None, objective='reg:linear', random_state=0,\n",
       "       reg_alpha=0, reg_lambda=1, scale_pos_weight=1, seed=None,\n",
       "       silent=True, subsample=1)"
      ]
     },
     "execution_count": 21,
     "metadata": {},
     "output_type": "execute_result"
    }
   ],
   "source": [
    "xgb.fit(X_train, y_train)"
   ]
  },
  {
   "cell_type": "code",
   "execution_count": 23,
   "metadata": {},
   "outputs": [],
   "source": [
    "preds = xgb.predict(test)"
   ]
  },
  {
   "cell_type": "code",
   "execution_count": 24,
   "metadata": {},
   "outputs": [
    {
     "data": {
      "text/plain": [
       "array([0.05567372, 0.05567372, 0.04489422, ..., 0.15574288, 0.04820439,\n",
       "       0.08235687], dtype=float32)"
      ]
     },
     "execution_count": 24,
     "metadata": {},
     "output_type": "execute_result"
    }
   ],
   "source": [
    "preds"
   ]
  },
  {
   "cell_type": "code",
   "execution_count": null,
   "metadata": {},
   "outputs": [],
   "source": [
    "preds.to_csv('predXg')"
   ]
  },
  {
   "cell_type": "code",
   "execution_count": 26,
   "metadata": {},
   "outputs": [],
   "source": [
    "filename = 'test_back.pkl'\n",
    "with open(filename,'rb') as file:\n",
    "    test = pickle.load(file)"
   ]
  },
  {
   "cell_type": "code",
   "execution_count": 13,
   "metadata": {},
   "outputs": [
    {
     "data": {
      "text/plain": [
       "Index(['Unnamed: 0', 'event_0', 'event_1', 'event_2', 'event_3', 'event_4',\n",
       "       'event_5', 'event_6', 'event_7', 'event_8', 'event_9', 'sku', 'model',\n",
       "       'condition', 'storage', 'year', 'month_sin', 'month_cos', 'day_sin',\n",
       "       'day_cos', 'weekday_sin', 'weekday_cos', 'hour_sin', 'hour_cos',\n",
       "       'person'],\n",
       "      dtype='object')"
      ]
     },
     "execution_count": 13,
     "metadata": {},
     "output_type": "execute_result"
    }
   ],
   "source": [
    "test.columns"
   ]
  },
  {
   "cell_type": "code",
   "execution_count": 32,
   "metadata": {},
   "outputs": [],
   "source": [
    "pred = xgb.predict_proba(X_test)"
   ]
  },
  {
   "cell_type": "code",
   "execution_count": 31,
   "metadata": {},
   "outputs": [],
   "source": [
    "from sklearn.metrics import roc_auc_score"
   ]
  },
  {
   "cell_type": "code",
   "execution_count": 37,
   "metadata": {},
   "outputs": [
    {
     "data": {
      "text/plain": [
       "array([0.10963181, 0.12556489, 0.1091906 , ..., 0.10963181, 0.13910997,\n",
       "       0.12556489], dtype=float32)"
      ]
     },
     "execution_count": 37,
     "metadata": {},
     "output_type": "execute_result"
    }
   ],
   "source": [
    "pred[:,1]"
   ]
  },
  {
   "cell_type": "code",
   "execution_count": 38,
   "metadata": {},
   "outputs": [
    {
     "ename": "ValueError",
     "evalue": "continuous format is not supported",
     "output_type": "error",
     "traceback": [
      "\u001b[0;31m---------------------------------------------------------------------------\u001b[0m",
      "\u001b[0;31mValueError\u001b[0m                                Traceback (most recent call last)",
      "\u001b[0;32m<ipython-input-38-1a1db9f0db59>\u001b[0m in \u001b[0;36m<module>\u001b[0;34m()\u001b[0m\n\u001b[0;32m----> 1\u001b[0;31m \u001b[0mroc_auc_score\u001b[0m\u001b[0;34m(\u001b[0m\u001b[0mpred\u001b[0m\u001b[0;34m[\u001b[0m\u001b[0;34m:\u001b[0m\u001b[0;34m,\u001b[0m\u001b[0;36m1\u001b[0m\u001b[0;34m]\u001b[0m\u001b[0;34m,\u001b[0m \u001b[0my_test\u001b[0m\u001b[0;34m)\u001b[0m\u001b[0;34m\u001b[0m\u001b[0m\n\u001b[0m",
      "\u001b[0;32m/home/july/anaconda3/lib/python3.6/site-packages/sklearn/metrics/ranking.py\u001b[0m in \u001b[0;36mroc_auc_score\u001b[0;34m(y_true, y_score, average, sample_weight, max_fpr)\u001b[0m\n\u001b[1;32m    349\u001b[0m     return _average_binary_score(\n\u001b[1;32m    350\u001b[0m         \u001b[0m_binary_roc_auc_score\u001b[0m\u001b[0;34m,\u001b[0m \u001b[0my_true\u001b[0m\u001b[0;34m,\u001b[0m \u001b[0my_score\u001b[0m\u001b[0;34m,\u001b[0m \u001b[0maverage\u001b[0m\u001b[0;34m,\u001b[0m\u001b[0;34m\u001b[0m\u001b[0m\n\u001b[0;32m--> 351\u001b[0;31m         sample_weight=sample_weight)\n\u001b[0m\u001b[1;32m    352\u001b[0m \u001b[0;34m\u001b[0m\u001b[0m\n\u001b[1;32m    353\u001b[0m \u001b[0;34m\u001b[0m\u001b[0m\n",
      "\u001b[0;32m/home/july/anaconda3/lib/python3.6/site-packages/sklearn/metrics/base.py\u001b[0m in \u001b[0;36m_average_binary_score\u001b[0;34m(binary_metric, y_true, y_score, average, sample_weight)\u001b[0m\n\u001b[1;32m     72\u001b[0m     \u001b[0my_type\u001b[0m \u001b[0;34m=\u001b[0m \u001b[0mtype_of_target\u001b[0m\u001b[0;34m(\u001b[0m\u001b[0my_true\u001b[0m\u001b[0;34m)\u001b[0m\u001b[0;34m\u001b[0m\u001b[0m\n\u001b[1;32m     73\u001b[0m     \u001b[0;32mif\u001b[0m \u001b[0my_type\u001b[0m \u001b[0;32mnot\u001b[0m \u001b[0;32min\u001b[0m \u001b[0;34m(\u001b[0m\u001b[0;34m\"binary\"\u001b[0m\u001b[0;34m,\u001b[0m \u001b[0;34m\"multilabel-indicator\"\u001b[0m\u001b[0;34m)\u001b[0m\u001b[0;34m:\u001b[0m\u001b[0;34m\u001b[0m\u001b[0m\n\u001b[0;32m---> 74\u001b[0;31m         \u001b[0;32mraise\u001b[0m \u001b[0mValueError\u001b[0m\u001b[0;34m(\u001b[0m\u001b[0;34m\"{0} format is not supported\"\u001b[0m\u001b[0;34m.\u001b[0m\u001b[0mformat\u001b[0m\u001b[0;34m(\u001b[0m\u001b[0my_type\u001b[0m\u001b[0;34m)\u001b[0m\u001b[0;34m)\u001b[0m\u001b[0;34m\u001b[0m\u001b[0m\n\u001b[0m\u001b[1;32m     75\u001b[0m \u001b[0;34m\u001b[0m\u001b[0m\n\u001b[1;32m     76\u001b[0m     \u001b[0;32mif\u001b[0m \u001b[0my_type\u001b[0m \u001b[0;34m==\u001b[0m \u001b[0;34m\"binary\"\u001b[0m\u001b[0;34m:\u001b[0m\u001b[0;34m\u001b[0m\u001b[0m\n",
      "\u001b[0;31mValueError\u001b[0m: continuous format is not supported"
     ]
    }
   ],
   "source": [
    "roc_auc_score(pred[:,1], y_test)"
   ]
  },
  {
   "cell_type": "code",
   "execution_count": 14,
   "metadata": {},
   "outputs": [],
   "source": [
    "del test['person']\n",
    "del test['Unnamed: 0']"
   ]
  },
  {
   "cell_type": "code",
   "execution_count": 43,
   "metadata": {},
   "outputs": [],
   "source": [
    "filename = 'xg_back.pkl'\n",
    "with open(filename,'wb') as file:\n",
    "    pickle.dump(xgb, file)"
   ]
  },
  {
   "cell_type": "code",
   "execution_count": 3,
   "metadata": {},
   "outputs": [],
   "source": [
    "filename = 'xg_back.pkl'\n",
    "with open(filename,'rb') as file:\n",
    "    xgb = pickle.load(file)"
   ]
  },
  {
   "cell_type": "code",
   "execution_count": 22,
   "metadata": {},
   "outputs": [
    {
     "data": {
      "text/plain": [
       "Index(['event_0', 'event_1', 'event_2', 'event_3', 'event_4', 'event_5',\n",
       "       'event_6', 'event_7', 'event_8', 'event_9', 'sku', 'model', 'condition',\n",
       "       'storage', 'year', 'month_sin', 'month_cos', 'day_sin', 'day_cos',\n",
       "       'weekday_sin', 'weekday_cos', 'hour_sin', 'hour_cos'],\n",
       "      dtype='object')"
      ]
     },
     "execution_count": 22,
     "metadata": {},
     "output_type": "execute_result"
    }
   ],
   "source": [
    "test.columns"
   ]
  },
  {
   "cell_type": "code",
   "execution_count": 22,
   "metadata": {},
   "outputs": [],
   "source": [
    "del test['Unnamed: 0']"
   ]
  },
  {
   "cell_type": "code",
   "execution_count": 23,
   "metadata": {},
   "outputs": [],
   "source": [
    "pred_posta = xgb.predict_proba(test)"
   ]
  },
  {
   "cell_type": "code",
   "execution_count": 27,
   "metadata": {},
   "outputs": [
    {
     "data": {
      "text/plain": [
       "2073"
      ]
     },
     "execution_count": 27,
     "metadata": {},
     "output_type": "execute_result"
    }
   ],
   "source": [
    "len(pd.unique(pred_posta[:,1]))"
   ]
  },
  {
   "cell_type": "code",
   "execution_count": 28,
   "metadata": {},
   "outputs": [
    {
     "data": {
      "text/plain": [
       "1169795"
      ]
     },
     "execution_count": 28,
     "metadata": {},
     "output_type": "execute_result"
    }
   ],
   "source": [
    "len(pred_posta)"
   ]
  },
  {
   "cell_type": "code",
   "execution_count": 29,
   "metadata": {},
   "outputs": [
    {
     "data": {
      "text/plain": [
       "array([[0.89036816, 0.10963181],\n",
       "       [0.89036816, 0.10963181],\n",
       "       [0.89036816, 0.10963181],\n",
       "       ...,\n",
       "       [0.81209254, 0.18790746],\n",
       "       [0.854892  , 0.14510798],\n",
       "       [0.854892  , 0.14510798]], dtype=float32)"
      ]
     },
     "execution_count": 29,
     "metadata": {},
     "output_type": "execute_result"
    }
   ],
   "source": [
    "pred_posta"
   ]
  },
  {
   "cell_type": "code",
   "execution_count": 28,
   "metadata": {},
   "outputs": [],
   "source": [
    "to_publish = pd.DataFrame()"
   ]
  },
  {
   "cell_type": "code",
   "execution_count": 30,
   "metadata": {},
   "outputs": [],
   "source": [
    "filename = 'test_back.pkl'\n",
    "with open(filename,'rb') as file:\n",
    "    test = pickle.load(file)"
   ]
  },
  {
   "cell_type": "code",
   "execution_count": 29,
   "metadata": {},
   "outputs": [],
   "source": [
    "to_publish['person'] = test.person"
   ]
  },
  {
   "cell_type": "code",
   "execution_count": 30,
   "metadata": {},
   "outputs": [],
   "source": [
    "to_publish['label'] = preds"
   ]
  },
  {
   "cell_type": "code",
   "execution_count": 31,
   "metadata": {},
   "outputs": [
    {
     "data": {
      "text/plain": [
       "(1169795, 2)"
      ]
     },
     "execution_count": 31,
     "metadata": {},
     "output_type": "execute_result"
    }
   ],
   "source": [
    "to_publish.shape"
   ]
  },
  {
   "cell_type": "code",
   "execution_count": 32,
   "metadata": {},
   "outputs": [],
   "source": [
    "a = to_publish.groupby('person', as_index=False).mean()"
   ]
  },
  {
   "cell_type": "code",
   "execution_count": null,
   "metadata": {},
   "outputs": [],
   "source": [
    "a"
   ]
  },
  {
   "cell_type": "code",
   "execution_count": 36,
   "metadata": {},
   "outputs": [],
   "source": [
    "a.to_csv('predictions/xgbJuli.csv',index=False)"
   ]
  },
  {
   "cell_type": "code",
   "execution_count": 42,
   "metadata": {},
   "outputs": [],
   "source": [
    "to_publish.to_csv('mala_prediccion.csv')"
   ]
  }
 ],
 "metadata": {
  "kernelspec": {
   "display_name": "Python 3",
   "language": "python",
   "name": "python3"
  },
  "language_info": {
   "codemirror_mode": {
    "name": "ipython",
    "version": 3
   },
   "file_extension": ".py",
   "mimetype": "text/x-python",
   "name": "python",
   "nbconvert_exporter": "python",
   "pygments_lexer": "ipython3",
   "version": "3.6.3"
  }
 },
 "nbformat": 4,
 "nbformat_minor": 2
}
