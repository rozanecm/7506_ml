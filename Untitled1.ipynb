{
 "cells": [
  {
   "cell_type": "code",
   "execution_count": 1,
   "metadata": {},
   "outputs": [],
   "source": [
    "import pandas as pd\n",
    "import numpy as np\n",
    "from sklearn.model_selection import train_test_split\n",
    "# Import Area Under the Receiver Operating Characteristic Curve metric to evaluate results\n",
    "from sklearn.metrics import roc_auc_score\n",
    "from sklearn.pipeline import Pipeline"
   ]
  },
  {
   "cell_type": "code",
   "execution_count": 2,
   "metadata": {},
   "outputs": [],
   "source": [
    "from sklearn import preprocessing\n",
    "from sklearn.feature_extraction import DictVectorizer\n",
    "from sklearn.preprocessing import OneHotEncoder\n",
    "from sklearn.feature_extraction import FeatureHasher"
   ]
  },
  {
   "cell_type": "code",
   "execution_count": 3,
   "metadata": {},
   "outputs": [],
   "source": [
    "events_df = pd.read_csv('data/events_up_to_01062018.csv', low_memory=False)\n",
    "labels_df = pd.read_csv('data/labels_training_set.csv', low_memory=False)"
   ]
  },
  {
   "cell_type": "code",
   "execution_count": 4,
   "metadata": {},
   "outputs": [],
   "source": [
    "# armo df con registros para entrenamiento\n",
    "train_df = events_df.merge(labels_df, on='person', how='right')"
   ]
  },
  {
   "cell_type": "code",
   "execution_count": 5,
   "metadata": {},
   "outputs": [],
   "source": [
    "# armo df con registros a predecir unicamente\n",
    "test = events_df[~events_df.person.isin(labels_df.person)]"
   ]
  },
  {
   "cell_type": "code",
   "execution_count": 6,
   "metadata": {},
   "outputs": [],
   "source": [
    "test_size = 0.33\n",
    "# define a seed, so same experiments output same results every time\n",
    "seed = 12"
   ]
  },
  {
   "cell_type": "code",
   "execution_count": 7,
   "metadata": {},
   "outputs": [],
   "source": [
    "# realizo train_test_split\n",
    "X_train, X_test, y_train, y_test = train_test_split(train_df.loc[:, train_df.columns != 'label'], \n",
    "                                                    train_df.label, \n",
    "                                                    test_size=test_size, \n",
    "                                                    random_state=seed)"
   ]
  },
  {
   "cell_type": "code",
   "execution_count": 8,
   "metadata": {},
   "outputs": [],
   "source": [
    "# some date processing\n",
    "def date_proc(df):\n",
    "    df['timestamp'] = pd.to_datetime(df['timestamp'])\n",
    "    df['year'] = df['timestamp'].dt.year\n",
    "    df['month'] = df['timestamp'].dt.month\n",
    "    df['day'] = df['timestamp'].dt.day\n",
    "    df['weekday'] = df['timestamp'].dt.day_name()\n",
    "    df['hour'] = df['timestamp'].dt.hour\n",
    "    df['year_month_day'] = df['timestamp'].map(lambda x: str(x.year)+\"/\"+str(x.month)+\"/\"+str(x.day))\n",
    "    df['year_month_day'] = pd.to_datetime(df['year_month_day'])\n",
    "    \n",
    "date_proc(X_train)\n",
    "date_proc(X_test)"
   ]
  },
  {
   "cell_type": "code",
   "execution_count": 9,
   "metadata": {},
   "outputs": [
    {
     "data": {
      "text/plain": [
       "timestamp                   datetime64[ns]\n",
       "event                               object\n",
       "person                              object\n",
       "url                                 object\n",
       "sku                                float64\n",
       "model                               object\n",
       "condition                           object\n",
       "storage                             object\n",
       "color                               object\n",
       "skus                                object\n",
       "search_term                         object\n",
       "staticpage                          object\n",
       "campaign_source                     object\n",
       "search_engine                       object\n",
       "channel                             object\n",
       "new_vs_returning                    object\n",
       "city                                object\n",
       "region                              object\n",
       "country                             object\n",
       "device_type                         object\n",
       "screen_resolution                   object\n",
       "operating_system_version            object\n",
       "browser_version                     object\n",
       "year                                 int64\n",
       "month                                int64\n",
       "day                                  int64\n",
       "weekday                             object\n",
       "hour                                 int64\n",
       "year_month_day              datetime64[ns]\n",
       "dtype: object"
      ]
     },
     "execution_count": 9,
     "metadata": {},
     "output_type": "execute_result"
    }
   ],
   "source": [
    "X_train.dtypes"
   ]
  },
  {
   "cell_type": "markdown",
   "metadata": {},
   "source": [
    "Primero hacemos un label encoding con el weekday, luego aplicamos una transfrmacion que contemple la naturaleza ciclica de la semana. Esto ultimo lo aplicaremos tambien al resto de los features ciclicos (como se explica, por ejemplo, aca: https://ianlondon.github.io/blog/encoding-cyclical-features-24hour-time/)"
   ]
  },
  {
   "cell_type": "code",
   "execution_count": 10,
   "metadata": {},
   "outputs": [],
   "source": [
    "weekday_le = preprocessing.LabelEncoder()\n",
    "weekday_le.fit(X_train.weekday)\n",
    "X_train.weekday = weekday_le.transform(X_train.weekday)"
   ]
  },
  {
   "cell_type": "code",
   "execution_count": 11,
   "metadata": {},
   "outputs": [],
   "source": [
    "def month_to_cyclic(df):\n",
    "    df['month_sin'] = df['month'].apply(lambda x: np.sin(2*np.pi*x/12))\n",
    "    df['month_cos'] = df['month'].apply(lambda x: np.cos(2*np.pi*x/12))\n",
    "    df.drop('month', axis=1, inplace=True)\n",
    "    \n",
    "def day_to_cyclic(df):\n",
    "    df['day_sin'] = df['day'].apply(lambda x: np.sin(2*np.pi*x/31))\n",
    "    df['day_cos'] = df['day'].apply(lambda x: np.cos(2*np.pi*x/31))\n",
    "    df.drop('day', axis=1, inplace=True)\n",
    "\n",
    "def weekday_to_cyclic(df):\n",
    "    df['weekday_sin'] = df['weekday'].apply(lambda x: np.sin(2*np.pi*x/7))\n",
    "    df['weekday_cos'] = df['weekday'].apply(lambda x: np.cos(2*np.pi*x/7))\n",
    "    df.drop('weekday', axis=1, inplace=True)\n",
    "\n",
    "def hour_to_cyclic(df):\n",
    "    df['hour_sin'] = df['hour'].apply(lambda x: np.sin(2*np.pi*x/24))\n",
    "    df['hour_cos'] = df['hour'].apply(lambda x: np.cos(2*np.pi*x/24))\n",
    "    df.drop('hour', axis=1, inplace=True)"
   ]
  },
  {
   "cell_type": "code",
   "execution_count": 12,
   "metadata": {},
   "outputs": [
    {
     "data": {
      "text/html": [
       "<div>\n",
       "<style scoped>\n",
       "    .dataframe tbody tr th:only-of-type {\n",
       "        vertical-align: middle;\n",
       "    }\n",
       "\n",
       "    .dataframe tbody tr th {\n",
       "        vertical-align: top;\n",
       "    }\n",
       "\n",
       "    .dataframe thead th {\n",
       "        text-align: right;\n",
       "    }\n",
       "</style>\n",
       "<table border=\"1\" class=\"dataframe\">\n",
       "  <thead>\n",
       "    <tr style=\"text-align: right;\">\n",
       "      <th></th>\n",
       "      <th>year</th>\n",
       "      <th>month</th>\n",
       "      <th>day</th>\n",
       "      <th>weekday</th>\n",
       "      <th>hour</th>\n",
       "    </tr>\n",
       "  </thead>\n",
       "  <tbody>\n",
       "    <tr>\n",
       "      <th>654168</th>\n",
       "      <td>2018</td>\n",
       "      <td>5</td>\n",
       "      <td>22</td>\n",
       "      <td>5</td>\n",
       "      <td>17</td>\n",
       "    </tr>\n",
       "    <tr>\n",
       "      <th>755549</th>\n",
       "      <td>2018</td>\n",
       "      <td>5</td>\n",
       "      <td>22</td>\n",
       "      <td>5</td>\n",
       "      <td>18</td>\n",
       "    </tr>\n",
       "    <tr>\n",
       "      <th>705141</th>\n",
       "      <td>2018</td>\n",
       "      <td>5</td>\n",
       "      <td>18</td>\n",
       "      <td>0</td>\n",
       "      <td>4</td>\n",
       "    </tr>\n",
       "    <tr>\n",
       "      <th>621828</th>\n",
       "      <td>2018</td>\n",
       "      <td>5</td>\n",
       "      <td>16</td>\n",
       "      <td>6</td>\n",
       "      <td>20</td>\n",
       "    </tr>\n",
       "    <tr>\n",
       "      <th>592612</th>\n",
       "      <td>2018</td>\n",
       "      <td>5</td>\n",
       "      <td>17</td>\n",
       "      <td>4</td>\n",
       "      <td>13</td>\n",
       "    </tr>\n",
       "  </tbody>\n",
       "</table>\n",
       "</div>"
      ],
      "text/plain": [
       "        year  month  day  weekday  hour\n",
       "654168  2018      5   22        5    17\n",
       "755549  2018      5   22        5    18\n",
       "705141  2018      5   18        0     4\n",
       "621828  2018      5   16        6    20\n",
       "592612  2018      5   17        4    13"
      ]
     },
     "execution_count": 12,
     "metadata": {},
     "output_type": "execute_result"
    }
   ],
   "source": [
    "X_train[['year','month','day','weekday','hour']].head()"
   ]
  },
  {
   "cell_type": "code",
   "execution_count": 13,
   "metadata": {},
   "outputs": [],
   "source": [
    "month_to_cyclic(X_train)\n",
    "day_to_cyclic(X_train)\n",
    "weekday_to_cyclic(X_train)\n",
    "hour_to_cyclic(X_train)"
   ]
  },
  {
   "cell_type": "code",
   "execution_count": 14,
   "metadata": {},
   "outputs": [
    {
     "data": {
      "text/html": [
       "<div>\n",
       "<style scoped>\n",
       "    .dataframe tbody tr th:only-of-type {\n",
       "        vertical-align: middle;\n",
       "    }\n",
       "\n",
       "    .dataframe tbody tr th {\n",
       "        vertical-align: top;\n",
       "    }\n",
       "\n",
       "    .dataframe thead th {\n",
       "        text-align: right;\n",
       "    }\n",
       "</style>\n",
       "<table border=\"1\" class=\"dataframe\">\n",
       "  <thead>\n",
       "    <tr style=\"text-align: right;\">\n",
       "      <th></th>\n",
       "      <th>month_sin</th>\n",
       "      <th>month_cos</th>\n",
       "      <th>day_sin</th>\n",
       "      <th>day_cos</th>\n",
       "      <th>weekday_sin</th>\n",
       "      <th>weekday_cos</th>\n",
       "      <th>hour_sin</th>\n",
       "      <th>hour_cos</th>\n",
       "    </tr>\n",
       "  </thead>\n",
       "  <tbody>\n",
       "    <tr>\n",
       "      <th>654168</th>\n",
       "      <td>0.5</td>\n",
       "      <td>-0.866025</td>\n",
       "      <td>-0.968077</td>\n",
       "      <td>-0.250653</td>\n",
       "      <td>-0.974928</td>\n",
       "      <td>-0.222521</td>\n",
       "      <td>-0.965926</td>\n",
       "      <td>-2.588190e-01</td>\n",
       "    </tr>\n",
       "    <tr>\n",
       "      <th>755549</th>\n",
       "      <td>0.5</td>\n",
       "      <td>-0.866025</td>\n",
       "      <td>-0.968077</td>\n",
       "      <td>-0.250653</td>\n",
       "      <td>-0.974928</td>\n",
       "      <td>-0.222521</td>\n",
       "      <td>-1.000000</td>\n",
       "      <td>-1.836970e-16</td>\n",
       "    </tr>\n",
       "    <tr>\n",
       "      <th>705141</th>\n",
       "      <td>0.5</td>\n",
       "      <td>-0.866025</td>\n",
       "      <td>-0.485302</td>\n",
       "      <td>-0.874347</td>\n",
       "      <td>0.000000</td>\n",
       "      <td>1.000000</td>\n",
       "      <td>0.866025</td>\n",
       "      <td>5.000000e-01</td>\n",
       "    </tr>\n",
       "    <tr>\n",
       "      <th>621828</th>\n",
       "      <td>0.5</td>\n",
       "      <td>-0.866025</td>\n",
       "      <td>-0.101168</td>\n",
       "      <td>-0.994869</td>\n",
       "      <td>-0.781831</td>\n",
       "      <td>0.623490</td>\n",
       "      <td>-0.866025</td>\n",
       "      <td>5.000000e-01</td>\n",
       "    </tr>\n",
       "    <tr>\n",
       "      <th>592612</th>\n",
       "      <td>0.5</td>\n",
       "      <td>-0.866025</td>\n",
       "      <td>-0.299363</td>\n",
       "      <td>-0.954139</td>\n",
       "      <td>-0.433884</td>\n",
       "      <td>-0.900969</td>\n",
       "      <td>-0.258819</td>\n",
       "      <td>-9.659258e-01</td>\n",
       "    </tr>\n",
       "  </tbody>\n",
       "</table>\n",
       "</div>"
      ],
      "text/plain": [
       "        month_sin  month_cos   day_sin   day_cos  weekday_sin  weekday_cos  \\\n",
       "654168        0.5  -0.866025 -0.968077 -0.250653    -0.974928    -0.222521   \n",
       "755549        0.5  -0.866025 -0.968077 -0.250653    -0.974928    -0.222521   \n",
       "705141        0.5  -0.866025 -0.485302 -0.874347     0.000000     1.000000   \n",
       "621828        0.5  -0.866025 -0.101168 -0.994869    -0.781831     0.623490   \n",
       "592612        0.5  -0.866025 -0.299363 -0.954139    -0.433884    -0.900969   \n",
       "\n",
       "        hour_sin      hour_cos  \n",
       "654168 -0.965926 -2.588190e-01  \n",
       "755549 -1.000000 -1.836970e-16  \n",
       "705141  0.866025  5.000000e-01  \n",
       "621828 -0.866025  5.000000e-01  \n",
       "592612 -0.258819 -9.659258e-01  "
      ]
     },
     "execution_count": 14,
     "metadata": {},
     "output_type": "execute_result"
    }
   ],
   "source": [
    "X_train[['month_sin','month_cos','day_sin','day_cos','weekday_sin','weekday_cos','hour_sin','hour_cos']].head()"
   ]
  },
  {
   "cell_type": "code",
   "execution_count": 15,
   "metadata": {},
   "outputs": [],
   "source": [
    "X_train.drop('year_month_day', axis=1, inplace=True)"
   ]
  },
  {
   "cell_type": "code",
   "execution_count": 16,
   "metadata": {},
   "outputs": [
    {
     "data": {
      "text/plain": [
       "timestamp                   datetime64[ns]\n",
       "event                               object\n",
       "person                              object\n",
       "url                                 object\n",
       "sku                                float64\n",
       "model                               object\n",
       "condition                           object\n",
       "storage                             object\n",
       "color                               object\n",
       "skus                                object\n",
       "search_term                         object\n",
       "staticpage                          object\n",
       "campaign_source                     object\n",
       "search_engine                       object\n",
       "channel                             object\n",
       "new_vs_returning                    object\n",
       "city                                object\n",
       "region                              object\n",
       "country                             object\n",
       "device_type                         object\n",
       "screen_resolution                   object\n",
       "operating_system_version            object\n",
       "browser_version                     object\n",
       "year                                 int64\n",
       "month_sin                          float64\n",
       "month_cos                          float64\n",
       "day_sin                            float64\n",
       "day_cos                            float64\n",
       "weekday_sin                        float64\n",
       "weekday_cos                        float64\n",
       "hour_sin                           float64\n",
       "hour_cos                           float64\n",
       "dtype: object"
      ]
     },
     "execution_count": 16,
     "metadata": {},
     "output_type": "execute_result"
    }
   ],
   "source": [
    "X_train.dtypes"
   ]
  },
  {
   "cell_type": "code",
   "execution_count": 17,
   "metadata": {},
   "outputs": [],
   "source": [
    "num_of_unique_browsers = len(X_train.browser_version.unique())"
   ]
  },
  {
   "cell_type": "markdown",
   "metadata": {},
   "source": [
    "***\n",
    "Good pipeline source: http://zacstewart.com/2014/08/05/pipelines-of-featureunions-of-pipelines.html\n",
    "***"
   ]
  },
  {
   "cell_type": "code",
   "execution_count": 66,
   "metadata": {},
   "outputs": [],
   "source": [
    "from sklearn.base import BaseEstimator, TransformerMixin\n",
    "\n",
    "class ColumnSelector(BaseEstimator, TransformerMixin):\n",
    "    \"\"\"\n",
    "    Selector to select the needed columns in the pipeline\n",
    "    \"\"\"\n",
    "    def __init__(self, cols):\n",
    "        self.cols = cols\n",
    "\n",
    "    def fit(self, X):\n",
    "        return self\n",
    "\n",
    "    def transform(self, X, y=None):\n",
    "        return X.loc[:,self.cols]"
   ]
  },
  {
   "cell_type": "markdown",
   "metadata": {},
   "source": [
    "## Browser version"
   ]
  },
  {
   "cell_type": "code",
   "execution_count": 62,
   "metadata": {},
   "outputs": [],
   "source": [
    "# from https://www.kaggle.com/baghern/a-deep-dive-into-sklearn-pipelines:\n",
    "# To make a pipeline, just pass an array of tuples of the format (name, object). The first part is the name of the action, and the second is the actual object. \n",
    "\n",
    "browser_pipe = Pipeline([\n",
    "    ('selector', ColumnSelector(['browser_version'])),\n",
    "    ('hasher', FeatureHasher(n_features=num_of_unique_browsers//2, \n",
    "                             input_type='string')) \n",
    "])"
   ]
  },
  {
   "cell_type": "code",
   "execution_count": 63,
   "metadata": {},
   "outputs": [
    {
     "data": {
      "text/plain": [
       "<1x144 sparse matrix of type '<class 'numpy.float64'>'\n",
       "\twith 10 stored elements in Compressed Sparse Row format>"
      ]
     },
     "execution_count": 63,
     "metadata": {},
     "output_type": "execute_result"
    }
   ],
   "source": [
    "browser_pipe.fit_transform(X_train)"
   ]
  },
  {
   "cell_type": "markdown",
   "metadata": {},
   "source": [
    "This cell has been replaced with the pipeline above\n",
    "\n",
    "```\n",
    "# http://fastml.com/converting-categorical-data-into-numbers-with-pandas-and-scikit-learn/\n",
    "# https://pandas.pydata.org/pandas-docs/stable/generated/pandas.DataFrame.to_dict.html\n",
    "v = FeatureHasher(n_features=num_of_unique_browsers//2, input_type='string')\n",
    "# browser_version_dict = X_train[['browser_version']]\n",
    "X_train.browser_version.fillna(\"\", inplace=True)\n",
    "x = v.fit_transform(X_train[['browser_version']])\n",
    "# x = v.fit_transform(browser_version_dict)\n",
    "# Attach de sparse vector to df\n",
    "```"
   ]
  },
  {
   "cell_type": "markdown",
   "metadata": {},
   "source": [
    "## operating_system_version"
   ]
  },
  {
   "cell_type": "code",
   "execution_count": 72,
   "metadata": {},
   "outputs": [
    {
     "data": {
      "text/plain": [
       "array(['Windows 10 ', nan, 'Android 5.0.2', 'Android 4.2.2', 'Android 7',\n",
       "       'Windows 7 ', 'iOS 10.3.3', 'Android 5.1', 'Android 6.0.1',\n",
       "       'Android 4.4.4', 'Android 5.1.1', 'Android 7.1.1', 'Android 6',\n",
       "       'Windows 8.1 ', 'iOS 11.3', 'iOS 11.2.5', 'Windows 8 ',\n",
       "       'Android 4.1.2', 'Mac OS X 10.13.4', 'Android 4.3', 'Android 5',\n",
       "       'Linux ', 'Android 5.0.1', 'BlackBerry OS 10.3.3',\n",
       "       'Windows Vista ', 'Android 4.4.2', 'iOS 9.3.5', 'Windows XP ',\n",
       "       'iOS 10.2', 'iOS 8.1.3', 'Other ', 'Ubuntu ', 'iOS 9.3.2',\n",
       "       'BlackBerry OS 10.3.2', 'Android 8', 'Windows Phone 8.1',\n",
       "       'iOS 7.1.2', 'Android 2.3.6', 'Android 4.1.1', 'Android 7.1.2',\n",
       "       'iOS 11.2.6', 'iOS 11.2.1', 'Android 4.0.4', 'iOS 11.2.2',\n",
       "       'iOS 10.3.2', 'Mac OS X 10.11.6', 'iOS 10.2.1', 'Tizen 3',\n",
       "       'Mac OS X 10.12.6', 'Android 8.1', 'iOS 11.1.2', 'iOS 3.2',\n",
       "       'Windows Phone 10', 'Chrome OS 10452.85', 'iOS 11.2', 'iOS 5.0.1',\n",
       "       'Chrome OS 10452.96', 'Android 4.4', 'Android 7.1',\n",
       "       'Mac OS X 10.12', 'iOS 11.1', 'iOS 11.0.1', 'iOS 11.4',\n",
       "       'Chrome OS 10323.67', 'Mac OS X 10.12.2', 'Mac OS X 10.13.3',\n",
       "       'Mac OS X 10.13', 'Mac OS X 10.11.5', 'Mac OS X 10.13.1',\n",
       "       'Mac OS X 10.11', 'Windows Phone 8', 'Android ',\n",
       "       'Mac OS X 10.13.2', 'Mac OS X 10.10.5', 'Android 4.4.3',\n",
       "       'Chrome OS 10452.74', 'Windows RT ', 'Android 4.0.3', 'iOS 7.1.1',\n",
       "       'iOS 11.0.3', 'iOS 7.0.3', 'iOS 10.1.1', 'iOS 10.0.2',\n",
       "       'Mac OS X 10.11.4', 'iOS 8.1.1', 'iOS 11.0.2', 'Android 3.2.2',\n",
       "       'Mac OS X 10.8.5', 'iOS 11', 'Tizen 2.3', 'iOS 9.2', 'iOS 5',\n",
       "       'Android 6.1', 'iOS 8.1', 'Mac OS X 10.12.4', 'Mac OS X 10.12.5',\n",
       "       'Chrome OS 10032.86', 'iOS 10.3.1', 'Mac OS X 10.7.5', 'iOS 9.2.1',\n",
       "       'iOS 9.3.4', 'Android 3.2', 'Mac OS X 10.9.5', 'Mac OS X 10.9'],\n",
       "      dtype=object)"
      ]
     },
     "execution_count": 72,
     "metadata": {},
     "output_type": "execute_result"
    }
   ],
   "source": [
    "X_train.operating_system_version.unique()"
   ]
  },
  {
   "cell_type": "code",
   "execution_count": 73,
   "metadata": {},
   "outputs": [],
   "source": [
    "os_num_of_unique = len(X_train.operating_system_version.unique())"
   ]
  },
  {
   "cell_type": "code",
   "execution_count": null,
   "metadata": {},
   "outputs": [],
   "source": [
    "os_ver_pipe = Pipeline([\n",
    "    ('selector', ColumnSelector(['operating_system_version'])),\n",
    "    ('hasher', FeatureHasher(n_features=os_num_of_unique//10, \n",
    "                             input_type='string')) \n",
    "])"
   ]
  },
  {
   "cell_type": "markdown",
   "metadata": {},
   "source": [
    "## screen_resolution"
   ]
  },
  {
   "cell_type": "code",
   "execution_count": 75,
   "metadata": {},
   "outputs": [
    {
     "data": {
      "text/plain": [
       "array(['1366x768', nan, '360x640', '320x534', '320x568', '1920x1080',\n",
       "       '320x570', '1280x720', '1440x900', '1360x768', '854x683',\n",
       "       '1152x864', '1536x864', '424x753', '1024x820', '1280x1024',\n",
       "       '600x1024', '800x1280', '375x667', '1600x900', '1680x1050',\n",
       "       '480x800', '2560x1440', '1280x768', '1280x800', '360x720',\n",
       "       '800x600', '375x812', '1024x768', '480x854', '505x505',\n",
       "       '1829x1029', '768x1024', '1708x960', '1024x600', '1280x960',\n",
       "       '412x732', '240x232', '1024x1024', '320x490', '347x347', '357x595',\n",
       "       '320x480', '320x508', '320x401', '450x800', '2560x1080', '320x569',\n",
       "       '414x736', '360x670', '1438x808', '412x846', '360x668', '383x638',\n",
       "       '360x740', '1813x1024', '1920x950', '2048x1152', '540x960',\n",
       "       '320x427', '393x742', '1179x662', '768x1366', '320x521',\n",
       "       '1670x939', '820x615', '1093x615', '320x522', '1455x818',\n",
       "       '1207x678', '1707x960', '480x801', '240x320', '1051x591',\n",
       "       '720x1280', '976x549', '403x671', '406x722', '640x360',\n",
       "       '1920x1200', '1344x840', '962x601', '601x962', '1093x614',\n",
       "       '1024x640', '2133x1200', '1152x720', '320x240', '600x976',\n",
       "       '640x1019', '480x853', '1167x656', '444x788', '1080x1920',\n",
       "       '1524x857', '360x592', '1088x615', '800x480', '601x914',\n",
       "       '1525x858', '400x712', '1600x1200', '1600x1000', '2400x1350',\n",
       "       '834x1112', '1400x1050', '1506x848', '396x660', '320x533',\n",
       "       '992x558', '1082x1922', '515x915', '570x320', '1238x696',\n",
       "       '1067x640', '1295x731', '1188x668', '1518x853', '455x910',\n",
       "       '1012x569', '1324x745', '1680x945', '768x1280', '313x444',\n",
       "       '1440x2560', '1301x731', '377x670', '371x619', '500x710',\n",
       "       '1607x904', '300x391', '537x955', '376x751', '1184x666',\n",
       "       '1024x576', '393x786', '400x640', '432x768', '1603x902',\n",
       "       '3440x1440', '878x1171', '1024x615', '1364x768', '732x412',\n",
       "       '1280x752', '1440x960', '592x360', '424x795', '722x406',\n",
       "       '1138x640', '1371x857', '1360x765', '534x320', '1440x720',\n",
       "       '854x480', '887x666', '801x480', '240x332', '1365x1024', '320x187',\n",
       "       '360x603', '1477x831', '1252x704', '1024x738', '753x424',\n",
       "       '338x563', '846x412', '480x855', '432x719', '240x274', '1951x1097',\n",
       "       '1536x865', '1943x1097', '320x339', '491x873', '883x706',\n",
       "       '1097x617', '487x866', '1067x800', '1920x972', '1098x618',\n",
       "       '1408x792', '3072x1728', '1200x750', '1067x600', '1336x751',\n",
       "       '1169x730', '1242x698', '1440x810', '282x356', '569x320',\n",
       "       '1745x982', '480x764', '517x881', '1432x808', '1821x1024',\n",
       "       '240x231', '320x658', '320x588', '1756x988', '2560x1600',\n",
       "       '361x642', '2021x1137', '720x1440', '800x1232', '962x722',\n",
       "       '320x292', '356x633', '683x911', '427x320', '1700x960', '712x400',\n",
       "       '1600x1080', '1078x808', '2048x1080', '376x668', '1120x700',\n",
       "       '1281x720', '320x450', '1082x2011', '1397x786', '218x208',\n",
       "       '819x614', '2327x982', '393x699', '911x512', '412x823', '300x370',\n",
       "       '640x1067', '1133x640', '2048x864', '320x640', '314x200',\n",
       "       '1120x840', '721x1280', '1024x819', '300x433', '1862x1048',\n",
       "       '320x185', '960x540', '372x661', '600x800', '640x1024', '480x320',\n",
       "       '2102x1182', '391x696', '1921x1081', '1160x870', '768x976',\n",
       "       '1024x552', '375x555', '960x600', '1205x868', '1413x795',\n",
       "       '640x976', '942x530', '1025x576', '582x1035'], dtype=object)"
      ]
     },
     "execution_count": 75,
     "metadata": {},
     "output_type": "execute_result"
    }
   ],
   "source": [
    "X_train.screen_resolution.unique()"
   ]
  },
  {
   "cell_type": "code",
   "execution_count": 137,
   "metadata": {},
   "outputs": [],
   "source": [
    "# def split_screen_res(x):\n",
    "#     if x != \"\":\n",
    "#         split = x.split(\"x\")\n",
    "#         return [split[0], split[1]]\n",
    "#     else:\n",
    "#         return [0,0]\n",
    "    \n",
    "def get_screen_width(x):\n",
    "    if x != \"\":\n",
    "        return x.split(\"x\")[0]\n",
    "    else:\n",
    "        return 0\n",
    "    \n",
    "def get_screen_height(x):\n",
    "    if x != \"\":\n",
    "        return x.split(\"x\")[1]\n",
    "    else:\n",
    "        return 0\n",
    "\n",
    "def process_screen_res(df):\n",
    "    df['screen_resolution'].fillna(\"\", inplace=True)\n",
    "#     df[['screen_width', 'screen_height']] = df['screen_resolution'].apply(lambda x: split_screen_res(x))\n",
    "    df['screen_width'] = df['screen_resolution'].apply(lambda x: get_screen_width(x))\n",
    "    df['screen_height'] = df['screen_resolution'].apply(lambda x: get_screen_height(x))\n",
    "    df.drop('screen_resolution', axis=1, inplace=True)"
   ]
  },
  {
   "cell_type": "code",
   "execution_count": 138,
   "metadata": {},
   "outputs": [],
   "source": [
    "process_screen_res(X_train)"
   ]
  }
 ],
 "metadata": {
  "kernelspec": {
   "display_name": "Python 3",
   "language": "python",
   "name": "python3"
  },
  "language_info": {
   "codemirror_mode": {
    "name": "ipython",
    "version": 3
   },
   "file_extension": ".py",
   "mimetype": "text/x-python",
   "name": "python",
   "nbconvert_exporter": "python",
   "pygments_lexer": "ipython3",
   "version": "3.5.2"
  }
 },
 "nbformat": 4,
 "nbformat_minor": 2
}
