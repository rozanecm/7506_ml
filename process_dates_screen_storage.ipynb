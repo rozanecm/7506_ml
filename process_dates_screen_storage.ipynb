{
 "cells": [
  {
   "cell_type": "markdown",
   "metadata": {},
   "source": [
    "### Dealing with imports..."
   ]
  },
  {
   "cell_type": "code",
   "execution_count": 1,
   "metadata": {},
   "outputs": [],
   "source": [
    "import pandas as pd\n",
    "import numpy as np\n",
    "from sklearn import preprocessing"
   ]
  },
  {
   "cell_type": "markdown",
   "metadata": {},
   "source": [
    "### Loading data..."
   ]
  },
  {
   "cell_type": "code",
   "execution_count": 2,
   "metadata": {},
   "outputs": [],
   "source": [
    "events_df = pd.read_csv('data/events_up_to_01062018.csv', low_memory=False)\n",
    "labels_df = pd.read_csv('data/labels_training_set.csv', low_memory=False)"
   ]
  },
  {
   "cell_type": "code",
   "execution_count": 3,
   "metadata": {},
   "outputs": [],
   "source": [
    "# armo df con registros completos clasificados\n",
    "train_df = events_df.merge(labels_df, on='person', how='right')"
   ]
  },
  {
   "cell_type": "code",
   "execution_count": 4,
   "metadata": {},
   "outputs": [],
   "source": [
    "# armo df con registros a predecir unicamente\n",
    "to_predict = events_df[~events_df['person'].isin(labels_df.person)].copy()"
   ]
  },
  {
   "cell_type": "code",
   "execution_count": 5,
   "metadata": {},
   "outputs": [],
   "source": [
    "# some date processing\n",
    "def date_proc(df):\n",
    "    df['timestamp'] = pd.to_datetime(df['timestamp'])\n",
    "    df['year'] = df['timestamp'].dt.year\n",
    "    df['month'] = df['timestamp'].dt.month\n",
    "    df['day'] = df['timestamp'].dt.day\n",
    "    df['weekday'] = df['timestamp'].dt.day_name()\n",
    "    df['hour'] = df['timestamp'].dt.hour\n",
    "    df['year_month_day'] = df['timestamp'].map(lambda x: str(x.year)+\"/\"+str(x.month)+\"/\"+str(x.day))\n",
    "    df['year_month_day'] = pd.to_datetime(df['year_month_day'])\n",
    "    \n",
    "date_proc(train_df)\n",
    "date_proc(to_predict)"
   ]
  },
  {
   "cell_type": "markdown",
   "metadata": {},
   "source": [
    "Primero hacemos un label encoding con el weekday, luego aplicamos una transfrmacion que contemple la naturaleza ciclica de la semana. Esto ultimo lo aplicaremos tambien al resto de los features ciclicos (como se explica, por ejemplo, aca: https://ianlondon.github.io/blog/encoding-cyclical-features-24hour-time/)"
   ]
  },
  {
   "cell_type": "code",
   "execution_count": 6,
   "metadata": {},
   "outputs": [],
   "source": [
    "weekday_le = preprocessing.LabelEncoder()\n",
    "weekday_le.fit(train_df.weekday)\n",
    "\n",
    "train_df.weekday = weekday_le.transform(train_df.weekday)\n",
    "to_predict.weekday = weekday_le.transform(to_predict.weekday)"
   ]
  },
  {
   "cell_type": "code",
   "execution_count": 7,
   "metadata": {},
   "outputs": [],
   "source": [
    "def month_to_cyclic(df):\n",
    "    df['month_sin'] = df['month'].apply(lambda x: np.sin(2*np.pi*x/12))\n",
    "    df['month_cos'] = df['month'].apply(lambda x: np.cos(2*np.pi*x/12))\n",
    "    df.drop('month', axis=1, inplace=True)\n",
    "    \n",
    "def day_to_cyclic(df):\n",
    "    df['day_sin'] = df['day'].apply(lambda x: np.sin(2*np.pi*x/31))\n",
    "    df['day_cos'] = df['day'].apply(lambda x: np.cos(2*np.pi*x/31))\n",
    "    df.drop('day', axis=1, inplace=True)\n",
    "\n",
    "def weekday_to_cyclic(df):\n",
    "    df['weekday_sin'] = df['weekday'].apply(lambda x: np.sin(2*np.pi*x/7))\n",
    "    df['weekday_cos'] = df['weekday'].apply(lambda x: np.cos(2*np.pi*x/7))\n",
    "    df.drop('weekday', axis=1, inplace=True)\n",
    "\n",
    "def hour_to_cyclic(df):\n",
    "    df['hour_sin'] = df['hour'].apply(lambda x: np.sin(2*np.pi*x/24))\n",
    "    df['hour_cos'] = df['hour'].apply(lambda x: np.cos(2*np.pi*x/24))\n",
    "    df.drop('hour', axis=1, inplace=True)"
   ]
  },
  {
   "cell_type": "code",
   "execution_count": 8,
   "metadata": {},
   "outputs": [],
   "source": [
    "# cell to compare results before & after processing\n",
    "# train_df[['year','month','day','weekday','hour']].head()"
   ]
  },
  {
   "cell_type": "code",
   "execution_count": 9,
   "metadata": {},
   "outputs": [],
   "source": [
    "month_to_cyclic(train_df)\n",
    "day_to_cyclic(train_df)\n",
    "weekday_to_cyclic(train_df)\n",
    "hour_to_cyclic(train_df)\n",
    "\n",
    "month_to_cyclic(to_predict)\n",
    "day_to_cyclic(to_predict)\n",
    "weekday_to_cyclic(to_predict)\n",
    "hour_to_cyclic(to_predict)"
   ]
  },
  {
   "cell_type": "code",
   "execution_count": 10,
   "metadata": {},
   "outputs": [],
   "source": [
    "# train_df[['month_sin','month_cos','day_sin','day_cos','weekday_sin','weekday_cos','hour_sin','hour_cos']].head()"
   ]
  },
  {
   "cell_type": "code",
   "execution_count": 11,
   "metadata": {},
   "outputs": [],
   "source": [
    "# train_df.drop('year_month_day', axis=1, inplace=True)\n",
    "# to_predict.drop('year_month_day', axis=1, inplace=True)"
   ]
  },
  {
   "cell_type": "markdown",
   "metadata": {},
   "source": [
    "## screen_resolution"
   ]
  },
  {
   "cell_type": "code",
   "execution_count": 12,
   "metadata": {},
   "outputs": [],
   "source": [
    "def get_screen_width(x):\n",
    "    if x != \"\":\n",
    "        return int(x.split(\"x\")[0])\n",
    "    else:\n",
    "        return 0\n",
    "    \n",
    "def get_screen_height(x):\n",
    "    if x != \"\":\n",
    "        return int(x.split(\"x\")[1])\n",
    "    else:\n",
    "        return 0\n",
    "\n",
    "def process_screen_res(df):\n",
    "    df['screen_resolution'].fillna(\"\", inplace=True)\n",
    "    df['screen_width'] = df['screen_resolution'].apply(lambda x: get_screen_width(x))\n",
    "    df['screen_height'] = df['screen_resolution'].apply(lambda x: get_screen_height(x))\n",
    "    df.drop('screen_resolution', axis=1, inplace=True)"
   ]
  },
  {
   "cell_type": "code",
   "execution_count": 13,
   "metadata": {},
   "outputs": [],
   "source": [
    "process_screen_res(train_df)\n",
    "process_screen_res(to_predict)"
   ]
  },
  {
   "cell_type": "markdown",
   "metadata": {},
   "source": [
    "## storage"
   ]
  },
  {
   "cell_type": "code",
   "execution_count": 14,
   "metadata": {},
   "outputs": [],
   "source": [
    "def process_storage_string(x):\n",
    "    if pd.isna(x):\n",
    "        return 0\n",
    "    s = x.split(\"GB\")\n",
    "    if len(s) == 2:\n",
    "        # case data in GB\n",
    "        return int(s[0])\n",
    "    else:\n",
    "        # case data in MB\n",
    "        return int(x.split(\"MB\")[0])/1024\n",
    "\n",
    "def storage_process(df):\n",
    "    df.storage = df.storage.apply(lambda x: process_storage_string(x))"
   ]
  },
  {
   "cell_type": "code",
   "execution_count": 15,
   "metadata": {},
   "outputs": [],
   "source": [
    "storage_process(train_df)\n",
    "storage_process(to_predict)"
   ]
  },
  {
   "cell_type": "markdown",
   "metadata": {},
   "source": [
    "## Browser"
   ]
  },
  {
   "cell_type": "code",
   "execution_count": 16,
   "metadata": {},
   "outputs": [
    {
     "data": {
      "text/plain": [
       "array([nan, 'Chrome Mobile 66.0', 'Chrome 66.0', 'Chrome Mobile 65.0',\n",
       "       'Chrome 65.0', 'Chrome Mobile 63.0', 'Chrome 67.0', 'Safari 11.1',\n",
       "       'Chrome 64.0', 'Chrome Mobile 44.0', 'Opera 52.0', 'Opera 51.0',\n",
       "       'Opera 53.0', 'Mobile Safari 10', 'IE Mobile 11',\n",
       "       'Samsung Internet 6.4', 'Chrome Mobile 64.0',\n",
       "       'Samsung Internet 3.3', 'Chrome 63.0', 'Chrome Mobile 40.0',\n",
       "       'Chrome 22.0', 'Chrome Mobile iOS 47.0', 'Chrome Mobile 45.0',\n",
       "       'Chrome Mobile 60.0', 'Chrome Mobile 58.0', 'Facebook 91',\n",
       "       'Facebook 94', 'Chrome Mobile 39', 'Android 4.0', 'Edge 14.14393',\n",
       "       'Edge 17.17134', 'Facebook 165', 'Facebook 173',\n",
       "       'Chrome Mobile 56.0', 'Chrome Mobile iOS 59.0',\n",
       "       'Samsung Internet 2', 'Mobile Safari 11', 'Android 4.1',\n",
       "       'Chrome 44.0', 'Chrome Mobile 55.0', 'Chrome 49.0',\n",
       "       'Chrome Mobile 43.0', 'Firefox 60', 'Chrome 58.0', 'Edge 16.16299',\n",
       "       'Facebook 171', 'Facebook 172', 'Chrome Mobile 53.0',\n",
       "       'Edge 12.10240', 'Chrome 61.0', 'Chrome 43.0',\n",
       "       'Chrome Mobile 28.0', 'Facebook 170', 'Firefox 57',\n",
       "       'Chrome Mobile 34.0', 'Firefox 58', 'Firefox 59', 'Firefox 45',\n",
       "       'Chrome 68.0', 'IE 11', 'Mobile Safari 7', 'Samsung Internet 7',\n",
       "       'Firefox 37', 'Firefox 47', 'Chrome 48.0', 'Chrome Mobile 50.0',\n",
       "       'Android 5.1', 'Chrome 62.0', 'Facebook 169',\n",
       "       'Edge Mobile 15.15254', 'Chrome Mobile 54.0', 'Chrome Mobile 62.0',\n",
       "       'Mobile Safari 9', 'Chrome Mobile 59.0', 'Chrome Mobile 61.0',\n",
       "       'Chrome Mobile 30.0', 'Samsung Internet 6', 'Chrome Mobile 57.0',\n",
       "       'Chrome 51.0', 'Chrome 40.0', 'IE 9', 'Mobile Safari 8',\n",
       "       'Edge 15.15063', 'Facebook 162', 'Facebook 166', 'Facebook 161',\n",
       "       'Chrome Mobile 30', 'Samsung Internet 4', 'Edge Mobile 13.10586',\n",
       "       'Puffin 5.2', 'Samsung Internet 3.5', 'Chrome 30', 'Chrome 34.0',\n",
       "       'Chrome Mobile 46.0', 'Android 4.4', 'Samsung Internet 4.2',\n",
       "       'Chrome 57.14', 'Chrome 58.5', 'Facebook 167', 'Opera Mini 8.0',\n",
       "       'Android 4.3', 'Firefox 52', 'Facebook 156', 'Firefox 53',\n",
       "       'Chrome 59.0', 'Facebook 93', 'Chrome Mobile 38.0',\n",
       "       'Edge Mobile 14.14393', 'Mobile Safari 11.2',\n",
       "       'Samsung Internet 5.4', 'Facebook 154', 'Chrome Mobile 35.0',\n",
       "       'Chrome 41.0', 'Chrome Mobile iOS 63.0', 'Chromium 62.0',\n",
       "       'Chrome Mobile 18.0', 'Firefox 54', 'Chrome Mobile 40',\n",
       "       'Chrome Mobile 39.0', 'Mobile Safari UI/WKWebView 9.3',\n",
       "       'Puffin 7.5', 'Samsung Internet 6.2', 'Chrome 55.0',\n",
       "       'Opera Mini 7.1', 'Opera 42.0', 'Chrome Mobile iOS 66.0',\n",
       "       'Facebook 79', 'Facebook 86', 'Facebook 80', 'Facebook 83',\n",
       "       'Facebook 85', 'Facebook 82', 'Firefox 43', 'Firefox 38',\n",
       "       'Edge Mobile 15.15063', 'Chrome Mobile 36.0', 'Chrome 60.0',\n",
       "       'Chrome 57.0', 'Facebook 96', 'Safari 11.0', 'Firefox Mobile 59',\n",
       "       'Firefox Mobile 60', 'Chrome 27.0', 'Firefox 56', 'Facebook 164',\n",
       "       'Mobile Safari 9.3', 'Safari 5.1', 'Opera 9.80', 'Facebook 92',\n",
       "       'UC Browser 12.5', 'UC Browser 12.2', 'UC Browser 12',\n",
       "       'Facebook 159', 'Firefox 10.0', 'UC Browser 7.0', 'Safari 10.1',\n",
       "       'Facebook 168', 'Chrome Mobile 47.0', 'Facebook 170.1',\n",
       "       'Facebook 163', 'Chrome Mobile 49.0', 'Chrome 58.8', 'Chrome 47.0',\n",
       "       'BlackBerry WebKit 10.3', 'Chrome Mobile 51.0', 'Chrome Mobile 33',\n",
       "       'Chrome Mobile 67.0', 'Chrome 54.0', 'Opera 50.0', 'Opera 49.0',\n",
       "       'UC Browser 11.5', 'Facebook 90', 'Chrome 23.0', 'Firefox 24',\n",
       "       'Android 2.3', 'Chromium 65.0', 'K-Meleon 76',\n",
       "       'Chrome Mobile 52.0', 'Chrome 56.0', 'UC Browser 10.10',\n",
       "       'Android 4.2', 'Facebook 160', 'Firefox 50', 'Firefox 55',\n",
       "       'Mobile Safari 11.1', 'Facebook 158', 'Chrome Mobile iOS 65.0',\n",
       "       'Mobile Safari UI/WKWebView 10.3', 'Facebook 89',\n",
       "       'Samsung Internet 2.1', 'Firefox 51',\n",
       "       'Mobile Safari UI/WKWebView 10.2', 'Chrome Mobile 42.0',\n",
       "       'Mobile Safari 10.3', 'WebKit Nightly 535.20', 'Vivaldi 1.96',\n",
       "       'Chrome 42.0', 'Yandex Browser 18.4', 'Chrome 50.0', 'Firefox 46',\n",
       "       'Firefox Mobile 58', 'Samsung Internet 5', 'Chrome Mobile 31.0',\n",
       "       'Chromium 25.0', 'Chrome 33', 'Chrome Mobile iOS 64.0',\n",
       "       'Safari 8.0', 'Firefox Mobile 47', 'Facebook 81', 'Chrome 52.0',\n",
       "       'Facebook 84', 'Firefox 49', 'Chrome 56.17', 'IE 10', 'Chrome 39',\n",
       "       'Samsung Internet 5.2', 'Firefox 35', 'Chrome 46.0', 'Firefox 44',\n",
       "       'Firefox 31', 'Firefox 42', 'Mobile Safari 10.1', 'Facebook 153',\n",
       "       'Opera Mini 12.0', 'Mobile Safari 4.0', 'Chrome 57.16',\n",
       "       'Facebook 174', 'Facebook 68', 'Facebook 157',\n",
       "       'Chrome Mobile 48.0', 'Facebook 95', 'Chrome 54.8',\n",
       "       'Opera Mini 7.6', 'Opera Mobile 35.0', 'Samsung Internet 1',\n",
       "       'Facebook 88', 'Chrome 57.18', 'Facebook 137', 'Edge 13.10586',\n",
       "       'Pinterest', 'Opera Mini 35.0', 'Chrome 18.0', 'Maxthon 5.2',\n",
       "       'Chrome Mobile iOS 60.0', 'Safari 9.1', 'Mobile Safari 7.1',\n",
       "       'Opera 36.0', 'Opera Mobile 33.0', 'Chrome Mobile iOS 62.0',\n",
       "       'Chrome 58.1', 'Opera Mini 33.0', 'Opera Mini 30.0',\n",
       "       'Opera Mini 5.0', 'Facebook 135', 'Chrome 53.0', 'Chrome 30.0',\n",
       "       'Vivaldi 1.95', 'Facebook 152', 'Opera Mobile 32.0',\n",
       "       'Opera Mini 20.0', 'UC Browser 10.9', 'Firefox 61',\n",
       "       'Firefox Mobile 61', 'Edge 17.17133', 'IE Mobile 10',\n",
       "       'Chromium 58.0', 'Mobile Safari 11.0', 'Firefox 39',\n",
       "       'Opera Mobile 46.1', 'Mobile Safari 7.0', 'Facebook 149',\n",
       "       'Chrome 39.0', 'Facebook 144', 'Safari 10.0', 'Android 3.2',\n",
       "       'Chrome Mobile 33.0', 'Opera 46.0', 'Opera Mobile 45.1',\n",
       "       'Chrome 36.0', 'Chrome 57.9', 'Firefox 41', 'Facebook 87',\n",
       "       'Firefox 48', 'Firefox 23', 'Opera Mini 4.2', 'Chrome 11.0',\n",
       "       'Mobile Safari 5.1', 'Opera 41.0',\n",
       "       'Mobile Safari UI/WKWebView 11.3', 'Safari 4', 'Other',\n",
       "       'Chrome 57.3', 'Chromium 66.0', 'Opera Mini 4.5', 'Opera Mini 7.5',\n",
       "       'Mobile Safari 6', 'Firefox 40', 'Firefox 15.0', 'Chrome 57.12',\n",
       "       'Firefox 28', 'Chrome 45.0', 'Chrome 31.0', 'Safari 3',\n",
       "       'Facebook 147', 'Opera Mini 7.0', 'Safari 10', 'Facebook 97',\n",
       "       'Firefox Mobile 57', 'Chrome 38.0'], dtype=object)"
      ]
     },
     "execution_count": 16,
     "metadata": {},
     "output_type": "execute_result"
    }
   ],
   "source": [
    "train_df.browser_version.unique()"
   ]
  },
  {
   "cell_type": "code",
   "execution_count": 17,
   "metadata": {},
   "outputs": [
    {
     "data": {
      "text/plain": [
       "{'Android',\n",
       " 'BlackBerry',\n",
       " 'Chrome',\n",
       " 'Chromium',\n",
       " 'Edge',\n",
       " 'Facebook',\n",
       " 'Firefox',\n",
       " 'IE',\n",
       " 'K-Meleon',\n",
       " 'Maxthon',\n",
       " 'Mobile',\n",
       " 'Opera',\n",
       " 'Other',\n",
       " 'Pinterest',\n",
       " 'Puffin',\n",
       " 'Safari',\n",
       " 'Samsung',\n",
       " 'UC',\n",
       " 'Vivaldi',\n",
       " 'WebKit',\n",
       " 'Yandex'}"
      ]
     },
     "execution_count": 17,
     "metadata": {},
     "output_type": "execute_result"
    }
   ],
   "source": [
    "# veamos valores unicos si cortamos el primer string nomas\n",
    "new_list=set()\n",
    "for e in list(train_df.browser_version.unique()):\n",
    "    if isinstance(e, str):\n",
    "        new_list.add(e.split()[0])\n",
    "        \n",
    "new_list"
   ]
  },
  {
   "cell_type": "markdown",
   "metadata": {},
   "source": [
    "Que seran...?\n",
    "* Android (no es un browser en si)\n",
    "* K-Meleon\n",
    "* Maxthon\n",
    "* Mobile\n",
    "* Pinterest\n",
    "* Puffin\n",
    "* Samsung\n",
    "* UC\n",
    "* WebKit\n",
    "* Yandex\n",
    "\n",
    "Se confirma que son browsers los siguientes:\n",
    "* Android (no es un browser en si)\n",
    "* K-Meleon (http://kmeleonbrowser.org/)\n",
    "* Maxthon (http://www.maxthon.com/)\n",
    "* Mobile\n",
    "* Pinterest\n",
    "* Puffin (Puffin Browser is a web browser released by CloudMosa for mobile operating systems Android, iOS, Windows and Android TV.)\n",
    "* Samsung (Samsung Internet for Android is a mobile web browser for smartphones and tablets developed by Samsung. It is based on the open-source Chromium project. It is pre-installed on Samsung Galaxy devices.\n",
    "* UC (UC Browser is a web browser developed by the Chinese mobile Internet company UCWeb, which is in turn owned by the Alibaba Group. As of August 2018 it is the third most popular mobile browser in the world by market share, after Google Chrome and Safari.)\n",
    "* WebKit (https://webkit.org/)\n",
    "* Yandex: un browser (https://browser.yandex.com/)\n",
    "\n",
    "Nos queda revisar los siguientes:\n",
    "* Android (no es un browser en si)\n",
    "* Mobile\n",
    "* Pinterest"
   ]
  },
  {
   "cell_type": "code",
   "execution_count": 18,
   "metadata": {},
   "outputs": [
    {
     "name": "stdout",
     "output_type": "stream",
     "text": [
      "Mobile Safari 10\n",
      "Android 4.0\n",
      "Mobile Safari 11\n",
      "Android 4.1\n",
      "Mobile Safari 7\n",
      "Android 5.1\n",
      "Mobile Safari 9\n",
      "Mobile Safari 8\n",
      "Android 4.4\n",
      "Android 4.3\n",
      "Mobile Safari 11.2\n",
      "Mobile Safari UI/WKWebView 9.3\n",
      "Mobile Safari 9.3\n",
      "Android 2.3\n",
      "Android 4.2\n",
      "Mobile Safari 11.1\n",
      "Mobile Safari UI/WKWebView 10.3\n",
      "Mobile Safari UI/WKWebView 10.2\n",
      "Mobile Safari 10.3\n",
      "Mobile Safari 10.1\n",
      "Mobile Safari 4.0\n",
      "Pinterest\n",
      "Mobile Safari 7.1\n",
      "Mobile Safari 11.0\n",
      "Mobile Safari 7.0\n",
      "Android 3.2\n",
      "Mobile Safari 5.1\n",
      "Mobile Safari UI/WKWebView 11.3\n",
      "Mobile Safari 6\n"
     ]
    }
   ],
   "source": [
    "for e in list(train_df.browser_version.unique()):\n",
    "    if isinstance(e,str):\n",
    "        if e.lower().split()[0] in ['android','mobile','pinterest']:\n",
    "            print(e)"
   ]
  },
  {
   "cell_type": "markdown",
   "metadata": {},
   "source": [
    "***\n",
    "O sea que todos los _Mobile_ son `Safari`, todos los _Android_ son meramente eso, Android, y _Pinterest_ aparentemente es un browser tambien (?.\n",
    "\n",
    "Conclusion: puede quedarse solamente el pirmer string del campo para representar el browser, ya que a nadie le interesa la version del mismo.\n",
    "***"
   ]
  },
  {
   "cell_type": "code",
   "execution_count": 19,
   "metadata": {},
   "outputs": [],
   "source": [
    "def proc_browser(x):\n",
    "    if isinstance(x, str):\n",
    "        return x.lower().split()[0]"
   ]
  },
  {
   "cell_type": "code",
   "execution_count": 20,
   "metadata": {},
   "outputs": [],
   "source": [
    "train_df.browser_version = train_df.browser_version.apply(lambda x: proc_browser(x) if isinstance(x,str) else x)\n",
    "to_predict.browser_version = to_predict.browser_version.apply(lambda x: proc_browser(x) if isinstance(x,str) else x)"
   ]
  },
  {
   "cell_type": "markdown",
   "metadata": {},
   "source": [
    "## operating_system_version\n",
    "Se procede analogamente a browser_version"
   ]
  },
  {
   "cell_type": "code",
   "execution_count": 21,
   "metadata": {},
   "outputs": [
    {
     "data": {
      "text/plain": [
       "array([nan, 'Android 5.1.1', 'Android 5.1', 'Windows 10 ', 'Android 7',\n",
       "       'Windows 7 ', 'Android 4.1.2', 'Mac OS X 10.13.4', 'Android 6',\n",
       "       'Android 5.0.2', 'iOS 10.3.3', 'Windows Phone 8.1',\n",
       "       'Android 4.4.4', 'Android 6.0.1', 'Android 7.1.1', 'Android 4.4.2',\n",
       "       'Linux ', 'iOS 7.1.2', 'Windows 8.1 ', 'Android 4.0.4',\n",
       "       'Android 5', 'Android 4.2.2', 'Mac OS X 10.11.6', 'iOS 11.3',\n",
       "       'iOS 11.2.6', 'Windows XP ', 'Ubuntu ', 'Android 4.3',\n",
       "       'Windows 8 ', 'Mac OS X 10.13.3', 'Android 8', 'iOS 10.2.1',\n",
       "       'iOS 11.2.1', 'Android 4.1.1', 'iOS 10.3.2', 'Windows Phone 10',\n",
       "       'iOS 9.3.5', 'iOS 8.1.3', 'iOS 10.2', 'iOS 11.1.1', 'iOS 11.2.2',\n",
       "       'iOS 11.2.5', 'Other ', 'Android 7.1.2', 'Android 5.0.1',\n",
       "       'iOS 11.4', 'iOS 11.0.2', 'iOS 8.1.1', 'iOS 11.1',\n",
       "       'Chrome OS 10452.74', 'Chrome OS 10452.96', 'Chrome OS 10323.67',\n",
       "       'Mac OS X 10.13', 'iOS 11.1.2', 'Android 8.1', 'Mac OS X 10.7.5',\n",
       "       'Windows Vista ', 'Mac OS X 10.12.5', 'Mac OS X 10.12.2',\n",
       "       'BlackBerry OS 10.3.2', 'Mac OS X 10.13.1', 'iOS 11.0.3',\n",
       "       'BlackBerry OS 10.3.3', 'Mac OS X 10.12', 'FreeBSD ',\n",
       "       'Android 2.3.6', 'Android 3.2', 'Chrome OS 10452.85',\n",
       "       'Mac OS X 10.13.2', 'Mac OS X 10.12.6', 'iOS 11.2',\n",
       "       'Mac OS X 10.10.5', 'Android 4.0.3', 'Mac OS X 10.10.4',\n",
       "       'Android 4.4', 'iOS 11', 'Mac OS X 10.11.5', 'iOS 10.1.1',\n",
       "       'Android ', 'iOS 3.2', 'iOS 7.1.1', 'Mac OS X 10.9.5',\n",
       "       'Mac OS X 10.9', 'Tizen 2.3', 'Mac OS X 10.11', 'Windows RT ',\n",
       "       'Android 6.1', 'Chrome OS 10032.86', 'Mac OS X 10.11.4',\n",
       "       'iOS 10.0.2', 'iOS 11.0.1', 'Windows Phone 8', 'iOS 9.3.2',\n",
       "       'Mac OS X 10.12.4', 'iOS 8.1', 'iOS 7.0.3', 'Android 7.1',\n",
       "       'Android 4.4.3', 'Android 3.2.2', 'iOS 5.0.1', 'iOS 10.3.1',\n",
       "       'iOS 9.2', 'Tizen 3', 'Mac OS X 10.8.5', 'iOS 5', 'iOS 6.1.2',\n",
       "       'iOS 9.2.1', 'iOS 9.3.4'], dtype=object)"
      ]
     },
     "execution_count": 21,
     "metadata": {},
     "output_type": "execute_result"
    }
   ],
   "source": [
    "train_df.operating_system_version.unique()"
   ]
  },
  {
   "cell_type": "code",
   "execution_count": 22,
   "metadata": {},
   "outputs": [
    {
     "data": {
      "text/plain": [
       "{'Android',\n",
       " 'BlackBerry',\n",
       " 'Chrome',\n",
       " 'FreeBSD',\n",
       " 'Linux',\n",
       " 'Mac',\n",
       " 'Other',\n",
       " 'Tizen',\n",
       " 'Ubuntu',\n",
       " 'Windows',\n",
       " 'iOS'}"
      ]
     },
     "execution_count": 22,
     "metadata": {},
     "output_type": "execute_result"
    }
   ],
   "source": [
    "# veamos valores unicos si cortamos el primer string nomas\n",
    "new_list=set()\n",
    "for e in list(train_df.operating_system_version.unique()):\n",
    "    if isinstance(e, str):   # filtro los nan\n",
    "        new_list.add(e.split()[0])\n",
    "        \n",
    "new_list"
   ]
  },
  {
   "cell_type": "code",
   "execution_count": 23,
   "metadata": {},
   "outputs": [],
   "source": [
    "def proc_os(x):\n",
    "    if isinstance(x, str):\n",
    "        return x.lower().split()[0]"
   ]
  },
  {
   "cell_type": "code",
   "execution_count": 24,
   "metadata": {},
   "outputs": [],
   "source": [
    "train_df.operating_system_version = train_df.operating_system_version.apply(lambda x: proc_os(x) if isinstance(x,str) else x)\n",
    "to_predict.operating_system_version = to_predict.operating_system_version.apply(lambda x: proc_os(x) if isinstance(x,str) else x)"
   ]
  },
  {
   "cell_type": "markdown",
   "metadata": {},
   "source": [
    "## device_type\n",
    "Se procede analogamente a browser_version"
   ]
  },
  {
   "cell_type": "code",
   "execution_count": 28,
   "metadata": {},
   "outputs": [
    {
     "data": {
      "text/plain": [
       "array([nan, 'Smartphone', 'Computer', 'Tablet', 'Unknown'], dtype=object)"
      ]
     },
     "execution_count": 28,
     "metadata": {},
     "output_type": "execute_result"
    }
   ],
   "source": [
    "train_df.device_type.unique()"
   ]
  },
  {
   "cell_type": "markdown",
   "metadata": {},
   "source": [
    "Como son campos de una sola palabra, no tiene sentido hacer lo que se hizo con los anteriores casos."
   ]
  },
  {
   "cell_type": "markdown",
   "metadata": {},
   "source": [
    "# Final export\n",
    "Uncommenct to save to `.csv`s"
   ]
  },
  {
   "cell_type": "code",
   "execution_count": 55,
   "metadata": {},
   "outputs": [],
   "source": [
    "train_df.to_csv('data/train_df_processed_screenResol_storage_dates.csv', index=False)\n",
    "to_predict.to_csv('data/to_predict_processed_screenResol_storage_dates.csv', index=False)"
   ]
  }
 ],
 "metadata": {
  "kernelspec": {
   "display_name": "Python 3",
   "language": "python",
   "name": "python3"
  },
  "language_info": {
   "codemirror_mode": {
    "name": "ipython",
    "version": 3
   },
   "file_extension": ".py",
   "mimetype": "text/x-python",
   "name": "python",
   "nbconvert_exporter": "python",
   "pygments_lexer": "ipython3",
   "version": "3.5.2"
  }
 },
 "nbformat": 4,
 "nbformat_minor": 2
}
