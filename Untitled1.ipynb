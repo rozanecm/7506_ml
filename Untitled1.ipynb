{
 "cells": [
  {
   "cell_type": "code",
   "execution_count": 42,
   "metadata": {},
   "outputs": [],
   "source": [
    "import pandas as pd\n",
    "import numpy as np\n",
    "from sklearn.model_selection import train_test_split\n",
    "# Import Area Under the Receiver Operating Characteristic Curve metric to evaluate results\n",
    "from sklearn.metrics import roc_auc_score\n",
    "from sklearn import preprocessing"
   ]
  },
  {
   "cell_type": "code",
   "execution_count": 43,
   "metadata": {},
   "outputs": [],
   "source": [
    "events_df = pd.read_csv('data/events_up_to_01062018.csv', low_memory=False)\n",
    "labels_df = pd.read_csv('data/labels_training_set.csv', low_memory=False)"
   ]
  },
  {
   "cell_type": "code",
   "execution_count": 44,
   "metadata": {},
   "outputs": [],
   "source": [
    "# armo df con registros para entrenamiento\n",
    "train_df = events_df.merge(labels_df, on='person', how='right')"
   ]
  },
  {
   "cell_type": "code",
   "execution_count": 45,
   "metadata": {},
   "outputs": [],
   "source": [
    "# armo df con registros a predecir unicamente\n",
    "test = events_df[~events_df.person.isin(labels_df.person)]"
   ]
  },
  {
   "cell_type": "code",
   "execution_count": 46,
   "metadata": {},
   "outputs": [],
   "source": [
    "test_size = 0.33\n",
    "# define a seed, so same experiments output same results every time\n",
    "seed = 12"
   ]
  },
  {
   "cell_type": "code",
   "execution_count": 47,
   "metadata": {},
   "outputs": [],
   "source": [
    "# realizo train_test_split\n",
    "X_train, X_test, y_train, y_test = train_test_split(train_df.loc[:, train_df.columns != 'label'], \n",
    "                                                    train_df.label, \n",
    "                                                    test_size=test_size, \n",
    "                                                    random_state=seed)"
   ]
  },
  {
   "cell_type": "code",
   "execution_count": 48,
   "metadata": {},
   "outputs": [],
   "source": [
    "# some date processing\n",
    "def date_proc(df):\n",
    "    df['timestamp'] = pd.to_datetime(df['timestamp'])\n",
    "    df['year'] = df['timestamp'].dt.year\n",
    "    df['month'] = df['timestamp'].dt.month\n",
    "    df['day'] = df['timestamp'].dt.day\n",
    "    df['weekday'] = df['timestamp'].dt.day_name()\n",
    "    df['hour'] = df['timestamp'].dt.hour\n",
    "    df['year_month_day'] = df['timestamp'].map(lambda x: str(x.year)+\"/\"+str(x.month)+\"/\"+str(x.day))\n",
    "    df['year_month_day'] = pd.to_datetime(df['year_month_day'])\n",
    "    \n",
    "date_proc(X_train)\n",
    "date_proc(X_test)"
   ]
  },
  {
   "cell_type": "code",
   "execution_count": 49,
   "metadata": {},
   "outputs": [
    {
     "data": {
      "text/plain": [
       "timestamp                   datetime64[ns]\n",
       "event                               object\n",
       "person                              object\n",
       "url                                 object\n",
       "sku                                float64\n",
       "model                               object\n",
       "condition                           object\n",
       "storage                             object\n",
       "color                               object\n",
       "skus                                object\n",
       "search_term                         object\n",
       "staticpage                          object\n",
       "campaign_source                     object\n",
       "search_engine                       object\n",
       "channel                             object\n",
       "new_vs_returning                    object\n",
       "city                                object\n",
       "region                              object\n",
       "country                             object\n",
       "device_type                         object\n",
       "screen_resolution                   object\n",
       "operating_system_version            object\n",
       "browser_version                     object\n",
       "year                                 int64\n",
       "month                                int64\n",
       "day                                  int64\n",
       "weekday                             object\n",
       "hour                                 int64\n",
       "year_month_day              datetime64[ns]\n",
       "dtype: object"
      ]
     },
     "execution_count": 49,
     "metadata": {},
     "output_type": "execute_result"
    }
   ],
   "source": [
    "X_train.dtypes"
   ]
  },
  {
   "cell_type": "markdown",
   "metadata": {},
   "source": [
    "Primero hacemos un label encoding con el weekday, luego aplicamos una transfrmacion que contemple la naturaleza ciclica de la semana. Esto ultimo lo aplicaremos tambien al resto de los features ciclicos (como se explica, por ejemplo, aca: https://ianlondon.github.io/blog/encoding-cyclical-features-24hour-time/)"
   ]
  },
  {
   "cell_type": "code",
   "execution_count": 50,
   "metadata": {},
   "outputs": [],
   "source": [
    "weekday_le = preprocessing.LabelEncoder()\n",
    "weekday_le.fit(X_train.weekday)\n",
    "X_train.weekday = weekday_le.transform(X_train.weekday)"
   ]
  },
  {
   "cell_type": "code",
   "execution_count": 62,
   "metadata": {},
   "outputs": [],
   "source": [
    "def month_to_cyclic(df):\n",
    "    df['month_sin'] = df['month'].apply(lambda x: np.sin(2*np.pi*x/12))\n",
    "    df['month_cos'] = df['month'].apply(lambda x: np.cos(2*np.pi*x/12))\n",
    "    df.drop('month', axis=1, inplace=True)\n",
    "    \n",
    "def day_to_cyclic(df):\n",
    "    df['day_sin'] = df['day'].apply(lambda x: np.sin(2*np.pi*x/31))\n",
    "    df['day_cos'] = df['day'].apply(lambda x: np.cos(2*np.pi*x/31))\n",
    "    df.drop('day', axis=1, inplace=True)\n",
    "\n",
    "def weekday_to_cyclic(df):\n",
    "    df['weekday_sin'] = df['weekday'].apply(lambda x: np.sin(2*np.pi*x/7))\n",
    "    df['weekday_cos'] = df['weekday'].apply(lambda x: np.cos(2*np.pi*x/7))\n",
    "    df.drop('weekday', axis=1, inplace=True)\n",
    "\n",
    "def hour_to_cyclic(df):\n",
    "    df['hour_sin'] = df['hour'].apply(lambda x: np.sin(2*np.pi*x/24))\n",
    "    df['hour_cos'] = df['hour'].apply(lambda x: np.cos(2*np.pi*x/24))\n",
    "    df.drop('hour', axis=1, inplace=True)"
   ]
  },
  {
   "cell_type": "code",
   "execution_count": 52,
   "metadata": {},
   "outputs": [
    {
     "data": {
      "text/html": [
       "<div>\n",
       "<style scoped>\n",
       "    .dataframe tbody tr th:only-of-type {\n",
       "        vertical-align: middle;\n",
       "    }\n",
       "\n",
       "    .dataframe tbody tr th {\n",
       "        vertical-align: top;\n",
       "    }\n",
       "\n",
       "    .dataframe thead th {\n",
       "        text-align: right;\n",
       "    }\n",
       "</style>\n",
       "<table border=\"1\" class=\"dataframe\">\n",
       "  <thead>\n",
       "    <tr style=\"text-align: right;\">\n",
       "      <th></th>\n",
       "      <th>year</th>\n",
       "      <th>month</th>\n",
       "      <th>day</th>\n",
       "      <th>weekday</th>\n",
       "      <th>hour</th>\n",
       "    </tr>\n",
       "  </thead>\n",
       "  <tbody>\n",
       "    <tr>\n",
       "      <th>654168</th>\n",
       "      <td>2018</td>\n",
       "      <td>5</td>\n",
       "      <td>22</td>\n",
       "      <td>5</td>\n",
       "      <td>17</td>\n",
       "    </tr>\n",
       "    <tr>\n",
       "      <th>755549</th>\n",
       "      <td>2018</td>\n",
       "      <td>5</td>\n",
       "      <td>22</td>\n",
       "      <td>5</td>\n",
       "      <td>18</td>\n",
       "    </tr>\n",
       "    <tr>\n",
       "      <th>705141</th>\n",
       "      <td>2018</td>\n",
       "      <td>5</td>\n",
       "      <td>18</td>\n",
       "      <td>0</td>\n",
       "      <td>4</td>\n",
       "    </tr>\n",
       "    <tr>\n",
       "      <th>621828</th>\n",
       "      <td>2018</td>\n",
       "      <td>5</td>\n",
       "      <td>16</td>\n",
       "      <td>6</td>\n",
       "      <td>20</td>\n",
       "    </tr>\n",
       "    <tr>\n",
       "      <th>592612</th>\n",
       "      <td>2018</td>\n",
       "      <td>5</td>\n",
       "      <td>17</td>\n",
       "      <td>4</td>\n",
       "      <td>13</td>\n",
       "    </tr>\n",
       "  </tbody>\n",
       "</table>\n",
       "</div>"
      ],
      "text/plain": [
       "        year  month  day  weekday  hour\n",
       "654168  2018      5   22        5    17\n",
       "755549  2018      5   22        5    18\n",
       "705141  2018      5   18        0     4\n",
       "621828  2018      5   16        6    20\n",
       "592612  2018      5   17        4    13"
      ]
     },
     "execution_count": 52,
     "metadata": {},
     "output_type": "execute_result"
    }
   ],
   "source": [
    "X_train[['year','month','day','weekday','hour']].head()"
   ]
  },
  {
   "cell_type": "code",
   "execution_count": 63,
   "metadata": {},
   "outputs": [],
   "source": [
    "month_to_cyclic(X_train)\n",
    "day_to_cyclic(X_train)\n",
    "weekday_to_cyclic(X_train)\n",
    "hour_to_cyclic(X_train)"
   ]
  },
  {
   "cell_type": "code",
   "execution_count": 61,
   "metadata": {},
   "outputs": [
    {
     "data": {
      "text/html": [
       "<div>\n",
       "<style scoped>\n",
       "    .dataframe tbody tr th:only-of-type {\n",
       "        vertical-align: middle;\n",
       "    }\n",
       "\n",
       "    .dataframe tbody tr th {\n",
       "        vertical-align: top;\n",
       "    }\n",
       "\n",
       "    .dataframe thead th {\n",
       "        text-align: right;\n",
       "    }\n",
       "</style>\n",
       "<table border=\"1\" class=\"dataframe\">\n",
       "  <thead>\n",
       "    <tr style=\"text-align: right;\">\n",
       "      <th></th>\n",
       "      <th>month_sin</th>\n",
       "      <th>month_cos</th>\n",
       "      <th>day_sin</th>\n",
       "      <th>day_cos</th>\n",
       "      <th>weekday_sin</th>\n",
       "      <th>weekday_cos</th>\n",
       "      <th>hour_sin</th>\n",
       "      <th>hour_cos</th>\n",
       "    </tr>\n",
       "  </thead>\n",
       "  <tbody>\n",
       "    <tr>\n",
       "      <th>654168</th>\n",
       "      <td>0.5</td>\n",
       "      <td>-0.866025</td>\n",
       "      <td>-0.968077</td>\n",
       "      <td>-0.250653</td>\n",
       "      <td>-0.974928</td>\n",
       "      <td>-0.222521</td>\n",
       "      <td>-0.965926</td>\n",
       "      <td>-2.588190e-01</td>\n",
       "    </tr>\n",
       "    <tr>\n",
       "      <th>755549</th>\n",
       "      <td>0.5</td>\n",
       "      <td>-0.866025</td>\n",
       "      <td>-0.968077</td>\n",
       "      <td>-0.250653</td>\n",
       "      <td>-0.974928</td>\n",
       "      <td>-0.222521</td>\n",
       "      <td>-1.000000</td>\n",
       "      <td>-1.836970e-16</td>\n",
       "    </tr>\n",
       "    <tr>\n",
       "      <th>705141</th>\n",
       "      <td>0.5</td>\n",
       "      <td>-0.866025</td>\n",
       "      <td>-0.485302</td>\n",
       "      <td>-0.874347</td>\n",
       "      <td>0.000000</td>\n",
       "      <td>1.000000</td>\n",
       "      <td>0.866025</td>\n",
       "      <td>5.000000e-01</td>\n",
       "    </tr>\n",
       "    <tr>\n",
       "      <th>621828</th>\n",
       "      <td>0.5</td>\n",
       "      <td>-0.866025</td>\n",
       "      <td>-0.101168</td>\n",
       "      <td>-0.994869</td>\n",
       "      <td>-0.781831</td>\n",
       "      <td>0.623490</td>\n",
       "      <td>-0.866025</td>\n",
       "      <td>5.000000e-01</td>\n",
       "    </tr>\n",
       "    <tr>\n",
       "      <th>592612</th>\n",
       "      <td>0.5</td>\n",
       "      <td>-0.866025</td>\n",
       "      <td>-0.299363</td>\n",
       "      <td>-0.954139</td>\n",
       "      <td>-0.433884</td>\n",
       "      <td>-0.900969</td>\n",
       "      <td>-0.258819</td>\n",
       "      <td>-9.659258e-01</td>\n",
       "    </tr>\n",
       "  </tbody>\n",
       "</table>\n",
       "</div>"
      ],
      "text/plain": [
       "        month_sin  month_cos   day_sin   day_cos  weekday_sin  weekday_cos  \\\n",
       "654168        0.5  -0.866025 -0.968077 -0.250653    -0.974928    -0.222521   \n",
       "755549        0.5  -0.866025 -0.968077 -0.250653    -0.974928    -0.222521   \n",
       "705141        0.5  -0.866025 -0.485302 -0.874347     0.000000     1.000000   \n",
       "621828        0.5  -0.866025 -0.101168 -0.994869    -0.781831     0.623490   \n",
       "592612        0.5  -0.866025 -0.299363 -0.954139    -0.433884    -0.900969   \n",
       "\n",
       "        hour_sin      hour_cos  \n",
       "654168 -0.965926 -2.588190e-01  \n",
       "755549 -1.000000 -1.836970e-16  \n",
       "705141  0.866025  5.000000e-01  \n",
       "621828 -0.866025  5.000000e-01  \n",
       "592612 -0.258819 -9.659258e-01  "
      ]
     },
     "execution_count": 61,
     "metadata": {},
     "output_type": "execute_result"
    }
   ],
   "source": [
    "X_train[['month_sin','month_cos','day_sin','day_cos','weekday_sin','weekday_cos','hour_sin','hour_cos']].head()"
   ]
  },
  {
   "cell_type": "code",
   "execution_count": 66,
   "metadata": {},
   "outputs": [],
   "source": [
    "X_train.drop('year_month_day', axis=1, inplace=True)"
   ]
  },
  {
   "cell_type": "code",
   "execution_count": 67,
   "metadata": {},
   "outputs": [
    {
     "data": {
      "text/plain": [
       "timestamp                   datetime64[ns]\n",
       "event                               object\n",
       "person                              object\n",
       "url                                 object\n",
       "sku                                float64\n",
       "model                               object\n",
       "condition                           object\n",
       "storage                             object\n",
       "color                               object\n",
       "skus                                object\n",
       "search_term                         object\n",
       "staticpage                          object\n",
       "campaign_source                     object\n",
       "search_engine                       object\n",
       "channel                             object\n",
       "new_vs_returning                    object\n",
       "city                                object\n",
       "region                              object\n",
       "country                             object\n",
       "device_type                         object\n",
       "screen_resolution                   object\n",
       "operating_system_version            object\n",
       "browser_version                     object\n",
       "year                                 int64\n",
       "month_sin                          float64\n",
       "month_cos                          float64\n",
       "day_sin                            float64\n",
       "day_cos                            float64\n",
       "weekday_sin                        float64\n",
       "weekday_cos                        float64\n",
       "hour_sin                           float64\n",
       "hour_cos                           float64\n",
       "dtype: object"
      ]
     },
     "execution_count": 67,
     "metadata": {},
     "output_type": "execute_result"
    }
   ],
   "source": [
    "X_train.dtypes"
   ]
  }
 ],
 "metadata": {
  "kernelspec": {
   "display_name": "Python 3",
   "language": "python",
   "name": "python3"
  },
  "language_info": {
   "codemirror_mode": {
    "name": "ipython",
    "version": 3
   },
   "file_extension": ".py",
   "mimetype": "text/x-python",
   "name": "python",
   "nbconvert_exporter": "python",
   "pygments_lexer": "ipython3",
   "version": "3.5.2"
  }
 },
 "nbformat": 4,
 "nbformat_minor": 2
}
